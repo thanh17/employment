{
 "cells": [
  {
   "cell_type": "code",
   "execution_count": 25,
   "metadata": {},
   "outputs": [],
   "source": [
    "import pandas as pd\n",
    "import random as rnd \n",
    "import mysql.connector\n",
    "from mysql.connector import Error\n",
    "import plotly\n",
    "import json\n",
    "import csv\n",
    "import seaborn as sns\n",
    "import matplotlib.pyplot as plt\n",
    "import numpy as np\n",
    "import pymysql\n",
    "import plotly.express as px\n",
    "import plotly.graph_objects as go\n",
    "from sqlalchemy import create_engine\n",
    "import networkx as nx\n",
    "from networkx_viewer import Viewer\n",
    "from functools import reduce\n",
    "from scipy.spatial.distance import pdist, squareform, cdist\n",
    "import jgraph\n",
    "from cyjupyter import Cytoscape\n",
    "from scipy.stats import kendalltau\n",
    "from scipy.stats import weightedtau\n",
    "from sklearn.linear_model import LinearRegression\n",
    "from sklearn.linear_model import SGDClassifier\n",
    "from sklearn.linear_model import LogisticRegression\n",
    "from sklearn.model_selection import train_test_split\n",
    "import statsmodels.api as sm\n",
    "import seaborn as sn"
   ]
  },
  {
   "cell_type": "code",
   "execution_count": 26,
   "metadata": {},
   "outputs": [],
   "source": [
    "connection = mysql.connector.connect(host='127.0.0.1',\n",
    "                                         database='employment',\n",
    "                                         user='root',\n",
    "                                         password='thanhn123')"
   ]
  },
  {
   "cell_type": "code",
   "execution_count": 27,
   "metadata": {},
   "outputs": [],
   "source": [
    "def get_data(connection, descriptor_domain,LV_only = False, filt = False):\n",
    "    '''\n",
    "    Return df in the SOCs-decriptor format of a specific domain \n",
    "    descriptor_domeain:\n",
    "        work context\n",
    "        knowledge\n",
    "        skills\n",
    "        gwas\n",
    "        job_zones, filter\n",
    "        Abilities, filter\n",
    "    \n",
    "    '''\n",
    "    df= pd.DataFrame(data=None)\n",
    "    if descriptor_domain == 'work_context':\n",
    "        df= pd.read_sql('''\n",
    "            SELECT title, element_name, data_value FROM employment.work_context\n",
    "            LEFT JOIN employment.content_model_reference USING (element_id) \n",
    "            LEFT JOIN employment.occupation_data USING (onetsoc_code)\n",
    "            WHERE scale_id LIKE 'CX';''', con = connection)\n",
    "        df = df.reset_index().pivot(index = 'title', columns = 'element_name', values = 'data_value')\n",
    "    elif descriptor_domain == 'job_zones':\n",
    "        if filt:\n",
    "            df= pd.read_sql('''\n",
    "                SELECT title,job_zone FROM employment.job_zones\n",
    "                LEFT JOIN employment.occupation_data USING (onetsoc_code); ''', con = connection)\n",
    "            df = df[df['job_zone'].isin(val)]\n",
    "        else:\n",
    "            df= pd.read_sql('''\n",
    "                SELECT title,job_zone FROM employment.job_zones\n",
    "                LEFT JOIN employment.occupation_data USING (onetsoc_code);''', con = connection)\n",
    "    elif descriptor_domain == 'abilities':\n",
    "        if filt:\n",
    "#             df= pd.read_sql('''\n",
    "#             SELECT title, element_name, element_id,data_value FROM employment.''' + descriptor_domain + '''\n",
    "#             LEFT JOIN employment.content_model_reference USING (element_id) \n",
    "#             LEFT JOIN employment.occupation_data USING (onetsoc_code); ''', con = connection)\n",
    "#             df = df[df['element_id'].contains(val)]\n",
    "            df= pd.read_sql('''\n",
    "            SELECT title, element_name, data_value FROM employment.''' + descriptor_domain + '''\n",
    "            LEFT JOIN employment.content_model_reference USING (element_id) \n",
    "            LEFT JOIN employment.occupation_data USING (onetsoc_code)\n",
    "            WHERE element_id LIKE\\''''+ val +'''%\\'; ''', con = connection)\n",
    "            \n",
    "        else:\n",
    "            df= pd.read_sql('''\n",
    "            SELECT title, element_name,element_id, data_value FROM employment.''' + descriptor_domain + '''\n",
    "            LEFT JOIN employment.content_model_reference USING (element_id) \n",
    "            LEFT JOIN employment.occupation_data USING (onetsoc_code);''', con = connection)\n",
    "        df = df.groupby(by=['title','element_name'])['data_value'].mean()\n",
    "        df = df.reset_index().pivot(index = 'title', columns = 'element_name', values = 'data_value')\n",
    "    elif descriptor_domain == 'work_values':\n",
    "        df= pd.read_sql('''\n",
    "            SELECT title, element_name, data_value FROM employment.work_values\n",
    "            LEFT JOIN employment.content_model_reference USING (element_id) \n",
    "            LEFT JOIN employment.occupation_data USING (onetsoc_code)\n",
    "            WHERE scale_id LIKE 'EX';''', con = connection)\n",
    "        df = df.reset_index().pivot(index = 'title', columns = 'element_name', values = 'data_value')\n",
    "    elif descriptor_domain == 'interests':\n",
    "        df= pd.read_sql('''\n",
    "            SELECT title, element_name, data_value FROM employment.interests\n",
    "            LEFT JOIN employment.content_model_reference USING (element_id) \n",
    "            LEFT JOIN employment.occupation_data USING (onetsoc_code)\n",
    "            WHERE scale_id LIKE 'OI';''', con = connection)\n",
    "        df = df.reset_index().pivot(index = 'title', columns = 'element_name', values = 'data_value')\n",
    "    elif descriptor_domain == 'work_styles':\n",
    "        df= pd.read_sql('''\n",
    "            SELECT title, element_name, data_value FROM employment.work_styles\n",
    "            LEFT JOIN employment.content_model_reference USING (element_id) \n",
    "            LEFT JOIN employment.occupation_data USING (onetsoc_code)\n",
    "            WHERE scale_id LIKE 'IM';''', con = connection)\n",
    "        df = df.reset_index().pivot(index = 'title', columns = 'element_name', values = 'data_value')\n",
    "    elif descriptor_domain == 'name':\n",
    "        df= pd.read_sql('''\n",
    "            SELECT * FROM employment.occupation_data;''', con = connection)\n",
    "    else:\n",
    "        df= pd.read_sql('''\n",
    "            SELECT title, element_name, data_value FROM employment.''' + descriptor_domain + '''\n",
    "            LEFT JOIN employment.content_model_reference USING (element_id) \n",
    "            LEFT JOIN employment.occupation_data USING (onetsoc_code);''', con = connection)\n",
    "        if LV_only:\n",
    "            df= pd.read_sql('''\n",
    "            SELECT title, element_name, data_value FROM employment.''' + descriptor_domain + '''\n",
    "            LEFT JOIN employment.content_model_reference USING (element_id) \n",
    "            LEFT JOIN employment.occupation_data USING (onetsoc_code)\n",
    "            WHERE scale_id LIKE \\\"LV\\\";''', con = connection)\n",
    "        df = df.groupby(by=['title','element_name'])['data_value'].mean()\n",
    "        df = df.reset_index().pivot(index = 'title', columns = 'element_name', values = 'data_value')\n",
    "    return df"
   ]
  },
  {
   "cell_type": "code",
   "execution_count": 28,
   "metadata": {},
   "outputs": [
    {
     "data": {
      "text/html": [
       "<div>\n",
       "<style scoped>\n",
       "    .dataframe tbody tr th:only-of-type {\n",
       "        vertical-align: middle;\n",
       "    }\n",
       "\n",
       "    .dataframe tbody tr th {\n",
       "        vertical-align: top;\n",
       "    }\n",
       "\n",
       "    .dataframe thead th {\n",
       "        text-align: right;\n",
       "    }\n",
       "</style>\n",
       "<table border=\"1\" class=\"dataframe\">\n",
       "  <thead>\n",
       "    <tr style=\"text-align: right;\">\n",
       "      <th></th>\n",
       "      <th>descriptor_domain</th>\n",
       "      <th>starter</th>\n",
       "      <th>change</th>\n",
       "    </tr>\n",
       "  </thead>\n",
       "  <tbody>\n",
       "    <tr>\n",
       "      <th>0</th>\n",
       "      <td>abilites</td>\n",
       "      <td>IM,LV</td>\n",
       "      <td>None</td>\n",
       "    </tr>\n",
       "    <tr>\n",
       "      <th>1</th>\n",
       "      <td>work_context</td>\n",
       "      <td>None</td>\n",
       "      <td>CX</td>\n",
       "    </tr>\n",
       "    <tr>\n",
       "      <th>2</th>\n",
       "      <td>interests</td>\n",
       "      <td>OI</td>\n",
       "      <td>None</td>\n",
       "    </tr>\n",
       "    <tr>\n",
       "      <th>3</th>\n",
       "      <td>knowledge</td>\n",
       "      <td>None</td>\n",
       "      <td>IM, LV</td>\n",
       "    </tr>\n",
       "    <tr>\n",
       "      <th>4</th>\n",
       "      <td>skills</td>\n",
       "      <td>None</td>\n",
       "      <td>IM, LV</td>\n",
       "    </tr>\n",
       "    <tr>\n",
       "      <th>5</th>\n",
       "      <td>work_styles</td>\n",
       "      <td>IM</td>\n",
       "      <td>None</td>\n",
       "    </tr>\n",
       "    <tr>\n",
       "      <th>6</th>\n",
       "      <td>work_values</td>\n",
       "      <td>EX</td>\n",
       "      <td>None</td>\n",
       "    </tr>\n",
       "    <tr>\n",
       "      <th>7</th>\n",
       "      <td>gwas</td>\n",
       "      <td>None</td>\n",
       "      <td>IM, LV</td>\n",
       "    </tr>\n",
       "    <tr>\n",
       "      <th>8</th>\n",
       "      <td>job_zones</td>\n",
       "      <td>None</td>\n",
       "      <td>JZ</td>\n",
       "    </tr>\n",
       "  </tbody>\n",
       "</table>\n",
       "</div>"
      ],
      "text/plain": [
       "  descriptor_domain starter  change\n",
       "0          abilites   IM,LV    None\n",
       "1      work_context    None      CX\n",
       "2         interests      OI    None\n",
       "3         knowledge    None  IM, LV\n",
       "4            skills    None  IM, LV\n",
       "5       work_styles      IM    None\n",
       "6       work_values      EX    None\n",
       "7              gwas    None  IM, LV\n",
       "8         job_zones    None      JZ"
      ]
     },
     "execution_count": 28,
     "metadata": {},
     "output_type": "execute_result"
    }
   ],
   "source": [
    "info_dict = {'descriptor_domain':['abilites','work_context','interests',\n",
    "                               'knowledge','skills','work_styles','work_values','gwas','job_zones'],\n",
    "            'starter':['IM,LV',None,'OI',None,None,'IM','EX',None,None],\n",
    "            'change':[None,'CX',None,'IM, LV','IM, LV',None,None,'IM, LV','JZ']}\n",
    "df_info = pd.DataFrame(data = info_dict)\n",
    "df_info"
   ]
  },
  {
   "cell_type": "code",
   "execution_count": 156,
   "metadata": {},
   "outputs": [],
   "source": [
    "df_ab = get_data(connection,'abilities')\n",
    "df_in = get_data(connection,'interests')\n",
    "df_ws = get_data(connection,'work_styles')\n",
    "df_wv = get_data(connection, 'work_values')\n",
    "df_wc = get_data(connection,'work_context')\n",
    "df_knowledge = get_data(connection,'knowledge')\n",
    "df_gwas = get_data(connection,'work_activities')\n",
    "df_jz = get_data(connection,'job_zones')\n",
    "df_jz = df_jz[df_jz['title'] != 'Legislators']\n",
    "df_skills = get_data(connection,'skills')"
   ]
  },
  {
   "cell_type": "code",
   "execution_count": null,
   "metadata": {},
   "outputs": [],
   "source": []
  },
  {
   "cell_type": "code",
   "execution_count": 157,
   "metadata": {
    "scrolled": true
   },
   "outputs": [],
   "source": [
    "# distance_table(df_skills)"
   ]
  },
  {
   "cell_type": "code",
   "execution_count": 176,
   "metadata": {
    "scrolled": true
   },
   "outputs": [],
   "source": [
    "def exact_difference(df):\n",
    "    '''\n",
    "    return adjacency matrix difference. Difference is based on column - row\n",
    "    '''\n",
    "    arr =df.values - df.values[:, None]\n",
    "    arr = np.mean(arr,axis =2)\n",
    "    new_df = pd.concat((df.reset_index()['title'], pd.DataFrame(arr, columns=df.reset_index()['title'])), axis=1)\n",
    "    return new_df"
   ]
  },
  {
   "cell_type": "code",
   "execution_count": 196,
   "metadata": {},
   "outputs": [],
   "source": [
    "difference_abilites = exact_difference(df_ab)\n",
    "# difference_in = exact_difference(df_in)\n",
    "# difference_ws = exact_difference(df_ws)\n",
    "# difference_wv =exact_difference(df_wv)\n",
    "# difference_wc =exact_difference(df_wc)\n",
    "# difference_knowledge =exact_difference(df_knowledge)\n",
    "difference_gwas =exact_difference(df_gwas)\n",
    "# difference_jz =exact_difference(df_jz)\n",
    "difference_skills =exact_difference(df_skills)"
   ]
  },
  {
   "cell_type": "code",
   "execution_count": 197,
   "metadata": {},
   "outputs": [],
   "source": [
    "difference_skills.index = difference_skills.title \n",
    "difference_abilites.index = difference_abilites.title \n",
    "difference_gwas.index = difference_gwas.title "
   ]
  },
  {
   "cell_type": "code",
   "execution_count": 198,
   "metadata": {},
   "outputs": [],
   "source": [
    "difference_skills = difference_skills.drop(['title'],axis =1)\n",
    "difference_abilites = difference_abilites.drop(['title'],axis =1)\n",
    "difference_gwas = difference_gwas.drop(['title'],axis =1)"
   ]
  },
  {
   "cell_type": "code",
   "execution_count": 199,
   "metadata": {
    "scrolled": false
   },
   "outputs": [],
   "source": [
    "df_concat = pd.concat([difference_skills,difference_skills,difference_abilites]).groupby(level =0).mean()"
   ]
  },
  {
   "cell_type": "code",
   "execution_count": 205,
   "metadata": {},
   "outputs": [
    {
     "name": "stdout",
     "output_type": "stream",
     "text": [
      "Accountants\n"
     ]
    }
   ],
   "source": [
    "dict_test = {}\n",
    "for val in df_concat:\n",
    "    print(val)\n",
    "    break"
   ]
  },
  {
   "cell_type": "code",
   "execution_count": null,
   "metadata": {},
   "outputs": [],
   "source": []
  },
  {
   "cell_type": "code",
   "execution_count": 125,
   "metadata": {},
   "outputs": [
    {
     "data": {
      "text/plain": [
       "0.5252857142857144"
      ]
     },
     "execution_count": 125,
     "metadata": {},
     "output_type": "execute_result"
    }
   ],
   "source": [
    "np.mean(df_skills.loc['Accountants'] - df_skills.loc['Actors'])"
   ]
  },
  {
   "cell_type": "code",
   "execution_count": 110,
   "metadata": {},
   "outputs": [
    {
     "data": {
      "text/plain": [
       "(968, 968)"
      ]
     },
     "execution_count": 110,
     "metadata": {},
     "output_type": "execute_result"
    }
   ],
   "source": []
  },
  {
   "cell_type": "code",
   "execution_count": 105,
   "metadata": {},
   "outputs": [
    {
     "data": {
      "text/plain": [
       "(968, 35)"
      ]
     },
     "execution_count": 105,
     "metadata": {},
     "output_type": "execute_result"
    }
   ],
   "source": []
  },
  {
   "cell_type": "code",
   "execution_count": null,
   "metadata": {},
   "outputs": [],
   "source": [
    " "
   ]
  }
 ],
 "metadata": {
  "kernelspec": {
   "display_name": "Python 3",
   "language": "python",
   "name": "python3"
  },
  "language_info": {
   "codemirror_mode": {
    "name": "ipython",
    "version": 3
   },
   "file_extension": ".py",
   "mimetype": "text/x-python",
   "name": "python",
   "nbconvert_exporter": "python",
   "pygments_lexer": "ipython3",
   "version": "3.8.5"
  }
 },
 "nbformat": 4,
 "nbformat_minor": 4
}
