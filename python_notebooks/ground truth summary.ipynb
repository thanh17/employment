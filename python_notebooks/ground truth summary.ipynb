{
 "cells": [
  {
   "cell_type": "markdown",
   "metadata": {},
   "source": [
    "## Kendall rank correlation coefficient\n",
    "#### head of the list is more important than the tail \n",
    "###### concordant pairs = ranking agrees. discordant pairs = ranking disagrees\n",
    "#### $\\tau = \\frac{\\text{number of concordant pairs}- \\text{number of discordant pairs}}{\\binom{n}{2}}$\n",
    "\n",
    "Example: [1,2,3,4,5], [2,1,3,4,5] -> r = 0.79\n",
    "\n",
    "Example: [1,2,3,4,5], [1,2,3,5,4] -> r = 0.79\n",
    "\n",
    "### Skills: r = 0.007020\n",
    "##### Most similar: First-Line Supervisors of Food Preparation and Serving Workers. r = 0.3266\n",
    "##### Least similar: Psychiatric Aides. r =-0.2312\n",
    "### ONET default: r = 0.001171\n",
    "##### Most similar: Fashion Designers r = 0.3224\n",
    "##### Least similar:Food Servers, Nonrestaurant, r = -0.2988\n",
    "### Alternative algorithm 1: r = 0.002582\n",
    "##### Most similar: Construction and Building Inspectors r = 0.3159\n",
    "##### Least similar: Highway Maintenance Workers r = -0.2555\n",
    "### new algo: r = 0.007841\n",
    "##### Most similar: Fundraisers r = 0.2477\n",
    "##### Least similar:Electrical Power-Line Installers and Repairers r = -0.3338"
   ]
  },
  {
   "cell_type": "code",
   "execution_count": null,
   "metadata": {},
   "outputs": [],
   "source": []
  },
  {
   "cell_type": "markdown",
   "metadata": {},
   "source": [
    "## Weighted Kendall rank correlation coefficient\n",
    "### problem: doesn't work with strings (yet)...hash values\n",
    "#### head of the list is more important than the tail \n",
    "###### concordant pairs = ranking agrees. discordant pairs = ranking disagrees\n",
    "#### an exchange between elements with rank $r$ and $s$ (starting from zero) has weight $1/(r+1) + 1/(s+1)$ \n",
    "\n",
    "Example: [1,2,3,4,5], [2,1,3,4,5] -> r = 0.9014\n",
    "\n",
    "Example: [1,2,3,4,5], [1,2,3,5,4] -> r = 0.671\n",
    "\n",
    "### Skills: r = \n",
    "### ONET default: r = \n",
    "### Alternative algorithm 1: r = "
   ]
  },
  {
   "cell_type": "code",
   "execution_count": null,
   "metadata": {},
   "outputs": [],
   "source": []
  },
  {
   "cell_type": "markdown",
   "metadata": {},
   "source": [
    "## Percent coverage\n",
    "###### concordant pairs = ranking agrees. discordant pairs = ranking disagrees\n",
    "### $\\sum \\frac{\\text{percentage of transitions for ONET transitions}}{\\text{percentage of transitions that CPS occupies}}$\n",
    "\n",
    "\n",
    "\n",
    "### Skills: 35.21%\n",
    "##### Most similar: Judges, Magistrate Judges, and Magistrates 98.94%\n",
    "##### Least similar: Directors, Religious Activities and Education 0.0\n",
    "\n",
    "##### Most coverage: Judges, Magistrate Judges, and Magistrates 98.655%\n",
    "##### Least coverage: Massage Therapists 26.269%\n",
    "\n",
    "\n",
    "### ONET default: 36.505%\n",
    "##### Most similar: Nurse Practitioners 96.5671%\n",
    "##### Least similar: Museum Technicians and Conservators 0.0\n",
    "\n",
    "##### Most coverage: Nurse Practitioners 95.62%\n",
    "##### Least coverage: Massage Therapists 37.102%\n",
    "\n",
    "### Alternative algorithm 1: 41.87%\n",
    "##### Most similar: Arbitrators, Mediators, and Conciliators 99.0%\n",
    "##### Least similar: Museum Technicians and Conservators 0.0\n",
    "\n",
    "##### Most coverage: Arbitrators, Mediators, and Conciliators 98.727%\n",
    "##### Least coverage: Massage Therapists 42.0366\n",
    "\n",
    "### new algo: 42.064%\n",
    "##### Most similar: Arbitrators, Mediators, and Conciliators 98.941%\n",
    "##### Least similar: Museum Technicians and Conservators 0.0\n",
    "\n",
    "##### Most coverage: Arbitrators, Mediators, and Conciliators 98.727%\n",
    "##### Massage Therapists 59.9945%\n"
   ]
  },
  {
   "cell_type": "markdown",
   "metadata": {},
   "source": [
    "## Percent coverage\n",
    "###### concordant pairs = ranking agrees. discordant pairs = ranking disagrees\n",
    "### $\\sum \\frac{\\text{percentage of transitions for ONET transitions}}{\\text{percentage of transitions that CPS occupies}}$\n",
    "\n",
    "\n",
    "\n",
    "### Skills: 22.08%\n",
    "##### Most similar: First-Line Supervisors of Non-Retail Sales Workers 78.35%\n",
    "##### Least similar: Office Machine Operators, Except Computer0.0\n",
    "\n",
    "##### Most coverage: Title Examiners, Abstractors, and Searchers 71.41%\n",
    "##### Least coverage: Massage Therapists 54.587%\n",
    "\n",
    "\n",
    "### ONET default: 26.17%\n",
    "##### Most similar: Occupational Therapists 84.63%\n",
    "##### Least similar: Museum Technicians and Conservators 0.0\n",
    "\n",
    "##### Most coverage: Occupational Therapists 84.54%\n",
    "##### Least coverage: Phlebotomists 39.263%\n",
    "\n",
    "### Alternative algorithm 1: 30.13%\n",
    "##### Most similar: Occupational Therapists 84.02%\n",
    "##### Least similar: Museum Technicians and Conservators 0.0\n",
    "\n",
    "##### Most coverage: Occupational Therapists 83.93%\n",
    "##### Least coverage: Phlebotomists 42.59%\n",
    "\n",
    "### new algo: 30.468%\n",
    "##### Most similar: Occupational Therapists 84.636%\n",
    "##### Least similar: Museum Technicians and Conservators 0.0\n",
    "\n",
    "##### Most coverage: Occupational Therapists 84.54%\n",
    "##### Phlebotomists 35.79%"
   ]
  },
  {
   "cell_type": "code",
   "execution_count": null,
   "metadata": {},
   "outputs": [],
   "source": []
  },
  {
   "cell_type": "code",
   "execution_count": 1,
   "metadata": {},
   "outputs": [],
   "source": [
    "#histogram"
   ]
  }
 ],
 "metadata": {
  "kernelspec": {
   "display_name": "Python 3",
   "language": "python",
   "name": "python3"
  },
  "language_info": {
   "codemirror_mode": {
    "name": "ipython",
    "version": 3
   },
   "file_extension": ".py",
   "mimetype": "text/x-python",
   "name": "python",
   "nbconvert_exporter": "python",
   "pygments_lexer": "ipython3",
   "version": "3.8.5"
  }
 },
 "nbformat": 4,
 "nbformat_minor": 4
}
