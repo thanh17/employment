{
 "cells": [
  {
   "cell_type": "code",
   "execution_count": 1,
   "metadata": {},
   "outputs": [],
   "source": [
    "import pandas as pd\n",
    "import random as rnd \n",
    "import mysql.connector\n",
    "from mysql.connector import Error\n",
    "import plotly\n",
    "import json\n",
    "import csv\n",
    "import seaborn as sns\n",
    "import matplotlib.pyplot as plt\n",
    "import numpy as np\n",
    "import pymysql\n",
    "import plotly.express as px\n",
    "import plotly.graph_objects as go\n",
    "from sqlalchemy import create_engine\n",
    "import networkx as nx\n",
    "from networkx_viewer import Viewer\n",
    "from functools import reduce\n",
    "from scipy.spatial.distance import pdist, squareform\n",
    "import igraph\n",
    "from cyjupyter import Cytoscape\n",
    "from scipy.stats import kendalltau\n",
    "from scipy.stats import weightedtau"
   ]
  },
  {
   "cell_type": "markdown",
   "metadata": {},
   "source": [
    "# Getting data from SQL database"
   ]
  },
  {
   "cell_type": "code",
   "execution_count": 2,
   "metadata": {},
   "outputs": [],
   "source": [
    "connection = mysql.connector.connect(host='localhost',\n",
    "                                         database='employment',\n",
    "                                         user='root',\n",
    "                                         password='1234')"
   ]
  },
  {
   "cell_type": "code",
   "execution_count": 3,
   "metadata": {},
   "outputs": [],
   "source": [
    "def get_data(connection, descriptor_domain,filt = False,val = None):\n",
    "    '''\n",
    "    Return df in the SOCs-decriptor format of a specific domain \n",
    "    descriptor_domeain:\n",
    "        work context\n",
    "        knowledge\n",
    "        skills\n",
    "        gwas\n",
    "        job_zones, filter\n",
    "        Abilities, filter\n",
    "    \n",
    "    '''\n",
    "    df= pd.DataFrame(data=None)\n",
    "    if descriptor_domain == 'work_context':\n",
    "        df= pd.read_sql('''\n",
    "            SELECT title, element_name, data_value FROM employment.work_context\n",
    "            LEFT JOIN employment.content_model_reference USING (element_id) \n",
    "            LEFT JOIN employment.occupation_data USING (onetsoc_code)\n",
    "            WHERE scale_id LIKE 'CX';''', con = connection)\n",
    "        df = df.reset_index().pivot(index = 'title', columns = 'element_name', values = 'data_value')\n",
    "    elif descriptor_domain == 'job_zones':\n",
    "        if filt:\n",
    "            df= pd.read_sql('''\n",
    "                SELECT title,job_zone FROM employment.job_zones\n",
    "                LEFT JOIN employment.occupation_data USING (onetsoc_code); ''', con = connection)\n",
    "            df = df[df['job_zone'].isin(val)]\n",
    "        else:\n",
    "            df= pd.read_sql('''\n",
    "                SELECT title,job_zone FROM employment.job_zones\n",
    "                LEFT JOIN employment.occupation_data USING (onetsoc_code);''', con = connection)\n",
    "    elif descriptor_domain == 'abilities':\n",
    "        if filt:\n",
    "#             df= pd.read_sql('''\n",
    "#             SELECT title, element_name, element_id,data_value FROM employment.''' + descriptor_domain + '''\n",
    "#             LEFT JOIN employment.content_model_reference USING (element_id) \n",
    "#             LEFT JOIN employment.occupation_data USING (onetsoc_code); ''', con = connection)\n",
    "#             df = df[df['element_id'].contains(val)]\n",
    "            df= pd.read_sql('''\n",
    "            SELECT title, element_name, data_value FROM employment.''' + descriptor_domain + '''\n",
    "            LEFT JOIN employment.content_model_reference USING (element_id) \n",
    "            LEFT JOIN employment.occupation_data USING (onetsoc_code)\n",
    "            WHERE element_id LIKE\\''''+ val +'''%\\'; ''', con = connection)\n",
    "            \n",
    "        else:\n",
    "            df= pd.read_sql('''\n",
    "            SELECT title, element_name,element_id, data_value FROM employment.''' + descriptor_domain + '''\n",
    "            LEFT JOIN employment.content_model_reference USING (element_id) \n",
    "            LEFT JOIN employment.occupation_data USING (onetsoc_code);''', con = connection)\n",
    "        df = df.groupby(by=['title','element_name'])['data_value'].mean()\n",
    "        df = df.reset_index().pivot(index = 'title', columns = 'element_name', values = 'data_value')\n",
    "    elif descriptor_domain == 'work_values':\n",
    "        df= pd.read_sql('''\n",
    "            SELECT title, element_name, data_value FROM employment.work_values\n",
    "            LEFT JOIN employment.content_model_reference USING (element_id) \n",
    "            LEFT JOIN employment.occupation_data USING (onetsoc_code)\n",
    "            WHERE scale_id LIKE 'EX';''', con = connection)\n",
    "        df = df.reset_index().pivot(index = 'title', columns = 'element_name', values = 'data_value')\n",
    "    elif descriptor_domain == 'interests':\n",
    "        df= pd.read_sql('''\n",
    "            SELECT title, element_name, data_value FROM employment.interests\n",
    "            LEFT JOIN employment.content_model_reference USING (element_id) \n",
    "            LEFT JOIN employment.occupation_data USING (onetsoc_code)\n",
    "            WHERE scale_id LIKE 'OI';''', con = connection)\n",
    "        df = df.reset_index().pivot(index = 'title', columns = 'element_name', values = 'data_value')\n",
    "    elif descriptor_domain == 'work_styles':\n",
    "        df= pd.read_sql('''\n",
    "            SELECT title, element_name, data_value FROM employment.work_styles\n",
    "            LEFT JOIN employment.content_model_reference USING (element_id) \n",
    "            LEFT JOIN employment.occupation_data USING (onetsoc_code)\n",
    "            WHERE scale_id LIKE 'IM';''', con = connection)\n",
    "        df = df.reset_index().pivot(index = 'title', columns = 'element_name', values = 'data_value')\n",
    "    elif descriptor_domain == 'name':\n",
    "        df= pd.read_sql('''\n",
    "            SELECT * FROM employment.occupation_data;''', con = connection)\n",
    "    else:\n",
    "        df= pd.read_sql('''\n",
    "            SELECT title, element_name, data_value FROM employment.''' + descriptor_domain + '''\n",
    "            LEFT JOIN employment.content_model_reference USING (element_id) \n",
    "            LEFT JOIN employment.occupation_data USING (onetsoc_code);''', con = connection)\n",
    "        df = df.groupby(by=['title','element_name'])['data_value'].mean()\n",
    "        df = df.reset_index().pivot(index = 'title', columns = 'element_name', values = 'data_value')\n",
    "    return df"
   ]
  },
  {
   "cell_type": "markdown",
   "metadata": {},
   "source": [
    "# Finding distance measures from ONET "
   ]
  },
  {
   "cell_type": "code",
   "execution_count": 4,
   "metadata": {},
   "outputs": [],
   "source": [
    "def distance_table(df, jz=False):\n",
    "    \n",
    "#     squareform(pdist(df.iloc[:, 1:])), columns=df.title.unique(), index=df.title.unique()\n",
    "    dist = []\n",
    "    name_dict = {}\n",
    "    if jz:\n",
    "        name_dict = df['title'].sort_values().reset_index()['title'].to_dict()\n",
    "        dist = pdist(df[df.columns[1:]],'euclidean')\n",
    "    else:\n",
    "        for i in range(len(df.index)):\n",
    "            name_dict[i] = df.index[i]\n",
    "        dist = pdist(df,'euclidean') #Euclidean distance for 1XN\n",
    "    df_dist = pd.DataFrame(squareform(dist)) #Euclidean distance for NxN\n",
    "#     return df_dist\n",
    "    columns = list(df_dist.index) \n",
    "    for i in range(len(df.index)): #convert 0 values to NaN\n",
    "        df_dist.loc[i,i] = np.NaN\n",
    "    mean = df_dist.mean().mean()\n",
    "    std = df_dist.stack().std() \n",
    "\n",
    "    for col in columns: #Z-score calculated \n",
    "        df_dist[col] = (df_dist[col] - mean)/std\n",
    "#     return df_dist\n",
    "    return df_dist.rename(columns = name_dict, index = name_dict)"
   ]
  },
  {
   "cell_type": "code",
   "execution_count": 5,
   "metadata": {},
   "outputs": [],
   "source": [
    "# Get CPS data"
   ]
  },
  {
   "cell_type": "code",
   "execution_count": 6,
   "metadata": {},
   "outputs": [],
   "source": [
    "df_cps = pd.read_csv('../CPS Job Changes/JobChanges_2011to19.csv')"
   ]
  },
  {
   "cell_type": "code",
   "execution_count": 7,
   "metadata": {
    "scrolled": false
   },
   "outputs": [
    {
     "data": {
      "text/html": [
       "<div>\n",
       "<style scoped>\n",
       "    .dataframe tbody tr th:only-of-type {\n",
       "        vertical-align: middle;\n",
       "    }\n",
       "\n",
       "    .dataframe tbody tr th {\n",
       "        vertical-align: top;\n",
       "    }\n",
       "\n",
       "    .dataframe thead th {\n",
       "        text-align: right;\n",
       "    }\n",
       "</style>\n",
       "<table border=\"1\" class=\"dataframe\">\n",
       "  <thead>\n",
       "    <tr style=\"text-align: right;\">\n",
       "      <th></th>\n",
       "      <th>ONET18_SOC</th>\n",
       "      <th>ONET18_SOC_LY</th>\n",
       "      <th>ONET18_Title</th>\n",
       "      <th>ONET18_Title_LY</th>\n",
       "      <th>count</th>\n",
       "      <th>pct_tot</th>\n",
       "      <th>count_socly</th>\n",
       "      <th>pct_socly</th>\n",
       "      <th>in_grp</th>\n",
       "      <th>in_minor_grp</th>\n",
       "      <th>in_broad_occ</th>\n",
       "    </tr>\n",
       "  </thead>\n",
       "  <tbody>\n",
       "    <tr>\n",
       "      <th>72958</th>\n",
       "      <td>41-1012</td>\n",
       "      <td>41-1011</td>\n",
       "      <td>First-Line Supervisors of Non-Retail Sales Wor...</td>\n",
       "      <td>First-Line Supervisors of Retail Sales Workers</td>\n",
       "      <td>734264.510000</td>\n",
       "      <td>4.395486e-01</td>\n",
       "      <td>2207170.940</td>\n",
       "      <td>33.267224</td>\n",
       "      <td>1</td>\n",
       "      <td>1</td>\n",
       "      <td>1</td>\n",
       "    </tr>\n",
       "    <tr>\n",
       "      <th>72703</th>\n",
       "      <td>41-1011</td>\n",
       "      <td>41-1012</td>\n",
       "      <td>First-Line Supervisors of Retail Sales Workers</td>\n",
       "      <td>First-Line Supervisors of Non-Retail Sales Wor...</td>\n",
       "      <td>603472.900000</td>\n",
       "      <td>3.612536e-01</td>\n",
       "      <td>999832.010</td>\n",
       "      <td>60.357429</td>\n",
       "      <td>1</td>\n",
       "      <td>1</td>\n",
       "      <td>1</td>\n",
       "    </tr>\n",
       "    <tr>\n",
       "      <th>74337</th>\n",
       "      <td>41-2031</td>\n",
       "      <td>41-2012</td>\n",
       "      <td>Retail Salespersons</td>\n",
       "      <td>Gambling Change Persons and Booth Cashiers</td>\n",
       "      <td>509346.270000</td>\n",
       "      <td>3.049071e-01</td>\n",
       "      <td>2630467.290</td>\n",
       "      <td>19.363338</td>\n",
       "      <td>1</td>\n",
       "      <td>1</td>\n",
       "      <td>0</td>\n",
       "    </tr>\n",
       "    <tr>\n",
       "      <th>74338</th>\n",
       "      <td>41-2031</td>\n",
       "      <td>41-2011</td>\n",
       "      <td>Retail Salespersons</td>\n",
       "      <td>Cashiers</td>\n",
       "      <td>509346.270000</td>\n",
       "      <td>3.049071e-01</td>\n",
       "      <td>2630467.290</td>\n",
       "      <td>19.363338</td>\n",
       "      <td>1</td>\n",
       "      <td>1</td>\n",
       "      <td>0</td>\n",
       "    </tr>\n",
       "    <tr>\n",
       "      <th>27</th>\n",
       "      <td>11-1011</td>\n",
       "      <td>11-1021</td>\n",
       "      <td>Chief Executives</td>\n",
       "      <td>General and Operations Managers</td>\n",
       "      <td>352402.430000</td>\n",
       "      <td>2.109567e-01</td>\n",
       "      <td>751730.590</td>\n",
       "      <td>46.878820</td>\n",
       "      <td>1</td>\n",
       "      <td>1</td>\n",
       "      <td>0</td>\n",
       "    </tr>\n",
       "    <tr>\n",
       "      <th>...</th>\n",
       "      <td>...</td>\n",
       "      <td>...</td>\n",
       "      <td>...</td>\n",
       "      <td>...</td>\n",
       "      <td>...</td>\n",
       "      <td>...</td>\n",
       "      <td>...</td>\n",
       "      <td>...</td>\n",
       "      <td>...</td>\n",
       "      <td>...</td>\n",
       "      <td>...</td>\n",
       "    </tr>\n",
       "    <tr>\n",
       "      <th>26910</th>\n",
       "      <td>25-1194</td>\n",
       "      <td>45-2091</td>\n",
       "      <td>Career/Technical Education Teachers, Postsecon...</td>\n",
       "      <td>Agricultural Equipment Operators</td>\n",
       "      <td>1.135947</td>\n",
       "      <td>6.800058e-07</td>\n",
       "      <td>184416.524</td>\n",
       "      <td>0.000616</td>\n",
       "      <td>0</td>\n",
       "      <td>0</td>\n",
       "      <td>0</td>\n",
       "    </tr>\n",
       "    <tr>\n",
       "      <th>26911</th>\n",
       "      <td>25-1051</td>\n",
       "      <td>45-2021</td>\n",
       "      <td>Atmospheric, Earth, Marine, and Space Sciences...</td>\n",
       "      <td>Animal Breeders</td>\n",
       "      <td>1.135947</td>\n",
       "      <td>6.800058e-07</td>\n",
       "      <td>184416.524</td>\n",
       "      <td>0.000616</td>\n",
       "      <td>0</td>\n",
       "      <td>0</td>\n",
       "      <td>0</td>\n",
       "    </tr>\n",
       "    <tr>\n",
       "      <th>26912</th>\n",
       "      <td>25-1041</td>\n",
       "      <td>45-2091</td>\n",
       "      <td>Agricultural Sciences Teachers, Postsecondary</td>\n",
       "      <td>Agricultural Equipment Operators</td>\n",
       "      <td>1.135947</td>\n",
       "      <td>6.800058e-07</td>\n",
       "      <td>184416.524</td>\n",
       "      <td>0.000616</td>\n",
       "      <td>0</td>\n",
       "      <td>0</td>\n",
       "      <td>0</td>\n",
       "    </tr>\n",
       "    <tr>\n",
       "      <th>26913</th>\n",
       "      <td>25-1051</td>\n",
       "      <td>45-2091</td>\n",
       "      <td>Atmospheric, Earth, Marine, and Space Sciences...</td>\n",
       "      <td>Agricultural Equipment Operators</td>\n",
       "      <td>1.135947</td>\n",
       "      <td>6.800058e-07</td>\n",
       "      <td>184416.524</td>\n",
       "      <td>0.000616</td>\n",
       "      <td>0</td>\n",
       "      <td>0</td>\n",
       "      <td>0</td>\n",
       "    </tr>\n",
       "    <tr>\n",
       "      <th>27009</th>\n",
       "      <td>25-1124</td>\n",
       "      <td>45-2093</td>\n",
       "      <td>Foreign Language and Literature Teachers, Post...</td>\n",
       "      <td>Farmworkers, Farm, Ranch, and Aquacultural Ani...</td>\n",
       "      <td>1.135947</td>\n",
       "      <td>6.800058e-07</td>\n",
       "      <td>184416.524</td>\n",
       "      <td>0.000616</td>\n",
       "      <td>0</td>\n",
       "      <td>0</td>\n",
       "      <td>0</td>\n",
       "    </tr>\n",
       "  </tbody>\n",
       "</table>\n",
       "<p>115317 rows × 11 columns</p>\n",
       "</div>"
      ],
      "text/plain": [
       "      ONET18_SOC ONET18_SOC_LY  \\\n",
       "72958    41-1012       41-1011   \n",
       "72703    41-1011       41-1012   \n",
       "74337    41-2031       41-2012   \n",
       "74338    41-2031       41-2011   \n",
       "27       11-1011       11-1021   \n",
       "...          ...           ...   \n",
       "26910    25-1194       45-2091   \n",
       "26911    25-1051       45-2021   \n",
       "26912    25-1041       45-2091   \n",
       "26913    25-1051       45-2091   \n",
       "27009    25-1124       45-2093   \n",
       "\n",
       "                                            ONET18_Title  \\\n",
       "72958  First-Line Supervisors of Non-Retail Sales Wor...   \n",
       "72703     First-Line Supervisors of Retail Sales Workers   \n",
       "74337                                Retail Salespersons   \n",
       "74338                                Retail Salespersons   \n",
       "27                                      Chief Executives   \n",
       "...                                                  ...   \n",
       "26910  Career/Technical Education Teachers, Postsecon...   \n",
       "26911  Atmospheric, Earth, Marine, and Space Sciences...   \n",
       "26912      Agricultural Sciences Teachers, Postsecondary   \n",
       "26913  Atmospheric, Earth, Marine, and Space Sciences...   \n",
       "27009  Foreign Language and Literature Teachers, Post...   \n",
       "\n",
       "                                         ONET18_Title_LY          count  \\\n",
       "72958     First-Line Supervisors of Retail Sales Workers  734264.510000   \n",
       "72703  First-Line Supervisors of Non-Retail Sales Wor...  603472.900000   \n",
       "74337         Gambling Change Persons and Booth Cashiers  509346.270000   \n",
       "74338                                           Cashiers  509346.270000   \n",
       "27                       General and Operations Managers  352402.430000   \n",
       "...                                                  ...            ...   \n",
       "26910                   Agricultural Equipment Operators       1.135947   \n",
       "26911                                    Animal Breeders       1.135947   \n",
       "26912                   Agricultural Equipment Operators       1.135947   \n",
       "26913                   Agricultural Equipment Operators       1.135947   \n",
       "27009  Farmworkers, Farm, Ranch, and Aquacultural Ani...       1.135947   \n",
       "\n",
       "            pct_tot  count_socly  pct_socly  in_grp  in_minor_grp  \\\n",
       "72958  4.395486e-01  2207170.940  33.267224       1             1   \n",
       "72703  3.612536e-01   999832.010  60.357429       1             1   \n",
       "74337  3.049071e-01  2630467.290  19.363338       1             1   \n",
       "74338  3.049071e-01  2630467.290  19.363338       1             1   \n",
       "27     2.109567e-01   751730.590  46.878820       1             1   \n",
       "...             ...          ...        ...     ...           ...   \n",
       "26910  6.800058e-07   184416.524   0.000616       0             0   \n",
       "26911  6.800058e-07   184416.524   0.000616       0             0   \n",
       "26912  6.800058e-07   184416.524   0.000616       0             0   \n",
       "26913  6.800058e-07   184416.524   0.000616       0             0   \n",
       "27009  6.800058e-07   184416.524   0.000616       0             0   \n",
       "\n",
       "       in_broad_occ  \n",
       "72958             1  \n",
       "72703             1  \n",
       "74337             0  \n",
       "74338             0  \n",
       "27                0  \n",
       "...             ...  \n",
       "26910             0  \n",
       "26911             0  \n",
       "26912             0  \n",
       "26913             0  \n",
       "27009             0  \n",
       "\n",
       "[115317 rows x 11 columns]"
      ]
     },
     "execution_count": 7,
     "metadata": {},
     "output_type": "execute_result"
    }
   ],
   "source": [
    "df_cps.sort_values(by = 'pct_tot', ascending = False)"
   ]
  },
  {
   "cell_type": "markdown",
   "metadata": {},
   "source": [
    "## Skills "
   ]
  },
  {
   "cell_type": "code",
   "execution_count": 8,
   "metadata": {},
   "outputs": [
    {
     "data": {
      "text/html": [
       "<div>\n",
       "<style scoped>\n",
       "    .dataframe tbody tr th:only-of-type {\n",
       "        vertical-align: middle;\n",
       "    }\n",
       "\n",
       "    .dataframe tbody tr th {\n",
       "        vertical-align: top;\n",
       "    }\n",
       "\n",
       "    .dataframe thead th {\n",
       "        text-align: right;\n",
       "    }\n",
       "</style>\n",
       "<table border=\"1\" class=\"dataframe\">\n",
       "  <thead>\n",
       "    <tr style=\"text-align: right;\">\n",
       "      <th></th>\n",
       "      <th>Accountants</th>\n",
       "      <th>Actors</th>\n",
       "      <th>Actuaries</th>\n",
       "      <th>Acupuncturists</th>\n",
       "      <th>Acute Care Nurses</th>\n",
       "      <th>Adapted Physical Education Specialists</th>\n",
       "      <th>Adhesive Bonding Machine Operators and Tenders</th>\n",
       "      <th>Administrative Law Judges, Adjudicators, and Hearing Officers</th>\n",
       "      <th>Administrative Services Managers</th>\n",
       "      <th>Adult Basic and Secondary Education and Literacy Teachers and Instructors</th>\n",
       "      <th>...</th>\n",
       "      <th>Welding, Soldering, and Brazing Machine Setters, Operators, and Tenders</th>\n",
       "      <th>Wellhead Pumpers</th>\n",
       "      <th>Wholesale and Retail Buyers, Except Farm Products</th>\n",
       "      <th>Wind Energy Engineers</th>\n",
       "      <th>Wind Energy Operations Managers</th>\n",
       "      <th>Wind Energy Project Managers</th>\n",
       "      <th>Wind Turbine Service Technicians</th>\n",
       "      <th>Woodworking Machine Setters, Operators, and Tenders, Except Sawing</th>\n",
       "      <th>Word Processors and Typists</th>\n",
       "      <th>Zoologists and Wildlife Biologists</th>\n",
       "    </tr>\n",
       "  </thead>\n",
       "  <tbody>\n",
       "    <tr>\n",
       "      <th>Accountants</th>\n",
       "      <td>NaN</td>\n",
       "      <td>-0.232192</td>\n",
       "      <td>-1.231166</td>\n",
       "      <td>-1.343769</td>\n",
       "      <td>-0.572105</td>\n",
       "      <td>-1.103413</td>\n",
       "      <td>1.134355</td>\n",
       "      <td>-1.129204</td>\n",
       "      <td>-1.140781</td>\n",
       "      <td>-1.063139</td>\n",
       "      <td>...</td>\n",
       "      <td>0.726581</td>\n",
       "      <td>1.567913</td>\n",
       "      <td>-1.525925</td>\n",
       "      <td>-0.817695</td>\n",
       "      <td>-0.316332</td>\n",
       "      <td>-1.144954</td>\n",
       "      <td>1.109038</td>\n",
       "      <td>1.435817</td>\n",
       "      <td>-0.110304</td>\n",
       "      <td>-0.934922</td>\n",
       "    </tr>\n",
       "    <tr>\n",
       "      <th>Actors</th>\n",
       "      <td>-0.232192</td>\n",
       "      <td>NaN</td>\n",
       "      <td>1.136940</td>\n",
       "      <td>-0.746946</td>\n",
       "      <td>0.663868</td>\n",
       "      <td>-0.444427</td>\n",
       "      <td>1.199026</td>\n",
       "      <td>-0.376028</td>\n",
       "      <td>0.049845</td>\n",
       "      <td>-0.946980</td>\n",
       "      <td>...</td>\n",
       "      <td>0.331044</td>\n",
       "      <td>1.243432</td>\n",
       "      <td>0.199842</td>\n",
       "      <td>1.012206</td>\n",
       "      <td>1.071827</td>\n",
       "      <td>0.547006</td>\n",
       "      <td>1.572133</td>\n",
       "      <td>1.323007</td>\n",
       "      <td>-0.682780</td>\n",
       "      <td>0.499415</td>\n",
       "    </tr>\n",
       "    <tr>\n",
       "      <th>Actuaries</th>\n",
       "      <td>-1.231166</td>\n",
       "      <td>1.136940</td>\n",
       "      <td>NaN</td>\n",
       "      <td>-0.292468</td>\n",
       "      <td>-0.288049</td>\n",
       "      <td>-0.276207</td>\n",
       "      <td>1.966989</td>\n",
       "      <td>-0.646019</td>\n",
       "      <td>-0.467885</td>\n",
       "      <td>0.037310</td>\n",
       "      <td>...</td>\n",
       "      <td>1.808031</td>\n",
       "      <td>2.491332</td>\n",
       "      <td>-0.975188</td>\n",
       "      <td>-0.933491</td>\n",
       "      <td>-0.088138</td>\n",
       "      <td>-0.834385</td>\n",
       "      <td>1.662193</td>\n",
       "      <td>2.283982</td>\n",
       "      <td>1.218300</td>\n",
       "      <td>-0.706944</td>\n",
       "    </tr>\n",
       "    <tr>\n",
       "      <th>Acupuncturists</th>\n",
       "      <td>-1.343769</td>\n",
       "      <td>-0.746946</td>\n",
       "      <td>-0.292468</td>\n",
       "      <td>NaN</td>\n",
       "      <td>-0.939257</td>\n",
       "      <td>-1.496659</td>\n",
       "      <td>0.573997</td>\n",
       "      <td>-0.909846</td>\n",
       "      <td>-0.954193</td>\n",
       "      <td>-1.141138</td>\n",
       "      <td>...</td>\n",
       "      <td>0.083364</td>\n",
       "      <td>0.990593</td>\n",
       "      <td>-1.083227</td>\n",
       "      <td>-0.670565</td>\n",
       "      <td>-0.312289</td>\n",
       "      <td>-0.976759</td>\n",
       "      <td>0.607291</td>\n",
       "      <td>0.893135</td>\n",
       "      <td>-0.566595</td>\n",
       "      <td>-1.162061</td>\n",
       "    </tr>\n",
       "    <tr>\n",
       "      <th>Acute Care Nurses</th>\n",
       "      <td>-0.572105</td>\n",
       "      <td>0.663868</td>\n",
       "      <td>-0.288049</td>\n",
       "      <td>-0.939257</td>\n",
       "      <td>NaN</td>\n",
       "      <td>-1.168764</td>\n",
       "      <td>0.831865</td>\n",
       "      <td>-0.345816</td>\n",
       "      <td>-0.839026</td>\n",
       "      <td>-0.281779</td>\n",
       "      <td>...</td>\n",
       "      <td>0.677219</td>\n",
       "      <td>1.419451</td>\n",
       "      <td>-0.558503</td>\n",
       "      <td>-1.306457</td>\n",
       "      <td>-0.923236</td>\n",
       "      <td>-1.050700</td>\n",
       "      <td>0.542298</td>\n",
       "      <td>1.359072</td>\n",
       "      <td>0.914576</td>\n",
       "      <td>-1.552209</td>\n",
       "    </tr>\n",
       "    <tr>\n",
       "      <th>...</th>\n",
       "      <td>...</td>\n",
       "      <td>...</td>\n",
       "      <td>...</td>\n",
       "      <td>...</td>\n",
       "      <td>...</td>\n",
       "      <td>...</td>\n",
       "      <td>...</td>\n",
       "      <td>...</td>\n",
       "      <td>...</td>\n",
       "      <td>...</td>\n",
       "      <td>...</td>\n",
       "      <td>...</td>\n",
       "      <td>...</td>\n",
       "      <td>...</td>\n",
       "      <td>...</td>\n",
       "      <td>...</td>\n",
       "      <td>...</td>\n",
       "      <td>...</td>\n",
       "      <td>...</td>\n",
       "      <td>...</td>\n",
       "      <td>...</td>\n",
       "    </tr>\n",
       "    <tr>\n",
       "      <th>Wind Energy Project Managers</th>\n",
       "      <td>-1.144954</td>\n",
       "      <td>0.547006</td>\n",
       "      <td>-0.834385</td>\n",
       "      <td>-0.976759</td>\n",
       "      <td>-1.050700</td>\n",
       "      <td>-1.114667</td>\n",
       "      <td>0.909341</td>\n",
       "      <td>-0.597025</td>\n",
       "      <td>-1.836890</td>\n",
       "      <td>-0.282424</td>\n",
       "      <td>...</td>\n",
       "      <td>0.802140</td>\n",
       "      <td>1.459114</td>\n",
       "      <td>-1.836637</td>\n",
       "      <td>-0.914224</td>\n",
       "      <td>-1.597539</td>\n",
       "      <td>NaN</td>\n",
       "      <td>0.645006</td>\n",
       "      <td>1.390519</td>\n",
       "      <td>0.473065</td>\n",
       "      <td>-1.145214</td>\n",
       "    </tr>\n",
       "    <tr>\n",
       "      <th>Wind Turbine Service Technicians</th>\n",
       "      <td>1.109038</td>\n",
       "      <td>1.572133</td>\n",
       "      <td>1.662193</td>\n",
       "      <td>0.607291</td>\n",
       "      <td>0.542298</td>\n",
       "      <td>0.753377</td>\n",
       "      <td>-1.281451</td>\n",
       "      <td>1.703529</td>\n",
       "      <td>0.831136</td>\n",
       "      <td>1.345588</td>\n",
       "      <td>...</td>\n",
       "      <td>-0.789641</td>\n",
       "      <td>-0.855040</td>\n",
       "      <td>1.207617</td>\n",
       "      <td>0.564500</td>\n",
       "      <td>-0.199079</td>\n",
       "      <td>0.645006</td>\n",
       "      <td>NaN</td>\n",
       "      <td>-0.965950</td>\n",
       "      <td>0.924188</td>\n",
       "      <td>0.745823</td>\n",
       "    </tr>\n",
       "    <tr>\n",
       "      <th>Woodworking Machine Setters, Operators, and Tenders, Except Sawing</th>\n",
       "      <td>1.435817</td>\n",
       "      <td>1.323007</td>\n",
       "      <td>2.283982</td>\n",
       "      <td>0.893135</td>\n",
       "      <td>1.359072</td>\n",
       "      <td>1.333042</td>\n",
       "      <td>-1.608119</td>\n",
       "      <td>2.094264</td>\n",
       "      <td>1.386387</td>\n",
       "      <td>1.653915</td>\n",
       "      <td>...</td>\n",
       "      <td>-1.714726</td>\n",
       "      <td>-1.738756</td>\n",
       "      <td>1.662305</td>\n",
       "      <td>1.222440</td>\n",
       "      <td>0.910910</td>\n",
       "      <td>1.390519</td>\n",
       "      <td>-0.965950</td>\n",
       "      <td>NaN</td>\n",
       "      <td>0.158089</td>\n",
       "      <td>1.482784</td>\n",
       "    </tr>\n",
       "    <tr>\n",
       "      <th>Word Processors and Typists</th>\n",
       "      <td>-0.110304</td>\n",
       "      <td>-0.682780</td>\n",
       "      <td>1.218300</td>\n",
       "      <td>-0.566595</td>\n",
       "      <td>0.914576</td>\n",
       "      <td>0.154761</td>\n",
       "      <td>0.149986</td>\n",
       "      <td>0.560918</td>\n",
       "      <td>0.231741</td>\n",
       "      <td>-0.010130</td>\n",
       "      <td>...</td>\n",
       "      <td>-0.508398</td>\n",
       "      <td>0.314869</td>\n",
       "      <td>0.345421</td>\n",
       "      <td>0.764722</td>\n",
       "      <td>0.926314</td>\n",
       "      <td>0.473065</td>\n",
       "      <td>0.924188</td>\n",
       "      <td>0.158089</td>\n",
       "      <td>NaN</td>\n",
       "      <td>0.632334</td>\n",
       "    </tr>\n",
       "    <tr>\n",
       "      <th>Zoologists and Wildlife Biologists</th>\n",
       "      <td>-0.934922</td>\n",
       "      <td>0.499415</td>\n",
       "      <td>-0.706944</td>\n",
       "      <td>-1.162061</td>\n",
       "      <td>-1.552209</td>\n",
       "      <td>-0.836327</td>\n",
       "      <td>0.978785</td>\n",
       "      <td>-0.578448</td>\n",
       "      <td>-0.706680</td>\n",
       "      <td>-0.388096</td>\n",
       "      <td>...</td>\n",
       "      <td>0.781300</td>\n",
       "      <td>1.506285</td>\n",
       "      <td>-0.774344</td>\n",
       "      <td>-1.490487</td>\n",
       "      <td>-0.554798</td>\n",
       "      <td>-1.145214</td>\n",
       "      <td>0.745823</td>\n",
       "      <td>1.482784</td>\n",
       "      <td>0.632334</td>\n",
       "      <td>NaN</td>\n",
       "    </tr>\n",
       "  </tbody>\n",
       "</table>\n",
       "<p>968 rows × 968 columns</p>\n",
       "</div>"
      ],
      "text/plain": [
       "                                                    Accountants    Actors  \\\n",
       "Accountants                                                 NaN -0.232192   \n",
       "Actors                                                -0.232192       NaN   \n",
       "Actuaries                                             -1.231166  1.136940   \n",
       "Acupuncturists                                        -1.343769 -0.746946   \n",
       "Acute Care Nurses                                     -0.572105  0.663868   \n",
       "...                                                         ...       ...   \n",
       "Wind Energy Project Managers                          -1.144954  0.547006   \n",
       "Wind Turbine Service Technicians                       1.109038  1.572133   \n",
       "Woodworking Machine Setters, Operators, and Ten...     1.435817  1.323007   \n",
       "Word Processors and Typists                           -0.110304 -0.682780   \n",
       "Zoologists and Wildlife Biologists                    -0.934922  0.499415   \n",
       "\n",
       "                                                    Actuaries  Acupuncturists  \\\n",
       "Accountants                                         -1.231166       -1.343769   \n",
       "Actors                                               1.136940       -0.746946   \n",
       "Actuaries                                                 NaN       -0.292468   \n",
       "Acupuncturists                                      -0.292468             NaN   \n",
       "Acute Care Nurses                                   -0.288049       -0.939257   \n",
       "...                                                       ...             ...   \n",
       "Wind Energy Project Managers                        -0.834385       -0.976759   \n",
       "Wind Turbine Service Technicians                     1.662193        0.607291   \n",
       "Woodworking Machine Setters, Operators, and Ten...   2.283982        0.893135   \n",
       "Word Processors and Typists                          1.218300       -0.566595   \n",
       "Zoologists and Wildlife Biologists                  -0.706944       -1.162061   \n",
       "\n",
       "                                                    Acute Care Nurses  \\\n",
       "Accountants                                                 -0.572105   \n",
       "Actors                                                       0.663868   \n",
       "Actuaries                                                   -0.288049   \n",
       "Acupuncturists                                              -0.939257   \n",
       "Acute Care Nurses                                                 NaN   \n",
       "...                                                               ...   \n",
       "Wind Energy Project Managers                                -1.050700   \n",
       "Wind Turbine Service Technicians                             0.542298   \n",
       "Woodworking Machine Setters, Operators, and Ten...           1.359072   \n",
       "Word Processors and Typists                                  0.914576   \n",
       "Zoologists and Wildlife Biologists                          -1.552209   \n",
       "\n",
       "                                                    Adapted Physical Education Specialists  \\\n",
       "Accountants                                                                      -1.103413   \n",
       "Actors                                                                           -0.444427   \n",
       "Actuaries                                                                        -0.276207   \n",
       "Acupuncturists                                                                   -1.496659   \n",
       "Acute Care Nurses                                                                -1.168764   \n",
       "...                                                                                    ...   \n",
       "Wind Energy Project Managers                                                     -1.114667   \n",
       "Wind Turbine Service Technicians                                                  0.753377   \n",
       "Woodworking Machine Setters, Operators, and Ten...                                1.333042   \n",
       "Word Processors and Typists                                                       0.154761   \n",
       "Zoologists and Wildlife Biologists                                               -0.836327   \n",
       "\n",
       "                                                    Adhesive Bonding Machine Operators and Tenders  \\\n",
       "Accountants                                                                               1.134355   \n",
       "Actors                                                                                    1.199026   \n",
       "Actuaries                                                                                 1.966989   \n",
       "Acupuncturists                                                                            0.573997   \n",
       "Acute Care Nurses                                                                         0.831865   \n",
       "...                                                                                            ...   \n",
       "Wind Energy Project Managers                                                              0.909341   \n",
       "Wind Turbine Service Technicians                                                         -1.281451   \n",
       "Woodworking Machine Setters, Operators, and Ten...                                       -1.608119   \n",
       "Word Processors and Typists                                                               0.149986   \n",
       "Zoologists and Wildlife Biologists                                                        0.978785   \n",
       "\n",
       "                                                    Administrative Law Judges, Adjudicators, and Hearing Officers  \\\n",
       "Accountants                                                                                 -1.129204               \n",
       "Actors                                                                                      -0.376028               \n",
       "Actuaries                                                                                   -0.646019               \n",
       "Acupuncturists                                                                              -0.909846               \n",
       "Acute Care Nurses                                                                           -0.345816               \n",
       "...                                                                                               ...               \n",
       "Wind Energy Project Managers                                                                -0.597025               \n",
       "Wind Turbine Service Technicians                                                             1.703529               \n",
       "Woodworking Machine Setters, Operators, and Ten...                                           2.094264               \n",
       "Word Processors and Typists                                                                  0.560918               \n",
       "Zoologists and Wildlife Biologists                                                          -0.578448               \n",
       "\n",
       "                                                    Administrative Services Managers  \\\n",
       "Accountants                                                                -1.140781   \n",
       "Actors                                                                      0.049845   \n",
       "Actuaries                                                                  -0.467885   \n",
       "Acupuncturists                                                             -0.954193   \n",
       "Acute Care Nurses                                                          -0.839026   \n",
       "...                                                                              ...   \n",
       "Wind Energy Project Managers                                               -1.836890   \n",
       "Wind Turbine Service Technicians                                            0.831136   \n",
       "Woodworking Machine Setters, Operators, and Ten...                          1.386387   \n",
       "Word Processors and Typists                                                 0.231741   \n",
       "Zoologists and Wildlife Biologists                                         -0.706680   \n",
       "\n",
       "                                                    Adult Basic and Secondary Education and Literacy Teachers and Instructors  \\\n",
       "Accountants                                                                                 -1.063139                           \n",
       "Actors                                                                                      -0.946980                           \n",
       "Actuaries                                                                                    0.037310                           \n",
       "Acupuncturists                                                                              -1.141138                           \n",
       "Acute Care Nurses                                                                           -0.281779                           \n",
       "...                                                                                               ...                           \n",
       "Wind Energy Project Managers                                                                -0.282424                           \n",
       "Wind Turbine Service Technicians                                                             1.345588                           \n",
       "Woodworking Machine Setters, Operators, and Ten...                                           1.653915                           \n",
       "Word Processors and Typists                                                                 -0.010130                           \n",
       "Zoologists and Wildlife Biologists                                                          -0.388096                           \n",
       "\n",
       "                                                    ...  \\\n",
       "Accountants                                         ...   \n",
       "Actors                                              ...   \n",
       "Actuaries                                           ...   \n",
       "Acupuncturists                                      ...   \n",
       "Acute Care Nurses                                   ...   \n",
       "...                                                 ...   \n",
       "Wind Energy Project Managers                        ...   \n",
       "Wind Turbine Service Technicians                    ...   \n",
       "Woodworking Machine Setters, Operators, and Ten...  ...   \n",
       "Word Processors and Typists                         ...   \n",
       "Zoologists and Wildlife Biologists                  ...   \n",
       "\n",
       "                                                    Welding, Soldering, and Brazing Machine Setters, Operators, and Tenders  \\\n",
       "Accountants                                                                                  0.726581                         \n",
       "Actors                                                                                       0.331044                         \n",
       "Actuaries                                                                                    1.808031                         \n",
       "Acupuncturists                                                                               0.083364                         \n",
       "Acute Care Nurses                                                                            0.677219                         \n",
       "...                                                                                               ...                         \n",
       "Wind Energy Project Managers                                                                 0.802140                         \n",
       "Wind Turbine Service Technicians                                                            -0.789641                         \n",
       "Woodworking Machine Setters, Operators, and Ten...                                          -1.714726                         \n",
       "Word Processors and Typists                                                                 -0.508398                         \n",
       "Zoologists and Wildlife Biologists                                                           0.781300                         \n",
       "\n",
       "                                                    Wellhead Pumpers  \\\n",
       "Accountants                                                 1.567913   \n",
       "Actors                                                      1.243432   \n",
       "Actuaries                                                   2.491332   \n",
       "Acupuncturists                                              0.990593   \n",
       "Acute Care Nurses                                           1.419451   \n",
       "...                                                              ...   \n",
       "Wind Energy Project Managers                                1.459114   \n",
       "Wind Turbine Service Technicians                           -0.855040   \n",
       "Woodworking Machine Setters, Operators, and Ten...         -1.738756   \n",
       "Word Processors and Typists                                 0.314869   \n",
       "Zoologists and Wildlife Biologists                          1.506285   \n",
       "\n",
       "                                                    Wholesale and Retail Buyers, Except Farm Products  \\\n",
       "Accountants                                                                                 -1.525925   \n",
       "Actors                                                                                       0.199842   \n",
       "Actuaries                                                                                   -0.975188   \n",
       "Acupuncturists                                                                              -1.083227   \n",
       "Acute Care Nurses                                                                           -0.558503   \n",
       "...                                                                                               ...   \n",
       "Wind Energy Project Managers                                                                -1.836637   \n",
       "Wind Turbine Service Technicians                                                             1.207617   \n",
       "Woodworking Machine Setters, Operators, and Ten...                                           1.662305   \n",
       "Word Processors and Typists                                                                  0.345421   \n",
       "Zoologists and Wildlife Biologists                                                          -0.774344   \n",
       "\n",
       "                                                    Wind Energy Engineers  \\\n",
       "Accountants                                                     -0.817695   \n",
       "Actors                                                           1.012206   \n",
       "Actuaries                                                       -0.933491   \n",
       "Acupuncturists                                                  -0.670565   \n",
       "Acute Care Nurses                                               -1.306457   \n",
       "...                                                                   ...   \n",
       "Wind Energy Project Managers                                    -0.914224   \n",
       "Wind Turbine Service Technicians                                 0.564500   \n",
       "Woodworking Machine Setters, Operators, and Ten...               1.222440   \n",
       "Word Processors and Typists                                      0.764722   \n",
       "Zoologists and Wildlife Biologists                              -1.490487   \n",
       "\n",
       "                                                    Wind Energy Operations Managers  \\\n",
       "Accountants                                                               -0.316332   \n",
       "Actors                                                                     1.071827   \n",
       "Actuaries                                                                 -0.088138   \n",
       "Acupuncturists                                                            -0.312289   \n",
       "Acute Care Nurses                                                         -0.923236   \n",
       "...                                                                             ...   \n",
       "Wind Energy Project Managers                                              -1.597539   \n",
       "Wind Turbine Service Technicians                                          -0.199079   \n",
       "Woodworking Machine Setters, Operators, and Ten...                         0.910910   \n",
       "Word Processors and Typists                                                0.926314   \n",
       "Zoologists and Wildlife Biologists                                        -0.554798   \n",
       "\n",
       "                                                    Wind Energy Project Managers  \\\n",
       "Accountants                                                            -1.144954   \n",
       "Actors                                                                  0.547006   \n",
       "Actuaries                                                              -0.834385   \n",
       "Acupuncturists                                                         -0.976759   \n",
       "Acute Care Nurses                                                      -1.050700   \n",
       "...                                                                          ...   \n",
       "Wind Energy Project Managers                                                 NaN   \n",
       "Wind Turbine Service Technicians                                        0.645006   \n",
       "Woodworking Machine Setters, Operators, and Ten...                      1.390519   \n",
       "Word Processors and Typists                                             0.473065   \n",
       "Zoologists and Wildlife Biologists                                     -1.145214   \n",
       "\n",
       "                                                    Wind Turbine Service Technicians  \\\n",
       "Accountants                                                                 1.109038   \n",
       "Actors                                                                      1.572133   \n",
       "Actuaries                                                                   1.662193   \n",
       "Acupuncturists                                                              0.607291   \n",
       "Acute Care Nurses                                                           0.542298   \n",
       "...                                                                              ...   \n",
       "Wind Energy Project Managers                                                0.645006   \n",
       "Wind Turbine Service Technicians                                                 NaN   \n",
       "Woodworking Machine Setters, Operators, and Ten...                         -0.965950   \n",
       "Word Processors and Typists                                                 0.924188   \n",
       "Zoologists and Wildlife Biologists                                          0.745823   \n",
       "\n",
       "                                                    Woodworking Machine Setters, Operators, and Tenders, Except Sawing  \\\n",
       "Accountants                                                                                  1.435817                    \n",
       "Actors                                                                                       1.323007                    \n",
       "Actuaries                                                                                    2.283982                    \n",
       "Acupuncturists                                                                               0.893135                    \n",
       "Acute Care Nurses                                                                            1.359072                    \n",
       "...                                                                                               ...                    \n",
       "Wind Energy Project Managers                                                                 1.390519                    \n",
       "Wind Turbine Service Technicians                                                            -0.965950                    \n",
       "Woodworking Machine Setters, Operators, and Ten...                                                NaN                    \n",
       "Word Processors and Typists                                                                  0.158089                    \n",
       "Zoologists and Wildlife Biologists                                                           1.482784                    \n",
       "\n",
       "                                                    Word Processors and Typists  \\\n",
       "Accountants                                                           -0.110304   \n",
       "Actors                                                                -0.682780   \n",
       "Actuaries                                                              1.218300   \n",
       "Acupuncturists                                                        -0.566595   \n",
       "Acute Care Nurses                                                      0.914576   \n",
       "...                                                                         ...   \n",
       "Wind Energy Project Managers                                           0.473065   \n",
       "Wind Turbine Service Technicians                                       0.924188   \n",
       "Woodworking Machine Setters, Operators, and Ten...                     0.158089   \n",
       "Word Processors and Typists                                                 NaN   \n",
       "Zoologists and Wildlife Biologists                                     0.632334   \n",
       "\n",
       "                                                    Zoologists and Wildlife Biologists  \n",
       "Accountants                                                                  -0.934922  \n",
       "Actors                                                                        0.499415  \n",
       "Actuaries                                                                    -0.706944  \n",
       "Acupuncturists                                                               -1.162061  \n",
       "Acute Care Nurses                                                            -1.552209  \n",
       "...                                                                                ...  \n",
       "Wind Energy Project Managers                                                 -1.145214  \n",
       "Wind Turbine Service Technicians                                              0.745823  \n",
       "Woodworking Machine Setters, Operators, and Ten...                            1.482784  \n",
       "Word Processors and Typists                                                   0.632334  \n",
       "Zoologists and Wildlife Biologists                                                 NaN  \n",
       "\n",
       "[968 rows x 968 columns]"
      ]
     },
     "execution_count": 8,
     "metadata": {},
     "output_type": "execute_result"
    }
   ],
   "source": [
    "df_skills = get_data(connection,'skills')\n",
    "df_skills\n",
    "\n",
    "skills_dist = distance_table(df_skills)\n",
    "skills_dist"
   ]
  },
  {
   "cell_type": "code",
   "execution_count": 9,
   "metadata": {},
   "outputs": [
    {
     "data": {
      "text/plain": [
       "Demonstrators and Product Promoters                                                            -1.970922\n",
       "Bartenders                                                                                     -1.942456\n",
       "Psychiatric Aides                                                                              -1.928493\n",
       "Home Health Aides                                                                              -1.889651\n",
       "Reservation and Transportation Ticket Agents and Travel Clerks                                 -1.885947\n",
       "Sales Representatives, Wholesale and Manufacturing, Except Technical and Scientific Products   -1.885568\n",
       "Travel Agents                                                                                  -1.856308\n",
       "Order Clerks                                                                                   -1.822059\n",
       "Counter and Rental Clerks                                                                      -1.810728\n",
       "Concierges                                                                                     -1.799743\n",
       "Name: Retail Salespersons, dtype: float64"
      ]
     },
     "execution_count": 9,
     "metadata": {},
     "output_type": "execute_result"
    }
   ],
   "source": [
    "skills_dist.loc['Retail Salespersons'].sort_values()[0:10]"
   ]
  },
  {
   "cell_type": "code",
   "execution_count": null,
   "metadata": {},
   "outputs": [],
   "source": []
  },
  {
   "cell_type": "markdown",
   "metadata": {},
   "source": [
    "### Percentages"
   ]
  },
  {
   "cell_type": "code",
   "execution_count": 10,
   "metadata": {
    "scrolled": false
   },
   "outputs": [
    {
     "data": {
      "text/html": [
       "<div>\n",
       "<style scoped>\n",
       "    .dataframe tbody tr th:only-of-type {\n",
       "        vertical-align: middle;\n",
       "    }\n",
       "\n",
       "    .dataframe tbody tr th {\n",
       "        vertical-align: top;\n",
       "    }\n",
       "\n",
       "    .dataframe thead th {\n",
       "        text-align: right;\n",
       "    }\n",
       "</style>\n",
       "<table border=\"1\" class=\"dataframe\">\n",
       "  <thead>\n",
       "    <tr style=\"text-align: right;\">\n",
       "      <th></th>\n",
       "      <th>ONET18_SOC</th>\n",
       "      <th>ONET18_SOC_LY</th>\n",
       "      <th>ONET18_Title</th>\n",
       "      <th>ONET18_Title_LY</th>\n",
       "      <th>count</th>\n",
       "      <th>pct_tot</th>\n",
       "      <th>count_socly</th>\n",
       "      <th>pct_socly</th>\n",
       "      <th>in_grp</th>\n",
       "      <th>in_minor_grp</th>\n",
       "      <th>in_broad_occ</th>\n",
       "    </tr>\n",
       "  </thead>\n",
       "  <tbody>\n",
       "    <tr>\n",
       "      <th>47123</th>\n",
       "      <td>29-1123</td>\n",
       "      <td>29-1141</td>\n",
       "      <td>Physical Therapists</td>\n",
       "      <td>Registered Nurses</td>\n",
       "      <td>208251.380000</td>\n",
       "      <td>0.124664</td>\n",
       "      <td>1137881.06</td>\n",
       "      <td>18.301683</td>\n",
       "      <td>1</td>\n",
       "      <td>1</td>\n",
       "      <td>0</td>\n",
       "    </tr>\n",
       "    <tr>\n",
       "      <th>47164</th>\n",
       "      <td>29-1126</td>\n",
       "      <td>29-1141</td>\n",
       "      <td>Respiratory Therapists</td>\n",
       "      <td>Registered Nurses</td>\n",
       "      <td>133490.700000</td>\n",
       "      <td>0.079911</td>\n",
       "      <td>1137881.06</td>\n",
       "      <td>11.731516</td>\n",
       "      <td>1</td>\n",
       "      <td>1</td>\n",
       "      <td>0</td>\n",
       "    </tr>\n",
       "    <tr>\n",
       "      <th>47379</th>\n",
       "      <td>29-1128</td>\n",
       "      <td>29-1141</td>\n",
       "      <td>Exercise Physiologists</td>\n",
       "      <td>Registered Nurses</td>\n",
       "      <td>84033.560000</td>\n",
       "      <td>0.050305</td>\n",
       "      <td>1137881.06</td>\n",
       "      <td>7.385092</td>\n",
       "      <td>1</td>\n",
       "      <td>1</td>\n",
       "      <td>0</td>\n",
       "    </tr>\n",
       "    <tr>\n",
       "      <th>47378</th>\n",
       "      <td>29-1129</td>\n",
       "      <td>29-1141</td>\n",
       "      <td>Therapists, All Other</td>\n",
       "      <td>Registered Nurses</td>\n",
       "      <td>84033.560000</td>\n",
       "      <td>0.050305</td>\n",
       "      <td>1137881.06</td>\n",
       "      <td>7.385092</td>\n",
       "      <td>1</td>\n",
       "      <td>1</td>\n",
       "      <td>0</td>\n",
       "    </tr>\n",
       "    <tr>\n",
       "      <th>47225</th>\n",
       "      <td>29-1127</td>\n",
       "      <td>29-1141</td>\n",
       "      <td>Speech-Language Pathologists</td>\n",
       "      <td>Registered Nurses</td>\n",
       "      <td>78260.440000</td>\n",
       "      <td>0.046849</td>\n",
       "      <td>1137881.06</td>\n",
       "      <td>6.877735</td>\n",
       "      <td>1</td>\n",
       "      <td>1</td>\n",
       "      <td>0</td>\n",
       "    </tr>\n",
       "    <tr>\n",
       "      <th>...</th>\n",
       "      <td>...</td>\n",
       "      <td>...</td>\n",
       "      <td>...</td>\n",
       "      <td>...</td>\n",
       "      <td>...</td>\n",
       "      <td>...</td>\n",
       "      <td>...</td>\n",
       "      <td>...</td>\n",
       "      <td>...</td>\n",
       "      <td>...</td>\n",
       "      <td>...</td>\n",
       "    </tr>\n",
       "    <tr>\n",
       "      <th>33339</th>\n",
       "      <td>25-4013</td>\n",
       "      <td>29-1141</td>\n",
       "      <td>Museum Technicians and Conservators</td>\n",
       "      <td>Registered Nurses</td>\n",
       "      <td>104.406667</td>\n",
       "      <td>0.000063</td>\n",
       "      <td>1137881.06</td>\n",
       "      <td>0.009176</td>\n",
       "      <td>0</td>\n",
       "      <td>0</td>\n",
       "      <td>0</td>\n",
       "    </tr>\n",
       "    <tr>\n",
       "      <th>110210</th>\n",
       "      <td>53-3053</td>\n",
       "      <td>29-1141</td>\n",
       "      <td>Shuttle Drivers and Chauffeurs</td>\n",
       "      <td>Registered Nurses</td>\n",
       "      <td>47.747500</td>\n",
       "      <td>0.000029</td>\n",
       "      <td>1137881.06</td>\n",
       "      <td>0.004196</td>\n",
       "      <td>0</td>\n",
       "      <td>0</td>\n",
       "      <td>0</td>\n",
       "    </tr>\n",
       "    <tr>\n",
       "      <th>110211</th>\n",
       "      <td>53-3054</td>\n",
       "      <td>29-1141</td>\n",
       "      <td>Taxi Drivers</td>\n",
       "      <td>Registered Nurses</td>\n",
       "      <td>47.747500</td>\n",
       "      <td>0.000029</td>\n",
       "      <td>1137881.06</td>\n",
       "      <td>0.004196</td>\n",
       "      <td>0</td>\n",
       "      <td>0</td>\n",
       "      <td>0</td>\n",
       "    </tr>\n",
       "    <tr>\n",
       "      <th>110212</th>\n",
       "      <td>53-3051</td>\n",
       "      <td>29-1141</td>\n",
       "      <td>Bus Drivers, School</td>\n",
       "      <td>Registered Nurses</td>\n",
       "      <td>47.747500</td>\n",
       "      <td>0.000029</td>\n",
       "      <td>1137881.06</td>\n",
       "      <td>0.004196</td>\n",
       "      <td>0</td>\n",
       "      <td>0</td>\n",
       "      <td>0</td>\n",
       "    </tr>\n",
       "    <tr>\n",
       "      <th>110213</th>\n",
       "      <td>53-3052</td>\n",
       "      <td>29-1141</td>\n",
       "      <td>Bus Drivers, Transit and Intercity</td>\n",
       "      <td>Registered Nurses</td>\n",
       "      <td>47.747500</td>\n",
       "      <td>0.000029</td>\n",
       "      <td>1137881.06</td>\n",
       "      <td>0.004196</td>\n",
       "      <td>0</td>\n",
       "      <td>0</td>\n",
       "      <td>0</td>\n",
       "    </tr>\n",
       "  </tbody>\n",
       "</table>\n",
       "<p>238 rows × 11 columns</p>\n",
       "</div>"
      ],
      "text/plain": [
       "       ONET18_SOC ONET18_SOC_LY                         ONET18_Title  \\\n",
       "47123     29-1123       29-1141                  Physical Therapists   \n",
       "47164     29-1126       29-1141               Respiratory Therapists   \n",
       "47379     29-1128       29-1141               Exercise Physiologists   \n",
       "47378     29-1129       29-1141                Therapists, All Other   \n",
       "47225     29-1127       29-1141         Speech-Language Pathologists   \n",
       "...           ...           ...                                  ...   \n",
       "33339     25-4013       29-1141  Museum Technicians and Conservators   \n",
       "110210    53-3053       29-1141       Shuttle Drivers and Chauffeurs   \n",
       "110211    53-3054       29-1141                         Taxi Drivers   \n",
       "110212    53-3051       29-1141                  Bus Drivers, School   \n",
       "110213    53-3052       29-1141   Bus Drivers, Transit and Intercity   \n",
       "\n",
       "          ONET18_Title_LY          count   pct_tot  count_socly  pct_socly  \\\n",
       "47123   Registered Nurses  208251.380000  0.124664   1137881.06  18.301683   \n",
       "47164   Registered Nurses  133490.700000  0.079911   1137881.06  11.731516   \n",
       "47379   Registered Nurses   84033.560000  0.050305   1137881.06   7.385092   \n",
       "47378   Registered Nurses   84033.560000  0.050305   1137881.06   7.385092   \n",
       "47225   Registered Nurses   78260.440000  0.046849   1137881.06   6.877735   \n",
       "...                   ...            ...       ...          ...        ...   \n",
       "33339   Registered Nurses     104.406667  0.000063   1137881.06   0.009176   \n",
       "110210  Registered Nurses      47.747500  0.000029   1137881.06   0.004196   \n",
       "110211  Registered Nurses      47.747500  0.000029   1137881.06   0.004196   \n",
       "110212  Registered Nurses      47.747500  0.000029   1137881.06   0.004196   \n",
       "110213  Registered Nurses      47.747500  0.000029   1137881.06   0.004196   \n",
       "\n",
       "        in_grp  in_minor_grp  in_broad_occ  \n",
       "47123        1             1             0  \n",
       "47164        1             1             0  \n",
       "47379        1             1             0  \n",
       "47378        1             1             0  \n",
       "47225        1             1             0  \n",
       "...        ...           ...           ...  \n",
       "33339        0             0             0  \n",
       "110210       0             0             0  \n",
       "110211       0             0             0  \n",
       "110212       0             0             0  \n",
       "110213       0             0             0  \n",
       "\n",
       "[238 rows x 11 columns]"
      ]
     },
     "execution_count": 10,
     "metadata": {},
     "output_type": "execute_result"
    }
   ],
   "source": [
    "cps_retail_pct = df_cps[df_cps['ONET18_Title_LY'] == 'Registered Nurses'].sort_values(by = 'pct_tot', ascending = False)\n",
    "# cps_retail_pct[cps_retail_pct['ONET18_Title'] == 'Cashiers']['pct_tot']\n",
    "# cps_retail_pct[0:10]['pct_tot'].sum()\n",
    "cps_retail_pct"
   ]
  },
  {
   "cell_type": "code",
   "execution_count": 11,
   "metadata": {},
   "outputs": [],
   "source": [
    "def percentage_default(occ,df_cps,a,b):\n",
    "    df_occ = df_cps[df_cps['ONET18_Title_LY'] == occ].sort_values(by = 'pct_socly', ascending = False)\n",
    "    return df_occ[a:b]['pct_socly'].sum()"
   ]
  },
  {
   "cell_type": "code",
   "execution_count": 12,
   "metadata": {},
   "outputs": [],
   "source": [
    "retail_default = percentage_default('Retail Salespersons',df_cps,0,10)"
   ]
  },
  {
   "cell_type": "code",
   "execution_count": 13,
   "metadata": {},
   "outputs": [],
   "source": [
    "nurse_default = percentage_default('Registered Nurses',df_cps,0,10)"
   ]
  },
  {
   "cell_type": "code",
   "execution_count": 14,
   "metadata": {},
   "outputs": [],
   "source": [
    "janitors_default = percentage_default('Janitors and Cleaners, Except Maids and Housekeeping Cleaners',df_cps,0,10)"
   ]
  },
  {
   "cell_type": "code",
   "execution_count": 15,
   "metadata": {},
   "outputs": [],
   "source": [
    "sales_default = percentage_default('Sales Managers',df_cps,0,10)"
   ]
  },
  {
   "cell_type": "code",
   "execution_count": 16,
   "metadata": {},
   "outputs": [],
   "source": [
    "def percentage(occ,df_onet,df_cps,a,b):\n",
    "    '''\n",
    "    Get total percentage that ONET transition takes ups\n",
    "    @param occ occupation of interests\n",
    "    @param df_onet dataFrame for ONET\n",
    "    @param df_cps dataFrame for CPS data\n",
    "    @param a index of first position for onet\n",
    "    @param index of last position\n",
    "    \n",
    "    return the percentage composition for the ath to bth place of ONET\n",
    "    '''\n",
    "    \n",
    "    total = 0\n",
    "    onet_list = df_onet.loc[occ].sort_values()[a:b].index.to_list()\n",
    "    cps_occ = df_cps[df_cps['ONET18_Title_LY'] == occ]\n",
    "    for occ in onet_list:\n",
    "#         print(occ)\n",
    "#         print(cps_occ[cps_occ['ONET18_Title'] == occ]['pct_tot'].values[0])\n",
    "        val = cps_occ[cps_occ['ONET18_Title'] == occ]['pct_socly'].values\n",
    "        if len(val) == 0:\n",
    "            continue\n",
    "        else:\n",
    "            total += val[0]\n",
    "    \n",
    "    return total\n"
   ]
  },
  {
   "cell_type": "code",
   "execution_count": 17,
   "metadata": {
    "scrolled": true
   },
   "outputs": [
    {
     "name": "stdout",
     "output_type": "stream",
     "text": [
      "41.541673571317794\n",
      "6.247645518462117\n",
      "15.039465147537454\n"
     ]
    }
   ],
   "source": [
    "retail_skills = percentage('Retail Salespersons',skills_dist,df_cps,0,10)\n",
    "print(retail_default)\n",
    "print(retail_skills)\n",
    "print(retail_skills/retail_default*100)"
   ]
  },
  {
   "cell_type": "code",
   "execution_count": 18,
   "metadata": {
    "scrolled": true
   },
   "outputs": [
    {
     "name": "stdout",
     "output_type": "stream",
     "text": [
      "69.29806178512185\n",
      "9.807177002520186\n",
      "14.152166380829092\n"
     ]
    }
   ],
   "source": [
    "nurse_skills = percentage('Registered Nurses',skills_dist,df_cps,0,10)\n",
    "print(nurse_default)\n",
    "print(nurse_skills)\n",
    "print(nurse_skills/nurse_default*100)"
   ]
  },
  {
   "cell_type": "code",
   "execution_count": 19,
   "metadata": {
    "scrolled": true
   },
   "outputs": [
    {
     "name": "stdout",
     "output_type": "stream",
     "text": [
      "59.08144679332252\n",
      "7.397082505916141\n",
      "12.520144491031948\n"
     ]
    }
   ],
   "source": [
    "janitors_skills = percentage('Janitors and Cleaners, Except Maids and Housekeeping Cleaners',skills_dist,df_cps,0,10)\n",
    "print(janitors_default)\n",
    "print(janitors_skills)\n",
    "print(janitors_skills/janitors_default*100)"
   ]
  },
  {
   "cell_type": "code",
   "execution_count": 20,
   "metadata": {},
   "outputs": [
    {
     "name": "stdout",
     "output_type": "stream",
     "text": [
      "59.08144679332252\n",
      "3.536867901091421\n",
      "7.171481406185616\n"
     ]
    }
   ],
   "source": [
    "sales_skills = percentage('Sales Managers',skills_dist,df_cps,0,10)\n",
    "print(janitors_default)\n",
    "print(sales_skills)\n",
    "print(sales_skills/sales_default*100)"
   ]
  },
  {
   "cell_type": "markdown",
   "metadata": {},
   "source": [
    "## ONET Regular"
   ]
  },
  {
   "cell_type": "code",
   "execution_count": 21,
   "metadata": {},
   "outputs": [],
   "source": [
    "df_ab = get_data(connection,'abilities')\n",
    "df_in = get_data(connection,'interests')\n",
    "df_ws = get_data(connection,'work_styles')\n",
    "df_wv = get_data(connection, 'work_values')\n",
    "df_wc = get_data(connection,'work_context')\n",
    "df_knowledge = get_data(connection,'knowledge')\n",
    "df_gwas = get_data(connection,'work_activities')\n",
    "df_jz = get_data(connection,'job_zones')\n",
    "df_jz = df_jz[df_jz['title'] != 'Legislators']\n"
   ]
  },
  {
   "cell_type": "code",
   "execution_count": 22,
   "metadata": {},
   "outputs": [],
   "source": [
    "wc_dist = distance_table(df_wc)\n",
    "knowledge_dist = distance_table(df_knowledge)\n",
    "skills_dist = distance_table(df_skills)\n",
    "gwas_dist = distance_table(df_gwas)\n",
    "jz_dist = distance_table(df_jz,True)\n",
    "wv_dist = distance_table(df_wv)\n",
    "in_dist = distance_table(df_in)\n",
    "ab_dist = distance_table(df_ab)\n",
    "ws_dist = distance_table(df_ws)\n",
    "df_concat = pd.concat([wc_dist,knowledge_dist,skills_dist,gwas_dist,jz_dist.multiply(1.3)]).groupby(level =0).mean()\n",
    "# df_concat"
   ]
  },
  {
   "cell_type": "code",
   "execution_count": 23,
   "metadata": {},
   "outputs": [
    {
     "name": "stdout",
     "output_type": "stream",
     "text": [
      "41.541673571317794\n",
      "13.782679061142858\n",
      "33.17795812313885\n"
     ]
    }
   ],
   "source": [
    "retail_onet = percentage('Retail Salespersons',df_concat,df_cps,0,10)\n",
    "print(retail_default)\n",
    "print(retail_onet)\n",
    "print(retail_onet/retail_default*100)"
   ]
  },
  {
   "cell_type": "code",
   "execution_count": 24,
   "metadata": {},
   "outputs": [
    {
     "name": "stdout",
     "output_type": "stream",
     "text": [
      "69.29806178512185\n",
      "27.79892566275773\n",
      "40.1150118006996\n"
     ]
    }
   ],
   "source": [
    "nurse_onet = percentage('Registered Nurses',df_concat,df_cps,0,10)\n",
    "print(nurse_default)\n",
    "print(nurse_onet)\n",
    "print(nurse_onet/nurse_default*100)"
   ]
  },
  {
   "cell_type": "code",
   "execution_count": 25,
   "metadata": {
    "scrolled": true
   },
   "outputs": [
    {
     "name": "stdout",
     "output_type": "stream",
     "text": [
      "59.08144679332252\n",
      "27.73909571228287\n",
      "46.95060330753103\n"
     ]
    }
   ],
   "source": [
    "janitors_onet = percentage('Janitors and Cleaners, Except Maids and Housekeeping Cleaners',df_concat,df_cps,0,10)\n",
    "print(janitors_default)\n",
    "print(janitors_onet)\n",
    "print(janitors_onet/janitors_default*100)"
   ]
  },
  {
   "cell_type": "code",
   "execution_count": 26,
   "metadata": {},
   "outputs": [
    {
     "name": "stdout",
     "output_type": "stream",
     "text": [
      "49.31851176579454\n",
      "3.274858378111049\n",
      "6.640221411511382\n"
     ]
    }
   ],
   "source": [
    "sales_onet = percentage('Sales Managers',df_concat,df_cps,0,10)\n",
    "print(sales_default)\n",
    "print(sales_onet)\n",
    "print(sales_onet/sales_default*100)"
   ]
  },
  {
   "cell_type": "code",
   "execution_count": 27,
   "metadata": {},
   "outputs": [],
   "source": [
    "## ONET Custom"
   ]
  },
  {
   "cell_type": "code",
   "execution_count": 28,
   "metadata": {},
   "outputs": [],
   "source": [
    "def filt(df,d):\n",
    "    '''\n",
    "    @params: df: Dataframe to filter, d: set of all relevant names\n",
    "    @returns: filtered Dataframe\n",
    "    '''\n",
    "    return df.loc[df.index.isin(d)]"
   ]
  },
  {
   "cell_type": "code",
   "execution_count": null,
   "metadata": {},
   "outputs": [],
   "source": []
  },
  {
   "cell_type": "code",
   "execution_count": 29,
   "metadata": {},
   "outputs": [],
   "source": [
    "# df_rel = pd.concat([knowledge_dist.multiply(2),skills_dist.multiply(3),gwas_dist]).groupby(level =0).mean()\n",
    "# df_jz_filt = get_data(connection,'job_zones',True,[2])\n",
    "df_jz_filt = get_data(connection,'job_zones')\n",
    "# df_ab_filt = get_data(connection,'abilities',True,'1.A.1.')\n",
    "df_ab_filt = get_data(connection,'abilities')\n",
    "# jz_dist_filt = distance_table(df_jz_filt,True)\n",
    "jz_set = set(df_jz_filt['title'].unique()) #to filter out same job_zones jobs"
   ]
  },
  {
   "cell_type": "code",
   "execution_count": 30,
   "metadata": {},
   "outputs": [],
   "source": [
    "abilities_filtered = filt(df_ab_filt,jz_set)\n",
    "skills_filtered = filt(df_skills,jz_set)\n",
    "knowledge_filtered = filt(df_knowledge,jz_set)\n",
    "in_filtered = filt(df_in,jz_set)\n",
    "gwas_filtered = filt(df_gwas,jz_set)"
   ]
  },
  {
   "cell_type": "code",
   "execution_count": 31,
   "metadata": {},
   "outputs": [],
   "source": [
    "ab_dist_filt = distance_table(abilities_filtered) #NaN?\n",
    "skills_dist_filt = distance_table(skills_filtered)\n",
    "knowledge_dist_filt = distance_table(knowledge_filtered)\n",
    "in_dist_filt = distance_table(in_filtered)\n",
    "gwas_dist_filt = distance_table(gwas_filtered)\n",
    "df_concat_filt = pd.concat([ab_dist_filt.multiply(4.0),skills_dist_filt.multiply(3.0),knowledge_dist_filt.multiply(2.0),in_dist_filt,gwas_dist_filt]).groupby(level =0).mean()"
   ]
  },
  {
   "cell_type": "code",
   "execution_count": 32,
   "metadata": {
    "scrolled": true
   },
   "outputs": [
    {
     "name": "stdout",
     "output_type": "stream",
     "text": [
      "41.541673571317794\n",
      "13.568072196671913\n",
      "32.661351915393006\n"
     ]
    }
   ],
   "source": [
    "retail_alg1 = percentage('Retail Salespersons',df_concat_filt,df_cps,0,10)\n",
    "print(retail_default)\n",
    "print(retail_alg1)\n",
    "print(retail_alg1/retail_default*100)"
   ]
  },
  {
   "cell_type": "code",
   "execution_count": 33,
   "metadata": {
    "scrolled": true
   },
   "outputs": [
    {
     "name": "stdout",
     "output_type": "stream",
     "text": [
      "69.29806178512185\n",
      "41.8177848702394\n",
      "60.34481166285317\n"
     ]
    }
   ],
   "source": [
    "nurse_alg1 = percentage('Registered Nurses',df_concat_filt,df_cps,0,10)\n",
    "print(nurse_default)\n",
    "print(nurse_alg1)\n",
    "print(nurse_alg1/nurse_default*100)"
   ]
  },
  {
   "cell_type": "code",
   "execution_count": 34,
   "metadata": {
    "scrolled": true
   },
   "outputs": [
    {
     "name": "stdout",
     "output_type": "stream",
     "text": [
      "59.08144679332252\n",
      "29.03568131531777\n",
      "49.1451765169018\n"
     ]
    }
   ],
   "source": [
    "janitor_alg1 = percentage('Janitors and Cleaners, Except Maids and Housekeeping Cleaners',df_concat_filt,df_cps,0,10)\n",
    "print(janitors_default)\n",
    "print(janitor_alg1)\n",
    "print(janitor_alg1/janitors_default*100)"
   ]
  },
  {
   "cell_type": "code",
   "execution_count": 35,
   "metadata": {},
   "outputs": [
    {
     "name": "stdout",
     "output_type": "stream",
     "text": [
      "49.31851176579454\n",
      "3.536867901091421\n",
      "7.171481406185616\n"
     ]
    }
   ],
   "source": [
    "sales_alg1 = percentage('Sales Managers',df_concat_filt,df_cps,0,10)\n",
    "print(sales_default)\n",
    "print(sales_alg1)\n",
    "print(sales_alg1/sales_default*100)"
   ]
  },
  {
   "cell_type": "markdown",
   "metadata": {},
   "source": [
    "## Comparison using Kendall Tau"
   ]
  },
  {
   "cell_type": "code",
   "execution_count": 36,
   "metadata": {},
   "outputs": [
    {
     "data": {
      "text/plain": [
       "KendalltauResult(correlation=0.7999999999999999, pvalue=0.08333333333333333)"
      ]
     },
     "execution_count": 36,
     "metadata": {},
     "output_type": "execute_result"
    }
   ],
   "source": [
    "# kendalltau([1,2,3,4,5], [1,2,3,4,5])\n",
    "kendalltau([1,2,3,4,5], [2,1,3,4,5])"
   ]
  },
  {
   "cell_type": "code",
   "execution_count": 37,
   "metadata": {},
   "outputs": [
    {
     "data": {
      "text/plain": [
       "KendalltauResult(correlation=0.7999999999999999, pvalue=0.08333333333333333)"
      ]
     },
     "execution_count": 37,
     "metadata": {},
     "output_type": "execute_result"
    }
   ],
   "source": [
    "kendalltau([1,2,3,4,5], [1,2,3,5,4])"
   ]
  },
  {
   "cell_type": "code",
   "execution_count": 38,
   "metadata": {},
   "outputs": [
    {
     "data": {
      "text/plain": [
       "WeightedTauResult(correlation=0.9014598540145985, pvalue=nan)"
      ]
     },
     "execution_count": 38,
     "metadata": {},
     "output_type": "execute_result"
    }
   ],
   "source": [
    "weightedtau([1,2,3,4,5], [2,1,3,4,5])"
   ]
  },
  {
   "cell_type": "code",
   "execution_count": 39,
   "metadata": {},
   "outputs": [
    {
     "data": {
      "text/plain": [
       "WeightedTauResult(correlation=0.6715328467153284, pvalue=nan)"
      ]
     },
     "execution_count": 39,
     "metadata": {},
     "output_type": "execute_result"
    }
   ],
   "source": [
    "weightedtau([1,2,3,4,5], [1,2,3,5,4])"
   ]
  },
  {
   "cell_type": "code",
   "execution_count": 40,
   "metadata": {},
   "outputs": [],
   "source": [
    "list_cps = df_cps[df_cps['ONET18_Title_LY'] == 'Retail Salespersons'].sort_values(by = 'pct_tot', ascending = False)['ONET18_Title']\n",
    "list_cps= list_cps.to_list()[0:50]\n",
    "list_onet = skills_dist.loc['Retail Salespersons'].sort_values().index.to_list()[0:50]\n",
    "# cps_array = np.array(list_cps).astype(float)\n"
   ]
  },
  {
   "cell_type": "code",
   "execution_count": null,
   "metadata": {},
   "outputs": [],
   "source": []
  },
  {
   "cell_type": "code",
   "execution_count": 41,
   "metadata": {
    "scrolled": true
   },
   "outputs": [],
   "source": [
    "# weightedtau(list_cps, list_onet)"
   ]
  },
  {
   "cell_type": "code",
   "execution_count": 42,
   "metadata": {},
   "outputs": [],
   "source": [
    "def kendall_tau_rank(df_cps,df_onet,a,b,occ):\n",
    "    list_cps = df_cps[df_cps['ONET18_Title_LY'] == occ].sort_values(by = 'pct_tot', ascending = False)['ONET18_Title']\n",
    "    list_cps= list_cps.to_list()[a:b]\n",
    "    list_onet = df_onet.loc[occ].sort_values().index.to_list()[a:b]\n",
    "    \n",
    "    return kendalltau(list_cps, list_onet)"
   ]
  },
  {
   "cell_type": "code",
   "execution_count": 43,
   "metadata": {},
   "outputs": [
    {
     "data": {
      "text/plain": [
       "KendalltauResult(correlation=-0.08493263264200439, pvalue=0.38431371414818993)"
      ]
     },
     "execution_count": 43,
     "metadata": {},
     "output_type": "execute_result"
    }
   ],
   "source": [
    "kendall_tau_rank(df_cps,skills_dist,0,50,'Sales Managers')"
   ]
  },
  {
   "cell_type": "code",
   "execution_count": 44,
   "metadata": {},
   "outputs": [
    {
     "data": {
      "text/plain": [
       "KendalltauResult(correlation=0.05795918367346938, pvalue=0.552575720493856)"
      ]
     },
     "execution_count": 44,
     "metadata": {},
     "output_type": "execute_result"
    }
   ],
   "source": [
    "kendall_tau_rank(df_cps,skills_dist,0,50,'Retail Salespersons')"
   ]
  },
  {
   "cell_type": "code",
   "execution_count": 45,
   "metadata": {
    "scrolled": true
   },
   "outputs": [
    {
     "data": {
      "text/plain": [
       "{'Actors',\n",
       " 'Actuaries',\n",
       " 'Acupuncturists',\n",
       " 'Adhesive Bonding Machine Operators and Tenders',\n",
       " 'Administrative Law Judges, Adjudicators, and Hearing Officers',\n",
       " 'Administrative Services Managers',\n",
       " 'Advertising Sales Agents',\n",
       " 'Advertising and Promotions Managers',\n",
       " 'Aerospace Engineers',\n",
       " 'Agents and Business Managers of Artists, Performers, and Athletes',\n",
       " 'Agricultural Engineers',\n",
       " 'Agricultural Equipment Operators',\n",
       " 'Agricultural Inspectors',\n",
       " 'Agricultural Sciences Teachers, Postsecondary',\n",
       " 'Agricultural Technicians',\n",
       " 'Air Traffic Controllers',\n",
       " 'Aircraft Cargo Handling Supervisors',\n",
       " 'Aircraft Mechanics and Service Technicians',\n",
       " 'Aircraft Structure, Surfaces, Rigging, and Systems Assemblers',\n",
       " 'Airfield Operations Specialists',\n",
       " 'Airline Pilots, Copilots, and Flight Engineers',\n",
       " 'Ambulance Drivers and Attendants, Except Emergency Medical Technicians',\n",
       " 'Amusement and Recreation Attendants',\n",
       " 'Anesthesiologists',\n",
       " 'Animal Breeders',\n",
       " 'Animal Control Workers',\n",
       " 'Animal Scientists',\n",
       " 'Animal Trainers',\n",
       " 'Anthropology and Archeology Teachers, Postsecondary',\n",
       " 'Arbitrators, Mediators, and Conciliators',\n",
       " 'Architects, Except Landscape and Naval',\n",
       " 'Architectural and Engineering Managers',\n",
       " 'Architecture Teachers, Postsecondary',\n",
       " 'Archivists',\n",
       " 'Area, Ethnic, and Cultural Studies Teachers, Postsecondary',\n",
       " 'Art Directors',\n",
       " 'Art, Drama, and Music Teachers, Postsecondary',\n",
       " 'Astronomers',\n",
       " 'Athletes and Sports Competitors',\n",
       " 'Athletic Trainers',\n",
       " 'Atmospheric and Space Scientists',\n",
       " 'Atmospheric, Earth, Marine, and Space Sciences Teachers, Postsecondary',\n",
       " 'Audiologists',\n",
       " 'Automotive Body and Related Repairers',\n",
       " 'Automotive Glass Installers and Repairers',\n",
       " 'Automotive and Watercraft Service Attendants',\n",
       " 'Avionics Technicians',\n",
       " 'Baggage Porters and Bellhops',\n",
       " 'Bailiffs',\n",
       " 'Bakers',\n",
       " 'Barbers',\n",
       " 'Bartenders',\n",
       " 'Bicycle Repairers',\n",
       " 'Bill and Account Collectors',\n",
       " 'Biochemists and Biophysicists',\n",
       " 'Biological Science Teachers, Postsecondary',\n",
       " 'Biological Technicians',\n",
       " 'Boilermakers',\n",
       " 'Bookkeeping, Accounting, and Auditing Clerks',\n",
       " 'Brickmasons and Blockmasons',\n",
       " 'Bridge and Lock Tenders',\n",
       " 'Broadcast Technicians',\n",
       " 'Brokerage Clerks',\n",
       " 'Budget Analysts',\n",
       " 'Bus Drivers, Transit and Intercity',\n",
       " 'Bus and Truck Mechanics and Diesel Engine Specialists',\n",
       " 'Business Teachers, Postsecondary',\n",
       " 'Butchers and Meat Cutters',\n",
       " 'Buyers and Purchasing Agents, Farm Products',\n",
       " 'Cabinetmakers and Bench Carpenters',\n",
       " 'Camera and Photographic Equipment Repairers',\n",
       " 'Cardiovascular Technologists and Technicians',\n",
       " 'Career/Technical Education Teachers, Middle School',\n",
       " 'Career/Technical Education Teachers, Secondary School',\n",
       " 'Cargo and Freight Agents',\n",
       " 'Carpet Installers',\n",
       " 'Cartographers and Photogrammetrists',\n",
       " 'Cashiers',\n",
       " 'Cement Masons and Concrete Finishers',\n",
       " 'Chefs and Head Cooks',\n",
       " 'Chemical Engineers',\n",
       " 'Chemical Equipment Operators and Tenders',\n",
       " 'Chemical Plant and System Operators',\n",
       " 'Chemical Technicians',\n",
       " 'Chemistry Teachers, Postsecondary',\n",
       " 'Chemists',\n",
       " 'Chief Executives',\n",
       " 'Child, Family, and School Social Workers',\n",
       " 'Childcare Workers',\n",
       " 'Chiropractors',\n",
       " 'Choreographers',\n",
       " 'Civil Engineers',\n",
       " 'Cleaners of Vehicles and Equipment',\n",
       " 'Cleaning, Washing, and Metal Pickling Equipment Operators and Tenders',\n",
       " 'Clergy',\n",
       " 'Coaches and Scouts',\n",
       " 'Coating, Painting, and Spraying Machine Setters, Operators, and Tenders',\n",
       " 'Coil Winders, Tapers, and Finishers',\n",
       " 'Coin, Vending, and Amusement Machine Servicers and Repairers',\n",
       " 'Commercial Divers',\n",
       " 'Commercial Pilots',\n",
       " 'Commercial and Industrial Designers',\n",
       " 'Communications Teachers, Postsecondary',\n",
       " 'Community Health Workers',\n",
       " 'Compensation and Benefits Managers',\n",
       " 'Compensation, Benefits, and Job Analysis Specialists',\n",
       " 'Computer Hardware Engineers',\n",
       " 'Computer Network Architects',\n",
       " 'Computer Network Support Specialists',\n",
       " 'Computer Programmers',\n",
       " 'Computer Science Teachers, Postsecondary',\n",
       " 'Computer Systems Analysts',\n",
       " 'Computer User Support Specialists',\n",
       " 'Computer and Information Research Scientists',\n",
       " 'Computer and Information Systems Managers',\n",
       " 'Computer, Automated Teller, and Office Machine Repairers',\n",
       " 'Concierges',\n",
       " 'Construction Laborers',\n",
       " 'Construction Managers',\n",
       " 'Construction and Building Inspectors',\n",
       " 'Continuous Mining Machine Operators',\n",
       " 'Control and Valve Installers and Repairers, Except Mechanical Door',\n",
       " 'Conveyor Operators and Tenders',\n",
       " 'Cooks, Fast Food',\n",
       " 'Cooks, Institution and Cafeteria',\n",
       " 'Cooks, Private Household',\n",
       " 'Cooks, Restaurant',\n",
       " 'Cooks, Short Order',\n",
       " 'Cooling and Freezing Equipment Operators and Tenders',\n",
       " 'Correctional Officers and Jailers',\n",
       " 'Correspondence Clerks',\n",
       " 'Cost Estimators',\n",
       " 'Costume Attendants',\n",
       " 'Counter and Rental Clerks',\n",
       " 'Couriers and Messengers',\n",
       " 'Craft Artists',\n",
       " 'Crane and Tower Operators',\n",
       " 'Credit Analysts',\n",
       " 'Credit Counselors',\n",
       " 'Criminal Justice and Law Enforcement Teachers, Postsecondary',\n",
       " 'Crushing, Grinding, and Polishing Machine Setters, Operators, and Tenders',\n",
       " 'Curators',\n",
       " 'Customer Service Representatives',\n",
       " 'Cutters and Trimmers, Hand',\n",
       " 'Cutting and Slicing Machine Setters, Operators, and Tenders',\n",
       " 'Cutting, Punching, and Press Machine Setters, Operators, and Tenders, Metal and Plastic',\n",
       " 'Dancers',\n",
       " 'Data Entry Keyers',\n",
       " 'Database Administrators',\n",
       " 'Database Architects',\n",
       " 'Demonstrators and Product Promoters',\n",
       " 'Dental Assistants',\n",
       " 'Dental Hygienists',\n",
       " 'Dental Laboratory Technicians',\n",
       " 'Dentists, General',\n",
       " 'Dermatologists',\n",
       " 'Derrick Operators, Oil and Gas',\n",
       " 'Desktop Publishers',\n",
       " 'Diagnostic Medical Sonographers',\n",
       " 'Dietetic Technicians',\n",
       " 'Dietitians and Nutritionists',\n",
       " 'Dining Room and Cafeteria Attendants and Bartender Helpers',\n",
       " 'Directors, Religious Activities and Education',\n",
       " 'Dishwashers',\n",
       " 'Dispatchers, Except Police, Fire, and Ambulance',\n",
       " 'Dredge Operators',\n",
       " 'Drilling and Boring Machine Tool Setters, Operators, and Tenders, Metal and Plastic',\n",
       " 'Driver/Sales Workers',\n",
       " 'Drywall and Ceiling Tile Installers',\n",
       " 'Earth Drillers, Except Oil and Gas',\n",
       " 'Economics Teachers, Postsecondary',\n",
       " 'Economists',\n",
       " 'Editors',\n",
       " 'Education Administrators, Postsecondary',\n",
       " 'Education Teachers, Postsecondary',\n",
       " 'Electric Motor, Power Tool, and Related Repairers',\n",
       " 'Electrical Engineers',\n",
       " 'Electrical Power-Line Installers and Repairers',\n",
       " 'Electrical and Electronic Equipment Assemblers',\n",
       " 'Electrical and Electronics Installers and Repairers, Transportation Equipment',\n",
       " 'Electrical and Electronics Repairers, Commercial and Industrial Equipment',\n",
       " 'Electrical and Electronics Repairers, Powerhouse, Substation, and Relay',\n",
       " 'Electricians',\n",
       " 'Electromechanical Equipment Assemblers',\n",
       " 'Electronic Equipment Installers and Repairers, Motor Vehicles',\n",
       " 'Electronics Engineers, Except Computer',\n",
       " 'Elementary School Teachers, Except Special Education',\n",
       " 'Eligibility Interviewers, Government Programs',\n",
       " 'Embalmers',\n",
       " 'Emergency Management Directors',\n",
       " 'Engine and Other Machine Assemblers',\n",
       " 'Engineering Teachers, Postsecondary',\n",
       " 'English Language and Literature Teachers, Postsecondary',\n",
       " 'Environmental Engineers',\n",
       " 'Environmental Science Teachers, Postsecondary',\n",
       " 'Environmental Science and Protection Technicians, Including Health',\n",
       " 'Environmental Scientists and Specialists, Including Health',\n",
       " 'Epidemiologists',\n",
       " 'Etchers and Engravers',\n",
       " 'Executive Secretaries and Executive Administrative Assistants',\n",
       " 'Exercise Physiologists',\n",
       " 'Explosives Workers, Ordnance Handling Experts, and Blasters',\n",
       " 'Extruding and Drawing Machine Setters, Operators, and Tenders, Metal and Plastic',\n",
       " 'Extruding and Forming Machine Setters, Operators, and Tenders, Synthetic and Glass Fibers',\n",
       " 'Extruding, Forming, Pressing, and Compacting Machine Setters, Operators, and Tenders',\n",
       " 'Fabric and Apparel Patternmakers',\n",
       " 'Fallers',\n",
       " 'Farm Equipment Mechanics and Service Technicians',\n",
       " 'Farm Labor Contractors',\n",
       " 'Farmworkers, Farm, Ranch, and Aquacultural Animals',\n",
       " 'Fashion Designers',\n",
       " 'Fence Erectors',\n",
       " 'Fiberglass Laminators and Fabricators',\n",
       " 'File Clerks',\n",
       " 'Film and Video Editors',\n",
       " 'Financial Examiners',\n",
       " 'Fine Artists, Including Painters, Sculptors, and Illustrators',\n",
       " 'First-Line Supervisors of Construction Trades and Extraction Workers',\n",
       " 'First-Line Supervisors of Correctional Officers',\n",
       " 'First-Line Supervisors of Food Preparation and Serving Workers',\n",
       " 'First-Line Supervisors of Helpers, Laborers, and Material Movers, Hand',\n",
       " 'First-Line Supervisors of Housekeeping and Janitorial Workers',\n",
       " 'First-Line Supervisors of Landscaping, Lawn Service, and Groundskeeping Workers',\n",
       " 'First-Line Supervisors of Mechanics, Installers, and Repairers',\n",
       " 'First-Line Supervisors of Non-Retail Sales Workers',\n",
       " 'First-Line Supervisors of Office and Administrative Support Workers',\n",
       " 'First-Line Supervisors of Personal Service Workers',\n",
       " 'First-Line Supervisors of Police and Detectives',\n",
       " 'First-Line Supervisors of Production and Operating Workers',\n",
       " 'First-Line Supervisors of Retail Sales Workers',\n",
       " 'Fish and Game Wardens',\n",
       " 'Flight Attendants',\n",
       " 'Floor Layers, Except Carpet, Wood, and Hard Tiles',\n",
       " 'Floor Sanders and Finishers',\n",
       " 'Floral Designers',\n",
       " 'Food Batchmakers',\n",
       " 'Food Cooking Machine Operators and Tenders',\n",
       " 'Food Preparation Workers',\n",
       " 'Food Science Technicians',\n",
       " 'Food Scientists and Technologists',\n",
       " 'Food Servers, Nonrestaurant',\n",
       " 'Food Service Managers',\n",
       " 'Food and Tobacco Roasting, Baking, and Drying Machine Operators and Tenders',\n",
       " 'Foreign Language and Literature Teachers, Postsecondary',\n",
       " 'Forensic Science Technicians',\n",
       " 'Forest Fire Inspectors and Prevention Specialists',\n",
       " 'Forest and Conservation Technicians',\n",
       " 'Forest and Conservation Workers',\n",
       " 'Foresters',\n",
       " 'Forestry and Conservation Science Teachers, Postsecondary',\n",
       " 'Forging Machine Setters, Operators, and Tenders, Metal and Plastic',\n",
       " 'Foundry Mold and Coremakers',\n",
       " 'Fundraisers',\n",
       " 'Funeral Attendants',\n",
       " 'Furnace, Kiln, Oven, Drier, and Kettle Operators and Tenders',\n",
       " 'Furniture Finishers',\n",
       " 'Gas Compressor and Gas Pumping Station Operators',\n",
       " 'Gas Plant Operators',\n",
       " 'General and Operations Managers',\n",
       " 'Genetic Counselors',\n",
       " 'Geographers',\n",
       " 'Geography Teachers, Postsecondary',\n",
       " 'Geoscientists, Except Hydrologists and Geographers',\n",
       " 'Glaziers',\n",
       " 'Graders and Sorters, Agricultural Products',\n",
       " 'Graphic Designers',\n",
       " 'Grinding and Polishing Workers, Hand',\n",
       " 'Grinding, Lapping, Polishing, and Buffing Machine Tool Setters, Operators, and Tenders, Metal and Plastic',\n",
       " 'Hairdressers, Hairstylists, and Cosmetologists',\n",
       " 'Hazardous Materials Removal Workers',\n",
       " 'Health Specialties Teachers, Postsecondary',\n",
       " 'Healthcare Social Workers',\n",
       " 'Hearing Aid Specialists',\n",
       " 'Heat Treating Equipment Setters, Operators, and Tenders, Metal and Plastic',\n",
       " 'Heavy and Tractor-Trailer Truck Drivers',\n",
       " 'Helpers--Brickmasons, Blockmasons, Stonemasons, and Tile and Marble Setters',\n",
       " 'Helpers--Carpenters',\n",
       " 'Helpers--Electricians',\n",
       " 'Helpers--Extraction Workers',\n",
       " 'Helpers--Installation, Maintenance, and Repair Workers',\n",
       " 'Helpers--Painters, Paperhangers, Plasterers, and Stucco Masons',\n",
       " 'Helpers--Pipelayers, Plumbers, Pipefitters, and Steamfitters',\n",
       " 'Helpers--Production Workers',\n",
       " 'Helpers--Roofers',\n",
       " 'Highway Maintenance Workers',\n",
       " 'Historians',\n",
       " 'History Teachers, Postsecondary',\n",
       " 'Hoist and Winch Operators',\n",
       " 'Home Appliance Repairers',\n",
       " 'Home Health Aides',\n",
       " 'Hosts and Hostesses, Restaurant, Lounge, and Coffee Shop',\n",
       " 'Hotel, Motel, and Resort Desk Clerks',\n",
       " 'Human Resources Assistants, Except Payroll and Timekeeping',\n",
       " 'Human Resources Managers',\n",
       " 'Human Resources Specialists',\n",
       " 'Hydrologists',\n",
       " 'Industrial Engineers',\n",
       " 'Industrial Machinery Mechanics',\n",
       " 'Industrial Production Managers',\n",
       " 'Industrial Truck and Tractor Operators',\n",
       " 'Industrial-Organizational Psychologists',\n",
       " 'Information Security Analysts',\n",
       " 'Inspectors, Testers, Sorters, Samplers, and Weighers',\n",
       " 'Instructional Coordinators',\n",
       " 'Insulation Workers, Floor, Ceiling, and Wall',\n",
       " 'Insulation Workers, Mechanical',\n",
       " 'Insurance Appraisers, Auto Damage',\n",
       " 'Insurance Sales Agents',\n",
       " 'Insurance Underwriters',\n",
       " 'Interior Designers',\n",
       " 'Interpreters and Translators',\n",
       " 'Interviewers, Except Eligibility and Loan',\n",
       " 'Janitors and Cleaners, Except Maids and Housekeeping Cleaners',\n",
       " 'Judges, Magistrate Judges, and Magistrates',\n",
       " 'Judicial Law Clerks',\n",
       " 'Kindergarten Teachers, Except Special Education',\n",
       " 'Labor Relations Specialists',\n",
       " 'Laborers and Freight, Stock, and Material Movers, Hand',\n",
       " 'Landscape Architects',\n",
       " 'Landscaping and Groundskeeping Workers',\n",
       " 'Lathe and Turning Machine Tool Setters, Operators, and Tenders, Metal and Plastic',\n",
       " 'Laundry and Dry-Cleaning Workers',\n",
       " 'Law Teachers, Postsecondary',\n",
       " 'Lawyers',\n",
       " 'Layout Workers, Metal and Plastic',\n",
       " 'Library Assistants, Clerical',\n",
       " 'Library Science Teachers, Postsecondary',\n",
       " 'Library Technicians',\n",
       " 'Licensed Practical and Licensed Vocational Nurses',\n",
       " 'Lifeguards, Ski Patrol, and Other Recreational Protective Service Workers',\n",
       " 'Loan Interviewers and Clerks',\n",
       " 'Loan Officers',\n",
       " 'Locker Room, Coatroom, and Dressing Room Attendants',\n",
       " 'Locksmiths and Safe Repairers',\n",
       " 'Locomotive Engineers',\n",
       " 'Lodging Managers',\n",
       " 'Log Graders and Scalers',\n",
       " 'Logging Equipment Operators',\n",
       " 'Logisticians',\n",
       " 'Machine Feeders and Offbearers',\n",
       " 'Machinists',\n",
       " 'Magnetic Resonance Imaging Technologists',\n",
       " 'Maids and Housekeeping Cleaners',\n",
       " 'Mail Clerks and Mail Machine Operators, Except Postal Service',\n",
       " 'Maintenance Workers, Machinery',\n",
       " 'Maintenance and Repair Workers, General',\n",
       " 'Makeup Artists, Theatrical and Performance',\n",
       " 'Management Analysts',\n",
       " 'Manicurists and Pedicurists',\n",
       " 'Manufactured Building and Mobile Home Installers',\n",
       " 'Market Research Analysts and Marketing Specialists',\n",
       " 'Marketing Managers',\n",
       " 'Marriage and Family Therapists',\n",
       " 'Massage Therapists',\n",
       " 'Materials Engineers',\n",
       " 'Materials Scientists',\n",
       " 'Mathematical Science Teachers, Postsecondary',\n",
       " 'Mathematicians',\n",
       " 'Meat, Poultry, and Fish Cutters and Trimmers',\n",
       " 'Mechanical Door Repairers',\n",
       " 'Mechanical Drafters',\n",
       " 'Mechanical Engineers',\n",
       " 'Medical Appliance Technicians',\n",
       " 'Medical Assistants',\n",
       " 'Medical Equipment Preparers',\n",
       " 'Medical Equipment Repairers',\n",
       " 'Medical Scientists, Except Epidemiologists',\n",
       " 'Medical Transcriptionists',\n",
       " 'Medical and Clinical Laboratory Technicians',\n",
       " 'Medical and Clinical Laboratory Technologists',\n",
       " 'Medical and Health Services Managers',\n",
       " 'Meeting, Convention, and Event Planners',\n",
       " 'Mental Health Counselors',\n",
       " 'Mental Health and Substance Abuse Social Workers',\n",
       " 'Merchandise Displayers and Window Trimmers',\n",
       " 'Metal-Refining Furnace Operators and Tenders',\n",
       " 'Meter Readers, Utilities',\n",
       " 'Microbiologists',\n",
       " 'Middle School Teachers, Except Special and Career/Technical Education',\n",
       " 'Milling and Planing Machine Setters, Operators, and Tenders, Metal and Plastic',\n",
       " 'Millwrights',\n",
       " 'Mining and Geological Engineers, Including Mining Safety Engineers',\n",
       " 'Mixing and Blending Machine Setters, Operators, and Tenders',\n",
       " 'Mobile Heavy Equipment Mechanics, Except Engines',\n",
       " 'Model Makers, Metal and Plastic',\n",
       " 'Model Makers, Wood',\n",
       " 'Models',\n",
       " 'Molding, Coremaking, and Casting Machine Setters, Operators, and Tenders, Metal and Plastic',\n",
       " 'Motion Picture Projectionists',\n",
       " 'Motorboat Mechanics and Service Technicians',\n",
       " 'Motorboat Operators',\n",
       " 'Motorcycle Mechanics',\n",
       " 'Multiple Machine Tool Setters, Operators, and Tenders, Metal and Plastic',\n",
       " 'Museum Technicians and Conservators',\n",
       " 'Musical Instrument Repairers and Tuners',\n",
       " 'Natural Sciences Managers',\n",
       " 'Network and Computer Systems Administrators',\n",
       " 'Neurologists',\n",
       " 'New Accounts Clerks',\n",
       " 'Nuclear Engineers',\n",
       " 'Nuclear Medicine Technologists',\n",
       " 'Nuclear Power Reactor Operators',\n",
       " 'Nurse Anesthetists',\n",
       " 'Nurse Midwives',\n",
       " 'Nurse Practitioners',\n",
       " 'Nursing Assistants',\n",
       " 'Nursing Instructors and Teachers, Postsecondary',\n",
       " 'Obstetricians and Gynecologists',\n",
       " 'Occupational Health and Safety Specialists',\n",
       " 'Occupational Health and Safety Technicians',\n",
       " 'Occupational Therapists',\n",
       " 'Occupational Therapy Aides',\n",
       " 'Occupational Therapy Assistants',\n",
       " 'Office Clerks, General',\n",
       " 'Office Machine Operators, Except Computer',\n",
       " 'Operating Engineers and Other Construction Equipment Operators',\n",
       " 'Operations Research Analysts',\n",
       " 'Ophthalmic Laboratory Technicians',\n",
       " 'Ophthalmic Medical Technicians',\n",
       " 'Opticians, Dispensing',\n",
       " 'Optometrists',\n",
       " 'Oral and Maxillofacial Surgeons',\n",
       " 'Order Clerks',\n",
       " 'Orderlies',\n",
       " 'Orthodontists',\n",
       " 'Orthotists and Prosthetists',\n",
       " 'Outdoor Power Equipment and Other Small Engine Mechanics',\n",
       " 'Packaging and Filling Machine Operators and Tenders',\n",
       " 'Packers and Packagers, Hand',\n",
       " 'Painters, Construction and Maintenance',\n",
       " 'Painting, Coating, and Decorating Workers',\n",
       " 'Paper Goods Machine Setters, Operators, and Tenders',\n",
       " 'Paperhangers',\n",
       " 'Paralegals and Legal Assistants',\n",
       " 'Parking Enforcement Workers',\n",
       " 'Parts Salespersons',\n",
       " 'Patternmakers, Metal and Plastic',\n",
       " 'Patternmakers, Wood',\n",
       " 'Paving, Surfacing, and Tamping Equipment Operators',\n",
       " 'Payroll and Timekeeping Clerks',\n",
       " 'Pediatricians, General',\n",
       " 'Personal Care Aides',\n",
       " 'Personal Financial Advisors',\n",
       " 'Pest Control Workers',\n",
       " 'Pesticide Handlers, Sprayers, and Applicators, Vegetation',\n",
       " 'Petroleum Engineers',\n",
       " 'Petroleum Pump System Operators, Refinery Operators, and Gaugers',\n",
       " 'Pharmacists',\n",
       " 'Pharmacy Aides',\n",
       " 'Pharmacy Technicians',\n",
       " 'Philosophy and Religion Teachers, Postsecondary',\n",
       " 'Phlebotomists',\n",
       " 'Photographers',\n",
       " 'Photographic Process Workers and Processing Machine Operators',\n",
       " 'Physical Therapist Aides',\n",
       " 'Physical Therapist Assistants',\n",
       " 'Physical Therapists',\n",
       " 'Physician Assistants',\n",
       " 'Physicists',\n",
       " 'Physics Teachers, Postsecondary',\n",
       " 'Pipelayers',\n",
       " 'Plasterers and Stucco Masons',\n",
       " 'Podiatrists',\n",
       " 'Political Science Teachers, Postsecondary',\n",
       " 'Political Scientists',\n",
       " 'Postal Service Clerks',\n",
       " 'Postal Service Mail Carriers',\n",
       " 'Postal Service Mail Sorters, Processors, and Processing Machine Operators',\n",
       " 'Postmasters and Mail Superintendents',\n",
       " 'Pourers and Casters, Metal',\n",
       " 'Power Distributors and Dispatchers',\n",
       " 'Power Plant Operators',\n",
       " 'Prepress Technicians and Workers',\n",
       " 'Preschool Teachers, Except Special Education',\n",
       " 'Pressers, Textile, Garment, and Related Materials',\n",
       " 'Print Binding and Finishing Workers',\n",
       " 'Printing Press Operators',\n",
       " 'Private Detectives and Investigators',\n",
       " 'Probation Officers and Correctional Treatment Specialists',\n",
       " 'Procurement Clerks',\n",
       " 'Production, Planning, and Expediting Clerks',\n",
       " 'Proofreaders and Copy Markers',\n",
       " 'Property, Real Estate, and Community Association Managers',\n",
       " 'Prosthodontists',\n",
       " 'Psychiatric Aides',\n",
       " 'Psychiatric Technicians',\n",
       " 'Psychiatrists',\n",
       " 'Psychology Teachers, Postsecondary',\n",
       " 'Public Relations Specialists',\n",
       " 'Pump Operators, Except Wellhead Pumpers',\n",
       " 'Purchasing Agents, Except Wholesale, Retail, and Farm Products',\n",
       " 'Purchasing Managers',\n",
       " 'Radiation Therapists',\n",
       " 'Radio, Cellular, and Tower Equipment Installers and Repairers',\n",
       " 'Radiologists',\n",
       " 'Rail Car Repairers',\n",
       " 'Rail Yard Engineers, Dinkey Operators, and Hostlers',\n",
       " 'Rail-Track Laying and Maintenance Equipment Operators',\n",
       " 'Railroad Conductors and Yardmasters',\n",
       " 'Real Estate Brokers',\n",
       " 'Real Estate Sales Agents',\n",
       " 'Receptionists and Information Clerks',\n",
       " 'Recreation Workers',\n",
       " 'Recreation and Fitness Studies Teachers, Postsecondary',\n",
       " 'Recreational Therapists',\n",
       " 'Recreational Vehicle Service Technicians',\n",
       " 'Refractory Materials Repairers, Except Brickmasons',\n",
       " 'Refuse and Recyclable Material Collectors',\n",
       " 'Registered Nurses',\n",
       " 'Rehabilitation Counselors',\n",
       " 'Reinforcing Iron and Rebar Workers',\n",
       " 'Reservation and Transportation Ticket Agents and Travel Clerks',\n",
       " 'Residential Advisors',\n",
       " 'Respiratory Therapists',\n",
       " 'Retail Salespersons',\n",
       " 'Riggers',\n",
       " 'Rock Splitters, Quarry',\n",
       " 'Rolling Machine Setters, Operators, and Tenders, Metal and Plastic',\n",
       " 'Roof Bolters, Mining',\n",
       " 'Roofers',\n",
       " 'Rotary Drill Operators, Oil and Gas',\n",
       " 'Roustabouts, Oil and Gas',\n",
       " 'Sailors and Marine Oilers',\n",
       " 'Sales Engineers',\n",
       " 'Sales Managers',\n",
       " 'Sales Representatives, Wholesale and Manufacturing, Except Technical and Scientific Products',\n",
       " 'Sales Representatives, Wholesale and Manufacturing, Technical and Scientific Products',\n",
       " 'Sawing Machine Setters, Operators, and Tenders, Wood',\n",
       " 'School Psychologists',\n",
       " 'Secondary School Teachers, Except Special and Career/Technical Education',\n",
       " 'Secretaries and Administrative Assistants, Except Legal, Medical, and Executive',\n",
       " 'Security Guards',\n",
       " 'Security and Fire Alarm Systems Installers',\n",
       " 'Segmental Pavers',\n",
       " 'Separating, Filtering, Clarifying, Precipitating, and Still Machine Setters, Operators, and Tenders',\n",
       " 'Septic Tank Servicers and Sewer Pipe Cleaners',\n",
       " 'Set and Exhibit Designers',\n",
       " 'Sewers, Hand',\n",
       " 'Sewing Machine Operators',\n",
       " 'Shampooers',\n",
       " 'Sheet Metal Workers',\n",
       " 'Ship Engineers',\n",
       " 'Shoe Machine Operators and Tenders',\n",
       " 'Shoe and Leather Workers and Repairers',\n",
       " 'Signal and Track Switch Repairers',\n",
       " 'Skincare Specialists',\n",
       " 'Slaughterers and Meat Packers',\n",
       " 'Social Science Research Assistants',\n",
       " 'Social Work Teachers, Postsecondary',\n",
       " 'Social and Community Service Managers',\n",
       " 'Social and Human Service Assistants',\n",
       " 'Sociologists',\n",
       " 'Sociology Teachers, Postsecondary',\n",
       " 'Soil and Plant Scientists',\n",
       " 'Solar Photovoltaic Installers',\n",
       " 'Sound Engineering Technicians',\n",
       " 'Special Education Teachers, Middle School',\n",
       " 'Special Education Teachers, Preschool',\n",
       " 'Special Education Teachers, Secondary School',\n",
       " 'Speech-Language Pathologists',\n",
       " 'Stationary Engineers and Boiler Operators',\n",
       " 'Statistical Assistants',\n",
       " 'Statisticians',\n",
       " 'Stonemasons',\n",
       " 'Structural Iron and Steel Workers',\n",
       " 'Structural Metal Fabricators and Fitters',\n",
       " 'Substance Abuse and Behavioral Disorder Counselors',\n",
       " 'Subway and Streetcar Operators',\n",
       " 'Surgical Assistants',\n",
       " 'Surgical Technologists',\n",
       " 'Survey Researchers',\n",
       " 'Surveyors',\n",
       " 'Switchboard Operators, Including Answering Service',\n",
       " 'Tailors, Dressmakers, and Custom Sewers',\n",
       " 'Tank Car, Truck, and Ship Loaders',\n",
       " 'Tapers',\n",
       " 'Tax Examiners and Collectors, and Revenue Agents',\n",
       " 'Tax Preparers',\n",
       " 'Team Assemblers',\n",
       " 'Technical Writers',\n",
       " 'Telecommunications Equipment Installers and Repairers, Except Line Installers',\n",
       " 'Telecommunications Line Installers and Repairers',\n",
       " 'Telemarketers',\n",
       " 'Telephone Operators',\n",
       " 'Tellers',\n",
       " 'Terrazzo Workers and Finishers',\n",
       " 'Textile Bleaching and Dyeing Machine Operators and Tenders',\n",
       " 'Textile Cutting Machine Setters, Operators, and Tenders',\n",
       " 'Textile Knitting and Weaving Machine Setters, Operators, and Tenders',\n",
       " 'Textile Winding, Twisting, and Drawing Out Machine Setters, Operators, and Tenders',\n",
       " 'Timing Device Assemblers and Adjusters',\n",
       " 'Tire Builders',\n",
       " 'Tire Repairers and Changers',\n",
       " 'Title Examiners, Abstractors, and Searchers',\n",
       " 'Tool Grinders, Filers, and Sharpeners',\n",
       " 'Tool and Die Makers',\n",
       " 'Tour Guides and Escorts',\n",
       " 'Traffic Technicians',\n",
       " 'Training and Development Managers',\n",
       " 'Training and Development Specialists',\n",
       " 'Transit and Railroad Police',\n",
       " 'Transportation Security Screeners',\n",
       " 'Travel Agents',\n",
       " 'Travel Guides',\n",
       " 'Tree Trimmers and Pruners',\n",
       " 'Tutors',\n",
       " 'Umpires, Referees, and Other Sports Officials',\n",
       " 'Upholsterers',\n",
       " 'Urban and Regional Planners',\n",
       " 'Ushers, Lobby Attendants, and Ticket Takers',\n",
       " 'Veterinarians',\n",
       " 'Veterinary Assistants and Laboratory Animal Caretakers',\n",
       " 'Veterinary Technologists and Technicians',\n",
       " 'Waiters and Waitresses',\n",
       " 'Water and Wastewater Treatment Plant and System Operators',\n",
       " 'Web Developers',\n",
       " 'Weighers, Measurers, Checkers, and Samplers, Recordkeeping',\n",
       " 'Welding, Soldering, and Brazing Machine Setters, Operators, and Tenders',\n",
       " 'Wellhead Pumpers',\n",
       " 'Wholesale and Retail Buyers, Except Farm Products',\n",
       " 'Wind Turbine Service Technicians',\n",
       " 'Woodworking Machine Setters, Operators, and Tenders, Except Sawing',\n",
       " 'Word Processors and Typists',\n",
       " 'Zoologists and Wildlife Biologists'}"
      ]
     },
     "execution_count": 45,
     "metadata": {},
     "output_type": "execute_result"
    }
   ],
   "source": [
    "#find all occupations that are in both cps and onet\n",
    "cps_occ = set(df_cps['ONET18_Title_LY'].unique())\n",
    "onet_occ = set(df_skills.index.unique())\n",
    "\n",
    "relevant_occ = cps_occ & onet_occ\n",
    "relevant_occ"
   ]
  },
  {
   "cell_type": "code",
   "execution_count": 46,
   "metadata": {},
   "outputs": [],
   "source": [
    "skills_dist\n",
    "df_concat\n",
    "df_concat_filt = pd.concat([skills_dist_filt.multiply(3.0),knowledge_dist_filt.multiply(2.0),in_dist_filt,gwas_dist_filt]).groupby(level =0).mean()\n",
    "df_new = pd.concat([skills_dist_filt.multiply(1.3),knowledge_dist_filt.multiply(1.2),in_dist_filt,gwas_dist_filt]).groupby(level =0).mean()\n",
    "df_test = pd.concat([skills_dist_filt.multiply(1.3),knowledge_dist_filt.multiply(1.2),in_dist_filt,gwas_dist_filt]).groupby(level =0).mean()"
   ]
  },
  {
   "cell_type": "code",
   "execution_count": 47,
   "metadata": {},
   "outputs": [
    {
     "name": "stdout",
     "output_type": "stream",
     "text": [
      "-0.0032435164145185403\n",
      "434\n",
      "Coaches and Scouts 0.3273469387755102\n",
      "Electrical Power-Line Installers and Repairers -0.33387755102040817\n"
     ]
    }
   ],
   "source": [
    "avg_occ = 0\n",
    "count = 0\n",
    "occ_max = ''\n",
    "max_r = 0\n",
    "occ_min = ''\n",
    "min_r = 1\n",
    "\n",
    "for occ in relevant_occ:\n",
    "    cps_len = len(df_cps[df_cps['ONET18_Title_LY'] == occ].sort_values(by = 'pct_tot', ascending = False)['ONET18_Title'])\n",
    "    if cps_len > 50:\n",
    "        corr, p = kendall_tau_rank(df_cps,df_new,0,50,occ)\n",
    "        count += 1 \n",
    "        avg_occ += corr\n",
    "        if corr >= max_r: \n",
    "            occ_max = occ\n",
    "            max_r = corr\n",
    "        if corr <= min_r: \n",
    "            occ_min = occ\n",
    "            min_r = corr\n",
    "print(avg_occ/count)\n",
    "print(count)\n",
    "print(occ_max, max_r)\n",
    "print(occ_min, min_r)"
   ]
  },
  {
   "cell_type": "code",
   "execution_count": 48,
   "metadata": {},
   "outputs": [],
   "source": [
    "# df_cps[df_cps['ONET18_Title_LY'] == 'Etchers and Engravers'].sort_values(by = 'pct_tot', ascending = False)['ONET18_Title']\n",
    "# df_cps"
   ]
  },
  {
   "cell_type": "code",
   "execution_count": null,
   "metadata": {},
   "outputs": [],
   "source": [
    "skills_dist\n",
    "df_concat\n",
    "df_concat_filt = pd.concat([skills_dist_filt.multiply(3.0),knowledge_dist_filt.multiply(2.0),in_dist_filt,gwas_dist_filt]).groupby(level =0).mean()\n",
    "df_new = pd.concat([skills_dist_filt.multiply(1.3),knowledge_dist_filt.multiply(1.2),in_dist_filt,gwas_dist_filt]).groupby(level =0).mean()\n",
    "df_test = pd.concat([skills_dist_filt.multiply(1.3),knowledge_dist_filt.multiply(1.2),in_dist_filt,gwas_dist_filt]).groupby(level =0).mean()\n"
   ]
  },
  {
   "cell_type": "code",
   "execution_count": 102,
   "metadata": {},
   "outputs": [
    {
     "name": "stdout",
     "output_type": "stream",
     "text": [
      "22.018790913158497\n",
      "434\n",
      "First-Line Supervisors of Non-Retail Sales Workers 78.34674622646243\n",
      "Office Machine Operators, Except Computer 0.0\n",
      "Title Examiners, Abstractors, and Searchers 71.41240257266489\n",
      "Phlebotomists 54.58734158301426\n"
     ]
    }
   ],
   "source": [
    "avg_occ = 0\n",
    "count = 0\n",
    "occ_max = ''\n",
    "max_r = 0\n",
    "occ_min = ''\n",
    "min_r = 1\n",
    "\n",
    "cov_max = ''\n",
    "max_c = 0\n",
    "cov_min = ''\n",
    "min_c = 1\n",
    "\n",
    "# occ_dictionary = {}\n",
    "occ_dictionary_skills = {}\n",
    "for occ in relevant_occ:\n",
    "    cps_len = len(df_cps[df_cps['ONET18_Title_LY'] == occ].sort_values(by = 'pct_tot', ascending = False)['ONET18_Title'])\n",
    "    if cps_len > 50:\n",
    "        n = percentage(occ,skills_dist,df_cps,0,50)\n",
    "        d = percentage_default(occ,df_cps,0,50)\n",
    "        perc = n/d\n",
    "        count += 1 \n",
    "        avg_occ += perc\n",
    "        occ_dictionary_skills[occ] = perc\n",
    "        if n >= max_c:\n",
    "            cov_max =occ\n",
    "            max_c = n \n",
    "        if n <= max_c:\n",
    "            cov_min =occ\n",
    "            min_c = n  \n",
    "        if perc >= max_r: \n",
    "            occ_max = occ\n",
    "            max_r = perc\n",
    "        if perc <= min_r: \n",
    "            occ_min = occ\n",
    "            min_r = perc\n",
    "print(100*avg_occ/count)\n",
    "print(count)\n",
    "print(occ_max, 100*max_r)\n",
    "print(occ_min, min_r)\n",
    "print(cov_max, max_c)\n",
    "print(cov_min, min_c)"
   ]
  },
  {
   "cell_type": "code",
   "execution_count": 57,
   "metadata": {},
   "outputs": [
    {
     "data": {
      "text/plain": [
       "KendalltauResult(correlation=-0.9999999999999999, pvalue=0.016666666666666666)"
      ]
     },
     "execution_count": 57,
     "metadata": {},
     "output_type": "execute_result"
    }
   ],
   "source": [
    "# kendalltau([1,2,3,4,5], [5,4,3,2,1])"
   ]
  },
  {
   "cell_type": "code",
   "execution_count": 58,
   "metadata": {},
   "outputs": [
    {
     "data": {
      "text/plain": [
       "KendalltauResult(correlation=0.9486832980505137, pvalue=0.022977401503206086)"
      ]
     },
     "execution_count": 58,
     "metadata": {},
     "output_type": "execute_result"
    }
   ],
   "source": [
    "# kendalltau([1,2,3,4,5], [6,8,8,9,10])"
   ]
  },
  {
   "cell_type": "code",
   "execution_count": 60,
   "metadata": {},
   "outputs": [
    {
     "data": {
      "text/plain": [
       "{'Advertising Sales Agents': 0.47791291637827404,\n",
       " 'Administrative Law Judges, Adjudicators, and Hearing Officers': 0.08979431572515985,\n",
       " 'Database Administrators': 0.4311419527978906,\n",
       " 'Area, Ethnic, and Cultural Studies Teachers, Postsecondary': 0.13402182638596113,\n",
       " 'Lifeguards, Ski Patrol, and Other Recreational Protective Service Workers': 0.3788194675851128,\n",
       " 'Broadcast Technicians': 0.01552836987257468,\n",
       " 'Education Administrators, Postsecondary': 0.3464248028971981,\n",
       " 'Couriers and Messengers': 0.09600641393203023,\n",
       " 'Philosophy and Religion Teachers, Postsecondary': 0.12329502304478811,\n",
       " 'Web Developers': 0.4677216008643017,\n",
       " 'General and Operations Managers': 0.11762128630524298,\n",
       " 'Tapers': 0.16394308362466173,\n",
       " 'Nuclear Medicine Technologists': 0.23360165980704603,\n",
       " 'Residential Advisors': 0.10932848087927546,\n",
       " 'Farm Equipment Mechanics and Service Technicians': 0.4031956974793097,\n",
       " 'Directors, Religious Activities and Education': 0.28421489492260527,\n",
       " 'Crushing, Grinding, and Polishing Machine Setters, Operators, and Tenders': 0.26291916171678087,\n",
       " 'Water and Wastewater Treatment Plant and System Operators': 0.041699379535921934,\n",
       " 'Forensic Science Technicians': 0.44960895365155235,\n",
       " 'Food Preparation Workers': 0.49489764115917734,\n",
       " 'Drywall and Ceiling Tile Installers': 0.6758993721961134,\n",
       " 'Oral and Maxillofacial Surgeons': 0.3469037198719783,\n",
       " 'Medical Appliance Technicians': 0.03826945125206167,\n",
       " 'Atmospheric, Earth, Marine, and Space Sciences Teachers, Postsecondary': 0.14481506258045126,\n",
       " 'First-Line Supervisors of Construction Trades and Extraction Workers': 0.15242826123928147,\n",
       " 'Hazardous Materials Removal Workers': 0.19860252336579143,\n",
       " 'Special Education Teachers, Middle School': 0.6584232988279061,\n",
       " 'Meeting, Convention, and Event Planners': 0.17469175010544097,\n",
       " 'Occupational Therapists': 0.8463680094061421,\n",
       " 'Orderlies': 0.10950532034307757,\n",
       " 'Painting, Coating, and Decorating Workers': 0.13302880355450533,\n",
       " 'Geoscientists, Except Hydrologists and Geographers': 0.16184814102734746,\n",
       " 'Education Teachers, Postsecondary': 0.13653821247032283,\n",
       " 'Recreational Vehicle Service Technicians': 0.33681971515957293,\n",
       " 'Purchasing Agents, Except Wholesale, Retail, and Farm Products': 0.02715377916261514,\n",
       " 'Graphic Designers': 0.12821889107572404,\n",
       " 'Grinding, Lapping, Polishing, and Buffing Machine Tool Setters, Operators, and Tenders, Metal and Plastic': 0.21897058827500407,\n",
       " 'First-Line Supervisors of Office and Administrative Support Workers': 0.22274884689998703,\n",
       " 'Correctional Officers and Jailers': 0.12142835177004319,\n",
       " 'Probation Officers and Correctional Treatment Specialists': 0.3338576843846917,\n",
       " 'Animal Breeders': 0.14217677806241372,\n",
       " 'First-Line Supervisors of Personal Service Workers': 0.09499551827071268,\n",
       " 'Cooks, Short Order': 0.18975561262344504,\n",
       " 'Tire Repairers and Changers': 0.15431189744297047,\n",
       " 'Mobile Heavy Equipment Mechanics, Except Engines': 0.3887180163257027,\n",
       " 'Correspondence Clerks': 0.5707049517789047,\n",
       " 'Team Assemblers': 0.5808915898836466,\n",
       " 'Social and Human Service Assistants': 0.3268350347473059,\n",
       " 'Orthodontists': 0.6029632591730241,\n",
       " 'Recreation Workers': 0.0853683023721298,\n",
       " 'Pressers, Textile, Garment, and Related Materials': 0.33224235102570315,\n",
       " 'Elementary School Teachers, Except Special Education': 0.4300325742004097,\n",
       " 'Radio, Cellular, and Tower Equipment Installers and Repairers': 0.13538209368643722,\n",
       " 'Patternmakers, Metal and Plastic': 0.4189100147739406,\n",
       " 'Helpers--Painters, Paperhangers, Plasterers, and Stucco Masons': 0.08903040539438062,\n",
       " 'Art Directors': 0.22610398899051284,\n",
       " 'Diagnostic Medical Sonographers': 0.44080843291155497,\n",
       " 'Database Architects': 0.21706573867143,\n",
       " 'Computer Hardware Engineers': 0.2920938878719369,\n",
       " 'Railroad Conductors and Yardmasters': 0.09301988514199198,\n",
       " 'Chefs and Head Cooks': 0.37668863282248427,\n",
       " 'Labor Relations Specialists': 0.27647650296011267,\n",
       " 'Umpires, Referees, and Other Sports Officials': 0.11382414188700021,\n",
       " 'Occupational Health and Safety Specialists': 0.0250160092057275,\n",
       " 'Parts Salespersons': 0.3741408206917344,\n",
       " 'Sewers, Hand': 0.15381372716795297,\n",
       " 'Cooling and Freezing Equipment Operators and Tenders': 0.0954819102031959,\n",
       " 'Mixing and Blending Machine Setters, Operators, and Tenders': 0.26718412553847437,\n",
       " 'Insurance Appraisers, Auto Damage': 0.031393812822455826,\n",
       " 'Helpers--Roofers': 0.5017157106924055,\n",
       " 'Nurse Practitioners': 0.7542062888567377,\n",
       " 'Surgical Technologists': 0.6478986811461268,\n",
       " 'Human Resources Specialists': 0.15373867771272734,\n",
       " 'Electronics Engineers, Except Computer': 0.3685897982006639,\n",
       " 'Helpers--Carpenters': 0.42730536855683066,\n",
       " 'Psychiatrists': 0.1665452403514899,\n",
       " 'Construction Laborers': 0.30069444587248795,\n",
       " 'Dental Assistants': 0.49354611022318856,\n",
       " 'Microbiologists': 0.23021689254776392,\n",
       " 'Environmental Scientists and Specialists, Including Health': 0.14844826608505518,\n",
       " 'Welding, Soldering, and Brazing Machine Setters, Operators, and Tenders': 0.3520908668779893,\n",
       " 'Graders and Sorters, Agricultural Products': 0.11485661391899481,\n",
       " 'Retail Salespersons': 0.5430765102855891,\n",
       " 'Sawing Machine Setters, Operators, and Tenders, Wood': 0.32632632539749207,\n",
       " 'Helpers--Brickmasons, Blockmasons, Stonemasons, and Tile and Marble Setters': 0.3512601379073735,\n",
       " 'Concierges': 0.1941823050986989,\n",
       " 'Career/Technical Education Teachers, Middle School': 0.4435105609664316,\n",
       " 'Helpers--Electricians': 0.3520897255022982,\n",
       " 'Driver/Sales Workers': 0.28893524701292406,\n",
       " 'Biochemists and Biophysicists': 0.22738576616170153,\n",
       " 'Social and Community Service Managers': 0.287112159672133,\n",
       " 'Cleaners of Vehicles and Equipment': 0.2810836384283335,\n",
       " 'Rail Car Repairers': 0.3829919291128582,\n",
       " 'Industrial Engineers': 0.28062244237316347,\n",
       " 'Telecommunications Line Installers and Repairers': 0.28715737837828076,\n",
       " 'Instructional Coordinators': 0.05974725721667297,\n",
       " 'Pipelayers': 0.4044621199144756,\n",
       " 'Exercise Physiologists': 0.5671845831416816,\n",
       " 'First-Line Supervisors of Non-Retail Sales Workers': 0.7884769774544764,\n",
       " 'Archivists': 0.09101928256356735,\n",
       " 'Construction and Building Inspectors': 0.020338654847379244,\n",
       " 'Medical Equipment Repairers': 0.13783919872387956,\n",
       " 'Special Education Teachers, Secondary School': 0.5623496622687582,\n",
       " 'Dental Hygienists': 0.4950447709757113,\n",
       " 'Coaches and Scouts': 0.05136504692291861,\n",
       " 'Nurse Midwives': 0.7476904461091176,\n",
       " 'Commercial Divers': 0.1883544032297875,\n",
       " 'Community Health Workers': 0.3526035645331858,\n",
       " 'Hydrologists': 0.12062180335032585,\n",
       " 'Postal Service Mail Carriers': 0.7728705392155439,\n",
       " 'Computer Programmers': 0.36952239436564105,\n",
       " 'Landscaping and Groundskeeping Workers': 0.29683373015095166,\n",
       " 'Social Work Teachers, Postsecondary': 0.13380115072857082,\n",
       " 'Cutters and Trimmers, Hand': 0.31297680296308034,\n",
       " 'Food Service Managers': 0.30557853414781805,\n",
       " 'Loan Officers': 0.5689582043116123,\n",
       " 'Cutting, Punching, and Press Machine Setters, Operators, and Tenders, Metal and Plastic': 0.38877773226456996,\n",
       " 'Woodworking Machine Setters, Operators, and Tenders, Except Sawing': 0.2831298297534587,\n",
       " 'Human Resources Managers': 0.3750137088080689,\n",
       " 'Anesthesiologists': 0.7014987357896855,\n",
       " 'Roof Bolters, Mining': 0.2253480086810887,\n",
       " 'School Psychologists': 0.06384555647167836,\n",
       " 'Animal Trainers': 0.1596484262124024,\n",
       " 'Photographic Process Workers and Processing Machine Operators': 0.17388174920858576,\n",
       " 'Multiple Machine Tool Setters, Operators, and Tenders, Metal and Plastic': 0.2957799667405774,\n",
       " 'Set and Exhibit Designers': 0.0852217151975149,\n",
       " 'Paper Goods Machine Setters, Operators, and Tenders': 0.23233070313440726,\n",
       " 'Biological Technicians': 0.3290057145650882,\n",
       " 'Telecommunications Equipment Installers and Repairers, Except Line Installers': 0.36943271004964756,\n",
       " 'Earth Drillers, Except Oil and Gas': 0.13385717672276728,\n",
       " 'Sales Representatives, Wholesale and Manufacturing, Technical and Scientific Products': 0.49065676716911066,\n",
       " 'Pediatricians, General': 0.6768168637758982,\n",
       " 'Printing Press Operators': 0.2938728021288614,\n",
       " 'Laundry and Dry-Cleaning Workers': 0.24768050908735217,\n",
       " 'Law Teachers, Postsecondary': 0.2783441485689796,\n",
       " 'Technical Writers': 0.1448934077776589,\n",
       " 'Nursing Instructors and Teachers, Postsecondary': 0.1528599745561112,\n",
       " 'Fiberglass Laminators and Fabricators': 0.37285907738541274,\n",
       " 'Executive Secretaries and Executive Administrative Assistants': 0.40103878258157,\n",
       " 'Milling and Planing Machine Setters, Operators, and Tenders, Metal and Plastic': 0.3863684165781165,\n",
       " 'Bookkeeping, Accounting, and Auditing Clerks': 0.5455639652202918,\n",
       " 'Explosives Workers, Ordnance Handling Experts, and Blasters': 0.10054553281661943,\n",
       " 'First-Line Supervisors of Mechanics, Installers, and Repairers': 0.13421759104362757,\n",
       " 'Locker Room, Coatroom, and Dressing Room Attendants': 0.28584152247188815,\n",
       " 'Desktop Publishers': 0.013980398873357091,\n",
       " 'Dispatchers, Except Police, Fire, and Ambulance': 0.16240221752872683,\n",
       " 'Packers and Packagers, Hand': 0.39296339974873473,\n",
       " 'Civil Engineers': 0.381046368099025,\n",
       " 'Signal and Track Switch Repairers': 0.30972496511137837,\n",
       " 'Bakers': 0.3495614427175144,\n",
       " 'Marketing Managers': 0.2295914401946245,\n",
       " 'Timing Device Assemblers and Adjusters': 0.2649082649549078,\n",
       " 'Coil Winders, Tapers, and Finishers': 0.2331765279101619,\n",
       " 'Fundraisers': 0.212516763645216,\n",
       " 'Reservation and Transportation Ticket Agents and Travel Clerks': 0.35614433919524136,\n",
       " 'Inspectors, Testers, Sorters, Samplers, and Weighers': 0.5350347126316501,\n",
       " 'Audiologists': 0.7024570542176048,\n",
       " 'Nursing Assistants': 0.6299838991724416,\n",
       " 'Tour Guides and Escorts': 0.3612648091075282,\n",
       " 'Electrical and Electronic Equipment Assemblers': 0.26717573640481046,\n",
       " 'Industrial Production Managers': 0.4599444731007045,\n",
       " 'Mental Health Counselors': 0.4712095379015647,\n",
       " 'Cabinetmakers and Bench Carpenters': 0.143195139528087,\n",
       " 'Helpers--Extraction Workers': 0.24683845728891576,\n",
       " 'Judges, Magistrate Judges, and Magistrates': 0.0837748695521238,\n",
       " 'Tailors, Dressmakers, and Custom Sewers': 0.16034176586455093,\n",
       " 'Psychiatric Technicians': 0.4813297385209272,\n",
       " 'Child, Family, and School Social Workers': 0.5855013470749846,\n",
       " 'Neurologists': 0.6700506723466204,\n",
       " 'Business Teachers, Postsecondary': 0.16177591405934694,\n",
       " 'Forest and Conservation Technicians': 0.06332284401455701,\n",
       " 'Refractory Materials Repairers, Except Brickmasons': 0.0735940294428002,\n",
       " 'Communications Teachers, Postsecondary': 0.1410377484343915,\n",
       " 'First-Line Supervisors of Helpers, Laborers, and Material Movers, Hand': 0.11570926581853945,\n",
       " 'Criminal Justice and Law Enforcement Teachers, Postsecondary': 0.19747059762899638,\n",
       " 'Heavy and Tractor-Trailer Truck Drivers': 0.1916274548594079,\n",
       " 'Transit and Railroad Police': 0.11879085144021066,\n",
       " 'Payroll and Timekeeping Clerks': 0.6306638649441632,\n",
       " 'Chief Executives': 0.731201668044451,\n",
       " 'Athletes and Sports Competitors': 0.016404453089400476,\n",
       " 'Aerospace Engineers': 0.6073613617637815,\n",
       " 'Molding, Coremaking, and Casting Machine Setters, Operators, and Tenders, Metal and Plastic': 0.23033242108656432,\n",
       " 'Environmental Science and Protection Technicians, Including Health': 0.09255988884280392,\n",
       " 'Medical and Health Services Managers': 0.3278300836825228,\n",
       " 'Commercial and Industrial Designers': 0.05555436028768715,\n",
       " 'Stationary Engineers and Boiler Operators': 0.14900138987670816,\n",
       " 'Tellers': 0.57770266810078,\n",
       " 'Mathematicians': 0.7514721751020317,\n",
       " 'Sociology Teachers, Postsecondary': 0.1295240996285118,\n",
       " 'Medical and Clinical Laboratory Technologists': 0.12918321387742993,\n",
       " 'Cooks, Institution and Cafeteria': 0.3813848865425632,\n",
       " 'Electricians': 0.14058149225567274,\n",
       " 'Painters, Construction and Maintenance': 0.573846993543042,\n",
       " 'Hearing Aid Specialists': 0.48664889996921545,\n",
       " 'Materials Scientists': 0.14466936561944413,\n",
       " 'Secretaries and Administrative Assistants, Except Legal, Medical, and Executive': 0.3832451182724749,\n",
       " 'Geography Teachers, Postsecondary': 0.11375131149620946,\n",
       " 'Prosthodontists': 0.21691072271235237,\n",
       " 'Dishwashers': 0.30235534493637506,\n",
       " 'Automotive Body and Related Repairers': 0.1552138634873705,\n",
       " 'Secondary School Teachers, Except Special and Career/Technical Education': 0.5547491871706821,\n",
       " 'First-Line Supervisors of Landscaping, Lawn Service, and Groundskeeping Workers': 0.6370007047423055,\n",
       " 'Psychology Teachers, Postsecondary': 0.11784319142671132,\n",
       " 'Floor Layers, Except Carpet, Wood, and Hard Tiles': 0.24677032374539784,\n",
       " 'Waiters and Waitresses': 0.5455116053850394,\n",
       " 'Sales Managers': 0.21586276256743672,\n",
       " 'Separating, Filtering, Clarifying, Precipitating, and Still Machine Setters, Operators, and Tenders': 0.19978767908378214,\n",
       " 'Mechanical Engineers': 0.4042788308103185,\n",
       " 'Mathematical Science Teachers, Postsecondary': 0.15923379513144306,\n",
       " 'Sewing Machine Operators': 0.3134899595052891,\n",
       " 'Cardiovascular Technologists and Technicians': 0.4486358084578416,\n",
       " 'Training and Development Specialists': 0.10763286075302916,\n",
       " 'Aircraft Mechanics and Service Technicians': 0.18712610072841068,\n",
       " 'Title Examiners, Abstractors, and Searchers': 0.7067358146546041,\n",
       " 'Personal Financial Advisors': 0.39706292881835037,\n",
       " 'Network and Computer Systems Administrators': 0.38748722593620166,\n",
       " 'Rehabilitation Counselors': 0.48608958581258005,\n",
       " 'Industrial Truck and Tractor Operators': 0.12970492598086644,\n",
       " 'Costume Attendants': 0.19179183898059493,\n",
       " 'Photographers': 0.11512012057886858,\n",
       " 'Tree Trimmers and Pruners': 0.10848104536994906,\n",
       " 'Roofers': 0.5176443309926495,\n",
       " 'Special Education Teachers, Preschool': 0.6185337698139698,\n",
       " 'File Clerks': 0.3386111608813951,\n",
       " 'Makeup Artists, Theatrical and Performance': 0.40853857079196415,\n",
       " 'Sales Representatives, Wholesale and Manufacturing, Except Technical and Scientific Products': 0.5610221289088951,\n",
       " 'Bill and Account Collectors': 0.5688815215177536,\n",
       " 'Fashion Designers': 0.06891042990538494,\n",
       " 'Model Makers, Metal and Plastic': 0.3233273867465202,\n",
       " 'Data Entry Keyers': 0.3032878119582676,\n",
       " 'Surgical Assistants': 0.45116070247336276,\n",
       " 'Computer Network Support Specialists': 0.206730829507236,\n",
       " 'Physician Assistants': 0.47391731240682966,\n",
       " 'Food Batchmakers': 0.3136386629642789,\n",
       " 'Sociologists': 0.16006888086321103,\n",
       " 'Dermatologists': 0.6720437496925056,\n",
       " 'Buyers and Purchasing Agents, Farm Products': 0.026935106884178994,\n",
       " 'Museum Technicians and Conservators': 0.0,\n",
       " 'Maids and Housekeeping Cleaners': 0.42948719041057376,\n",
       " 'Childcare Workers': 0.3939904883703282,\n",
       " 'Tank Car, Truck, and Ship Loaders': 0.028294683559982978,\n",
       " 'Human Resources Assistants, Except Payroll and Timekeeping': 0.5702702852097066,\n",
       " 'Personal Care Aides': 0.14798115539404688,\n",
       " 'Cashiers': 0.5347896709031436,\n",
       " 'Counter and Rental Clerks': 0.36658607007571986,\n",
       " 'Order Clerks': 0.42280552029291113,\n",
       " 'Ophthalmic Medical Technicians': 0.624441065131119,\n",
       " 'Musical Instrument Repairers and Tuners': 0.09524721272206405,\n",
       " 'Architecture Teachers, Postsecondary': 0.1129793889030921,\n",
       " 'Agricultural Technicians': 0.1809121384704926,\n",
       " 'Bicycle Repairers': 0.246733096268429,\n",
       " 'Dietetic Technicians': 0.5600593997908919,\n",
       " 'Chemists': 0.17580752334635724,\n",
       " 'Floral Designers': 0.11391053275874825,\n",
       " 'Arbitrators, Mediators, and Conciliators': 0.14602374345365138,\n",
       " 'Medical Assistants': 0.5598392557547185,\n",
       " 'Computer Systems Analysts': 0.44686088857826195,\n",
       " 'Computer User Support Specialists': 0.20462080278372075,\n",
       " 'Market Research Analysts and Marketing Specialists': 0.32714207965914976,\n",
       " 'Cost Estimators': 0.16855382132665253,\n",
       " 'Slaughterers and Meat Packers': 0.3510452042132161,\n",
       " 'Dental Laboratory Technicians': 0.23132329360247214,\n",
       " 'Rock Splitters, Quarry': 0.16305174168978695,\n",
       " 'First-Line Supervisors of Housekeeping and Janitorial Workers': 0.5976939121704661,\n",
       " 'Paralegals and Legal Assistants': 0.3199083992155384,\n",
       " 'Athletic Trainers': 0.31696460817785677,\n",
       " 'Political Scientists': 0.15938946769435988,\n",
       " 'Insurance Sales Agents': 0.5769382960495479,\n",
       " 'Interior Designers': 0.05739821887803647,\n",
       " 'Industrial-Organizational Psychologists': 0.44853711720356343,\n",
       " 'Middle School Teachers, Except Special and Career/Technical Education': 0.5367613664100422,\n",
       " 'Epidemiologists': 0.09041647296359479,\n",
       " 'Butchers and Meat Cutters': 0.2704302342822344,\n",
       " 'Film and Video Editors': 0.30559971955270676,\n",
       " 'Craft Artists': 0.2770998344024599,\n",
       " 'Tax Preparers': 0.31984252260149093,\n",
       " 'Registered Nurses': 0.7383233562263706,\n",
       " 'Electromechanical Equipment Assemblers': 0.2804195757924695,\n",
       " 'Electrical Power-Line Installers and Repairers': 0.2738677099080419,\n",
       " 'Ophthalmic Laboratory Technicians': 0.30696913707103135,\n",
       " 'Helpers--Pipelayers, Plumbers, Pipefitters, and Steamfitters': 0.4140776464618558,\n",
       " 'Meat, Poultry, and Fish Cutters and Trimmers': 0.21249481639783666,\n",
       " 'Chemical Technicians': 0.11849352753450451,\n",
       " 'Automotive and Watercraft Service Attendants': 0.09063588208034047,\n",
       " 'Healthcare Social Workers': 0.5759865605797729,\n",
       " 'Airline Pilots, Copilots, and Flight Engineers': 0.1558172928794164,\n",
       " 'Psychiatric Aides': 0.5504512846983747,\n",
       " 'Interpreters and Translators': 0.1807273785286034,\n",
       " 'Historians': 0.2676669272951537,\n",
       " 'Foundry Mold and Coremakers': 0.2562935819710789,\n",
       " 'Dentists, General': 0.45913890940444796,\n",
       " 'Substance Abuse and Behavioral Disorder Counselors': 0.5671430784468774,\n",
       " 'Brickmasons and Blockmasons': 0.3836783377089054,\n",
       " 'Forestry and Conservation Science Teachers, Postsecondary': 0.09457821585283417,\n",
       " 'Logisticians': 0.11967550729457421,\n",
       " 'Janitors and Cleaners, Except Maids and Housekeeping Cleaners': 0.48332004040326243,\n",
       " 'Lawyers': 0.09688712386785932,\n",
       " 'Bartenders': 0.5730493985349224,\n",
       " 'Wholesale and Retail Buyers, Except Farm Products': 0.027869356814020755,\n",
       " 'Customer Service Representatives': 0.5850762729884859,\n",
       " 'Mental Health and Substance Abuse Social Workers': 0.4688640069725142,\n",
       " 'Sheet Metal Workers': 0.2264595143111256,\n",
       " 'Public Relations Specialists': 0.2934720892909264,\n",
       " 'Geographers': 0.2626962037382149,\n",
       " 'Camera and Photographic Equipment Repairers': 0.16597230941045454,\n",
       " 'Agricultural Engineers': 0.4294664006736204,\n",
       " 'English Language and Literature Teachers, Postsecondary': 0.1385213623500298,\n",
       " 'Clergy': 0.46021003807727306,\n",
       " 'Administrative Services Managers': 0.03851782449756508,\n",
       " 'Cooks, Fast Food': 0.2083335299820995,\n",
       " 'Recreation and Fitness Studies Teachers, Postsecondary': 0.16202893090618742,\n",
       " 'Foreign Language and Literature Teachers, Postsecondary': 0.15115169732042438,\n",
       " 'Medical Equipment Preparers': 0.04402399950217247,\n",
       " 'Orthotists and Prosthetists': 0.3272022870146344,\n",
       " 'Property, Real Estate, and Community Association Managers': 0.3468860639456284,\n",
       " 'Grinding and Polishing Workers, Hand': 0.2751632737815059,\n",
       " 'Veterinary Technologists and Technicians': 0.33082782094711516,\n",
       " 'Chemical Equipment Operators and Tenders': 0.13078050573396052,\n",
       " 'Security and Fire Alarm Systems Installers': 0.28889114724056025,\n",
       " 'Construction Managers': 0.2893229348348504,\n",
       " 'Curators': 0.10253688419266707,\n",
       " 'Pharmacists': 0.5626949158395755,\n",
       " 'Chemistry Teachers, Postsecondary': 0.10897341085217968,\n",
       " 'Baggage Porters and Bellhops': 0.056987398411207646,\n",
       " 'Cutting and Slicing Machine Setters, Operators, and Tenders': 0.07138092502272657,\n",
       " 'Travel Guides': 0.010904835005156082,\n",
       " 'Maintenance and Repair Workers, General': 0.2623939756547013,\n",
       " 'Structural Iron and Steel Workers': 0.2857918705980691,\n",
       " 'Postmasters and Mail Superintendents': 0.6136536043796793,\n",
       " 'Layout Workers, Metal and Plastic': 0.22160036176625775,\n",
       " 'Continuous Mining Machine Operators': 0.24129927944066212,\n",
       " 'Social Science Research Assistants': 0.12196616425620638,\n",
       " 'Hosts and Hostesses, Restaurant, Lounge, and Coffee Shop': 0.615486249663156,\n",
       " 'Farm Labor Contractors': 0.051961193763554445,\n",
       " 'Office Clerks, General': 0.2955387536551553,\n",
       " 'Office Machine Operators, Except Computer': 0.04551948955997262,\n",
       " 'History Teachers, Postsecondary': 0.1293260907619105,\n",
       " 'Survey Researchers': 0.43628085928410576,\n",
       " 'Mail Clerks and Mail Machine Operators, Except Postal Service': 0.02185556568925356,\n",
       " 'Podiatrists': 0.2592379805041798,\n",
       " 'Highway Maintenance Workers': 0.29528519034652334,\n",
       " 'Pharmacy Technicians': 0.22615784214042517,\n",
       " 'Agricultural Sciences Teachers, Postsecondary': 0.1133948927850521,\n",
       " 'Food Servers, Nonrestaurant': 0.5683398897157103,\n",
       " 'Library Assistants, Clerical': 0.36248597384258796,\n",
       " 'Operating Engineers and Other Construction Equipment Operators': 0.08898321345052683,\n",
       " 'Packaging and Filling Machine Operators and Tenders': 0.23984296267379998,\n",
       " 'Editors': 0.2358997722584092,\n",
       " 'Computer Science Teachers, Postsecondary': 0.10363525141794692,\n",
       " 'Telemarketers': 0.48466705481260836,\n",
       " 'Computer, Automated Teller, and Office Machine Repairers': 0.3672199820720142,\n",
       " 'Production, Planning, and Expediting Clerks': 0.21811399383566196,\n",
       " 'Computer and Information Systems Managers': 0.14950165975339844,\n",
       " 'Merchandise Displayers and Window Trimmers': 0.17193515958256445,\n",
       " 'Shampooers': 0.11879035269444747,\n",
       " 'Radiologists': 0.7051359565171219,\n",
       " 'Zoologists and Wildlife Biologists': 0.2512635731422204,\n",
       " 'Physical Therapists': 0.7613036809557487,\n",
       " 'Cooks, Restaurant': 0.3105531424983614,\n",
       " 'Management Analysts': 0.24127772123664118,\n",
       " 'Home Health Aides': 0.24337728088747657,\n",
       " 'Economics Teachers, Postsecondary': 0.12777467503103643,\n",
       " 'First-Line Supervisors of Production and Operating Workers': 0.1972664616424986,\n",
       " 'Statisticians': 0.6949609788582849,\n",
       " 'Preschool Teachers, Except Special Education': 0.5573847580670992,\n",
       " 'First-Line Supervisors of Retail Sales Workers': 0.6475938462785994,\n",
       " 'Sound Engineering Technicians': 0.24848617767100725,\n",
       " 'Tutors': 0.5864236359443802,\n",
       " 'Agricultural Equipment Operators': 0.21307735081439835,\n",
       " 'Industrial Machinery Mechanics': 0.29198591534500934,\n",
       " 'Floor Sanders and Finishers': 0.571242120258783,\n",
       " 'Electrical Engineers': 0.43813846624088926,\n",
       " 'Acupuncturists': 0.202504154217359,\n",
       " 'Marriage and Family Therapists': 0.5817951668755068,\n",
       " 'Magnetic Resonance Imaging Technologists': 0.4305256690897477,\n",
       " 'Real Estate Sales Agents': 0.22913143736825223,\n",
       " 'Fine Artists, Including Painters, Sculptors, and Illustrators': 0.3146355767701576,\n",
       " 'Eligibility Interviewers, Government Programs': 0.5122611910394383,\n",
       " 'Lodging Managers': 0.29569289993648157,\n",
       " 'Coating, Painting, and Spraying Machine Setters, Operators, and Tenders': 0.31336910587694666,\n",
       " 'Aircraft Cargo Handling Supervisors': 0.23220103054645538,\n",
       " 'Medical Scientists, Except Epidemiologists': 0.3647678188616276,\n",
       " 'Kindergarten Teachers, Except Special Education': 0.6152935311449588,\n",
       " 'Engineering Teachers, Postsecondary': 0.11065592357369837,\n",
       " 'Laborers and Freight, Stock, and Material Movers, Hand': 0.23854508733632712,\n",
       " 'Genetic Counselors': 0.019538382391848144,\n",
       " 'Heat Treating Equipment Setters, Operators, and Tenders, Metal and Plastic': 0.24088370371384615,\n",
       " 'Interviewers, Except Eligibility and Loan': 0.4972347057551511,\n",
       " 'Commercial Pilots': 0.1558172928794164,\n",
       " 'Wind Turbine Service Technicians': 0.2003663817475992,\n",
       " 'Massage Therapists': 0.6055554849938917,\n",
       " 'Licensed Practical and Licensed Vocational Nurses': 0.24043866728922414,\n",
       " 'Hotel, Motel, and Resort Desk Clerks': 0.4952897106360352,\n",
       " 'Art, Drama, and Music Teachers, Postsecondary': 0.12540636371058173,\n",
       " 'Real Estate Brokers': 0.5243322873177387,\n",
       " 'Farmworkers, Farm, Ranch, and Aquacultural Animals': 0.16281499118478338,\n",
       " 'Machinists': 0.34114403031916535,\n",
       " 'First-Line Supervisors of Food Preparation and Serving Workers': 0.4296410642762504,\n",
       " 'Environmental Science Teachers, Postsecondary': 0.14038162236331161,\n",
       " 'Mechanical Drafters': 0.006130192578398274,\n",
       " 'Occupational Health and Safety Technicians': 0.05695827000958739,\n",
       " 'Word Processors and Typists': 0.4888903788934195,\n",
       " 'Bus Drivers, Transit and Intercity': 0.60861518191442,\n",
       " 'Library Science Teachers, Postsecondary': 0.14207803810476388,\n",
       " 'Cooks, Private Household': 0.1956714745988924,\n",
       " 'Medical and Clinical Laboratory Technicians': 0.14412745725622694,\n",
       " 'Amusement and Recreation Attendants': 0.3147757986166584,\n",
       " 'Anthropology and Archeology Teachers, Postsecondary': 0.10072076598657125,\n",
       " 'Health Specialties Teachers, Postsecondary': 0.15141443801810447,\n",
       " 'Bus and Truck Mechanics and Diesel Engine Specialists': 0.3621031363908423,\n",
       " 'Carpet Installers': 0.553970967393928,\n",
       " 'Security Guards': 0.17626286661820073,\n",
       " 'Paperhangers': 0.3955149711085547,\n",
       " 'Dining Room and Cafeteria Attendants and Bartender Helpers': 0.6638413816622211,\n",
       " 'Opticians, Dispensing': 0.0887683944872364,\n",
       " 'Budget Analysts': 0.5606756515524014,\n",
       " 'Hairdressers, Hairstylists, and Cosmetologists': 0.41767884729719845,\n",
       " 'Receptionists and Information Clerks': 0.646012324523508,\n",
       " 'Foresters': 0.13607984077665553,\n",
       " 'Drilling and Boring Machine Tool Setters, Operators, and Tenders, Metal and Plastic': 0.33968322946156454,\n",
       " 'Operations Research Analysts': 0.3862672074275142,\n",
       " 'Career/Technical Education Teachers, Secondary School': 0.4534394589458653,\n",
       " 'Loan Interviewers and Clerks': 0.4721006003835993,\n",
       " 'Bailiffs': 0.10057145349214516,\n",
       " 'Political Science Teachers, Postsecondary': 0.2291992302991367,\n",
       " 'Stonemasons': 0.40543279490121914,\n",
       " 'Biological Science Teachers, Postsecondary': 0.11017161297904415,\n",
       " 'Manicurists and Pedicurists': 0.2970918442402388,\n",
       " 'Pesticide Handlers, Sprayers, and Applicators, Vegetation': 0.17703581759721454,\n",
       " 'Skincare Specialists': 0.47515733636731594,\n",
       " 'Physics Teachers, Postsecondary': 0.09084917955074068,\n",
       " 'Credit Counselors': 0.5492004462941142,\n",
       " 'Obstetricians and Gynecologists': 0.7160692485576444,\n",
       " 'Phlebotomists': 0.360885103263848}"
      ]
     },
     "execution_count": 60,
     "metadata": {},
     "output_type": "execute_result"
    }
   ],
   "source": [
    "occ_dictionary"
   ]
  },
  {
   "cell_type": "code",
   "execution_count": 98,
   "metadata": {},
   "outputs": [],
   "source": [
    "# df_score = pd.DataFrame.from_dict(occ_dictionary)\n",
    "# list(occ_dictionary.keys())\n",
    "df_score = pd.DataFrame.from_dict(occ_dictionary, orient = 'index',  columns= ['score'])\n",
    "df_score = df_score.sort_values(by = 'score', ascending = False)"
   ]
  },
  {
   "cell_type": "code",
   "execution_count": 106,
   "metadata": {},
   "outputs": [
    {
     "data": {
      "application/vnd.plotly.v1+json": {
       "config": {
        "plotlyServerURL": "https://plot.ly"
       },
       "data": [
        {
         "textposition": "auto",
         "type": "bar",
         "x": [
          "Occupational Therapists",
          "First-Line Supervisors of Non-Retail Sales Workers",
          "Postal Service Mail Carriers",
          "Physical Therapists",
          "Nurse Practitioners",
          "Mathematicians",
          "Nurse Midwives",
          "Registered Nurses",
          "Chief Executives",
          "Obstetricians and Gynecologists",
          "Title Examiners, Abstractors, and Searchers",
          "Radiologists",
          "Audiologists",
          "Anesthesiologists",
          "Statisticians",
          "Pediatricians, General",
          "Drywall and Ceiling Tile Installers",
          "Dermatologists",
          "Neurologists",
          "Dining Room and Cafeteria Attendants and Bartender Helpers",
          "Special Education Teachers, Middle School",
          "Surgical Technologists",
          "First-Line Supervisors of Retail Sales Workers",
          "Receptionists and Information Clerks",
          "First-Line Supervisors of Landscaping, Lawn Service, and Groundskeeping Workers",
          "Payroll and Timekeeping Clerks",
          "Nursing Assistants",
          "Ophthalmic Medical Technicians",
          "Special Education Teachers, Preschool",
          "Hosts and Hostesses, Restaurant, Lounge, and Coffee Shop"
         ],
         "y": [
          0.8463680094061421,
          0.7884769774544764,
          0.7728705392155439,
          0.7613036809557487,
          0.7542062888567377,
          0.7514721751020317,
          0.7476904461091176,
          0.7383233562263706,
          0.731201668044451,
          0.7160692485576444,
          0.7067358146546041,
          0.7051359565171219,
          0.7024570542176048,
          0.7014987357896855,
          0.6949609788582849,
          0.6768168637758982,
          0.6758993721961134,
          0.6720437496925056,
          0.6700506723466204,
          0.6638413816622211,
          0.6584232988279061,
          0.6478986811461268,
          0.6475938462785994,
          0.646012324523508,
          0.6370007047423055,
          0.6306638649441632,
          0.6299838991724416,
          0.624441065131119,
          0.6185337698139698,
          0.615486249663156
         ]
        }
       ],
       "layout": {
        "barmode": "stack",
        "template": {
         "data": {
          "bar": [
           {
            "error_x": {
             "color": "#2a3f5f"
            },
            "error_y": {
             "color": "#2a3f5f"
            },
            "marker": {
             "line": {
              "color": "#E5ECF6",
              "width": 0.5
             }
            },
            "type": "bar"
           }
          ],
          "barpolar": [
           {
            "marker": {
             "line": {
              "color": "#E5ECF6",
              "width": 0.5
             }
            },
            "type": "barpolar"
           }
          ],
          "carpet": [
           {
            "aaxis": {
             "endlinecolor": "#2a3f5f",
             "gridcolor": "white",
             "linecolor": "white",
             "minorgridcolor": "white",
             "startlinecolor": "#2a3f5f"
            },
            "baxis": {
             "endlinecolor": "#2a3f5f",
             "gridcolor": "white",
             "linecolor": "white",
             "minorgridcolor": "white",
             "startlinecolor": "#2a3f5f"
            },
            "type": "carpet"
           }
          ],
          "choropleth": [
           {
            "colorbar": {
             "outlinewidth": 0,
             "ticks": ""
            },
            "type": "choropleth"
           }
          ],
          "contour": [
           {
            "colorbar": {
             "outlinewidth": 0,
             "ticks": ""
            },
            "colorscale": [
             [
              0,
              "#0d0887"
             ],
             [
              0.1111111111111111,
              "#46039f"
             ],
             [
              0.2222222222222222,
              "#7201a8"
             ],
             [
              0.3333333333333333,
              "#9c179e"
             ],
             [
              0.4444444444444444,
              "#bd3786"
             ],
             [
              0.5555555555555556,
              "#d8576b"
             ],
             [
              0.6666666666666666,
              "#ed7953"
             ],
             [
              0.7777777777777778,
              "#fb9f3a"
             ],
             [
              0.8888888888888888,
              "#fdca26"
             ],
             [
              1,
              "#f0f921"
             ]
            ],
            "type": "contour"
           }
          ],
          "contourcarpet": [
           {
            "colorbar": {
             "outlinewidth": 0,
             "ticks": ""
            },
            "type": "contourcarpet"
           }
          ],
          "heatmap": [
           {
            "colorbar": {
             "outlinewidth": 0,
             "ticks": ""
            },
            "colorscale": [
             [
              0,
              "#0d0887"
             ],
             [
              0.1111111111111111,
              "#46039f"
             ],
             [
              0.2222222222222222,
              "#7201a8"
             ],
             [
              0.3333333333333333,
              "#9c179e"
             ],
             [
              0.4444444444444444,
              "#bd3786"
             ],
             [
              0.5555555555555556,
              "#d8576b"
             ],
             [
              0.6666666666666666,
              "#ed7953"
             ],
             [
              0.7777777777777778,
              "#fb9f3a"
             ],
             [
              0.8888888888888888,
              "#fdca26"
             ],
             [
              1,
              "#f0f921"
             ]
            ],
            "type": "heatmap"
           }
          ],
          "heatmapgl": [
           {
            "colorbar": {
             "outlinewidth": 0,
             "ticks": ""
            },
            "colorscale": [
             [
              0,
              "#0d0887"
             ],
             [
              0.1111111111111111,
              "#46039f"
             ],
             [
              0.2222222222222222,
              "#7201a8"
             ],
             [
              0.3333333333333333,
              "#9c179e"
             ],
             [
              0.4444444444444444,
              "#bd3786"
             ],
             [
              0.5555555555555556,
              "#d8576b"
             ],
             [
              0.6666666666666666,
              "#ed7953"
             ],
             [
              0.7777777777777778,
              "#fb9f3a"
             ],
             [
              0.8888888888888888,
              "#fdca26"
             ],
             [
              1,
              "#f0f921"
             ]
            ],
            "type": "heatmapgl"
           }
          ],
          "histogram": [
           {
            "marker": {
             "colorbar": {
              "outlinewidth": 0,
              "ticks": ""
             }
            },
            "type": "histogram"
           }
          ],
          "histogram2d": [
           {
            "colorbar": {
             "outlinewidth": 0,
             "ticks": ""
            },
            "colorscale": [
             [
              0,
              "#0d0887"
             ],
             [
              0.1111111111111111,
              "#46039f"
             ],
             [
              0.2222222222222222,
              "#7201a8"
             ],
             [
              0.3333333333333333,
              "#9c179e"
             ],
             [
              0.4444444444444444,
              "#bd3786"
             ],
             [
              0.5555555555555556,
              "#d8576b"
             ],
             [
              0.6666666666666666,
              "#ed7953"
             ],
             [
              0.7777777777777778,
              "#fb9f3a"
             ],
             [
              0.8888888888888888,
              "#fdca26"
             ],
             [
              1,
              "#f0f921"
             ]
            ],
            "type": "histogram2d"
           }
          ],
          "histogram2dcontour": [
           {
            "colorbar": {
             "outlinewidth": 0,
             "ticks": ""
            },
            "colorscale": [
             [
              0,
              "#0d0887"
             ],
             [
              0.1111111111111111,
              "#46039f"
             ],
             [
              0.2222222222222222,
              "#7201a8"
             ],
             [
              0.3333333333333333,
              "#9c179e"
             ],
             [
              0.4444444444444444,
              "#bd3786"
             ],
             [
              0.5555555555555556,
              "#d8576b"
             ],
             [
              0.6666666666666666,
              "#ed7953"
             ],
             [
              0.7777777777777778,
              "#fb9f3a"
             ],
             [
              0.8888888888888888,
              "#fdca26"
             ],
             [
              1,
              "#f0f921"
             ]
            ],
            "type": "histogram2dcontour"
           }
          ],
          "mesh3d": [
           {
            "colorbar": {
             "outlinewidth": 0,
             "ticks": ""
            },
            "type": "mesh3d"
           }
          ],
          "parcoords": [
           {
            "line": {
             "colorbar": {
              "outlinewidth": 0,
              "ticks": ""
             }
            },
            "type": "parcoords"
           }
          ],
          "pie": [
           {
            "automargin": true,
            "type": "pie"
           }
          ],
          "scatter": [
           {
            "marker": {
             "colorbar": {
              "outlinewidth": 0,
              "ticks": ""
             }
            },
            "type": "scatter"
           }
          ],
          "scatter3d": [
           {
            "line": {
             "colorbar": {
              "outlinewidth": 0,
              "ticks": ""
             }
            },
            "marker": {
             "colorbar": {
              "outlinewidth": 0,
              "ticks": ""
             }
            },
            "type": "scatter3d"
           }
          ],
          "scattercarpet": [
           {
            "marker": {
             "colorbar": {
              "outlinewidth": 0,
              "ticks": ""
             }
            },
            "type": "scattercarpet"
           }
          ],
          "scattergeo": [
           {
            "marker": {
             "colorbar": {
              "outlinewidth": 0,
              "ticks": ""
             }
            },
            "type": "scattergeo"
           }
          ],
          "scattergl": [
           {
            "marker": {
             "colorbar": {
              "outlinewidth": 0,
              "ticks": ""
             }
            },
            "type": "scattergl"
           }
          ],
          "scattermapbox": [
           {
            "marker": {
             "colorbar": {
              "outlinewidth": 0,
              "ticks": ""
             }
            },
            "type": "scattermapbox"
           }
          ],
          "scatterpolar": [
           {
            "marker": {
             "colorbar": {
              "outlinewidth": 0,
              "ticks": ""
             }
            },
            "type": "scatterpolar"
           }
          ],
          "scatterpolargl": [
           {
            "marker": {
             "colorbar": {
              "outlinewidth": 0,
              "ticks": ""
             }
            },
            "type": "scatterpolargl"
           }
          ],
          "scatterternary": [
           {
            "marker": {
             "colorbar": {
              "outlinewidth": 0,
              "ticks": ""
             }
            },
            "type": "scatterternary"
           }
          ],
          "surface": [
           {
            "colorbar": {
             "outlinewidth": 0,
             "ticks": ""
            },
            "colorscale": [
             [
              0,
              "#0d0887"
             ],
             [
              0.1111111111111111,
              "#46039f"
             ],
             [
              0.2222222222222222,
              "#7201a8"
             ],
             [
              0.3333333333333333,
              "#9c179e"
             ],
             [
              0.4444444444444444,
              "#bd3786"
             ],
             [
              0.5555555555555556,
              "#d8576b"
             ],
             [
              0.6666666666666666,
              "#ed7953"
             ],
             [
              0.7777777777777778,
              "#fb9f3a"
             ],
             [
              0.8888888888888888,
              "#fdca26"
             ],
             [
              1,
              "#f0f921"
             ]
            ],
            "type": "surface"
           }
          ],
          "table": [
           {
            "cells": {
             "fill": {
              "color": "#EBF0F8"
             },
             "line": {
              "color": "white"
             }
            },
            "header": {
             "fill": {
              "color": "#C8D4E3"
             },
             "line": {
              "color": "white"
             }
            },
            "type": "table"
           }
          ]
         },
         "layout": {
          "annotationdefaults": {
           "arrowcolor": "#2a3f5f",
           "arrowhead": 0,
           "arrowwidth": 1
          },
          "coloraxis": {
           "colorbar": {
            "outlinewidth": 0,
            "ticks": ""
           }
          },
          "colorscale": {
           "diverging": [
            [
             0,
             "#8e0152"
            ],
            [
             0.1,
             "#c51b7d"
            ],
            [
             0.2,
             "#de77ae"
            ],
            [
             0.3,
             "#f1b6da"
            ],
            [
             0.4,
             "#fde0ef"
            ],
            [
             0.5,
             "#f7f7f7"
            ],
            [
             0.6,
             "#e6f5d0"
            ],
            [
             0.7,
             "#b8e186"
            ],
            [
             0.8,
             "#7fbc41"
            ],
            [
             0.9,
             "#4d9221"
            ],
            [
             1,
             "#276419"
            ]
           ],
           "sequential": [
            [
             0,
             "#0d0887"
            ],
            [
             0.1111111111111111,
             "#46039f"
            ],
            [
             0.2222222222222222,
             "#7201a8"
            ],
            [
             0.3333333333333333,
             "#9c179e"
            ],
            [
             0.4444444444444444,
             "#bd3786"
            ],
            [
             0.5555555555555556,
             "#d8576b"
            ],
            [
             0.6666666666666666,
             "#ed7953"
            ],
            [
             0.7777777777777778,
             "#fb9f3a"
            ],
            [
             0.8888888888888888,
             "#fdca26"
            ],
            [
             1,
             "#f0f921"
            ]
           ],
           "sequentialminus": [
            [
             0,
             "#0d0887"
            ],
            [
             0.1111111111111111,
             "#46039f"
            ],
            [
             0.2222222222222222,
             "#7201a8"
            ],
            [
             0.3333333333333333,
             "#9c179e"
            ],
            [
             0.4444444444444444,
             "#bd3786"
            ],
            [
             0.5555555555555556,
             "#d8576b"
            ],
            [
             0.6666666666666666,
             "#ed7953"
            ],
            [
             0.7777777777777778,
             "#fb9f3a"
            ],
            [
             0.8888888888888888,
             "#fdca26"
            ],
            [
             1,
             "#f0f921"
            ]
           ]
          },
          "colorway": [
           "#636efa",
           "#EF553B",
           "#00cc96",
           "#ab63fa",
           "#FFA15A",
           "#19d3f3",
           "#FF6692",
           "#B6E880",
           "#FF97FF",
           "#FECB52"
          ],
          "font": {
           "color": "#2a3f5f"
          },
          "geo": {
           "bgcolor": "white",
           "lakecolor": "white",
           "landcolor": "#E5ECF6",
           "showlakes": true,
           "showland": true,
           "subunitcolor": "white"
          },
          "hoverlabel": {
           "align": "left"
          },
          "hovermode": "closest",
          "mapbox": {
           "style": "light"
          },
          "paper_bgcolor": "white",
          "plot_bgcolor": "#E5ECF6",
          "polar": {
           "angularaxis": {
            "gridcolor": "white",
            "linecolor": "white",
            "ticks": ""
           },
           "bgcolor": "#E5ECF6",
           "radialaxis": {
            "gridcolor": "white",
            "linecolor": "white",
            "ticks": ""
           }
          },
          "scene": {
           "xaxis": {
            "backgroundcolor": "#E5ECF6",
            "gridcolor": "white",
            "gridwidth": 2,
            "linecolor": "white",
            "showbackground": true,
            "ticks": "",
            "zerolinecolor": "white"
           },
           "yaxis": {
            "backgroundcolor": "#E5ECF6",
            "gridcolor": "white",
            "gridwidth": 2,
            "linecolor": "white",
            "showbackground": true,
            "ticks": "",
            "zerolinecolor": "white"
           },
           "zaxis": {
            "backgroundcolor": "#E5ECF6",
            "gridcolor": "white",
            "gridwidth": 2,
            "linecolor": "white",
            "showbackground": true,
            "ticks": "",
            "zerolinecolor": "white"
           }
          },
          "shapedefaults": {
           "line": {
            "color": "#2a3f5f"
           }
          },
          "ternary": {
           "aaxis": {
            "gridcolor": "white",
            "linecolor": "white",
            "ticks": ""
           },
           "baxis": {
            "gridcolor": "white",
            "linecolor": "white",
            "ticks": ""
           },
           "bgcolor": "#E5ECF6",
           "caxis": {
            "gridcolor": "white",
            "linecolor": "white",
            "ticks": ""
           }
          },
          "title": {
           "x": 0.05
          },
          "xaxis": {
           "automargin": true,
           "gridcolor": "white",
           "linecolor": "white",
           "ticks": "",
           "title": {
            "standoff": 15
           },
           "zerolinecolor": "white",
           "zerolinewidth": 2
          },
          "yaxis": {
           "automargin": true,
           "gridcolor": "white",
           "linecolor": "white",
           "ticks": "",
           "title": {
            "standoff": 15
           },
           "zerolinecolor": "white",
           "zerolinewidth": 2
          }
         }
        },
        "xaxis": {
         "categoryorder": "total descending"
        }
       }
      },
      "text/html": [
       "<div>\n",
       "        \n",
       "        \n",
       "            <div id=\"39eed83e-b650-4ee0-81e9-6dec6426ecb5\" class=\"plotly-graph-div\" style=\"height:525px; width:100%;\"></div>\n",
       "            <script type=\"text/javascript\">\n",
       "                require([\"plotly\"], function(Plotly) {\n",
       "                    window.PLOTLYENV=window.PLOTLYENV || {};\n",
       "                    \n",
       "                if (document.getElementById(\"39eed83e-b650-4ee0-81e9-6dec6426ecb5\")) {\n",
       "                    Plotly.newPlot(\n",
       "                        '39eed83e-b650-4ee0-81e9-6dec6426ecb5',\n",
       "                        [{\"textposition\": \"auto\", \"type\": \"bar\", \"x\": [\"Occupational Therapists\", \"First-Line Supervisors of Non-Retail Sales Workers\", \"Postal Service Mail Carriers\", \"Physical Therapists\", \"Nurse Practitioners\", \"Mathematicians\", \"Nurse Midwives\", \"Registered Nurses\", \"Chief Executives\", \"Obstetricians and Gynecologists\", \"Title Examiners, Abstractors, and Searchers\", \"Radiologists\", \"Audiologists\", \"Anesthesiologists\", \"Statisticians\", \"Pediatricians, General\", \"Drywall and Ceiling Tile Installers\", \"Dermatologists\", \"Neurologists\", \"Dining Room and Cafeteria Attendants and Bartender Helpers\", \"Special Education Teachers, Middle School\", \"Surgical Technologists\", \"First-Line Supervisors of Retail Sales Workers\", \"Receptionists and Information Clerks\", \"First-Line Supervisors of Landscaping, Lawn Service, and Groundskeeping Workers\", \"Payroll and Timekeeping Clerks\", \"Nursing Assistants\", \"Ophthalmic Medical Technicians\", \"Special Education Teachers, Preschool\", \"Hosts and Hostesses, Restaurant, Lounge, and Coffee Shop\"], \"y\": [0.8463680094061421, 0.7884769774544764, 0.7728705392155439, 0.7613036809557487, 0.7542062888567377, 0.7514721751020317, 0.7476904461091176, 0.7383233562263706, 0.731201668044451, 0.7160692485576444, 0.7067358146546041, 0.7051359565171219, 0.7024570542176048, 0.7014987357896855, 0.6949609788582849, 0.6768168637758982, 0.6758993721961134, 0.6720437496925056, 0.6700506723466204, 0.6638413816622211, 0.6584232988279061, 0.6478986811461268, 0.6475938462785994, 0.646012324523508, 0.6370007047423055, 0.6306638649441632, 0.6299838991724416, 0.624441065131119, 0.6185337698139698, 0.615486249663156]}],\n",
       "                        {\"barmode\": \"stack\", \"template\": {\"data\": {\"bar\": [{\"error_x\": {\"color\": \"#2a3f5f\"}, \"error_y\": {\"color\": \"#2a3f5f\"}, \"marker\": {\"line\": {\"color\": \"#E5ECF6\", \"width\": 0.5}}, \"type\": \"bar\"}], \"barpolar\": [{\"marker\": {\"line\": {\"color\": \"#E5ECF6\", \"width\": 0.5}}, \"type\": \"barpolar\"}], \"carpet\": [{\"aaxis\": {\"endlinecolor\": \"#2a3f5f\", \"gridcolor\": \"white\", \"linecolor\": \"white\", \"minorgridcolor\": \"white\", \"startlinecolor\": \"#2a3f5f\"}, \"baxis\": {\"endlinecolor\": \"#2a3f5f\", \"gridcolor\": \"white\", \"linecolor\": \"white\", \"minorgridcolor\": \"white\", \"startlinecolor\": \"#2a3f5f\"}, \"type\": \"carpet\"}], \"choropleth\": [{\"colorbar\": {\"outlinewidth\": 0, \"ticks\": \"\"}, \"type\": \"choropleth\"}], \"contour\": [{\"colorbar\": {\"outlinewidth\": 0, \"ticks\": \"\"}, \"colorscale\": [[0.0, \"#0d0887\"], [0.1111111111111111, \"#46039f\"], [0.2222222222222222, \"#7201a8\"], [0.3333333333333333, \"#9c179e\"], [0.4444444444444444, \"#bd3786\"], [0.5555555555555556, \"#d8576b\"], [0.6666666666666666, \"#ed7953\"], [0.7777777777777778, \"#fb9f3a\"], [0.8888888888888888, \"#fdca26\"], [1.0, \"#f0f921\"]], \"type\": \"contour\"}], \"contourcarpet\": [{\"colorbar\": {\"outlinewidth\": 0, \"ticks\": \"\"}, \"type\": \"contourcarpet\"}], \"heatmap\": [{\"colorbar\": {\"outlinewidth\": 0, \"ticks\": \"\"}, \"colorscale\": [[0.0, \"#0d0887\"], [0.1111111111111111, \"#46039f\"], [0.2222222222222222, \"#7201a8\"], [0.3333333333333333, \"#9c179e\"], [0.4444444444444444, \"#bd3786\"], [0.5555555555555556, \"#d8576b\"], [0.6666666666666666, \"#ed7953\"], [0.7777777777777778, \"#fb9f3a\"], [0.8888888888888888, \"#fdca26\"], [1.0, \"#f0f921\"]], \"type\": \"heatmap\"}], \"heatmapgl\": [{\"colorbar\": {\"outlinewidth\": 0, \"ticks\": \"\"}, \"colorscale\": [[0.0, \"#0d0887\"], [0.1111111111111111, \"#46039f\"], [0.2222222222222222, \"#7201a8\"], [0.3333333333333333, \"#9c179e\"], [0.4444444444444444, \"#bd3786\"], [0.5555555555555556, \"#d8576b\"], [0.6666666666666666, \"#ed7953\"], [0.7777777777777778, \"#fb9f3a\"], [0.8888888888888888, \"#fdca26\"], [1.0, \"#f0f921\"]], \"type\": \"heatmapgl\"}], \"histogram\": [{\"marker\": {\"colorbar\": {\"outlinewidth\": 0, \"ticks\": \"\"}}, \"type\": \"histogram\"}], \"histogram2d\": [{\"colorbar\": {\"outlinewidth\": 0, \"ticks\": \"\"}, \"colorscale\": [[0.0, \"#0d0887\"], [0.1111111111111111, \"#46039f\"], [0.2222222222222222, \"#7201a8\"], [0.3333333333333333, \"#9c179e\"], [0.4444444444444444, \"#bd3786\"], [0.5555555555555556, \"#d8576b\"], [0.6666666666666666, \"#ed7953\"], [0.7777777777777778, \"#fb9f3a\"], [0.8888888888888888, \"#fdca26\"], [1.0, \"#f0f921\"]], \"type\": \"histogram2d\"}], \"histogram2dcontour\": [{\"colorbar\": {\"outlinewidth\": 0, \"ticks\": \"\"}, \"colorscale\": [[0.0, \"#0d0887\"], [0.1111111111111111, \"#46039f\"], [0.2222222222222222, \"#7201a8\"], [0.3333333333333333, \"#9c179e\"], [0.4444444444444444, \"#bd3786\"], [0.5555555555555556, \"#d8576b\"], [0.6666666666666666, \"#ed7953\"], [0.7777777777777778, \"#fb9f3a\"], [0.8888888888888888, \"#fdca26\"], [1.0, \"#f0f921\"]], \"type\": \"histogram2dcontour\"}], \"mesh3d\": [{\"colorbar\": {\"outlinewidth\": 0, \"ticks\": \"\"}, \"type\": \"mesh3d\"}], \"parcoords\": [{\"line\": {\"colorbar\": {\"outlinewidth\": 0, \"ticks\": \"\"}}, \"type\": \"parcoords\"}], \"pie\": [{\"automargin\": true, \"type\": \"pie\"}], \"scatter\": [{\"marker\": {\"colorbar\": {\"outlinewidth\": 0, \"ticks\": \"\"}}, \"type\": \"scatter\"}], \"scatter3d\": [{\"line\": {\"colorbar\": {\"outlinewidth\": 0, \"ticks\": \"\"}}, \"marker\": {\"colorbar\": {\"outlinewidth\": 0, \"ticks\": \"\"}}, \"type\": \"scatter3d\"}], \"scattercarpet\": [{\"marker\": {\"colorbar\": {\"outlinewidth\": 0, \"ticks\": \"\"}}, \"type\": \"scattercarpet\"}], \"scattergeo\": [{\"marker\": {\"colorbar\": {\"outlinewidth\": 0, \"ticks\": \"\"}}, \"type\": \"scattergeo\"}], \"scattergl\": [{\"marker\": {\"colorbar\": {\"outlinewidth\": 0, \"ticks\": \"\"}}, \"type\": \"scattergl\"}], \"scattermapbox\": [{\"marker\": {\"colorbar\": {\"outlinewidth\": 0, \"ticks\": \"\"}}, \"type\": \"scattermapbox\"}], \"scatterpolar\": [{\"marker\": {\"colorbar\": {\"outlinewidth\": 0, \"ticks\": \"\"}}, \"type\": \"scatterpolar\"}], \"scatterpolargl\": [{\"marker\": {\"colorbar\": {\"outlinewidth\": 0, \"ticks\": \"\"}}, \"type\": \"scatterpolargl\"}], \"scatterternary\": [{\"marker\": {\"colorbar\": {\"outlinewidth\": 0, \"ticks\": \"\"}}, \"type\": \"scatterternary\"}], \"surface\": [{\"colorbar\": {\"outlinewidth\": 0, \"ticks\": \"\"}, \"colorscale\": [[0.0, \"#0d0887\"], [0.1111111111111111, \"#46039f\"], [0.2222222222222222, \"#7201a8\"], [0.3333333333333333, \"#9c179e\"], [0.4444444444444444, \"#bd3786\"], [0.5555555555555556, \"#d8576b\"], [0.6666666666666666, \"#ed7953\"], [0.7777777777777778, \"#fb9f3a\"], [0.8888888888888888, \"#fdca26\"], [1.0, \"#f0f921\"]], \"type\": \"surface\"}], \"table\": [{\"cells\": {\"fill\": {\"color\": \"#EBF0F8\"}, \"line\": {\"color\": \"white\"}}, \"header\": {\"fill\": {\"color\": \"#C8D4E3\"}, \"line\": {\"color\": \"white\"}}, \"type\": \"table\"}]}, \"layout\": {\"annotationdefaults\": {\"arrowcolor\": \"#2a3f5f\", \"arrowhead\": 0, \"arrowwidth\": 1}, \"coloraxis\": {\"colorbar\": {\"outlinewidth\": 0, \"ticks\": \"\"}}, \"colorscale\": {\"diverging\": [[0, \"#8e0152\"], [0.1, \"#c51b7d\"], [0.2, \"#de77ae\"], [0.3, \"#f1b6da\"], [0.4, \"#fde0ef\"], [0.5, \"#f7f7f7\"], [0.6, \"#e6f5d0\"], [0.7, \"#b8e186\"], [0.8, \"#7fbc41\"], [0.9, \"#4d9221\"], [1, \"#276419\"]], \"sequential\": [[0.0, \"#0d0887\"], [0.1111111111111111, \"#46039f\"], [0.2222222222222222, \"#7201a8\"], [0.3333333333333333, \"#9c179e\"], [0.4444444444444444, \"#bd3786\"], [0.5555555555555556, \"#d8576b\"], [0.6666666666666666, \"#ed7953\"], [0.7777777777777778, \"#fb9f3a\"], [0.8888888888888888, \"#fdca26\"], [1.0, \"#f0f921\"]], \"sequentialminus\": [[0.0, \"#0d0887\"], [0.1111111111111111, \"#46039f\"], [0.2222222222222222, \"#7201a8\"], [0.3333333333333333, \"#9c179e\"], [0.4444444444444444, \"#bd3786\"], [0.5555555555555556, \"#d8576b\"], [0.6666666666666666, \"#ed7953\"], [0.7777777777777778, \"#fb9f3a\"], [0.8888888888888888, \"#fdca26\"], [1.0, \"#f0f921\"]]}, \"colorway\": [\"#636efa\", \"#EF553B\", \"#00cc96\", \"#ab63fa\", \"#FFA15A\", \"#19d3f3\", \"#FF6692\", \"#B6E880\", \"#FF97FF\", \"#FECB52\"], \"font\": {\"color\": \"#2a3f5f\"}, \"geo\": {\"bgcolor\": \"white\", \"lakecolor\": \"white\", \"landcolor\": \"#E5ECF6\", \"showlakes\": true, \"showland\": true, \"subunitcolor\": \"white\"}, \"hoverlabel\": {\"align\": \"left\"}, \"hovermode\": \"closest\", \"mapbox\": {\"style\": \"light\"}, \"paper_bgcolor\": \"white\", \"plot_bgcolor\": \"#E5ECF6\", \"polar\": {\"angularaxis\": {\"gridcolor\": \"white\", \"linecolor\": \"white\", \"ticks\": \"\"}, \"bgcolor\": \"#E5ECF6\", \"radialaxis\": {\"gridcolor\": \"white\", \"linecolor\": \"white\", \"ticks\": \"\"}}, \"scene\": {\"xaxis\": {\"backgroundcolor\": \"#E5ECF6\", \"gridcolor\": \"white\", \"gridwidth\": 2, \"linecolor\": \"white\", \"showbackground\": true, \"ticks\": \"\", \"zerolinecolor\": \"white\"}, \"yaxis\": {\"backgroundcolor\": \"#E5ECF6\", \"gridcolor\": \"white\", \"gridwidth\": 2, \"linecolor\": \"white\", \"showbackground\": true, \"ticks\": \"\", \"zerolinecolor\": \"white\"}, \"zaxis\": {\"backgroundcolor\": \"#E5ECF6\", \"gridcolor\": \"white\", \"gridwidth\": 2, \"linecolor\": \"white\", \"showbackground\": true, \"ticks\": \"\", \"zerolinecolor\": \"white\"}}, \"shapedefaults\": {\"line\": {\"color\": \"#2a3f5f\"}}, \"ternary\": {\"aaxis\": {\"gridcolor\": \"white\", \"linecolor\": \"white\", \"ticks\": \"\"}, \"baxis\": {\"gridcolor\": \"white\", \"linecolor\": \"white\", \"ticks\": \"\"}, \"bgcolor\": \"#E5ECF6\", \"caxis\": {\"gridcolor\": \"white\", \"linecolor\": \"white\", \"ticks\": \"\"}}, \"title\": {\"x\": 0.05}, \"xaxis\": {\"automargin\": true, \"gridcolor\": \"white\", \"linecolor\": \"white\", \"ticks\": \"\", \"title\": {\"standoff\": 15}, \"zerolinecolor\": \"white\", \"zerolinewidth\": 2}, \"yaxis\": {\"automargin\": true, \"gridcolor\": \"white\", \"linecolor\": \"white\", \"ticks\": \"\", \"title\": {\"standoff\": 15}, \"zerolinecolor\": \"white\", \"zerolinewidth\": 2}}}, \"xaxis\": {\"categoryorder\": \"total descending\"}},\n",
       "                        {\"responsive\": true}\n",
       "                    ).then(function(){\n",
       "                            \n",
       "var gd = document.getElementById('39eed83e-b650-4ee0-81e9-6dec6426ecb5');\n",
       "var x = new MutationObserver(function (mutations, observer) {{\n",
       "        var display = window.getComputedStyle(gd).display;\n",
       "        if (!display || display === 'none') {{\n",
       "            console.log([gd, 'removed!']);\n",
       "            Plotly.purge(gd);\n",
       "            observer.disconnect();\n",
       "        }}\n",
       "}});\n",
       "\n",
       "// Listen for the removal of the full notebook cells\n",
       "var notebookContainer = gd.closest('#notebook-container');\n",
       "if (notebookContainer) {{\n",
       "    x.observe(notebookContainer, {childList: true});\n",
       "}}\n",
       "\n",
       "// Listen for the clearing of the current output cell\n",
       "var outputEl = gd.closest('.output');\n",
       "if (outputEl) {{\n",
       "    x.observe(outputEl, {childList: true});\n",
       "}}\n",
       "\n",
       "                        })\n",
       "                };\n",
       "                });\n",
       "            </script>\n",
       "        </div>"
      ]
     },
     "metadata": {},
     "output_type": "display_data"
    }
   ],
   "source": [
    "x = list(occ_dictionary.keys())[:20]\n",
    "y = list(occ_dictionary.values())[:20]\n",
    "\n",
    "# Use textposition='auto' for direct text\n",
    "fig = go.Figure(data=[go.Bar(\n",
    "            x=df_score.index[:30], y=df_score['score'][:30],\n",
    "            textposition='auto',\n",
    "        )])\n",
    "fig.update_layout(barmode='stack', xaxis={'categoryorder':'total descending'})\n",
    "\n",
    "fig.show()"
   ]
  },
  {
   "cell_type": "code",
   "execution_count": 107,
   "metadata": {},
   "outputs": [
    {
     "data": {
      "application/vnd.plotly.v1+json": {
       "config": {
        "plotlyServerURL": "https://plot.ly"
       },
       "data": [
        {
         "textposition": "auto",
         "type": "bar",
         "x": [
          "First-Line Supervisors of Non-Retail Sales Workers",
          "Title Examiners, Abstractors, and Searchers",
          "Nurse Midwives",
          "Nurse Practitioners",
          "Physical Therapists",
          "Receptionists and Information Clerks",
          "Chief Executives",
          "First-Line Supervisors of Landscaping, Lawn Service, and Groundskeeping Workers",
          "Floor Sanders and Finishers",
          "Special Education Teachers, Preschool",
          "Payroll and Timekeeping Clerks",
          "First-Line Supervisors of Housekeeping and Janitorial Workers",
          "Bill and Account Collectors",
          "Mathematicians",
          "Drywall and Ceiling Tile Installers",
          "Statisticians",
          "Correspondence Clerks",
          "First-Line Supervisors of Retail Sales Workers",
          "Order Clerks",
          "Special Education Teachers, Secondary School",
          "Biological Technicians",
          "Mobile Heavy Equipment Mechanics, Except Engines",
          "Preschool Teachers, Except Special Education",
          "Rail Car Repairers",
          "Phlebotomists",
          "Farm Equipment Mechanics and Service Technicians",
          "Dining Room and Cafeteria Attendants and Bartender Helpers",
          "Bookkeeping, Accounting, and Auditing Clerks",
          "Hosts and Hostesses, Restaurant, Lounge, and Coffee Shop",
          "Middle School Teachers, Except Special and Career/Technical Education"
         ],
         "y": [
          0.7834674622646243,
          0.7167244126343131,
          0.7117796053908698,
          0.6951795430092502,
          0.6739900490329165,
          0.6432135097236189,
          0.6419598541611122,
          0.6370007047423055,
          0.6176447397486975,
          0.6058631826157758,
          0.6039889001523451,
          0.5960270203519693,
          0.5775369018442786,
          0.5751966842971398,
          0.5727892751893966,
          0.5720035645881821,
          0.5718594546373357,
          0.5685224659280385,
          0.5636546905646025,
          0.5612247937161026,
          0.5570107730486608,
          0.5567712505688438,
          0.5543977538252247,
          0.5508596809082735,
          0.55035730540433,
          0.5422590423589145,
          0.5400967165156306,
          0.5377534796972288,
          0.5364847253471526,
          0.5346731464071983
         ]
        }
       ],
       "layout": {
        "barmode": "stack",
        "template": {
         "data": {
          "bar": [
           {
            "error_x": {
             "color": "#2a3f5f"
            },
            "error_y": {
             "color": "#2a3f5f"
            },
            "marker": {
             "line": {
              "color": "#E5ECF6",
              "width": 0.5
             }
            },
            "type": "bar"
           }
          ],
          "barpolar": [
           {
            "marker": {
             "line": {
              "color": "#E5ECF6",
              "width": 0.5
             }
            },
            "type": "barpolar"
           }
          ],
          "carpet": [
           {
            "aaxis": {
             "endlinecolor": "#2a3f5f",
             "gridcolor": "white",
             "linecolor": "white",
             "minorgridcolor": "white",
             "startlinecolor": "#2a3f5f"
            },
            "baxis": {
             "endlinecolor": "#2a3f5f",
             "gridcolor": "white",
             "linecolor": "white",
             "minorgridcolor": "white",
             "startlinecolor": "#2a3f5f"
            },
            "type": "carpet"
           }
          ],
          "choropleth": [
           {
            "colorbar": {
             "outlinewidth": 0,
             "ticks": ""
            },
            "type": "choropleth"
           }
          ],
          "contour": [
           {
            "colorbar": {
             "outlinewidth": 0,
             "ticks": ""
            },
            "colorscale": [
             [
              0,
              "#0d0887"
             ],
             [
              0.1111111111111111,
              "#46039f"
             ],
             [
              0.2222222222222222,
              "#7201a8"
             ],
             [
              0.3333333333333333,
              "#9c179e"
             ],
             [
              0.4444444444444444,
              "#bd3786"
             ],
             [
              0.5555555555555556,
              "#d8576b"
             ],
             [
              0.6666666666666666,
              "#ed7953"
             ],
             [
              0.7777777777777778,
              "#fb9f3a"
             ],
             [
              0.8888888888888888,
              "#fdca26"
             ],
             [
              1,
              "#f0f921"
             ]
            ],
            "type": "contour"
           }
          ],
          "contourcarpet": [
           {
            "colorbar": {
             "outlinewidth": 0,
             "ticks": ""
            },
            "type": "contourcarpet"
           }
          ],
          "heatmap": [
           {
            "colorbar": {
             "outlinewidth": 0,
             "ticks": ""
            },
            "colorscale": [
             [
              0,
              "#0d0887"
             ],
             [
              0.1111111111111111,
              "#46039f"
             ],
             [
              0.2222222222222222,
              "#7201a8"
             ],
             [
              0.3333333333333333,
              "#9c179e"
             ],
             [
              0.4444444444444444,
              "#bd3786"
             ],
             [
              0.5555555555555556,
              "#d8576b"
             ],
             [
              0.6666666666666666,
              "#ed7953"
             ],
             [
              0.7777777777777778,
              "#fb9f3a"
             ],
             [
              0.8888888888888888,
              "#fdca26"
             ],
             [
              1,
              "#f0f921"
             ]
            ],
            "type": "heatmap"
           }
          ],
          "heatmapgl": [
           {
            "colorbar": {
             "outlinewidth": 0,
             "ticks": ""
            },
            "colorscale": [
             [
              0,
              "#0d0887"
             ],
             [
              0.1111111111111111,
              "#46039f"
             ],
             [
              0.2222222222222222,
              "#7201a8"
             ],
             [
              0.3333333333333333,
              "#9c179e"
             ],
             [
              0.4444444444444444,
              "#bd3786"
             ],
             [
              0.5555555555555556,
              "#d8576b"
             ],
             [
              0.6666666666666666,
              "#ed7953"
             ],
             [
              0.7777777777777778,
              "#fb9f3a"
             ],
             [
              0.8888888888888888,
              "#fdca26"
             ],
             [
              1,
              "#f0f921"
             ]
            ],
            "type": "heatmapgl"
           }
          ],
          "histogram": [
           {
            "marker": {
             "colorbar": {
              "outlinewidth": 0,
              "ticks": ""
             }
            },
            "type": "histogram"
           }
          ],
          "histogram2d": [
           {
            "colorbar": {
             "outlinewidth": 0,
             "ticks": ""
            },
            "colorscale": [
             [
              0,
              "#0d0887"
             ],
             [
              0.1111111111111111,
              "#46039f"
             ],
             [
              0.2222222222222222,
              "#7201a8"
             ],
             [
              0.3333333333333333,
              "#9c179e"
             ],
             [
              0.4444444444444444,
              "#bd3786"
             ],
             [
              0.5555555555555556,
              "#d8576b"
             ],
             [
              0.6666666666666666,
              "#ed7953"
             ],
             [
              0.7777777777777778,
              "#fb9f3a"
             ],
             [
              0.8888888888888888,
              "#fdca26"
             ],
             [
              1,
              "#f0f921"
             ]
            ],
            "type": "histogram2d"
           }
          ],
          "histogram2dcontour": [
           {
            "colorbar": {
             "outlinewidth": 0,
             "ticks": ""
            },
            "colorscale": [
             [
              0,
              "#0d0887"
             ],
             [
              0.1111111111111111,
              "#46039f"
             ],
             [
              0.2222222222222222,
              "#7201a8"
             ],
             [
              0.3333333333333333,
              "#9c179e"
             ],
             [
              0.4444444444444444,
              "#bd3786"
             ],
             [
              0.5555555555555556,
              "#d8576b"
             ],
             [
              0.6666666666666666,
              "#ed7953"
             ],
             [
              0.7777777777777778,
              "#fb9f3a"
             ],
             [
              0.8888888888888888,
              "#fdca26"
             ],
             [
              1,
              "#f0f921"
             ]
            ],
            "type": "histogram2dcontour"
           }
          ],
          "mesh3d": [
           {
            "colorbar": {
             "outlinewidth": 0,
             "ticks": ""
            },
            "type": "mesh3d"
           }
          ],
          "parcoords": [
           {
            "line": {
             "colorbar": {
              "outlinewidth": 0,
              "ticks": ""
             }
            },
            "type": "parcoords"
           }
          ],
          "pie": [
           {
            "automargin": true,
            "type": "pie"
           }
          ],
          "scatter": [
           {
            "marker": {
             "colorbar": {
              "outlinewidth": 0,
              "ticks": ""
             }
            },
            "type": "scatter"
           }
          ],
          "scatter3d": [
           {
            "line": {
             "colorbar": {
              "outlinewidth": 0,
              "ticks": ""
             }
            },
            "marker": {
             "colorbar": {
              "outlinewidth": 0,
              "ticks": ""
             }
            },
            "type": "scatter3d"
           }
          ],
          "scattercarpet": [
           {
            "marker": {
             "colorbar": {
              "outlinewidth": 0,
              "ticks": ""
             }
            },
            "type": "scattercarpet"
           }
          ],
          "scattergeo": [
           {
            "marker": {
             "colorbar": {
              "outlinewidth": 0,
              "ticks": ""
             }
            },
            "type": "scattergeo"
           }
          ],
          "scattergl": [
           {
            "marker": {
             "colorbar": {
              "outlinewidth": 0,
              "ticks": ""
             }
            },
            "type": "scattergl"
           }
          ],
          "scattermapbox": [
           {
            "marker": {
             "colorbar": {
              "outlinewidth": 0,
              "ticks": ""
             }
            },
            "type": "scattermapbox"
           }
          ],
          "scatterpolar": [
           {
            "marker": {
             "colorbar": {
              "outlinewidth": 0,
              "ticks": ""
             }
            },
            "type": "scatterpolar"
           }
          ],
          "scatterpolargl": [
           {
            "marker": {
             "colorbar": {
              "outlinewidth": 0,
              "ticks": ""
             }
            },
            "type": "scatterpolargl"
           }
          ],
          "scatterternary": [
           {
            "marker": {
             "colorbar": {
              "outlinewidth": 0,
              "ticks": ""
             }
            },
            "type": "scatterternary"
           }
          ],
          "surface": [
           {
            "colorbar": {
             "outlinewidth": 0,
             "ticks": ""
            },
            "colorscale": [
             [
              0,
              "#0d0887"
             ],
             [
              0.1111111111111111,
              "#46039f"
             ],
             [
              0.2222222222222222,
              "#7201a8"
             ],
             [
              0.3333333333333333,
              "#9c179e"
             ],
             [
              0.4444444444444444,
              "#bd3786"
             ],
             [
              0.5555555555555556,
              "#d8576b"
             ],
             [
              0.6666666666666666,
              "#ed7953"
             ],
             [
              0.7777777777777778,
              "#fb9f3a"
             ],
             [
              0.8888888888888888,
              "#fdca26"
             ],
             [
              1,
              "#f0f921"
             ]
            ],
            "type": "surface"
           }
          ],
          "table": [
           {
            "cells": {
             "fill": {
              "color": "#EBF0F8"
             },
             "line": {
              "color": "white"
             }
            },
            "header": {
             "fill": {
              "color": "#C8D4E3"
             },
             "line": {
              "color": "white"
             }
            },
            "type": "table"
           }
          ]
         },
         "layout": {
          "annotationdefaults": {
           "arrowcolor": "#2a3f5f",
           "arrowhead": 0,
           "arrowwidth": 1
          },
          "coloraxis": {
           "colorbar": {
            "outlinewidth": 0,
            "ticks": ""
           }
          },
          "colorscale": {
           "diverging": [
            [
             0,
             "#8e0152"
            ],
            [
             0.1,
             "#c51b7d"
            ],
            [
             0.2,
             "#de77ae"
            ],
            [
             0.3,
             "#f1b6da"
            ],
            [
             0.4,
             "#fde0ef"
            ],
            [
             0.5,
             "#f7f7f7"
            ],
            [
             0.6,
             "#e6f5d0"
            ],
            [
             0.7,
             "#b8e186"
            ],
            [
             0.8,
             "#7fbc41"
            ],
            [
             0.9,
             "#4d9221"
            ],
            [
             1,
             "#276419"
            ]
           ],
           "sequential": [
            [
             0,
             "#0d0887"
            ],
            [
             0.1111111111111111,
             "#46039f"
            ],
            [
             0.2222222222222222,
             "#7201a8"
            ],
            [
             0.3333333333333333,
             "#9c179e"
            ],
            [
             0.4444444444444444,
             "#bd3786"
            ],
            [
             0.5555555555555556,
             "#d8576b"
            ],
            [
             0.6666666666666666,
             "#ed7953"
            ],
            [
             0.7777777777777778,
             "#fb9f3a"
            ],
            [
             0.8888888888888888,
             "#fdca26"
            ],
            [
             1,
             "#f0f921"
            ]
           ],
           "sequentialminus": [
            [
             0,
             "#0d0887"
            ],
            [
             0.1111111111111111,
             "#46039f"
            ],
            [
             0.2222222222222222,
             "#7201a8"
            ],
            [
             0.3333333333333333,
             "#9c179e"
            ],
            [
             0.4444444444444444,
             "#bd3786"
            ],
            [
             0.5555555555555556,
             "#d8576b"
            ],
            [
             0.6666666666666666,
             "#ed7953"
            ],
            [
             0.7777777777777778,
             "#fb9f3a"
            ],
            [
             0.8888888888888888,
             "#fdca26"
            ],
            [
             1,
             "#f0f921"
            ]
           ]
          },
          "colorway": [
           "#636efa",
           "#EF553B",
           "#00cc96",
           "#ab63fa",
           "#FFA15A",
           "#19d3f3",
           "#FF6692",
           "#B6E880",
           "#FF97FF",
           "#FECB52"
          ],
          "font": {
           "color": "#2a3f5f"
          },
          "geo": {
           "bgcolor": "white",
           "lakecolor": "white",
           "landcolor": "#E5ECF6",
           "showlakes": true,
           "showland": true,
           "subunitcolor": "white"
          },
          "hoverlabel": {
           "align": "left"
          },
          "hovermode": "closest",
          "mapbox": {
           "style": "light"
          },
          "paper_bgcolor": "white",
          "plot_bgcolor": "#E5ECF6",
          "polar": {
           "angularaxis": {
            "gridcolor": "white",
            "linecolor": "white",
            "ticks": ""
           },
           "bgcolor": "#E5ECF6",
           "radialaxis": {
            "gridcolor": "white",
            "linecolor": "white",
            "ticks": ""
           }
          },
          "scene": {
           "xaxis": {
            "backgroundcolor": "#E5ECF6",
            "gridcolor": "white",
            "gridwidth": 2,
            "linecolor": "white",
            "showbackground": true,
            "ticks": "",
            "zerolinecolor": "white"
           },
           "yaxis": {
            "backgroundcolor": "#E5ECF6",
            "gridcolor": "white",
            "gridwidth": 2,
            "linecolor": "white",
            "showbackground": true,
            "ticks": "",
            "zerolinecolor": "white"
           },
           "zaxis": {
            "backgroundcolor": "#E5ECF6",
            "gridcolor": "white",
            "gridwidth": 2,
            "linecolor": "white",
            "showbackground": true,
            "ticks": "",
            "zerolinecolor": "white"
           }
          },
          "shapedefaults": {
           "line": {
            "color": "#2a3f5f"
           }
          },
          "ternary": {
           "aaxis": {
            "gridcolor": "white",
            "linecolor": "white",
            "ticks": ""
           },
           "baxis": {
            "gridcolor": "white",
            "linecolor": "white",
            "ticks": ""
           },
           "bgcolor": "#E5ECF6",
           "caxis": {
            "gridcolor": "white",
            "linecolor": "white",
            "ticks": ""
           }
          },
          "title": {
           "x": 0.05
          },
          "xaxis": {
           "automargin": true,
           "gridcolor": "white",
           "linecolor": "white",
           "ticks": "",
           "title": {
            "standoff": 15
           },
           "zerolinecolor": "white",
           "zerolinewidth": 2
          },
          "yaxis": {
           "automargin": true,
           "gridcolor": "white",
           "linecolor": "white",
           "ticks": "",
           "title": {
            "standoff": 15
           },
           "zerolinecolor": "white",
           "zerolinewidth": 2
          }
         }
        },
        "xaxis": {
         "categoryorder": "total descending"
        }
       }
      },
      "text/html": [
       "<div>\n",
       "        \n",
       "        \n",
       "            <div id=\"e7e14d27-9d4d-45c9-bb6e-0c95076cdbe0\" class=\"plotly-graph-div\" style=\"height:525px; width:100%;\"></div>\n",
       "            <script type=\"text/javascript\">\n",
       "                require([\"plotly\"], function(Plotly) {\n",
       "                    window.PLOTLYENV=window.PLOTLYENV || {};\n",
       "                    \n",
       "                if (document.getElementById(\"e7e14d27-9d4d-45c9-bb6e-0c95076cdbe0\")) {\n",
       "                    Plotly.newPlot(\n",
       "                        'e7e14d27-9d4d-45c9-bb6e-0c95076cdbe0',\n",
       "                        [{\"textposition\": \"auto\", \"type\": \"bar\", \"x\": [\"First-Line Supervisors of Non-Retail Sales Workers\", \"Title Examiners, Abstractors, and Searchers\", \"Nurse Midwives\", \"Nurse Practitioners\", \"Physical Therapists\", \"Receptionists and Information Clerks\", \"Chief Executives\", \"First-Line Supervisors of Landscaping, Lawn Service, and Groundskeeping Workers\", \"Floor Sanders and Finishers\", \"Special Education Teachers, Preschool\", \"Payroll and Timekeeping Clerks\", \"First-Line Supervisors of Housekeeping and Janitorial Workers\", \"Bill and Account Collectors\", \"Mathematicians\", \"Drywall and Ceiling Tile Installers\", \"Statisticians\", \"Correspondence Clerks\", \"First-Line Supervisors of Retail Sales Workers\", \"Order Clerks\", \"Special Education Teachers, Secondary School\", \"Biological Technicians\", \"Mobile Heavy Equipment Mechanics, Except Engines\", \"Preschool Teachers, Except Special Education\", \"Rail Car Repairers\", \"Phlebotomists\", \"Farm Equipment Mechanics and Service Technicians\", \"Dining Room and Cafeteria Attendants and Bartender Helpers\", \"Bookkeeping, Accounting, and Auditing Clerks\", \"Hosts and Hostesses, Restaurant, Lounge, and Coffee Shop\", \"Middle School Teachers, Except Special and Career/Technical Education\"], \"y\": [0.7834674622646243, 0.7167244126343131, 0.7117796053908698, 0.6951795430092502, 0.6739900490329165, 0.6432135097236189, 0.6419598541611122, 0.6370007047423055, 0.6176447397486975, 0.6058631826157758, 0.6039889001523451, 0.5960270203519693, 0.5775369018442786, 0.5751966842971398, 0.5727892751893966, 0.5720035645881821, 0.5718594546373357, 0.5685224659280385, 0.5636546905646025, 0.5612247937161026, 0.5570107730486608, 0.5567712505688438, 0.5543977538252247, 0.5508596809082735, 0.55035730540433, 0.5422590423589145, 0.5400967165156306, 0.5377534796972288, 0.5364847253471526, 0.5346731464071983]}],\n",
       "                        {\"barmode\": \"stack\", \"template\": {\"data\": {\"bar\": [{\"error_x\": {\"color\": \"#2a3f5f\"}, \"error_y\": {\"color\": \"#2a3f5f\"}, \"marker\": {\"line\": {\"color\": \"#E5ECF6\", \"width\": 0.5}}, \"type\": \"bar\"}], \"barpolar\": [{\"marker\": {\"line\": {\"color\": \"#E5ECF6\", \"width\": 0.5}}, \"type\": \"barpolar\"}], \"carpet\": [{\"aaxis\": {\"endlinecolor\": \"#2a3f5f\", \"gridcolor\": \"white\", \"linecolor\": \"white\", \"minorgridcolor\": \"white\", \"startlinecolor\": \"#2a3f5f\"}, \"baxis\": {\"endlinecolor\": \"#2a3f5f\", \"gridcolor\": \"white\", \"linecolor\": \"white\", \"minorgridcolor\": \"white\", \"startlinecolor\": \"#2a3f5f\"}, \"type\": \"carpet\"}], \"choropleth\": [{\"colorbar\": {\"outlinewidth\": 0, \"ticks\": \"\"}, \"type\": \"choropleth\"}], \"contour\": [{\"colorbar\": {\"outlinewidth\": 0, \"ticks\": \"\"}, \"colorscale\": [[0.0, \"#0d0887\"], [0.1111111111111111, \"#46039f\"], [0.2222222222222222, \"#7201a8\"], [0.3333333333333333, \"#9c179e\"], [0.4444444444444444, \"#bd3786\"], [0.5555555555555556, \"#d8576b\"], [0.6666666666666666, \"#ed7953\"], [0.7777777777777778, \"#fb9f3a\"], [0.8888888888888888, \"#fdca26\"], [1.0, \"#f0f921\"]], \"type\": \"contour\"}], \"contourcarpet\": [{\"colorbar\": {\"outlinewidth\": 0, \"ticks\": \"\"}, \"type\": \"contourcarpet\"}], \"heatmap\": [{\"colorbar\": {\"outlinewidth\": 0, \"ticks\": \"\"}, \"colorscale\": [[0.0, \"#0d0887\"], [0.1111111111111111, \"#46039f\"], [0.2222222222222222, \"#7201a8\"], [0.3333333333333333, \"#9c179e\"], [0.4444444444444444, \"#bd3786\"], [0.5555555555555556, \"#d8576b\"], [0.6666666666666666, \"#ed7953\"], [0.7777777777777778, \"#fb9f3a\"], [0.8888888888888888, \"#fdca26\"], [1.0, \"#f0f921\"]], \"type\": \"heatmap\"}], \"heatmapgl\": [{\"colorbar\": {\"outlinewidth\": 0, \"ticks\": \"\"}, \"colorscale\": [[0.0, \"#0d0887\"], [0.1111111111111111, \"#46039f\"], [0.2222222222222222, \"#7201a8\"], [0.3333333333333333, \"#9c179e\"], [0.4444444444444444, \"#bd3786\"], [0.5555555555555556, \"#d8576b\"], [0.6666666666666666, \"#ed7953\"], [0.7777777777777778, \"#fb9f3a\"], [0.8888888888888888, \"#fdca26\"], [1.0, \"#f0f921\"]], \"type\": \"heatmapgl\"}], \"histogram\": [{\"marker\": {\"colorbar\": {\"outlinewidth\": 0, \"ticks\": \"\"}}, \"type\": \"histogram\"}], \"histogram2d\": [{\"colorbar\": {\"outlinewidth\": 0, \"ticks\": \"\"}, \"colorscale\": [[0.0, \"#0d0887\"], [0.1111111111111111, \"#46039f\"], [0.2222222222222222, \"#7201a8\"], [0.3333333333333333, \"#9c179e\"], [0.4444444444444444, \"#bd3786\"], [0.5555555555555556, \"#d8576b\"], [0.6666666666666666, \"#ed7953\"], [0.7777777777777778, \"#fb9f3a\"], [0.8888888888888888, \"#fdca26\"], [1.0, \"#f0f921\"]], \"type\": \"histogram2d\"}], \"histogram2dcontour\": [{\"colorbar\": {\"outlinewidth\": 0, \"ticks\": \"\"}, \"colorscale\": [[0.0, \"#0d0887\"], [0.1111111111111111, \"#46039f\"], [0.2222222222222222, \"#7201a8\"], [0.3333333333333333, \"#9c179e\"], [0.4444444444444444, \"#bd3786\"], [0.5555555555555556, \"#d8576b\"], [0.6666666666666666, \"#ed7953\"], [0.7777777777777778, \"#fb9f3a\"], [0.8888888888888888, \"#fdca26\"], [1.0, \"#f0f921\"]], \"type\": \"histogram2dcontour\"}], \"mesh3d\": [{\"colorbar\": {\"outlinewidth\": 0, \"ticks\": \"\"}, \"type\": \"mesh3d\"}], \"parcoords\": [{\"line\": {\"colorbar\": {\"outlinewidth\": 0, \"ticks\": \"\"}}, \"type\": \"parcoords\"}], \"pie\": [{\"automargin\": true, \"type\": \"pie\"}], \"scatter\": [{\"marker\": {\"colorbar\": {\"outlinewidth\": 0, \"ticks\": \"\"}}, \"type\": \"scatter\"}], \"scatter3d\": [{\"line\": {\"colorbar\": {\"outlinewidth\": 0, \"ticks\": \"\"}}, \"marker\": {\"colorbar\": {\"outlinewidth\": 0, \"ticks\": \"\"}}, \"type\": \"scatter3d\"}], \"scattercarpet\": [{\"marker\": {\"colorbar\": {\"outlinewidth\": 0, \"ticks\": \"\"}}, \"type\": \"scattercarpet\"}], \"scattergeo\": [{\"marker\": {\"colorbar\": {\"outlinewidth\": 0, \"ticks\": \"\"}}, \"type\": \"scattergeo\"}], \"scattergl\": [{\"marker\": {\"colorbar\": {\"outlinewidth\": 0, \"ticks\": \"\"}}, \"type\": \"scattergl\"}], \"scattermapbox\": [{\"marker\": {\"colorbar\": {\"outlinewidth\": 0, \"ticks\": \"\"}}, \"type\": \"scattermapbox\"}], \"scatterpolar\": [{\"marker\": {\"colorbar\": {\"outlinewidth\": 0, \"ticks\": \"\"}}, \"type\": \"scatterpolar\"}], \"scatterpolargl\": [{\"marker\": {\"colorbar\": {\"outlinewidth\": 0, \"ticks\": \"\"}}, \"type\": \"scatterpolargl\"}], \"scatterternary\": [{\"marker\": {\"colorbar\": {\"outlinewidth\": 0, \"ticks\": \"\"}}, \"type\": \"scatterternary\"}], \"surface\": [{\"colorbar\": {\"outlinewidth\": 0, \"ticks\": \"\"}, \"colorscale\": [[0.0, \"#0d0887\"], [0.1111111111111111, \"#46039f\"], [0.2222222222222222, \"#7201a8\"], [0.3333333333333333, \"#9c179e\"], [0.4444444444444444, \"#bd3786\"], [0.5555555555555556, \"#d8576b\"], [0.6666666666666666, \"#ed7953\"], [0.7777777777777778, \"#fb9f3a\"], [0.8888888888888888, \"#fdca26\"], [1.0, \"#f0f921\"]], \"type\": \"surface\"}], \"table\": [{\"cells\": {\"fill\": {\"color\": \"#EBF0F8\"}, \"line\": {\"color\": \"white\"}}, \"header\": {\"fill\": {\"color\": \"#C8D4E3\"}, \"line\": {\"color\": \"white\"}}, \"type\": \"table\"}]}, \"layout\": {\"annotationdefaults\": {\"arrowcolor\": \"#2a3f5f\", \"arrowhead\": 0, \"arrowwidth\": 1}, \"coloraxis\": {\"colorbar\": {\"outlinewidth\": 0, \"ticks\": \"\"}}, \"colorscale\": {\"diverging\": [[0, \"#8e0152\"], [0.1, \"#c51b7d\"], [0.2, \"#de77ae\"], [0.3, \"#f1b6da\"], [0.4, \"#fde0ef\"], [0.5, \"#f7f7f7\"], [0.6, \"#e6f5d0\"], [0.7, \"#b8e186\"], [0.8, \"#7fbc41\"], [0.9, \"#4d9221\"], [1, \"#276419\"]], \"sequential\": [[0.0, \"#0d0887\"], [0.1111111111111111, \"#46039f\"], [0.2222222222222222, \"#7201a8\"], [0.3333333333333333, \"#9c179e\"], [0.4444444444444444, \"#bd3786\"], [0.5555555555555556, \"#d8576b\"], [0.6666666666666666, \"#ed7953\"], [0.7777777777777778, \"#fb9f3a\"], [0.8888888888888888, \"#fdca26\"], [1.0, \"#f0f921\"]], \"sequentialminus\": [[0.0, \"#0d0887\"], [0.1111111111111111, \"#46039f\"], [0.2222222222222222, \"#7201a8\"], [0.3333333333333333, \"#9c179e\"], [0.4444444444444444, \"#bd3786\"], [0.5555555555555556, \"#d8576b\"], [0.6666666666666666, \"#ed7953\"], [0.7777777777777778, \"#fb9f3a\"], [0.8888888888888888, \"#fdca26\"], [1.0, \"#f0f921\"]]}, \"colorway\": [\"#636efa\", \"#EF553B\", \"#00cc96\", \"#ab63fa\", \"#FFA15A\", \"#19d3f3\", \"#FF6692\", \"#B6E880\", \"#FF97FF\", \"#FECB52\"], \"font\": {\"color\": \"#2a3f5f\"}, \"geo\": {\"bgcolor\": \"white\", \"lakecolor\": \"white\", \"landcolor\": \"#E5ECF6\", \"showlakes\": true, \"showland\": true, \"subunitcolor\": \"white\"}, \"hoverlabel\": {\"align\": \"left\"}, \"hovermode\": \"closest\", \"mapbox\": {\"style\": \"light\"}, \"paper_bgcolor\": \"white\", \"plot_bgcolor\": \"#E5ECF6\", \"polar\": {\"angularaxis\": {\"gridcolor\": \"white\", \"linecolor\": \"white\", \"ticks\": \"\"}, \"bgcolor\": \"#E5ECF6\", \"radialaxis\": {\"gridcolor\": \"white\", \"linecolor\": \"white\", \"ticks\": \"\"}}, \"scene\": {\"xaxis\": {\"backgroundcolor\": \"#E5ECF6\", \"gridcolor\": \"white\", \"gridwidth\": 2, \"linecolor\": \"white\", \"showbackground\": true, \"ticks\": \"\", \"zerolinecolor\": \"white\"}, \"yaxis\": {\"backgroundcolor\": \"#E5ECF6\", \"gridcolor\": \"white\", \"gridwidth\": 2, \"linecolor\": \"white\", \"showbackground\": true, \"ticks\": \"\", \"zerolinecolor\": \"white\"}, \"zaxis\": {\"backgroundcolor\": \"#E5ECF6\", \"gridcolor\": \"white\", \"gridwidth\": 2, \"linecolor\": \"white\", \"showbackground\": true, \"ticks\": \"\", \"zerolinecolor\": \"white\"}}, \"shapedefaults\": {\"line\": {\"color\": \"#2a3f5f\"}}, \"ternary\": {\"aaxis\": {\"gridcolor\": \"white\", \"linecolor\": \"white\", \"ticks\": \"\"}, \"baxis\": {\"gridcolor\": \"white\", \"linecolor\": \"white\", \"ticks\": \"\"}, \"bgcolor\": \"#E5ECF6\", \"caxis\": {\"gridcolor\": \"white\", \"linecolor\": \"white\", \"ticks\": \"\"}}, \"title\": {\"x\": 0.05}, \"xaxis\": {\"automargin\": true, \"gridcolor\": \"white\", \"linecolor\": \"white\", \"ticks\": \"\", \"title\": {\"standoff\": 15}, \"zerolinecolor\": \"white\", \"zerolinewidth\": 2}, \"yaxis\": {\"automargin\": true, \"gridcolor\": \"white\", \"linecolor\": \"white\", \"ticks\": \"\", \"title\": {\"standoff\": 15}, \"zerolinecolor\": \"white\", \"zerolinewidth\": 2}}}, \"xaxis\": {\"categoryorder\": \"total descending\"}},\n",
       "                        {\"responsive\": true}\n",
       "                    ).then(function(){\n",
       "                            \n",
       "var gd = document.getElementById('e7e14d27-9d4d-45c9-bb6e-0c95076cdbe0');\n",
       "var x = new MutationObserver(function (mutations, observer) {{\n",
       "        var display = window.getComputedStyle(gd).display;\n",
       "        if (!display || display === 'none') {{\n",
       "            console.log([gd, 'removed!']);\n",
       "            Plotly.purge(gd);\n",
       "            observer.disconnect();\n",
       "        }}\n",
       "}});\n",
       "\n",
       "// Listen for the removal of the full notebook cells\n",
       "var notebookContainer = gd.closest('#notebook-container');\n",
       "if (notebookContainer) {{\n",
       "    x.observe(notebookContainer, {childList: true});\n",
       "}}\n",
       "\n",
       "// Listen for the clearing of the current output cell\n",
       "var outputEl = gd.closest('.output');\n",
       "if (outputEl) {{\n",
       "    x.observe(outputEl, {childList: true});\n",
       "}}\n",
       "\n",
       "                        })\n",
       "                };\n",
       "                });\n",
       "            </script>\n",
       "        </div>"
      ]
     },
     "metadata": {},
     "output_type": "display_data"
    }
   ],
   "source": [
    "\n",
    "df_score_skills = pd.DataFrame.from_dict(occ_dictionary_skills, orient = 'index',  columns= ['score'])\n",
    "df_score_skills = df_score_skills.sort_values(by = 'score', ascending = False)\n",
    "fig = go.Figure(data=[go.Bar(\n",
    "            x=df_score_skills.index[:30], y=df_score_skills['score'][:30],\n",
    "            textposition='auto',\n",
    "        )])\n",
    "fig.update_layout(barmode='stack', xaxis={'categoryorder':'total descending'})\n",
    "\n",
    "fig.show()"
   ]
  }
 ],
 "metadata": {
  "kernelspec": {
   "display_name": "Python 3",
   "language": "python",
   "name": "python3"
  },
  "language_info": {
   "codemirror_mode": {
    "name": "ipython",
    "version": 3
   },
   "file_extension": ".py",
   "mimetype": "text/x-python",
   "name": "python",
   "nbconvert_exporter": "python",
   "pygments_lexer": "ipython3",
   "version": "3.7.6"
  }
 },
 "nbformat": 4,
 "nbformat_minor": 4
}
