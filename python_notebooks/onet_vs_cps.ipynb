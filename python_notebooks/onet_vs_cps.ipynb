{
 "cells": [
  {
   "cell_type": "code",
   "execution_count": 1,
   "metadata": {},
   "outputs": [],
   "source": [
    "import pandas as pd\n",
    "import random as rnd \n",
    "import mysql.connector\n",
    "from mysql.connector import Error\n",
    "import plotly\n",
    "import json\n",
    "import csv\n",
    "import seaborn as sns\n",
    "import matplotlib.pyplot as plt\n",
    "import numpy as np\n",
    "import pymysql\n",
    "import plotly.express as px\n",
    "import plotly.graph_objects as go\n",
    "from sqlalchemy import create_engine\n",
    "import networkx as nx\n",
    "from networkx_viewer import Viewer\n",
    "from functools import reduce\n",
    "from scipy.spatial.distance import pdist, squareform\n",
    "import jgraph\n",
    "from cyjupyter import Cytoscape\n",
    "from scipy.stats import kendalltau\n",
    "from scipy.stats import weightedtau"
   ]
  },
  {
   "cell_type": "markdown",
   "metadata": {},
   "source": [
    "# Getting data from SQL database"
   ]
  },
  {
   "cell_type": "code",
   "execution_count": 2,
   "metadata": {},
   "outputs": [],
   "source": [
    "connection = mysql.connector.connect(host='127.0.0.1',\n",
    "                                         database='employment',\n",
    "                                         user='root',\n",
    "                                         password='thanhn123')"
   ]
  },
  {
   "cell_type": "code",
   "execution_count": 3,
   "metadata": {},
   "outputs": [],
   "source": [
    "def get_data(connection, descriptor_domain,filt = False,val = None):\n",
    "    '''\n",
    "    Return df in the SOCs-decriptor format of a specific domain \n",
    "    descriptor_domeain:\n",
    "        work context\n",
    "        knowledge\n",
    "        skills\n",
    "        gwas\n",
    "        job_zones, filter\n",
    "        Abilities, filter\n",
    "    \n",
    "    '''\n",
    "    df= pd.DataFrame(data=None)\n",
    "    if descriptor_domain == 'work_context':\n",
    "        df= pd.read_sql('''\n",
    "            SELECT title, element_name, data_value FROM employment.work_context\n",
    "            LEFT JOIN employment.content_model_reference USING (element_id) \n",
    "            LEFT JOIN employment.occupation_data USING (onetsoc_code)\n",
    "            WHERE scale_id LIKE 'CX';''', con = connection)\n",
    "        df = df.reset_index().pivot(index = 'title', columns = 'element_name', values = 'data_value')\n",
    "    elif descriptor_domain == 'job_zones':\n",
    "        if filt:\n",
    "            df= pd.read_sql('''\n",
    "                SELECT title,job_zone FROM employment.job_zones\n",
    "                LEFT JOIN employment.occupation_data USING (onetsoc_code); ''', con = connection)\n",
    "            df = df[df['job_zone'].isin(val)]\n",
    "        else:\n",
    "            df= pd.read_sql('''\n",
    "                SELECT title,job_zone FROM employment.job_zones\n",
    "                LEFT JOIN employment.occupation_data USING (onetsoc_code);''', con = connection)\n",
    "    elif descriptor_domain == 'abilities':\n",
    "        if filt:\n",
    "#             df= pd.read_sql('''\n",
    "#             SELECT title, element_name, element_id,data_value FROM employment.''' + descriptor_domain + '''\n",
    "#             LEFT JOIN employment.content_model_reference USING (element_id) \n",
    "#             LEFT JOIN employment.occupation_data USING (onetsoc_code); ''', con = connection)\n",
    "#             df = df[df['element_id'].contains(val)]\n",
    "            df= pd.read_sql('''\n",
    "            SELECT title, element_name, data_value FROM employment.''' + descriptor_domain + '''\n",
    "            LEFT JOIN employment.content_model_reference USING (element_id) \n",
    "            LEFT JOIN employment.occupation_data USING (onetsoc_code)\n",
    "            WHERE element_id LIKE\\''''+ val +'''%\\'; ''', con = connection)\n",
    "            \n",
    "        else:\n",
    "            df= pd.read_sql('''\n",
    "            SELECT title, element_name,element_id, data_value FROM employment.''' + descriptor_domain + '''\n",
    "            LEFT JOIN employment.content_model_reference USING (element_id) \n",
    "            LEFT JOIN employment.occupation_data USING (onetsoc_code);''', con = connection)\n",
    "        df = df.groupby(by=['title','element_name'])['data_value'].mean()\n",
    "        df = df.reset_index().pivot(index = 'title', columns = 'element_name', values = 'data_value')\n",
    "    elif descriptor_domain == 'work_values':\n",
    "        df= pd.read_sql('''\n",
    "            SELECT title, element_name, data_value FROM employment.work_values\n",
    "            LEFT JOIN employment.content_model_reference USING (element_id) \n",
    "            LEFT JOIN employment.occupation_data USING (onetsoc_code)\n",
    "            WHERE scale_id LIKE 'EX';''', con = connection)\n",
    "        df = df.reset_index().pivot(index = 'title', columns = 'element_name', values = 'data_value')\n",
    "    elif descriptor_domain == 'interests':\n",
    "        df= pd.read_sql('''\n",
    "            SELECT title, element_name, data_value FROM employment.interests\n",
    "            LEFT JOIN employment.content_model_reference USING (element_id) \n",
    "            LEFT JOIN employment.occupation_data USING (onetsoc_code)\n",
    "            WHERE scale_id LIKE 'OI';''', con = connection)\n",
    "        df = df.reset_index().pivot(index = 'title', columns = 'element_name', values = 'data_value')\n",
    "    elif descriptor_domain == 'work_styles':\n",
    "        df= pd.read_sql('''\n",
    "            SELECT title, element_name, data_value FROM employment.work_styles\n",
    "            LEFT JOIN employment.content_model_reference USING (element_id) \n",
    "            LEFT JOIN employment.occupation_data USING (onetsoc_code)\n",
    "            WHERE scale_id LIKE 'IM';''', con = connection)\n",
    "        df = df.reset_index().pivot(index = 'title', columns = 'element_name', values = 'data_value')\n",
    "    elif descriptor_domain == 'name':\n",
    "        df= pd.read_sql('''\n",
    "            SELECT * FROM employment.occupation_data;''', con = connection)\n",
    "    else:\n",
    "        df= pd.read_sql('''\n",
    "            SELECT title, element_name, data_value FROM employment.''' + descriptor_domain + '''\n",
    "            LEFT JOIN employment.content_model_reference USING (element_id) \n",
    "            LEFT JOIN employment.occupation_data USING (onetsoc_code);''', con = connection)\n",
    "        df = df.groupby(by=['title','element_name'])['data_value'].mean()\n",
    "        df = df.reset_index().pivot(index = 'title', columns = 'element_name', values = 'data_value')\n",
    "    return df"
   ]
  },
  {
   "cell_type": "markdown",
   "metadata": {},
   "source": [
    "# Finding distance measures from ONET "
   ]
  },
  {
   "cell_type": "code",
   "execution_count": 4,
   "metadata": {},
   "outputs": [],
   "source": [
    "def distance_table(df, jz=False):\n",
    "    \n",
    "#     squareform(pdist(df.iloc[:, 1:])), columns=df.title.unique(), index=df.title.unique()\n",
    "    dist = []\n",
    "    name_dict = {}\n",
    "    if jz:\n",
    "        name_dict = df['title'].sort_values().reset_index()['title'].to_dict()\n",
    "        dist = pdist(df[df.columns[1:]],'euclidean')\n",
    "    else:\n",
    "        for i in range(len(df.index)):\n",
    "            name_dict[i] = df.index[i]\n",
    "        dist = pdist(df,'euclidean') #Euclidean distance for 1XN\n",
    "    df_dist = pd.DataFrame(squareform(dist)) #Euclidean distance for NxN\n",
    "#     return df_dist\n",
    "    columns = list(df_dist.index) \n",
    "    for i in range(len(df.index)): #convert 0 values to NaN\n",
    "        df_dist.loc[i,i] = np.NaN\n",
    "    mean = df_dist.mean().mean()\n",
    "    std = df_dist.stack().std() \n",
    "\n",
    "    for col in columns: #Z-score calculated \n",
    "        df_dist[col] = (df_dist[col] - mean)/std\n",
    "#     return df_dist\n",
    "    return df_dist.rename(columns = name_dict, index = name_dict)"
   ]
  },
  {
   "cell_type": "code",
   "execution_count": 5,
   "metadata": {},
   "outputs": [],
   "source": [
    "# Get CPS data"
   ]
  },
  {
   "cell_type": "code",
   "execution_count": 6,
   "metadata": {},
   "outputs": [],
   "source": [
    "df_cps = pd.read_csv('../CPS Job Changes/JobChanges_2011to19.csv')"
   ]
  },
  {
   "cell_type": "code",
   "execution_count": 7,
   "metadata": {
    "scrolled": false
   },
   "outputs": [
    {
     "data": {
      "text/html": [
       "<div>\n",
       "<style scoped>\n",
       "    .dataframe tbody tr th:only-of-type {\n",
       "        vertical-align: middle;\n",
       "    }\n",
       "\n",
       "    .dataframe tbody tr th {\n",
       "        vertical-align: top;\n",
       "    }\n",
       "\n",
       "    .dataframe thead th {\n",
       "        text-align: right;\n",
       "    }\n",
       "</style>\n",
       "<table border=\"1\" class=\"dataframe\">\n",
       "  <thead>\n",
       "    <tr style=\"text-align: right;\">\n",
       "      <th></th>\n",
       "      <th>ONET18_SOC_LY</th>\n",
       "      <th>ONET18_SOC</th>\n",
       "      <th>ONET18_Title</th>\n",
       "      <th>ONET18_Title_LY</th>\n",
       "      <th>count</th>\n",
       "      <th>pct_tot</th>\n",
       "      <th>count_socly</th>\n",
       "      <th>pct_socly</th>\n",
       "      <th>in_grp</th>\n",
       "      <th>in_minor_grp</th>\n",
       "      <th>in_broad_occ</th>\n",
       "      <th>employment_projection_NewJob</th>\n",
       "      <th>wage_change_BetweenJobs</th>\n",
       "    </tr>\n",
       "  </thead>\n",
       "  <tbody>\n",
       "    <tr>\n",
       "      <th>75823</th>\n",
       "      <td>41-1011</td>\n",
       "      <td>41-1012</td>\n",
       "      <td>First-Line Supervisors of Non-Retail Sales Wor...</td>\n",
       "      <td>First-Line Supervisors of Retail Sales Workers</td>\n",
       "      <td>734264.510000</td>\n",
       "      <td>4.395486e-01</td>\n",
       "      <td>2207170.940</td>\n",
       "      <td>33.267224</td>\n",
       "      <td>1</td>\n",
       "      <td>1</td>\n",
       "      <td>1</td>\n",
       "      <td>-8.3</td>\n",
       "      <td>85.257732</td>\n",
       "    </tr>\n",
       "    <tr>\n",
       "      <th>76141</th>\n",
       "      <td>41-1012</td>\n",
       "      <td>41-1011</td>\n",
       "      <td>First-Line Supervisors of Retail Sales Workers</td>\n",
       "      <td>First-Line Supervisors of Non-Retail Sales Wor...</td>\n",
       "      <td>603472.900000</td>\n",
       "      <td>3.612536e-01</td>\n",
       "      <td>999832.010</td>\n",
       "      <td>60.357429</td>\n",
       "      <td>1</td>\n",
       "      <td>1</td>\n",
       "      <td>1</td>\n",
       "      <td>-5.5</td>\n",
       "      <td>-46.021146</td>\n",
       "    </tr>\n",
       "    <tr>\n",
       "      <th>77141</th>\n",
       "      <td>41-2012</td>\n",
       "      <td>41-2031</td>\n",
       "      <td>Retail Salespersons</td>\n",
       "      <td>Gambling Change Persons and Booth Cashiers</td>\n",
       "      <td>509346.270000</td>\n",
       "      <td>3.049071e-01</td>\n",
       "      <td>2630467.290</td>\n",
       "      <td>19.363338</td>\n",
       "      <td>1</td>\n",
       "      <td>1</td>\n",
       "      <td>0</td>\n",
       "      <td>-0.6</td>\n",
       "      <td>-1.700405</td>\n",
       "    </tr>\n",
       "    <tr>\n",
       "      <th>76588</th>\n",
       "      <td>41-2011</td>\n",
       "      <td>41-2031</td>\n",
       "      <td>Retail Salespersons</td>\n",
       "      <td>Cashiers</td>\n",
       "      <td>509346.270000</td>\n",
       "      <td>3.049071e-01</td>\n",
       "      <td>2630467.290</td>\n",
       "      <td>19.363338</td>\n",
       "      <td>1</td>\n",
       "      <td>1</td>\n",
       "      <td>0</td>\n",
       "      <td>-0.6</td>\n",
       "      <td>6.772208</td>\n",
       "    </tr>\n",
       "    <tr>\n",
       "      <th>177</th>\n",
       "      <td>11-1021</td>\n",
       "      <td>11-1011</td>\n",
       "      <td>Chief Executives</td>\n",
       "      <td>General and Operations Managers</td>\n",
       "      <td>352402.430000</td>\n",
       "      <td>2.109567e-01</td>\n",
       "      <td>751730.590</td>\n",
       "      <td>46.878820</td>\n",
       "      <td>1</td>\n",
       "      <td>1</td>\n",
       "      <td>0</td>\n",
       "      <td>-10.0</td>\n",
       "      <td>83.034056</td>\n",
       "    </tr>\n",
       "    <tr>\n",
       "      <th>...</th>\n",
       "      <td>...</td>\n",
       "      <td>...</td>\n",
       "      <td>...</td>\n",
       "      <td>...</td>\n",
       "      <td>...</td>\n",
       "      <td>...</td>\n",
       "      <td>...</td>\n",
       "      <td>...</td>\n",
       "      <td>...</td>\n",
       "      <td>...</td>\n",
       "      <td>...</td>\n",
       "      <td>...</td>\n",
       "      <td>...</td>\n",
       "    </tr>\n",
       "    <tr>\n",
       "      <th>88371</th>\n",
       "      <td>45-2092</td>\n",
       "      <td>25-1112</td>\n",
       "      <td>Law Teachers, Postsecondary</td>\n",
       "      <td>Farmworkers and Laborers, Crop, Nursery, and G...</td>\n",
       "      <td>1.135947</td>\n",
       "      <td>6.800058e-07</td>\n",
       "      <td>184416.524</td>\n",
       "      <td>0.000616</td>\n",
       "      <td>0</td>\n",
       "      <td>0</td>\n",
       "      <td>0</td>\n",
       "      <td>6.9</td>\n",
       "      <td>346.293792</td>\n",
       "    </tr>\n",
       "    <tr>\n",
       "      <th>88369</th>\n",
       "      <td>45-2092</td>\n",
       "      <td>25-1082</td>\n",
       "      <td>Library Science Teachers, Postsecondary</td>\n",
       "      <td>Farmworkers and Laborers, Crop, Nursery, and G...</td>\n",
       "      <td>1.135947</td>\n",
       "      <td>6.800058e-07</td>\n",
       "      <td>184416.524</td>\n",
       "      <td>0.000616</td>\n",
       "      <td>0</td>\n",
       "      <td>0</td>\n",
       "      <td>0</td>\n",
       "      <td>3.0</td>\n",
       "      <td>180.717341</td>\n",
       "    </tr>\n",
       "    <tr>\n",
       "      <th>88368</th>\n",
       "      <td>45-2092</td>\n",
       "      <td>25-1081</td>\n",
       "      <td>Education Teachers, Postsecondary</td>\n",
       "      <td>Farmworkers and Laborers, Crop, Nursery, and G...</td>\n",
       "      <td>1.135947</td>\n",
       "      <td>6.800058e-07</td>\n",
       "      <td>184416.524</td>\n",
       "      <td>0.000616</td>\n",
       "      <td>0</td>\n",
       "      <td>0</td>\n",
       "      <td>0</td>\n",
       "      <td>4.8</td>\n",
       "      <td>157.524058</td>\n",
       "    </tr>\n",
       "    <tr>\n",
       "      <th>88367</th>\n",
       "      <td>45-2092</td>\n",
       "      <td>25-1072</td>\n",
       "      <td>Nursing Instructors and Teachers, Postsecondary</td>\n",
       "      <td>Farmworkers and Laborers, Crop, Nursery, and G...</td>\n",
       "      <td>1.135947</td>\n",
       "      <td>6.800058e-07</td>\n",
       "      <td>184416.524</td>\n",
       "      <td>0.000616</td>\n",
       "      <td>0</td>\n",
       "      <td>0</td>\n",
       "      <td>0</td>\n",
       "      <td>17.6</td>\n",
       "      <td>193.257438</td>\n",
       "    </tr>\n",
       "    <tr>\n",
       "      <th>88678</th>\n",
       "      <td>45-2093</td>\n",
       "      <td>25-1042</td>\n",
       "      <td>Biological Science Teachers, Postsecondary</td>\n",
       "      <td>Farmworkers, Farm, Ranch, and Aquacultural Ani...</td>\n",
       "      <td>1.135947</td>\n",
       "      <td>6.800058e-07</td>\n",
       "      <td>184416.524</td>\n",
       "      <td>0.000616</td>\n",
       "      <td>0</td>\n",
       "      <td>0</td>\n",
       "      <td>0</td>\n",
       "      <td>9.3</td>\n",
       "      <td>199.312981</td>\n",
       "    </tr>\n",
       "  </tbody>\n",
       "</table>\n",
       "<p>115317 rows × 13 columns</p>\n",
       "</div>"
      ],
      "text/plain": [
       "      ONET18_SOC_LY ONET18_SOC  \\\n",
       "75823       41-1011    41-1012   \n",
       "76141       41-1012    41-1011   \n",
       "77141       41-2012    41-2031   \n",
       "76588       41-2011    41-2031   \n",
       "177         11-1021    11-1011   \n",
       "...             ...        ...   \n",
       "88371       45-2092    25-1112   \n",
       "88369       45-2092    25-1082   \n",
       "88368       45-2092    25-1081   \n",
       "88367       45-2092    25-1072   \n",
       "88678       45-2093    25-1042   \n",
       "\n",
       "                                            ONET18_Title  \\\n",
       "75823  First-Line Supervisors of Non-Retail Sales Wor...   \n",
       "76141     First-Line Supervisors of Retail Sales Workers   \n",
       "77141                                Retail Salespersons   \n",
       "76588                                Retail Salespersons   \n",
       "177                                     Chief Executives   \n",
       "...                                                  ...   \n",
       "88371                        Law Teachers, Postsecondary   \n",
       "88369            Library Science Teachers, Postsecondary   \n",
       "88368                  Education Teachers, Postsecondary   \n",
       "88367    Nursing Instructors and Teachers, Postsecondary   \n",
       "88678         Biological Science Teachers, Postsecondary   \n",
       "\n",
       "                                         ONET18_Title_LY          count  \\\n",
       "75823     First-Line Supervisors of Retail Sales Workers  734264.510000   \n",
       "76141  First-Line Supervisors of Non-Retail Sales Wor...  603472.900000   \n",
       "77141         Gambling Change Persons and Booth Cashiers  509346.270000   \n",
       "76588                                           Cashiers  509346.270000   \n",
       "177                      General and Operations Managers  352402.430000   \n",
       "...                                                  ...            ...   \n",
       "88371  Farmworkers and Laborers, Crop, Nursery, and G...       1.135947   \n",
       "88369  Farmworkers and Laborers, Crop, Nursery, and G...       1.135947   \n",
       "88368  Farmworkers and Laborers, Crop, Nursery, and G...       1.135947   \n",
       "88367  Farmworkers and Laborers, Crop, Nursery, and G...       1.135947   \n",
       "88678  Farmworkers, Farm, Ranch, and Aquacultural Ani...       1.135947   \n",
       "\n",
       "            pct_tot  count_socly  pct_socly  in_grp  in_minor_grp  \\\n",
       "75823  4.395486e-01  2207170.940  33.267224       1             1   \n",
       "76141  3.612536e-01   999832.010  60.357429       1             1   \n",
       "77141  3.049071e-01  2630467.290  19.363338       1             1   \n",
       "76588  3.049071e-01  2630467.290  19.363338       1             1   \n",
       "177    2.109567e-01   751730.590  46.878820       1             1   \n",
       "...             ...          ...        ...     ...           ...   \n",
       "88371  6.800058e-07   184416.524   0.000616       0             0   \n",
       "88369  6.800058e-07   184416.524   0.000616       0             0   \n",
       "88368  6.800058e-07   184416.524   0.000616       0             0   \n",
       "88367  6.800058e-07   184416.524   0.000616       0             0   \n",
       "88678  6.800058e-07   184416.524   0.000616       0             0   \n",
       "\n",
       "       in_broad_occ  employment_projection_NewJob  wage_change_BetweenJobs  \n",
       "75823             1                          -8.3                85.257732  \n",
       "76141             1                          -5.5               -46.021146  \n",
       "77141             0                          -0.6                -1.700405  \n",
       "76588             0                          -0.6                 6.772208  \n",
       "177               0                         -10.0                83.034056  \n",
       "...             ...                           ...                      ...  \n",
       "88371             0                           6.9               346.293792  \n",
       "88369             0                           3.0               180.717341  \n",
       "88368             0                           4.8               157.524058  \n",
       "88367             0                          17.6               193.257438  \n",
       "88678             0                           9.3               199.312981  \n",
       "\n",
       "[115317 rows x 13 columns]"
      ]
     },
     "execution_count": 7,
     "metadata": {},
     "output_type": "execute_result"
    }
   ],
   "source": [
    "df_cps.sort_values(by = 'pct_tot', ascending = False)"
   ]
  },
  {
   "cell_type": "markdown",
   "metadata": {},
   "source": [
    "## Skills "
   ]
  },
  {
   "cell_type": "code",
   "execution_count": 8,
   "metadata": {},
   "outputs": [
    {
     "data": {
      "text/html": [
       "<div>\n",
       "<style scoped>\n",
       "    .dataframe tbody tr th:only-of-type {\n",
       "        vertical-align: middle;\n",
       "    }\n",
       "\n",
       "    .dataframe tbody tr th {\n",
       "        vertical-align: top;\n",
       "    }\n",
       "\n",
       "    .dataframe thead th {\n",
       "        text-align: right;\n",
       "    }\n",
       "</style>\n",
       "<table border=\"1\" class=\"dataframe\">\n",
       "  <thead>\n",
       "    <tr style=\"text-align: right;\">\n",
       "      <th></th>\n",
       "      <th>Accountants</th>\n",
       "      <th>Actors</th>\n",
       "      <th>Actuaries</th>\n",
       "      <th>Acupuncturists</th>\n",
       "      <th>Acute Care Nurses</th>\n",
       "      <th>Adapted Physical Education Specialists</th>\n",
       "      <th>Adhesive Bonding Machine Operators and Tenders</th>\n",
       "      <th>Administrative Law Judges, Adjudicators, and Hearing Officers</th>\n",
       "      <th>Administrative Services Managers</th>\n",
       "      <th>Adult Basic and Secondary Education and Literacy Teachers and Instructors</th>\n",
       "      <th>...</th>\n",
       "      <th>Welding, Soldering, and Brazing Machine Setters, Operators, and Tenders</th>\n",
       "      <th>Wellhead Pumpers</th>\n",
       "      <th>Wholesale and Retail Buyers, Except Farm Products</th>\n",
       "      <th>Wind Energy Engineers</th>\n",
       "      <th>Wind Energy Operations Managers</th>\n",
       "      <th>Wind Energy Project Managers</th>\n",
       "      <th>Wind Turbine Service Technicians</th>\n",
       "      <th>Woodworking Machine Setters, Operators, and Tenders, Except Sawing</th>\n",
       "      <th>Word Processors and Typists</th>\n",
       "      <th>Zoologists and Wildlife Biologists</th>\n",
       "    </tr>\n",
       "  </thead>\n",
       "  <tbody>\n",
       "    <tr>\n",
       "      <th>Accountants</th>\n",
       "      <td>NaN</td>\n",
       "      <td>-0.230680</td>\n",
       "      <td>-1.227414</td>\n",
       "      <td>-1.171535</td>\n",
       "      <td>-0.569831</td>\n",
       "      <td>-1.003623</td>\n",
       "      <td>1.132803</td>\n",
       "      <td>-1.065039</td>\n",
       "      <td>-1.137232</td>\n",
       "      <td>-1.059764</td>\n",
       "      <td>...</td>\n",
       "      <td>0.725944</td>\n",
       "      <td>1.565390</td>\n",
       "      <td>-1.521513</td>\n",
       "      <td>-0.814871</td>\n",
       "      <td>-0.314631</td>\n",
       "      <td>-1.141396</td>\n",
       "      <td>1.107543</td>\n",
       "      <td>1.433590</td>\n",
       "      <td>-0.109065</td>\n",
       "      <td>-0.931834</td>\n",
       "    </tr>\n",
       "    <tr>\n",
       "      <th>Actors</th>\n",
       "      <td>-0.230680</td>\n",
       "      <td>NaN</td>\n",
       "      <td>1.135383</td>\n",
       "      <td>-0.864040</td>\n",
       "      <td>0.663371</td>\n",
       "      <td>-0.357262</td>\n",
       "      <td>1.197330</td>\n",
       "      <td>-0.544330</td>\n",
       "      <td>0.050725</td>\n",
       "      <td>-0.943865</td>\n",
       "      <td>...</td>\n",
       "      <td>0.331293</td>\n",
       "      <td>1.241636</td>\n",
       "      <td>0.200386</td>\n",
       "      <td>1.010929</td>\n",
       "      <td>1.070415</td>\n",
       "      <td>0.546771</td>\n",
       "      <td>1.569600</td>\n",
       "      <td>1.321033</td>\n",
       "      <td>-0.680258</td>\n",
       "      <td>0.499286</td>\n",
       "    </tr>\n",
       "    <tr>\n",
       "      <th>Actuaries</th>\n",
       "      <td>-1.227414</td>\n",
       "      <td>1.135383</td>\n",
       "      <td>NaN</td>\n",
       "      <td>-0.087157</td>\n",
       "      <td>-0.286412</td>\n",
       "      <td>-0.282347</td>\n",
       "      <td>1.963571</td>\n",
       "      <td>-0.399273</td>\n",
       "      <td>-0.465844</td>\n",
       "      <td>0.038218</td>\n",
       "      <td>...</td>\n",
       "      <td>1.804970</td>\n",
       "      <td>2.486738</td>\n",
       "      <td>-0.972011</td>\n",
       "      <td>-0.930407</td>\n",
       "      <td>-0.086949</td>\n",
       "      <td>-0.831523</td>\n",
       "      <td>1.659458</td>\n",
       "      <td>2.279853</td>\n",
       "      <td>1.216561</td>\n",
       "      <td>-0.704367</td>\n",
       "    </tr>\n",
       "    <tr>\n",
       "      <th>Acupuncturists</th>\n",
       "      <td>-1.171535</td>\n",
       "      <td>-0.864040</td>\n",
       "      <td>-0.087157</td>\n",
       "      <td>NaN</td>\n",
       "      <td>-1.001092</td>\n",
       "      <td>-1.412509</td>\n",
       "      <td>0.446884</td>\n",
       "      <td>-0.959553</td>\n",
       "      <td>-0.798526</td>\n",
       "      <td>-1.204994</td>\n",
       "      <td>...</td>\n",
       "      <td>-0.041906</td>\n",
       "      <td>0.854747</td>\n",
       "      <td>-0.723608</td>\n",
       "      <td>-0.542806</td>\n",
       "      <td>-0.172813</td>\n",
       "      <td>-0.692439</td>\n",
       "      <td>0.568397</td>\n",
       "      <td>0.827215</td>\n",
       "      <td>-0.526829</td>\n",
       "      <td>-1.083851</td>\n",
       "    </tr>\n",
       "    <tr>\n",
       "      <th>Acute Care Nurses</th>\n",
       "      <td>-0.569831</td>\n",
       "      <td>0.663371</td>\n",
       "      <td>-0.286412</td>\n",
       "      <td>-1.001092</td>\n",
       "      <td>NaN</td>\n",
       "      <td>-1.195340</td>\n",
       "      <td>0.830991</td>\n",
       "      <td>-0.255460</td>\n",
       "      <td>-0.836154</td>\n",
       "      <td>-0.280156</td>\n",
       "      <td>...</td>\n",
       "      <td>0.676692</td>\n",
       "      <td>1.417261</td>\n",
       "      <td>-0.556259</td>\n",
       "      <td>-1.302537</td>\n",
       "      <td>-0.920175</td>\n",
       "      <td>-1.047353</td>\n",
       "      <td>0.542074</td>\n",
       "      <td>1.357017</td>\n",
       "      <td>0.913517</td>\n",
       "      <td>-1.547737</td>\n",
       "    </tr>\n",
       "    <tr>\n",
       "      <th>...</th>\n",
       "      <td>...</td>\n",
       "      <td>...</td>\n",
       "      <td>...</td>\n",
       "      <td>...</td>\n",
       "      <td>...</td>\n",
       "      <td>...</td>\n",
       "      <td>...</td>\n",
       "      <td>...</td>\n",
       "      <td>...</td>\n",
       "      <td>...</td>\n",
       "      <td>...</td>\n",
       "      <td>...</td>\n",
       "      <td>...</td>\n",
       "      <td>...</td>\n",
       "      <td>...</td>\n",
       "      <td>...</td>\n",
       "      <td>...</td>\n",
       "      <td>...</td>\n",
       "      <td>...</td>\n",
       "      <td>...</td>\n",
       "      <td>...</td>\n",
       "    </tr>\n",
       "    <tr>\n",
       "      <th>Wind Energy Project Managers</th>\n",
       "      <td>-1.141396</td>\n",
       "      <td>0.546771</td>\n",
       "      <td>-0.831523</td>\n",
       "      <td>-0.692439</td>\n",
       "      <td>-1.047353</td>\n",
       "      <td>-0.945562</td>\n",
       "      <td>0.908294</td>\n",
       "      <td>-0.497354</td>\n",
       "      <td>-1.831780</td>\n",
       "      <td>-0.280800</td>\n",
       "      <td>...</td>\n",
       "      <td>0.801334</td>\n",
       "      <td>1.456835</td>\n",
       "      <td>-1.831528</td>\n",
       "      <td>-0.911183</td>\n",
       "      <td>-1.592966</td>\n",
       "      <td>NaN</td>\n",
       "      <td>0.644552</td>\n",
       "      <td>1.388393</td>\n",
       "      <td>0.472996</td>\n",
       "      <td>-1.141655</td>\n",
       "    </tr>\n",
       "    <tr>\n",
       "      <th>Wind Turbine Service Technicians</th>\n",
       "      <td>1.107543</td>\n",
       "      <td>1.569600</td>\n",
       "      <td>1.659458</td>\n",
       "      <td>0.568397</td>\n",
       "      <td>0.542074</td>\n",
       "      <td>0.979859</td>\n",
       "      <td>-1.277587</td>\n",
       "      <td>1.721333</td>\n",
       "      <td>0.830265</td>\n",
       "      <td>1.343563</td>\n",
       "      <td>...</td>\n",
       "      <td>-0.786879</td>\n",
       "      <td>-0.852132</td>\n",
       "      <td>1.205901</td>\n",
       "      <td>0.564226</td>\n",
       "      <td>-0.197641</td>\n",
       "      <td>0.644552</td>\n",
       "      <td>NaN</td>\n",
       "      <td>-0.962793</td>\n",
       "      <td>0.923107</td>\n",
       "      <td>0.745142</td>\n",
       "    </tr>\n",
       "    <tr>\n",
       "      <th>Woodworking Machine Setters, Operators, and Tenders, Except Sawing</th>\n",
       "      <td>1.433590</td>\n",
       "      <td>1.321033</td>\n",
       "      <td>2.279853</td>\n",
       "      <td>0.827215</td>\n",
       "      <td>1.357017</td>\n",
       "      <td>1.592393</td>\n",
       "      <td>-1.603523</td>\n",
       "      <td>2.089086</td>\n",
       "      <td>1.384270</td>\n",
       "      <td>1.651199</td>\n",
       "      <td>...</td>\n",
       "      <td>-1.709891</td>\n",
       "      <td>-1.733867</td>\n",
       "      <td>1.659570</td>\n",
       "      <td>1.220691</td>\n",
       "      <td>0.909859</td>\n",
       "      <td>1.388393</td>\n",
       "      <td>-0.962793</td>\n",
       "      <td>NaN</td>\n",
       "      <td>0.158726</td>\n",
       "      <td>1.480451</td>\n",
       "    </tr>\n",
       "    <tr>\n",
       "      <th>Word Processors and Typists</th>\n",
       "      <td>-0.109065</td>\n",
       "      <td>-0.680258</td>\n",
       "      <td>1.216561</td>\n",
       "      <td>-0.526829</td>\n",
       "      <td>0.913517</td>\n",
       "      <td>0.420100</td>\n",
       "      <td>0.150641</td>\n",
       "      <td>0.492062</td>\n",
       "      <td>0.232212</td>\n",
       "      <td>-0.009116</td>\n",
       "      <td>...</td>\n",
       "      <td>-0.506267</td>\n",
       "      <td>0.315154</td>\n",
       "      <td>0.345638</td>\n",
       "      <td>0.763999</td>\n",
       "      <td>0.925228</td>\n",
       "      <td>0.472996</td>\n",
       "      <td>0.923107</td>\n",
       "      <td>0.158726</td>\n",
       "      <td>NaN</td>\n",
       "      <td>0.631908</td>\n",
       "    </tr>\n",
       "    <tr>\n",
       "      <th>Zoologists and Wildlife Biologists</th>\n",
       "      <td>-0.931834</td>\n",
       "      <td>0.499286</td>\n",
       "      <td>-0.704367</td>\n",
       "      <td>-1.083851</td>\n",
       "      <td>-1.547737</td>\n",
       "      <td>-0.823796</td>\n",
       "      <td>0.977582</td>\n",
       "      <td>-0.478538</td>\n",
       "      <td>-0.704104</td>\n",
       "      <td>-0.386234</td>\n",
       "      <td>...</td>\n",
       "      <td>0.780540</td>\n",
       "      <td>1.503900</td>\n",
       "      <td>-0.771617</td>\n",
       "      <td>-1.486155</td>\n",
       "      <td>-0.552562</td>\n",
       "      <td>-1.141655</td>\n",
       "      <td>0.745142</td>\n",
       "      <td>1.480451</td>\n",
       "      <td>0.631908</td>\n",
       "      <td>NaN</td>\n",
       "    </tr>\n",
       "  </tbody>\n",
       "</table>\n",
       "<p>968 rows × 968 columns</p>\n",
       "</div>"
      ],
      "text/plain": [
       "                                                    Accountants    Actors  \\\n",
       "Accountants                                                 NaN -0.230680   \n",
       "Actors                                                -0.230680       NaN   \n",
       "Actuaries                                             -1.227414  1.135383   \n",
       "Acupuncturists                                        -1.171535 -0.864040   \n",
       "Acute Care Nurses                                     -0.569831  0.663371   \n",
       "...                                                         ...       ...   \n",
       "Wind Energy Project Managers                          -1.141396  0.546771   \n",
       "Wind Turbine Service Technicians                       1.107543  1.569600   \n",
       "Woodworking Machine Setters, Operators, and Ten...     1.433590  1.321033   \n",
       "Word Processors and Typists                           -0.109065 -0.680258   \n",
       "Zoologists and Wildlife Biologists                    -0.931834  0.499286   \n",
       "\n",
       "                                                    Actuaries  Acupuncturists  \\\n",
       "Accountants                                         -1.227414       -1.171535   \n",
       "Actors                                               1.135383       -0.864040   \n",
       "Actuaries                                                 NaN       -0.087157   \n",
       "Acupuncturists                                      -0.087157             NaN   \n",
       "Acute Care Nurses                                   -0.286412       -1.001092   \n",
       "...                                                       ...             ...   \n",
       "Wind Energy Project Managers                        -0.831523       -0.692439   \n",
       "Wind Turbine Service Technicians                     1.659458        0.568397   \n",
       "Woodworking Machine Setters, Operators, and Ten...   2.279853        0.827215   \n",
       "Word Processors and Typists                          1.216561       -0.526829   \n",
       "Zoologists and Wildlife Biologists                  -0.704367       -1.083851   \n",
       "\n",
       "                                                    Acute Care Nurses  \\\n",
       "Accountants                                                 -0.569831   \n",
       "Actors                                                       0.663371   \n",
       "Actuaries                                                   -0.286412   \n",
       "Acupuncturists                                              -1.001092   \n",
       "Acute Care Nurses                                                 NaN   \n",
       "...                                                               ...   \n",
       "Wind Energy Project Managers                                -1.047353   \n",
       "Wind Turbine Service Technicians                             0.542074   \n",
       "Woodworking Machine Setters, Operators, and Ten...           1.357017   \n",
       "Word Processors and Typists                                  0.913517   \n",
       "Zoologists and Wildlife Biologists                          -1.547737   \n",
       "\n",
       "                                                    Adapted Physical Education Specialists  \\\n",
       "Accountants                                                                      -1.003623   \n",
       "Actors                                                                           -0.357262   \n",
       "Actuaries                                                                        -0.282347   \n",
       "Acupuncturists                                                                   -1.412509   \n",
       "Acute Care Nurses                                                                -1.195340   \n",
       "...                                                                                    ...   \n",
       "Wind Energy Project Managers                                                     -0.945562   \n",
       "Wind Turbine Service Technicians                                                  0.979859   \n",
       "Woodworking Machine Setters, Operators, and Ten...                                1.592393   \n",
       "Word Processors and Typists                                                       0.420100   \n",
       "Zoologists and Wildlife Biologists                                               -0.823796   \n",
       "\n",
       "                                                    Adhesive Bonding Machine Operators and Tenders  \\\n",
       "Accountants                                                                               1.132803   \n",
       "Actors                                                                                    1.197330   \n",
       "Actuaries                                                                                 1.963571   \n",
       "Acupuncturists                                                                            0.446884   \n",
       "Acute Care Nurses                                                                         0.830991   \n",
       "...                                                                                            ...   \n",
       "Wind Energy Project Managers                                                              0.908294   \n",
       "Wind Turbine Service Technicians                                                         -1.277587   \n",
       "Woodworking Machine Setters, Operators, and Ten...                                       -1.603523   \n",
       "Word Processors and Typists                                                               0.150641   \n",
       "Zoologists and Wildlife Biologists                                                        0.977582   \n",
       "\n",
       "                                                    Administrative Law Judges, Adjudicators, and Hearing Officers  \\\n",
       "Accountants                                                                                 -1.065039               \n",
       "Actors                                                                                      -0.544330               \n",
       "Actuaries                                                                                   -0.399273               \n",
       "Acupuncturists                                                                              -0.959553               \n",
       "Acute Care Nurses                                                                           -0.255460               \n",
       "...                                                                                               ...               \n",
       "Wind Energy Project Managers                                                                -0.497354               \n",
       "Wind Turbine Service Technicians                                                             1.721333               \n",
       "Woodworking Machine Setters, Operators, and Ten...                                           2.089086               \n",
       "Word Processors and Typists                                                                  0.492062               \n",
       "Zoologists and Wildlife Biologists                                                          -0.478538               \n",
       "\n",
       "                                                    Administrative Services Managers  \\\n",
       "Accountants                                                                -1.137232   \n",
       "Actors                                                                      0.050725   \n",
       "Actuaries                                                                  -0.465844   \n",
       "Acupuncturists                                                             -0.798526   \n",
       "Acute Care Nurses                                                          -0.836154   \n",
       "...                                                                              ...   \n",
       "Wind Energy Project Managers                                               -1.831780   \n",
       "Wind Turbine Service Technicians                                            0.830265   \n",
       "Woodworking Machine Setters, Operators, and Ten...                          1.384270   \n",
       "Word Processors and Typists                                                 0.232212   \n",
       "Zoologists and Wildlife Biologists                                         -0.704104   \n",
       "\n",
       "                                                    Adult Basic and Secondary Education and Literacy Teachers and Instructors  \\\n",
       "Accountants                                                                                 -1.059764                           \n",
       "Actors                                                                                      -0.943865                           \n",
       "Actuaries                                                                                    0.038218                           \n",
       "Acupuncturists                                                                              -1.204994                           \n",
       "Acute Care Nurses                                                                           -0.280156                           \n",
       "...                                                                                               ...                           \n",
       "Wind Energy Project Managers                                                                -0.280800                           \n",
       "Wind Turbine Service Technicians                                                             1.343563                           \n",
       "Woodworking Machine Setters, Operators, and Ten...                                           1.651199                           \n",
       "Word Processors and Typists                                                                 -0.009116                           \n",
       "Zoologists and Wildlife Biologists                                                          -0.386234                           \n",
       "\n",
       "                                                    ...  \\\n",
       "Accountants                                         ...   \n",
       "Actors                                              ...   \n",
       "Actuaries                                           ...   \n",
       "Acupuncturists                                      ...   \n",
       "Acute Care Nurses                                   ...   \n",
       "...                                                 ...   \n",
       "Wind Energy Project Managers                        ...   \n",
       "Wind Turbine Service Technicians                    ...   \n",
       "Woodworking Machine Setters, Operators, and Ten...  ...   \n",
       "Word Processors and Typists                         ...   \n",
       "Zoologists and Wildlife Biologists                  ...   \n",
       "\n",
       "                                                    Welding, Soldering, and Brazing Machine Setters, Operators, and Tenders  \\\n",
       "Accountants                                                                                  0.725944                         \n",
       "Actors                                                                                       0.331293                         \n",
       "Actuaries                                                                                    1.804970                         \n",
       "Acupuncturists                                                                              -0.041906                         \n",
       "Acute Care Nurses                                                                            0.676692                         \n",
       "...                                                                                               ...                         \n",
       "Wind Energy Project Managers                                                                 0.801334                         \n",
       "Wind Turbine Service Technicians                                                            -0.786879                         \n",
       "Woodworking Machine Setters, Operators, and Ten...                                          -1.709891                         \n",
       "Word Processors and Typists                                                                 -0.506267                         \n",
       "Zoologists and Wildlife Biologists                                                           0.780540                         \n",
       "\n",
       "                                                    Wellhead Pumpers  \\\n",
       "Accountants                                                 1.565390   \n",
       "Actors                                                      1.241636   \n",
       "Actuaries                                                   2.486738   \n",
       "Acupuncturists                                              0.854747   \n",
       "Acute Care Nurses                                           1.417261   \n",
       "...                                                              ...   \n",
       "Wind Energy Project Managers                                1.456835   \n",
       "Wind Turbine Service Technicians                           -0.852132   \n",
       "Woodworking Machine Setters, Operators, and Ten...         -1.733867   \n",
       "Word Processors and Typists                                 0.315154   \n",
       "Zoologists and Wildlife Biologists                          1.503900   \n",
       "\n",
       "                                                    Wholesale and Retail Buyers, Except Farm Products  \\\n",
       "Accountants                                                                                 -1.521513   \n",
       "Actors                                                                                       0.200386   \n",
       "Actuaries                                                                                   -0.972011   \n",
       "Acupuncturists                                                                              -0.723608   \n",
       "Acute Care Nurses                                                                           -0.556259   \n",
       "...                                                                                               ...   \n",
       "Wind Energy Project Managers                                                                -1.831528   \n",
       "Wind Turbine Service Technicians                                                             1.205901   \n",
       "Woodworking Machine Setters, Operators, and Ten...                                           1.659570   \n",
       "Word Processors and Typists                                                                  0.345638   \n",
       "Zoologists and Wildlife Biologists                                                          -0.771617   \n",
       "\n",
       "                                                    Wind Energy Engineers  \\\n",
       "Accountants                                                     -0.814871   \n",
       "Actors                                                           1.010929   \n",
       "Actuaries                                                       -0.930407   \n",
       "Acupuncturists                                                  -0.542806   \n",
       "Acute Care Nurses                                               -1.302537   \n",
       "...                                                                   ...   \n",
       "Wind Energy Project Managers                                    -0.911183   \n",
       "Wind Turbine Service Technicians                                 0.564226   \n",
       "Woodworking Machine Setters, Operators, and Ten...               1.220691   \n",
       "Word Processors and Typists                                      0.763999   \n",
       "Zoologists and Wildlife Biologists                              -1.486155   \n",
       "\n",
       "                                                    Wind Energy Operations Managers  \\\n",
       "Accountants                                                               -0.314631   \n",
       "Actors                                                                     1.070415   \n",
       "Actuaries                                                                 -0.086949   \n",
       "Acupuncturists                                                            -0.172813   \n",
       "Acute Care Nurses                                                         -0.920175   \n",
       "...                                                                             ...   \n",
       "Wind Energy Project Managers                                              -1.592966   \n",
       "Wind Turbine Service Technicians                                          -0.197641   \n",
       "Woodworking Machine Setters, Operators, and Ten...                         0.909859   \n",
       "Word Processors and Typists                                                0.925228   \n",
       "Zoologists and Wildlife Biologists                                        -0.552562   \n",
       "\n",
       "                                                    Wind Energy Project Managers  \\\n",
       "Accountants                                                            -1.141396   \n",
       "Actors                                                                  0.546771   \n",
       "Actuaries                                                              -0.831523   \n",
       "Acupuncturists                                                         -0.692439   \n",
       "Acute Care Nurses                                                      -1.047353   \n",
       "...                                                                          ...   \n",
       "Wind Energy Project Managers                                                 NaN   \n",
       "Wind Turbine Service Technicians                                        0.644552   \n",
       "Woodworking Machine Setters, Operators, and Ten...                      1.388393   \n",
       "Word Processors and Typists                                             0.472996   \n",
       "Zoologists and Wildlife Biologists                                     -1.141655   \n",
       "\n",
       "                                                    Wind Turbine Service Technicians  \\\n",
       "Accountants                                                                 1.107543   \n",
       "Actors                                                                      1.569600   \n",
       "Actuaries                                                                   1.659458   \n",
       "Acupuncturists                                                              0.568397   \n",
       "Acute Care Nurses                                                           0.542074   \n",
       "...                                                                              ...   \n",
       "Wind Energy Project Managers                                                0.644552   \n",
       "Wind Turbine Service Technicians                                                 NaN   \n",
       "Woodworking Machine Setters, Operators, and Ten...                         -0.962793   \n",
       "Word Processors and Typists                                                 0.923107   \n",
       "Zoologists and Wildlife Biologists                                          0.745142   \n",
       "\n",
       "                                                    Woodworking Machine Setters, Operators, and Tenders, Except Sawing  \\\n",
       "Accountants                                                                                  1.433590                    \n",
       "Actors                                                                                       1.321033                    \n",
       "Actuaries                                                                                    2.279853                    \n",
       "Acupuncturists                                                                               0.827215                    \n",
       "Acute Care Nurses                                                                            1.357017                    \n",
       "...                                                                                               ...                    \n",
       "Wind Energy Project Managers                                                                 1.388393                    \n",
       "Wind Turbine Service Technicians                                                            -0.962793                    \n",
       "Woodworking Machine Setters, Operators, and Ten...                                                NaN                    \n",
       "Word Processors and Typists                                                                  0.158726                    \n",
       "Zoologists and Wildlife Biologists                                                           1.480451                    \n",
       "\n",
       "                                                    Word Processors and Typists  \\\n",
       "Accountants                                                           -0.109065   \n",
       "Actors                                                                -0.680258   \n",
       "Actuaries                                                              1.216561   \n",
       "Acupuncturists                                                        -0.526829   \n",
       "Acute Care Nurses                                                      0.913517   \n",
       "...                                                                         ...   \n",
       "Wind Energy Project Managers                                           0.472996   \n",
       "Wind Turbine Service Technicians                                       0.923107   \n",
       "Woodworking Machine Setters, Operators, and Ten...                     0.158726   \n",
       "Word Processors and Typists                                                 NaN   \n",
       "Zoologists and Wildlife Biologists                                     0.631908   \n",
       "\n",
       "                                                    Zoologists and Wildlife Biologists  \n",
       "Accountants                                                                  -0.931834  \n",
       "Actors                                                                        0.499286  \n",
       "Actuaries                                                                    -0.704367  \n",
       "Acupuncturists                                                               -1.083851  \n",
       "Acute Care Nurses                                                            -1.547737  \n",
       "...                                                                                ...  \n",
       "Wind Energy Project Managers                                                 -1.141655  \n",
       "Wind Turbine Service Technicians                                              0.745142  \n",
       "Woodworking Machine Setters, Operators, and Ten...                            1.480451  \n",
       "Word Processors and Typists                                                   0.631908  \n",
       "Zoologists and Wildlife Biologists                                                 NaN  \n",
       "\n",
       "[968 rows x 968 columns]"
      ]
     },
     "execution_count": 8,
     "metadata": {},
     "output_type": "execute_result"
    }
   ],
   "source": [
    "df_skills = get_data(connection,'skills')\n",
    "df_skills\n",
    "\n",
    "skills_dist = distance_table(df_skills)\n",
    "skills_dist"
   ]
  },
  {
   "cell_type": "code",
   "execution_count": 9,
   "metadata": {},
   "outputs": [
    {
     "data": {
      "text/plain": [
       "Demonstrators and Product Promoters                                                            -1.965512\n",
       "Bartenders                                                                                     -1.937110\n",
       "Psychiatric Aides                                                                              -1.923179\n",
       "Sales Representatives, Wholesale and Manufacturing, Except Technical and Scientific Products   -1.905583\n",
       "Home Health Aides                                                                              -1.884423\n",
       "Reservation and Transportation Ticket Agents and Travel Clerks                                 -1.880728\n",
       "Travel Agents                                                                                  -1.851155\n",
       "Order Clerks                                                                                   -1.816983\n",
       "Counter and Rental Clerks                                                                      -1.805677\n",
       "Hotel, Motel, and Resort Desk Clerks                                                           -1.793128\n",
       "Name: Retail Salespersons, dtype: float64"
      ]
     },
     "execution_count": 9,
     "metadata": {},
     "output_type": "execute_result"
    }
   ],
   "source": [
    "skills_dist.loc['Retail Salespersons'].sort_values()[0:10]"
   ]
  },
  {
   "cell_type": "code",
   "execution_count": null,
   "metadata": {},
   "outputs": [],
   "source": []
  },
  {
   "cell_type": "markdown",
   "metadata": {},
   "source": [
    "### Percentages"
   ]
  },
  {
   "cell_type": "code",
   "execution_count": 10,
   "metadata": {
    "scrolled": false
   },
   "outputs": [
    {
     "data": {
      "text/html": [
       "<div>\n",
       "<style scoped>\n",
       "    .dataframe tbody tr th:only-of-type {\n",
       "        vertical-align: middle;\n",
       "    }\n",
       "\n",
       "    .dataframe tbody tr th {\n",
       "        vertical-align: top;\n",
       "    }\n",
       "\n",
       "    .dataframe thead th {\n",
       "        text-align: right;\n",
       "    }\n",
       "</style>\n",
       "<table border=\"1\" class=\"dataframe\">\n",
       "  <thead>\n",
       "    <tr style=\"text-align: right;\">\n",
       "      <th></th>\n",
       "      <th>ONET18_SOC_LY</th>\n",
       "      <th>ONET18_SOC</th>\n",
       "      <th>ONET18_Title</th>\n",
       "      <th>ONET18_Title_LY</th>\n",
       "      <th>count</th>\n",
       "      <th>pct_tot</th>\n",
       "      <th>count_socly</th>\n",
       "      <th>pct_socly</th>\n",
       "      <th>in_grp</th>\n",
       "      <th>in_minor_grp</th>\n",
       "      <th>in_broad_occ</th>\n",
       "      <th>employment_projection_NewJob</th>\n",
       "      <th>wage_change_BetweenJobs</th>\n",
       "    </tr>\n",
       "  </thead>\n",
       "  <tbody>\n",
       "    <tr>\n",
       "      <th>50936</th>\n",
       "      <td>29-1141</td>\n",
       "      <td>29-1123</td>\n",
       "      <td>Physical Therapists</td>\n",
       "      <td>Registered Nurses</td>\n",
       "      <td>208251.380000</td>\n",
       "      <td>0.124664</td>\n",
       "      <td>1137881.06</td>\n",
       "      <td>18.301683</td>\n",
       "      <td>1</td>\n",
       "      <td>1</td>\n",
       "      <td>0</td>\n",
       "      <td>18.2</td>\n",
       "      <td>22.020431</td>\n",
       "    </tr>\n",
       "    <tr>\n",
       "      <th>50939</th>\n",
       "      <td>29-1141</td>\n",
       "      <td>29-1126</td>\n",
       "      <td>Respiratory Therapists</td>\n",
       "      <td>Registered Nurses</td>\n",
       "      <td>133490.700000</td>\n",
       "      <td>0.079911</td>\n",
       "      <td>1137881.06</td>\n",
       "      <td>11.731516</td>\n",
       "      <td>1</td>\n",
       "      <td>1</td>\n",
       "      <td>0</td>\n",
       "      <td>19.4</td>\n",
       "      <td>-16.345062</td>\n",
       "    </tr>\n",
       "    <tr>\n",
       "      <th>50942</th>\n",
       "      <td>29-1141</td>\n",
       "      <td>29-1129</td>\n",
       "      <td>Therapists, All Other</td>\n",
       "      <td>Registered Nurses</td>\n",
       "      <td>84033.560000</td>\n",
       "      <td>0.050305</td>\n",
       "      <td>1137881.06</td>\n",
       "      <td>7.385092</td>\n",
       "      <td>1</td>\n",
       "      <td>1</td>\n",
       "      <td>0</td>\n",
       "      <td>14.6</td>\n",
       "      <td>-28.178207</td>\n",
       "    </tr>\n",
       "    <tr>\n",
       "      <th>50941</th>\n",
       "      <td>29-1141</td>\n",
       "      <td>29-1128</td>\n",
       "      <td>Exercise Physiologists</td>\n",
       "      <td>Registered Nurses</td>\n",
       "      <td>84033.560000</td>\n",
       "      <td>0.050305</td>\n",
       "      <td>1137881.06</td>\n",
       "      <td>7.385092</td>\n",
       "      <td>1</td>\n",
       "      <td>1</td>\n",
       "      <td>0</td>\n",
       "      <td>11.3</td>\n",
       "      <td>-32.917140</td>\n",
       "    </tr>\n",
       "    <tr>\n",
       "      <th>50940</th>\n",
       "      <td>29-1141</td>\n",
       "      <td>29-1127</td>\n",
       "      <td>Speech-Language Pathologists</td>\n",
       "      <td>Registered Nurses</td>\n",
       "      <td>78260.440000</td>\n",
       "      <td>0.046849</td>\n",
       "      <td>1137881.06</td>\n",
       "      <td>6.877735</td>\n",
       "      <td>1</td>\n",
       "      <td>1</td>\n",
       "      <td>0</td>\n",
       "      <td>24.9</td>\n",
       "      <td>7.945516</td>\n",
       "    </tr>\n",
       "    <tr>\n",
       "      <th>...</th>\n",
       "      <td>...</td>\n",
       "      <td>...</td>\n",
       "      <td>...</td>\n",
       "      <td>...</td>\n",
       "      <td>...</td>\n",
       "      <td>...</td>\n",
       "      <td>...</td>\n",
       "      <td>...</td>\n",
       "      <td>...</td>\n",
       "      <td>...</td>\n",
       "      <td>...</td>\n",
       "      <td>...</td>\n",
       "      <td>...</td>\n",
       "    </tr>\n",
       "    <tr>\n",
       "      <th>50913</th>\n",
       "      <td>29-1141</td>\n",
       "      <td>25-4012</td>\n",
       "      <td>Curators</td>\n",
       "      <td>Registered Nurses</td>\n",
       "      <td>104.406667</td>\n",
       "      <td>0.000063</td>\n",
       "      <td>1137881.06</td>\n",
       "      <td>0.009176</td>\n",
       "      <td>0</td>\n",
       "      <td>0</td>\n",
       "      <td>0</td>\n",
       "      <td>12.6</td>\n",
       "      <td>-25.539160</td>\n",
       "    </tr>\n",
       "    <tr>\n",
       "      <th>51049</th>\n",
       "      <td>29-1141</td>\n",
       "      <td>53-3051</td>\n",
       "      <td>Bus Drivers, School</td>\n",
       "      <td>Registered Nurses</td>\n",
       "      <td>47.747500</td>\n",
       "      <td>0.000029</td>\n",
       "      <td>1137881.06</td>\n",
       "      <td>0.004196</td>\n",
       "      <td>0</td>\n",
       "      <td>0</td>\n",
       "      <td>0</td>\n",
       "      <td>NaN</td>\n",
       "      <td>NaN</td>\n",
       "    </tr>\n",
       "    <tr>\n",
       "      <th>51050</th>\n",
       "      <td>29-1141</td>\n",
       "      <td>53-3052</td>\n",
       "      <td>Bus Drivers, Transit and Intercity</td>\n",
       "      <td>Registered Nurses</td>\n",
       "      <td>47.747500</td>\n",
       "      <td>0.000029</td>\n",
       "      <td>1137881.06</td>\n",
       "      <td>0.004196</td>\n",
       "      <td>0</td>\n",
       "      <td>0</td>\n",
       "      <td>0</td>\n",
       "      <td>9.3</td>\n",
       "      <td>-41.288309</td>\n",
       "    </tr>\n",
       "    <tr>\n",
       "      <th>51051</th>\n",
       "      <td>29-1141</td>\n",
       "      <td>53-3053</td>\n",
       "      <td>Shuttle Drivers and Chauffeurs</td>\n",
       "      <td>Registered Nurses</td>\n",
       "      <td>47.747500</td>\n",
       "      <td>0.000029</td>\n",
       "      <td>1137881.06</td>\n",
       "      <td>0.004196</td>\n",
       "      <td>0</td>\n",
       "      <td>0</td>\n",
       "      <td>0</td>\n",
       "      <td>NaN</td>\n",
       "      <td>NaN</td>\n",
       "    </tr>\n",
       "    <tr>\n",
       "      <th>51052</th>\n",
       "      <td>29-1141</td>\n",
       "      <td>53-3054</td>\n",
       "      <td>Taxi Drivers</td>\n",
       "      <td>Registered Nurses</td>\n",
       "      <td>47.747500</td>\n",
       "      <td>0.000029</td>\n",
       "      <td>1137881.06</td>\n",
       "      <td>0.004196</td>\n",
       "      <td>0</td>\n",
       "      <td>0</td>\n",
       "      <td>0</td>\n",
       "      <td>NaN</td>\n",
       "      <td>NaN</td>\n",
       "    </tr>\n",
       "  </tbody>\n",
       "</table>\n",
       "<p>238 rows × 13 columns</p>\n",
       "</div>"
      ],
      "text/plain": [
       "      ONET18_SOC_LY ONET18_SOC                        ONET18_Title  \\\n",
       "50936       29-1141    29-1123                 Physical Therapists   \n",
       "50939       29-1141    29-1126              Respiratory Therapists   \n",
       "50942       29-1141    29-1129               Therapists, All Other   \n",
       "50941       29-1141    29-1128              Exercise Physiologists   \n",
       "50940       29-1141    29-1127        Speech-Language Pathologists   \n",
       "...             ...        ...                                 ...   \n",
       "50913       29-1141    25-4012                            Curators   \n",
       "51049       29-1141    53-3051                 Bus Drivers, School   \n",
       "51050       29-1141    53-3052  Bus Drivers, Transit and Intercity   \n",
       "51051       29-1141    53-3053      Shuttle Drivers and Chauffeurs   \n",
       "51052       29-1141    53-3054                        Taxi Drivers   \n",
       "\n",
       "         ONET18_Title_LY          count   pct_tot  count_socly  pct_socly  \\\n",
       "50936  Registered Nurses  208251.380000  0.124664   1137881.06  18.301683   \n",
       "50939  Registered Nurses  133490.700000  0.079911   1137881.06  11.731516   \n",
       "50942  Registered Nurses   84033.560000  0.050305   1137881.06   7.385092   \n",
       "50941  Registered Nurses   84033.560000  0.050305   1137881.06   7.385092   \n",
       "50940  Registered Nurses   78260.440000  0.046849   1137881.06   6.877735   \n",
       "...                  ...            ...       ...          ...        ...   \n",
       "50913  Registered Nurses     104.406667  0.000063   1137881.06   0.009176   \n",
       "51049  Registered Nurses      47.747500  0.000029   1137881.06   0.004196   \n",
       "51050  Registered Nurses      47.747500  0.000029   1137881.06   0.004196   \n",
       "51051  Registered Nurses      47.747500  0.000029   1137881.06   0.004196   \n",
       "51052  Registered Nurses      47.747500  0.000029   1137881.06   0.004196   \n",
       "\n",
       "       in_grp  in_minor_grp  in_broad_occ  employment_projection_NewJob  \\\n",
       "50936       1             1             0                          18.2   \n",
       "50939       1             1             0                          19.4   \n",
       "50942       1             1             0                          14.6   \n",
       "50941       1             1             0                          11.3   \n",
       "50940       1             1             0                          24.9   \n",
       "...       ...           ...           ...                           ...   \n",
       "50913       0             0             0                          12.6   \n",
       "51049       0             0             0                           NaN   \n",
       "51050       0             0             0                           9.3   \n",
       "51051       0             0             0                           NaN   \n",
       "51052       0             0             0                           NaN   \n",
       "\n",
       "       wage_change_BetweenJobs  \n",
       "50936                22.020431  \n",
       "50939               -16.345062  \n",
       "50942               -28.178207  \n",
       "50941               -32.917140  \n",
       "50940                 7.945516  \n",
       "...                        ...  \n",
       "50913               -25.539160  \n",
       "51049                      NaN  \n",
       "51050               -41.288309  \n",
       "51051                      NaN  \n",
       "51052                      NaN  \n",
       "\n",
       "[238 rows x 13 columns]"
      ]
     },
     "execution_count": 10,
     "metadata": {},
     "output_type": "execute_result"
    }
   ],
   "source": [
    "cps_retail_pct = df_cps[df_cps['ONET18_Title_LY'] == 'Registered Nurses'].sort_values(by = 'pct_tot', ascending = False)\n",
    "# cps_retail_pct[cps_retail_pct['ONET18_Title'] == 'Cashiers']['pct_tot']\n",
    "# cps_retail_pct[0:10]['pct_tot'].sum()\n",
    "cps_retail_pct"
   ]
  },
  {
   "cell_type": "code",
   "execution_count": 11,
   "metadata": {},
   "outputs": [],
   "source": [
    "def percentage_default(occ,df_cps,a,b):\n",
    "    df_occ = df_cps[df_cps['ONET18_Title_LY'] == occ].sort_values(by = 'pct_socly', ascending = False)\n",
    "    return df_occ[a:b]['pct_socly'].sum()"
   ]
  },
  {
   "cell_type": "code",
   "execution_count": 12,
   "metadata": {},
   "outputs": [],
   "source": [
    "retail_default = percentage_default('Retail Salespersons',df_cps,0,10)"
   ]
  },
  {
   "cell_type": "code",
   "execution_count": 13,
   "metadata": {},
   "outputs": [],
   "source": [
    "nurse_default = percentage_default('Registered Nurses',df_cps,0,10)"
   ]
  },
  {
   "cell_type": "code",
   "execution_count": 14,
   "metadata": {},
   "outputs": [],
   "source": [
    "janitors_default = percentage_default('Janitors and Cleaners, Except Maids and Housekeeping Cleaners',df_cps,0,10)"
   ]
  },
  {
   "cell_type": "code",
   "execution_count": 15,
   "metadata": {},
   "outputs": [],
   "source": [
    "sales_default = percentage_default('Sales Managers',df_cps,0,10)"
   ]
  },
  {
   "cell_type": "code",
   "execution_count": 16,
   "metadata": {},
   "outputs": [],
   "source": [
    "def percentage(occ,df_onet,df_cps,a,b):\n",
    "    '''\n",
    "    Get total percentage that ONET transition takes ups\n",
    "    @param occ occupation of interests\n",
    "    @param df_onet dataFrame for ONET\n",
    "    @param df_cps dataFrame for CPS data\n",
    "    @param a index of first position for onet\n",
    "    @param index of last position\n",
    "    \n",
    "    return the percentage composition for the ath to bth place of ONET\n",
    "    '''\n",
    "    \n",
    "    total = 0\n",
    "    onet_list = df_onet.loc[occ].sort_values()[a:b].index.to_list()\n",
    "    cps_occ = df_cps[df_cps['ONET18_Title_LY'] == occ]\n",
    "    for occ in onet_list:\n",
    "#         print(occ)\n",
    "#         print(cps_occ[cps_occ['ONET18_Title'] == occ]['pct_tot'].values[0])\n",
    "        val = cps_occ[cps_occ['ONET18_Title'] == occ]['pct_socly'].values\n",
    "        if len(val) == 0:\n",
    "            continue\n",
    "        else:\n",
    "            total += val[0]\n",
    "    \n",
    "    return total\n"
   ]
  },
  {
   "cell_type": "code",
   "execution_count": 17,
   "metadata": {
    "scrolled": true
   },
   "outputs": [
    {
     "name": "stdout",
     "output_type": "stream",
     "text": [
      "41.541673571317794\n",
      "6.2937464884452385\n",
      "15.150440382812885\n"
     ]
    }
   ],
   "source": [
    "retail_skills = percentage('Retail Salespersons',skills_dist,df_cps,0,10)\n",
    "print(retail_default)\n",
    "print(retail_skills)\n",
    "print(retail_skills/retail_default*100)"
   ]
  },
  {
   "cell_type": "code",
   "execution_count": 18,
   "metadata": {
    "scrolled": true
   },
   "outputs": [
    {
     "name": "stdout",
     "output_type": "stream",
     "text": [
      "69.29806178512185\n",
      "9.807177002520186\n",
      "14.152166380829092\n"
     ]
    }
   ],
   "source": [
    "nurse_skills = percentage('Registered Nurses',skills_dist,df_cps,0,10)\n",
    "print(nurse_default)\n",
    "print(nurse_skills)\n",
    "print(nurse_skills/nurse_default*100)"
   ]
  },
  {
   "cell_type": "code",
   "execution_count": 19,
   "metadata": {
    "scrolled": true
   },
   "outputs": [
    {
     "name": "stdout",
     "output_type": "stream",
     "text": [
      "59.08144679332252\n",
      "7.397082505916141\n",
      "12.520144491031948\n"
     ]
    }
   ],
   "source": [
    "janitors_skills = percentage('Janitors and Cleaners, Except Maids and Housekeeping Cleaners',skills_dist,df_cps,0,10)\n",
    "print(janitors_default)\n",
    "print(janitors_skills)\n",
    "print(janitors_skills/janitors_default*100)"
   ]
  },
  {
   "cell_type": "code",
   "execution_count": 20,
   "metadata": {},
   "outputs": [
    {
     "name": "stdout",
     "output_type": "stream",
     "text": [
      "59.08144679332252\n",
      "3.536867901091421\n",
      "7.171481406185616\n"
     ]
    }
   ],
   "source": [
    "sales_skills = percentage('Sales Managers',skills_dist,df_cps,0,10)\n",
    "print(janitors_default)\n",
    "print(sales_skills)\n",
    "print(sales_skills/sales_default*100)"
   ]
  },
  {
   "cell_type": "markdown",
   "metadata": {},
   "source": [
    "## ONET Regular"
   ]
  },
  {
   "cell_type": "code",
   "execution_count": 21,
   "metadata": {},
   "outputs": [],
   "source": [
    "df_ab = get_data(connection,'abilities')\n",
    "df_in = get_data(connection,'interests')\n",
    "df_ws = get_data(connection,'work_styles')\n",
    "df_wv = get_data(connection, 'work_values')\n",
    "df_wc = get_data(connection,'work_context')\n",
    "df_knowledge = get_data(connection,'knowledge')\n",
    "df_gwas = get_data(connection,'work_activities')\n",
    "df_jz = get_data(connection,'job_zones')\n",
    "df_jz = df_jz[df_jz['title'] != 'Legislators']\n"
   ]
  },
  {
   "cell_type": "code",
   "execution_count": 22,
   "metadata": {},
   "outputs": [],
   "source": [
    "wc_dist = distance_table(df_wc)\n",
    "knowledge_dist = distance_table(df_knowledge)\n",
    "skills_dist = distance_table(df_skills)\n",
    "gwas_dist = distance_table(df_gwas)\n",
    "jz_dist = distance_table(df_jz,True)\n",
    "wv_dist = distance_table(df_wv)\n",
    "in_dist = distance_table(df_in)\n",
    "ab_dist = distance_table(df_ab)\n",
    "ws_dist = distance_table(df_ws)\n",
    "df_concat = pd.concat([wc_dist,knowledge_dist,skills_dist,gwas_dist,jz_dist.multiply(1.3)]).groupby(level =0).mean()\n",
    "# df_concat"
   ]
  },
  {
   "cell_type": "code",
   "execution_count": 23,
   "metadata": {},
   "outputs": [
    {
     "name": "stdout",
     "output_type": "stream",
     "text": [
      "41.541673571317794\n",
      "11.674018971853148\n",
      "28.101946715775565\n"
     ]
    }
   ],
   "source": [
    "retail_onet = percentage('Retail Salespersons',df_concat,df_cps,0,10)\n",
    "print(retail_default)\n",
    "print(retail_onet)\n",
    "print(retail_onet/retail_default*100)"
   ]
  },
  {
   "cell_type": "code",
   "execution_count": 24,
   "metadata": {},
   "outputs": [
    {
     "name": "stdout",
     "output_type": "stream",
     "text": [
      "69.29806178512185\n",
      "46.10060826568283\n",
      "66.52510485593486\n"
     ]
    }
   ],
   "source": [
    "nurse_onet = percentage('Registered Nurses',df_concat,df_cps,0,10)\n",
    "print(nurse_default)\n",
    "print(nurse_onet)\n",
    "print(nurse_onet/nurse_default*100)"
   ]
  },
  {
   "cell_type": "code",
   "execution_count": 25,
   "metadata": {
    "scrolled": true
   },
   "outputs": [
    {
     "name": "stdout",
     "output_type": "stream",
     "text": [
      "59.08144679332252\n",
      "27.73909571228287\n",
      "46.95060330753103\n"
     ]
    }
   ],
   "source": [
    "janitors_onet = percentage('Janitors and Cleaners, Except Maids and Housekeeping Cleaners',df_concat,df_cps,0,10)\n",
    "print(janitors_default)\n",
    "print(janitors_onet)\n",
    "print(janitors_onet/janitors_default*100)"
   ]
  },
  {
   "cell_type": "code",
   "execution_count": 26,
   "metadata": {},
   "outputs": [
    {
     "name": "stdout",
     "output_type": "stream",
     "text": [
      "49.31851176579454\n",
      "1.6504121501604823\n",
      "3.346435427731511\n"
     ]
    }
   ],
   "source": [
    "sales_onet = percentage('Sales Managers',df_concat,df_cps,0,10)\n",
    "print(sales_default)\n",
    "print(sales_onet)\n",
    "print(sales_onet/sales_default*100)"
   ]
  },
  {
   "cell_type": "code",
   "execution_count": 27,
   "metadata": {},
   "outputs": [],
   "source": [
    "## ONET Custom"
   ]
  },
  {
   "cell_type": "code",
   "execution_count": 28,
   "metadata": {},
   "outputs": [],
   "source": [
    "def filt(df,d):\n",
    "    '''\n",
    "    @params: df: Dataframe to filter, d: set of all relevant names\n",
    "    @returns: filtered Dataframe\n",
    "    '''\n",
    "    return df.loc[df.index.isin(d)]"
   ]
  },
  {
   "cell_type": "code",
   "execution_count": null,
   "metadata": {},
   "outputs": [],
   "source": []
  },
  {
   "cell_type": "code",
   "execution_count": 29,
   "metadata": {},
   "outputs": [],
   "source": [
    "# df_rel = pd.concat([knowledge_dist.multiply(2),skills_dist.multiply(3),gwas_dist]).groupby(level =0).mean()\n",
    "# df_jz_filt = get_data(connection,'job_zones',True,[2])\n",
    "df_jz_filt = get_data(connection,'job_zones')\n",
    "# df_ab_filt = get_data(connection,'abilities',True,'1.A.1.')\n",
    "df_ab_filt = get_data(connection,'abilities')\n",
    "# jz_dist_filt = distance_table(df_jz_filt,True)\n",
    "jz_set = set(df_jz_filt['title'].unique()) #to filter out same job_zones jobs"
   ]
  },
  {
   "cell_type": "code",
   "execution_count": 30,
   "metadata": {},
   "outputs": [],
   "source": [
    "abilities_filtered = filt(df_ab_filt,jz_set)\n",
    "skills_filtered = filt(df_skills,jz_set)\n",
    "knowledge_filtered = filt(df_knowledge,jz_set)\n",
    "in_filtered = filt(df_in,jz_set)\n",
    "gwas_filtered = filt(df_gwas,jz_set)"
   ]
  },
  {
   "cell_type": "code",
   "execution_count": 31,
   "metadata": {},
   "outputs": [],
   "source": [
    "ab_dist_filt = distance_table(abilities_filtered) #NaN?\n",
    "skills_dist_filt = distance_table(skills_filtered)\n",
    "knowledge_dist_filt = distance_table(knowledge_filtered)\n",
    "in_dist_filt = distance_table(in_filtered)\n",
    "gwas_dist_filt = distance_table(gwas_filtered)\n",
    "df_concat_filt = pd.concat([ab_dist_filt.multiply(4.0),skills_dist_filt.multiply(3.0),knowledge_dist_filt.multiply(2.0),in_dist_filt,gwas_dist_filt]).groupby(level =0).mean()"
   ]
  },
  {
   "cell_type": "code",
   "execution_count": 32,
   "metadata": {
    "scrolled": true
   },
   "outputs": [
    {
     "name": "stdout",
     "output_type": "stream",
     "text": [
      "41.541673571317794\n",
      "10.232032521498693\n",
      "24.630766268798908\n"
     ]
    }
   ],
   "source": [
    "retail_alg1 = percentage('Retail Salespersons',df_concat_filt,df_cps,0,10)\n",
    "print(retail_default)\n",
    "print(retail_alg1)\n",
    "print(retail_alg1/retail_default*100)"
   ]
  },
  {
   "cell_type": "code",
   "execution_count": 33,
   "metadata": {
    "scrolled": true
   },
   "outputs": [
    {
     "name": "stdout",
     "output_type": "stream",
     "text": [
      "69.29806178512185\n",
      "41.8177848702394\n",
      "60.34481166285317\n"
     ]
    }
   ],
   "source": [
    "nurse_alg1 = percentage('Registered Nurses',df_concat_filt,df_cps,0,10)\n",
    "print(nurse_default)\n",
    "print(nurse_alg1)\n",
    "print(nurse_alg1/nurse_default*100)"
   ]
  },
  {
   "cell_type": "code",
   "execution_count": 34,
   "metadata": {
    "scrolled": true
   },
   "outputs": [
    {
     "name": "stdout",
     "output_type": "stream",
     "text": [
      "59.08144679332252\n",
      "28.03281191742145\n",
      "47.447741108110044\n"
     ]
    }
   ],
   "source": [
    "janitor_alg1 = percentage('Janitors and Cleaners, Except Maids and Housekeeping Cleaners',df_concat_filt,df_cps,0,10)\n",
    "print(janitors_default)\n",
    "print(janitor_alg1)\n",
    "print(janitor_alg1/janitors_default*100)"
   ]
  },
  {
   "cell_type": "code",
   "execution_count": 35,
   "metadata": {},
   "outputs": [
    {
     "name": "stdout",
     "output_type": "stream",
     "text": [
      "49.31851176579454\n",
      "3.536867901091421\n",
      "7.171481406185616\n"
     ]
    }
   ],
   "source": [
    "sales_alg1 = percentage('Sales Managers',df_concat_filt,df_cps,0,10)\n",
    "print(sales_default)\n",
    "print(sales_alg1)\n",
    "print(sales_alg1/sales_default*100)"
   ]
  },
  {
   "cell_type": "markdown",
   "metadata": {},
   "source": [
    "## Comparison using Kendall Tau"
   ]
  },
  {
   "cell_type": "code",
   "execution_count": 36,
   "metadata": {},
   "outputs": [
    {
     "data": {
      "text/plain": [
       "KendalltauResult(correlation=0.7999999999999999, pvalue=0.08333333333333333)"
      ]
     },
     "execution_count": 36,
     "metadata": {},
     "output_type": "execute_result"
    }
   ],
   "source": [
    "# kendalltau([1,2,3,4,5], [1,2,3,4,5])\n",
    "kendalltau([1,2,3,4,5], [2,1,3,4,5])"
   ]
  },
  {
   "cell_type": "code",
   "execution_count": 37,
   "metadata": {},
   "outputs": [
    {
     "data": {
      "text/plain": [
       "KendalltauResult(correlation=0.7999999999999999, pvalue=0.08333333333333333)"
      ]
     },
     "execution_count": 37,
     "metadata": {},
     "output_type": "execute_result"
    }
   ],
   "source": [
    "kendalltau([1,2,3,4,5], [1,2,3,5,4])"
   ]
  },
  {
   "cell_type": "code",
   "execution_count": 38,
   "metadata": {},
   "outputs": [
    {
     "data": {
      "text/plain": [
       "WeightedTauResult(correlation=0.9014598540145985, pvalue=nan)"
      ]
     },
     "execution_count": 38,
     "metadata": {},
     "output_type": "execute_result"
    }
   ],
   "source": [
    "weightedtau([1,2,3,4,5], [2,1,3,4,5])"
   ]
  },
  {
   "cell_type": "code",
   "execution_count": 39,
   "metadata": {},
   "outputs": [
    {
     "data": {
      "text/plain": [
       "WeightedTauResult(correlation=0.6715328467153284, pvalue=nan)"
      ]
     },
     "execution_count": 39,
     "metadata": {},
     "output_type": "execute_result"
    }
   ],
   "source": [
    "weightedtau([1,2,3,4,5], [1,2,3,5,4])"
   ]
  },
  {
   "cell_type": "code",
   "execution_count": 40,
   "metadata": {},
   "outputs": [],
   "source": [
    "list_cps = df_cps[df_cps['ONET18_Title_LY'] == 'Retail Salespersons'].sort_values(by = 'pct_tot', ascending = False)['ONET18_Title']\n",
    "list_cps= list_cps.to_list()[0:50]\n",
    "list_onet = skills_dist.loc['Retail Salespersons'].sort_values().index.to_list()[0:50]\n",
    "# cps_array = np.array(list_cps).astype(float)\n"
   ]
  },
  {
   "cell_type": "code",
   "execution_count": null,
   "metadata": {},
   "outputs": [],
   "source": []
  },
  {
   "cell_type": "code",
   "execution_count": 41,
   "metadata": {
    "scrolled": true
   },
   "outputs": [],
   "source": [
    "# weightedtau(list_cps, list_onet)"
   ]
  },
  {
   "cell_type": "code",
   "execution_count": 42,
   "metadata": {},
   "outputs": [],
   "source": [
    "def kendall_tau_rank(df_cps,df_onet,a,b,occ):\n",
    "    list_cps = df_cps[df_cps['ONET18_Title_LY'] == occ].sort_values(by = 'pct_tot', ascending = False)['ONET18_Title']\n",
    "    list_cps= list_cps.to_list()[a:b]\n",
    "    list_onet = df_onet.loc[occ].sort_values().index.to_list()[a:b]\n",
    "    \n",
    "    return kendalltau(list_cps, list_onet)"
   ]
  },
  {
   "cell_type": "code",
   "execution_count": 43,
   "metadata": {},
   "outputs": [
    {
     "data": {
      "text/plain": [
       "KendalltauResult(correlation=0.0016333198585000842, pvalue=0.9866517739479581)"
      ]
     },
     "execution_count": 43,
     "metadata": {},
     "output_type": "execute_result"
    }
   ],
   "source": [
    "kendall_tau_rank(df_cps,skills_dist,0,50,'Sales Managers')"
   ]
  },
  {
   "cell_type": "code",
   "execution_count": 44,
   "metadata": {},
   "outputs": [
    {
     "data": {
      "text/plain": [
       "KendalltauResult(correlation=0.14938775510204083, pvalue=0.12582650074030705)"
      ]
     },
     "execution_count": 44,
     "metadata": {},
     "output_type": "execute_result"
    }
   ],
   "source": [
    "kendall_tau_rank(df_cps,skills_dist,0,50,'Retail Salespersons')"
   ]
  },
  {
   "cell_type": "code",
   "execution_count": 45,
   "metadata": {
    "scrolled": true
   },
   "outputs": [
    {
     "data": {
      "text/plain": [
       "{'Actors',\n",
       " 'Actuaries',\n",
       " 'Acupuncturists',\n",
       " 'Adhesive Bonding Machine Operators and Tenders',\n",
       " 'Administrative Law Judges, Adjudicators, and Hearing Officers',\n",
       " 'Administrative Services Managers',\n",
       " 'Advertising Sales Agents',\n",
       " 'Advertising and Promotions Managers',\n",
       " 'Aerospace Engineers',\n",
       " 'Agents and Business Managers of Artists, Performers, and Athletes',\n",
       " 'Agricultural Engineers',\n",
       " 'Agricultural Equipment Operators',\n",
       " 'Agricultural Inspectors',\n",
       " 'Agricultural Sciences Teachers, Postsecondary',\n",
       " 'Agricultural Technicians',\n",
       " 'Air Traffic Controllers',\n",
       " 'Aircraft Cargo Handling Supervisors',\n",
       " 'Aircraft Mechanics and Service Technicians',\n",
       " 'Aircraft Structure, Surfaces, Rigging, and Systems Assemblers',\n",
       " 'Airfield Operations Specialists',\n",
       " 'Airline Pilots, Copilots, and Flight Engineers',\n",
       " 'Ambulance Drivers and Attendants, Except Emergency Medical Technicians',\n",
       " 'Amusement and Recreation Attendants',\n",
       " 'Anesthesiologists',\n",
       " 'Animal Breeders',\n",
       " 'Animal Control Workers',\n",
       " 'Animal Scientists',\n",
       " 'Animal Trainers',\n",
       " 'Anthropology and Archeology Teachers, Postsecondary',\n",
       " 'Arbitrators, Mediators, and Conciliators',\n",
       " 'Architects, Except Landscape and Naval',\n",
       " 'Architectural and Engineering Managers',\n",
       " 'Architecture Teachers, Postsecondary',\n",
       " 'Archivists',\n",
       " 'Area, Ethnic, and Cultural Studies Teachers, Postsecondary',\n",
       " 'Art Directors',\n",
       " 'Art, Drama, and Music Teachers, Postsecondary',\n",
       " 'Astronomers',\n",
       " 'Athletes and Sports Competitors',\n",
       " 'Athletic Trainers',\n",
       " 'Atmospheric and Space Scientists',\n",
       " 'Atmospheric, Earth, Marine, and Space Sciences Teachers, Postsecondary',\n",
       " 'Audiologists',\n",
       " 'Automotive Body and Related Repairers',\n",
       " 'Automotive Glass Installers and Repairers',\n",
       " 'Automotive and Watercraft Service Attendants',\n",
       " 'Avionics Technicians',\n",
       " 'Baggage Porters and Bellhops',\n",
       " 'Bailiffs',\n",
       " 'Bakers',\n",
       " 'Barbers',\n",
       " 'Bartenders',\n",
       " 'Bicycle Repairers',\n",
       " 'Bill and Account Collectors',\n",
       " 'Biochemists and Biophysicists',\n",
       " 'Biological Science Teachers, Postsecondary',\n",
       " 'Biological Technicians',\n",
       " 'Boilermakers',\n",
       " 'Bookkeeping, Accounting, and Auditing Clerks',\n",
       " 'Brickmasons and Blockmasons',\n",
       " 'Bridge and Lock Tenders',\n",
       " 'Broadcast Technicians',\n",
       " 'Brokerage Clerks',\n",
       " 'Budget Analysts',\n",
       " 'Bus Drivers, Transit and Intercity',\n",
       " 'Bus and Truck Mechanics and Diesel Engine Specialists',\n",
       " 'Business Teachers, Postsecondary',\n",
       " 'Butchers and Meat Cutters',\n",
       " 'Buyers and Purchasing Agents, Farm Products',\n",
       " 'Cabinetmakers and Bench Carpenters',\n",
       " 'Camera and Photographic Equipment Repairers',\n",
       " 'Cardiovascular Technologists and Technicians',\n",
       " 'Career/Technical Education Teachers, Middle School',\n",
       " 'Career/Technical Education Teachers, Secondary School',\n",
       " 'Cargo and Freight Agents',\n",
       " 'Carpet Installers',\n",
       " 'Cartographers and Photogrammetrists',\n",
       " 'Cashiers',\n",
       " 'Cement Masons and Concrete Finishers',\n",
       " 'Chefs and Head Cooks',\n",
       " 'Chemical Engineers',\n",
       " 'Chemical Equipment Operators and Tenders',\n",
       " 'Chemical Plant and System Operators',\n",
       " 'Chemical Technicians',\n",
       " 'Chemistry Teachers, Postsecondary',\n",
       " 'Chemists',\n",
       " 'Chief Executives',\n",
       " 'Child, Family, and School Social Workers',\n",
       " 'Childcare Workers',\n",
       " 'Chiropractors',\n",
       " 'Choreographers',\n",
       " 'Civil Engineers',\n",
       " 'Cleaners of Vehicles and Equipment',\n",
       " 'Cleaning, Washing, and Metal Pickling Equipment Operators and Tenders',\n",
       " 'Clergy',\n",
       " 'Coaches and Scouts',\n",
       " 'Coating, Painting, and Spraying Machine Setters, Operators, and Tenders',\n",
       " 'Coil Winders, Tapers, and Finishers',\n",
       " 'Coin, Vending, and Amusement Machine Servicers and Repairers',\n",
       " 'Commercial Divers',\n",
       " 'Commercial Pilots',\n",
       " 'Commercial and Industrial Designers',\n",
       " 'Communications Teachers, Postsecondary',\n",
       " 'Community Health Workers',\n",
       " 'Compensation and Benefits Managers',\n",
       " 'Compensation, Benefits, and Job Analysis Specialists',\n",
       " 'Computer Hardware Engineers',\n",
       " 'Computer Network Architects',\n",
       " 'Computer Network Support Specialists',\n",
       " 'Computer Programmers',\n",
       " 'Computer Science Teachers, Postsecondary',\n",
       " 'Computer Systems Analysts',\n",
       " 'Computer User Support Specialists',\n",
       " 'Computer and Information Research Scientists',\n",
       " 'Computer and Information Systems Managers',\n",
       " 'Computer, Automated Teller, and Office Machine Repairers',\n",
       " 'Concierges',\n",
       " 'Construction Laborers',\n",
       " 'Construction Managers',\n",
       " 'Construction and Building Inspectors',\n",
       " 'Continuous Mining Machine Operators',\n",
       " 'Control and Valve Installers and Repairers, Except Mechanical Door',\n",
       " 'Conveyor Operators and Tenders',\n",
       " 'Cooks, Fast Food',\n",
       " 'Cooks, Institution and Cafeteria',\n",
       " 'Cooks, Private Household',\n",
       " 'Cooks, Restaurant',\n",
       " 'Cooks, Short Order',\n",
       " 'Cooling and Freezing Equipment Operators and Tenders',\n",
       " 'Correctional Officers and Jailers',\n",
       " 'Correspondence Clerks',\n",
       " 'Cost Estimators',\n",
       " 'Costume Attendants',\n",
       " 'Counter and Rental Clerks',\n",
       " 'Couriers and Messengers',\n",
       " 'Craft Artists',\n",
       " 'Crane and Tower Operators',\n",
       " 'Credit Analysts',\n",
       " 'Credit Counselors',\n",
       " 'Criminal Justice and Law Enforcement Teachers, Postsecondary',\n",
       " 'Crushing, Grinding, and Polishing Machine Setters, Operators, and Tenders',\n",
       " 'Curators',\n",
       " 'Customer Service Representatives',\n",
       " 'Cutters and Trimmers, Hand',\n",
       " 'Cutting and Slicing Machine Setters, Operators, and Tenders',\n",
       " 'Cutting, Punching, and Press Machine Setters, Operators, and Tenders, Metal and Plastic',\n",
       " 'Dancers',\n",
       " 'Data Entry Keyers',\n",
       " 'Database Administrators',\n",
       " 'Database Architects',\n",
       " 'Demonstrators and Product Promoters',\n",
       " 'Dental Assistants',\n",
       " 'Dental Hygienists',\n",
       " 'Dental Laboratory Technicians',\n",
       " 'Dentists, General',\n",
       " 'Dermatologists',\n",
       " 'Derrick Operators, Oil and Gas',\n",
       " 'Desktop Publishers',\n",
       " 'Diagnostic Medical Sonographers',\n",
       " 'Dietetic Technicians',\n",
       " 'Dietitians and Nutritionists',\n",
       " 'Dining Room and Cafeteria Attendants and Bartender Helpers',\n",
       " 'Directors, Religious Activities and Education',\n",
       " 'Dishwashers',\n",
       " 'Dispatchers, Except Police, Fire, and Ambulance',\n",
       " 'Dredge Operators',\n",
       " 'Drilling and Boring Machine Tool Setters, Operators, and Tenders, Metal and Plastic',\n",
       " 'Driver/Sales Workers',\n",
       " 'Drywall and Ceiling Tile Installers',\n",
       " 'Earth Drillers, Except Oil and Gas',\n",
       " 'Economics Teachers, Postsecondary',\n",
       " 'Economists',\n",
       " 'Editors',\n",
       " 'Education Administrators, Postsecondary',\n",
       " 'Education Teachers, Postsecondary',\n",
       " 'Electric Motor, Power Tool, and Related Repairers',\n",
       " 'Electrical Engineers',\n",
       " 'Electrical Power-Line Installers and Repairers',\n",
       " 'Electrical and Electronic Equipment Assemblers',\n",
       " 'Electrical and Electronics Installers and Repairers, Transportation Equipment',\n",
       " 'Electrical and Electronics Repairers, Commercial and Industrial Equipment',\n",
       " 'Electrical and Electronics Repairers, Powerhouse, Substation, and Relay',\n",
       " 'Electricians',\n",
       " 'Electromechanical Equipment Assemblers',\n",
       " 'Electronic Equipment Installers and Repairers, Motor Vehicles',\n",
       " 'Electronics Engineers, Except Computer',\n",
       " 'Elementary School Teachers, Except Special Education',\n",
       " 'Eligibility Interviewers, Government Programs',\n",
       " 'Embalmers',\n",
       " 'Emergency Management Directors',\n",
       " 'Engine and Other Machine Assemblers',\n",
       " 'Engineering Teachers, Postsecondary',\n",
       " 'English Language and Literature Teachers, Postsecondary',\n",
       " 'Environmental Engineers',\n",
       " 'Environmental Science Teachers, Postsecondary',\n",
       " 'Environmental Science and Protection Technicians, Including Health',\n",
       " 'Environmental Scientists and Specialists, Including Health',\n",
       " 'Epidemiologists',\n",
       " 'Etchers and Engravers',\n",
       " 'Executive Secretaries and Executive Administrative Assistants',\n",
       " 'Exercise Physiologists',\n",
       " 'Explosives Workers, Ordnance Handling Experts, and Blasters',\n",
       " 'Extruding and Drawing Machine Setters, Operators, and Tenders, Metal and Plastic',\n",
       " 'Extruding and Forming Machine Setters, Operators, and Tenders, Synthetic and Glass Fibers',\n",
       " 'Extruding, Forming, Pressing, and Compacting Machine Setters, Operators, and Tenders',\n",
       " 'Fabric and Apparel Patternmakers',\n",
       " 'Fallers',\n",
       " 'Farm Equipment Mechanics and Service Technicians',\n",
       " 'Farm Labor Contractors',\n",
       " 'Farmworkers, Farm, Ranch, and Aquacultural Animals',\n",
       " 'Fashion Designers',\n",
       " 'Fence Erectors',\n",
       " 'Fiberglass Laminators and Fabricators',\n",
       " 'File Clerks',\n",
       " 'Film and Video Editors',\n",
       " 'Financial Examiners',\n",
       " 'Fine Artists, Including Painters, Sculptors, and Illustrators',\n",
       " 'First-Line Supervisors of Construction Trades and Extraction Workers',\n",
       " 'First-Line Supervisors of Correctional Officers',\n",
       " 'First-Line Supervisors of Food Preparation and Serving Workers',\n",
       " 'First-Line Supervisors of Helpers, Laborers, and Material Movers, Hand',\n",
       " 'First-Line Supervisors of Housekeeping and Janitorial Workers',\n",
       " 'First-Line Supervisors of Landscaping, Lawn Service, and Groundskeeping Workers',\n",
       " 'First-Line Supervisors of Mechanics, Installers, and Repairers',\n",
       " 'First-Line Supervisors of Non-Retail Sales Workers',\n",
       " 'First-Line Supervisors of Office and Administrative Support Workers',\n",
       " 'First-Line Supervisors of Personal Service Workers',\n",
       " 'First-Line Supervisors of Police and Detectives',\n",
       " 'First-Line Supervisors of Production and Operating Workers',\n",
       " 'First-Line Supervisors of Retail Sales Workers',\n",
       " 'Fish and Game Wardens',\n",
       " 'Flight Attendants',\n",
       " 'Floor Layers, Except Carpet, Wood, and Hard Tiles',\n",
       " 'Floor Sanders and Finishers',\n",
       " 'Floral Designers',\n",
       " 'Food Batchmakers',\n",
       " 'Food Cooking Machine Operators and Tenders',\n",
       " 'Food Preparation Workers',\n",
       " 'Food Science Technicians',\n",
       " 'Food Scientists and Technologists',\n",
       " 'Food Servers, Nonrestaurant',\n",
       " 'Food Service Managers',\n",
       " 'Food and Tobacco Roasting, Baking, and Drying Machine Operators and Tenders',\n",
       " 'Foreign Language and Literature Teachers, Postsecondary',\n",
       " 'Forensic Science Technicians',\n",
       " 'Forest Fire Inspectors and Prevention Specialists',\n",
       " 'Forest and Conservation Technicians',\n",
       " 'Forest and Conservation Workers',\n",
       " 'Foresters',\n",
       " 'Forestry and Conservation Science Teachers, Postsecondary',\n",
       " 'Forging Machine Setters, Operators, and Tenders, Metal and Plastic',\n",
       " 'Foundry Mold and Coremakers',\n",
       " 'Fundraisers',\n",
       " 'Funeral Attendants',\n",
       " 'Furnace, Kiln, Oven, Drier, and Kettle Operators and Tenders',\n",
       " 'Furniture Finishers',\n",
       " 'Gas Compressor and Gas Pumping Station Operators',\n",
       " 'Gas Plant Operators',\n",
       " 'General and Operations Managers',\n",
       " 'Genetic Counselors',\n",
       " 'Geographers',\n",
       " 'Geography Teachers, Postsecondary',\n",
       " 'Geoscientists, Except Hydrologists and Geographers',\n",
       " 'Glaziers',\n",
       " 'Graders and Sorters, Agricultural Products',\n",
       " 'Graphic Designers',\n",
       " 'Grinding and Polishing Workers, Hand',\n",
       " 'Grinding, Lapping, Polishing, and Buffing Machine Tool Setters, Operators, and Tenders, Metal and Plastic',\n",
       " 'Hairdressers, Hairstylists, and Cosmetologists',\n",
       " 'Hazardous Materials Removal Workers',\n",
       " 'Health Specialties Teachers, Postsecondary',\n",
       " 'Healthcare Social Workers',\n",
       " 'Hearing Aid Specialists',\n",
       " 'Heat Treating Equipment Setters, Operators, and Tenders, Metal and Plastic',\n",
       " 'Heavy and Tractor-Trailer Truck Drivers',\n",
       " 'Helpers--Brickmasons, Blockmasons, Stonemasons, and Tile and Marble Setters',\n",
       " 'Helpers--Carpenters',\n",
       " 'Helpers--Electricians',\n",
       " 'Helpers--Extraction Workers',\n",
       " 'Helpers--Installation, Maintenance, and Repair Workers',\n",
       " 'Helpers--Painters, Paperhangers, Plasterers, and Stucco Masons',\n",
       " 'Helpers--Pipelayers, Plumbers, Pipefitters, and Steamfitters',\n",
       " 'Helpers--Production Workers',\n",
       " 'Helpers--Roofers',\n",
       " 'Highway Maintenance Workers',\n",
       " 'Historians',\n",
       " 'History Teachers, Postsecondary',\n",
       " 'Hoist and Winch Operators',\n",
       " 'Home Appliance Repairers',\n",
       " 'Home Health Aides',\n",
       " 'Hosts and Hostesses, Restaurant, Lounge, and Coffee Shop',\n",
       " 'Hotel, Motel, and Resort Desk Clerks',\n",
       " 'Human Resources Assistants, Except Payroll and Timekeeping',\n",
       " 'Human Resources Managers',\n",
       " 'Human Resources Specialists',\n",
       " 'Hydrologists',\n",
       " 'Industrial Engineers',\n",
       " 'Industrial Machinery Mechanics',\n",
       " 'Industrial Production Managers',\n",
       " 'Industrial Truck and Tractor Operators',\n",
       " 'Industrial-Organizational Psychologists',\n",
       " 'Information Security Analysts',\n",
       " 'Inspectors, Testers, Sorters, Samplers, and Weighers',\n",
       " 'Instructional Coordinators',\n",
       " 'Insulation Workers, Floor, Ceiling, and Wall',\n",
       " 'Insulation Workers, Mechanical',\n",
       " 'Insurance Appraisers, Auto Damage',\n",
       " 'Insurance Sales Agents',\n",
       " 'Insurance Underwriters',\n",
       " 'Interior Designers',\n",
       " 'Interpreters and Translators',\n",
       " 'Interviewers, Except Eligibility and Loan',\n",
       " 'Janitors and Cleaners, Except Maids and Housekeeping Cleaners',\n",
       " 'Judges, Magistrate Judges, and Magistrates',\n",
       " 'Judicial Law Clerks',\n",
       " 'Kindergarten Teachers, Except Special Education',\n",
       " 'Labor Relations Specialists',\n",
       " 'Laborers and Freight, Stock, and Material Movers, Hand',\n",
       " 'Landscape Architects',\n",
       " 'Landscaping and Groundskeeping Workers',\n",
       " 'Lathe and Turning Machine Tool Setters, Operators, and Tenders, Metal and Plastic',\n",
       " 'Laundry and Dry-Cleaning Workers',\n",
       " 'Law Teachers, Postsecondary',\n",
       " 'Lawyers',\n",
       " 'Layout Workers, Metal and Plastic',\n",
       " 'Library Assistants, Clerical',\n",
       " 'Library Science Teachers, Postsecondary',\n",
       " 'Library Technicians',\n",
       " 'Licensed Practical and Licensed Vocational Nurses',\n",
       " 'Lifeguards, Ski Patrol, and Other Recreational Protective Service Workers',\n",
       " 'Loan Interviewers and Clerks',\n",
       " 'Loan Officers',\n",
       " 'Locker Room, Coatroom, and Dressing Room Attendants',\n",
       " 'Locksmiths and Safe Repairers',\n",
       " 'Locomotive Engineers',\n",
       " 'Lodging Managers',\n",
       " 'Log Graders and Scalers',\n",
       " 'Logging Equipment Operators',\n",
       " 'Logisticians',\n",
       " 'Machine Feeders and Offbearers',\n",
       " 'Machinists',\n",
       " 'Magnetic Resonance Imaging Technologists',\n",
       " 'Maids and Housekeeping Cleaners',\n",
       " 'Mail Clerks and Mail Machine Operators, Except Postal Service',\n",
       " 'Maintenance Workers, Machinery',\n",
       " 'Maintenance and Repair Workers, General',\n",
       " 'Makeup Artists, Theatrical and Performance',\n",
       " 'Management Analysts',\n",
       " 'Manicurists and Pedicurists',\n",
       " 'Manufactured Building and Mobile Home Installers',\n",
       " 'Market Research Analysts and Marketing Specialists',\n",
       " 'Marketing Managers',\n",
       " 'Marriage and Family Therapists',\n",
       " 'Massage Therapists',\n",
       " 'Materials Engineers',\n",
       " 'Materials Scientists',\n",
       " 'Mathematical Science Teachers, Postsecondary',\n",
       " 'Mathematicians',\n",
       " 'Meat, Poultry, and Fish Cutters and Trimmers',\n",
       " 'Mechanical Door Repairers',\n",
       " 'Mechanical Drafters',\n",
       " 'Mechanical Engineers',\n",
       " 'Medical Appliance Technicians',\n",
       " 'Medical Assistants',\n",
       " 'Medical Equipment Preparers',\n",
       " 'Medical Equipment Repairers',\n",
       " 'Medical Scientists, Except Epidemiologists',\n",
       " 'Medical Transcriptionists',\n",
       " 'Medical and Clinical Laboratory Technicians',\n",
       " 'Medical and Clinical Laboratory Technologists',\n",
       " 'Medical and Health Services Managers',\n",
       " 'Meeting, Convention, and Event Planners',\n",
       " 'Mental Health Counselors',\n",
       " 'Mental Health and Substance Abuse Social Workers',\n",
       " 'Merchandise Displayers and Window Trimmers',\n",
       " 'Metal-Refining Furnace Operators and Tenders',\n",
       " 'Meter Readers, Utilities',\n",
       " 'Microbiologists',\n",
       " 'Middle School Teachers, Except Special and Career/Technical Education',\n",
       " 'Milling and Planing Machine Setters, Operators, and Tenders, Metal and Plastic',\n",
       " 'Millwrights',\n",
       " 'Mining and Geological Engineers, Including Mining Safety Engineers',\n",
       " 'Mixing and Blending Machine Setters, Operators, and Tenders',\n",
       " 'Mobile Heavy Equipment Mechanics, Except Engines',\n",
       " 'Model Makers, Metal and Plastic',\n",
       " 'Model Makers, Wood',\n",
       " 'Models',\n",
       " 'Molding, Coremaking, and Casting Machine Setters, Operators, and Tenders, Metal and Plastic',\n",
       " 'Motion Picture Projectionists',\n",
       " 'Motorboat Mechanics and Service Technicians',\n",
       " 'Motorboat Operators',\n",
       " 'Motorcycle Mechanics',\n",
       " 'Multiple Machine Tool Setters, Operators, and Tenders, Metal and Plastic',\n",
       " 'Museum Technicians and Conservators',\n",
       " 'Musical Instrument Repairers and Tuners',\n",
       " 'Natural Sciences Managers',\n",
       " 'Network and Computer Systems Administrators',\n",
       " 'Neurologists',\n",
       " 'New Accounts Clerks',\n",
       " 'Nuclear Engineers',\n",
       " 'Nuclear Medicine Technologists',\n",
       " 'Nuclear Power Reactor Operators',\n",
       " 'Nurse Anesthetists',\n",
       " 'Nurse Midwives',\n",
       " 'Nurse Practitioners',\n",
       " 'Nursing Assistants',\n",
       " 'Nursing Instructors and Teachers, Postsecondary',\n",
       " 'Obstetricians and Gynecologists',\n",
       " 'Occupational Health and Safety Specialists',\n",
       " 'Occupational Health and Safety Technicians',\n",
       " 'Occupational Therapists',\n",
       " 'Occupational Therapy Aides',\n",
       " 'Occupational Therapy Assistants',\n",
       " 'Office Clerks, General',\n",
       " 'Office Machine Operators, Except Computer',\n",
       " 'Operating Engineers and Other Construction Equipment Operators',\n",
       " 'Operations Research Analysts',\n",
       " 'Ophthalmic Laboratory Technicians',\n",
       " 'Ophthalmic Medical Technicians',\n",
       " 'Opticians, Dispensing',\n",
       " 'Optometrists',\n",
       " 'Oral and Maxillofacial Surgeons',\n",
       " 'Order Clerks',\n",
       " 'Orderlies',\n",
       " 'Orthodontists',\n",
       " 'Orthotists and Prosthetists',\n",
       " 'Outdoor Power Equipment and Other Small Engine Mechanics',\n",
       " 'Packaging and Filling Machine Operators and Tenders',\n",
       " 'Packers and Packagers, Hand',\n",
       " 'Painters, Construction and Maintenance',\n",
       " 'Painting, Coating, and Decorating Workers',\n",
       " 'Paper Goods Machine Setters, Operators, and Tenders',\n",
       " 'Paperhangers',\n",
       " 'Paralegals and Legal Assistants',\n",
       " 'Parking Enforcement Workers',\n",
       " 'Parts Salespersons',\n",
       " 'Patternmakers, Metal and Plastic',\n",
       " 'Patternmakers, Wood',\n",
       " 'Paving, Surfacing, and Tamping Equipment Operators',\n",
       " 'Payroll and Timekeeping Clerks',\n",
       " 'Pediatricians, General',\n",
       " 'Personal Care Aides',\n",
       " 'Personal Financial Advisors',\n",
       " 'Pest Control Workers',\n",
       " 'Pesticide Handlers, Sprayers, and Applicators, Vegetation',\n",
       " 'Petroleum Engineers',\n",
       " 'Petroleum Pump System Operators, Refinery Operators, and Gaugers',\n",
       " 'Pharmacists',\n",
       " 'Pharmacy Aides',\n",
       " 'Pharmacy Technicians',\n",
       " 'Philosophy and Religion Teachers, Postsecondary',\n",
       " 'Phlebotomists',\n",
       " 'Photographers',\n",
       " 'Photographic Process Workers and Processing Machine Operators',\n",
       " 'Physical Therapist Aides',\n",
       " 'Physical Therapist Assistants',\n",
       " 'Physical Therapists',\n",
       " 'Physician Assistants',\n",
       " 'Physicists',\n",
       " 'Physics Teachers, Postsecondary',\n",
       " 'Pipelayers',\n",
       " 'Plasterers and Stucco Masons',\n",
       " 'Podiatrists',\n",
       " 'Political Science Teachers, Postsecondary',\n",
       " 'Political Scientists',\n",
       " 'Postal Service Clerks',\n",
       " 'Postal Service Mail Carriers',\n",
       " 'Postal Service Mail Sorters, Processors, and Processing Machine Operators',\n",
       " 'Postmasters and Mail Superintendents',\n",
       " 'Pourers and Casters, Metal',\n",
       " 'Power Distributors and Dispatchers',\n",
       " 'Power Plant Operators',\n",
       " 'Prepress Technicians and Workers',\n",
       " 'Preschool Teachers, Except Special Education',\n",
       " 'Pressers, Textile, Garment, and Related Materials',\n",
       " 'Print Binding and Finishing Workers',\n",
       " 'Printing Press Operators',\n",
       " 'Private Detectives and Investigators',\n",
       " 'Probation Officers and Correctional Treatment Specialists',\n",
       " 'Procurement Clerks',\n",
       " 'Production, Planning, and Expediting Clerks',\n",
       " 'Proofreaders and Copy Markers',\n",
       " 'Property, Real Estate, and Community Association Managers',\n",
       " 'Prosthodontists',\n",
       " 'Psychiatric Aides',\n",
       " 'Psychiatric Technicians',\n",
       " 'Psychiatrists',\n",
       " 'Psychology Teachers, Postsecondary',\n",
       " 'Public Relations Specialists',\n",
       " 'Pump Operators, Except Wellhead Pumpers',\n",
       " 'Purchasing Agents, Except Wholesale, Retail, and Farm Products',\n",
       " 'Purchasing Managers',\n",
       " 'Radiation Therapists',\n",
       " 'Radio, Cellular, and Tower Equipment Installers and Repairers',\n",
       " 'Radiologists',\n",
       " 'Rail Car Repairers',\n",
       " 'Rail Yard Engineers, Dinkey Operators, and Hostlers',\n",
       " 'Rail-Track Laying and Maintenance Equipment Operators',\n",
       " 'Railroad Conductors and Yardmasters',\n",
       " 'Real Estate Brokers',\n",
       " 'Real Estate Sales Agents',\n",
       " 'Receptionists and Information Clerks',\n",
       " 'Recreation Workers',\n",
       " 'Recreation and Fitness Studies Teachers, Postsecondary',\n",
       " 'Recreational Therapists',\n",
       " 'Recreational Vehicle Service Technicians',\n",
       " 'Refractory Materials Repairers, Except Brickmasons',\n",
       " 'Refuse and Recyclable Material Collectors',\n",
       " 'Registered Nurses',\n",
       " 'Rehabilitation Counselors',\n",
       " 'Reinforcing Iron and Rebar Workers',\n",
       " 'Reservation and Transportation Ticket Agents and Travel Clerks',\n",
       " 'Residential Advisors',\n",
       " 'Respiratory Therapists',\n",
       " 'Retail Salespersons',\n",
       " 'Riggers',\n",
       " 'Rock Splitters, Quarry',\n",
       " 'Rolling Machine Setters, Operators, and Tenders, Metal and Plastic',\n",
       " 'Roof Bolters, Mining',\n",
       " 'Roofers',\n",
       " 'Rotary Drill Operators, Oil and Gas',\n",
       " 'Roustabouts, Oil and Gas',\n",
       " 'Sailors and Marine Oilers',\n",
       " 'Sales Engineers',\n",
       " 'Sales Managers',\n",
       " 'Sales Representatives, Wholesale and Manufacturing, Except Technical and Scientific Products',\n",
       " 'Sales Representatives, Wholesale and Manufacturing, Technical and Scientific Products',\n",
       " 'Sawing Machine Setters, Operators, and Tenders, Wood',\n",
       " 'School Psychologists',\n",
       " 'Secondary School Teachers, Except Special and Career/Technical Education',\n",
       " 'Secretaries and Administrative Assistants, Except Legal, Medical, and Executive',\n",
       " 'Security Guards',\n",
       " 'Security and Fire Alarm Systems Installers',\n",
       " 'Segmental Pavers',\n",
       " 'Separating, Filtering, Clarifying, Precipitating, and Still Machine Setters, Operators, and Tenders',\n",
       " 'Septic Tank Servicers and Sewer Pipe Cleaners',\n",
       " 'Set and Exhibit Designers',\n",
       " 'Sewers, Hand',\n",
       " 'Sewing Machine Operators',\n",
       " 'Shampooers',\n",
       " 'Sheet Metal Workers',\n",
       " 'Ship Engineers',\n",
       " 'Shoe Machine Operators and Tenders',\n",
       " 'Shoe and Leather Workers and Repairers',\n",
       " 'Signal and Track Switch Repairers',\n",
       " 'Skincare Specialists',\n",
       " 'Slaughterers and Meat Packers',\n",
       " 'Social Science Research Assistants',\n",
       " 'Social Work Teachers, Postsecondary',\n",
       " 'Social and Community Service Managers',\n",
       " 'Social and Human Service Assistants',\n",
       " 'Sociologists',\n",
       " 'Sociology Teachers, Postsecondary',\n",
       " 'Soil and Plant Scientists',\n",
       " 'Solar Photovoltaic Installers',\n",
       " 'Sound Engineering Technicians',\n",
       " 'Special Education Teachers, Middle School',\n",
       " 'Special Education Teachers, Preschool',\n",
       " 'Special Education Teachers, Secondary School',\n",
       " 'Speech-Language Pathologists',\n",
       " 'Stationary Engineers and Boiler Operators',\n",
       " 'Statistical Assistants',\n",
       " 'Statisticians',\n",
       " 'Stonemasons',\n",
       " 'Structural Iron and Steel Workers',\n",
       " 'Structural Metal Fabricators and Fitters',\n",
       " 'Substance Abuse and Behavioral Disorder Counselors',\n",
       " 'Subway and Streetcar Operators',\n",
       " 'Surgical Assistants',\n",
       " 'Surgical Technologists',\n",
       " 'Survey Researchers',\n",
       " 'Surveyors',\n",
       " 'Switchboard Operators, Including Answering Service',\n",
       " 'Tailors, Dressmakers, and Custom Sewers',\n",
       " 'Tank Car, Truck, and Ship Loaders',\n",
       " 'Tapers',\n",
       " 'Tax Examiners and Collectors, and Revenue Agents',\n",
       " 'Tax Preparers',\n",
       " 'Team Assemblers',\n",
       " 'Technical Writers',\n",
       " 'Telecommunications Equipment Installers and Repairers, Except Line Installers',\n",
       " 'Telecommunications Line Installers and Repairers',\n",
       " 'Telemarketers',\n",
       " 'Telephone Operators',\n",
       " 'Tellers',\n",
       " 'Terrazzo Workers and Finishers',\n",
       " 'Textile Bleaching and Dyeing Machine Operators and Tenders',\n",
       " 'Textile Cutting Machine Setters, Operators, and Tenders',\n",
       " 'Textile Knitting and Weaving Machine Setters, Operators, and Tenders',\n",
       " 'Textile Winding, Twisting, and Drawing Out Machine Setters, Operators, and Tenders',\n",
       " 'Timing Device Assemblers and Adjusters',\n",
       " 'Tire Builders',\n",
       " 'Tire Repairers and Changers',\n",
       " 'Title Examiners, Abstractors, and Searchers',\n",
       " 'Tool Grinders, Filers, and Sharpeners',\n",
       " 'Tool and Die Makers',\n",
       " 'Tour Guides and Escorts',\n",
       " 'Traffic Technicians',\n",
       " 'Training and Development Managers',\n",
       " 'Training and Development Specialists',\n",
       " 'Transit and Railroad Police',\n",
       " 'Transportation Security Screeners',\n",
       " 'Travel Agents',\n",
       " 'Travel Guides',\n",
       " 'Tree Trimmers and Pruners',\n",
       " 'Tutors',\n",
       " 'Umpires, Referees, and Other Sports Officials',\n",
       " 'Upholsterers',\n",
       " 'Urban and Regional Planners',\n",
       " 'Ushers, Lobby Attendants, and Ticket Takers',\n",
       " 'Veterinarians',\n",
       " 'Veterinary Assistants and Laboratory Animal Caretakers',\n",
       " 'Veterinary Technologists and Technicians',\n",
       " 'Waiters and Waitresses',\n",
       " 'Water and Wastewater Treatment Plant and System Operators',\n",
       " 'Web Developers',\n",
       " 'Weighers, Measurers, Checkers, and Samplers, Recordkeeping',\n",
       " 'Welding, Soldering, and Brazing Machine Setters, Operators, and Tenders',\n",
       " 'Wellhead Pumpers',\n",
       " 'Wholesale and Retail Buyers, Except Farm Products',\n",
       " 'Wind Turbine Service Technicians',\n",
       " 'Woodworking Machine Setters, Operators, and Tenders, Except Sawing',\n",
       " 'Word Processors and Typists',\n",
       " 'Zoologists and Wildlife Biologists'}"
      ]
     },
     "execution_count": 45,
     "metadata": {},
     "output_type": "execute_result"
    }
   ],
   "source": [
    "#find all occupations that are in both cps and onet\n",
    "cps_occ = set(df_cps['ONET18_Title_LY'].unique())\n",
    "onet_occ = set(df_skills.index.unique())\n",
    "\n",
    "relevant_occ = cps_occ & onet_occ\n",
    "relevant_occ"
   ]
  },
  {
   "cell_type": "code",
   "execution_count": 46,
   "metadata": {},
   "outputs": [],
   "source": [
    "skills_dist\n",
    "df_concat\n",
    "df_concat_filt = pd.concat([skills_dist_filt.multiply(3.0),knowledge_dist_filt.multiply(2.0),in_dist_filt,gwas_dist_filt]).groupby(level =0).mean()\n",
    "df_new = pd.concat([skills_dist_filt.multiply(1.3),knowledge_dist_filt.multiply(1.2),in_dist_filt,gwas_dist_filt]).groupby(level =0).mean()"
   ]
  },
  {
   "cell_type": "code",
   "execution_count": 74,
   "metadata": {},
   "outputs": [
    {
     "name": "stdout",
     "output_type": "stream",
     "text": [
      "-0.008828516271579928\n",
      "434\n",
      "Psychiatric Aides 0.24897959183673468\n",
      "Paper Goods Machine Setters, Operators, and Tenders -0.3910204081632653\n"
     ]
    }
   ],
   "source": [
    "avg_occ = 0\n",
    "count = 0\n",
    "occ_max = ''\n",
    "max_r = 0\n",
    "occ_min = ''\n",
    "min_r = 1\n",
    "\n",
    "for occ in relevant_occ:\n",
    "    cps_len = len(df_cps[df_cps['ONET18_Title_LY'] == occ].sort_values(by = 'pct_tot', ascending = False)['ONET18_Title'])\n",
    "    if cps_len > 50:\n",
    "        corr, p = kendall_tau_rank(df_cps,df_new,0,50,occ)\n",
    "        count += 1 \n",
    "        avg_occ += corr\n",
    "        if corr >= max_r: \n",
    "            occ_max = occ\n",
    "            max_r = corr\n",
    "        if corr <= min_r: \n",
    "            occ_min = occ\n",
    "            min_r = corr\n",
    "print(avg_occ/count)\n",
    "print(count)\n",
    "print(occ_max, max_r)\n",
    "print(occ_min, min_r)"
   ]
  },
  {
   "cell_type": "code",
   "execution_count": 48,
   "metadata": {},
   "outputs": [],
   "source": [
    "# df_cps[df_cps['ONET18_Title_LY'] == 'Etchers and Engravers'].sort_values(by = 'pct_tot', ascending = False)['ONET18_Title']\n",
    "# df_cps"
   ]
  },
  {
   "cell_type": "code",
   "execution_count": 49,
   "metadata": {},
   "outputs": [],
   "source": [
    "skills_dist\n",
    "df_concat\n",
    "df_concat_filt = pd.concat([skills_dist_filt.multiply(3.0),knowledge_dist_filt.multiply(2.0),in_dist_filt,gwas_dist_filt]).groupby(level =0).mean()\n",
    "df_new = pd.concat([skills_dist_filt.multiply(1.3),knowledge_dist_filt.multiply(1.2),in_dist_filt,gwas_dist_filt]).groupby(level =0).mean()\n",
    "df_test = pd.concat([skills_dist_filt.multiply(1.3),knowledge_dist_filt.multiply(1.2),in_dist_filt,gwas_dist_filt]).groupby(level =0).mean()\n"
   ]
  },
  {
   "cell_type": "code",
   "execution_count": 50,
   "metadata": {},
   "outputs": [],
   "source": [
    "# avg_occ = 0\n",
    "# count = 0\n",
    "# occ_max = ''\n",
    "# max_r = 0\n",
    "# occ_min = ''\n",
    "# min_r = 1\n",
    "\n",
    "# cov_max = ''\n",
    "# max_c = 0\n",
    "# cov_min = ''\n",
    "# min_c = 1\n",
    "\n",
    "# # occ_dictionary = {}\n",
    "# occ_dictionary_skills = {}\n",
    "# for occ in relevant_occ:\n",
    "#     cps_len = len(df_cps[df_cps['ONET18_Title_LY'] == occ].sort_values(by = 'pct_tot', ascending = False)['ONET18_Title'])\n",
    "#     if cps_len > 50:\n",
    "#         n = percentage(occ,skills_dist,df_cps,0,50)\n",
    "#         d = percentage_default(occ,df_cps,0,50)\n",
    "#         perc = n/d\n",
    "#         count += 1 \n",
    "#         avg_occ += perc\n",
    "#         occ_dictionary_skills[occ] = perc\n",
    "#         if n >= max_c:\n",
    "#             cov_max =occ\n",
    "#             max_c = n \n",
    "#         if n <= max_c:\n",
    "#             cov_min =occ\n",
    "#             min_c = n  \n",
    "#         if perc >= max_r: \n",
    "#             occ_max = occ\n",
    "#             max_r = perc\n",
    "#         if perc <= min_r: \n",
    "#             occ_min = occ\n",
    "#             min_r = perc\n",
    "# print(100*avg_occ/count)\n",
    "# print(count)\n",
    "# print(occ_max, 100*max_r)\n",
    "# print(occ_min, min_r)\n",
    "# print(cov_max, max_c)\n",
    "# print(cov_min, min_c)"
   ]
  },
  {
   "cell_type": "code",
   "execution_count": 124,
   "metadata": {},
   "outputs": [],
   "source": [
    "def percentage_coverage(df_onet,df_cps):\n",
    "    avg_occ = 0\n",
    "    count = 0\n",
    "    occ_max = ''\n",
    "    max_r = 0\n",
    "    occ_min = ''\n",
    "    min_r = 1\n",
    "\n",
    "    cov_max = ''\n",
    "    max_c = 0\n",
    "    cov_min = ''\n",
    "    min_c = 1\n",
    "    \n",
    "    cps_occ = set(df_cps['ONET18_Title_LY'].unique())\n",
    "    onet_occ = set(df_onet.index.unique())\n",
    "\n",
    "    relevant_occ = cps_occ & onet_occ\n",
    "    occ_dictionary = {}\n",
    "    for occ in relevant_occ:\n",
    "        cps_len = len(df_cps[df_cps['ONET18_Title_LY'] == occ]['ONET18_Title'])\n",
    "        if cps_len > 10:\n",
    "            n = percentage(occ,df_onet,df_cps,0,10)\n",
    "            d = percentage_default(occ,df_cps,0,10)\n",
    "            perc = n/d\n",
    "            count += 1 \n",
    "            avg_occ += perc\n",
    "            occ_dictionary[occ] = perc\n",
    "            if n >= max_c:\n",
    "                cov_max =occ\n",
    "                max_c = n \n",
    "            if n <= max_c:\n",
    "                cov_min =occ\n",
    "                min_c = n  \n",
    "            if perc >= max_r: \n",
    "                occ_max = occ\n",
    "                max_r = perc\n",
    "            if perc <= min_r: \n",
    "                occ_min = occ\n",
    "                min_r = perc\n",
    "    print(100*avg_occ/count)\n",
    "    print(count)\n",
    "    print(occ_max, 100*max_r)\n",
    "    print(occ_min, min_r)\n",
    "    print(cov_max, max_c)\n",
    "    print(cov_min, min_c)\n",
    "    \n",
    "    return occ_dictionary"
   ]
  },
  {
   "cell_type": "code",
   "execution_count": 125,
   "metadata": {},
   "outputs": [],
   "source": [
    "# kendalltau([1,2,3,4,5], [5,4,3,2,1])"
   ]
  },
  {
   "cell_type": "code",
   "execution_count": 126,
   "metadata": {},
   "outputs": [],
   "source": [
    "# kendalltau([1,2,3,4,5], [6,8,8,9,10])"
   ]
  },
  {
   "cell_type": "code",
   "execution_count": 127,
   "metadata": {},
   "outputs": [
    {
     "data": {
      "text/html": [
       "<div>\n",
       "<style scoped>\n",
       "    .dataframe tbody tr th:only-of-type {\n",
       "        vertical-align: middle;\n",
       "    }\n",
       "\n",
       "    .dataframe tbody tr th {\n",
       "        vertical-align: top;\n",
       "    }\n",
       "\n",
       "    .dataframe thead th {\n",
       "        text-align: right;\n",
       "    }\n",
       "</style>\n",
       "<table border=\"1\" class=\"dataframe\">\n",
       "  <thead>\n",
       "    <tr style=\"text-align: right;\">\n",
       "      <th></th>\n",
       "      <th>Accountants</th>\n",
       "      <th>Actors</th>\n",
       "      <th>Actuaries</th>\n",
       "      <th>Acupuncturists</th>\n",
       "      <th>Acute Care Nurses</th>\n",
       "      <th>Adapted Physical Education Specialists</th>\n",
       "      <th>Adhesive Bonding Machine Operators and Tenders</th>\n",
       "      <th>Administrative Law Judges, Adjudicators, and Hearing Officers</th>\n",
       "      <th>Administrative Services Managers</th>\n",
       "      <th>Adult Basic and Secondary Education and Literacy Teachers and Instructors</th>\n",
       "      <th>...</th>\n",
       "      <th>Welding, Soldering, and Brazing Machine Setters, Operators, and Tenders</th>\n",
       "      <th>Wellhead Pumpers</th>\n",
       "      <th>Wholesale and Retail Buyers, Except Farm Products</th>\n",
       "      <th>Wind Energy Engineers</th>\n",
       "      <th>Wind Energy Operations Managers</th>\n",
       "      <th>Wind Energy Project Managers</th>\n",
       "      <th>Wind Turbine Service Technicians</th>\n",
       "      <th>Woodworking Machine Setters, Operators, and Tenders, Except Sawing</th>\n",
       "      <th>Word Processors and Typists</th>\n",
       "      <th>Zoologists and Wildlife Biologists</th>\n",
       "    </tr>\n",
       "  </thead>\n",
       "  <tbody>\n",
       "    <tr>\n",
       "      <th>Accountants</th>\n",
       "      <td>NaN</td>\n",
       "      <td>1.815713</td>\n",
       "      <td>-0.636321</td>\n",
       "      <td>-0.750213</td>\n",
       "      <td>1.140320</td>\n",
       "      <td>1.166324</td>\n",
       "      <td>-0.500916</td>\n",
       "      <td>0.098276</td>\n",
       "      <td>0.003265</td>\n",
       "      <td>0.072864</td>\n",
       "      <td>...</td>\n",
       "      <td>0.508586</td>\n",
       "      <td>-0.666325</td>\n",
       "      <td>-0.428479</td>\n",
       "      <td>-0.128328</td>\n",
       "      <td>-0.127577</td>\n",
       "      <td>-0.405769</td>\n",
       "      <td>-0.640472</td>\n",
       "      <td>-0.280050</td>\n",
       "      <td>-0.747072</td>\n",
       "      <td>-0.653184</td>\n",
       "    </tr>\n",
       "    <tr>\n",
       "      <th>Actors</th>\n",
       "      <td>1.815713</td>\n",
       "      <td>NaN</td>\n",
       "      <td>2.428169</td>\n",
       "      <td>1.485427</td>\n",
       "      <td>-0.276126</td>\n",
       "      <td>-0.594035</td>\n",
       "      <td>1.641984</td>\n",
       "      <td>1.072325</td>\n",
       "      <td>0.047584</td>\n",
       "      <td>0.311707</td>\n",
       "      <td>...</td>\n",
       "      <td>2.537853</td>\n",
       "      <td>0.827633</td>\n",
       "      <td>0.149506</td>\n",
       "      <td>0.723129</td>\n",
       "      <td>0.808325</td>\n",
       "      <td>0.618452</td>\n",
       "      <td>1.793988</td>\n",
       "      <td>2.731205</td>\n",
       "      <td>1.323735</td>\n",
       "      <td>1.482199</td>\n",
       "    </tr>\n",
       "    <tr>\n",
       "      <th>Actuaries</th>\n",
       "      <td>-0.636321</td>\n",
       "      <td>2.428169</td>\n",
       "      <td>NaN</td>\n",
       "      <td>0.608825</td>\n",
       "      <td>1.860021</td>\n",
       "      <td>1.668426</td>\n",
       "      <td>0.540284</td>\n",
       "      <td>0.700767</td>\n",
       "      <td>0.703254</td>\n",
       "      <td>1.183940</td>\n",
       "      <td>...</td>\n",
       "      <td>1.186268</td>\n",
       "      <td>0.102468</td>\n",
       "      <td>0.355814</td>\n",
       "      <td>-0.352983</td>\n",
       "      <td>-0.175670</td>\n",
       "      <td>-0.219551</td>\n",
       "      <td>0.046855</td>\n",
       "      <td>0.471518</td>\n",
       "      <td>0.867909</td>\n",
       "      <td>-0.324964</td>\n",
       "    </tr>\n",
       "    <tr>\n",
       "      <th>Acupuncturists</th>\n",
       "      <td>-0.750213</td>\n",
       "      <td>1.485427</td>\n",
       "      <td>0.608825</td>\n",
       "      <td>NaN</td>\n",
       "      <td>0.542782</td>\n",
       "      <td>0.351052</td>\n",
       "      <td>-0.379520</td>\n",
       "      <td>-0.321057</td>\n",
       "      <td>-0.718668</td>\n",
       "      <td>-1.120101</td>\n",
       "      <td>...</td>\n",
       "      <td>0.366580</td>\n",
       "      <td>-1.116015</td>\n",
       "      <td>-0.638361</td>\n",
       "      <td>0.010508</td>\n",
       "      <td>-0.343355</td>\n",
       "      <td>-0.405271</td>\n",
       "      <td>-0.561293</td>\n",
       "      <td>0.025278</td>\n",
       "      <td>-0.591462</td>\n",
       "      <td>-0.591192</td>\n",
       "    </tr>\n",
       "    <tr>\n",
       "      <th>Acute Care Nurses</th>\n",
       "      <td>1.140320</td>\n",
       "      <td>-0.276126</td>\n",
       "      <td>1.860021</td>\n",
       "      <td>0.542782</td>\n",
       "      <td>NaN</td>\n",
       "      <td>-0.895365</td>\n",
       "      <td>1.647176</td>\n",
       "      <td>-0.472309</td>\n",
       "      <td>-0.961883</td>\n",
       "      <td>-0.491329</td>\n",
       "      <td>...</td>\n",
       "      <td>2.568084</td>\n",
       "      <td>0.286751</td>\n",
       "      <td>-0.166002</td>\n",
       "      <td>0.160765</td>\n",
       "      <td>0.014966</td>\n",
       "      <td>0.411943</td>\n",
       "      <td>1.405633</td>\n",
       "      <td>2.535326</td>\n",
       "      <td>0.963312</td>\n",
       "      <td>1.073619</td>\n",
       "    </tr>\n",
       "    <tr>\n",
       "      <th>...</th>\n",
       "      <td>...</td>\n",
       "      <td>...</td>\n",
       "      <td>...</td>\n",
       "      <td>...</td>\n",
       "      <td>...</td>\n",
       "      <td>...</td>\n",
       "      <td>...</td>\n",
       "      <td>...</td>\n",
       "      <td>...</td>\n",
       "      <td>...</td>\n",
       "      <td>...</td>\n",
       "      <td>...</td>\n",
       "      <td>...</td>\n",
       "      <td>...</td>\n",
       "      <td>...</td>\n",
       "      <td>...</td>\n",
       "      <td>...</td>\n",
       "      <td>...</td>\n",
       "      <td>...</td>\n",
       "      <td>...</td>\n",
       "      <td>...</td>\n",
       "    </tr>\n",
       "    <tr>\n",
       "      <th>Wind Energy Project Managers</th>\n",
       "      <td>-0.405769</td>\n",
       "      <td>0.618452</td>\n",
       "      <td>-0.219551</td>\n",
       "      <td>-0.405271</td>\n",
       "      <td>0.411943</td>\n",
       "      <td>-0.096516</td>\n",
       "      <td>-0.562295</td>\n",
       "      <td>0.013700</td>\n",
       "      <td>-0.756399</td>\n",
       "      <td>-0.539451</td>\n",
       "      <td>...</td>\n",
       "      <td>0.196728</td>\n",
       "      <td>-1.039674</td>\n",
       "      <td>-1.510818</td>\n",
       "      <td>-1.039589</td>\n",
       "      <td>-1.330304</td>\n",
       "      <td>NaN</td>\n",
       "      <td>-0.908228</td>\n",
       "      <td>0.191979</td>\n",
       "      <td>0.017126</td>\n",
       "      <td>-1.348571</td>\n",
       "    </tr>\n",
       "    <tr>\n",
       "      <th>Wind Turbine Service Technicians</th>\n",
       "      <td>-0.640472</td>\n",
       "      <td>1.793988</td>\n",
       "      <td>0.046855</td>\n",
       "      <td>-0.561293</td>\n",
       "      <td>1.405633</td>\n",
       "      <td>1.008127</td>\n",
       "      <td>-1.068082</td>\n",
       "      <td>0.619727</td>\n",
       "      <td>0.182406</td>\n",
       "      <td>-0.133923</td>\n",
       "      <td>...</td>\n",
       "      <td>-0.757719</td>\n",
       "      <td>-0.775149</td>\n",
       "      <td>-0.804423</td>\n",
       "      <td>0.057153</td>\n",
       "      <td>-0.258353</td>\n",
       "      <td>-0.908228</td>\n",
       "      <td>NaN</td>\n",
       "      <td>-1.022806</td>\n",
       "      <td>-0.145290</td>\n",
       "      <td>-1.380746</td>\n",
       "    </tr>\n",
       "    <tr>\n",
       "      <th>Woodworking Machine Setters, Operators, and Tenders, Except Sawing</th>\n",
       "      <td>-0.280050</td>\n",
       "      <td>2.731205</td>\n",
       "      <td>0.471518</td>\n",
       "      <td>0.025278</td>\n",
       "      <td>2.535326</td>\n",
       "      <td>2.062305</td>\n",
       "      <td>-0.966473</td>\n",
       "      <td>1.494597</td>\n",
       "      <td>1.171389</td>\n",
       "      <td>0.791171</td>\n",
       "      <td>...</td>\n",
       "      <td>-1.002790</td>\n",
       "      <td>-0.083308</td>\n",
       "      <td>0.296089</td>\n",
       "      <td>0.936479</td>\n",
       "      <td>0.721830</td>\n",
       "      <td>0.191979</td>\n",
       "      <td>-1.022806</td>\n",
       "      <td>NaN</td>\n",
       "      <td>-0.015192</td>\n",
       "      <td>-0.442479</td>\n",
       "    </tr>\n",
       "    <tr>\n",
       "      <th>Word Processors and Typists</th>\n",
       "      <td>-0.747072</td>\n",
       "      <td>1.323735</td>\n",
       "      <td>0.867909</td>\n",
       "      <td>-0.591462</td>\n",
       "      <td>0.963312</td>\n",
       "      <td>0.811860</td>\n",
       "      <td>-0.375645</td>\n",
       "      <td>0.396779</td>\n",
       "      <td>-0.111033</td>\n",
       "      <td>-0.360391</td>\n",
       "      <td>...</td>\n",
       "      <td>0.423021</td>\n",
       "      <td>-0.577165</td>\n",
       "      <td>-0.541798</td>\n",
       "      <td>0.362863</td>\n",
       "      <td>0.504966</td>\n",
       "      <td>0.017126</td>\n",
       "      <td>-0.145290</td>\n",
       "      <td>-0.015192</td>\n",
       "      <td>NaN</td>\n",
       "      <td>-0.206817</td>\n",
       "    </tr>\n",
       "    <tr>\n",
       "      <th>Zoologists and Wildlife Biologists</th>\n",
       "      <td>-0.653184</td>\n",
       "      <td>1.482199</td>\n",
       "      <td>-0.324964</td>\n",
       "      <td>-0.591192</td>\n",
       "      <td>1.073619</td>\n",
       "      <td>0.502527</td>\n",
       "      <td>-0.818301</td>\n",
       "      <td>0.017784</td>\n",
       "      <td>-0.267414</td>\n",
       "      <td>-0.370611</td>\n",
       "      <td>...</td>\n",
       "      <td>-0.426845</td>\n",
       "      <td>-1.208803</td>\n",
       "      <td>-1.079266</td>\n",
       "      <td>-0.524114</td>\n",
       "      <td>-0.701510</td>\n",
       "      <td>-1.348571</td>\n",
       "      <td>-1.380746</td>\n",
       "      <td>-0.442479</td>\n",
       "      <td>-0.206817</td>\n",
       "      <td>NaN</td>\n",
       "    </tr>\n",
       "  </tbody>\n",
       "</table>\n",
       "<p>967 rows × 967 columns</p>\n",
       "</div>"
      ],
      "text/plain": [
       "                                                    Accountants    Actors  \\\n",
       "Accountants                                                 NaN  1.815713   \n",
       "Actors                                                 1.815713       NaN   \n",
       "Actuaries                                             -0.636321  2.428169   \n",
       "Acupuncturists                                        -0.750213  1.485427   \n",
       "Acute Care Nurses                                      1.140320 -0.276126   \n",
       "...                                                         ...       ...   \n",
       "Wind Energy Project Managers                          -0.405769  0.618452   \n",
       "Wind Turbine Service Technicians                      -0.640472  1.793988   \n",
       "Woodworking Machine Setters, Operators, and Ten...    -0.280050  2.731205   \n",
       "Word Processors and Typists                           -0.747072  1.323735   \n",
       "Zoologists and Wildlife Biologists                    -0.653184  1.482199   \n",
       "\n",
       "                                                    Actuaries  Acupuncturists  \\\n",
       "Accountants                                         -0.636321       -0.750213   \n",
       "Actors                                               2.428169        1.485427   \n",
       "Actuaries                                                 NaN        0.608825   \n",
       "Acupuncturists                                       0.608825             NaN   \n",
       "Acute Care Nurses                                    1.860021        0.542782   \n",
       "...                                                       ...             ...   \n",
       "Wind Energy Project Managers                        -0.219551       -0.405271   \n",
       "Wind Turbine Service Technicians                     0.046855       -0.561293   \n",
       "Woodworking Machine Setters, Operators, and Ten...   0.471518        0.025278   \n",
       "Word Processors and Typists                          0.867909       -0.591462   \n",
       "Zoologists and Wildlife Biologists                  -0.324964       -0.591192   \n",
       "\n",
       "                                                    Acute Care Nurses  \\\n",
       "Accountants                                                  1.140320   \n",
       "Actors                                                      -0.276126   \n",
       "Actuaries                                                    1.860021   \n",
       "Acupuncturists                                               0.542782   \n",
       "Acute Care Nurses                                                 NaN   \n",
       "...                                                               ...   \n",
       "Wind Energy Project Managers                                 0.411943   \n",
       "Wind Turbine Service Technicians                             1.405633   \n",
       "Woodworking Machine Setters, Operators, and Ten...           2.535326   \n",
       "Word Processors and Typists                                  0.963312   \n",
       "Zoologists and Wildlife Biologists                           1.073619   \n",
       "\n",
       "                                                    Adapted Physical Education Specialists  \\\n",
       "Accountants                                                                       1.166324   \n",
       "Actors                                                                           -0.594035   \n",
       "Actuaries                                                                         1.668426   \n",
       "Acupuncturists                                                                    0.351052   \n",
       "Acute Care Nurses                                                                -0.895365   \n",
       "...                                                                                    ...   \n",
       "Wind Energy Project Managers                                                     -0.096516   \n",
       "Wind Turbine Service Technicians                                                  1.008127   \n",
       "Woodworking Machine Setters, Operators, and Ten...                                2.062305   \n",
       "Word Processors and Typists                                                       0.811860   \n",
       "Zoologists and Wildlife Biologists                                                0.502527   \n",
       "\n",
       "                                                    Adhesive Bonding Machine Operators and Tenders  \\\n",
       "Accountants                                                                              -0.500916   \n",
       "Actors                                                                                    1.641984   \n",
       "Actuaries                                                                                 0.540284   \n",
       "Acupuncturists                                                                           -0.379520   \n",
       "Acute Care Nurses                                                                         1.647176   \n",
       "...                                                                                            ...   \n",
       "Wind Energy Project Managers                                                             -0.562295   \n",
       "Wind Turbine Service Technicians                                                         -1.068082   \n",
       "Woodworking Machine Setters, Operators, and Ten...                                       -0.966473   \n",
       "Word Processors and Typists                                                              -0.375645   \n",
       "Zoologists and Wildlife Biologists                                                       -0.818301   \n",
       "\n",
       "                                                    Administrative Law Judges, Adjudicators, and Hearing Officers  \\\n",
       "Accountants                                                                                  0.098276               \n",
       "Actors                                                                                       1.072325               \n",
       "Actuaries                                                                                    0.700767               \n",
       "Acupuncturists                                                                              -0.321057               \n",
       "Acute Care Nurses                                                                           -0.472309               \n",
       "...                                                                                               ...               \n",
       "Wind Energy Project Managers                                                                 0.013700               \n",
       "Wind Turbine Service Technicians                                                             0.619727               \n",
       "Woodworking Machine Setters, Operators, and Ten...                                           1.494597               \n",
       "Word Processors and Typists                                                                  0.396779               \n",
       "Zoologists and Wildlife Biologists                                                           0.017784               \n",
       "\n",
       "                                                    Administrative Services Managers  \\\n",
       "Accountants                                                                 0.003265   \n",
       "Actors                                                                      0.047584   \n",
       "Actuaries                                                                   0.703254   \n",
       "Acupuncturists                                                             -0.718668   \n",
       "Acute Care Nurses                                                          -0.961883   \n",
       "...                                                                              ...   \n",
       "Wind Energy Project Managers                                               -0.756399   \n",
       "Wind Turbine Service Technicians                                            0.182406   \n",
       "Woodworking Machine Setters, Operators, and Ten...                          1.171389   \n",
       "Word Processors and Typists                                                -0.111033   \n",
       "Zoologists and Wildlife Biologists                                         -0.267414   \n",
       "\n",
       "                                                    Adult Basic and Secondary Education and Literacy Teachers and Instructors  \\\n",
       "Accountants                                                                                  0.072864                           \n",
       "Actors                                                                                       0.311707                           \n",
       "Actuaries                                                                                    1.183940                           \n",
       "Acupuncturists                                                                              -1.120101                           \n",
       "Acute Care Nurses                                                                           -0.491329                           \n",
       "...                                                                                               ...                           \n",
       "Wind Energy Project Managers                                                                -0.539451                           \n",
       "Wind Turbine Service Technicians                                                            -0.133923                           \n",
       "Woodworking Machine Setters, Operators, and Ten...                                           0.791171                           \n",
       "Word Processors and Typists                                                                 -0.360391                           \n",
       "Zoologists and Wildlife Biologists                                                          -0.370611                           \n",
       "\n",
       "                                                    ...  \\\n",
       "Accountants                                         ...   \n",
       "Actors                                              ...   \n",
       "Actuaries                                           ...   \n",
       "Acupuncturists                                      ...   \n",
       "Acute Care Nurses                                   ...   \n",
       "...                                                 ...   \n",
       "Wind Energy Project Managers                        ...   \n",
       "Wind Turbine Service Technicians                    ...   \n",
       "Woodworking Machine Setters, Operators, and Ten...  ...   \n",
       "Word Processors and Typists                         ...   \n",
       "Zoologists and Wildlife Biologists                  ...   \n",
       "\n",
       "                                                    Welding, Soldering, and Brazing Machine Setters, Operators, and Tenders  \\\n",
       "Accountants                                                                                  0.508586                         \n",
       "Actors                                                                                       2.537853                         \n",
       "Actuaries                                                                                    1.186268                         \n",
       "Acupuncturists                                                                               0.366580                         \n",
       "Acute Care Nurses                                                                            2.568084                         \n",
       "...                                                                                               ...                         \n",
       "Wind Energy Project Managers                                                                 0.196728                         \n",
       "Wind Turbine Service Technicians                                                            -0.757719                         \n",
       "Woodworking Machine Setters, Operators, and Ten...                                          -1.002790                         \n",
       "Word Processors and Typists                                                                  0.423021                         \n",
       "Zoologists and Wildlife Biologists                                                          -0.426845                         \n",
       "\n",
       "                                                    Wellhead Pumpers  \\\n",
       "Accountants                                                -0.666325   \n",
       "Actors                                                      0.827633   \n",
       "Actuaries                                                   0.102468   \n",
       "Acupuncturists                                             -1.116015   \n",
       "Acute Care Nurses                                           0.286751   \n",
       "...                                                              ...   \n",
       "Wind Energy Project Managers                               -1.039674   \n",
       "Wind Turbine Service Technicians                           -0.775149   \n",
       "Woodworking Machine Setters, Operators, and Ten...         -0.083308   \n",
       "Word Processors and Typists                                -0.577165   \n",
       "Zoologists and Wildlife Biologists                         -1.208803   \n",
       "\n",
       "                                                    Wholesale and Retail Buyers, Except Farm Products  \\\n",
       "Accountants                                                                                 -0.428479   \n",
       "Actors                                                                                       0.149506   \n",
       "Actuaries                                                                                    0.355814   \n",
       "Acupuncturists                                                                              -0.638361   \n",
       "Acute Care Nurses                                                                           -0.166002   \n",
       "...                                                                                               ...   \n",
       "Wind Energy Project Managers                                                                -1.510818   \n",
       "Wind Turbine Service Technicians                                                            -0.804423   \n",
       "Woodworking Machine Setters, Operators, and Ten...                                           0.296089   \n",
       "Word Processors and Typists                                                                 -0.541798   \n",
       "Zoologists and Wildlife Biologists                                                          -1.079266   \n",
       "\n",
       "                                                    Wind Energy Engineers  \\\n",
       "Accountants                                                     -0.128328   \n",
       "Actors                                                           0.723129   \n",
       "Actuaries                                                       -0.352983   \n",
       "Acupuncturists                                                   0.010508   \n",
       "Acute Care Nurses                                                0.160765   \n",
       "...                                                                   ...   \n",
       "Wind Energy Project Managers                                    -1.039589   \n",
       "Wind Turbine Service Technicians                                 0.057153   \n",
       "Woodworking Machine Setters, Operators, and Ten...               0.936479   \n",
       "Word Processors and Typists                                      0.362863   \n",
       "Zoologists and Wildlife Biologists                              -0.524114   \n",
       "\n",
       "                                                    Wind Energy Operations Managers  \\\n",
       "Accountants                                                               -0.127577   \n",
       "Actors                                                                     0.808325   \n",
       "Actuaries                                                                 -0.175670   \n",
       "Acupuncturists                                                            -0.343355   \n",
       "Acute Care Nurses                                                          0.014966   \n",
       "...                                                                             ...   \n",
       "Wind Energy Project Managers                                              -1.330304   \n",
       "Wind Turbine Service Technicians                                          -0.258353   \n",
       "Woodworking Machine Setters, Operators, and Ten...                         0.721830   \n",
       "Word Processors and Typists                                                0.504966   \n",
       "Zoologists and Wildlife Biologists                                        -0.701510   \n",
       "\n",
       "                                                    Wind Energy Project Managers  \\\n",
       "Accountants                                                            -0.405769   \n",
       "Actors                                                                  0.618452   \n",
       "Actuaries                                                              -0.219551   \n",
       "Acupuncturists                                                         -0.405271   \n",
       "Acute Care Nurses                                                       0.411943   \n",
       "...                                                                          ...   \n",
       "Wind Energy Project Managers                                                 NaN   \n",
       "Wind Turbine Service Technicians                                       -0.908228   \n",
       "Woodworking Machine Setters, Operators, and Ten...                      0.191979   \n",
       "Word Processors and Typists                                             0.017126   \n",
       "Zoologists and Wildlife Biologists                                     -1.348571   \n",
       "\n",
       "                                                    Wind Turbine Service Technicians  \\\n",
       "Accountants                                                                -0.640472   \n",
       "Actors                                                                      1.793988   \n",
       "Actuaries                                                                   0.046855   \n",
       "Acupuncturists                                                             -0.561293   \n",
       "Acute Care Nurses                                                           1.405633   \n",
       "...                                                                              ...   \n",
       "Wind Energy Project Managers                                               -0.908228   \n",
       "Wind Turbine Service Technicians                                                 NaN   \n",
       "Woodworking Machine Setters, Operators, and Ten...                         -1.022806   \n",
       "Word Processors and Typists                                                -0.145290   \n",
       "Zoologists and Wildlife Biologists                                         -1.380746   \n",
       "\n",
       "                                                    Woodworking Machine Setters, Operators, and Tenders, Except Sawing  \\\n",
       "Accountants                                                                                 -0.280050                    \n",
       "Actors                                                                                       2.731205                    \n",
       "Actuaries                                                                                    0.471518                    \n",
       "Acupuncturists                                                                               0.025278                    \n",
       "Acute Care Nurses                                                                            2.535326                    \n",
       "...                                                                                               ...                    \n",
       "Wind Energy Project Managers                                                                 0.191979                    \n",
       "Wind Turbine Service Technicians                                                            -1.022806                    \n",
       "Woodworking Machine Setters, Operators, and Ten...                                                NaN                    \n",
       "Word Processors and Typists                                                                 -0.015192                    \n",
       "Zoologists and Wildlife Biologists                                                          -0.442479                    \n",
       "\n",
       "                                                    Word Processors and Typists  \\\n",
       "Accountants                                                           -0.747072   \n",
       "Actors                                                                 1.323735   \n",
       "Actuaries                                                              0.867909   \n",
       "Acupuncturists                                                        -0.591462   \n",
       "Acute Care Nurses                                                      0.963312   \n",
       "...                                                                         ...   \n",
       "Wind Energy Project Managers                                           0.017126   \n",
       "Wind Turbine Service Technicians                                      -0.145290   \n",
       "Woodworking Machine Setters, Operators, and Ten...                    -0.015192   \n",
       "Word Processors and Typists                                                 NaN   \n",
       "Zoologists and Wildlife Biologists                                    -0.206817   \n",
       "\n",
       "                                                    Zoologists and Wildlife Biologists  \n",
       "Accountants                                                                  -0.653184  \n",
       "Actors                                                                        1.482199  \n",
       "Actuaries                                                                    -0.324964  \n",
       "Acupuncturists                                                               -0.591192  \n",
       "Acute Care Nurses                                                             1.073619  \n",
       "...                                                                                ...  \n",
       "Wind Energy Project Managers                                                 -1.348571  \n",
       "Wind Turbine Service Technicians                                             -1.380746  \n",
       "Woodworking Machine Setters, Operators, and Ten...                           -0.442479  \n",
       "Word Processors and Typists                                                  -0.206817  \n",
       "Zoologists and Wildlife Biologists                                                 NaN  \n",
       "\n",
       "[967 rows x 967 columns]"
      ]
     },
     "execution_count": 127,
     "metadata": {},
     "output_type": "execute_result"
    }
   ],
   "source": [
    "wc_dist \n",
    "knowledge_dist\n",
    "skills_dist \n",
    "gwas_dist \n",
    "jz_dist \n",
    "wv_dist \n",
    "in_dist \n",
    "ab_dist \n",
    "ws_dist"
   ]
  },
  {
   "cell_type": "code",
   "execution_count": 128,
   "metadata": {
    "scrolled": false
   },
   "outputs": [
    {
     "name": "stdout",
     "output_type": "stream",
     "text": [
      "ONET default\n",
      "12.30327998606195\n",
      "610\n",
      "Occupational Therapists 83.19753814184264\n",
      "Audiologists 0.0\n",
      "Occupational Therapists 77.4223233536707\n",
      "Psychiatrists 9.39391078293398\n",
      "Algo 1\n",
      "14.940931127851517\n",
      "611\n",
      "First-Line Supervisors of Non-Retail Sales Workers 93.65570632675418\n",
      "Biological Science Teachers, Postsecondary 0.0\n",
      "Occupational Therapists 79.21193429924357\n",
      "Psychiatrists 9.39391078293398\n",
      "algo 2\n",
      "15.133164638610522\n",
      "611\n",
      "First-Line Supervisors of Non-Retail Sales Workers 93.58518644453213\n",
      "Biological Science Teachers, Postsecondary 0.0\n",
      "Occupational Therapists 76.9736307458273\n",
      "Psychiatrists 9.39391078293398\n",
      "skills\n",
      "10.761938070708014\n",
      "610\n",
      "First-Line Supervisors of Non-Retail Sales Workers 93.45955638335593\n",
      "Psychiatrists 0.0\n",
      "Title Examiners, Abstractors, and Searchers 68.44221971384758\n",
      "Psychiatrists 0\n",
      "work context\n",
      "10.657859811575516\n",
      "610\n",
      "Occupational Therapists 80.77457658839083\n",
      "Psychiatrists 0.0\n",
      "Occupational Therapists 75.16755335620954\n",
      "Psychiatrists 0\n",
      "knowledge\n",
      "12.671715501339706\n",
      "610\n",
      "First-Line Supervisors of Non-Retail Sales Workers 93.59691732177119\n",
      "Audiologists 0.0\n",
      "Occupational Therapists 71.56777726748102\n",
      "Psychiatrists 9.39391078293398\n",
      "genral work activities\n",
      "11.832327429486321\n",
      "610\n",
      "Optometrists 87.4116643432956\n",
      "Audiologists 0.0\n",
      "Title Examiners, Abstractors, and Searchers 69.44929984347104\n",
      "Psychiatrists 9.39391078293398\n",
      "work value\n",
      "6.059196967882532\n",
      "611\n",
      "Radiation Therapists 70.63941879537158\n",
      "Nurse Anesthetists 0.0\n",
      "Radiation Therapists 61.58833798592869\n",
      "Psychiatrists 19.53329345958491\n",
      "interest\n",
      "8.408751067039786\n",
      "611\n",
      "First-Line Supervisors of Non-Retail Sales Workers 93.82561635343902\n",
      "Curators 0.0\n",
      "First-Line Supervisors of Non-Retail Sales Workers 62.215262666975434\n",
      "Psychiatrists 0.3604869380908128\n",
      "abilities\n",
      "10.457553558969988\n",
      "610\n",
      "Title Examiners, Abstractors, and Searchers 82.30568161448473\n",
      "Audiologists 0.0\n",
      "Title Examiners, Abstractors, and Searchers 67.99255631465411\n",
      "Psychiatrists 0.317934589004297\n",
      "work setting\n",
      "6.070237629881494\n",
      "610\n",
      "Title Examiners, Abstractors, and Searchers 82.30568161448473\n",
      "Audiologists 0.0\n",
      "Title Examiners, Abstractors, and Searchers 67.99255631465411\n",
      "Psychiatrists 2.0379341981291943\n"
     ]
    }
   ],
   "source": [
    "print(\"ONET default\")\n",
    "occ_default = percentage_coverage(df_concat,df_cps)\n",
    "print(\"Algo 1\")\n",
    "occ_alg1 = percentage_coverage(df_concat_filt,df_cps)\n",
    "print(\"algo 2\")\n",
    "occ_alg2 = percentage_coverage(df_new,df_cps)\n",
    "\n",
    "print(\"skills\")\n",
    "occ_skills = percentage_coverage(skills_dist,df_cps)\n",
    "print(\"work context\")\n",
    "occ_wc = percentage_coverage(wc_dist,df_cps)\n",
    "print(\"knowledge\")\n",
    "occ_knowledge = percentage_coverage(knowledge_dist,df_cps)\n",
    "print(\"genral work activities\")\n",
    "occ_gwa = percentage_coverage(gwas_dist,df_cps)\n",
    "print(\"work value\")\n",
    "occ_wv = percentage_coverage(wv_dist,df_cps)\n",
    "print(\"interest\")\n",
    "occ_in = percentage_coverage(in_dist,df_cps)\n",
    "print(\"abilities\")\n",
    "occ_ab = percentage_coverage(ab_dist,df_cps)\n",
    "print(\"work setting\")\n",
    "occ_ws = percentage_coverage(ws_dist,df_cps)"
   ]
  },
  {
   "cell_type": "code",
   "execution_count": null,
   "metadata": {},
   "outputs": [],
   "source": []
  },
  {
   "cell_type": "markdown",
   "metadata": {},
   "source": [
    "## Top 10"
   ]
  },
  {
   "cell_type": "code",
   "execution_count": 123,
   "metadata": {},
   "outputs": [],
   "source": [
    "# ONET default\n",
    "# 12.30327998606195\n",
    "# 610\n",
    "# Occupational Therapists 83.19753814184264\n",
    "# Audiologists 0.0\n",
    "# Occupational Therapists 77.4223233536707\n",
    "# Psychiatrists 9.39391078293398\n",
    "# Algo 1\n",
    "# 14.957654963925167\n",
    "# 610\n",
    "# First-Line Supervisors of Non-Retail Sales Workers 93.65570632675418\n",
    "# Biological Science Teachers, Postsecondary 0.0\n",
    "# Occupational Therapists 79.21193429924357\n",
    "# Psychiatrists 9.39391078293398\n",
    "# algo 2\n",
    "# 15.150203611587056\n",
    "# 610\n",
    "# First-Line Supervisors of Non-Retail Sales Workers 93.58518644453213\n",
    "# Biological Science Teachers, Postsecondary 0.0\n",
    "# Occupational Therapists 76.9736307458273\n",
    "# Psychiatrists 9.39391078293398\n",
    "# skills\n",
    "# 10.761938070708014\n",
    "# 610\n",
    "# First-Line Supervisors of Non-Retail Sales Workers 93.45955638335593\n",
    "# Psychiatrists 0.0\n",
    "# Title Examiners, Abstractors, and Searchers 68.44221971384758\n",
    "# Psychiatrists 0\n",
    "# work context\n",
    "# 10.657859811575516\n",
    "# 610\n",
    "# Occupational Therapists 80.77457658839083\n",
    "# Psychiatrists 0.0\n",
    "# Occupational Therapists 75.16755335620954\n",
    "# Psychiatrists 0\n",
    "# knowledge\n",
    "# 12.671715501339706\n",
    "# 610\n",
    "# First-Line Supervisors of Non-Retail Sales Workers 93.59691732177119\n",
    "# Audiologists 0.0\n",
    "# Occupational Therapists 71.56777726748102\n",
    "# Psychiatrists 9.39391078293398\n",
    "# genral work activities\n",
    "# 11.832327429486321\n",
    "# 610\n",
    "# Optometrists 87.4116643432956\n",
    "# Audiologists 0.0\n",
    "# Title Examiners, Abstractors, and Searchers 69.44929984347104\n",
    "# Psychiatrists 9.39391078293398\n",
    "# work value\n",
    "# 6.0683701226956055\n",
    "# 610\n",
    "# Radiation Therapists 70.63941879537158\n",
    "# Nurse Anesthetists 0.0\n",
    "# Radiation Therapists 61.58833798592869\n",
    "# Psychiatrists 19.53329345958491\n",
    "# interest\n",
    "# 8.414766411210467\n",
    "# 610\n",
    "# First-Line Supervisors of Non-Retail Sales Workers 93.82561635343902\n",
    "# Curators 0.0\n",
    "# First-Line Supervisors of Non-Retail Sales Workers 62.215262666975434\n",
    "# Psychiatrists 0.3604869380908128\n",
    "# abilities\n",
    "# 10.457553558969988\n",
    "# 610\n",
    "# Title Examiners, Abstractors, and Searchers 82.30568161448473\n",
    "# Audiologists 0.0\n",
    "# Title Examiners, Abstractors, and Searchers 67.99255631465411\n",
    "# Psychiatrists 0.317934589004297\n",
    "# work setting\n",
    "# 6.070237629881494\n",
    "# 610\n",
    "# Title Examiners, Abstractors, and Searchers 82.30568161448473\n",
    "# Audiologists 0.0\n",
    "# Title Examiners, Abstractors, and Searchers 67.99255631465411\n",
    "# Psychiatrists 2.0379341981291943"
   ]
  },
  {
   "cell_type": "markdown",
   "metadata": {},
   "source": [
    "## Top 20"
   ]
  },
  {
   "cell_type": "code",
   "execution_count": 81,
   "metadata": {},
   "outputs": [],
   "source": [
    "# ONET default\n",
    "# 17.00152350132241\n",
    "# 569\n",
    "# First-Line Supervisors of Non-Retail Sales Workers 87.19720582811054\n",
    "# Petroleum Engineers 0.0\n",
    "# Occupational Therapists 79.71861719209504\n",
    "# Psychiatrists 9.436463132020497\n",
    "# Algo 1\n",
    "# 20.157148088139543\n",
    "# 569\n",
    "# First-Line Supervisors of Non-Retail Sales Workers 89.3305850797751\n",
    "# Private Detectives and Investigators 0.0\n",
    "# Occupational Therapists 83.76743245968721\n",
    "# Psychiatrists 9.436463132020497\n",
    "# algo 2\n",
    "# 19.845296270656902\n",
    "# 569\n",
    "# First-Line Supervisors of Non-Retail Sales Workers 89.23131888818325\n",
    "# Private Detectives and Investigators 0.0\n",
    "# Occupational Therapists 83.71387649923727\n",
    "# Psychiatrists 9.754397721024795\n",
    "# skills\n",
    "# 14.50071320223328\n",
    "# 569\n",
    "# First-Line Supervisors of Non-Retail Sales Workers 87.99728791972292\n",
    "# Audiologists 0.0\n",
    "# Title Examiners, Abstractors, and Searchers 68.51075986436102\n",
    "# Psychiatrists 9.570318319104194\n",
    "# work context\n",
    "# 14.698606243888175\n",
    "# 569\n",
    "# Occupational Therapists 80.08669903163094\n",
    "# Petroleum Engineers 0.0\n",
    "# Occupational Therapists 79.26549025969348\n",
    "# Psychiatrists 9.244104885791575\n",
    "# knowledge\n",
    "# 18.27738898232911\n",
    "# 569\n",
    "# First-Line Supervisors of Non-Retail Sales Workers 87.20541559832638\n",
    "# Audiologists 0.0\n",
    "# Occupational Therapists 75.67014849552311\n",
    "# Psychiatrists 9.733121546481536\n",
    "# genral work activities\n",
    "# 15.745385724125168\n",
    "# 569\n",
    "# Occupational Therapists 80.08669903163094\n",
    "# Audiologists 0.0\n",
    "# Occupational Therapists 79.26549025969348\n",
    "# Psychiatrists 15.990771674096809\n",
    "# work value\n",
    "# 8.305812619552738\n",
    "# 569\n",
    "# Nurse Practitioners 65.48348694740163\n",
    "# Nurse Anesthetists 0.0\n",
    "# Radiation Therapists 61.58833798592869\n",
    "# Psychiatrists 24.637312362381486\n",
    "# interest\n",
    "# 11.946956823721644\n",
    "# 569\n",
    "# First-Line Supervisors of Non-Retail Sales Workers 87.70273233909465\n",
    "# Curators 0.0\n",
    "# Postal Service Clerks 84.043529949622\n",
    "# Psychiatrists 0.5094201598936182\n",
    "# abilities\n",
    "# 13.640188056376925\n",
    "# 569\n",
    "# Title Examiners, Abstractors, and Searchers 75.51224315682042\n",
    "# Audiologists 0.0\n",
    "# Title Examiners, Abstractors, and Searchers 68.44221971384758\n",
    "# Psychiatrists 2.6472439946287474\n",
    "# work setting\n",
    "# 8.710758743472496\n",
    "# 569\n",
    "# Title Examiners, Abstractors, and Searchers 75.01612990858587\n",
    "# Audiologists 0.0\n",
    "# Respiratory Therapists 70.77391178357794\n",
    "# Psychiatrists 11.431844981063175"
   ]
  },
  {
   "cell_type": "markdown",
   "metadata": {},
   "source": [
    "## Top 50"
   ]
  },
  {
   "cell_type": "code",
   "execution_count": 65,
   "metadata": {},
   "outputs": [],
   "source": [
    "# ONET default\n",
    "# 26.620927695763267\n",
    "# 434\n",
    "# Occupational Therapists 84.63236189185216\n",
    "# Museum Technicians and Conservators 0.0\n",
    "# Occupational Therapists 84.54229292527187\n",
    "# Psychiatrists 19.202197876361616\n",
    "# Algo 1\n",
    "# 30.065967663680865\n",
    "# 434\n",
    "# Occupational Therapists 84.02195401297996\n",
    "# Museum Technicians and Conservators 0.0\n",
    "# Occupational Therapists 83.93253466559514\n",
    "# Psychiatrists 22.848961919671954\n",
    "# algo 2\n",
    "# 30.445321068270225\n",
    "# 434\n",
    "# Occupational Therapists 84.69041395806892\n",
    "# Museum Technicians and Conservators 0.0\n",
    "# Occupational Therapists 84.60028321027994\n",
    "# Psychiatrists 16.506389973814574\n",
    "# skills\n",
    "# 22.128976873277793\n",
    "# 434\n",
    "# First-Line Supervisors of Non-Retail Sales Workers 78.79857653826994\n",
    "# Audiologists 0.0\n",
    "# Title Examiners, Abstractors, and Searchers 71.41240257266489\n",
    "# Psychiatrists 9.804356239080036\n",
    "# work context\n",
    "# 23.713811141031805\n",
    "# 434\n",
    "# Occupational Therapists 80.74047037766475\n",
    "# Museum Technicians and Conservators 0.0\n",
    "# Occupational Therapists 80.65454330951303\n",
    "# Psychiatrists 14.433168301049843\n",
    "# knowledge\n",
    "# 27.98233953212392\n",
    "# 434\n",
    "# Occupational Therapists 83.96390194676319\n",
    "# Materials Scientists 0.002744464047177644\n",
    "# Occupational Therapists 83.87454438058705\n",
    "# Psychiatrists 28.11578404984587\n",
    "# genral work activities\n",
    "# 23.093421339453133\n",
    "# 434\n",
    "# Occupational Therapists 81.41336937151577\n",
    "# Museum Technicians and Conservators 0.0\n",
    "# Occupational Therapists 81.32672617875599\n",
    "# Psychiatrists 16.614730670584397\n",
    "# work value\n",
    "# 14.735038211529552\n",
    "# 434\n",
    "# Occupational Therapists 83.73795579085653\n",
    "# Mechanical Drafters 0.0\n",
    "# Occupational Therapists 83.64883868514151\n",
    "# Psychiatrists 35.93617801837723\n",
    "# interest\n",
    "# 21.332168245358215\n",
    "# 434\n",
    "# Occupational Therapists 78.47689809054984\n",
    "# Curators 0.0\n",
    "# Occupational Therapists 78.39338000180177\n",
    "# Psychiatrists 17.43556422986619\n",
    "# abilities\n",
    "# 22.075793929028823\n",
    "# 434\n",
    "# Occupational Therapists 80.92923823839733\n",
    "# Community Health Workers 0.0\n",
    "# Occupational Therapists 80.84311027633505\n",
    "# Psychiatrists 14.214946244347924\n",
    "# work setting\n",
    "# 14.117143131454771\n",
    "# 434\n",
    "# Title Examiners, Abstractors, and Searchers 68.24014209372007\n",
    "# Audiologists 0.0\n",
    "# Title Examiners, Abstractors, and Searchers 67.99255631465411\n",
    "# Psychiatrists 18.313271225235116\n"
   ]
  },
  {
   "cell_type": "code",
   "execution_count": 56,
   "metadata": {},
   "outputs": [],
   "source": [
    "# df_score = pd.DataFrame.from_dict(occ_dictionary)\n",
    "# list(occ_dictionary.keys())\n",
    "\n",
    "# df_score = pd.DataFrame.from_dict(occ_dictionary, orient = 'index',  columns= ['score'])\n",
    "# df_score = df_score.sort_values(by = 'score', ascending = False)"
   ]
  },
  {
   "cell_type": "code",
   "execution_count": 57,
   "metadata": {},
   "outputs": [],
   "source": [
    "# Use textposition='auto' for direct text\n",
    "# fig = go.Figure(data=[go.Bar(\n",
    "#             x=df_score.index[:30], y=df_score['score'][:30],\n",
    "#             textposition='auto',\n",
    "#         )])\n",
    "# fig.update_layout(barmode='stack', xaxis={'categoryorder':'total descending'})\n",
    "\n",
    "# fig.show()"
   ]
  },
  {
   "cell_type": "code",
   "execution_count": 58,
   "metadata": {},
   "outputs": [],
   "source": [
    "def distribution(df):\n",
    "    df_output = pd.DataFrame.from_dict(df, orient = 'index',  columns= ['score'])\n",
    "    df_output = df_output.sort_values(by = 'score', ascending = False)\n",
    "    fig = go.Figure(data=[go.Bar(\n",
    "                x=df_output.index[:30], y=df_output['score'][:10],\n",
    "                textposition='auto',\n",
    "            )])\n",
    "    fig.update_layout(barmode='stack', xaxis={'categoryorder':'total descending'})\n",
    "\n",
    "    fig.show()"
   ]
  },
  {
   "cell_type": "code",
   "execution_count": 105,
   "metadata": {},
   "outputs": [
    {
     "data": {
      "application/vnd.plotly.v1+json": {
       "config": {
        "plotlyServerURL": "https://plot.ly"
       },
       "data": [
        {
         "textposition": "auto",
         "type": "bar",
         "x": [
          "First-Line Supervisors of Non-Retail Sales Workers",
          "First-Line Supervisors of Landscaping, Lawn Service, and Groundskeeping Workers",
          "Title Examiners, Abstractors, and Searchers",
          "First-Line Supervisors of Housekeeping and Janitorial Workers",
          "First-Line Supervisors of Retail Sales Workers",
          "Exercise Physiologists",
          "Pharmacists",
          "Hotel, Motel, and Resort Desk Clerks",
          "Bill and Account Collectors",
          "Tutors",
          "Special Education Teachers, Middle School",
          "Receptionists and Information Clerks",
          "Special Education Teachers, Secondary School",
          "Special Education Teachers, Preschool",
          "Tax Examiners and Collectors, and Revenue Agents",
          "Industrial-Organizational Psychologists",
          "Mathematicians",
          "Statisticians",
          "Sales Representatives, Wholesale and Manufacturing, Except Technical and Scientific Products",
          "Insurance Underwriters",
          "Interviewers, Except Eligibility and Loan",
          "Compensation, Benefits, and Job Analysis Specialists",
          "Obstetricians and Gynecologists",
          "Operations Research Analysts",
          "Customer Service Representatives",
          "Environmental Science and Protection Technicians, Including Health",
          "Dietitians and Nutritionists",
          "Hosts and Hostesses, Restaurant, Lounge, and Coffee Shop",
          "Middle School Teachers, Except Special and Career/Technical Education",
          "Signal and Track Switch Repairers"
         ],
         "y": [
          0.9345955638335592,
          0.8488084392463141,
          0.8285000373698931,
          0.7562066650199377,
          0.7103145477971187,
          0.7034195905915452,
          0.6535829375064499,
          0.5974702318671684,
          0.591359654560247,
          0.5639798865046691
         ]
        }
       ],
       "layout": {
        "barmode": "stack",
        "template": {
         "data": {
          "bar": [
           {
            "error_x": {
             "color": "#2a3f5f"
            },
            "error_y": {
             "color": "#2a3f5f"
            },
            "marker": {
             "line": {
              "color": "#E5ECF6",
              "width": 0.5
             }
            },
            "type": "bar"
           }
          ],
          "barpolar": [
           {
            "marker": {
             "line": {
              "color": "#E5ECF6",
              "width": 0.5
             }
            },
            "type": "barpolar"
           }
          ],
          "carpet": [
           {
            "aaxis": {
             "endlinecolor": "#2a3f5f",
             "gridcolor": "white",
             "linecolor": "white",
             "minorgridcolor": "white",
             "startlinecolor": "#2a3f5f"
            },
            "baxis": {
             "endlinecolor": "#2a3f5f",
             "gridcolor": "white",
             "linecolor": "white",
             "minorgridcolor": "white",
             "startlinecolor": "#2a3f5f"
            },
            "type": "carpet"
           }
          ],
          "choropleth": [
           {
            "colorbar": {
             "outlinewidth": 0,
             "ticks": ""
            },
            "type": "choropleth"
           }
          ],
          "contour": [
           {
            "colorbar": {
             "outlinewidth": 0,
             "ticks": ""
            },
            "colorscale": [
             [
              0,
              "#0d0887"
             ],
             [
              0.1111111111111111,
              "#46039f"
             ],
             [
              0.2222222222222222,
              "#7201a8"
             ],
             [
              0.3333333333333333,
              "#9c179e"
             ],
             [
              0.4444444444444444,
              "#bd3786"
             ],
             [
              0.5555555555555556,
              "#d8576b"
             ],
             [
              0.6666666666666666,
              "#ed7953"
             ],
             [
              0.7777777777777778,
              "#fb9f3a"
             ],
             [
              0.8888888888888888,
              "#fdca26"
             ],
             [
              1,
              "#f0f921"
             ]
            ],
            "type": "contour"
           }
          ],
          "contourcarpet": [
           {
            "colorbar": {
             "outlinewidth": 0,
             "ticks": ""
            },
            "type": "contourcarpet"
           }
          ],
          "heatmap": [
           {
            "colorbar": {
             "outlinewidth": 0,
             "ticks": ""
            },
            "colorscale": [
             [
              0,
              "#0d0887"
             ],
             [
              0.1111111111111111,
              "#46039f"
             ],
             [
              0.2222222222222222,
              "#7201a8"
             ],
             [
              0.3333333333333333,
              "#9c179e"
             ],
             [
              0.4444444444444444,
              "#bd3786"
             ],
             [
              0.5555555555555556,
              "#d8576b"
             ],
             [
              0.6666666666666666,
              "#ed7953"
             ],
             [
              0.7777777777777778,
              "#fb9f3a"
             ],
             [
              0.8888888888888888,
              "#fdca26"
             ],
             [
              1,
              "#f0f921"
             ]
            ],
            "type": "heatmap"
           }
          ],
          "heatmapgl": [
           {
            "colorbar": {
             "outlinewidth": 0,
             "ticks": ""
            },
            "colorscale": [
             [
              0,
              "#0d0887"
             ],
             [
              0.1111111111111111,
              "#46039f"
             ],
             [
              0.2222222222222222,
              "#7201a8"
             ],
             [
              0.3333333333333333,
              "#9c179e"
             ],
             [
              0.4444444444444444,
              "#bd3786"
             ],
             [
              0.5555555555555556,
              "#d8576b"
             ],
             [
              0.6666666666666666,
              "#ed7953"
             ],
             [
              0.7777777777777778,
              "#fb9f3a"
             ],
             [
              0.8888888888888888,
              "#fdca26"
             ],
             [
              1,
              "#f0f921"
             ]
            ],
            "type": "heatmapgl"
           }
          ],
          "histogram": [
           {
            "marker": {
             "colorbar": {
              "outlinewidth": 0,
              "ticks": ""
             }
            },
            "type": "histogram"
           }
          ],
          "histogram2d": [
           {
            "colorbar": {
             "outlinewidth": 0,
             "ticks": ""
            },
            "colorscale": [
             [
              0,
              "#0d0887"
             ],
             [
              0.1111111111111111,
              "#46039f"
             ],
             [
              0.2222222222222222,
              "#7201a8"
             ],
             [
              0.3333333333333333,
              "#9c179e"
             ],
             [
              0.4444444444444444,
              "#bd3786"
             ],
             [
              0.5555555555555556,
              "#d8576b"
             ],
             [
              0.6666666666666666,
              "#ed7953"
             ],
             [
              0.7777777777777778,
              "#fb9f3a"
             ],
             [
              0.8888888888888888,
              "#fdca26"
             ],
             [
              1,
              "#f0f921"
             ]
            ],
            "type": "histogram2d"
           }
          ],
          "histogram2dcontour": [
           {
            "colorbar": {
             "outlinewidth": 0,
             "ticks": ""
            },
            "colorscale": [
             [
              0,
              "#0d0887"
             ],
             [
              0.1111111111111111,
              "#46039f"
             ],
             [
              0.2222222222222222,
              "#7201a8"
             ],
             [
              0.3333333333333333,
              "#9c179e"
             ],
             [
              0.4444444444444444,
              "#bd3786"
             ],
             [
              0.5555555555555556,
              "#d8576b"
             ],
             [
              0.6666666666666666,
              "#ed7953"
             ],
             [
              0.7777777777777778,
              "#fb9f3a"
             ],
             [
              0.8888888888888888,
              "#fdca26"
             ],
             [
              1,
              "#f0f921"
             ]
            ],
            "type": "histogram2dcontour"
           }
          ],
          "mesh3d": [
           {
            "colorbar": {
             "outlinewidth": 0,
             "ticks": ""
            },
            "type": "mesh3d"
           }
          ],
          "parcoords": [
           {
            "line": {
             "colorbar": {
              "outlinewidth": 0,
              "ticks": ""
             }
            },
            "type": "parcoords"
           }
          ],
          "pie": [
           {
            "automargin": true,
            "type": "pie"
           }
          ],
          "scatter": [
           {
            "marker": {
             "colorbar": {
              "outlinewidth": 0,
              "ticks": ""
             }
            },
            "type": "scatter"
           }
          ],
          "scatter3d": [
           {
            "line": {
             "colorbar": {
              "outlinewidth": 0,
              "ticks": ""
             }
            },
            "marker": {
             "colorbar": {
              "outlinewidth": 0,
              "ticks": ""
             }
            },
            "type": "scatter3d"
           }
          ],
          "scattercarpet": [
           {
            "marker": {
             "colorbar": {
              "outlinewidth": 0,
              "ticks": ""
             }
            },
            "type": "scattercarpet"
           }
          ],
          "scattergeo": [
           {
            "marker": {
             "colorbar": {
              "outlinewidth": 0,
              "ticks": ""
             }
            },
            "type": "scattergeo"
           }
          ],
          "scattergl": [
           {
            "marker": {
             "colorbar": {
              "outlinewidth": 0,
              "ticks": ""
             }
            },
            "type": "scattergl"
           }
          ],
          "scattermapbox": [
           {
            "marker": {
             "colorbar": {
              "outlinewidth": 0,
              "ticks": ""
             }
            },
            "type": "scattermapbox"
           }
          ],
          "scatterpolar": [
           {
            "marker": {
             "colorbar": {
              "outlinewidth": 0,
              "ticks": ""
             }
            },
            "type": "scatterpolar"
           }
          ],
          "scatterpolargl": [
           {
            "marker": {
             "colorbar": {
              "outlinewidth": 0,
              "ticks": ""
             }
            },
            "type": "scatterpolargl"
           }
          ],
          "scatterternary": [
           {
            "marker": {
             "colorbar": {
              "outlinewidth": 0,
              "ticks": ""
             }
            },
            "type": "scatterternary"
           }
          ],
          "surface": [
           {
            "colorbar": {
             "outlinewidth": 0,
             "ticks": ""
            },
            "colorscale": [
             [
              0,
              "#0d0887"
             ],
             [
              0.1111111111111111,
              "#46039f"
             ],
             [
              0.2222222222222222,
              "#7201a8"
             ],
             [
              0.3333333333333333,
              "#9c179e"
             ],
             [
              0.4444444444444444,
              "#bd3786"
             ],
             [
              0.5555555555555556,
              "#d8576b"
             ],
             [
              0.6666666666666666,
              "#ed7953"
             ],
             [
              0.7777777777777778,
              "#fb9f3a"
             ],
             [
              0.8888888888888888,
              "#fdca26"
             ],
             [
              1,
              "#f0f921"
             ]
            ],
            "type": "surface"
           }
          ],
          "table": [
           {
            "cells": {
             "fill": {
              "color": "#EBF0F8"
             },
             "line": {
              "color": "white"
             }
            },
            "header": {
             "fill": {
              "color": "#C8D4E3"
             },
             "line": {
              "color": "white"
             }
            },
            "type": "table"
           }
          ]
         },
         "layout": {
          "annotationdefaults": {
           "arrowcolor": "#2a3f5f",
           "arrowhead": 0,
           "arrowwidth": 1
          },
          "coloraxis": {
           "colorbar": {
            "outlinewidth": 0,
            "ticks": ""
           }
          },
          "colorscale": {
           "diverging": [
            [
             0,
             "#8e0152"
            ],
            [
             0.1,
             "#c51b7d"
            ],
            [
             0.2,
             "#de77ae"
            ],
            [
             0.3,
             "#f1b6da"
            ],
            [
             0.4,
             "#fde0ef"
            ],
            [
             0.5,
             "#f7f7f7"
            ],
            [
             0.6,
             "#e6f5d0"
            ],
            [
             0.7,
             "#b8e186"
            ],
            [
             0.8,
             "#7fbc41"
            ],
            [
             0.9,
             "#4d9221"
            ],
            [
             1,
             "#276419"
            ]
           ],
           "sequential": [
            [
             0,
             "#0d0887"
            ],
            [
             0.1111111111111111,
             "#46039f"
            ],
            [
             0.2222222222222222,
             "#7201a8"
            ],
            [
             0.3333333333333333,
             "#9c179e"
            ],
            [
             0.4444444444444444,
             "#bd3786"
            ],
            [
             0.5555555555555556,
             "#d8576b"
            ],
            [
             0.6666666666666666,
             "#ed7953"
            ],
            [
             0.7777777777777778,
             "#fb9f3a"
            ],
            [
             0.8888888888888888,
             "#fdca26"
            ],
            [
             1,
             "#f0f921"
            ]
           ],
           "sequentialminus": [
            [
             0,
             "#0d0887"
            ],
            [
             0.1111111111111111,
             "#46039f"
            ],
            [
             0.2222222222222222,
             "#7201a8"
            ],
            [
             0.3333333333333333,
             "#9c179e"
            ],
            [
             0.4444444444444444,
             "#bd3786"
            ],
            [
             0.5555555555555556,
             "#d8576b"
            ],
            [
             0.6666666666666666,
             "#ed7953"
            ],
            [
             0.7777777777777778,
             "#fb9f3a"
            ],
            [
             0.8888888888888888,
             "#fdca26"
            ],
            [
             1,
             "#f0f921"
            ]
           ]
          },
          "colorway": [
           "#636efa",
           "#EF553B",
           "#00cc96",
           "#ab63fa",
           "#FFA15A",
           "#19d3f3",
           "#FF6692",
           "#B6E880",
           "#FF97FF",
           "#FECB52"
          ],
          "font": {
           "color": "#2a3f5f"
          },
          "geo": {
           "bgcolor": "white",
           "lakecolor": "white",
           "landcolor": "#E5ECF6",
           "showlakes": true,
           "showland": true,
           "subunitcolor": "white"
          },
          "hoverlabel": {
           "align": "left"
          },
          "hovermode": "closest",
          "mapbox": {
           "style": "light"
          },
          "paper_bgcolor": "white",
          "plot_bgcolor": "#E5ECF6",
          "polar": {
           "angularaxis": {
            "gridcolor": "white",
            "linecolor": "white",
            "ticks": ""
           },
           "bgcolor": "#E5ECF6",
           "radialaxis": {
            "gridcolor": "white",
            "linecolor": "white",
            "ticks": ""
           }
          },
          "scene": {
           "xaxis": {
            "backgroundcolor": "#E5ECF6",
            "gridcolor": "white",
            "gridwidth": 2,
            "linecolor": "white",
            "showbackground": true,
            "ticks": "",
            "zerolinecolor": "white"
           },
           "yaxis": {
            "backgroundcolor": "#E5ECF6",
            "gridcolor": "white",
            "gridwidth": 2,
            "linecolor": "white",
            "showbackground": true,
            "ticks": "",
            "zerolinecolor": "white"
           },
           "zaxis": {
            "backgroundcolor": "#E5ECF6",
            "gridcolor": "white",
            "gridwidth": 2,
            "linecolor": "white",
            "showbackground": true,
            "ticks": "",
            "zerolinecolor": "white"
           }
          },
          "shapedefaults": {
           "line": {
            "color": "#2a3f5f"
           }
          },
          "ternary": {
           "aaxis": {
            "gridcolor": "white",
            "linecolor": "white",
            "ticks": ""
           },
           "baxis": {
            "gridcolor": "white",
            "linecolor": "white",
            "ticks": ""
           },
           "bgcolor": "#E5ECF6",
           "caxis": {
            "gridcolor": "white",
            "linecolor": "white",
            "ticks": ""
           }
          },
          "title": {
           "x": 0.05
          },
          "xaxis": {
           "automargin": true,
           "gridcolor": "white",
           "linecolor": "white",
           "ticks": "",
           "title": {
            "standoff": 15
           },
           "zerolinecolor": "white",
           "zerolinewidth": 2
          },
          "yaxis": {
           "automargin": true,
           "gridcolor": "white",
           "linecolor": "white",
           "ticks": "",
           "title": {
            "standoff": 15
           },
           "zerolinecolor": "white",
           "zerolinewidth": 2
          }
         }
        },
        "xaxis": {
         "categoryorder": "total descending"
        }
       }
      },
      "text/html": [
       "<div>                            <div id=\"bd35f50b-bae0-4f35-9779-35910656a8f6\" class=\"plotly-graph-div\" style=\"height:525px; width:100%;\"></div>            <script type=\"text/javascript\">                require([\"plotly\"], function(Plotly) {                    window.PLOTLYENV=window.PLOTLYENV || {};                                    if (document.getElementById(\"bd35f50b-bae0-4f35-9779-35910656a8f6\")) {                    Plotly.newPlot(                        \"bd35f50b-bae0-4f35-9779-35910656a8f6\",                        [{\"textposition\": \"auto\", \"type\": \"bar\", \"x\": [\"First-Line Supervisors of Non-Retail Sales Workers\", \"First-Line Supervisors of Landscaping, Lawn Service, and Groundskeeping Workers\", \"Title Examiners, Abstractors, and Searchers\", \"First-Line Supervisors of Housekeeping and Janitorial Workers\", \"First-Line Supervisors of Retail Sales Workers\", \"Exercise Physiologists\", \"Pharmacists\", \"Hotel, Motel, and Resort Desk Clerks\", \"Bill and Account Collectors\", \"Tutors\", \"Special Education Teachers, Middle School\", \"Receptionists and Information Clerks\", \"Special Education Teachers, Secondary School\", \"Special Education Teachers, Preschool\", \"Tax Examiners and Collectors, and Revenue Agents\", \"Industrial-Organizational Psychologists\", \"Mathematicians\", \"Statisticians\", \"Sales Representatives, Wholesale and Manufacturing, Except Technical and Scientific Products\", \"Insurance Underwriters\", \"Interviewers, Except Eligibility and Loan\", \"Compensation, Benefits, and Job Analysis Specialists\", \"Obstetricians and Gynecologists\", \"Operations Research Analysts\", \"Customer Service Representatives\", \"Environmental Science and Protection Technicians, Including Health\", \"Dietitians and Nutritionists\", \"Hosts and Hostesses, Restaurant, Lounge, and Coffee Shop\", \"Middle School Teachers, Except Special and Career/Technical Education\", \"Signal and Track Switch Repairers\"], \"y\": [0.9345955638335592, 0.8488084392463141, 0.8285000373698931, 0.7562066650199377, 0.7103145477971187, 0.7034195905915452, 0.6535829375064499, 0.5974702318671684, 0.591359654560247, 0.5639798865046691]}],                        {\"barmode\": \"stack\", \"template\": {\"data\": {\"bar\": [{\"error_x\": {\"color\": \"#2a3f5f\"}, \"error_y\": {\"color\": \"#2a3f5f\"}, \"marker\": {\"line\": {\"color\": \"#E5ECF6\", \"width\": 0.5}}, \"type\": \"bar\"}], \"barpolar\": [{\"marker\": {\"line\": {\"color\": \"#E5ECF6\", \"width\": 0.5}}, \"type\": \"barpolar\"}], \"carpet\": [{\"aaxis\": {\"endlinecolor\": \"#2a3f5f\", \"gridcolor\": \"white\", \"linecolor\": \"white\", \"minorgridcolor\": \"white\", \"startlinecolor\": \"#2a3f5f\"}, \"baxis\": {\"endlinecolor\": \"#2a3f5f\", \"gridcolor\": \"white\", \"linecolor\": \"white\", \"minorgridcolor\": \"white\", \"startlinecolor\": \"#2a3f5f\"}, \"type\": \"carpet\"}], \"choropleth\": [{\"colorbar\": {\"outlinewidth\": 0, \"ticks\": \"\"}, \"type\": \"choropleth\"}], \"contour\": [{\"colorbar\": {\"outlinewidth\": 0, \"ticks\": \"\"}, \"colorscale\": [[0.0, \"#0d0887\"], [0.1111111111111111, \"#46039f\"], [0.2222222222222222, \"#7201a8\"], [0.3333333333333333, \"#9c179e\"], [0.4444444444444444, \"#bd3786\"], [0.5555555555555556, \"#d8576b\"], [0.6666666666666666, \"#ed7953\"], [0.7777777777777778, \"#fb9f3a\"], [0.8888888888888888, \"#fdca26\"], [1.0, \"#f0f921\"]], \"type\": \"contour\"}], \"contourcarpet\": [{\"colorbar\": {\"outlinewidth\": 0, \"ticks\": \"\"}, \"type\": \"contourcarpet\"}], \"heatmap\": [{\"colorbar\": {\"outlinewidth\": 0, \"ticks\": \"\"}, \"colorscale\": [[0.0, \"#0d0887\"], [0.1111111111111111, \"#46039f\"], [0.2222222222222222, \"#7201a8\"], [0.3333333333333333, \"#9c179e\"], [0.4444444444444444, \"#bd3786\"], [0.5555555555555556, \"#d8576b\"], [0.6666666666666666, \"#ed7953\"], [0.7777777777777778, \"#fb9f3a\"], [0.8888888888888888, \"#fdca26\"], [1.0, \"#f0f921\"]], \"type\": \"heatmap\"}], \"heatmapgl\": [{\"colorbar\": {\"outlinewidth\": 0, \"ticks\": \"\"}, \"colorscale\": [[0.0, \"#0d0887\"], [0.1111111111111111, \"#46039f\"], [0.2222222222222222, \"#7201a8\"], [0.3333333333333333, \"#9c179e\"], [0.4444444444444444, \"#bd3786\"], [0.5555555555555556, \"#d8576b\"], [0.6666666666666666, \"#ed7953\"], [0.7777777777777778, \"#fb9f3a\"], [0.8888888888888888, \"#fdca26\"], [1.0, \"#f0f921\"]], \"type\": \"heatmapgl\"}], \"histogram\": [{\"marker\": {\"colorbar\": {\"outlinewidth\": 0, \"ticks\": \"\"}}, \"type\": \"histogram\"}], \"histogram2d\": [{\"colorbar\": {\"outlinewidth\": 0, \"ticks\": \"\"}, \"colorscale\": [[0.0, \"#0d0887\"], [0.1111111111111111, \"#46039f\"], [0.2222222222222222, \"#7201a8\"], [0.3333333333333333, \"#9c179e\"], [0.4444444444444444, \"#bd3786\"], [0.5555555555555556, \"#d8576b\"], [0.6666666666666666, \"#ed7953\"], [0.7777777777777778, \"#fb9f3a\"], [0.8888888888888888, \"#fdca26\"], [1.0, \"#f0f921\"]], \"type\": \"histogram2d\"}], \"histogram2dcontour\": [{\"colorbar\": {\"outlinewidth\": 0, \"ticks\": \"\"}, \"colorscale\": [[0.0, \"#0d0887\"], [0.1111111111111111, \"#46039f\"], [0.2222222222222222, \"#7201a8\"], [0.3333333333333333, \"#9c179e\"], [0.4444444444444444, \"#bd3786\"], [0.5555555555555556, \"#d8576b\"], [0.6666666666666666, \"#ed7953\"], [0.7777777777777778, \"#fb9f3a\"], [0.8888888888888888, \"#fdca26\"], [1.0, \"#f0f921\"]], \"type\": \"histogram2dcontour\"}], \"mesh3d\": [{\"colorbar\": {\"outlinewidth\": 0, \"ticks\": \"\"}, \"type\": \"mesh3d\"}], \"parcoords\": [{\"line\": {\"colorbar\": {\"outlinewidth\": 0, \"ticks\": \"\"}}, \"type\": \"parcoords\"}], \"pie\": [{\"automargin\": true, \"type\": \"pie\"}], \"scatter\": [{\"marker\": {\"colorbar\": {\"outlinewidth\": 0, \"ticks\": \"\"}}, \"type\": \"scatter\"}], \"scatter3d\": [{\"line\": {\"colorbar\": {\"outlinewidth\": 0, \"ticks\": \"\"}}, \"marker\": {\"colorbar\": {\"outlinewidth\": 0, \"ticks\": \"\"}}, \"type\": \"scatter3d\"}], \"scattercarpet\": [{\"marker\": {\"colorbar\": {\"outlinewidth\": 0, \"ticks\": \"\"}}, \"type\": \"scattercarpet\"}], \"scattergeo\": [{\"marker\": {\"colorbar\": {\"outlinewidth\": 0, \"ticks\": \"\"}}, \"type\": \"scattergeo\"}], \"scattergl\": [{\"marker\": {\"colorbar\": {\"outlinewidth\": 0, \"ticks\": \"\"}}, \"type\": \"scattergl\"}], \"scattermapbox\": [{\"marker\": {\"colorbar\": {\"outlinewidth\": 0, \"ticks\": \"\"}}, \"type\": \"scattermapbox\"}], \"scatterpolar\": [{\"marker\": {\"colorbar\": {\"outlinewidth\": 0, \"ticks\": \"\"}}, \"type\": \"scatterpolar\"}], \"scatterpolargl\": [{\"marker\": {\"colorbar\": {\"outlinewidth\": 0, \"ticks\": \"\"}}, \"type\": \"scatterpolargl\"}], \"scatterternary\": [{\"marker\": {\"colorbar\": {\"outlinewidth\": 0, \"ticks\": \"\"}}, \"type\": \"scatterternary\"}], \"surface\": [{\"colorbar\": {\"outlinewidth\": 0, \"ticks\": \"\"}, \"colorscale\": [[0.0, \"#0d0887\"], [0.1111111111111111, \"#46039f\"], [0.2222222222222222, \"#7201a8\"], [0.3333333333333333, \"#9c179e\"], [0.4444444444444444, \"#bd3786\"], [0.5555555555555556, \"#d8576b\"], [0.6666666666666666, \"#ed7953\"], [0.7777777777777778, \"#fb9f3a\"], [0.8888888888888888, \"#fdca26\"], [1.0, \"#f0f921\"]], \"type\": \"surface\"}], \"table\": [{\"cells\": {\"fill\": {\"color\": \"#EBF0F8\"}, \"line\": {\"color\": \"white\"}}, \"header\": {\"fill\": {\"color\": \"#C8D4E3\"}, \"line\": {\"color\": \"white\"}}, \"type\": \"table\"}]}, \"layout\": {\"annotationdefaults\": {\"arrowcolor\": \"#2a3f5f\", \"arrowhead\": 0, \"arrowwidth\": 1}, \"coloraxis\": {\"colorbar\": {\"outlinewidth\": 0, \"ticks\": \"\"}}, \"colorscale\": {\"diverging\": [[0, \"#8e0152\"], [0.1, \"#c51b7d\"], [0.2, \"#de77ae\"], [0.3, \"#f1b6da\"], [0.4, \"#fde0ef\"], [0.5, \"#f7f7f7\"], [0.6, \"#e6f5d0\"], [0.7, \"#b8e186\"], [0.8, \"#7fbc41\"], [0.9, \"#4d9221\"], [1, \"#276419\"]], \"sequential\": [[0.0, \"#0d0887\"], [0.1111111111111111, \"#46039f\"], [0.2222222222222222, \"#7201a8\"], [0.3333333333333333, \"#9c179e\"], [0.4444444444444444, \"#bd3786\"], [0.5555555555555556, \"#d8576b\"], [0.6666666666666666, \"#ed7953\"], [0.7777777777777778, \"#fb9f3a\"], [0.8888888888888888, \"#fdca26\"], [1.0, \"#f0f921\"]], \"sequentialminus\": [[0.0, \"#0d0887\"], [0.1111111111111111, \"#46039f\"], [0.2222222222222222, \"#7201a8\"], [0.3333333333333333, \"#9c179e\"], [0.4444444444444444, \"#bd3786\"], [0.5555555555555556, \"#d8576b\"], [0.6666666666666666, \"#ed7953\"], [0.7777777777777778, \"#fb9f3a\"], [0.8888888888888888, \"#fdca26\"], [1.0, \"#f0f921\"]]}, \"colorway\": [\"#636efa\", \"#EF553B\", \"#00cc96\", \"#ab63fa\", \"#FFA15A\", \"#19d3f3\", \"#FF6692\", \"#B6E880\", \"#FF97FF\", \"#FECB52\"], \"font\": {\"color\": \"#2a3f5f\"}, \"geo\": {\"bgcolor\": \"white\", \"lakecolor\": \"white\", \"landcolor\": \"#E5ECF6\", \"showlakes\": true, \"showland\": true, \"subunitcolor\": \"white\"}, \"hoverlabel\": {\"align\": \"left\"}, \"hovermode\": \"closest\", \"mapbox\": {\"style\": \"light\"}, \"paper_bgcolor\": \"white\", \"plot_bgcolor\": \"#E5ECF6\", \"polar\": {\"angularaxis\": {\"gridcolor\": \"white\", \"linecolor\": \"white\", \"ticks\": \"\"}, \"bgcolor\": \"#E5ECF6\", \"radialaxis\": {\"gridcolor\": \"white\", \"linecolor\": \"white\", \"ticks\": \"\"}}, \"scene\": {\"xaxis\": {\"backgroundcolor\": \"#E5ECF6\", \"gridcolor\": \"white\", \"gridwidth\": 2, \"linecolor\": \"white\", \"showbackground\": true, \"ticks\": \"\", \"zerolinecolor\": \"white\"}, \"yaxis\": {\"backgroundcolor\": \"#E5ECF6\", \"gridcolor\": \"white\", \"gridwidth\": 2, \"linecolor\": \"white\", \"showbackground\": true, \"ticks\": \"\", \"zerolinecolor\": \"white\"}, \"zaxis\": {\"backgroundcolor\": \"#E5ECF6\", \"gridcolor\": \"white\", \"gridwidth\": 2, \"linecolor\": \"white\", \"showbackground\": true, \"ticks\": \"\", \"zerolinecolor\": \"white\"}}, \"shapedefaults\": {\"line\": {\"color\": \"#2a3f5f\"}}, \"ternary\": {\"aaxis\": {\"gridcolor\": \"white\", \"linecolor\": \"white\", \"ticks\": \"\"}, \"baxis\": {\"gridcolor\": \"white\", \"linecolor\": \"white\", \"ticks\": \"\"}, \"bgcolor\": \"#E5ECF6\", \"caxis\": {\"gridcolor\": \"white\", \"linecolor\": \"white\", \"ticks\": \"\"}}, \"title\": {\"x\": 0.05}, \"xaxis\": {\"automargin\": true, \"gridcolor\": \"white\", \"linecolor\": \"white\", \"ticks\": \"\", \"title\": {\"standoff\": 15}, \"zerolinecolor\": \"white\", \"zerolinewidth\": 2}, \"yaxis\": {\"automargin\": true, \"gridcolor\": \"white\", \"linecolor\": \"white\", \"ticks\": \"\", \"title\": {\"standoff\": 15}, \"zerolinecolor\": \"white\", \"zerolinewidth\": 2}}}, \"xaxis\": {\"categoryorder\": \"total descending\"}},                        {\"responsive\": true}                    ).then(function(){\n",
       "                            \n",
       "var gd = document.getElementById('bd35f50b-bae0-4f35-9779-35910656a8f6');\n",
       "var x = new MutationObserver(function (mutations, observer) {{\n",
       "        var display = window.getComputedStyle(gd).display;\n",
       "        if (!display || display === 'none') {{\n",
       "            console.log([gd, 'removed!']);\n",
       "            Plotly.purge(gd);\n",
       "            observer.disconnect();\n",
       "        }}\n",
       "}});\n",
       "\n",
       "// Listen for the removal of the full notebook cells\n",
       "var notebookContainer = gd.closest('#notebook-container');\n",
       "if (notebookContainer) {{\n",
       "    x.observe(notebookContainer, {childList: true});\n",
       "}}\n",
       "\n",
       "// Listen for the clearing of the current output cell\n",
       "var outputEl = gd.closest('.output');\n",
       "if (outputEl) {{\n",
       "    x.observe(outputEl, {childList: true});\n",
       "}}\n",
       "\n",
       "                        })                };                });            </script>        </div>"
      ]
     },
     "metadata": {},
     "output_type": "display_data"
    }
   ],
   "source": [
    "distribution(occ_skills)"
   ]
  },
  {
   "cell_type": "code",
   "execution_count": 106,
   "metadata": {},
   "outputs": [
    {
     "data": {
      "application/vnd.plotly.v1+json": {
       "config": {
        "plotlyServerURL": "https://plot.ly"
       },
       "data": [
        {
         "textposition": "auto",
         "type": "bar",
         "x": [
          "Occupational Therapists",
          "Title Examiners, Abstractors, and Searchers",
          "Plasterers and Stucco Masons",
          "Chief Executives",
          "First-Line Supervisors of Retail Sales Workers",
          "Cement Masons and Concrete Finishers",
          "Registered Nurses",
          "Nurse Practitioners",
          "Nurse Midwives",
          "Statisticians",
          "Optometrists",
          "Brickmasons and Blockmasons",
          "Physical Therapists",
          "Sales Representatives, Wholesale and Manufacturing, Except Technical and Scientific Products",
          "Food Servers, Nonrestaurant",
          "Respiratory Therapists",
          "Physical Therapist Aides",
          "Postal Service Mail Carriers",
          "Bill and Account Collectors",
          "File Clerks",
          "Kindergarten Teachers, Except Special Education",
          "Mathematicians",
          "Mental Health and Substance Abuse Social Workers",
          "Child, Family, and School Social Workers",
          "Janitors and Cleaners, Except Maids and Housekeeping Cleaners",
          "Occupational Therapy Aides",
          "Food Science Technicians",
          "Maids and Housekeeping Cleaners",
          "Food Preparation Workers",
          "Painters, Construction and Maintenance"
         ],
         "y": [
          0.8319753814184264,
          0.8230568161448473,
          0.8206238372160659,
          0.7875746242881123,
          0.7726843415325609,
          0.7149509471226229,
          0.6652510485593486,
          0.6557295809615358,
          0.6557295809615357,
          0.6390365108038472
         ]
        }
       ],
       "layout": {
        "barmode": "stack",
        "template": {
         "data": {
          "bar": [
           {
            "error_x": {
             "color": "#2a3f5f"
            },
            "error_y": {
             "color": "#2a3f5f"
            },
            "marker": {
             "line": {
              "color": "#E5ECF6",
              "width": 0.5
             }
            },
            "type": "bar"
           }
          ],
          "barpolar": [
           {
            "marker": {
             "line": {
              "color": "#E5ECF6",
              "width": 0.5
             }
            },
            "type": "barpolar"
           }
          ],
          "carpet": [
           {
            "aaxis": {
             "endlinecolor": "#2a3f5f",
             "gridcolor": "white",
             "linecolor": "white",
             "minorgridcolor": "white",
             "startlinecolor": "#2a3f5f"
            },
            "baxis": {
             "endlinecolor": "#2a3f5f",
             "gridcolor": "white",
             "linecolor": "white",
             "minorgridcolor": "white",
             "startlinecolor": "#2a3f5f"
            },
            "type": "carpet"
           }
          ],
          "choropleth": [
           {
            "colorbar": {
             "outlinewidth": 0,
             "ticks": ""
            },
            "type": "choropleth"
           }
          ],
          "contour": [
           {
            "colorbar": {
             "outlinewidth": 0,
             "ticks": ""
            },
            "colorscale": [
             [
              0,
              "#0d0887"
             ],
             [
              0.1111111111111111,
              "#46039f"
             ],
             [
              0.2222222222222222,
              "#7201a8"
             ],
             [
              0.3333333333333333,
              "#9c179e"
             ],
             [
              0.4444444444444444,
              "#bd3786"
             ],
             [
              0.5555555555555556,
              "#d8576b"
             ],
             [
              0.6666666666666666,
              "#ed7953"
             ],
             [
              0.7777777777777778,
              "#fb9f3a"
             ],
             [
              0.8888888888888888,
              "#fdca26"
             ],
             [
              1,
              "#f0f921"
             ]
            ],
            "type": "contour"
           }
          ],
          "contourcarpet": [
           {
            "colorbar": {
             "outlinewidth": 0,
             "ticks": ""
            },
            "type": "contourcarpet"
           }
          ],
          "heatmap": [
           {
            "colorbar": {
             "outlinewidth": 0,
             "ticks": ""
            },
            "colorscale": [
             [
              0,
              "#0d0887"
             ],
             [
              0.1111111111111111,
              "#46039f"
             ],
             [
              0.2222222222222222,
              "#7201a8"
             ],
             [
              0.3333333333333333,
              "#9c179e"
             ],
             [
              0.4444444444444444,
              "#bd3786"
             ],
             [
              0.5555555555555556,
              "#d8576b"
             ],
             [
              0.6666666666666666,
              "#ed7953"
             ],
             [
              0.7777777777777778,
              "#fb9f3a"
             ],
             [
              0.8888888888888888,
              "#fdca26"
             ],
             [
              1,
              "#f0f921"
             ]
            ],
            "type": "heatmap"
           }
          ],
          "heatmapgl": [
           {
            "colorbar": {
             "outlinewidth": 0,
             "ticks": ""
            },
            "colorscale": [
             [
              0,
              "#0d0887"
             ],
             [
              0.1111111111111111,
              "#46039f"
             ],
             [
              0.2222222222222222,
              "#7201a8"
             ],
             [
              0.3333333333333333,
              "#9c179e"
             ],
             [
              0.4444444444444444,
              "#bd3786"
             ],
             [
              0.5555555555555556,
              "#d8576b"
             ],
             [
              0.6666666666666666,
              "#ed7953"
             ],
             [
              0.7777777777777778,
              "#fb9f3a"
             ],
             [
              0.8888888888888888,
              "#fdca26"
             ],
             [
              1,
              "#f0f921"
             ]
            ],
            "type": "heatmapgl"
           }
          ],
          "histogram": [
           {
            "marker": {
             "colorbar": {
              "outlinewidth": 0,
              "ticks": ""
             }
            },
            "type": "histogram"
           }
          ],
          "histogram2d": [
           {
            "colorbar": {
             "outlinewidth": 0,
             "ticks": ""
            },
            "colorscale": [
             [
              0,
              "#0d0887"
             ],
             [
              0.1111111111111111,
              "#46039f"
             ],
             [
              0.2222222222222222,
              "#7201a8"
             ],
             [
              0.3333333333333333,
              "#9c179e"
             ],
             [
              0.4444444444444444,
              "#bd3786"
             ],
             [
              0.5555555555555556,
              "#d8576b"
             ],
             [
              0.6666666666666666,
              "#ed7953"
             ],
             [
              0.7777777777777778,
              "#fb9f3a"
             ],
             [
              0.8888888888888888,
              "#fdca26"
             ],
             [
              1,
              "#f0f921"
             ]
            ],
            "type": "histogram2d"
           }
          ],
          "histogram2dcontour": [
           {
            "colorbar": {
             "outlinewidth": 0,
             "ticks": ""
            },
            "colorscale": [
             [
              0,
              "#0d0887"
             ],
             [
              0.1111111111111111,
              "#46039f"
             ],
             [
              0.2222222222222222,
              "#7201a8"
             ],
             [
              0.3333333333333333,
              "#9c179e"
             ],
             [
              0.4444444444444444,
              "#bd3786"
             ],
             [
              0.5555555555555556,
              "#d8576b"
             ],
             [
              0.6666666666666666,
              "#ed7953"
             ],
             [
              0.7777777777777778,
              "#fb9f3a"
             ],
             [
              0.8888888888888888,
              "#fdca26"
             ],
             [
              1,
              "#f0f921"
             ]
            ],
            "type": "histogram2dcontour"
           }
          ],
          "mesh3d": [
           {
            "colorbar": {
             "outlinewidth": 0,
             "ticks": ""
            },
            "type": "mesh3d"
           }
          ],
          "parcoords": [
           {
            "line": {
             "colorbar": {
              "outlinewidth": 0,
              "ticks": ""
             }
            },
            "type": "parcoords"
           }
          ],
          "pie": [
           {
            "automargin": true,
            "type": "pie"
           }
          ],
          "scatter": [
           {
            "marker": {
             "colorbar": {
              "outlinewidth": 0,
              "ticks": ""
             }
            },
            "type": "scatter"
           }
          ],
          "scatter3d": [
           {
            "line": {
             "colorbar": {
              "outlinewidth": 0,
              "ticks": ""
             }
            },
            "marker": {
             "colorbar": {
              "outlinewidth": 0,
              "ticks": ""
             }
            },
            "type": "scatter3d"
           }
          ],
          "scattercarpet": [
           {
            "marker": {
             "colorbar": {
              "outlinewidth": 0,
              "ticks": ""
             }
            },
            "type": "scattercarpet"
           }
          ],
          "scattergeo": [
           {
            "marker": {
             "colorbar": {
              "outlinewidth": 0,
              "ticks": ""
             }
            },
            "type": "scattergeo"
           }
          ],
          "scattergl": [
           {
            "marker": {
             "colorbar": {
              "outlinewidth": 0,
              "ticks": ""
             }
            },
            "type": "scattergl"
           }
          ],
          "scattermapbox": [
           {
            "marker": {
             "colorbar": {
              "outlinewidth": 0,
              "ticks": ""
             }
            },
            "type": "scattermapbox"
           }
          ],
          "scatterpolar": [
           {
            "marker": {
             "colorbar": {
              "outlinewidth": 0,
              "ticks": ""
             }
            },
            "type": "scatterpolar"
           }
          ],
          "scatterpolargl": [
           {
            "marker": {
             "colorbar": {
              "outlinewidth": 0,
              "ticks": ""
             }
            },
            "type": "scatterpolargl"
           }
          ],
          "scatterternary": [
           {
            "marker": {
             "colorbar": {
              "outlinewidth": 0,
              "ticks": ""
             }
            },
            "type": "scatterternary"
           }
          ],
          "surface": [
           {
            "colorbar": {
             "outlinewidth": 0,
             "ticks": ""
            },
            "colorscale": [
             [
              0,
              "#0d0887"
             ],
             [
              0.1111111111111111,
              "#46039f"
             ],
             [
              0.2222222222222222,
              "#7201a8"
             ],
             [
              0.3333333333333333,
              "#9c179e"
             ],
             [
              0.4444444444444444,
              "#bd3786"
             ],
             [
              0.5555555555555556,
              "#d8576b"
             ],
             [
              0.6666666666666666,
              "#ed7953"
             ],
             [
              0.7777777777777778,
              "#fb9f3a"
             ],
             [
              0.8888888888888888,
              "#fdca26"
             ],
             [
              1,
              "#f0f921"
             ]
            ],
            "type": "surface"
           }
          ],
          "table": [
           {
            "cells": {
             "fill": {
              "color": "#EBF0F8"
             },
             "line": {
              "color": "white"
             }
            },
            "header": {
             "fill": {
              "color": "#C8D4E3"
             },
             "line": {
              "color": "white"
             }
            },
            "type": "table"
           }
          ]
         },
         "layout": {
          "annotationdefaults": {
           "arrowcolor": "#2a3f5f",
           "arrowhead": 0,
           "arrowwidth": 1
          },
          "coloraxis": {
           "colorbar": {
            "outlinewidth": 0,
            "ticks": ""
           }
          },
          "colorscale": {
           "diverging": [
            [
             0,
             "#8e0152"
            ],
            [
             0.1,
             "#c51b7d"
            ],
            [
             0.2,
             "#de77ae"
            ],
            [
             0.3,
             "#f1b6da"
            ],
            [
             0.4,
             "#fde0ef"
            ],
            [
             0.5,
             "#f7f7f7"
            ],
            [
             0.6,
             "#e6f5d0"
            ],
            [
             0.7,
             "#b8e186"
            ],
            [
             0.8,
             "#7fbc41"
            ],
            [
             0.9,
             "#4d9221"
            ],
            [
             1,
             "#276419"
            ]
           ],
           "sequential": [
            [
             0,
             "#0d0887"
            ],
            [
             0.1111111111111111,
             "#46039f"
            ],
            [
             0.2222222222222222,
             "#7201a8"
            ],
            [
             0.3333333333333333,
             "#9c179e"
            ],
            [
             0.4444444444444444,
             "#bd3786"
            ],
            [
             0.5555555555555556,
             "#d8576b"
            ],
            [
             0.6666666666666666,
             "#ed7953"
            ],
            [
             0.7777777777777778,
             "#fb9f3a"
            ],
            [
             0.8888888888888888,
             "#fdca26"
            ],
            [
             1,
             "#f0f921"
            ]
           ],
           "sequentialminus": [
            [
             0,
             "#0d0887"
            ],
            [
             0.1111111111111111,
             "#46039f"
            ],
            [
             0.2222222222222222,
             "#7201a8"
            ],
            [
             0.3333333333333333,
             "#9c179e"
            ],
            [
             0.4444444444444444,
             "#bd3786"
            ],
            [
             0.5555555555555556,
             "#d8576b"
            ],
            [
             0.6666666666666666,
             "#ed7953"
            ],
            [
             0.7777777777777778,
             "#fb9f3a"
            ],
            [
             0.8888888888888888,
             "#fdca26"
            ],
            [
             1,
             "#f0f921"
            ]
           ]
          },
          "colorway": [
           "#636efa",
           "#EF553B",
           "#00cc96",
           "#ab63fa",
           "#FFA15A",
           "#19d3f3",
           "#FF6692",
           "#B6E880",
           "#FF97FF",
           "#FECB52"
          ],
          "font": {
           "color": "#2a3f5f"
          },
          "geo": {
           "bgcolor": "white",
           "lakecolor": "white",
           "landcolor": "#E5ECF6",
           "showlakes": true,
           "showland": true,
           "subunitcolor": "white"
          },
          "hoverlabel": {
           "align": "left"
          },
          "hovermode": "closest",
          "mapbox": {
           "style": "light"
          },
          "paper_bgcolor": "white",
          "plot_bgcolor": "#E5ECF6",
          "polar": {
           "angularaxis": {
            "gridcolor": "white",
            "linecolor": "white",
            "ticks": ""
           },
           "bgcolor": "#E5ECF6",
           "radialaxis": {
            "gridcolor": "white",
            "linecolor": "white",
            "ticks": ""
           }
          },
          "scene": {
           "xaxis": {
            "backgroundcolor": "#E5ECF6",
            "gridcolor": "white",
            "gridwidth": 2,
            "linecolor": "white",
            "showbackground": true,
            "ticks": "",
            "zerolinecolor": "white"
           },
           "yaxis": {
            "backgroundcolor": "#E5ECF6",
            "gridcolor": "white",
            "gridwidth": 2,
            "linecolor": "white",
            "showbackground": true,
            "ticks": "",
            "zerolinecolor": "white"
           },
           "zaxis": {
            "backgroundcolor": "#E5ECF6",
            "gridcolor": "white",
            "gridwidth": 2,
            "linecolor": "white",
            "showbackground": true,
            "ticks": "",
            "zerolinecolor": "white"
           }
          },
          "shapedefaults": {
           "line": {
            "color": "#2a3f5f"
           }
          },
          "ternary": {
           "aaxis": {
            "gridcolor": "white",
            "linecolor": "white",
            "ticks": ""
           },
           "baxis": {
            "gridcolor": "white",
            "linecolor": "white",
            "ticks": ""
           },
           "bgcolor": "#E5ECF6",
           "caxis": {
            "gridcolor": "white",
            "linecolor": "white",
            "ticks": ""
           }
          },
          "title": {
           "x": 0.05
          },
          "xaxis": {
           "automargin": true,
           "gridcolor": "white",
           "linecolor": "white",
           "ticks": "",
           "title": {
            "standoff": 15
           },
           "zerolinecolor": "white",
           "zerolinewidth": 2
          },
          "yaxis": {
           "automargin": true,
           "gridcolor": "white",
           "linecolor": "white",
           "ticks": "",
           "title": {
            "standoff": 15
           },
           "zerolinecolor": "white",
           "zerolinewidth": 2
          }
         }
        },
        "xaxis": {
         "categoryorder": "total descending"
        }
       }
      },
      "text/html": [
       "<div>                            <div id=\"4c2f0e36-4b0b-4e16-8a90-d092d925c647\" class=\"plotly-graph-div\" style=\"height:525px; width:100%;\"></div>            <script type=\"text/javascript\">                require([\"plotly\"], function(Plotly) {                    window.PLOTLYENV=window.PLOTLYENV || {};                                    if (document.getElementById(\"4c2f0e36-4b0b-4e16-8a90-d092d925c647\")) {                    Plotly.newPlot(                        \"4c2f0e36-4b0b-4e16-8a90-d092d925c647\",                        [{\"textposition\": \"auto\", \"type\": \"bar\", \"x\": [\"Occupational Therapists\", \"Title Examiners, Abstractors, and Searchers\", \"Plasterers and Stucco Masons\", \"Chief Executives\", \"First-Line Supervisors of Retail Sales Workers\", \"Cement Masons and Concrete Finishers\", \"Registered Nurses\", \"Nurse Practitioners\", \"Nurse Midwives\", \"Statisticians\", \"Optometrists\", \"Brickmasons and Blockmasons\", \"Physical Therapists\", \"Sales Representatives, Wholesale and Manufacturing, Except Technical and Scientific Products\", \"Food Servers, Nonrestaurant\", \"Respiratory Therapists\", \"Physical Therapist Aides\", \"Postal Service Mail Carriers\", \"Bill and Account Collectors\", \"File Clerks\", \"Kindergarten Teachers, Except Special Education\", \"Mathematicians\", \"Mental Health and Substance Abuse Social Workers\", \"Child, Family, and School Social Workers\", \"Janitors and Cleaners, Except Maids and Housekeeping Cleaners\", \"Occupational Therapy Aides\", \"Food Science Technicians\", \"Maids and Housekeeping Cleaners\", \"Food Preparation Workers\", \"Painters, Construction and Maintenance\"], \"y\": [0.8319753814184264, 0.8230568161448473, 0.8206238372160659, 0.7875746242881123, 0.7726843415325609, 0.7149509471226229, 0.6652510485593486, 0.6557295809615358, 0.6557295809615357, 0.6390365108038472]}],                        {\"barmode\": \"stack\", \"template\": {\"data\": {\"bar\": [{\"error_x\": {\"color\": \"#2a3f5f\"}, \"error_y\": {\"color\": \"#2a3f5f\"}, \"marker\": {\"line\": {\"color\": \"#E5ECF6\", \"width\": 0.5}}, \"type\": \"bar\"}], \"barpolar\": [{\"marker\": {\"line\": {\"color\": \"#E5ECF6\", \"width\": 0.5}}, \"type\": \"barpolar\"}], \"carpet\": [{\"aaxis\": {\"endlinecolor\": \"#2a3f5f\", \"gridcolor\": \"white\", \"linecolor\": \"white\", \"minorgridcolor\": \"white\", \"startlinecolor\": \"#2a3f5f\"}, \"baxis\": {\"endlinecolor\": \"#2a3f5f\", \"gridcolor\": \"white\", \"linecolor\": \"white\", \"minorgridcolor\": \"white\", \"startlinecolor\": \"#2a3f5f\"}, \"type\": \"carpet\"}], \"choropleth\": [{\"colorbar\": {\"outlinewidth\": 0, \"ticks\": \"\"}, \"type\": \"choropleth\"}], \"contour\": [{\"colorbar\": {\"outlinewidth\": 0, \"ticks\": \"\"}, \"colorscale\": [[0.0, \"#0d0887\"], [0.1111111111111111, \"#46039f\"], [0.2222222222222222, \"#7201a8\"], [0.3333333333333333, \"#9c179e\"], [0.4444444444444444, \"#bd3786\"], [0.5555555555555556, \"#d8576b\"], [0.6666666666666666, \"#ed7953\"], [0.7777777777777778, \"#fb9f3a\"], [0.8888888888888888, \"#fdca26\"], [1.0, \"#f0f921\"]], \"type\": \"contour\"}], \"contourcarpet\": [{\"colorbar\": {\"outlinewidth\": 0, \"ticks\": \"\"}, \"type\": \"contourcarpet\"}], \"heatmap\": [{\"colorbar\": {\"outlinewidth\": 0, \"ticks\": \"\"}, \"colorscale\": [[0.0, \"#0d0887\"], [0.1111111111111111, \"#46039f\"], [0.2222222222222222, \"#7201a8\"], [0.3333333333333333, \"#9c179e\"], [0.4444444444444444, \"#bd3786\"], [0.5555555555555556, \"#d8576b\"], [0.6666666666666666, \"#ed7953\"], [0.7777777777777778, \"#fb9f3a\"], [0.8888888888888888, \"#fdca26\"], [1.0, \"#f0f921\"]], \"type\": \"heatmap\"}], \"heatmapgl\": [{\"colorbar\": {\"outlinewidth\": 0, \"ticks\": \"\"}, \"colorscale\": [[0.0, \"#0d0887\"], [0.1111111111111111, \"#46039f\"], [0.2222222222222222, \"#7201a8\"], [0.3333333333333333, \"#9c179e\"], [0.4444444444444444, \"#bd3786\"], [0.5555555555555556, \"#d8576b\"], [0.6666666666666666, \"#ed7953\"], [0.7777777777777778, \"#fb9f3a\"], [0.8888888888888888, \"#fdca26\"], [1.0, \"#f0f921\"]], \"type\": \"heatmapgl\"}], \"histogram\": [{\"marker\": {\"colorbar\": {\"outlinewidth\": 0, \"ticks\": \"\"}}, \"type\": \"histogram\"}], \"histogram2d\": [{\"colorbar\": {\"outlinewidth\": 0, \"ticks\": \"\"}, \"colorscale\": [[0.0, \"#0d0887\"], [0.1111111111111111, \"#46039f\"], [0.2222222222222222, \"#7201a8\"], [0.3333333333333333, \"#9c179e\"], [0.4444444444444444, \"#bd3786\"], [0.5555555555555556, \"#d8576b\"], [0.6666666666666666, \"#ed7953\"], [0.7777777777777778, \"#fb9f3a\"], [0.8888888888888888, \"#fdca26\"], [1.0, \"#f0f921\"]], \"type\": \"histogram2d\"}], \"histogram2dcontour\": [{\"colorbar\": {\"outlinewidth\": 0, \"ticks\": \"\"}, \"colorscale\": [[0.0, \"#0d0887\"], [0.1111111111111111, \"#46039f\"], [0.2222222222222222, \"#7201a8\"], [0.3333333333333333, \"#9c179e\"], [0.4444444444444444, \"#bd3786\"], [0.5555555555555556, \"#d8576b\"], [0.6666666666666666, \"#ed7953\"], [0.7777777777777778, \"#fb9f3a\"], [0.8888888888888888, \"#fdca26\"], [1.0, \"#f0f921\"]], \"type\": \"histogram2dcontour\"}], \"mesh3d\": [{\"colorbar\": {\"outlinewidth\": 0, \"ticks\": \"\"}, \"type\": \"mesh3d\"}], \"parcoords\": [{\"line\": {\"colorbar\": {\"outlinewidth\": 0, \"ticks\": \"\"}}, \"type\": \"parcoords\"}], \"pie\": [{\"automargin\": true, \"type\": \"pie\"}], \"scatter\": [{\"marker\": {\"colorbar\": {\"outlinewidth\": 0, \"ticks\": \"\"}}, \"type\": \"scatter\"}], \"scatter3d\": [{\"line\": {\"colorbar\": {\"outlinewidth\": 0, \"ticks\": \"\"}}, \"marker\": {\"colorbar\": {\"outlinewidth\": 0, \"ticks\": \"\"}}, \"type\": \"scatter3d\"}], \"scattercarpet\": [{\"marker\": {\"colorbar\": {\"outlinewidth\": 0, \"ticks\": \"\"}}, \"type\": \"scattercarpet\"}], \"scattergeo\": [{\"marker\": {\"colorbar\": {\"outlinewidth\": 0, \"ticks\": \"\"}}, \"type\": \"scattergeo\"}], \"scattergl\": [{\"marker\": {\"colorbar\": {\"outlinewidth\": 0, \"ticks\": \"\"}}, \"type\": \"scattergl\"}], \"scattermapbox\": [{\"marker\": {\"colorbar\": {\"outlinewidth\": 0, \"ticks\": \"\"}}, \"type\": \"scattermapbox\"}], \"scatterpolar\": [{\"marker\": {\"colorbar\": {\"outlinewidth\": 0, \"ticks\": \"\"}}, \"type\": \"scatterpolar\"}], \"scatterpolargl\": [{\"marker\": {\"colorbar\": {\"outlinewidth\": 0, \"ticks\": \"\"}}, \"type\": \"scatterpolargl\"}], \"scatterternary\": [{\"marker\": {\"colorbar\": {\"outlinewidth\": 0, \"ticks\": \"\"}}, \"type\": \"scatterternary\"}], \"surface\": [{\"colorbar\": {\"outlinewidth\": 0, \"ticks\": \"\"}, \"colorscale\": [[0.0, \"#0d0887\"], [0.1111111111111111, \"#46039f\"], [0.2222222222222222, \"#7201a8\"], [0.3333333333333333, \"#9c179e\"], [0.4444444444444444, \"#bd3786\"], [0.5555555555555556, \"#d8576b\"], [0.6666666666666666, \"#ed7953\"], [0.7777777777777778, \"#fb9f3a\"], [0.8888888888888888, \"#fdca26\"], [1.0, \"#f0f921\"]], \"type\": \"surface\"}], \"table\": [{\"cells\": {\"fill\": {\"color\": \"#EBF0F8\"}, \"line\": {\"color\": \"white\"}}, \"header\": {\"fill\": {\"color\": \"#C8D4E3\"}, \"line\": {\"color\": \"white\"}}, \"type\": \"table\"}]}, \"layout\": {\"annotationdefaults\": {\"arrowcolor\": \"#2a3f5f\", \"arrowhead\": 0, \"arrowwidth\": 1}, \"coloraxis\": {\"colorbar\": {\"outlinewidth\": 0, \"ticks\": \"\"}}, \"colorscale\": {\"diverging\": [[0, \"#8e0152\"], [0.1, \"#c51b7d\"], [0.2, \"#de77ae\"], [0.3, \"#f1b6da\"], [0.4, \"#fde0ef\"], [0.5, \"#f7f7f7\"], [0.6, \"#e6f5d0\"], [0.7, \"#b8e186\"], [0.8, \"#7fbc41\"], [0.9, \"#4d9221\"], [1, \"#276419\"]], \"sequential\": [[0.0, \"#0d0887\"], [0.1111111111111111, \"#46039f\"], [0.2222222222222222, \"#7201a8\"], [0.3333333333333333, \"#9c179e\"], [0.4444444444444444, \"#bd3786\"], [0.5555555555555556, \"#d8576b\"], [0.6666666666666666, \"#ed7953\"], [0.7777777777777778, \"#fb9f3a\"], [0.8888888888888888, \"#fdca26\"], [1.0, \"#f0f921\"]], \"sequentialminus\": [[0.0, \"#0d0887\"], [0.1111111111111111, \"#46039f\"], [0.2222222222222222, \"#7201a8\"], [0.3333333333333333, \"#9c179e\"], [0.4444444444444444, \"#bd3786\"], [0.5555555555555556, \"#d8576b\"], [0.6666666666666666, \"#ed7953\"], [0.7777777777777778, \"#fb9f3a\"], [0.8888888888888888, \"#fdca26\"], [1.0, \"#f0f921\"]]}, \"colorway\": [\"#636efa\", \"#EF553B\", \"#00cc96\", \"#ab63fa\", \"#FFA15A\", \"#19d3f3\", \"#FF6692\", \"#B6E880\", \"#FF97FF\", \"#FECB52\"], \"font\": {\"color\": \"#2a3f5f\"}, \"geo\": {\"bgcolor\": \"white\", \"lakecolor\": \"white\", \"landcolor\": \"#E5ECF6\", \"showlakes\": true, \"showland\": true, \"subunitcolor\": \"white\"}, \"hoverlabel\": {\"align\": \"left\"}, \"hovermode\": \"closest\", \"mapbox\": {\"style\": \"light\"}, \"paper_bgcolor\": \"white\", \"plot_bgcolor\": \"#E5ECF6\", \"polar\": {\"angularaxis\": {\"gridcolor\": \"white\", \"linecolor\": \"white\", \"ticks\": \"\"}, \"bgcolor\": \"#E5ECF6\", \"radialaxis\": {\"gridcolor\": \"white\", \"linecolor\": \"white\", \"ticks\": \"\"}}, \"scene\": {\"xaxis\": {\"backgroundcolor\": \"#E5ECF6\", \"gridcolor\": \"white\", \"gridwidth\": 2, \"linecolor\": \"white\", \"showbackground\": true, \"ticks\": \"\", \"zerolinecolor\": \"white\"}, \"yaxis\": {\"backgroundcolor\": \"#E5ECF6\", \"gridcolor\": \"white\", \"gridwidth\": 2, \"linecolor\": \"white\", \"showbackground\": true, \"ticks\": \"\", \"zerolinecolor\": \"white\"}, \"zaxis\": {\"backgroundcolor\": \"#E5ECF6\", \"gridcolor\": \"white\", \"gridwidth\": 2, \"linecolor\": \"white\", \"showbackground\": true, \"ticks\": \"\", \"zerolinecolor\": \"white\"}}, \"shapedefaults\": {\"line\": {\"color\": \"#2a3f5f\"}}, \"ternary\": {\"aaxis\": {\"gridcolor\": \"white\", \"linecolor\": \"white\", \"ticks\": \"\"}, \"baxis\": {\"gridcolor\": \"white\", \"linecolor\": \"white\", \"ticks\": \"\"}, \"bgcolor\": \"#E5ECF6\", \"caxis\": {\"gridcolor\": \"white\", \"linecolor\": \"white\", \"ticks\": \"\"}}, \"title\": {\"x\": 0.05}, \"xaxis\": {\"automargin\": true, \"gridcolor\": \"white\", \"linecolor\": \"white\", \"ticks\": \"\", \"title\": {\"standoff\": 15}, \"zerolinecolor\": \"white\", \"zerolinewidth\": 2}, \"yaxis\": {\"automargin\": true, \"gridcolor\": \"white\", \"linecolor\": \"white\", \"ticks\": \"\", \"title\": {\"standoff\": 15}, \"zerolinecolor\": \"white\", \"zerolinewidth\": 2}}}, \"xaxis\": {\"categoryorder\": \"total descending\"}},                        {\"responsive\": true}                    ).then(function(){\n",
       "                            \n",
       "var gd = document.getElementById('4c2f0e36-4b0b-4e16-8a90-d092d925c647');\n",
       "var x = new MutationObserver(function (mutations, observer) {{\n",
       "        var display = window.getComputedStyle(gd).display;\n",
       "        if (!display || display === 'none') {{\n",
       "            console.log([gd, 'removed!']);\n",
       "            Plotly.purge(gd);\n",
       "            observer.disconnect();\n",
       "        }}\n",
       "}});\n",
       "\n",
       "// Listen for the removal of the full notebook cells\n",
       "var notebookContainer = gd.closest('#notebook-container');\n",
       "if (notebookContainer) {{\n",
       "    x.observe(notebookContainer, {childList: true});\n",
       "}}\n",
       "\n",
       "// Listen for the clearing of the current output cell\n",
       "var outputEl = gd.closest('.output');\n",
       "if (outputEl) {{\n",
       "    x.observe(outputEl, {childList: true});\n",
       "}}\n",
       "\n",
       "                        })                };                });            </script>        </div>"
      ]
     },
     "metadata": {},
     "output_type": "display_data"
    }
   ],
   "source": [
    "distribution(occ_default)"
   ]
  },
  {
   "cell_type": "code",
   "execution_count": 107,
   "metadata": {},
   "outputs": [
    {
     "data": {
      "application/vnd.plotly.v1+json": {
       "config": {
        "plotlyServerURL": "https://plot.ly"
       },
       "data": [
        {
         "textposition": "auto",
         "type": "bar",
         "x": [
          "First-Line Supervisors of Non-Retail Sales Workers",
          "Occupational Therapists",
          "First-Line Supervisors of Landscaping, Lawn Service, and Groundskeeping Workers",
          "Title Examiners, Abstractors, and Searchers",
          "Cement Masons and Concrete Finishers",
          "Dietitians and Nutritionists",
          "First-Line Supervisors of Retail Sales Workers",
          "First-Line Supervisors of Housekeeping and Janitorial Workers",
          "Credit Counselors",
          "Physical Therapists",
          "Exercise Physiologists",
          "Special Education Teachers, Secondary School",
          "Waiters and Waitresses",
          "Audiologists",
          "Pharmacists",
          "Dining Room and Cafeteria Attendants and Bartender Helpers",
          "Food Servers, Nonrestaurant",
          "Middle School Teachers, Except Special and Career/Technical Education",
          "Special Education Teachers, Middle School",
          "Registered Nurses",
          "Industrial-Organizational Psychologists",
          "Sales Representatives, Wholesale and Manufacturing, Except Technical and Scientific Products",
          "Bill and Account Collectors",
          "Cargo and Freight Agents",
          "Food Preparation Workers",
          "Occupational Therapy Aides",
          "Insulation Workers, Mechanical",
          "Mathematicians",
          "Statisticians",
          "Skincare Specialists"
         ],
         "y": [
          0.9365570632675418,
          0.8512064272529994,
          0.8493434520744563,
          0.840690844864389,
          0.7425204155924321,
          0.7336900652785903,
          0.725953565562639,
          0.725070490991097,
          0.7118717374844387,
          0.7068969568057313
         ]
        }
       ],
       "layout": {
        "barmode": "stack",
        "template": {
         "data": {
          "bar": [
           {
            "error_x": {
             "color": "#2a3f5f"
            },
            "error_y": {
             "color": "#2a3f5f"
            },
            "marker": {
             "line": {
              "color": "#E5ECF6",
              "width": 0.5
             }
            },
            "type": "bar"
           }
          ],
          "barpolar": [
           {
            "marker": {
             "line": {
              "color": "#E5ECF6",
              "width": 0.5
             }
            },
            "type": "barpolar"
           }
          ],
          "carpet": [
           {
            "aaxis": {
             "endlinecolor": "#2a3f5f",
             "gridcolor": "white",
             "linecolor": "white",
             "minorgridcolor": "white",
             "startlinecolor": "#2a3f5f"
            },
            "baxis": {
             "endlinecolor": "#2a3f5f",
             "gridcolor": "white",
             "linecolor": "white",
             "minorgridcolor": "white",
             "startlinecolor": "#2a3f5f"
            },
            "type": "carpet"
           }
          ],
          "choropleth": [
           {
            "colorbar": {
             "outlinewidth": 0,
             "ticks": ""
            },
            "type": "choropleth"
           }
          ],
          "contour": [
           {
            "colorbar": {
             "outlinewidth": 0,
             "ticks": ""
            },
            "colorscale": [
             [
              0,
              "#0d0887"
             ],
             [
              0.1111111111111111,
              "#46039f"
             ],
             [
              0.2222222222222222,
              "#7201a8"
             ],
             [
              0.3333333333333333,
              "#9c179e"
             ],
             [
              0.4444444444444444,
              "#bd3786"
             ],
             [
              0.5555555555555556,
              "#d8576b"
             ],
             [
              0.6666666666666666,
              "#ed7953"
             ],
             [
              0.7777777777777778,
              "#fb9f3a"
             ],
             [
              0.8888888888888888,
              "#fdca26"
             ],
             [
              1,
              "#f0f921"
             ]
            ],
            "type": "contour"
           }
          ],
          "contourcarpet": [
           {
            "colorbar": {
             "outlinewidth": 0,
             "ticks": ""
            },
            "type": "contourcarpet"
           }
          ],
          "heatmap": [
           {
            "colorbar": {
             "outlinewidth": 0,
             "ticks": ""
            },
            "colorscale": [
             [
              0,
              "#0d0887"
             ],
             [
              0.1111111111111111,
              "#46039f"
             ],
             [
              0.2222222222222222,
              "#7201a8"
             ],
             [
              0.3333333333333333,
              "#9c179e"
             ],
             [
              0.4444444444444444,
              "#bd3786"
             ],
             [
              0.5555555555555556,
              "#d8576b"
             ],
             [
              0.6666666666666666,
              "#ed7953"
             ],
             [
              0.7777777777777778,
              "#fb9f3a"
             ],
             [
              0.8888888888888888,
              "#fdca26"
             ],
             [
              1,
              "#f0f921"
             ]
            ],
            "type": "heatmap"
           }
          ],
          "heatmapgl": [
           {
            "colorbar": {
             "outlinewidth": 0,
             "ticks": ""
            },
            "colorscale": [
             [
              0,
              "#0d0887"
             ],
             [
              0.1111111111111111,
              "#46039f"
             ],
             [
              0.2222222222222222,
              "#7201a8"
             ],
             [
              0.3333333333333333,
              "#9c179e"
             ],
             [
              0.4444444444444444,
              "#bd3786"
             ],
             [
              0.5555555555555556,
              "#d8576b"
             ],
             [
              0.6666666666666666,
              "#ed7953"
             ],
             [
              0.7777777777777778,
              "#fb9f3a"
             ],
             [
              0.8888888888888888,
              "#fdca26"
             ],
             [
              1,
              "#f0f921"
             ]
            ],
            "type": "heatmapgl"
           }
          ],
          "histogram": [
           {
            "marker": {
             "colorbar": {
              "outlinewidth": 0,
              "ticks": ""
             }
            },
            "type": "histogram"
           }
          ],
          "histogram2d": [
           {
            "colorbar": {
             "outlinewidth": 0,
             "ticks": ""
            },
            "colorscale": [
             [
              0,
              "#0d0887"
             ],
             [
              0.1111111111111111,
              "#46039f"
             ],
             [
              0.2222222222222222,
              "#7201a8"
             ],
             [
              0.3333333333333333,
              "#9c179e"
             ],
             [
              0.4444444444444444,
              "#bd3786"
             ],
             [
              0.5555555555555556,
              "#d8576b"
             ],
             [
              0.6666666666666666,
              "#ed7953"
             ],
             [
              0.7777777777777778,
              "#fb9f3a"
             ],
             [
              0.8888888888888888,
              "#fdca26"
             ],
             [
              1,
              "#f0f921"
             ]
            ],
            "type": "histogram2d"
           }
          ],
          "histogram2dcontour": [
           {
            "colorbar": {
             "outlinewidth": 0,
             "ticks": ""
            },
            "colorscale": [
             [
              0,
              "#0d0887"
             ],
             [
              0.1111111111111111,
              "#46039f"
             ],
             [
              0.2222222222222222,
              "#7201a8"
             ],
             [
              0.3333333333333333,
              "#9c179e"
             ],
             [
              0.4444444444444444,
              "#bd3786"
             ],
             [
              0.5555555555555556,
              "#d8576b"
             ],
             [
              0.6666666666666666,
              "#ed7953"
             ],
             [
              0.7777777777777778,
              "#fb9f3a"
             ],
             [
              0.8888888888888888,
              "#fdca26"
             ],
             [
              1,
              "#f0f921"
             ]
            ],
            "type": "histogram2dcontour"
           }
          ],
          "mesh3d": [
           {
            "colorbar": {
             "outlinewidth": 0,
             "ticks": ""
            },
            "type": "mesh3d"
           }
          ],
          "parcoords": [
           {
            "line": {
             "colorbar": {
              "outlinewidth": 0,
              "ticks": ""
             }
            },
            "type": "parcoords"
           }
          ],
          "pie": [
           {
            "automargin": true,
            "type": "pie"
           }
          ],
          "scatter": [
           {
            "marker": {
             "colorbar": {
              "outlinewidth": 0,
              "ticks": ""
             }
            },
            "type": "scatter"
           }
          ],
          "scatter3d": [
           {
            "line": {
             "colorbar": {
              "outlinewidth": 0,
              "ticks": ""
             }
            },
            "marker": {
             "colorbar": {
              "outlinewidth": 0,
              "ticks": ""
             }
            },
            "type": "scatter3d"
           }
          ],
          "scattercarpet": [
           {
            "marker": {
             "colorbar": {
              "outlinewidth": 0,
              "ticks": ""
             }
            },
            "type": "scattercarpet"
           }
          ],
          "scattergeo": [
           {
            "marker": {
             "colorbar": {
              "outlinewidth": 0,
              "ticks": ""
             }
            },
            "type": "scattergeo"
           }
          ],
          "scattergl": [
           {
            "marker": {
             "colorbar": {
              "outlinewidth": 0,
              "ticks": ""
             }
            },
            "type": "scattergl"
           }
          ],
          "scattermapbox": [
           {
            "marker": {
             "colorbar": {
              "outlinewidth": 0,
              "ticks": ""
             }
            },
            "type": "scattermapbox"
           }
          ],
          "scatterpolar": [
           {
            "marker": {
             "colorbar": {
              "outlinewidth": 0,
              "ticks": ""
             }
            },
            "type": "scatterpolar"
           }
          ],
          "scatterpolargl": [
           {
            "marker": {
             "colorbar": {
              "outlinewidth": 0,
              "ticks": ""
             }
            },
            "type": "scatterpolargl"
           }
          ],
          "scatterternary": [
           {
            "marker": {
             "colorbar": {
              "outlinewidth": 0,
              "ticks": ""
             }
            },
            "type": "scatterternary"
           }
          ],
          "surface": [
           {
            "colorbar": {
             "outlinewidth": 0,
             "ticks": ""
            },
            "colorscale": [
             [
              0,
              "#0d0887"
             ],
             [
              0.1111111111111111,
              "#46039f"
             ],
             [
              0.2222222222222222,
              "#7201a8"
             ],
             [
              0.3333333333333333,
              "#9c179e"
             ],
             [
              0.4444444444444444,
              "#bd3786"
             ],
             [
              0.5555555555555556,
              "#d8576b"
             ],
             [
              0.6666666666666666,
              "#ed7953"
             ],
             [
              0.7777777777777778,
              "#fb9f3a"
             ],
             [
              0.8888888888888888,
              "#fdca26"
             ],
             [
              1,
              "#f0f921"
             ]
            ],
            "type": "surface"
           }
          ],
          "table": [
           {
            "cells": {
             "fill": {
              "color": "#EBF0F8"
             },
             "line": {
              "color": "white"
             }
            },
            "header": {
             "fill": {
              "color": "#C8D4E3"
             },
             "line": {
              "color": "white"
             }
            },
            "type": "table"
           }
          ]
         },
         "layout": {
          "annotationdefaults": {
           "arrowcolor": "#2a3f5f",
           "arrowhead": 0,
           "arrowwidth": 1
          },
          "coloraxis": {
           "colorbar": {
            "outlinewidth": 0,
            "ticks": ""
           }
          },
          "colorscale": {
           "diverging": [
            [
             0,
             "#8e0152"
            ],
            [
             0.1,
             "#c51b7d"
            ],
            [
             0.2,
             "#de77ae"
            ],
            [
             0.3,
             "#f1b6da"
            ],
            [
             0.4,
             "#fde0ef"
            ],
            [
             0.5,
             "#f7f7f7"
            ],
            [
             0.6,
             "#e6f5d0"
            ],
            [
             0.7,
             "#b8e186"
            ],
            [
             0.8,
             "#7fbc41"
            ],
            [
             0.9,
             "#4d9221"
            ],
            [
             1,
             "#276419"
            ]
           ],
           "sequential": [
            [
             0,
             "#0d0887"
            ],
            [
             0.1111111111111111,
             "#46039f"
            ],
            [
             0.2222222222222222,
             "#7201a8"
            ],
            [
             0.3333333333333333,
             "#9c179e"
            ],
            [
             0.4444444444444444,
             "#bd3786"
            ],
            [
             0.5555555555555556,
             "#d8576b"
            ],
            [
             0.6666666666666666,
             "#ed7953"
            ],
            [
             0.7777777777777778,
             "#fb9f3a"
            ],
            [
             0.8888888888888888,
             "#fdca26"
            ],
            [
             1,
             "#f0f921"
            ]
           ],
           "sequentialminus": [
            [
             0,
             "#0d0887"
            ],
            [
             0.1111111111111111,
             "#46039f"
            ],
            [
             0.2222222222222222,
             "#7201a8"
            ],
            [
             0.3333333333333333,
             "#9c179e"
            ],
            [
             0.4444444444444444,
             "#bd3786"
            ],
            [
             0.5555555555555556,
             "#d8576b"
            ],
            [
             0.6666666666666666,
             "#ed7953"
            ],
            [
             0.7777777777777778,
             "#fb9f3a"
            ],
            [
             0.8888888888888888,
             "#fdca26"
            ],
            [
             1,
             "#f0f921"
            ]
           ]
          },
          "colorway": [
           "#636efa",
           "#EF553B",
           "#00cc96",
           "#ab63fa",
           "#FFA15A",
           "#19d3f3",
           "#FF6692",
           "#B6E880",
           "#FF97FF",
           "#FECB52"
          ],
          "font": {
           "color": "#2a3f5f"
          },
          "geo": {
           "bgcolor": "white",
           "lakecolor": "white",
           "landcolor": "#E5ECF6",
           "showlakes": true,
           "showland": true,
           "subunitcolor": "white"
          },
          "hoverlabel": {
           "align": "left"
          },
          "hovermode": "closest",
          "mapbox": {
           "style": "light"
          },
          "paper_bgcolor": "white",
          "plot_bgcolor": "#E5ECF6",
          "polar": {
           "angularaxis": {
            "gridcolor": "white",
            "linecolor": "white",
            "ticks": ""
           },
           "bgcolor": "#E5ECF6",
           "radialaxis": {
            "gridcolor": "white",
            "linecolor": "white",
            "ticks": ""
           }
          },
          "scene": {
           "xaxis": {
            "backgroundcolor": "#E5ECF6",
            "gridcolor": "white",
            "gridwidth": 2,
            "linecolor": "white",
            "showbackground": true,
            "ticks": "",
            "zerolinecolor": "white"
           },
           "yaxis": {
            "backgroundcolor": "#E5ECF6",
            "gridcolor": "white",
            "gridwidth": 2,
            "linecolor": "white",
            "showbackground": true,
            "ticks": "",
            "zerolinecolor": "white"
           },
           "zaxis": {
            "backgroundcolor": "#E5ECF6",
            "gridcolor": "white",
            "gridwidth": 2,
            "linecolor": "white",
            "showbackground": true,
            "ticks": "",
            "zerolinecolor": "white"
           }
          },
          "shapedefaults": {
           "line": {
            "color": "#2a3f5f"
           }
          },
          "ternary": {
           "aaxis": {
            "gridcolor": "white",
            "linecolor": "white",
            "ticks": ""
           },
           "baxis": {
            "gridcolor": "white",
            "linecolor": "white",
            "ticks": ""
           },
           "bgcolor": "#E5ECF6",
           "caxis": {
            "gridcolor": "white",
            "linecolor": "white",
            "ticks": ""
           }
          },
          "title": {
           "x": 0.05
          },
          "xaxis": {
           "automargin": true,
           "gridcolor": "white",
           "linecolor": "white",
           "ticks": "",
           "title": {
            "standoff": 15
           },
           "zerolinecolor": "white",
           "zerolinewidth": 2
          },
          "yaxis": {
           "automargin": true,
           "gridcolor": "white",
           "linecolor": "white",
           "ticks": "",
           "title": {
            "standoff": 15
           },
           "zerolinecolor": "white",
           "zerolinewidth": 2
          }
         }
        },
        "xaxis": {
         "categoryorder": "total descending"
        }
       }
      },
      "text/html": [
       "<div>                            <div id=\"cd7facd0-35d6-4d97-bbe6-d097e50a812c\" class=\"plotly-graph-div\" style=\"height:525px; width:100%;\"></div>            <script type=\"text/javascript\">                require([\"plotly\"], function(Plotly) {                    window.PLOTLYENV=window.PLOTLYENV || {};                                    if (document.getElementById(\"cd7facd0-35d6-4d97-bbe6-d097e50a812c\")) {                    Plotly.newPlot(                        \"cd7facd0-35d6-4d97-bbe6-d097e50a812c\",                        [{\"textposition\": \"auto\", \"type\": \"bar\", \"x\": [\"First-Line Supervisors of Non-Retail Sales Workers\", \"Occupational Therapists\", \"First-Line Supervisors of Landscaping, Lawn Service, and Groundskeeping Workers\", \"Title Examiners, Abstractors, and Searchers\", \"Cement Masons and Concrete Finishers\", \"Dietitians and Nutritionists\", \"First-Line Supervisors of Retail Sales Workers\", \"First-Line Supervisors of Housekeeping and Janitorial Workers\", \"Credit Counselors\", \"Physical Therapists\", \"Exercise Physiologists\", \"Special Education Teachers, Secondary School\", \"Waiters and Waitresses\", \"Audiologists\", \"Pharmacists\", \"Dining Room and Cafeteria Attendants and Bartender Helpers\", \"Food Servers, Nonrestaurant\", \"Middle School Teachers, Except Special and Career/Technical Education\", \"Special Education Teachers, Middle School\", \"Registered Nurses\", \"Industrial-Organizational Psychologists\", \"Sales Representatives, Wholesale and Manufacturing, Except Technical and Scientific Products\", \"Bill and Account Collectors\", \"Cargo and Freight Agents\", \"Food Preparation Workers\", \"Occupational Therapy Aides\", \"Insulation Workers, Mechanical\", \"Mathematicians\", \"Statisticians\", \"Skincare Specialists\"], \"y\": [0.9365570632675418, 0.8512064272529994, 0.8493434520744563, 0.840690844864389, 0.7425204155924321, 0.7336900652785903, 0.725953565562639, 0.725070490991097, 0.7118717374844387, 0.7068969568057313]}],                        {\"barmode\": \"stack\", \"template\": {\"data\": {\"bar\": [{\"error_x\": {\"color\": \"#2a3f5f\"}, \"error_y\": {\"color\": \"#2a3f5f\"}, \"marker\": {\"line\": {\"color\": \"#E5ECF6\", \"width\": 0.5}}, \"type\": \"bar\"}], \"barpolar\": [{\"marker\": {\"line\": {\"color\": \"#E5ECF6\", \"width\": 0.5}}, \"type\": \"barpolar\"}], \"carpet\": [{\"aaxis\": {\"endlinecolor\": \"#2a3f5f\", \"gridcolor\": \"white\", \"linecolor\": \"white\", \"minorgridcolor\": \"white\", \"startlinecolor\": \"#2a3f5f\"}, \"baxis\": {\"endlinecolor\": \"#2a3f5f\", \"gridcolor\": \"white\", \"linecolor\": \"white\", \"minorgridcolor\": \"white\", \"startlinecolor\": \"#2a3f5f\"}, \"type\": \"carpet\"}], \"choropleth\": [{\"colorbar\": {\"outlinewidth\": 0, \"ticks\": \"\"}, \"type\": \"choropleth\"}], \"contour\": [{\"colorbar\": {\"outlinewidth\": 0, \"ticks\": \"\"}, \"colorscale\": [[0.0, \"#0d0887\"], [0.1111111111111111, \"#46039f\"], [0.2222222222222222, \"#7201a8\"], [0.3333333333333333, \"#9c179e\"], [0.4444444444444444, \"#bd3786\"], [0.5555555555555556, \"#d8576b\"], [0.6666666666666666, \"#ed7953\"], [0.7777777777777778, \"#fb9f3a\"], [0.8888888888888888, \"#fdca26\"], [1.0, \"#f0f921\"]], \"type\": \"contour\"}], \"contourcarpet\": [{\"colorbar\": {\"outlinewidth\": 0, \"ticks\": \"\"}, \"type\": \"contourcarpet\"}], \"heatmap\": [{\"colorbar\": {\"outlinewidth\": 0, \"ticks\": \"\"}, \"colorscale\": [[0.0, \"#0d0887\"], [0.1111111111111111, \"#46039f\"], [0.2222222222222222, \"#7201a8\"], [0.3333333333333333, \"#9c179e\"], [0.4444444444444444, \"#bd3786\"], [0.5555555555555556, \"#d8576b\"], [0.6666666666666666, \"#ed7953\"], [0.7777777777777778, \"#fb9f3a\"], [0.8888888888888888, \"#fdca26\"], [1.0, \"#f0f921\"]], \"type\": \"heatmap\"}], \"heatmapgl\": [{\"colorbar\": {\"outlinewidth\": 0, \"ticks\": \"\"}, \"colorscale\": [[0.0, \"#0d0887\"], [0.1111111111111111, \"#46039f\"], [0.2222222222222222, \"#7201a8\"], [0.3333333333333333, \"#9c179e\"], [0.4444444444444444, \"#bd3786\"], [0.5555555555555556, \"#d8576b\"], [0.6666666666666666, \"#ed7953\"], [0.7777777777777778, \"#fb9f3a\"], [0.8888888888888888, \"#fdca26\"], [1.0, \"#f0f921\"]], \"type\": \"heatmapgl\"}], \"histogram\": [{\"marker\": {\"colorbar\": {\"outlinewidth\": 0, \"ticks\": \"\"}}, \"type\": \"histogram\"}], \"histogram2d\": [{\"colorbar\": {\"outlinewidth\": 0, \"ticks\": \"\"}, \"colorscale\": [[0.0, \"#0d0887\"], [0.1111111111111111, \"#46039f\"], [0.2222222222222222, \"#7201a8\"], [0.3333333333333333, \"#9c179e\"], [0.4444444444444444, \"#bd3786\"], [0.5555555555555556, \"#d8576b\"], [0.6666666666666666, \"#ed7953\"], [0.7777777777777778, \"#fb9f3a\"], [0.8888888888888888, \"#fdca26\"], [1.0, \"#f0f921\"]], \"type\": \"histogram2d\"}], \"histogram2dcontour\": [{\"colorbar\": {\"outlinewidth\": 0, \"ticks\": \"\"}, \"colorscale\": [[0.0, \"#0d0887\"], [0.1111111111111111, \"#46039f\"], [0.2222222222222222, \"#7201a8\"], [0.3333333333333333, \"#9c179e\"], [0.4444444444444444, \"#bd3786\"], [0.5555555555555556, \"#d8576b\"], [0.6666666666666666, \"#ed7953\"], [0.7777777777777778, \"#fb9f3a\"], [0.8888888888888888, \"#fdca26\"], [1.0, \"#f0f921\"]], \"type\": \"histogram2dcontour\"}], \"mesh3d\": [{\"colorbar\": {\"outlinewidth\": 0, \"ticks\": \"\"}, \"type\": \"mesh3d\"}], \"parcoords\": [{\"line\": {\"colorbar\": {\"outlinewidth\": 0, \"ticks\": \"\"}}, \"type\": \"parcoords\"}], \"pie\": [{\"automargin\": true, \"type\": \"pie\"}], \"scatter\": [{\"marker\": {\"colorbar\": {\"outlinewidth\": 0, \"ticks\": \"\"}}, \"type\": \"scatter\"}], \"scatter3d\": [{\"line\": {\"colorbar\": {\"outlinewidth\": 0, \"ticks\": \"\"}}, \"marker\": {\"colorbar\": {\"outlinewidth\": 0, \"ticks\": \"\"}}, \"type\": \"scatter3d\"}], \"scattercarpet\": [{\"marker\": {\"colorbar\": {\"outlinewidth\": 0, \"ticks\": \"\"}}, \"type\": \"scattercarpet\"}], \"scattergeo\": [{\"marker\": {\"colorbar\": {\"outlinewidth\": 0, \"ticks\": \"\"}}, \"type\": \"scattergeo\"}], \"scattergl\": [{\"marker\": {\"colorbar\": {\"outlinewidth\": 0, \"ticks\": \"\"}}, \"type\": \"scattergl\"}], \"scattermapbox\": [{\"marker\": {\"colorbar\": {\"outlinewidth\": 0, \"ticks\": \"\"}}, \"type\": \"scattermapbox\"}], \"scatterpolar\": [{\"marker\": {\"colorbar\": {\"outlinewidth\": 0, \"ticks\": \"\"}}, \"type\": \"scatterpolar\"}], \"scatterpolargl\": [{\"marker\": {\"colorbar\": {\"outlinewidth\": 0, \"ticks\": \"\"}}, \"type\": \"scatterpolargl\"}], \"scatterternary\": [{\"marker\": {\"colorbar\": {\"outlinewidth\": 0, \"ticks\": \"\"}}, \"type\": \"scatterternary\"}], \"surface\": [{\"colorbar\": {\"outlinewidth\": 0, \"ticks\": \"\"}, \"colorscale\": [[0.0, \"#0d0887\"], [0.1111111111111111, \"#46039f\"], [0.2222222222222222, \"#7201a8\"], [0.3333333333333333, \"#9c179e\"], [0.4444444444444444, \"#bd3786\"], [0.5555555555555556, \"#d8576b\"], [0.6666666666666666, \"#ed7953\"], [0.7777777777777778, \"#fb9f3a\"], [0.8888888888888888, \"#fdca26\"], [1.0, \"#f0f921\"]], \"type\": \"surface\"}], \"table\": [{\"cells\": {\"fill\": {\"color\": \"#EBF0F8\"}, \"line\": {\"color\": \"white\"}}, \"header\": {\"fill\": {\"color\": \"#C8D4E3\"}, \"line\": {\"color\": \"white\"}}, \"type\": \"table\"}]}, \"layout\": {\"annotationdefaults\": {\"arrowcolor\": \"#2a3f5f\", \"arrowhead\": 0, \"arrowwidth\": 1}, \"coloraxis\": {\"colorbar\": {\"outlinewidth\": 0, \"ticks\": \"\"}}, \"colorscale\": {\"diverging\": [[0, \"#8e0152\"], [0.1, \"#c51b7d\"], [0.2, \"#de77ae\"], [0.3, \"#f1b6da\"], [0.4, \"#fde0ef\"], [0.5, \"#f7f7f7\"], [0.6, \"#e6f5d0\"], [0.7, \"#b8e186\"], [0.8, \"#7fbc41\"], [0.9, \"#4d9221\"], [1, \"#276419\"]], \"sequential\": [[0.0, \"#0d0887\"], [0.1111111111111111, \"#46039f\"], [0.2222222222222222, \"#7201a8\"], [0.3333333333333333, \"#9c179e\"], [0.4444444444444444, \"#bd3786\"], [0.5555555555555556, \"#d8576b\"], [0.6666666666666666, \"#ed7953\"], [0.7777777777777778, \"#fb9f3a\"], [0.8888888888888888, \"#fdca26\"], [1.0, \"#f0f921\"]], \"sequentialminus\": [[0.0, \"#0d0887\"], [0.1111111111111111, \"#46039f\"], [0.2222222222222222, \"#7201a8\"], [0.3333333333333333, \"#9c179e\"], [0.4444444444444444, \"#bd3786\"], [0.5555555555555556, \"#d8576b\"], [0.6666666666666666, \"#ed7953\"], [0.7777777777777778, \"#fb9f3a\"], [0.8888888888888888, \"#fdca26\"], [1.0, \"#f0f921\"]]}, \"colorway\": [\"#636efa\", \"#EF553B\", \"#00cc96\", \"#ab63fa\", \"#FFA15A\", \"#19d3f3\", \"#FF6692\", \"#B6E880\", \"#FF97FF\", \"#FECB52\"], \"font\": {\"color\": \"#2a3f5f\"}, \"geo\": {\"bgcolor\": \"white\", \"lakecolor\": \"white\", \"landcolor\": \"#E5ECF6\", \"showlakes\": true, \"showland\": true, \"subunitcolor\": \"white\"}, \"hoverlabel\": {\"align\": \"left\"}, \"hovermode\": \"closest\", \"mapbox\": {\"style\": \"light\"}, \"paper_bgcolor\": \"white\", \"plot_bgcolor\": \"#E5ECF6\", \"polar\": {\"angularaxis\": {\"gridcolor\": \"white\", \"linecolor\": \"white\", \"ticks\": \"\"}, \"bgcolor\": \"#E5ECF6\", \"radialaxis\": {\"gridcolor\": \"white\", \"linecolor\": \"white\", \"ticks\": \"\"}}, \"scene\": {\"xaxis\": {\"backgroundcolor\": \"#E5ECF6\", \"gridcolor\": \"white\", \"gridwidth\": 2, \"linecolor\": \"white\", \"showbackground\": true, \"ticks\": \"\", \"zerolinecolor\": \"white\"}, \"yaxis\": {\"backgroundcolor\": \"#E5ECF6\", \"gridcolor\": \"white\", \"gridwidth\": 2, \"linecolor\": \"white\", \"showbackground\": true, \"ticks\": \"\", \"zerolinecolor\": \"white\"}, \"zaxis\": {\"backgroundcolor\": \"#E5ECF6\", \"gridcolor\": \"white\", \"gridwidth\": 2, \"linecolor\": \"white\", \"showbackground\": true, \"ticks\": \"\", \"zerolinecolor\": \"white\"}}, \"shapedefaults\": {\"line\": {\"color\": \"#2a3f5f\"}}, \"ternary\": {\"aaxis\": {\"gridcolor\": \"white\", \"linecolor\": \"white\", \"ticks\": \"\"}, \"baxis\": {\"gridcolor\": \"white\", \"linecolor\": \"white\", \"ticks\": \"\"}, \"bgcolor\": \"#E5ECF6\", \"caxis\": {\"gridcolor\": \"white\", \"linecolor\": \"white\", \"ticks\": \"\"}}, \"title\": {\"x\": 0.05}, \"xaxis\": {\"automargin\": true, \"gridcolor\": \"white\", \"linecolor\": \"white\", \"ticks\": \"\", \"title\": {\"standoff\": 15}, \"zerolinecolor\": \"white\", \"zerolinewidth\": 2}, \"yaxis\": {\"automargin\": true, \"gridcolor\": \"white\", \"linecolor\": \"white\", \"ticks\": \"\", \"title\": {\"standoff\": 15}, \"zerolinecolor\": \"white\", \"zerolinewidth\": 2}}}, \"xaxis\": {\"categoryorder\": \"total descending\"}},                        {\"responsive\": true}                    ).then(function(){\n",
       "                            \n",
       "var gd = document.getElementById('cd7facd0-35d6-4d97-bbe6-d097e50a812c');\n",
       "var x = new MutationObserver(function (mutations, observer) {{\n",
       "        var display = window.getComputedStyle(gd).display;\n",
       "        if (!display || display === 'none') {{\n",
       "            console.log([gd, 'removed!']);\n",
       "            Plotly.purge(gd);\n",
       "            observer.disconnect();\n",
       "        }}\n",
       "}});\n",
       "\n",
       "// Listen for the removal of the full notebook cells\n",
       "var notebookContainer = gd.closest('#notebook-container');\n",
       "if (notebookContainer) {{\n",
       "    x.observe(notebookContainer, {childList: true});\n",
       "}}\n",
       "\n",
       "// Listen for the clearing of the current output cell\n",
       "var outputEl = gd.closest('.output');\n",
       "if (outputEl) {{\n",
       "    x.observe(outputEl, {childList: true});\n",
       "}}\n",
       "\n",
       "                        })                };                });            </script>        </div>"
      ]
     },
     "metadata": {},
     "output_type": "display_data"
    }
   ],
   "source": [
    "distribution(occ_alg1)"
   ]
  },
  {
   "cell_type": "code",
   "execution_count": 108,
   "metadata": {},
   "outputs": [
    {
     "data": {
      "application/vnd.plotly.v1+json": {
       "config": {
        "plotlyServerURL": "https://plot.ly"
       },
       "data": [
        {
         "textposition": "auto",
         "type": "bar",
         "x": [
          "First-Line Supervisors of Non-Retail Sales Workers",
          "First-Line Supervisors of Landscaping, Lawn Service, and Groundskeeping Workers",
          "Occupational Therapists",
          "Loan Officers",
          "Cement Masons and Concrete Finishers",
          "First-Line Supervisors of Housekeeping and Janitorial Workers",
          "First-Line Supervisors of Retail Sales Workers",
          "Physical Therapists",
          "Exercise Physiologists",
          "Special Education Teachers, Secondary School",
          "Audiologists",
          "Statisticians",
          "Cargo and Freight Agents",
          "Dining Room and Cafeteria Attendants and Bartender Helpers",
          "Food Servers, Nonrestaurant",
          "Registered Nurses",
          "Hotel, Motel, and Resort Desk Clerks",
          "Credit Counselors",
          "Skincare Specialists",
          "Nursing Assistants",
          "Special Education Teachers, Middle School",
          "Sales Representatives, Wholesale and Manufacturing, Except Technical and Scientific Products",
          "Career/Technical Education Teachers, Middle School",
          "Janitors and Cleaners, Except Maids and Housekeeping Cleaners",
          "Plasterers and Stucco Masons",
          "Mathematicians",
          "Psychiatric Technicians",
          "Demonstrators and Product Promoters",
          "Kindergarten Teachers, Except Special Education",
          "Sales Representatives, Wholesale and Manufacturing, Technical and Scientific Products"
         ],
         "y": [
          0.9358518644453213,
          0.8369159689470757,
          0.8271537590829033,
          0.7427880643197132,
          0.7425204155924321,
          0.725070490991097,
          0.7244394849543243,
          0.7068969568057313,
          0.7008801083955069,
          0.6797215296119797
         ]
        }
       ],
       "layout": {
        "barmode": "stack",
        "template": {
         "data": {
          "bar": [
           {
            "error_x": {
             "color": "#2a3f5f"
            },
            "error_y": {
             "color": "#2a3f5f"
            },
            "marker": {
             "line": {
              "color": "#E5ECF6",
              "width": 0.5
             }
            },
            "type": "bar"
           }
          ],
          "barpolar": [
           {
            "marker": {
             "line": {
              "color": "#E5ECF6",
              "width": 0.5
             }
            },
            "type": "barpolar"
           }
          ],
          "carpet": [
           {
            "aaxis": {
             "endlinecolor": "#2a3f5f",
             "gridcolor": "white",
             "linecolor": "white",
             "minorgridcolor": "white",
             "startlinecolor": "#2a3f5f"
            },
            "baxis": {
             "endlinecolor": "#2a3f5f",
             "gridcolor": "white",
             "linecolor": "white",
             "minorgridcolor": "white",
             "startlinecolor": "#2a3f5f"
            },
            "type": "carpet"
           }
          ],
          "choropleth": [
           {
            "colorbar": {
             "outlinewidth": 0,
             "ticks": ""
            },
            "type": "choropleth"
           }
          ],
          "contour": [
           {
            "colorbar": {
             "outlinewidth": 0,
             "ticks": ""
            },
            "colorscale": [
             [
              0,
              "#0d0887"
             ],
             [
              0.1111111111111111,
              "#46039f"
             ],
             [
              0.2222222222222222,
              "#7201a8"
             ],
             [
              0.3333333333333333,
              "#9c179e"
             ],
             [
              0.4444444444444444,
              "#bd3786"
             ],
             [
              0.5555555555555556,
              "#d8576b"
             ],
             [
              0.6666666666666666,
              "#ed7953"
             ],
             [
              0.7777777777777778,
              "#fb9f3a"
             ],
             [
              0.8888888888888888,
              "#fdca26"
             ],
             [
              1,
              "#f0f921"
             ]
            ],
            "type": "contour"
           }
          ],
          "contourcarpet": [
           {
            "colorbar": {
             "outlinewidth": 0,
             "ticks": ""
            },
            "type": "contourcarpet"
           }
          ],
          "heatmap": [
           {
            "colorbar": {
             "outlinewidth": 0,
             "ticks": ""
            },
            "colorscale": [
             [
              0,
              "#0d0887"
             ],
             [
              0.1111111111111111,
              "#46039f"
             ],
             [
              0.2222222222222222,
              "#7201a8"
             ],
             [
              0.3333333333333333,
              "#9c179e"
             ],
             [
              0.4444444444444444,
              "#bd3786"
             ],
             [
              0.5555555555555556,
              "#d8576b"
             ],
             [
              0.6666666666666666,
              "#ed7953"
             ],
             [
              0.7777777777777778,
              "#fb9f3a"
             ],
             [
              0.8888888888888888,
              "#fdca26"
             ],
             [
              1,
              "#f0f921"
             ]
            ],
            "type": "heatmap"
           }
          ],
          "heatmapgl": [
           {
            "colorbar": {
             "outlinewidth": 0,
             "ticks": ""
            },
            "colorscale": [
             [
              0,
              "#0d0887"
             ],
             [
              0.1111111111111111,
              "#46039f"
             ],
             [
              0.2222222222222222,
              "#7201a8"
             ],
             [
              0.3333333333333333,
              "#9c179e"
             ],
             [
              0.4444444444444444,
              "#bd3786"
             ],
             [
              0.5555555555555556,
              "#d8576b"
             ],
             [
              0.6666666666666666,
              "#ed7953"
             ],
             [
              0.7777777777777778,
              "#fb9f3a"
             ],
             [
              0.8888888888888888,
              "#fdca26"
             ],
             [
              1,
              "#f0f921"
             ]
            ],
            "type": "heatmapgl"
           }
          ],
          "histogram": [
           {
            "marker": {
             "colorbar": {
              "outlinewidth": 0,
              "ticks": ""
             }
            },
            "type": "histogram"
           }
          ],
          "histogram2d": [
           {
            "colorbar": {
             "outlinewidth": 0,
             "ticks": ""
            },
            "colorscale": [
             [
              0,
              "#0d0887"
             ],
             [
              0.1111111111111111,
              "#46039f"
             ],
             [
              0.2222222222222222,
              "#7201a8"
             ],
             [
              0.3333333333333333,
              "#9c179e"
             ],
             [
              0.4444444444444444,
              "#bd3786"
             ],
             [
              0.5555555555555556,
              "#d8576b"
             ],
             [
              0.6666666666666666,
              "#ed7953"
             ],
             [
              0.7777777777777778,
              "#fb9f3a"
             ],
             [
              0.8888888888888888,
              "#fdca26"
             ],
             [
              1,
              "#f0f921"
             ]
            ],
            "type": "histogram2d"
           }
          ],
          "histogram2dcontour": [
           {
            "colorbar": {
             "outlinewidth": 0,
             "ticks": ""
            },
            "colorscale": [
             [
              0,
              "#0d0887"
             ],
             [
              0.1111111111111111,
              "#46039f"
             ],
             [
              0.2222222222222222,
              "#7201a8"
             ],
             [
              0.3333333333333333,
              "#9c179e"
             ],
             [
              0.4444444444444444,
              "#bd3786"
             ],
             [
              0.5555555555555556,
              "#d8576b"
             ],
             [
              0.6666666666666666,
              "#ed7953"
             ],
             [
              0.7777777777777778,
              "#fb9f3a"
             ],
             [
              0.8888888888888888,
              "#fdca26"
             ],
             [
              1,
              "#f0f921"
             ]
            ],
            "type": "histogram2dcontour"
           }
          ],
          "mesh3d": [
           {
            "colorbar": {
             "outlinewidth": 0,
             "ticks": ""
            },
            "type": "mesh3d"
           }
          ],
          "parcoords": [
           {
            "line": {
             "colorbar": {
              "outlinewidth": 0,
              "ticks": ""
             }
            },
            "type": "parcoords"
           }
          ],
          "pie": [
           {
            "automargin": true,
            "type": "pie"
           }
          ],
          "scatter": [
           {
            "marker": {
             "colorbar": {
              "outlinewidth": 0,
              "ticks": ""
             }
            },
            "type": "scatter"
           }
          ],
          "scatter3d": [
           {
            "line": {
             "colorbar": {
              "outlinewidth": 0,
              "ticks": ""
             }
            },
            "marker": {
             "colorbar": {
              "outlinewidth": 0,
              "ticks": ""
             }
            },
            "type": "scatter3d"
           }
          ],
          "scattercarpet": [
           {
            "marker": {
             "colorbar": {
              "outlinewidth": 0,
              "ticks": ""
             }
            },
            "type": "scattercarpet"
           }
          ],
          "scattergeo": [
           {
            "marker": {
             "colorbar": {
              "outlinewidth": 0,
              "ticks": ""
             }
            },
            "type": "scattergeo"
           }
          ],
          "scattergl": [
           {
            "marker": {
             "colorbar": {
              "outlinewidth": 0,
              "ticks": ""
             }
            },
            "type": "scattergl"
           }
          ],
          "scattermapbox": [
           {
            "marker": {
             "colorbar": {
              "outlinewidth": 0,
              "ticks": ""
             }
            },
            "type": "scattermapbox"
           }
          ],
          "scatterpolar": [
           {
            "marker": {
             "colorbar": {
              "outlinewidth": 0,
              "ticks": ""
             }
            },
            "type": "scatterpolar"
           }
          ],
          "scatterpolargl": [
           {
            "marker": {
             "colorbar": {
              "outlinewidth": 0,
              "ticks": ""
             }
            },
            "type": "scatterpolargl"
           }
          ],
          "scatterternary": [
           {
            "marker": {
             "colorbar": {
              "outlinewidth": 0,
              "ticks": ""
             }
            },
            "type": "scatterternary"
           }
          ],
          "surface": [
           {
            "colorbar": {
             "outlinewidth": 0,
             "ticks": ""
            },
            "colorscale": [
             [
              0,
              "#0d0887"
             ],
             [
              0.1111111111111111,
              "#46039f"
             ],
             [
              0.2222222222222222,
              "#7201a8"
             ],
             [
              0.3333333333333333,
              "#9c179e"
             ],
             [
              0.4444444444444444,
              "#bd3786"
             ],
             [
              0.5555555555555556,
              "#d8576b"
             ],
             [
              0.6666666666666666,
              "#ed7953"
             ],
             [
              0.7777777777777778,
              "#fb9f3a"
             ],
             [
              0.8888888888888888,
              "#fdca26"
             ],
             [
              1,
              "#f0f921"
             ]
            ],
            "type": "surface"
           }
          ],
          "table": [
           {
            "cells": {
             "fill": {
              "color": "#EBF0F8"
             },
             "line": {
              "color": "white"
             }
            },
            "header": {
             "fill": {
              "color": "#C8D4E3"
             },
             "line": {
              "color": "white"
             }
            },
            "type": "table"
           }
          ]
         },
         "layout": {
          "annotationdefaults": {
           "arrowcolor": "#2a3f5f",
           "arrowhead": 0,
           "arrowwidth": 1
          },
          "coloraxis": {
           "colorbar": {
            "outlinewidth": 0,
            "ticks": ""
           }
          },
          "colorscale": {
           "diverging": [
            [
             0,
             "#8e0152"
            ],
            [
             0.1,
             "#c51b7d"
            ],
            [
             0.2,
             "#de77ae"
            ],
            [
             0.3,
             "#f1b6da"
            ],
            [
             0.4,
             "#fde0ef"
            ],
            [
             0.5,
             "#f7f7f7"
            ],
            [
             0.6,
             "#e6f5d0"
            ],
            [
             0.7,
             "#b8e186"
            ],
            [
             0.8,
             "#7fbc41"
            ],
            [
             0.9,
             "#4d9221"
            ],
            [
             1,
             "#276419"
            ]
           ],
           "sequential": [
            [
             0,
             "#0d0887"
            ],
            [
             0.1111111111111111,
             "#46039f"
            ],
            [
             0.2222222222222222,
             "#7201a8"
            ],
            [
             0.3333333333333333,
             "#9c179e"
            ],
            [
             0.4444444444444444,
             "#bd3786"
            ],
            [
             0.5555555555555556,
             "#d8576b"
            ],
            [
             0.6666666666666666,
             "#ed7953"
            ],
            [
             0.7777777777777778,
             "#fb9f3a"
            ],
            [
             0.8888888888888888,
             "#fdca26"
            ],
            [
             1,
             "#f0f921"
            ]
           ],
           "sequentialminus": [
            [
             0,
             "#0d0887"
            ],
            [
             0.1111111111111111,
             "#46039f"
            ],
            [
             0.2222222222222222,
             "#7201a8"
            ],
            [
             0.3333333333333333,
             "#9c179e"
            ],
            [
             0.4444444444444444,
             "#bd3786"
            ],
            [
             0.5555555555555556,
             "#d8576b"
            ],
            [
             0.6666666666666666,
             "#ed7953"
            ],
            [
             0.7777777777777778,
             "#fb9f3a"
            ],
            [
             0.8888888888888888,
             "#fdca26"
            ],
            [
             1,
             "#f0f921"
            ]
           ]
          },
          "colorway": [
           "#636efa",
           "#EF553B",
           "#00cc96",
           "#ab63fa",
           "#FFA15A",
           "#19d3f3",
           "#FF6692",
           "#B6E880",
           "#FF97FF",
           "#FECB52"
          ],
          "font": {
           "color": "#2a3f5f"
          },
          "geo": {
           "bgcolor": "white",
           "lakecolor": "white",
           "landcolor": "#E5ECF6",
           "showlakes": true,
           "showland": true,
           "subunitcolor": "white"
          },
          "hoverlabel": {
           "align": "left"
          },
          "hovermode": "closest",
          "mapbox": {
           "style": "light"
          },
          "paper_bgcolor": "white",
          "plot_bgcolor": "#E5ECF6",
          "polar": {
           "angularaxis": {
            "gridcolor": "white",
            "linecolor": "white",
            "ticks": ""
           },
           "bgcolor": "#E5ECF6",
           "radialaxis": {
            "gridcolor": "white",
            "linecolor": "white",
            "ticks": ""
           }
          },
          "scene": {
           "xaxis": {
            "backgroundcolor": "#E5ECF6",
            "gridcolor": "white",
            "gridwidth": 2,
            "linecolor": "white",
            "showbackground": true,
            "ticks": "",
            "zerolinecolor": "white"
           },
           "yaxis": {
            "backgroundcolor": "#E5ECF6",
            "gridcolor": "white",
            "gridwidth": 2,
            "linecolor": "white",
            "showbackground": true,
            "ticks": "",
            "zerolinecolor": "white"
           },
           "zaxis": {
            "backgroundcolor": "#E5ECF6",
            "gridcolor": "white",
            "gridwidth": 2,
            "linecolor": "white",
            "showbackground": true,
            "ticks": "",
            "zerolinecolor": "white"
           }
          },
          "shapedefaults": {
           "line": {
            "color": "#2a3f5f"
           }
          },
          "ternary": {
           "aaxis": {
            "gridcolor": "white",
            "linecolor": "white",
            "ticks": ""
           },
           "baxis": {
            "gridcolor": "white",
            "linecolor": "white",
            "ticks": ""
           },
           "bgcolor": "#E5ECF6",
           "caxis": {
            "gridcolor": "white",
            "linecolor": "white",
            "ticks": ""
           }
          },
          "title": {
           "x": 0.05
          },
          "xaxis": {
           "automargin": true,
           "gridcolor": "white",
           "linecolor": "white",
           "ticks": "",
           "title": {
            "standoff": 15
           },
           "zerolinecolor": "white",
           "zerolinewidth": 2
          },
          "yaxis": {
           "automargin": true,
           "gridcolor": "white",
           "linecolor": "white",
           "ticks": "",
           "title": {
            "standoff": 15
           },
           "zerolinecolor": "white",
           "zerolinewidth": 2
          }
         }
        },
        "xaxis": {
         "categoryorder": "total descending"
        }
       }
      },
      "text/html": [
       "<div>                            <div id=\"b8c57406-fa42-43bb-8e83-e4e204519f13\" class=\"plotly-graph-div\" style=\"height:525px; width:100%;\"></div>            <script type=\"text/javascript\">                require([\"plotly\"], function(Plotly) {                    window.PLOTLYENV=window.PLOTLYENV || {};                                    if (document.getElementById(\"b8c57406-fa42-43bb-8e83-e4e204519f13\")) {                    Plotly.newPlot(                        \"b8c57406-fa42-43bb-8e83-e4e204519f13\",                        [{\"textposition\": \"auto\", \"type\": \"bar\", \"x\": [\"First-Line Supervisors of Non-Retail Sales Workers\", \"First-Line Supervisors of Landscaping, Lawn Service, and Groundskeeping Workers\", \"Occupational Therapists\", \"Loan Officers\", \"Cement Masons and Concrete Finishers\", \"First-Line Supervisors of Housekeeping and Janitorial Workers\", \"First-Line Supervisors of Retail Sales Workers\", \"Physical Therapists\", \"Exercise Physiologists\", \"Special Education Teachers, Secondary School\", \"Audiologists\", \"Statisticians\", \"Cargo and Freight Agents\", \"Dining Room and Cafeteria Attendants and Bartender Helpers\", \"Food Servers, Nonrestaurant\", \"Registered Nurses\", \"Hotel, Motel, and Resort Desk Clerks\", \"Credit Counselors\", \"Skincare Specialists\", \"Nursing Assistants\", \"Special Education Teachers, Middle School\", \"Sales Representatives, Wholesale and Manufacturing, Except Technical and Scientific Products\", \"Career/Technical Education Teachers, Middle School\", \"Janitors and Cleaners, Except Maids and Housekeeping Cleaners\", \"Plasterers and Stucco Masons\", \"Mathematicians\", \"Psychiatric Technicians\", \"Demonstrators and Product Promoters\", \"Kindergarten Teachers, Except Special Education\", \"Sales Representatives, Wholesale and Manufacturing, Technical and Scientific Products\"], \"y\": [0.9358518644453213, 0.8369159689470757, 0.8271537590829033, 0.7427880643197132, 0.7425204155924321, 0.725070490991097, 0.7244394849543243, 0.7068969568057313, 0.7008801083955069, 0.6797215296119797]}],                        {\"barmode\": \"stack\", \"template\": {\"data\": {\"bar\": [{\"error_x\": {\"color\": \"#2a3f5f\"}, \"error_y\": {\"color\": \"#2a3f5f\"}, \"marker\": {\"line\": {\"color\": \"#E5ECF6\", \"width\": 0.5}}, \"type\": \"bar\"}], \"barpolar\": [{\"marker\": {\"line\": {\"color\": \"#E5ECF6\", \"width\": 0.5}}, \"type\": \"barpolar\"}], \"carpet\": [{\"aaxis\": {\"endlinecolor\": \"#2a3f5f\", \"gridcolor\": \"white\", \"linecolor\": \"white\", \"minorgridcolor\": \"white\", \"startlinecolor\": \"#2a3f5f\"}, \"baxis\": {\"endlinecolor\": \"#2a3f5f\", \"gridcolor\": \"white\", \"linecolor\": \"white\", \"minorgridcolor\": \"white\", \"startlinecolor\": \"#2a3f5f\"}, \"type\": \"carpet\"}], \"choropleth\": [{\"colorbar\": {\"outlinewidth\": 0, \"ticks\": \"\"}, \"type\": \"choropleth\"}], \"contour\": [{\"colorbar\": {\"outlinewidth\": 0, \"ticks\": \"\"}, \"colorscale\": [[0.0, \"#0d0887\"], [0.1111111111111111, \"#46039f\"], [0.2222222222222222, \"#7201a8\"], [0.3333333333333333, \"#9c179e\"], [0.4444444444444444, \"#bd3786\"], [0.5555555555555556, \"#d8576b\"], [0.6666666666666666, \"#ed7953\"], [0.7777777777777778, \"#fb9f3a\"], [0.8888888888888888, \"#fdca26\"], [1.0, \"#f0f921\"]], \"type\": \"contour\"}], \"contourcarpet\": [{\"colorbar\": {\"outlinewidth\": 0, \"ticks\": \"\"}, \"type\": \"contourcarpet\"}], \"heatmap\": [{\"colorbar\": {\"outlinewidth\": 0, \"ticks\": \"\"}, \"colorscale\": [[0.0, \"#0d0887\"], [0.1111111111111111, \"#46039f\"], [0.2222222222222222, \"#7201a8\"], [0.3333333333333333, \"#9c179e\"], [0.4444444444444444, \"#bd3786\"], [0.5555555555555556, \"#d8576b\"], [0.6666666666666666, \"#ed7953\"], [0.7777777777777778, \"#fb9f3a\"], [0.8888888888888888, \"#fdca26\"], [1.0, \"#f0f921\"]], \"type\": \"heatmap\"}], \"heatmapgl\": [{\"colorbar\": {\"outlinewidth\": 0, \"ticks\": \"\"}, \"colorscale\": [[0.0, \"#0d0887\"], [0.1111111111111111, \"#46039f\"], [0.2222222222222222, \"#7201a8\"], [0.3333333333333333, \"#9c179e\"], [0.4444444444444444, \"#bd3786\"], [0.5555555555555556, \"#d8576b\"], [0.6666666666666666, \"#ed7953\"], [0.7777777777777778, \"#fb9f3a\"], [0.8888888888888888, \"#fdca26\"], [1.0, \"#f0f921\"]], \"type\": \"heatmapgl\"}], \"histogram\": [{\"marker\": {\"colorbar\": {\"outlinewidth\": 0, \"ticks\": \"\"}}, \"type\": \"histogram\"}], \"histogram2d\": [{\"colorbar\": {\"outlinewidth\": 0, \"ticks\": \"\"}, \"colorscale\": [[0.0, \"#0d0887\"], [0.1111111111111111, \"#46039f\"], [0.2222222222222222, \"#7201a8\"], [0.3333333333333333, \"#9c179e\"], [0.4444444444444444, \"#bd3786\"], [0.5555555555555556, \"#d8576b\"], [0.6666666666666666, \"#ed7953\"], [0.7777777777777778, \"#fb9f3a\"], [0.8888888888888888, \"#fdca26\"], [1.0, \"#f0f921\"]], \"type\": \"histogram2d\"}], \"histogram2dcontour\": [{\"colorbar\": {\"outlinewidth\": 0, \"ticks\": \"\"}, \"colorscale\": [[0.0, \"#0d0887\"], [0.1111111111111111, \"#46039f\"], [0.2222222222222222, \"#7201a8\"], [0.3333333333333333, \"#9c179e\"], [0.4444444444444444, \"#bd3786\"], [0.5555555555555556, \"#d8576b\"], [0.6666666666666666, \"#ed7953\"], [0.7777777777777778, \"#fb9f3a\"], [0.8888888888888888, \"#fdca26\"], [1.0, \"#f0f921\"]], \"type\": \"histogram2dcontour\"}], \"mesh3d\": [{\"colorbar\": {\"outlinewidth\": 0, \"ticks\": \"\"}, \"type\": \"mesh3d\"}], \"parcoords\": [{\"line\": {\"colorbar\": {\"outlinewidth\": 0, \"ticks\": \"\"}}, \"type\": \"parcoords\"}], \"pie\": [{\"automargin\": true, \"type\": \"pie\"}], \"scatter\": [{\"marker\": {\"colorbar\": {\"outlinewidth\": 0, \"ticks\": \"\"}}, \"type\": \"scatter\"}], \"scatter3d\": [{\"line\": {\"colorbar\": {\"outlinewidth\": 0, \"ticks\": \"\"}}, \"marker\": {\"colorbar\": {\"outlinewidth\": 0, \"ticks\": \"\"}}, \"type\": \"scatter3d\"}], \"scattercarpet\": [{\"marker\": {\"colorbar\": {\"outlinewidth\": 0, \"ticks\": \"\"}}, \"type\": \"scattercarpet\"}], \"scattergeo\": [{\"marker\": {\"colorbar\": {\"outlinewidth\": 0, \"ticks\": \"\"}}, \"type\": \"scattergeo\"}], \"scattergl\": [{\"marker\": {\"colorbar\": {\"outlinewidth\": 0, \"ticks\": \"\"}}, \"type\": \"scattergl\"}], \"scattermapbox\": [{\"marker\": {\"colorbar\": {\"outlinewidth\": 0, \"ticks\": \"\"}}, \"type\": \"scattermapbox\"}], \"scatterpolar\": [{\"marker\": {\"colorbar\": {\"outlinewidth\": 0, \"ticks\": \"\"}}, \"type\": \"scatterpolar\"}], \"scatterpolargl\": [{\"marker\": {\"colorbar\": {\"outlinewidth\": 0, \"ticks\": \"\"}}, \"type\": \"scatterpolargl\"}], \"scatterternary\": [{\"marker\": {\"colorbar\": {\"outlinewidth\": 0, \"ticks\": \"\"}}, \"type\": \"scatterternary\"}], \"surface\": [{\"colorbar\": {\"outlinewidth\": 0, \"ticks\": \"\"}, \"colorscale\": [[0.0, \"#0d0887\"], [0.1111111111111111, \"#46039f\"], [0.2222222222222222, \"#7201a8\"], [0.3333333333333333, \"#9c179e\"], [0.4444444444444444, \"#bd3786\"], [0.5555555555555556, \"#d8576b\"], [0.6666666666666666, \"#ed7953\"], [0.7777777777777778, \"#fb9f3a\"], [0.8888888888888888, \"#fdca26\"], [1.0, \"#f0f921\"]], \"type\": \"surface\"}], \"table\": [{\"cells\": {\"fill\": {\"color\": \"#EBF0F8\"}, \"line\": {\"color\": \"white\"}}, \"header\": {\"fill\": {\"color\": \"#C8D4E3\"}, \"line\": {\"color\": \"white\"}}, \"type\": \"table\"}]}, \"layout\": {\"annotationdefaults\": {\"arrowcolor\": \"#2a3f5f\", \"arrowhead\": 0, \"arrowwidth\": 1}, \"coloraxis\": {\"colorbar\": {\"outlinewidth\": 0, \"ticks\": \"\"}}, \"colorscale\": {\"diverging\": [[0, \"#8e0152\"], [0.1, \"#c51b7d\"], [0.2, \"#de77ae\"], [0.3, \"#f1b6da\"], [0.4, \"#fde0ef\"], [0.5, \"#f7f7f7\"], [0.6, \"#e6f5d0\"], [0.7, \"#b8e186\"], [0.8, \"#7fbc41\"], [0.9, \"#4d9221\"], [1, \"#276419\"]], \"sequential\": [[0.0, \"#0d0887\"], [0.1111111111111111, \"#46039f\"], [0.2222222222222222, \"#7201a8\"], [0.3333333333333333, \"#9c179e\"], [0.4444444444444444, \"#bd3786\"], [0.5555555555555556, \"#d8576b\"], [0.6666666666666666, \"#ed7953\"], [0.7777777777777778, \"#fb9f3a\"], [0.8888888888888888, \"#fdca26\"], [1.0, \"#f0f921\"]], \"sequentialminus\": [[0.0, \"#0d0887\"], [0.1111111111111111, \"#46039f\"], [0.2222222222222222, \"#7201a8\"], [0.3333333333333333, \"#9c179e\"], [0.4444444444444444, \"#bd3786\"], [0.5555555555555556, \"#d8576b\"], [0.6666666666666666, \"#ed7953\"], [0.7777777777777778, \"#fb9f3a\"], [0.8888888888888888, \"#fdca26\"], [1.0, \"#f0f921\"]]}, \"colorway\": [\"#636efa\", \"#EF553B\", \"#00cc96\", \"#ab63fa\", \"#FFA15A\", \"#19d3f3\", \"#FF6692\", \"#B6E880\", \"#FF97FF\", \"#FECB52\"], \"font\": {\"color\": \"#2a3f5f\"}, \"geo\": {\"bgcolor\": \"white\", \"lakecolor\": \"white\", \"landcolor\": \"#E5ECF6\", \"showlakes\": true, \"showland\": true, \"subunitcolor\": \"white\"}, \"hoverlabel\": {\"align\": \"left\"}, \"hovermode\": \"closest\", \"mapbox\": {\"style\": \"light\"}, \"paper_bgcolor\": \"white\", \"plot_bgcolor\": \"#E5ECF6\", \"polar\": {\"angularaxis\": {\"gridcolor\": \"white\", \"linecolor\": \"white\", \"ticks\": \"\"}, \"bgcolor\": \"#E5ECF6\", \"radialaxis\": {\"gridcolor\": \"white\", \"linecolor\": \"white\", \"ticks\": \"\"}}, \"scene\": {\"xaxis\": {\"backgroundcolor\": \"#E5ECF6\", \"gridcolor\": \"white\", \"gridwidth\": 2, \"linecolor\": \"white\", \"showbackground\": true, \"ticks\": \"\", \"zerolinecolor\": \"white\"}, \"yaxis\": {\"backgroundcolor\": \"#E5ECF6\", \"gridcolor\": \"white\", \"gridwidth\": 2, \"linecolor\": \"white\", \"showbackground\": true, \"ticks\": \"\", \"zerolinecolor\": \"white\"}, \"zaxis\": {\"backgroundcolor\": \"#E5ECF6\", \"gridcolor\": \"white\", \"gridwidth\": 2, \"linecolor\": \"white\", \"showbackground\": true, \"ticks\": \"\", \"zerolinecolor\": \"white\"}}, \"shapedefaults\": {\"line\": {\"color\": \"#2a3f5f\"}}, \"ternary\": {\"aaxis\": {\"gridcolor\": \"white\", \"linecolor\": \"white\", \"ticks\": \"\"}, \"baxis\": {\"gridcolor\": \"white\", \"linecolor\": \"white\", \"ticks\": \"\"}, \"bgcolor\": \"#E5ECF6\", \"caxis\": {\"gridcolor\": \"white\", \"linecolor\": \"white\", \"ticks\": \"\"}}, \"title\": {\"x\": 0.05}, \"xaxis\": {\"automargin\": true, \"gridcolor\": \"white\", \"linecolor\": \"white\", \"ticks\": \"\", \"title\": {\"standoff\": 15}, \"zerolinecolor\": \"white\", \"zerolinewidth\": 2}, \"yaxis\": {\"automargin\": true, \"gridcolor\": \"white\", \"linecolor\": \"white\", \"ticks\": \"\", \"title\": {\"standoff\": 15}, \"zerolinecolor\": \"white\", \"zerolinewidth\": 2}}}, \"xaxis\": {\"categoryorder\": \"total descending\"}},                        {\"responsive\": true}                    ).then(function(){\n",
       "                            \n",
       "var gd = document.getElementById('b8c57406-fa42-43bb-8e83-e4e204519f13');\n",
       "var x = new MutationObserver(function (mutations, observer) {{\n",
       "        var display = window.getComputedStyle(gd).display;\n",
       "        if (!display || display === 'none') {{\n",
       "            console.log([gd, 'removed!']);\n",
       "            Plotly.purge(gd);\n",
       "            observer.disconnect();\n",
       "        }}\n",
       "}});\n",
       "\n",
       "// Listen for the removal of the full notebook cells\n",
       "var notebookContainer = gd.closest('#notebook-container');\n",
       "if (notebookContainer) {{\n",
       "    x.observe(notebookContainer, {childList: true});\n",
       "}}\n",
       "\n",
       "// Listen for the clearing of the current output cell\n",
       "var outputEl = gd.closest('.output');\n",
       "if (outputEl) {{\n",
       "    x.observe(outputEl, {childList: true});\n",
       "}}\n",
       "\n",
       "                        })                };                });            </script>        </div>"
      ]
     },
     "metadata": {},
     "output_type": "display_data"
    }
   ],
   "source": [
    "distribution(occ_alg2)"
   ]
  },
  {
   "cell_type": "markdown",
   "metadata": {},
   "source": [
    "### Occupational Therapists"
   ]
  },
  {
   "cell_type": "code",
   "execution_count": 84,
   "metadata": {},
   "outputs": [
    {
     "data": {
      "text/plain": [
       "Recreational Therapists                             -2.047346\n",
       "Nurse Midwives                                      -1.997816\n",
       "Nurse Practitioners                                 -1.871316\n",
       "Registered Nurses                                   -1.833238\n",
       "Licensed Practical and Licensed Vocational Nurses   -1.807966\n",
       "Physical Therapists                                 -1.800402\n",
       "Music Therapists                                    -1.753355\n",
       "Midwives                                            -1.664768\n",
       "Critical Care Nurses                                -1.628603\n",
       "Speech-Language Pathologists                        -1.619891\n",
       "Name: Occupational Therapists, dtype: float64"
      ]
     },
     "execution_count": 84,
     "metadata": {},
     "output_type": "execute_result"
    }
   ],
   "source": [
    "df_concat.loc['Occupational Therapists'].sort_values()[0:10]"
   ]
  },
  {
   "cell_type": "code",
   "execution_count": 83,
   "metadata": {},
   "outputs": [
    {
     "data": {
      "text/html": [
       "<div>\n",
       "<style scoped>\n",
       "    .dataframe tbody tr th:only-of-type {\n",
       "        vertical-align: middle;\n",
       "    }\n",
       "\n",
       "    .dataframe tbody tr th {\n",
       "        vertical-align: top;\n",
       "    }\n",
       "\n",
       "    .dataframe thead th {\n",
       "        text-align: right;\n",
       "    }\n",
       "</style>\n",
       "<table border=\"1\" class=\"dataframe\">\n",
       "  <thead>\n",
       "    <tr style=\"text-align: right;\">\n",
       "      <th></th>\n",
       "      <th>ONET18_SOC_LY</th>\n",
       "      <th>ONET18_SOC</th>\n",
       "      <th>ONET18_Title</th>\n",
       "      <th>ONET18_Title_LY</th>\n",
       "      <th>count</th>\n",
       "      <th>pct_tot</th>\n",
       "      <th>count_socly</th>\n",
       "      <th>pct_socly</th>\n",
       "      <th>in_grp</th>\n",
       "      <th>in_minor_grp</th>\n",
       "      <th>in_broad_occ</th>\n",
       "      <th>employment_projection_NewJob</th>\n",
       "      <th>wage_change_BetweenJobs</th>\n",
       "    </tr>\n",
       "  </thead>\n",
       "  <tbody>\n",
       "    <tr>\n",
       "      <th>50445</th>\n",
       "      <td>29-1122</td>\n",
       "      <td>29-1141</td>\n",
       "      <td>Registered Nurses</td>\n",
       "      <td>Occupational Therapists</td>\n",
       "      <td>76567.070</td>\n",
       "      <td>0.045835</td>\n",
       "      <td>115545.99</td>\n",
       "      <td>66.265450</td>\n",
       "      <td>1</td>\n",
       "      <td>1</td>\n",
       "      <td>0</td>\n",
       "      <td>7.2</td>\n",
       "      <td>-13.712047</td>\n",
       "    </tr>\n",
       "    <tr>\n",
       "      <th>50441</th>\n",
       "      <td>29-1122</td>\n",
       "      <td>29-1127</td>\n",
       "      <td>Speech-Language Pathologists</td>\n",
       "      <td>Occupational Therapists</td>\n",
       "      <td>5196.690</td>\n",
       "      <td>0.003111</td>\n",
       "      <td>115545.99</td>\n",
       "      <td>4.497508</td>\n",
       "      <td>1</td>\n",
       "      <td>1</td>\n",
       "      <td>1</td>\n",
       "      <td>24.9</td>\n",
       "      <td>-6.856024</td>\n",
       "    </tr>\n",
       "    <tr>\n",
       "      <th>50442</th>\n",
       "      <td>29-1122</td>\n",
       "      <td>29-1128</td>\n",
       "      <td>Exercise Physiologists</td>\n",
       "      <td>Occupational Therapists</td>\n",
       "      <td>4673.120</td>\n",
       "      <td>0.002797</td>\n",
       "      <td>115545.99</td>\n",
       "      <td>4.044381</td>\n",
       "      <td>1</td>\n",
       "      <td>1</td>\n",
       "      <td>1</td>\n",
       "      <td>11.3</td>\n",
       "      <td>-42.115573</td>\n",
       "    </tr>\n",
       "    <tr>\n",
       "      <th>50443</th>\n",
       "      <td>29-1122</td>\n",
       "      <td>29-1129</td>\n",
       "      <td>Therapists, All Other</td>\n",
       "      <td>Occupational Therapists</td>\n",
       "      <td>4673.120</td>\n",
       "      <td>0.002797</td>\n",
       "      <td>115545.99</td>\n",
       "      <td>4.044381</td>\n",
       "      <td>1</td>\n",
       "      <td>1</td>\n",
       "      <td>1</td>\n",
       "      <td>14.6</td>\n",
       "      <td>-38.026445</td>\n",
       "    </tr>\n",
       "    <tr>\n",
       "      <th>50440</th>\n",
       "      <td>29-1122</td>\n",
       "      <td>29-1123</td>\n",
       "      <td>Physical Therapists</td>\n",
       "      <td>Occupational Therapists</td>\n",
       "      <td>4434.860</td>\n",
       "      <td>0.002655</td>\n",
       "      <td>115545.99</td>\n",
       "      <td>3.838177</td>\n",
       "      <td>1</td>\n",
       "      <td>1</td>\n",
       "      <td>1</td>\n",
       "      <td>18.2</td>\n",
       "      <td>5.288932</td>\n",
       "    </tr>\n",
       "    <tr>\n",
       "      <th>50393</th>\n",
       "      <td>29-1122</td>\n",
       "      <td>11-9111</td>\n",
       "      <td>Medical and Health Services Managers</td>\n",
       "      <td>Occupational Therapists</td>\n",
       "      <td>2998.100</td>\n",
       "      <td>0.001795</td>\n",
       "      <td>115545.99</td>\n",
       "      <td>2.594724</td>\n",
       "      <td>0</td>\n",
       "      <td>0</td>\n",
       "      <td>0</td>\n",
       "      <td>31.5</td>\n",
       "      <td>18.878550</td>\n",
       "    </tr>\n",
       "    <tr>\n",
       "      <th>50392</th>\n",
       "      <td>29-1122</td>\n",
       "      <td>11-9013</td>\n",
       "      <td>Farmers, Ranchers, and Other Agricultural Mana...</td>\n",
       "      <td>Occupational Therapists</td>\n",
       "      <td>2727.860</td>\n",
       "      <td>0.001633</td>\n",
       "      <td>115545.99</td>\n",
       "      <td>2.360844</td>\n",
       "      <td>0</td>\n",
       "      <td>0</td>\n",
       "      <td>0</td>\n",
       "      <td>-6.5</td>\n",
       "      <td>-16.234084</td>\n",
       "    </tr>\n",
       "    <tr>\n",
       "      <th>50439</th>\n",
       "      <td>29-1122</td>\n",
       "      <td>29-1071</td>\n",
       "      <td>Physician Assistants</td>\n",
       "      <td>Occupational Therapists</td>\n",
       "      <td>2586.270</td>\n",
       "      <td>0.001548</td>\n",
       "      <td>115545.99</td>\n",
       "      <td>2.238304</td>\n",
       "      <td>1</td>\n",
       "      <td>0</td>\n",
       "      <td>0</td>\n",
       "      <td>31.3</td>\n",
       "      <td>32.149853</td>\n",
       "    </tr>\n",
       "    <tr>\n",
       "      <th>50446</th>\n",
       "      <td>29-1122</td>\n",
       "      <td>29-1151</td>\n",
       "      <td>Nurse Anesthetists</td>\n",
       "      <td>Occupational Therapists</td>\n",
       "      <td>2038.310</td>\n",
       "      <td>0.001220</td>\n",
       "      <td>115545.99</td>\n",
       "      <td>1.764068</td>\n",
       "      <td>1</td>\n",
       "      <td>1</td>\n",
       "      <td>0</td>\n",
       "      <td>13.7</td>\n",
       "      <td>105.754163</td>\n",
       "    </tr>\n",
       "    <tr>\n",
       "      <th>50447</th>\n",
       "      <td>29-1122</td>\n",
       "      <td>29-1161</td>\n",
       "      <td>Nurse Midwives</td>\n",
       "      <td>Occupational Therapists</td>\n",
       "      <td>1629.885</td>\n",
       "      <td>0.000976</td>\n",
       "      <td>115545.99</td>\n",
       "      <td>1.410594</td>\n",
       "      <td>1</td>\n",
       "      <td>1</td>\n",
       "      <td>0</td>\n",
       "      <td>11.6</td>\n",
       "      <td>23.653281</td>\n",
       "    </tr>\n",
       "  </tbody>\n",
       "</table>\n",
       "</div>"
      ],
      "text/plain": [
       "      ONET18_SOC_LY ONET18_SOC  \\\n",
       "50445       29-1122    29-1141   \n",
       "50441       29-1122    29-1127   \n",
       "50442       29-1122    29-1128   \n",
       "50443       29-1122    29-1129   \n",
       "50440       29-1122    29-1123   \n",
       "50393       29-1122    11-9111   \n",
       "50392       29-1122    11-9013   \n",
       "50439       29-1122    29-1071   \n",
       "50446       29-1122    29-1151   \n",
       "50447       29-1122    29-1161   \n",
       "\n",
       "                                            ONET18_Title  \\\n",
       "50445                                  Registered Nurses   \n",
       "50441                       Speech-Language Pathologists   \n",
       "50442                             Exercise Physiologists   \n",
       "50443                              Therapists, All Other   \n",
       "50440                                Physical Therapists   \n",
       "50393               Medical and Health Services Managers   \n",
       "50392  Farmers, Ranchers, and Other Agricultural Mana...   \n",
       "50439                               Physician Assistants   \n",
       "50446                                 Nurse Anesthetists   \n",
       "50447                                     Nurse Midwives   \n",
       "\n",
       "               ONET18_Title_LY      count   pct_tot  count_socly  pct_socly  \\\n",
       "50445  Occupational Therapists  76567.070  0.045835    115545.99  66.265450   \n",
       "50441  Occupational Therapists   5196.690  0.003111    115545.99   4.497508   \n",
       "50442  Occupational Therapists   4673.120  0.002797    115545.99   4.044381   \n",
       "50443  Occupational Therapists   4673.120  0.002797    115545.99   4.044381   \n",
       "50440  Occupational Therapists   4434.860  0.002655    115545.99   3.838177   \n",
       "50393  Occupational Therapists   2998.100  0.001795    115545.99   2.594724   \n",
       "50392  Occupational Therapists   2727.860  0.001633    115545.99   2.360844   \n",
       "50439  Occupational Therapists   2586.270  0.001548    115545.99   2.238304   \n",
       "50446  Occupational Therapists   2038.310  0.001220    115545.99   1.764068   \n",
       "50447  Occupational Therapists   1629.885  0.000976    115545.99   1.410594   \n",
       "\n",
       "       in_grp  in_minor_grp  in_broad_occ  employment_projection_NewJob  \\\n",
       "50445       1             1             0                           7.2   \n",
       "50441       1             1             1                          24.9   \n",
       "50442       1             1             1                          11.3   \n",
       "50443       1             1             1                          14.6   \n",
       "50440       1             1             1                          18.2   \n",
       "50393       0             0             0                          31.5   \n",
       "50392       0             0             0                          -6.5   \n",
       "50439       1             0             0                          31.3   \n",
       "50446       1             1             0                          13.7   \n",
       "50447       1             1             0                          11.6   \n",
       "\n",
       "       wage_change_BetweenJobs  \n",
       "50445               -13.712047  \n",
       "50441                -6.856024  \n",
       "50442               -42.115573  \n",
       "50443               -38.026445  \n",
       "50440                 5.288932  \n",
       "50393                18.878550  \n",
       "50392               -16.234084  \n",
       "50439                32.149853  \n",
       "50446               105.754163  \n",
       "50447                23.653281  "
      ]
     },
     "execution_count": 83,
     "metadata": {},
     "output_type": "execute_result"
    }
   ],
   "source": [
    "df_cps[df_cps['ONET18_Title_LY'] == 'Occupational Therapists'].sort_values(by = 'pct_tot', ascending = False)[:10]"
   ]
  },
  {
   "cell_type": "markdown",
   "metadata": {},
   "source": [
    "## First-Line Supervisors of Non-Retail Sales Workers"
   ]
  },
  {
   "cell_type": "code",
   "execution_count": 86,
   "metadata": {},
   "outputs": [
    {
     "data": {
      "text/plain": [
       "General and Operations Managers                                                              -1.831166\n",
       "Gaming Managers                                                                              -1.815987\n",
       "Administrative Services Managers                                                             -1.779102\n",
       "First-Line Supervisors of Office and Administrative Support Workers                          -1.677219\n",
       "Compliance Managers                                                                          -1.633127\n",
       "First-Line Supervisors of Transportation and Material-Moving Machine and Vehicle Operators   -1.614790\n",
       "Purchasing Managers                                                                          -1.605301\n",
       "Education Administrators, Postsecondary                                                      -1.586060\n",
       "Lodging Managers                                                                             -1.571804\n",
       "Auditors                                                                                     -1.568164\n",
       "Advertising and Promotions Managers                                                          -1.563184\n",
       "Financial Managers, Branch or Department                                                     -1.543541\n",
       "First-Line Supervisors of Retail Sales Workers                                               -1.542755\n",
       "Logisticians                                                                                 -1.496404\n",
       "Buyers and Purchasing Agents, Farm Products                                                  -1.458419\n",
       "Coaches and Scouts                                                                           -1.436148\n",
       "First-Line Supervisors of Helpers, Laborers, and Material Movers, Hand                       -1.431355\n",
       "Business Continuity Planners                                                                 -1.430657\n",
       "Loss Prevention Managers                                                                     -1.403291\n",
       "Spa Managers                                                                                 -1.393198\n",
       "Name: First-Line Supervisors of Non-Retail Sales Workers, dtype: float64"
      ]
     },
     "execution_count": 86,
     "metadata": {},
     "output_type": "execute_result"
    }
   ],
   "source": [
    "df_concat.loc['First-Line Supervisors of Non-Retail Sales Workers'].sort_values()[0:20]"
   ]
  },
  {
   "cell_type": "code",
   "execution_count": 101,
   "metadata": {},
   "outputs": [
    {
     "data": {
      "text/plain": [
       "First-Line Supervisors of Office and Administrative Support Workers   -2.526221\n",
       "Gaming Managers                                                       -2.309424\n",
       "First-Line Supervisors of Retail Sales Workers                        -2.285236\n",
       "Purchasing Managers                                                   -2.252855\n",
       "Sales Managers                                                        -2.247404\n",
       "Financial Managers, Branch or Department                              -2.236861\n",
       "Postmasters and Mail Superintendents                                  -2.156335\n",
       "Transportation Managers                                               -2.132636\n",
       "Spa Managers                                                          -2.093977\n",
       "Logisticians                                                          -2.073113\n",
       "Name: First-Line Supervisors of Non-Retail Sales Workers, dtype: float64"
      ]
     },
     "execution_count": 101,
     "metadata": {},
     "output_type": "execute_result"
    }
   ],
   "source": [
    "df_new.loc['First-Line Supervisors of Non-Retail Sales Workers'].sort_values()[0:10]"
   ]
  },
  {
   "cell_type": "code",
   "execution_count": 104,
   "metadata": {},
   "outputs": [
    {
     "data": {
      "text/html": [
       "<div>\n",
       "<style scoped>\n",
       "    .dataframe tbody tr th:only-of-type {\n",
       "        vertical-align: middle;\n",
       "    }\n",
       "\n",
       "    .dataframe tbody tr th {\n",
       "        vertical-align: top;\n",
       "    }\n",
       "\n",
       "    .dataframe thead th {\n",
       "        text-align: right;\n",
       "    }\n",
       "</style>\n",
       "<table border=\"1\" class=\"dataframe\">\n",
       "  <thead>\n",
       "    <tr style=\"text-align: right;\">\n",
       "      <th></th>\n",
       "      <th>ONET18_Title</th>\n",
       "      <th>employment_projection_NewJob</th>\n",
       "      <th>wage_change_BetweenJobs</th>\n",
       "      <th>pct_socly</th>\n",
       "    </tr>\n",
       "  </thead>\n",
       "  <tbody>\n",
       "    <tr>\n",
       "      <th>76141</th>\n",
       "      <td>First-Line Supervisors of Retail Sales Workers</td>\n",
       "      <td>-5.5</td>\n",
       "      <td>-46.021146</td>\n",
       "      <td>60.357429</td>\n",
       "    </tr>\n",
       "    <tr>\n",
       "      <th>75986</th>\n",
       "      <td>General and Operations Managers</td>\n",
       "      <td>5.8</td>\n",
       "      <td>34.808013</td>\n",
       "      <td>1.044561</td>\n",
       "    </tr>\n",
       "    <tr>\n",
       "      <th>75988</th>\n",
       "      <td>Marketing Managers</td>\n",
       "      <td>6.7</td>\n",
       "      <td>83.055092</td>\n",
       "      <td>0.773958</td>\n",
       "    </tr>\n",
       "    <tr>\n",
       "      <th>75989</th>\n",
       "      <td>Sales Managers</td>\n",
       "      <td>3.5</td>\n",
       "      <td>69.421258</td>\n",
       "      <td>0.773958</td>\n",
       "    </tr>\n",
       "    <tr>\n",
       "      <th>76145</th>\n",
       "      <td>Retail Salespersons</td>\n",
       "      <td>-0.6</td>\n",
       "      <td>-66.221480</td>\n",
       "      <td>0.625479</td>\n",
       "    </tr>\n",
       "    <tr>\n",
       "      <th>76211</th>\n",
       "      <td>Stationary Engineers and Boiler Operators</td>\n",
       "      <td>2.2</td>\n",
       "      <td>-16.861436</td>\n",
       "      <td>0.591123</td>\n",
       "    </tr>\n",
       "    <tr>\n",
       "      <th>76024</th>\n",
       "      <td>Accountants and Auditors</td>\n",
       "      <td>4.3</td>\n",
       "      <td>-4.284919</td>\n",
       "      <td>0.561387</td>\n",
       "    </tr>\n",
       "    <tr>\n",
       "      <th>76138</th>\n",
       "      <td>Childcare Workers</td>\n",
       "      <td>1.7</td>\n",
       "      <td>-67.584864</td>\n",
       "      <td>0.546774</td>\n",
       "    </tr>\n",
       "    <tr>\n",
       "      <th>76198</th>\n",
       "      <td>First-Line Supervisors of Production and Opera...</td>\n",
       "      <td>-0.3</td>\n",
       "      <td>-17.974402</td>\n",
       "      <td>0.530215</td>\n",
       "    </tr>\n",
       "    <tr>\n",
       "      <th>76181</th>\n",
       "      <td>Construction Laborers</td>\n",
       "      <td>5.4</td>\n",
       "      <td>-50.695604</td>\n",
       "      <td>0.504579</td>\n",
       "    </tr>\n",
       "  </tbody>\n",
       "</table>\n",
       "</div>"
      ],
      "text/plain": [
       "                                            ONET18_Title  \\\n",
       "76141     First-Line Supervisors of Retail Sales Workers   \n",
       "75986                    General and Operations Managers   \n",
       "75988                                 Marketing Managers   \n",
       "75989                                     Sales Managers   \n",
       "76145                                Retail Salespersons   \n",
       "76211          Stationary Engineers and Boiler Operators   \n",
       "76024                           Accountants and Auditors   \n",
       "76138                                  Childcare Workers   \n",
       "76198  First-Line Supervisors of Production and Opera...   \n",
       "76181                              Construction Laborers   \n",
       "\n",
       "       employment_projection_NewJob  wage_change_BetweenJobs  pct_socly  \n",
       "76141                          -5.5               -46.021146  60.357429  \n",
       "75986                           5.8                34.808013   1.044561  \n",
       "75988                           6.7                83.055092   0.773958  \n",
       "75989                           3.5                69.421258   0.773958  \n",
       "76145                          -0.6               -66.221480   0.625479  \n",
       "76211                           2.2               -16.861436   0.591123  \n",
       "76024                           4.3                -4.284919   0.561387  \n",
       "76138                           1.7               -67.584864   0.546774  \n",
       "76198                          -0.3               -17.974402   0.530215  \n",
       "76181                           5.4               -50.695604   0.504579  "
      ]
     },
     "execution_count": 104,
     "metadata": {},
     "output_type": "execute_result"
    }
   ],
   "source": [
    "df_cps[df_cps['ONET18_Title_LY'] == 'First-Line Supervisors of Non-Retail Sales Workers'].sort_values(by = 'pct_socly', ascending = False)[:10][['ONET18_Title','employment_projection_NewJob','wage_change_BetweenJobs','pct_socly']]"
   ]
  },
  {
   "cell_type": "markdown",
   "metadata": {},
   "source": [
    "## Retail Salespersons"
   ]
  },
  {
   "cell_type": "code",
   "execution_count": 114,
   "metadata": {},
   "outputs": [
    {
     "data": {
      "text/plain": [
       "Demonstrators and Product Promoters                                        -2.258904\n",
       "Counter and Rental Clerks                                                  -2.186155\n",
       "Door-To-Door Sales Workers, News and Street Vendors, and Related Workers   -2.077470\n",
       "Bartenders                                                                 -2.060698\n",
       "Hotel, Motel, and Resort Desk Clerks                                       -2.059661\n",
       "Gaming Supervisors                                                         -1.996016\n",
       "Hosts and Hostesses, Restaurant, Lounge, and Coffee Shop                   -1.917422\n",
       "Cashiers                                                                   -1.902887\n",
       "Waiters and Waitresses                                                     -1.876960\n",
       "Insurance Sales Agents                                                     -1.867913\n",
       "Name: Retail Salespersons, dtype: float64"
      ]
     },
     "execution_count": 114,
     "metadata": {},
     "output_type": "execute_result"
    }
   ],
   "source": [
    "df_new.loc['Retail Salespersons'].sort_values()[0:10]"
   ]
  },
  {
   "cell_type": "code",
   "execution_count": 115,
   "metadata": {
    "scrolled": true
   },
   "outputs": [
    {
     "data": {
      "text/html": [
       "<div>\n",
       "<style scoped>\n",
       "    .dataframe tbody tr th:only-of-type {\n",
       "        vertical-align: middle;\n",
       "    }\n",
       "\n",
       "    .dataframe tbody tr th {\n",
       "        vertical-align: top;\n",
       "    }\n",
       "\n",
       "    .dataframe thead th {\n",
       "        text-align: right;\n",
       "    }\n",
       "</style>\n",
       "<table border=\"1\" class=\"dataframe\">\n",
       "  <thead>\n",
       "    <tr style=\"text-align: right;\">\n",
       "      <th></th>\n",
       "      <th>ONET18_Title</th>\n",
       "      <th>employment_projection_NewJob</th>\n",
       "      <th>wage_change_BetweenJobs</th>\n",
       "      <th>pct_socly</th>\n",
       "    </tr>\n",
       "  </thead>\n",
       "  <tbody>\n",
       "    <tr>\n",
       "      <th>77839</th>\n",
       "      <td>Cashiers</td>\n",
       "      <td>-7.4</td>\n",
       "      <td>-6.342669</td>\n",
       "      <td>7.110967</td>\n",
       "    </tr>\n",
       "    <tr>\n",
       "      <th>77840</th>\n",
       "      <td>Gambling Change Persons and Booth Cashiers</td>\n",
       "      <td>2.5</td>\n",
       "      <td>1.729819</td>\n",
       "      <td>7.110967</td>\n",
       "    </tr>\n",
       "    <tr>\n",
       "      <th>77844</th>\n",
       "      <td>Insurance Sales Agents</td>\n",
       "      <td>5.5</td>\n",
       "      <td>101.729819</td>\n",
       "      <td>4.564365</td>\n",
       "    </tr>\n",
       "    <tr>\n",
       "      <th>77847</th>\n",
       "      <td>Sales Representatives of Services, Except Adve...</td>\n",
       "      <td>6.0</td>\n",
       "      <td>122.322900</td>\n",
       "      <td>3.581331</td>\n",
       "    </tr>\n",
       "    <tr>\n",
       "      <th>77857</th>\n",
       "      <td>Sales and Related Workers, All Other</td>\n",
       "      <td>1.9</td>\n",
       "      <td>26.029654</td>\n",
       "      <td>3.381114</td>\n",
       "    </tr>\n",
       "    <tr>\n",
       "      <th>77848</th>\n",
       "      <td>Sales Representatives, Wholesale and Manufactu...</td>\n",
       "      <td>4.1</td>\n",
       "      <td>220.840198</td>\n",
       "      <td>3.336040</td>\n",
       "    </tr>\n",
       "    <tr>\n",
       "      <th>77849</th>\n",
       "      <td>Sales Representatives, Wholesale and Manufactu...</td>\n",
       "      <td>0.9</td>\n",
       "      <td>137.314662</td>\n",
       "      <td>3.336040</td>\n",
       "    </tr>\n",
       "    <tr>\n",
       "      <th>77853</th>\n",
       "      <td>Real Estate Sales Agents</td>\n",
       "      <td>2.3</td>\n",
       "      <td>93.822076</td>\n",
       "      <td>3.156278</td>\n",
       "    </tr>\n",
       "    <tr>\n",
       "      <th>77852</th>\n",
       "      <td>Real Estate Brokers</td>\n",
       "      <td>2.6</td>\n",
       "      <td>136.490939</td>\n",
       "      <td>3.156278</td>\n",
       "    </tr>\n",
       "    <tr>\n",
       "      <th>77876</th>\n",
       "      <td>Receptionists and Information Clerks</td>\n",
       "      <td>3.6</td>\n",
       "      <td>19.028007</td>\n",
       "      <td>2.808294</td>\n",
       "    </tr>\n",
       "  </tbody>\n",
       "</table>\n",
       "</div>"
      ],
      "text/plain": [
       "                                            ONET18_Title  \\\n",
       "77839                                           Cashiers   \n",
       "77840         Gambling Change Persons and Booth Cashiers   \n",
       "77844                             Insurance Sales Agents   \n",
       "77847  Sales Representatives of Services, Except Adve...   \n",
       "77857               Sales and Related Workers, All Other   \n",
       "77848  Sales Representatives, Wholesale and Manufactu...   \n",
       "77849  Sales Representatives, Wholesale and Manufactu...   \n",
       "77853                           Real Estate Sales Agents   \n",
       "77852                                Real Estate Brokers   \n",
       "77876               Receptionists and Information Clerks   \n",
       "\n",
       "       employment_projection_NewJob  wage_change_BetweenJobs  pct_socly  \n",
       "77839                          -7.4                -6.342669   7.110967  \n",
       "77840                           2.5                 1.729819   7.110967  \n",
       "77844                           5.5               101.729819   4.564365  \n",
       "77847                           6.0               122.322900   3.581331  \n",
       "77857                           1.9                26.029654   3.381114  \n",
       "77848                           4.1               220.840198   3.336040  \n",
       "77849                           0.9               137.314662   3.336040  \n",
       "77853                           2.3                93.822076   3.156278  \n",
       "77852                           2.6               136.490939   3.156278  \n",
       "77876                           3.6                19.028007   2.808294  "
      ]
     },
     "execution_count": 115,
     "metadata": {},
     "output_type": "execute_result"
    }
   ],
   "source": [
    "df_cps[df_cps['ONET18_Title_LY'] == 'Retail Salespersons'].sort_values(by = 'pct_socly', ascending = False)[:10][['ONET18_Title','employment_projection_NewJob','wage_change_BetweenJobs','pct_socly']]"
   ]
  },
  {
   "cell_type": "markdown",
   "metadata": {},
   "source": [
    "## Tutors"
   ]
  },
  {
   "cell_type": "code",
   "execution_count": 116,
   "metadata": {},
   "outputs": [
    {
     "data": {
      "text/plain": [
       "Adult Basic and Secondary Education and Literacy Teachers and Instructors   -2.168012\n",
       "Elementary School Teachers, Except Special Education                        -2.100491\n",
       "Special Education Teachers, Kindergarten and Elementary School              -2.091943\n",
       "Mathematical Science Teachers, Postsecondary                                -2.072074\n",
       "Home Economics Teachers, Postsecondary                                      -1.970068\n",
       "Special Education Teachers, Middle School                                   -1.940251\n",
       "Graduate Teaching Assistants                                                -1.906366\n",
       "Special Education Teachers, Preschool                                       -1.838197\n",
       "Kindergarten Teachers, Except Special Education                             -1.830166\n",
       "Secondary School Teachers, Except Special and Career/Technical Education    -1.810165\n",
       "Name: Tutors, dtype: float64"
      ]
     },
     "execution_count": 116,
     "metadata": {},
     "output_type": "execute_result"
    }
   ],
   "source": [
    "df_new.loc['Tutors'].sort_values()[0:10]"
   ]
  },
  {
   "cell_type": "code",
   "execution_count": 117,
   "metadata": {},
   "outputs": [
    {
     "data": {
      "text/html": [
       "<div>\n",
       "<style scoped>\n",
       "    .dataframe tbody tr th:only-of-type {\n",
       "        vertical-align: middle;\n",
       "    }\n",
       "\n",
       "    .dataframe tbody tr th {\n",
       "        vertical-align: top;\n",
       "    }\n",
       "\n",
       "    .dataframe thead th {\n",
       "        text-align: right;\n",
       "    }\n",
       "</style>\n",
       "<table border=\"1\" class=\"dataframe\">\n",
       "  <thead>\n",
       "    <tr style=\"text-align: right;\">\n",
       "      <th></th>\n",
       "      <th>ONET18_Title</th>\n",
       "      <th>employment_projection_NewJob</th>\n",
       "      <th>wage_change_BetweenJobs</th>\n",
       "      <th>pct_socly</th>\n",
       "    </tr>\n",
       "  </thead>\n",
       "  <tbody>\n",
       "    <tr>\n",
       "      <th>42172</th>\n",
       "      <td>Elementary School Teachers, Except Special Edu...</td>\n",
       "      <td>3.5</td>\n",
       "      <td>NaN</td>\n",
       "      <td>7.646580</td>\n",
       "    </tr>\n",
       "    <tr>\n",
       "      <th>42173</th>\n",
       "      <td>Middle School Teachers, Except Special and Car...</td>\n",
       "      <td>3.6</td>\n",
       "      <td>NaN</td>\n",
       "      <td>7.646580</td>\n",
       "    </tr>\n",
       "    <tr>\n",
       "      <th>42174</th>\n",
       "      <td>Career/Technical Education Teachers, Middle Sc...</td>\n",
       "      <td>3.1</td>\n",
       "      <td>NaN</td>\n",
       "      <td>7.646580</td>\n",
       "    </tr>\n",
       "    <tr>\n",
       "      <th>42175</th>\n",
       "      <td>Secondary School Teachers, Except Special and ...</td>\n",
       "      <td>3.8</td>\n",
       "      <td>NaN</td>\n",
       "      <td>4.402986</td>\n",
       "    </tr>\n",
       "    <tr>\n",
       "      <th>42176</th>\n",
       "      <td>Career/Technical Education Teachers, Secondary...</td>\n",
       "      <td>2.3</td>\n",
       "      <td>NaN</td>\n",
       "      <td>4.402986</td>\n",
       "    </tr>\n",
       "    <tr>\n",
       "      <th>42170</th>\n",
       "      <td>Preschool Teachers, Except Special Education</td>\n",
       "      <td>2.5</td>\n",
       "      <td>NaN</td>\n",
       "      <td>3.806340</td>\n",
       "    </tr>\n",
       "    <tr>\n",
       "      <th>42171</th>\n",
       "      <td>Kindergarten Teachers, Except Special Education</td>\n",
       "      <td>3.7</td>\n",
       "      <td>NaN</td>\n",
       "      <td>3.806340</td>\n",
       "    </tr>\n",
       "    <tr>\n",
       "      <th>42318</th>\n",
       "      <td>Retail Salespersons</td>\n",
       "      <td>-0.6</td>\n",
       "      <td>NaN</td>\n",
       "      <td>1.821566</td>\n",
       "    </tr>\n",
       "    <tr>\n",
       "      <th>42329</th>\n",
       "      <td>Customer Service Representatives</td>\n",
       "      <td>-2.0</td>\n",
       "      <td>NaN</td>\n",
       "      <td>1.580006</td>\n",
       "    </tr>\n",
       "    <tr>\n",
       "      <th>42310</th>\n",
       "      <td>Childcare Workers</td>\n",
       "      <td>1.7</td>\n",
       "      <td>NaN</td>\n",
       "      <td>1.478910</td>\n",
       "    </tr>\n",
       "  </tbody>\n",
       "</table>\n",
       "</div>"
      ],
      "text/plain": [
       "                                            ONET18_Title  \\\n",
       "42172  Elementary School Teachers, Except Special Edu...   \n",
       "42173  Middle School Teachers, Except Special and Car...   \n",
       "42174  Career/Technical Education Teachers, Middle Sc...   \n",
       "42175  Secondary School Teachers, Except Special and ...   \n",
       "42176  Career/Technical Education Teachers, Secondary...   \n",
       "42170       Preschool Teachers, Except Special Education   \n",
       "42171    Kindergarten Teachers, Except Special Education   \n",
       "42318                                Retail Salespersons   \n",
       "42329                   Customer Service Representatives   \n",
       "42310                                  Childcare Workers   \n",
       "\n",
       "       employment_projection_NewJob  wage_change_BetweenJobs  pct_socly  \n",
       "42172                           3.5                      NaN   7.646580  \n",
       "42173                           3.6                      NaN   7.646580  \n",
       "42174                           3.1                      NaN   7.646580  \n",
       "42175                           3.8                      NaN   4.402986  \n",
       "42176                           2.3                      NaN   4.402986  \n",
       "42170                           2.5                      NaN   3.806340  \n",
       "42171                           3.7                      NaN   3.806340  \n",
       "42318                          -0.6                      NaN   1.821566  \n",
       "42329                          -2.0                      NaN   1.580006  \n",
       "42310                           1.7                      NaN   1.478910  "
      ]
     },
     "execution_count": 117,
     "metadata": {},
     "output_type": "execute_result"
    }
   ],
   "source": [
    "df_cps[df_cps['ONET18_Title_LY'] == 'Tutors'].sort_values(by = 'pct_socly', ascending = False)[:10][['ONET18_Title','employment_projection_NewJob','wage_change_BetweenJobs','pct_socly']]"
   ]
  },
  {
   "cell_type": "markdown",
   "metadata": {},
   "source": [
    "## Private Detectives and Investigators "
   ]
  },
  {
   "cell_type": "code",
   "execution_count": 120,
   "metadata": {},
   "outputs": [
    {
     "data": {
      "text/plain": [
       "Licensing Examiners and Inspectors                  -2.188887\n",
       "Retail Loss Prevention Specialists                  -2.071166\n",
       "Assessors                                           -2.013458\n",
       "Real Estate Brokers                                 -1.959689\n",
       "Insurance Adjusters, Examiners, and Investigators   -1.941846\n",
       "Claims Examiners, Property and Casualty Insurance   -1.929849\n",
       "Tax Examiners and Collectors, and Revenue Agents    -1.915755\n",
       "Compliance Managers                                 -1.911921\n",
       "Immigration and Customs Inspectors                  -1.882182\n",
       "Insurance Sales Agents                              -1.840380\n",
       "Name: Private Detectives and Investigators, dtype: float64"
      ]
     },
     "execution_count": 120,
     "metadata": {},
     "output_type": "execute_result"
    }
   ],
   "source": [
    "df_new.loc['Private Detectives and Investigators'].sort_values()[0:10]"
   ]
  },
  {
   "cell_type": "code",
   "execution_count": 121,
   "metadata": {},
   "outputs": [
    {
     "data": {
      "text/html": [
       "<div>\n",
       "<style scoped>\n",
       "    .dataframe tbody tr th:only-of-type {\n",
       "        vertical-align: middle;\n",
       "    }\n",
       "\n",
       "    .dataframe tbody tr th {\n",
       "        vertical-align: top;\n",
       "    }\n",
       "\n",
       "    .dataframe thead th {\n",
       "        text-align: right;\n",
       "    }\n",
       "</style>\n",
       "<table border=\"1\" class=\"dataframe\">\n",
       "  <thead>\n",
       "    <tr style=\"text-align: right;\">\n",
       "      <th></th>\n",
       "      <th>ONET18_Title</th>\n",
       "      <th>employment_projection_NewJob</th>\n",
       "      <th>wage_change_BetweenJobs</th>\n",
       "      <th>pct_socly</th>\n",
       "    </tr>\n",
       "  </thead>\n",
       "  <tbody>\n",
       "    <tr>\n",
       "      <th>62946</th>\n",
       "      <td>Gambling Surveillance Officers and Gambling In...</td>\n",
       "      <td>5.6</td>\n",
       "      <td>-32.289951</td>\n",
       "      <td>39.330450</td>\n",
       "    </tr>\n",
       "    <tr>\n",
       "      <th>62947</th>\n",
       "      <td>Security Guards</td>\n",
       "      <td>2.8</td>\n",
       "      <td>-41.227348</td>\n",
       "      <td>39.330450</td>\n",
       "    </tr>\n",
       "    <tr>\n",
       "      <th>62952</th>\n",
       "      <td>Customer Service Representatives</td>\n",
       "      <td>-2.0</td>\n",
       "      <td>-31.260297</td>\n",
       "      <td>3.173654</td>\n",
       "    </tr>\n",
       "    <tr>\n",
       "      <th>62924</th>\n",
       "      <td>Social and Community Service Managers</td>\n",
       "      <td>17.0</td>\n",
       "      <td>32.948929</td>\n",
       "      <td>1.695984</td>\n",
       "    </tr>\n",
       "    <tr>\n",
       "      <th>62948</th>\n",
       "      <td>Dishwashers</td>\n",
       "      <td>0.5</td>\n",
       "      <td>-52.512356</td>\n",
       "      <td>1.452062</td>\n",
       "    </tr>\n",
       "    <tr>\n",
       "      <th>62957</th>\n",
       "      <td>Motor Vehicle Operators, All Other</td>\n",
       "      <td>3.1</td>\n",
       "      <td>-34.843493</td>\n",
       "      <td>1.449332</td>\n",
       "    </tr>\n",
       "    <tr>\n",
       "      <th>62958</th>\n",
       "      <td>Laborers and Freight, Stock, and Material Move...</td>\n",
       "      <td>4.2</td>\n",
       "      <td>-41.556837</td>\n",
       "      <td>1.180194</td>\n",
       "    </tr>\n",
       "    <tr>\n",
       "      <th>62951</th>\n",
       "      <td>Bookkeeping, Accounting, and Auditing Clerks</td>\n",
       "      <td>-5.7</td>\n",
       "      <td>-18.369028</td>\n",
       "      <td>0.943149</td>\n",
       "    </tr>\n",
       "    <tr>\n",
       "      <th>62943</th>\n",
       "      <td>Detectives and Criminal Investigators</td>\n",
       "      <td>1.1</td>\n",
       "      <td>64.703460</td>\n",
       "      <td>0.929118</td>\n",
       "    </tr>\n",
       "    <tr>\n",
       "      <th>62944</th>\n",
       "      <td>Police and Sheriff's Patrol Officers</td>\n",
       "      <td>5.7</td>\n",
       "      <td>25.041186</td>\n",
       "      <td>0.929118</td>\n",
       "    </tr>\n",
       "  </tbody>\n",
       "</table>\n",
       "</div>"
      ],
      "text/plain": [
       "                                            ONET18_Title  \\\n",
       "62946  Gambling Surveillance Officers and Gambling In...   \n",
       "62947                                    Security Guards   \n",
       "62952                   Customer Service Representatives   \n",
       "62924              Social and Community Service Managers   \n",
       "62948                                        Dishwashers   \n",
       "62957                 Motor Vehicle Operators, All Other   \n",
       "62958  Laborers and Freight, Stock, and Material Move...   \n",
       "62951       Bookkeeping, Accounting, and Auditing Clerks   \n",
       "62943              Detectives and Criminal Investigators   \n",
       "62944               Police and Sheriff's Patrol Officers   \n",
       "\n",
       "       employment_projection_NewJob  wage_change_BetweenJobs  pct_socly  \n",
       "62946                           5.6               -32.289951  39.330450  \n",
       "62947                           2.8               -41.227348  39.330450  \n",
       "62952                          -2.0               -31.260297   3.173654  \n",
       "62924                          17.0                32.948929   1.695984  \n",
       "62948                           0.5               -52.512356   1.452062  \n",
       "62957                           3.1               -34.843493   1.449332  \n",
       "62958                           4.2               -41.556837   1.180194  \n",
       "62951                          -5.7               -18.369028   0.943149  \n",
       "62943                           1.1                64.703460   0.929118  \n",
       "62944                           5.7                25.041186   0.929118  "
      ]
     },
     "execution_count": 121,
     "metadata": {},
     "output_type": "execute_result"
    }
   ],
   "source": [
    "df_cps[df_cps['ONET18_Title_LY'] == 'Private Detectives and Investigators'].sort_values(by = 'pct_socly', ascending = False)[:10][['ONET18_Title','employment_projection_NewJob','wage_change_BetweenJobs','pct_socly']]"
   ]
  },
  {
   "cell_type": "code",
   "execution_count": null,
   "metadata": {},
   "outputs": [],
   "source": []
  }
 ],
 "metadata": {
  "kernelspec": {
   "display_name": "Python 3",
   "language": "python",
   "name": "python3"
  },
  "language_info": {
   "codemirror_mode": {
    "name": "ipython",
    "version": 3
   },
   "file_extension": ".py",
   "mimetype": "text/x-python",
   "name": "python",
   "nbconvert_exporter": "python",
   "pygments_lexer": "ipython3",
   "version": "3.8.5"
  }
 },
 "nbformat": 4,
 "nbformat_minor": 4
}
