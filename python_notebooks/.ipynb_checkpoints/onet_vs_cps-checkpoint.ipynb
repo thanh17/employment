{
 "cells": [
  {
   "cell_type": "code",
   "execution_count": 1,
   "metadata": {},
   "outputs": [],
   "source": [
    "import pandas as pd\n",
    "import random as rnd \n",
    "import mysql.connector\n",
    "from mysql.connector import Error\n",
    "import plotly\n",
    "import json\n",
    "import csv\n",
    "import seaborn as sns\n",
    "import matplotlib.pyplot as plt\n",
    "import numpy as np\n",
    "import pymysql\n",
    "import plotly.express as px\n",
    "import plotly.graph_objects as go\n",
    "from sqlalchemy import create_engine\n",
    "import networkx as nx\n",
    "from networkx_viewer import Viewer\n",
    "from functools import reduce\n",
    "from scipy.spatial.distance import pdist, squareform\n",
    "import igraph\n",
    "from cyjupyter import Cytoscape\n",
    "from scipy.stats import kendalltau\n",
    "from scipy.stats import weightedtau"
   ]
  },
  {
   "cell_type": "markdown",
   "metadata": {},
   "source": [
    "# Getting data from SQL database"
   ]
  },
  {
   "cell_type": "code",
   "execution_count": 2,
   "metadata": {},
   "outputs": [],
   "source": [
    "connection = mysql.connector.connect(host='localhost',\n",
    "                                         database='employment',\n",
    "                                         user='root',\n",
    "                                         password='1234')"
   ]
  },
  {
   "cell_type": "code",
   "execution_count": 3,
   "metadata": {},
   "outputs": [],
   "source": [
    "def get_data(connection, descriptor_domain,filt = False,val = None):\n",
    "    '''\n",
    "    Return df in the SOCs-decriptor format of a specific domain \n",
    "    descriptor_domeain:\n",
    "        work context\n",
    "        knowledge\n",
    "        skills\n",
    "        gwas\n",
    "        job_zones, filter\n",
    "        Abilities, filter\n",
    "    \n",
    "    '''\n",
    "    df= pd.DataFrame(data=None)\n",
    "    if descriptor_domain == 'work_context':\n",
    "        df= pd.read_sql('''\n",
    "            SELECT title, element_name, data_value FROM employment.work_context\n",
    "            LEFT JOIN employment.content_model_reference USING (element_id) \n",
    "            LEFT JOIN employment.occupation_data USING (onetsoc_code)\n",
    "            WHERE scale_id LIKE 'CX';''', con = connection)\n",
    "        df = df.reset_index().pivot(index = 'title', columns = 'element_name', values = 'data_value')\n",
    "    elif descriptor_domain == 'job_zones':\n",
    "        if filt:\n",
    "            df= pd.read_sql('''\n",
    "                SELECT title,job_zone FROM employment.job_zones\n",
    "                LEFT JOIN employment.occupation_data USING (onetsoc_code); ''', con = connection)\n",
    "            df = df[df['job_zone'].isin(val)]\n",
    "        else:\n",
    "            df= pd.read_sql('''\n",
    "                SELECT title,job_zone FROM employment.job_zones\n",
    "                LEFT JOIN employment.occupation_data USING (onetsoc_code);''', con = connection)\n",
    "    elif descriptor_domain == 'abilities':\n",
    "        if filt:\n",
    "#             df= pd.read_sql('''\n",
    "#             SELECT title, element_name, element_id,data_value FROM employment.''' + descriptor_domain + '''\n",
    "#             LEFT JOIN employment.content_model_reference USING (element_id) \n",
    "#             LEFT JOIN employment.occupation_data USING (onetsoc_code); ''', con = connection)\n",
    "#             df = df[df['element_id'].contains(val)]\n",
    "            df= pd.read_sql('''\n",
    "            SELECT title, element_name, data_value FROM employment.''' + descriptor_domain + '''\n",
    "            LEFT JOIN employment.content_model_reference USING (element_id) \n",
    "            LEFT JOIN employment.occupation_data USING (onetsoc_code)\n",
    "            WHERE element_id LIKE\\''''+ val +'''%\\'; ''', con = connection)\n",
    "            \n",
    "        else:\n",
    "            df= pd.read_sql('''\n",
    "            SELECT title, element_name,element_id, data_value FROM employment.''' + descriptor_domain + '''\n",
    "            LEFT JOIN employment.content_model_reference USING (element_id) \n",
    "            LEFT JOIN employment.occupation_data USING (onetsoc_code);''', con = connection)\n",
    "        df = df.groupby(by=['title','element_name'])['data_value'].mean()\n",
    "        df = df.reset_index().pivot(index = 'title', columns = 'element_name', values = 'data_value')\n",
    "    elif descriptor_domain == 'work_values':\n",
    "        df= pd.read_sql('''\n",
    "            SELECT title, element_name, data_value FROM employment.work_values\n",
    "            LEFT JOIN employment.content_model_reference USING (element_id) \n",
    "            LEFT JOIN employment.occupation_data USING (onetsoc_code)\n",
    "            WHERE scale_id LIKE 'EX';''', con = connection)\n",
    "        df = df.reset_index().pivot(index = 'title', columns = 'element_name', values = 'data_value')\n",
    "    elif descriptor_domain == 'interests':\n",
    "        df= pd.read_sql('''\n",
    "            SELECT title, element_name, data_value FROM employment.interests\n",
    "            LEFT JOIN employment.content_model_reference USING (element_id) \n",
    "            LEFT JOIN employment.occupation_data USING (onetsoc_code)\n",
    "            WHERE scale_id LIKE 'OI';''', con = connection)\n",
    "        df = df.reset_index().pivot(index = 'title', columns = 'element_name', values = 'data_value')\n",
    "    elif descriptor_domain == 'work_styles':\n",
    "        df= pd.read_sql('''\n",
    "            SELECT title, element_name, data_value FROM employment.work_styles\n",
    "            LEFT JOIN employment.content_model_reference USING (element_id) \n",
    "            LEFT JOIN employment.occupation_data USING (onetsoc_code)\n",
    "            WHERE scale_id LIKE 'IM';''', con = connection)\n",
    "        df = df.reset_index().pivot(index = 'title', columns = 'element_name', values = 'data_value')\n",
    "    elif descriptor_domain == 'name':\n",
    "        df= pd.read_sql('''\n",
    "            SELECT * FROM employment.occupation_data;''', con = connection)\n",
    "    else:\n",
    "        df= pd.read_sql('''\n",
    "            SELECT title, element_name, data_value FROM employment.''' + descriptor_domain + '''\n",
    "            LEFT JOIN employment.content_model_reference USING (element_id) \n",
    "            LEFT JOIN employment.occupation_data USING (onetsoc_code);''', con = connection)\n",
    "        df = df.groupby(by=['title','element_name'])['data_value'].mean()\n",
    "        df = df.reset_index().pivot(index = 'title', columns = 'element_name', values = 'data_value')\n",
    "    return df"
   ]
  },
  {
   "cell_type": "markdown",
   "metadata": {},
   "source": [
    "# Finding distance measures from ONET "
   ]
  },
  {
   "cell_type": "code",
   "execution_count": 4,
   "metadata": {},
   "outputs": [],
   "source": [
    "def distance_table(df, jz=False):\n",
    "    \n",
    "#     squareform(pdist(df.iloc[:, 1:])), columns=df.title.unique(), index=df.title.unique()\n",
    "    dist = []\n",
    "    name_dict = {}\n",
    "    if jz:\n",
    "        name_dict = df['title'].sort_values().reset_index()['title'].to_dict()\n",
    "        dist = pdist(df[df.columns[1:]],'euclidean')\n",
    "    else:\n",
    "        for i in range(len(df.index)):\n",
    "            name_dict[i] = df.index[i]\n",
    "        dist = pdist(df,'euclidean') #Euclidean distance for 1XN\n",
    "    df_dist = pd.DataFrame(squareform(dist)) #Euclidean distance for NxN\n",
    "#     return df_dist\n",
    "    columns = list(df_dist.index) \n",
    "    for i in range(len(df.index)): #convert 0 values to NaN\n",
    "        df_dist.loc[i,i] = np.NaN\n",
    "    mean = df_dist.mean().mean()\n",
    "    std = df_dist.stack().std() \n",
    "\n",
    "    for col in columns: #Z-score calculated \n",
    "        df_dist[col] = (df_dist[col] - mean)/std\n",
    "#     return df_dist\n",
    "    return df_dist.rename(columns = name_dict, index = name_dict)"
   ]
  },
  {
   "cell_type": "code",
   "execution_count": 5,
   "metadata": {},
   "outputs": [],
   "source": [
    "# Get CPS data"
   ]
  },
  {
   "cell_type": "code",
   "execution_count": 6,
   "metadata": {},
   "outputs": [],
   "source": [
    "df_cps = pd.read_csv('../CPS Job Changes/JobChanges_2011to19.csv')"
   ]
  },
  {
   "cell_type": "code",
   "execution_count": 7,
   "metadata": {
    "scrolled": false
   },
   "outputs": [
    {
     "data": {
      "text/html": [
       "<div>\n",
       "<style scoped>\n",
       "    .dataframe tbody tr th:only-of-type {\n",
       "        vertical-align: middle;\n",
       "    }\n",
       "\n",
       "    .dataframe tbody tr th {\n",
       "        vertical-align: top;\n",
       "    }\n",
       "\n",
       "    .dataframe thead th {\n",
       "        text-align: right;\n",
       "    }\n",
       "</style>\n",
       "<table border=\"1\" class=\"dataframe\">\n",
       "  <thead>\n",
       "    <tr style=\"text-align: right;\">\n",
       "      <th></th>\n",
       "      <th>ONET18_SOC</th>\n",
       "      <th>ONET18_SOC_LY</th>\n",
       "      <th>ONET18_Title</th>\n",
       "      <th>ONET18_Title_LY</th>\n",
       "      <th>count</th>\n",
       "      <th>pct_tot</th>\n",
       "      <th>count_socly</th>\n",
       "      <th>pct_socly</th>\n",
       "      <th>in_grp</th>\n",
       "      <th>in_minor_grp</th>\n",
       "      <th>in_broad_occ</th>\n",
       "    </tr>\n",
       "  </thead>\n",
       "  <tbody>\n",
       "    <tr>\n",
       "      <th>72958</th>\n",
       "      <td>41-1012</td>\n",
       "      <td>41-1011</td>\n",
       "      <td>First-Line Supervisors of Non-Retail Sales Wor...</td>\n",
       "      <td>First-Line Supervisors of Retail Sales Workers</td>\n",
       "      <td>734264.510000</td>\n",
       "      <td>4.395486e-01</td>\n",
       "      <td>2207170.940</td>\n",
       "      <td>33.267224</td>\n",
       "      <td>1</td>\n",
       "      <td>1</td>\n",
       "      <td>1</td>\n",
       "    </tr>\n",
       "    <tr>\n",
       "      <th>72703</th>\n",
       "      <td>41-1011</td>\n",
       "      <td>41-1012</td>\n",
       "      <td>First-Line Supervisors of Retail Sales Workers</td>\n",
       "      <td>First-Line Supervisors of Non-Retail Sales Wor...</td>\n",
       "      <td>603472.900000</td>\n",
       "      <td>3.612536e-01</td>\n",
       "      <td>999832.010</td>\n",
       "      <td>60.357429</td>\n",
       "      <td>1</td>\n",
       "      <td>1</td>\n",
       "      <td>1</td>\n",
       "    </tr>\n",
       "    <tr>\n",
       "      <th>74337</th>\n",
       "      <td>41-2031</td>\n",
       "      <td>41-2012</td>\n",
       "      <td>Retail Salespersons</td>\n",
       "      <td>Gambling Change Persons and Booth Cashiers</td>\n",
       "      <td>509346.270000</td>\n",
       "      <td>3.049071e-01</td>\n",
       "      <td>2630467.290</td>\n",
       "      <td>19.363338</td>\n",
       "      <td>1</td>\n",
       "      <td>1</td>\n",
       "      <td>0</td>\n",
       "    </tr>\n",
       "    <tr>\n",
       "      <th>74338</th>\n",
       "      <td>41-2031</td>\n",
       "      <td>41-2011</td>\n",
       "      <td>Retail Salespersons</td>\n",
       "      <td>Cashiers</td>\n",
       "      <td>509346.270000</td>\n",
       "      <td>3.049071e-01</td>\n",
       "      <td>2630467.290</td>\n",
       "      <td>19.363338</td>\n",
       "      <td>1</td>\n",
       "      <td>1</td>\n",
       "      <td>0</td>\n",
       "    </tr>\n",
       "    <tr>\n",
       "      <th>27</th>\n",
       "      <td>11-1011</td>\n",
       "      <td>11-1021</td>\n",
       "      <td>Chief Executives</td>\n",
       "      <td>General and Operations Managers</td>\n",
       "      <td>352402.430000</td>\n",
       "      <td>2.109567e-01</td>\n",
       "      <td>751730.590</td>\n",
       "      <td>46.878820</td>\n",
       "      <td>1</td>\n",
       "      <td>1</td>\n",
       "      <td>0</td>\n",
       "    </tr>\n",
       "    <tr>\n",
       "      <th>...</th>\n",
       "      <td>...</td>\n",
       "      <td>...</td>\n",
       "      <td>...</td>\n",
       "      <td>...</td>\n",
       "      <td>...</td>\n",
       "      <td>...</td>\n",
       "      <td>...</td>\n",
       "      <td>...</td>\n",
       "      <td>...</td>\n",
       "      <td>...</td>\n",
       "      <td>...</td>\n",
       "    </tr>\n",
       "    <tr>\n",
       "      <th>26910</th>\n",
       "      <td>25-1194</td>\n",
       "      <td>45-2091</td>\n",
       "      <td>Career/Technical Education Teachers, Postsecon...</td>\n",
       "      <td>Agricultural Equipment Operators</td>\n",
       "      <td>1.135947</td>\n",
       "      <td>6.800058e-07</td>\n",
       "      <td>184416.524</td>\n",
       "      <td>0.000616</td>\n",
       "      <td>0</td>\n",
       "      <td>0</td>\n",
       "      <td>0</td>\n",
       "    </tr>\n",
       "    <tr>\n",
       "      <th>26911</th>\n",
       "      <td>25-1051</td>\n",
       "      <td>45-2021</td>\n",
       "      <td>Atmospheric, Earth, Marine, and Space Sciences...</td>\n",
       "      <td>Animal Breeders</td>\n",
       "      <td>1.135947</td>\n",
       "      <td>6.800058e-07</td>\n",
       "      <td>184416.524</td>\n",
       "      <td>0.000616</td>\n",
       "      <td>0</td>\n",
       "      <td>0</td>\n",
       "      <td>0</td>\n",
       "    </tr>\n",
       "    <tr>\n",
       "      <th>26912</th>\n",
       "      <td>25-1041</td>\n",
       "      <td>45-2091</td>\n",
       "      <td>Agricultural Sciences Teachers, Postsecondary</td>\n",
       "      <td>Agricultural Equipment Operators</td>\n",
       "      <td>1.135947</td>\n",
       "      <td>6.800058e-07</td>\n",
       "      <td>184416.524</td>\n",
       "      <td>0.000616</td>\n",
       "      <td>0</td>\n",
       "      <td>0</td>\n",
       "      <td>0</td>\n",
       "    </tr>\n",
       "    <tr>\n",
       "      <th>26913</th>\n",
       "      <td>25-1051</td>\n",
       "      <td>45-2091</td>\n",
       "      <td>Atmospheric, Earth, Marine, and Space Sciences...</td>\n",
       "      <td>Agricultural Equipment Operators</td>\n",
       "      <td>1.135947</td>\n",
       "      <td>6.800058e-07</td>\n",
       "      <td>184416.524</td>\n",
       "      <td>0.000616</td>\n",
       "      <td>0</td>\n",
       "      <td>0</td>\n",
       "      <td>0</td>\n",
       "    </tr>\n",
       "    <tr>\n",
       "      <th>27009</th>\n",
       "      <td>25-1124</td>\n",
       "      <td>45-2093</td>\n",
       "      <td>Foreign Language and Literature Teachers, Post...</td>\n",
       "      <td>Farmworkers, Farm, Ranch, and Aquacultural Ani...</td>\n",
       "      <td>1.135947</td>\n",
       "      <td>6.800058e-07</td>\n",
       "      <td>184416.524</td>\n",
       "      <td>0.000616</td>\n",
       "      <td>0</td>\n",
       "      <td>0</td>\n",
       "      <td>0</td>\n",
       "    </tr>\n",
       "  </tbody>\n",
       "</table>\n",
       "<p>115317 rows × 11 columns</p>\n",
       "</div>"
      ],
      "text/plain": [
       "      ONET18_SOC ONET18_SOC_LY  \\\n",
       "72958    41-1012       41-1011   \n",
       "72703    41-1011       41-1012   \n",
       "74337    41-2031       41-2012   \n",
       "74338    41-2031       41-2011   \n",
       "27       11-1011       11-1021   \n",
       "...          ...           ...   \n",
       "26910    25-1194       45-2091   \n",
       "26911    25-1051       45-2021   \n",
       "26912    25-1041       45-2091   \n",
       "26913    25-1051       45-2091   \n",
       "27009    25-1124       45-2093   \n",
       "\n",
       "                                            ONET18_Title  \\\n",
       "72958  First-Line Supervisors of Non-Retail Sales Wor...   \n",
       "72703     First-Line Supervisors of Retail Sales Workers   \n",
       "74337                                Retail Salespersons   \n",
       "74338                                Retail Salespersons   \n",
       "27                                      Chief Executives   \n",
       "...                                                  ...   \n",
       "26910  Career/Technical Education Teachers, Postsecon...   \n",
       "26911  Atmospheric, Earth, Marine, and Space Sciences...   \n",
       "26912      Agricultural Sciences Teachers, Postsecondary   \n",
       "26913  Atmospheric, Earth, Marine, and Space Sciences...   \n",
       "27009  Foreign Language and Literature Teachers, Post...   \n",
       "\n",
       "                                         ONET18_Title_LY          count  \\\n",
       "72958     First-Line Supervisors of Retail Sales Workers  734264.510000   \n",
       "72703  First-Line Supervisors of Non-Retail Sales Wor...  603472.900000   \n",
       "74337         Gambling Change Persons and Booth Cashiers  509346.270000   \n",
       "74338                                           Cashiers  509346.270000   \n",
       "27                       General and Operations Managers  352402.430000   \n",
       "...                                                  ...            ...   \n",
       "26910                   Agricultural Equipment Operators       1.135947   \n",
       "26911                                    Animal Breeders       1.135947   \n",
       "26912                   Agricultural Equipment Operators       1.135947   \n",
       "26913                   Agricultural Equipment Operators       1.135947   \n",
       "27009  Farmworkers, Farm, Ranch, and Aquacultural Ani...       1.135947   \n",
       "\n",
       "            pct_tot  count_socly  pct_socly  in_grp  in_minor_grp  \\\n",
       "72958  4.395486e-01  2207170.940  33.267224       1             1   \n",
       "72703  3.612536e-01   999832.010  60.357429       1             1   \n",
       "74337  3.049071e-01  2630467.290  19.363338       1             1   \n",
       "74338  3.049071e-01  2630467.290  19.363338       1             1   \n",
       "27     2.109567e-01   751730.590  46.878820       1             1   \n",
       "...             ...          ...        ...     ...           ...   \n",
       "26910  6.800058e-07   184416.524   0.000616       0             0   \n",
       "26911  6.800058e-07   184416.524   0.000616       0             0   \n",
       "26912  6.800058e-07   184416.524   0.000616       0             0   \n",
       "26913  6.800058e-07   184416.524   0.000616       0             0   \n",
       "27009  6.800058e-07   184416.524   0.000616       0             0   \n",
       "\n",
       "       in_broad_occ  \n",
       "72958             1  \n",
       "72703             1  \n",
       "74337             0  \n",
       "74338             0  \n",
       "27                0  \n",
       "...             ...  \n",
       "26910             0  \n",
       "26911             0  \n",
       "26912             0  \n",
       "26913             0  \n",
       "27009             0  \n",
       "\n",
       "[115317 rows x 11 columns]"
      ]
     },
     "execution_count": 7,
     "metadata": {},
     "output_type": "execute_result"
    }
   ],
   "source": [
    "df_cps.sort_values(by = 'pct_tot', ascending = False)"
   ]
  },
  {
   "cell_type": "markdown",
   "metadata": {},
   "source": [
    "## Skills "
   ]
  },
  {
   "cell_type": "code",
   "execution_count": 8,
   "metadata": {},
   "outputs": [
    {
     "data": {
      "text/html": [
       "<div>\n",
       "<style scoped>\n",
       "    .dataframe tbody tr th:only-of-type {\n",
       "        vertical-align: middle;\n",
       "    }\n",
       "\n",
       "    .dataframe tbody tr th {\n",
       "        vertical-align: top;\n",
       "    }\n",
       "\n",
       "    .dataframe thead th {\n",
       "        text-align: right;\n",
       "    }\n",
       "</style>\n",
       "<table border=\"1\" class=\"dataframe\">\n",
       "  <thead>\n",
       "    <tr style=\"text-align: right;\">\n",
       "      <th></th>\n",
       "      <th>Accountants</th>\n",
       "      <th>Actors</th>\n",
       "      <th>Actuaries</th>\n",
       "      <th>Acupuncturists</th>\n",
       "      <th>Acute Care Nurses</th>\n",
       "      <th>Adapted Physical Education Specialists</th>\n",
       "      <th>Adhesive Bonding Machine Operators and Tenders</th>\n",
       "      <th>Administrative Law Judges, Adjudicators, and Hearing Officers</th>\n",
       "      <th>Administrative Services Managers</th>\n",
       "      <th>Adult Basic and Secondary Education and Literacy Teachers and Instructors</th>\n",
       "      <th>...</th>\n",
       "      <th>Welding, Soldering, and Brazing Machine Setters, Operators, and Tenders</th>\n",
       "      <th>Wellhead Pumpers</th>\n",
       "      <th>Wholesale and Retail Buyers, Except Farm Products</th>\n",
       "      <th>Wind Energy Engineers</th>\n",
       "      <th>Wind Energy Operations Managers</th>\n",
       "      <th>Wind Energy Project Managers</th>\n",
       "      <th>Wind Turbine Service Technicians</th>\n",
       "      <th>Woodworking Machine Setters, Operators, and Tenders, Except Sawing</th>\n",
       "      <th>Word Processors and Typists</th>\n",
       "      <th>Zoologists and Wildlife Biologists</th>\n",
       "    </tr>\n",
       "  </thead>\n",
       "  <tbody>\n",
       "    <tr>\n",
       "      <th>Accountants</th>\n",
       "      <td>NaN</td>\n",
       "      <td>-0.232192</td>\n",
       "      <td>-1.231166</td>\n",
       "      <td>-1.343769</td>\n",
       "      <td>-0.572105</td>\n",
       "      <td>-1.103413</td>\n",
       "      <td>1.134355</td>\n",
       "      <td>-1.129204</td>\n",
       "      <td>-1.140781</td>\n",
       "      <td>-1.063139</td>\n",
       "      <td>...</td>\n",
       "      <td>0.726581</td>\n",
       "      <td>1.567913</td>\n",
       "      <td>-1.525925</td>\n",
       "      <td>-0.817695</td>\n",
       "      <td>-0.316332</td>\n",
       "      <td>-1.144954</td>\n",
       "      <td>1.109038</td>\n",
       "      <td>1.435817</td>\n",
       "      <td>-0.110304</td>\n",
       "      <td>-0.934922</td>\n",
       "    </tr>\n",
       "    <tr>\n",
       "      <th>Actors</th>\n",
       "      <td>-0.232192</td>\n",
       "      <td>NaN</td>\n",
       "      <td>1.136940</td>\n",
       "      <td>-0.746946</td>\n",
       "      <td>0.663868</td>\n",
       "      <td>-0.444427</td>\n",
       "      <td>1.199026</td>\n",
       "      <td>-0.376028</td>\n",
       "      <td>0.049845</td>\n",
       "      <td>-0.946980</td>\n",
       "      <td>...</td>\n",
       "      <td>0.331044</td>\n",
       "      <td>1.243432</td>\n",
       "      <td>0.199842</td>\n",
       "      <td>1.012206</td>\n",
       "      <td>1.071827</td>\n",
       "      <td>0.547006</td>\n",
       "      <td>1.572133</td>\n",
       "      <td>1.323007</td>\n",
       "      <td>-0.682780</td>\n",
       "      <td>0.499415</td>\n",
       "    </tr>\n",
       "    <tr>\n",
       "      <th>Actuaries</th>\n",
       "      <td>-1.231166</td>\n",
       "      <td>1.136940</td>\n",
       "      <td>NaN</td>\n",
       "      <td>-0.292468</td>\n",
       "      <td>-0.288049</td>\n",
       "      <td>-0.276207</td>\n",
       "      <td>1.966989</td>\n",
       "      <td>-0.646019</td>\n",
       "      <td>-0.467885</td>\n",
       "      <td>0.037310</td>\n",
       "      <td>...</td>\n",
       "      <td>1.808031</td>\n",
       "      <td>2.491332</td>\n",
       "      <td>-0.975188</td>\n",
       "      <td>-0.933491</td>\n",
       "      <td>-0.088138</td>\n",
       "      <td>-0.834385</td>\n",
       "      <td>1.662193</td>\n",
       "      <td>2.283982</td>\n",
       "      <td>1.218300</td>\n",
       "      <td>-0.706944</td>\n",
       "    </tr>\n",
       "    <tr>\n",
       "      <th>Acupuncturists</th>\n",
       "      <td>-1.343769</td>\n",
       "      <td>-0.746946</td>\n",
       "      <td>-0.292468</td>\n",
       "      <td>NaN</td>\n",
       "      <td>-0.939257</td>\n",
       "      <td>-1.496659</td>\n",
       "      <td>0.573997</td>\n",
       "      <td>-0.909846</td>\n",
       "      <td>-0.954193</td>\n",
       "      <td>-1.141138</td>\n",
       "      <td>...</td>\n",
       "      <td>0.083364</td>\n",
       "      <td>0.990593</td>\n",
       "      <td>-1.083227</td>\n",
       "      <td>-0.670565</td>\n",
       "      <td>-0.312289</td>\n",
       "      <td>-0.976759</td>\n",
       "      <td>0.607291</td>\n",
       "      <td>0.893135</td>\n",
       "      <td>-0.566595</td>\n",
       "      <td>-1.162061</td>\n",
       "    </tr>\n",
       "    <tr>\n",
       "      <th>Acute Care Nurses</th>\n",
       "      <td>-0.572105</td>\n",
       "      <td>0.663868</td>\n",
       "      <td>-0.288049</td>\n",
       "      <td>-0.939257</td>\n",
       "      <td>NaN</td>\n",
       "      <td>-1.168764</td>\n",
       "      <td>0.831865</td>\n",
       "      <td>-0.345816</td>\n",
       "      <td>-0.839026</td>\n",
       "      <td>-0.281779</td>\n",
       "      <td>...</td>\n",
       "      <td>0.677219</td>\n",
       "      <td>1.419451</td>\n",
       "      <td>-0.558503</td>\n",
       "      <td>-1.306457</td>\n",
       "      <td>-0.923236</td>\n",
       "      <td>-1.050700</td>\n",
       "      <td>0.542298</td>\n",
       "      <td>1.359072</td>\n",
       "      <td>0.914576</td>\n",
       "      <td>-1.552209</td>\n",
       "    </tr>\n",
       "    <tr>\n",
       "      <th>...</th>\n",
       "      <td>...</td>\n",
       "      <td>...</td>\n",
       "      <td>...</td>\n",
       "      <td>...</td>\n",
       "      <td>...</td>\n",
       "      <td>...</td>\n",
       "      <td>...</td>\n",
       "      <td>...</td>\n",
       "      <td>...</td>\n",
       "      <td>...</td>\n",
       "      <td>...</td>\n",
       "      <td>...</td>\n",
       "      <td>...</td>\n",
       "      <td>...</td>\n",
       "      <td>...</td>\n",
       "      <td>...</td>\n",
       "      <td>...</td>\n",
       "      <td>...</td>\n",
       "      <td>...</td>\n",
       "      <td>...</td>\n",
       "      <td>...</td>\n",
       "    </tr>\n",
       "    <tr>\n",
       "      <th>Wind Energy Project Managers</th>\n",
       "      <td>-1.144954</td>\n",
       "      <td>0.547006</td>\n",
       "      <td>-0.834385</td>\n",
       "      <td>-0.976759</td>\n",
       "      <td>-1.050700</td>\n",
       "      <td>-1.114667</td>\n",
       "      <td>0.909341</td>\n",
       "      <td>-0.597025</td>\n",
       "      <td>-1.836890</td>\n",
       "      <td>-0.282424</td>\n",
       "      <td>...</td>\n",
       "      <td>0.802140</td>\n",
       "      <td>1.459114</td>\n",
       "      <td>-1.836637</td>\n",
       "      <td>-0.914224</td>\n",
       "      <td>-1.597539</td>\n",
       "      <td>NaN</td>\n",
       "      <td>0.645006</td>\n",
       "      <td>1.390519</td>\n",
       "      <td>0.473065</td>\n",
       "      <td>-1.145214</td>\n",
       "    </tr>\n",
       "    <tr>\n",
       "      <th>Wind Turbine Service Technicians</th>\n",
       "      <td>1.109038</td>\n",
       "      <td>1.572133</td>\n",
       "      <td>1.662193</td>\n",
       "      <td>0.607291</td>\n",
       "      <td>0.542298</td>\n",
       "      <td>0.753377</td>\n",
       "      <td>-1.281451</td>\n",
       "      <td>1.703529</td>\n",
       "      <td>0.831136</td>\n",
       "      <td>1.345588</td>\n",
       "      <td>...</td>\n",
       "      <td>-0.789641</td>\n",
       "      <td>-0.855040</td>\n",
       "      <td>1.207617</td>\n",
       "      <td>0.564500</td>\n",
       "      <td>-0.199079</td>\n",
       "      <td>0.645006</td>\n",
       "      <td>NaN</td>\n",
       "      <td>-0.965950</td>\n",
       "      <td>0.924188</td>\n",
       "      <td>0.745823</td>\n",
       "    </tr>\n",
       "    <tr>\n",
       "      <th>Woodworking Machine Setters, Operators, and Tenders, Except Sawing</th>\n",
       "      <td>1.435817</td>\n",
       "      <td>1.323007</td>\n",
       "      <td>2.283982</td>\n",
       "      <td>0.893135</td>\n",
       "      <td>1.359072</td>\n",
       "      <td>1.333042</td>\n",
       "      <td>-1.608119</td>\n",
       "      <td>2.094264</td>\n",
       "      <td>1.386387</td>\n",
       "      <td>1.653915</td>\n",
       "      <td>...</td>\n",
       "      <td>-1.714726</td>\n",
       "      <td>-1.738756</td>\n",
       "      <td>1.662305</td>\n",
       "      <td>1.222440</td>\n",
       "      <td>0.910910</td>\n",
       "      <td>1.390519</td>\n",
       "      <td>-0.965950</td>\n",
       "      <td>NaN</td>\n",
       "      <td>0.158089</td>\n",
       "      <td>1.482784</td>\n",
       "    </tr>\n",
       "    <tr>\n",
       "      <th>Word Processors and Typists</th>\n",
       "      <td>-0.110304</td>\n",
       "      <td>-0.682780</td>\n",
       "      <td>1.218300</td>\n",
       "      <td>-0.566595</td>\n",
       "      <td>0.914576</td>\n",
       "      <td>0.154761</td>\n",
       "      <td>0.149986</td>\n",
       "      <td>0.560918</td>\n",
       "      <td>0.231741</td>\n",
       "      <td>-0.010130</td>\n",
       "      <td>...</td>\n",
       "      <td>-0.508398</td>\n",
       "      <td>0.314869</td>\n",
       "      <td>0.345421</td>\n",
       "      <td>0.764722</td>\n",
       "      <td>0.926314</td>\n",
       "      <td>0.473065</td>\n",
       "      <td>0.924188</td>\n",
       "      <td>0.158089</td>\n",
       "      <td>NaN</td>\n",
       "      <td>0.632334</td>\n",
       "    </tr>\n",
       "    <tr>\n",
       "      <th>Zoologists and Wildlife Biologists</th>\n",
       "      <td>-0.934922</td>\n",
       "      <td>0.499415</td>\n",
       "      <td>-0.706944</td>\n",
       "      <td>-1.162061</td>\n",
       "      <td>-1.552209</td>\n",
       "      <td>-0.836327</td>\n",
       "      <td>0.978785</td>\n",
       "      <td>-0.578448</td>\n",
       "      <td>-0.706680</td>\n",
       "      <td>-0.388096</td>\n",
       "      <td>...</td>\n",
       "      <td>0.781300</td>\n",
       "      <td>1.506285</td>\n",
       "      <td>-0.774344</td>\n",
       "      <td>-1.490487</td>\n",
       "      <td>-0.554798</td>\n",
       "      <td>-1.145214</td>\n",
       "      <td>0.745823</td>\n",
       "      <td>1.482784</td>\n",
       "      <td>0.632334</td>\n",
       "      <td>NaN</td>\n",
       "    </tr>\n",
       "  </tbody>\n",
       "</table>\n",
       "<p>968 rows × 968 columns</p>\n",
       "</div>"
      ],
      "text/plain": [
       "                                                    Accountants    Actors  \\\n",
       "Accountants                                                 NaN -0.232192   \n",
       "Actors                                                -0.232192       NaN   \n",
       "Actuaries                                             -1.231166  1.136940   \n",
       "Acupuncturists                                        -1.343769 -0.746946   \n",
       "Acute Care Nurses                                     -0.572105  0.663868   \n",
       "...                                                         ...       ...   \n",
       "Wind Energy Project Managers                          -1.144954  0.547006   \n",
       "Wind Turbine Service Technicians                       1.109038  1.572133   \n",
       "Woodworking Machine Setters, Operators, and Ten...     1.435817  1.323007   \n",
       "Word Processors and Typists                           -0.110304 -0.682780   \n",
       "Zoologists and Wildlife Biologists                    -0.934922  0.499415   \n",
       "\n",
       "                                                    Actuaries  Acupuncturists  \\\n",
       "Accountants                                         -1.231166       -1.343769   \n",
       "Actors                                               1.136940       -0.746946   \n",
       "Actuaries                                                 NaN       -0.292468   \n",
       "Acupuncturists                                      -0.292468             NaN   \n",
       "Acute Care Nurses                                   -0.288049       -0.939257   \n",
       "...                                                       ...             ...   \n",
       "Wind Energy Project Managers                        -0.834385       -0.976759   \n",
       "Wind Turbine Service Technicians                     1.662193        0.607291   \n",
       "Woodworking Machine Setters, Operators, and Ten...   2.283982        0.893135   \n",
       "Word Processors and Typists                          1.218300       -0.566595   \n",
       "Zoologists and Wildlife Biologists                  -0.706944       -1.162061   \n",
       "\n",
       "                                                    Acute Care Nurses  \\\n",
       "Accountants                                                 -0.572105   \n",
       "Actors                                                       0.663868   \n",
       "Actuaries                                                   -0.288049   \n",
       "Acupuncturists                                              -0.939257   \n",
       "Acute Care Nurses                                                 NaN   \n",
       "...                                                               ...   \n",
       "Wind Energy Project Managers                                -1.050700   \n",
       "Wind Turbine Service Technicians                             0.542298   \n",
       "Woodworking Machine Setters, Operators, and Ten...           1.359072   \n",
       "Word Processors and Typists                                  0.914576   \n",
       "Zoologists and Wildlife Biologists                          -1.552209   \n",
       "\n",
       "                                                    Adapted Physical Education Specialists  \\\n",
       "Accountants                                                                      -1.103413   \n",
       "Actors                                                                           -0.444427   \n",
       "Actuaries                                                                        -0.276207   \n",
       "Acupuncturists                                                                   -1.496659   \n",
       "Acute Care Nurses                                                                -1.168764   \n",
       "...                                                                                    ...   \n",
       "Wind Energy Project Managers                                                     -1.114667   \n",
       "Wind Turbine Service Technicians                                                  0.753377   \n",
       "Woodworking Machine Setters, Operators, and Ten...                                1.333042   \n",
       "Word Processors and Typists                                                       0.154761   \n",
       "Zoologists and Wildlife Biologists                                               -0.836327   \n",
       "\n",
       "                                                    Adhesive Bonding Machine Operators and Tenders  \\\n",
       "Accountants                                                                               1.134355   \n",
       "Actors                                                                                    1.199026   \n",
       "Actuaries                                                                                 1.966989   \n",
       "Acupuncturists                                                                            0.573997   \n",
       "Acute Care Nurses                                                                         0.831865   \n",
       "...                                                                                            ...   \n",
       "Wind Energy Project Managers                                                              0.909341   \n",
       "Wind Turbine Service Technicians                                                         -1.281451   \n",
       "Woodworking Machine Setters, Operators, and Ten...                                       -1.608119   \n",
       "Word Processors and Typists                                                               0.149986   \n",
       "Zoologists and Wildlife Biologists                                                        0.978785   \n",
       "\n",
       "                                                    Administrative Law Judges, Adjudicators, and Hearing Officers  \\\n",
       "Accountants                                                                                 -1.129204               \n",
       "Actors                                                                                      -0.376028               \n",
       "Actuaries                                                                                   -0.646019               \n",
       "Acupuncturists                                                                              -0.909846               \n",
       "Acute Care Nurses                                                                           -0.345816               \n",
       "...                                                                                               ...               \n",
       "Wind Energy Project Managers                                                                -0.597025               \n",
       "Wind Turbine Service Technicians                                                             1.703529               \n",
       "Woodworking Machine Setters, Operators, and Ten...                                           2.094264               \n",
       "Word Processors and Typists                                                                  0.560918               \n",
       "Zoologists and Wildlife Biologists                                                          -0.578448               \n",
       "\n",
       "                                                    Administrative Services Managers  \\\n",
       "Accountants                                                                -1.140781   \n",
       "Actors                                                                      0.049845   \n",
       "Actuaries                                                                  -0.467885   \n",
       "Acupuncturists                                                             -0.954193   \n",
       "Acute Care Nurses                                                          -0.839026   \n",
       "...                                                                              ...   \n",
       "Wind Energy Project Managers                                               -1.836890   \n",
       "Wind Turbine Service Technicians                                            0.831136   \n",
       "Woodworking Machine Setters, Operators, and Ten...                          1.386387   \n",
       "Word Processors and Typists                                                 0.231741   \n",
       "Zoologists and Wildlife Biologists                                         -0.706680   \n",
       "\n",
       "                                                    Adult Basic and Secondary Education and Literacy Teachers and Instructors  \\\n",
       "Accountants                                                                                 -1.063139                           \n",
       "Actors                                                                                      -0.946980                           \n",
       "Actuaries                                                                                    0.037310                           \n",
       "Acupuncturists                                                                              -1.141138                           \n",
       "Acute Care Nurses                                                                           -0.281779                           \n",
       "...                                                                                               ...                           \n",
       "Wind Energy Project Managers                                                                -0.282424                           \n",
       "Wind Turbine Service Technicians                                                             1.345588                           \n",
       "Woodworking Machine Setters, Operators, and Ten...                                           1.653915                           \n",
       "Word Processors and Typists                                                                 -0.010130                           \n",
       "Zoologists and Wildlife Biologists                                                          -0.388096                           \n",
       "\n",
       "                                                    ...  \\\n",
       "Accountants                                         ...   \n",
       "Actors                                              ...   \n",
       "Actuaries                                           ...   \n",
       "Acupuncturists                                      ...   \n",
       "Acute Care Nurses                                   ...   \n",
       "...                                                 ...   \n",
       "Wind Energy Project Managers                        ...   \n",
       "Wind Turbine Service Technicians                    ...   \n",
       "Woodworking Machine Setters, Operators, and Ten...  ...   \n",
       "Word Processors and Typists                         ...   \n",
       "Zoologists and Wildlife Biologists                  ...   \n",
       "\n",
       "                                                    Welding, Soldering, and Brazing Machine Setters, Operators, and Tenders  \\\n",
       "Accountants                                                                                  0.726581                         \n",
       "Actors                                                                                       0.331044                         \n",
       "Actuaries                                                                                    1.808031                         \n",
       "Acupuncturists                                                                               0.083364                         \n",
       "Acute Care Nurses                                                                            0.677219                         \n",
       "...                                                                                               ...                         \n",
       "Wind Energy Project Managers                                                                 0.802140                         \n",
       "Wind Turbine Service Technicians                                                            -0.789641                         \n",
       "Woodworking Machine Setters, Operators, and Ten...                                          -1.714726                         \n",
       "Word Processors and Typists                                                                 -0.508398                         \n",
       "Zoologists and Wildlife Biologists                                                           0.781300                         \n",
       "\n",
       "                                                    Wellhead Pumpers  \\\n",
       "Accountants                                                 1.567913   \n",
       "Actors                                                      1.243432   \n",
       "Actuaries                                                   2.491332   \n",
       "Acupuncturists                                              0.990593   \n",
       "Acute Care Nurses                                           1.419451   \n",
       "...                                                              ...   \n",
       "Wind Energy Project Managers                                1.459114   \n",
       "Wind Turbine Service Technicians                           -0.855040   \n",
       "Woodworking Machine Setters, Operators, and Ten...         -1.738756   \n",
       "Word Processors and Typists                                 0.314869   \n",
       "Zoologists and Wildlife Biologists                          1.506285   \n",
       "\n",
       "                                                    Wholesale and Retail Buyers, Except Farm Products  \\\n",
       "Accountants                                                                                 -1.525925   \n",
       "Actors                                                                                       0.199842   \n",
       "Actuaries                                                                                   -0.975188   \n",
       "Acupuncturists                                                                              -1.083227   \n",
       "Acute Care Nurses                                                                           -0.558503   \n",
       "...                                                                                               ...   \n",
       "Wind Energy Project Managers                                                                -1.836637   \n",
       "Wind Turbine Service Technicians                                                             1.207617   \n",
       "Woodworking Machine Setters, Operators, and Ten...                                           1.662305   \n",
       "Word Processors and Typists                                                                  0.345421   \n",
       "Zoologists and Wildlife Biologists                                                          -0.774344   \n",
       "\n",
       "                                                    Wind Energy Engineers  \\\n",
       "Accountants                                                     -0.817695   \n",
       "Actors                                                           1.012206   \n",
       "Actuaries                                                       -0.933491   \n",
       "Acupuncturists                                                  -0.670565   \n",
       "Acute Care Nurses                                               -1.306457   \n",
       "...                                                                   ...   \n",
       "Wind Energy Project Managers                                    -0.914224   \n",
       "Wind Turbine Service Technicians                                 0.564500   \n",
       "Woodworking Machine Setters, Operators, and Ten...               1.222440   \n",
       "Word Processors and Typists                                      0.764722   \n",
       "Zoologists and Wildlife Biologists                              -1.490487   \n",
       "\n",
       "                                                    Wind Energy Operations Managers  \\\n",
       "Accountants                                                               -0.316332   \n",
       "Actors                                                                     1.071827   \n",
       "Actuaries                                                                 -0.088138   \n",
       "Acupuncturists                                                            -0.312289   \n",
       "Acute Care Nurses                                                         -0.923236   \n",
       "...                                                                             ...   \n",
       "Wind Energy Project Managers                                              -1.597539   \n",
       "Wind Turbine Service Technicians                                          -0.199079   \n",
       "Woodworking Machine Setters, Operators, and Ten...                         0.910910   \n",
       "Word Processors and Typists                                                0.926314   \n",
       "Zoologists and Wildlife Biologists                                        -0.554798   \n",
       "\n",
       "                                                    Wind Energy Project Managers  \\\n",
       "Accountants                                                            -1.144954   \n",
       "Actors                                                                  0.547006   \n",
       "Actuaries                                                              -0.834385   \n",
       "Acupuncturists                                                         -0.976759   \n",
       "Acute Care Nurses                                                      -1.050700   \n",
       "...                                                                          ...   \n",
       "Wind Energy Project Managers                                                 NaN   \n",
       "Wind Turbine Service Technicians                                        0.645006   \n",
       "Woodworking Machine Setters, Operators, and Ten...                      1.390519   \n",
       "Word Processors and Typists                                             0.473065   \n",
       "Zoologists and Wildlife Biologists                                     -1.145214   \n",
       "\n",
       "                                                    Wind Turbine Service Technicians  \\\n",
       "Accountants                                                                 1.109038   \n",
       "Actors                                                                      1.572133   \n",
       "Actuaries                                                                   1.662193   \n",
       "Acupuncturists                                                              0.607291   \n",
       "Acute Care Nurses                                                           0.542298   \n",
       "...                                                                              ...   \n",
       "Wind Energy Project Managers                                                0.645006   \n",
       "Wind Turbine Service Technicians                                                 NaN   \n",
       "Woodworking Machine Setters, Operators, and Ten...                         -0.965950   \n",
       "Word Processors and Typists                                                 0.924188   \n",
       "Zoologists and Wildlife Biologists                                          0.745823   \n",
       "\n",
       "                                                    Woodworking Machine Setters, Operators, and Tenders, Except Sawing  \\\n",
       "Accountants                                                                                  1.435817                    \n",
       "Actors                                                                                       1.323007                    \n",
       "Actuaries                                                                                    2.283982                    \n",
       "Acupuncturists                                                                               0.893135                    \n",
       "Acute Care Nurses                                                                            1.359072                    \n",
       "...                                                                                               ...                    \n",
       "Wind Energy Project Managers                                                                 1.390519                    \n",
       "Wind Turbine Service Technicians                                                            -0.965950                    \n",
       "Woodworking Machine Setters, Operators, and Ten...                                                NaN                    \n",
       "Word Processors and Typists                                                                  0.158089                    \n",
       "Zoologists and Wildlife Biologists                                                           1.482784                    \n",
       "\n",
       "                                                    Word Processors and Typists  \\\n",
       "Accountants                                                           -0.110304   \n",
       "Actors                                                                -0.682780   \n",
       "Actuaries                                                              1.218300   \n",
       "Acupuncturists                                                        -0.566595   \n",
       "Acute Care Nurses                                                      0.914576   \n",
       "...                                                                         ...   \n",
       "Wind Energy Project Managers                                           0.473065   \n",
       "Wind Turbine Service Technicians                                       0.924188   \n",
       "Woodworking Machine Setters, Operators, and Ten...                     0.158089   \n",
       "Word Processors and Typists                                                 NaN   \n",
       "Zoologists and Wildlife Biologists                                     0.632334   \n",
       "\n",
       "                                                    Zoologists and Wildlife Biologists  \n",
       "Accountants                                                                  -0.934922  \n",
       "Actors                                                                        0.499415  \n",
       "Actuaries                                                                    -0.706944  \n",
       "Acupuncturists                                                               -1.162061  \n",
       "Acute Care Nurses                                                            -1.552209  \n",
       "...                                                                                ...  \n",
       "Wind Energy Project Managers                                                 -1.145214  \n",
       "Wind Turbine Service Technicians                                              0.745823  \n",
       "Woodworking Machine Setters, Operators, and Ten...                            1.482784  \n",
       "Word Processors and Typists                                                   0.632334  \n",
       "Zoologists and Wildlife Biologists                                                 NaN  \n",
       "\n",
       "[968 rows x 968 columns]"
      ]
     },
     "execution_count": 8,
     "metadata": {},
     "output_type": "execute_result"
    }
   ],
   "source": [
    "df_skills = get_data(connection,'skills')\n",
    "df_skills\n",
    "\n",
    "skills_dist = distance_table(df_skills)\n",
    "skills_dist"
   ]
  },
  {
   "cell_type": "code",
   "execution_count": 9,
   "metadata": {},
   "outputs": [
    {
     "data": {
      "text/plain": [
       "Demonstrators and Product Promoters                                                            -1.970922\n",
       "Bartenders                                                                                     -1.942456\n",
       "Psychiatric Aides                                                                              -1.928493\n",
       "Home Health Aides                                                                              -1.889651\n",
       "Reservation and Transportation Ticket Agents and Travel Clerks                                 -1.885947\n",
       "Sales Representatives, Wholesale and Manufacturing, Except Technical and Scientific Products   -1.885568\n",
       "Travel Agents                                                                                  -1.856308\n",
       "Order Clerks                                                                                   -1.822059\n",
       "Counter and Rental Clerks                                                                      -1.810728\n",
       "Concierges                                                                                     -1.799743\n",
       "Name: Retail Salespersons, dtype: float64"
      ]
     },
     "execution_count": 9,
     "metadata": {},
     "output_type": "execute_result"
    }
   ],
   "source": [
    "skills_dist.loc['Retail Salespersons'].sort_values()[0:10]"
   ]
  },
  {
   "cell_type": "code",
   "execution_count": null,
   "metadata": {},
   "outputs": [],
   "source": []
  },
  {
   "cell_type": "markdown",
   "metadata": {},
   "source": [
    "### Percentages"
   ]
  },
  {
   "cell_type": "code",
   "execution_count": 10,
   "metadata": {
    "scrolled": false
   },
   "outputs": [
    {
     "data": {
      "text/html": [
       "<div>\n",
       "<style scoped>\n",
       "    .dataframe tbody tr th:only-of-type {\n",
       "        vertical-align: middle;\n",
       "    }\n",
       "\n",
       "    .dataframe tbody tr th {\n",
       "        vertical-align: top;\n",
       "    }\n",
       "\n",
       "    .dataframe thead th {\n",
       "        text-align: right;\n",
       "    }\n",
       "</style>\n",
       "<table border=\"1\" class=\"dataframe\">\n",
       "  <thead>\n",
       "    <tr style=\"text-align: right;\">\n",
       "      <th></th>\n",
       "      <th>ONET18_SOC</th>\n",
       "      <th>ONET18_SOC_LY</th>\n",
       "      <th>ONET18_Title</th>\n",
       "      <th>ONET18_Title_LY</th>\n",
       "      <th>count</th>\n",
       "      <th>pct_tot</th>\n",
       "      <th>count_socly</th>\n",
       "      <th>pct_socly</th>\n",
       "      <th>in_grp</th>\n",
       "      <th>in_minor_grp</th>\n",
       "      <th>in_broad_occ</th>\n",
       "    </tr>\n",
       "  </thead>\n",
       "  <tbody>\n",
       "    <tr>\n",
       "      <th>47123</th>\n",
       "      <td>29-1123</td>\n",
       "      <td>29-1141</td>\n",
       "      <td>Physical Therapists</td>\n",
       "      <td>Registered Nurses</td>\n",
       "      <td>208251.380000</td>\n",
       "      <td>0.124664</td>\n",
       "      <td>1137881.06</td>\n",
       "      <td>18.301683</td>\n",
       "      <td>1</td>\n",
       "      <td>1</td>\n",
       "      <td>0</td>\n",
       "    </tr>\n",
       "    <tr>\n",
       "      <th>47164</th>\n",
       "      <td>29-1126</td>\n",
       "      <td>29-1141</td>\n",
       "      <td>Respiratory Therapists</td>\n",
       "      <td>Registered Nurses</td>\n",
       "      <td>133490.700000</td>\n",
       "      <td>0.079911</td>\n",
       "      <td>1137881.06</td>\n",
       "      <td>11.731516</td>\n",
       "      <td>1</td>\n",
       "      <td>1</td>\n",
       "      <td>0</td>\n",
       "    </tr>\n",
       "    <tr>\n",
       "      <th>47379</th>\n",
       "      <td>29-1128</td>\n",
       "      <td>29-1141</td>\n",
       "      <td>Exercise Physiologists</td>\n",
       "      <td>Registered Nurses</td>\n",
       "      <td>84033.560000</td>\n",
       "      <td>0.050305</td>\n",
       "      <td>1137881.06</td>\n",
       "      <td>7.385092</td>\n",
       "      <td>1</td>\n",
       "      <td>1</td>\n",
       "      <td>0</td>\n",
       "    </tr>\n",
       "    <tr>\n",
       "      <th>47378</th>\n",
       "      <td>29-1129</td>\n",
       "      <td>29-1141</td>\n",
       "      <td>Therapists, All Other</td>\n",
       "      <td>Registered Nurses</td>\n",
       "      <td>84033.560000</td>\n",
       "      <td>0.050305</td>\n",
       "      <td>1137881.06</td>\n",
       "      <td>7.385092</td>\n",
       "      <td>1</td>\n",
       "      <td>1</td>\n",
       "      <td>0</td>\n",
       "    </tr>\n",
       "    <tr>\n",
       "      <th>47225</th>\n",
       "      <td>29-1127</td>\n",
       "      <td>29-1141</td>\n",
       "      <td>Speech-Language Pathologists</td>\n",
       "      <td>Registered Nurses</td>\n",
       "      <td>78260.440000</td>\n",
       "      <td>0.046849</td>\n",
       "      <td>1137881.06</td>\n",
       "      <td>6.877735</td>\n",
       "      <td>1</td>\n",
       "      <td>1</td>\n",
       "      <td>0</td>\n",
       "    </tr>\n",
       "    <tr>\n",
       "      <th>...</th>\n",
       "      <td>...</td>\n",
       "      <td>...</td>\n",
       "      <td>...</td>\n",
       "      <td>...</td>\n",
       "      <td>...</td>\n",
       "      <td>...</td>\n",
       "      <td>...</td>\n",
       "      <td>...</td>\n",
       "      <td>...</td>\n",
       "      <td>...</td>\n",
       "      <td>...</td>\n",
       "    </tr>\n",
       "    <tr>\n",
       "      <th>33339</th>\n",
       "      <td>25-4013</td>\n",
       "      <td>29-1141</td>\n",
       "      <td>Museum Technicians and Conservators</td>\n",
       "      <td>Registered Nurses</td>\n",
       "      <td>104.406667</td>\n",
       "      <td>0.000063</td>\n",
       "      <td>1137881.06</td>\n",
       "      <td>0.009176</td>\n",
       "      <td>0</td>\n",
       "      <td>0</td>\n",
       "      <td>0</td>\n",
       "    </tr>\n",
       "    <tr>\n",
       "      <th>110210</th>\n",
       "      <td>53-3053</td>\n",
       "      <td>29-1141</td>\n",
       "      <td>Shuttle Drivers and Chauffeurs</td>\n",
       "      <td>Registered Nurses</td>\n",
       "      <td>47.747500</td>\n",
       "      <td>0.000029</td>\n",
       "      <td>1137881.06</td>\n",
       "      <td>0.004196</td>\n",
       "      <td>0</td>\n",
       "      <td>0</td>\n",
       "      <td>0</td>\n",
       "    </tr>\n",
       "    <tr>\n",
       "      <th>110211</th>\n",
       "      <td>53-3054</td>\n",
       "      <td>29-1141</td>\n",
       "      <td>Taxi Drivers</td>\n",
       "      <td>Registered Nurses</td>\n",
       "      <td>47.747500</td>\n",
       "      <td>0.000029</td>\n",
       "      <td>1137881.06</td>\n",
       "      <td>0.004196</td>\n",
       "      <td>0</td>\n",
       "      <td>0</td>\n",
       "      <td>0</td>\n",
       "    </tr>\n",
       "    <tr>\n",
       "      <th>110212</th>\n",
       "      <td>53-3051</td>\n",
       "      <td>29-1141</td>\n",
       "      <td>Bus Drivers, School</td>\n",
       "      <td>Registered Nurses</td>\n",
       "      <td>47.747500</td>\n",
       "      <td>0.000029</td>\n",
       "      <td>1137881.06</td>\n",
       "      <td>0.004196</td>\n",
       "      <td>0</td>\n",
       "      <td>0</td>\n",
       "      <td>0</td>\n",
       "    </tr>\n",
       "    <tr>\n",
       "      <th>110213</th>\n",
       "      <td>53-3052</td>\n",
       "      <td>29-1141</td>\n",
       "      <td>Bus Drivers, Transit and Intercity</td>\n",
       "      <td>Registered Nurses</td>\n",
       "      <td>47.747500</td>\n",
       "      <td>0.000029</td>\n",
       "      <td>1137881.06</td>\n",
       "      <td>0.004196</td>\n",
       "      <td>0</td>\n",
       "      <td>0</td>\n",
       "      <td>0</td>\n",
       "    </tr>\n",
       "  </tbody>\n",
       "</table>\n",
       "<p>238 rows × 11 columns</p>\n",
       "</div>"
      ],
      "text/plain": [
       "       ONET18_SOC ONET18_SOC_LY                         ONET18_Title  \\\n",
       "47123     29-1123       29-1141                  Physical Therapists   \n",
       "47164     29-1126       29-1141               Respiratory Therapists   \n",
       "47379     29-1128       29-1141               Exercise Physiologists   \n",
       "47378     29-1129       29-1141                Therapists, All Other   \n",
       "47225     29-1127       29-1141         Speech-Language Pathologists   \n",
       "...           ...           ...                                  ...   \n",
       "33339     25-4013       29-1141  Museum Technicians and Conservators   \n",
       "110210    53-3053       29-1141       Shuttle Drivers and Chauffeurs   \n",
       "110211    53-3054       29-1141                         Taxi Drivers   \n",
       "110212    53-3051       29-1141                  Bus Drivers, School   \n",
       "110213    53-3052       29-1141   Bus Drivers, Transit and Intercity   \n",
       "\n",
       "          ONET18_Title_LY          count   pct_tot  count_socly  pct_socly  \\\n",
       "47123   Registered Nurses  208251.380000  0.124664   1137881.06  18.301683   \n",
       "47164   Registered Nurses  133490.700000  0.079911   1137881.06  11.731516   \n",
       "47379   Registered Nurses   84033.560000  0.050305   1137881.06   7.385092   \n",
       "47378   Registered Nurses   84033.560000  0.050305   1137881.06   7.385092   \n",
       "47225   Registered Nurses   78260.440000  0.046849   1137881.06   6.877735   \n",
       "...                   ...            ...       ...          ...        ...   \n",
       "33339   Registered Nurses     104.406667  0.000063   1137881.06   0.009176   \n",
       "110210  Registered Nurses      47.747500  0.000029   1137881.06   0.004196   \n",
       "110211  Registered Nurses      47.747500  0.000029   1137881.06   0.004196   \n",
       "110212  Registered Nurses      47.747500  0.000029   1137881.06   0.004196   \n",
       "110213  Registered Nurses      47.747500  0.000029   1137881.06   0.004196   \n",
       "\n",
       "        in_grp  in_minor_grp  in_broad_occ  \n",
       "47123        1             1             0  \n",
       "47164        1             1             0  \n",
       "47379        1             1             0  \n",
       "47378        1             1             0  \n",
       "47225        1             1             0  \n",
       "...        ...           ...           ...  \n",
       "33339        0             0             0  \n",
       "110210       0             0             0  \n",
       "110211       0             0             0  \n",
       "110212       0             0             0  \n",
       "110213       0             0             0  \n",
       "\n",
       "[238 rows x 11 columns]"
      ]
     },
     "execution_count": 10,
     "metadata": {},
     "output_type": "execute_result"
    }
   ],
   "source": [
    "cps_retail_pct = df_cps[df_cps['ONET18_Title_LY'] == 'Registered Nurses'].sort_values(by = 'pct_tot', ascending = False)\n",
    "# cps_retail_pct[cps_retail_pct['ONET18_Title'] == 'Cashiers']['pct_tot']\n",
    "# cps_retail_pct[0:10]['pct_tot'].sum()\n",
    "cps_retail_pct"
   ]
  },
  {
   "cell_type": "code",
   "execution_count": 11,
   "metadata": {},
   "outputs": [],
   "source": [
    "def percentage_default(occ,df_cps,a,b):\n",
    "    df_occ = df_cps[df_cps['ONET18_Title_LY'] == occ].sort_values(by = 'pct_socly', ascending = False)\n",
    "    return df_occ[a:b]['pct_socly'].sum()"
   ]
  },
  {
   "cell_type": "code",
   "execution_count": 12,
   "metadata": {},
   "outputs": [],
   "source": [
    "retail_default = percentage_default('Retail Salespersons',df_cps,0,10)"
   ]
  },
  {
   "cell_type": "code",
   "execution_count": 13,
   "metadata": {},
   "outputs": [],
   "source": [
    "nurse_default = percentage_default('Registered Nurses',df_cps,0,10)"
   ]
  },
  {
   "cell_type": "code",
   "execution_count": 14,
   "metadata": {},
   "outputs": [],
   "source": [
    "janitors_default = percentage_default('Janitors and Cleaners, Except Maids and Housekeeping Cleaners',df_cps,0,10)"
   ]
  },
  {
   "cell_type": "code",
   "execution_count": 15,
   "metadata": {},
   "outputs": [],
   "source": [
    "sales_default = percentage_default('Sales Managers',df_cps,0,10)"
   ]
  },
  {
   "cell_type": "code",
   "execution_count": 16,
   "metadata": {},
   "outputs": [],
   "source": [
    "def percentage(occ,df_onet,df_cps,a,b):\n",
    "    '''\n",
    "    Get total percentage that ONET transition takes ups\n",
    "    @param occ occupation of interests\n",
    "    @param df_onet dataFrame for ONET\n",
    "    @param df_cps dataFrame for CPS data\n",
    "    @param a index of first position for onet\n",
    "    @param index of last position\n",
    "    \n",
    "    return the percentage composition for the ath to bth place of ONET\n",
    "    '''\n",
    "    \n",
    "    total = 0\n",
    "    onet_list = df_onet.loc[occ].sort_values()[a:b].index.to_list()\n",
    "    cps_occ = df_cps[df_cps['ONET18_Title_LY'] == occ]\n",
    "    for occ in onet_list:\n",
    "#         print(occ)\n",
    "#         print(cps_occ[cps_occ['ONET18_Title'] == occ]['pct_tot'].values[0])\n",
    "        val = cps_occ[cps_occ['ONET18_Title'] == occ]['pct_socly'].values\n",
    "        if len(val) == 0:\n",
    "            continue\n",
    "        else:\n",
    "            total += val[0]\n",
    "    \n",
    "    return total\n"
   ]
  },
  {
   "cell_type": "code",
   "execution_count": 17,
   "metadata": {
    "scrolled": true
   },
   "outputs": [
    {
     "name": "stdout",
     "output_type": "stream",
     "text": [
      "41.541673571317794\n",
      "6.247645518462117\n",
      "15.039465147537454\n"
     ]
    }
   ],
   "source": [
    "retail_skills = percentage('Retail Salespersons',skills_dist,df_cps,0,10)\n",
    "print(retail_default)\n",
    "print(retail_skills)\n",
    "print(retail_skills/retail_default*100)"
   ]
  },
  {
   "cell_type": "code",
   "execution_count": 18,
   "metadata": {
    "scrolled": true
   },
   "outputs": [
    {
     "name": "stdout",
     "output_type": "stream",
     "text": [
      "69.29806178512185\n",
      "9.807177002520186\n",
      "14.152166380829092\n"
     ]
    }
   ],
   "source": [
    "nurse_skills = percentage('Registered Nurses',skills_dist,df_cps,0,10)\n",
    "print(nurse_default)\n",
    "print(nurse_skills)\n",
    "print(nurse_skills/nurse_default*100)"
   ]
  },
  {
   "cell_type": "code",
   "execution_count": 19,
   "metadata": {
    "scrolled": true
   },
   "outputs": [
    {
     "name": "stdout",
     "output_type": "stream",
     "text": [
      "59.08144679332252\n",
      "7.397082505916141\n",
      "12.520144491031948\n"
     ]
    }
   ],
   "source": [
    "janitors_skills = percentage('Janitors and Cleaners, Except Maids and Housekeeping Cleaners',skills_dist,df_cps,0,10)\n",
    "print(janitors_default)\n",
    "print(janitors_skills)\n",
    "print(janitors_skills/janitors_default*100)"
   ]
  },
  {
   "cell_type": "code",
   "execution_count": 20,
   "metadata": {},
   "outputs": [
    {
     "name": "stdout",
     "output_type": "stream",
     "text": [
      "59.08144679332252\n",
      "3.536867901091421\n",
      "7.171481406185616\n"
     ]
    }
   ],
   "source": [
    "sales_skills = percentage('Sales Managers',skills_dist,df_cps,0,10)\n",
    "print(janitors_default)\n",
    "print(sales_skills)\n",
    "print(sales_skills/sales_default*100)"
   ]
  },
  {
   "cell_type": "markdown",
   "metadata": {},
   "source": [
    "## ONET Regular"
   ]
  },
  {
   "cell_type": "code",
   "execution_count": 21,
   "metadata": {},
   "outputs": [],
   "source": [
    "df_ab = get_data(connection,'abilities')\n",
    "df_in = get_data(connection,'interests')\n",
    "df_ws = get_data(connection,'work_styles')\n",
    "df_wv = get_data(connection, 'work_values')\n",
    "df_wc = get_data(connection,'work_context')\n",
    "df_knowledge = get_data(connection,'knowledge')\n",
    "df_gwas = get_data(connection,'work_activities')\n",
    "df_jz = get_data(connection,'job_zones')\n",
    "df_jz = df_jz[df_jz['title'] != 'Legislators']\n"
   ]
  },
  {
   "cell_type": "code",
   "execution_count": 22,
   "metadata": {},
   "outputs": [],
   "source": [
    "wc_dist = distance_table(df_wc)\n",
    "knowledge_dist = distance_table(df_knowledge)\n",
    "skills_dist = distance_table(df_skills)\n",
    "gwas_dist = distance_table(df_gwas)\n",
    "jz_dist = distance_table(df_jz,True)\n",
    "wv_dist = distance_table(df_wv)\n",
    "in_dist = distance_table(df_in)\n",
    "ab_dist = distance_table(df_ab)\n",
    "ws_dist = distance_table(df_ws)\n",
    "df_concat = pd.concat([wc_dist,knowledge_dist,skills_dist,gwas_dist,jz_dist.multiply(1.3)]).groupby(level =0).mean()\n",
    "# df_concat"
   ]
  },
  {
   "cell_type": "code",
   "execution_count": 23,
   "metadata": {},
   "outputs": [
    {
     "name": "stdout",
     "output_type": "stream",
     "text": [
      "41.541673571317794\n",
      "13.782679061142858\n",
      "33.17795812313885\n"
     ]
    }
   ],
   "source": [
    "retail_onet = percentage('Retail Salespersons',df_concat,df_cps,0,10)\n",
    "print(retail_default)\n",
    "print(retail_onet)\n",
    "print(retail_onet/retail_default*100)"
   ]
  },
  {
   "cell_type": "code",
   "execution_count": 24,
   "metadata": {},
   "outputs": [
    {
     "name": "stdout",
     "output_type": "stream",
     "text": [
      "69.29806178512185\n",
      "27.79892566275773\n",
      "40.1150118006996\n"
     ]
    }
   ],
   "source": [
    "nurse_onet = percentage('Registered Nurses',df_concat,df_cps,0,10)\n",
    "print(nurse_default)\n",
    "print(nurse_onet)\n",
    "print(nurse_onet/nurse_default*100)"
   ]
  },
  {
   "cell_type": "code",
   "execution_count": 25,
   "metadata": {
    "scrolled": true
   },
   "outputs": [
    {
     "name": "stdout",
     "output_type": "stream",
     "text": [
      "59.08144679332252\n",
      "27.73909571228287\n",
      "46.95060330753103\n"
     ]
    }
   ],
   "source": [
    "janitors_onet = percentage('Janitors and Cleaners, Except Maids and Housekeeping Cleaners',df_concat,df_cps,0,10)\n",
    "print(janitors_default)\n",
    "print(janitors_onet)\n",
    "print(janitors_onet/janitors_default*100)"
   ]
  },
  {
   "cell_type": "code",
   "execution_count": 26,
   "metadata": {},
   "outputs": [
    {
     "name": "stdout",
     "output_type": "stream",
     "text": [
      "49.31851176579454\n",
      "3.274858378111049\n",
      "6.640221411511382\n"
     ]
    }
   ],
   "source": [
    "sales_onet = percentage('Sales Managers',df_concat,df_cps,0,10)\n",
    "print(sales_default)\n",
    "print(sales_onet)\n",
    "print(sales_onet/sales_default*100)"
   ]
  },
  {
   "cell_type": "code",
   "execution_count": 27,
   "metadata": {},
   "outputs": [],
   "source": [
    "## ONET Custom"
   ]
  },
  {
   "cell_type": "code",
   "execution_count": 28,
   "metadata": {},
   "outputs": [],
   "source": [
    "def filt(df,d):\n",
    "    '''\n",
    "    @params: df: Dataframe to filter, d: set of all relevant names\n",
    "    @returns: filtered Dataframe\n",
    "    '''\n",
    "    return df.loc[df.index.isin(d)]"
   ]
  },
  {
   "cell_type": "code",
   "execution_count": null,
   "metadata": {},
   "outputs": [],
   "source": []
  },
  {
   "cell_type": "code",
   "execution_count": 29,
   "metadata": {},
   "outputs": [],
   "source": [
    "# df_rel = pd.concat([knowledge_dist.multiply(2),skills_dist.multiply(3),gwas_dist]).groupby(level =0).mean()\n",
    "# df_jz_filt = get_data(connection,'job_zones',True,[2])\n",
    "df_jz_filt = get_data(connection,'job_zones')\n",
    "# df_ab_filt = get_data(connection,'abilities',True,'1.A.1.')\n",
    "df_ab_filt = get_data(connection,'abilities')\n",
    "# jz_dist_filt = distance_table(df_jz_filt,True)\n",
    "jz_set = set(df_jz_filt['title'].unique()) #to filter out same job_zones jobs"
   ]
  },
  {
   "cell_type": "code",
   "execution_count": 30,
   "metadata": {},
   "outputs": [],
   "source": [
    "abilities_filtered = filt(df_ab_filt,jz_set)\n",
    "skills_filtered = filt(df_skills,jz_set)\n",
    "knowledge_filtered = filt(df_knowledge,jz_set)\n",
    "in_filtered = filt(df_in,jz_set)\n",
    "gwas_filtered = filt(df_gwas,jz_set)"
   ]
  },
  {
   "cell_type": "code",
   "execution_count": 31,
   "metadata": {},
   "outputs": [],
   "source": [
    "ab_dist_filt = distance_table(abilities_filtered) #NaN?\n",
    "skills_dist_filt = distance_table(skills_filtered)\n",
    "knowledge_dist_filt = distance_table(knowledge_filtered)\n",
    "in_dist_filt = distance_table(in_filtered)\n",
    "gwas_dist_filt = distance_table(gwas_filtered)\n",
    "df_concat_filt = pd.concat([ab_dist_filt.multiply(4.0),skills_dist_filt.multiply(3.0),knowledge_dist_filt.multiply(2.0),in_dist_filt,gwas_dist_filt]).groupby(level =0).mean()"
   ]
  },
  {
   "cell_type": "code",
   "execution_count": 32,
   "metadata": {
    "scrolled": true
   },
   "outputs": [
    {
     "name": "stdout",
     "output_type": "stream",
     "text": [
      "41.541673571317794\n",
      "13.568072196671913\n",
      "32.661351915393006\n"
     ]
    }
   ],
   "source": [
    "retail_alg1 = percentage('Retail Salespersons',df_concat_filt,df_cps,0,10)\n",
    "print(retail_default)\n",
    "print(retail_alg1)\n",
    "print(retail_alg1/retail_default*100)"
   ]
  },
  {
   "cell_type": "code",
   "execution_count": 33,
   "metadata": {
    "scrolled": true
   },
   "outputs": [
    {
     "name": "stdout",
     "output_type": "stream",
     "text": [
      "69.29806178512185\n",
      "41.8177848702394\n",
      "60.34481166285317\n"
     ]
    }
   ],
   "source": [
    "nurse_alg1 = percentage('Registered Nurses',df_concat_filt,df_cps,0,10)\n",
    "print(nurse_default)\n",
    "print(nurse_alg1)\n",
    "print(nurse_alg1/nurse_default*100)"
   ]
  },
  {
   "cell_type": "code",
   "execution_count": 34,
   "metadata": {
    "scrolled": true
   },
   "outputs": [
    {
     "name": "stdout",
     "output_type": "stream",
     "text": [
      "59.08144679332252\n",
      "29.03568131531777\n",
      "49.1451765169018\n"
     ]
    }
   ],
   "source": [
    "janitor_alg1 = percentage('Janitors and Cleaners, Except Maids and Housekeeping Cleaners',df_concat_filt,df_cps,0,10)\n",
    "print(janitors_default)\n",
    "print(janitor_alg1)\n",
    "print(janitor_alg1/janitors_default*100)"
   ]
  },
  {
   "cell_type": "code",
   "execution_count": 35,
   "metadata": {},
   "outputs": [
    {
     "name": "stdout",
     "output_type": "stream",
     "text": [
      "49.31851176579454\n",
      "3.536867901091421\n",
      "7.171481406185616\n"
     ]
    }
   ],
   "source": [
    "sales_alg1 = percentage('Sales Managers',df_concat_filt,df_cps,0,10)\n",
    "print(sales_default)\n",
    "print(sales_alg1)\n",
    "print(sales_alg1/sales_default*100)"
   ]
  },
  {
   "cell_type": "markdown",
   "metadata": {},
   "source": [
    "## Comparison using Kendall Tau"
   ]
  },
  {
   "cell_type": "code",
   "execution_count": 36,
   "metadata": {},
   "outputs": [
    {
     "data": {
      "text/plain": [
       "KendalltauResult(correlation=0.7999999999999999, pvalue=0.08333333333333333)"
      ]
     },
     "execution_count": 36,
     "metadata": {},
     "output_type": "execute_result"
    }
   ],
   "source": [
    "# kendalltau([1,2,3,4,5], [1,2,3,4,5])\n",
    "kendalltau([1,2,3,4,5], [2,1,3,4,5])"
   ]
  },
  {
   "cell_type": "code",
   "execution_count": 37,
   "metadata": {},
   "outputs": [
    {
     "data": {
      "text/plain": [
       "KendalltauResult(correlation=0.7999999999999999, pvalue=0.08333333333333333)"
      ]
     },
     "execution_count": 37,
     "metadata": {},
     "output_type": "execute_result"
    }
   ],
   "source": [
    "kendalltau([1,2,3,4,5], [1,2,3,5,4])"
   ]
  },
  {
   "cell_type": "code",
   "execution_count": 38,
   "metadata": {},
   "outputs": [
    {
     "data": {
      "text/plain": [
       "WeightedTauResult(correlation=0.9014598540145985, pvalue=nan)"
      ]
     },
     "execution_count": 38,
     "metadata": {},
     "output_type": "execute_result"
    }
   ],
   "source": [
    "weightedtau([1,2,3,4,5], [2,1,3,4,5])"
   ]
  },
  {
   "cell_type": "code",
   "execution_count": 39,
   "metadata": {},
   "outputs": [
    {
     "data": {
      "text/plain": [
       "WeightedTauResult(correlation=0.6715328467153284, pvalue=nan)"
      ]
     },
     "execution_count": 39,
     "metadata": {},
     "output_type": "execute_result"
    }
   ],
   "source": [
    "weightedtau([1,2,3,4,5], [1,2,3,5,4])"
   ]
  },
  {
   "cell_type": "code",
   "execution_count": 40,
   "metadata": {},
   "outputs": [],
   "source": [
    "list_cps = df_cps[df_cps['ONET18_Title_LY'] == 'Retail Salespersons'].sort_values(by = 'pct_tot', ascending = False)['ONET18_Title']\n",
    "list_cps= list_cps.to_list()[0:50]\n",
    "list_onet = skills_dist.loc['Retail Salespersons'].sort_values().index.to_list()[0:50]\n",
    "# cps_array = np.array(list_cps).astype(float)\n"
   ]
  },
  {
   "cell_type": "code",
   "execution_count": null,
   "metadata": {},
   "outputs": [],
   "source": []
  },
  {
   "cell_type": "code",
   "execution_count": 41,
   "metadata": {
    "scrolled": true
   },
   "outputs": [],
   "source": [
    "# weightedtau(list_cps, list_onet)"
   ]
  },
  {
   "cell_type": "code",
   "execution_count": 42,
   "metadata": {},
   "outputs": [],
   "source": [
    "def kendall_tau_rank(df_cps,df_onet,a,b,occ):\n",
    "    list_cps = df_cps[df_cps['ONET18_Title_LY'] == occ].sort_values(by = 'pct_tot', ascending = False)['ONET18_Title']\n",
    "    list_cps= list_cps.to_list()[a:b]\n",
    "    list_onet = df_onet.loc[occ].sort_values().index.to_list()[a:b]\n",
    "    \n",
    "    return kendalltau(list_cps, list_onet)"
   ]
  },
  {
   "cell_type": "code",
   "execution_count": 43,
   "metadata": {},
   "outputs": [
    {
     "data": {
      "text/plain": [
       "KendalltauResult(correlation=-0.08493263264200439, pvalue=0.38431371414818993)"
      ]
     },
     "execution_count": 43,
     "metadata": {},
     "output_type": "execute_result"
    }
   ],
   "source": [
    "kendall_tau_rank(df_cps,skills_dist,0,50,'Sales Managers')"
   ]
  },
  {
   "cell_type": "code",
   "execution_count": 44,
   "metadata": {},
   "outputs": [
    {
     "data": {
      "text/plain": [
       "KendalltauResult(correlation=0.05795918367346938, pvalue=0.552575720493856)"
      ]
     },
     "execution_count": 44,
     "metadata": {},
     "output_type": "execute_result"
    }
   ],
   "source": [
    "kendall_tau_rank(df_cps,skills_dist,0,50,'Retail Salespersons')"
   ]
  },
  {
   "cell_type": "code",
   "execution_count": 45,
   "metadata": {
    "scrolled": true
   },
   "outputs": [
    {
     "data": {
      "text/plain": [
       "{'Actors',\n",
       " 'Actuaries',\n",
       " 'Acupuncturists',\n",
       " 'Adhesive Bonding Machine Operators and Tenders',\n",
       " 'Administrative Law Judges, Adjudicators, and Hearing Officers',\n",
       " 'Administrative Services Managers',\n",
       " 'Advertising Sales Agents',\n",
       " 'Advertising and Promotions Managers',\n",
       " 'Aerospace Engineers',\n",
       " 'Agents and Business Managers of Artists, Performers, and Athletes',\n",
       " 'Agricultural Engineers',\n",
       " 'Agricultural Equipment Operators',\n",
       " 'Agricultural Inspectors',\n",
       " 'Agricultural Sciences Teachers, Postsecondary',\n",
       " 'Agricultural Technicians',\n",
       " 'Air Traffic Controllers',\n",
       " 'Aircraft Cargo Handling Supervisors',\n",
       " 'Aircraft Mechanics and Service Technicians',\n",
       " 'Aircraft Structure, Surfaces, Rigging, and Systems Assemblers',\n",
       " 'Airfield Operations Specialists',\n",
       " 'Airline Pilots, Copilots, and Flight Engineers',\n",
       " 'Ambulance Drivers and Attendants, Except Emergency Medical Technicians',\n",
       " 'Amusement and Recreation Attendants',\n",
       " 'Anesthesiologists',\n",
       " 'Animal Breeders',\n",
       " 'Animal Control Workers',\n",
       " 'Animal Scientists',\n",
       " 'Animal Trainers',\n",
       " 'Anthropology and Archeology Teachers, Postsecondary',\n",
       " 'Arbitrators, Mediators, and Conciliators',\n",
       " 'Architects, Except Landscape and Naval',\n",
       " 'Architectural and Engineering Managers',\n",
       " 'Architecture Teachers, Postsecondary',\n",
       " 'Archivists',\n",
       " 'Area, Ethnic, and Cultural Studies Teachers, Postsecondary',\n",
       " 'Art Directors',\n",
       " 'Art, Drama, and Music Teachers, Postsecondary',\n",
       " 'Astronomers',\n",
       " 'Athletes and Sports Competitors',\n",
       " 'Athletic Trainers',\n",
       " 'Atmospheric and Space Scientists',\n",
       " 'Atmospheric, Earth, Marine, and Space Sciences Teachers, Postsecondary',\n",
       " 'Audiologists',\n",
       " 'Automotive Body and Related Repairers',\n",
       " 'Automotive Glass Installers and Repairers',\n",
       " 'Automotive and Watercraft Service Attendants',\n",
       " 'Avionics Technicians',\n",
       " 'Baggage Porters and Bellhops',\n",
       " 'Bailiffs',\n",
       " 'Bakers',\n",
       " 'Barbers',\n",
       " 'Bartenders',\n",
       " 'Bicycle Repairers',\n",
       " 'Bill and Account Collectors',\n",
       " 'Biochemists and Biophysicists',\n",
       " 'Biological Science Teachers, Postsecondary',\n",
       " 'Biological Technicians',\n",
       " 'Boilermakers',\n",
       " 'Bookkeeping, Accounting, and Auditing Clerks',\n",
       " 'Brickmasons and Blockmasons',\n",
       " 'Bridge and Lock Tenders',\n",
       " 'Broadcast Technicians',\n",
       " 'Brokerage Clerks',\n",
       " 'Budget Analysts',\n",
       " 'Bus Drivers, Transit and Intercity',\n",
       " 'Bus and Truck Mechanics and Diesel Engine Specialists',\n",
       " 'Business Teachers, Postsecondary',\n",
       " 'Butchers and Meat Cutters',\n",
       " 'Buyers and Purchasing Agents, Farm Products',\n",
       " 'Cabinetmakers and Bench Carpenters',\n",
       " 'Camera and Photographic Equipment Repairers',\n",
       " 'Cardiovascular Technologists and Technicians',\n",
       " 'Career/Technical Education Teachers, Middle School',\n",
       " 'Career/Technical Education Teachers, Secondary School',\n",
       " 'Cargo and Freight Agents',\n",
       " 'Carpet Installers',\n",
       " 'Cartographers and Photogrammetrists',\n",
       " 'Cashiers',\n",
       " 'Cement Masons and Concrete Finishers',\n",
       " 'Chefs and Head Cooks',\n",
       " 'Chemical Engineers',\n",
       " 'Chemical Equipment Operators and Tenders',\n",
       " 'Chemical Plant and System Operators',\n",
       " 'Chemical Technicians',\n",
       " 'Chemistry Teachers, Postsecondary',\n",
       " 'Chemists',\n",
       " 'Chief Executives',\n",
       " 'Child, Family, and School Social Workers',\n",
       " 'Childcare Workers',\n",
       " 'Chiropractors',\n",
       " 'Choreographers',\n",
       " 'Civil Engineers',\n",
       " 'Cleaners of Vehicles and Equipment',\n",
       " 'Cleaning, Washing, and Metal Pickling Equipment Operators and Tenders',\n",
       " 'Clergy',\n",
       " 'Coaches and Scouts',\n",
       " 'Coating, Painting, and Spraying Machine Setters, Operators, and Tenders',\n",
       " 'Coil Winders, Tapers, and Finishers',\n",
       " 'Coin, Vending, and Amusement Machine Servicers and Repairers',\n",
       " 'Commercial Divers',\n",
       " 'Commercial Pilots',\n",
       " 'Commercial and Industrial Designers',\n",
       " 'Communications Teachers, Postsecondary',\n",
       " 'Community Health Workers',\n",
       " 'Compensation and Benefits Managers',\n",
       " 'Compensation, Benefits, and Job Analysis Specialists',\n",
       " 'Computer Hardware Engineers',\n",
       " 'Computer Network Architects',\n",
       " 'Computer Network Support Specialists',\n",
       " 'Computer Programmers',\n",
       " 'Computer Science Teachers, Postsecondary',\n",
       " 'Computer Systems Analysts',\n",
       " 'Computer User Support Specialists',\n",
       " 'Computer and Information Research Scientists',\n",
       " 'Computer and Information Systems Managers',\n",
       " 'Computer, Automated Teller, and Office Machine Repairers',\n",
       " 'Concierges',\n",
       " 'Construction Laborers',\n",
       " 'Construction Managers',\n",
       " 'Construction and Building Inspectors',\n",
       " 'Continuous Mining Machine Operators',\n",
       " 'Control and Valve Installers and Repairers, Except Mechanical Door',\n",
       " 'Conveyor Operators and Tenders',\n",
       " 'Cooks, Fast Food',\n",
       " 'Cooks, Institution and Cafeteria',\n",
       " 'Cooks, Private Household',\n",
       " 'Cooks, Restaurant',\n",
       " 'Cooks, Short Order',\n",
       " 'Cooling and Freezing Equipment Operators and Tenders',\n",
       " 'Correctional Officers and Jailers',\n",
       " 'Correspondence Clerks',\n",
       " 'Cost Estimators',\n",
       " 'Costume Attendants',\n",
       " 'Counter and Rental Clerks',\n",
       " 'Couriers and Messengers',\n",
       " 'Craft Artists',\n",
       " 'Crane and Tower Operators',\n",
       " 'Credit Analysts',\n",
       " 'Credit Counselors',\n",
       " 'Criminal Justice and Law Enforcement Teachers, Postsecondary',\n",
       " 'Crushing, Grinding, and Polishing Machine Setters, Operators, and Tenders',\n",
       " 'Curators',\n",
       " 'Customer Service Representatives',\n",
       " 'Cutters and Trimmers, Hand',\n",
       " 'Cutting and Slicing Machine Setters, Operators, and Tenders',\n",
       " 'Cutting, Punching, and Press Machine Setters, Operators, and Tenders, Metal and Plastic',\n",
       " 'Dancers',\n",
       " 'Data Entry Keyers',\n",
       " 'Database Administrators',\n",
       " 'Database Architects',\n",
       " 'Demonstrators and Product Promoters',\n",
       " 'Dental Assistants',\n",
       " 'Dental Hygienists',\n",
       " 'Dental Laboratory Technicians',\n",
       " 'Dentists, General',\n",
       " 'Dermatologists',\n",
       " 'Derrick Operators, Oil and Gas',\n",
       " 'Desktop Publishers',\n",
       " 'Diagnostic Medical Sonographers',\n",
       " 'Dietetic Technicians',\n",
       " 'Dietitians and Nutritionists',\n",
       " 'Dining Room and Cafeteria Attendants and Bartender Helpers',\n",
       " 'Directors, Religious Activities and Education',\n",
       " 'Dishwashers',\n",
       " 'Dispatchers, Except Police, Fire, and Ambulance',\n",
       " 'Dredge Operators',\n",
       " 'Drilling and Boring Machine Tool Setters, Operators, and Tenders, Metal and Plastic',\n",
       " 'Driver/Sales Workers',\n",
       " 'Drywall and Ceiling Tile Installers',\n",
       " 'Earth Drillers, Except Oil and Gas',\n",
       " 'Economics Teachers, Postsecondary',\n",
       " 'Economists',\n",
       " 'Editors',\n",
       " 'Education Administrators, Postsecondary',\n",
       " 'Education Teachers, Postsecondary',\n",
       " 'Electric Motor, Power Tool, and Related Repairers',\n",
       " 'Electrical Engineers',\n",
       " 'Electrical Power-Line Installers and Repairers',\n",
       " 'Electrical and Electronic Equipment Assemblers',\n",
       " 'Electrical and Electronics Installers and Repairers, Transportation Equipment',\n",
       " 'Electrical and Electronics Repairers, Commercial and Industrial Equipment',\n",
       " 'Electrical and Electronics Repairers, Powerhouse, Substation, and Relay',\n",
       " 'Electricians',\n",
       " 'Electromechanical Equipment Assemblers',\n",
       " 'Electronic Equipment Installers and Repairers, Motor Vehicles',\n",
       " 'Electronics Engineers, Except Computer',\n",
       " 'Elementary School Teachers, Except Special Education',\n",
       " 'Eligibility Interviewers, Government Programs',\n",
       " 'Embalmers',\n",
       " 'Emergency Management Directors',\n",
       " 'Engine and Other Machine Assemblers',\n",
       " 'Engineering Teachers, Postsecondary',\n",
       " 'English Language and Literature Teachers, Postsecondary',\n",
       " 'Environmental Engineers',\n",
       " 'Environmental Science Teachers, Postsecondary',\n",
       " 'Environmental Science and Protection Technicians, Including Health',\n",
       " 'Environmental Scientists and Specialists, Including Health',\n",
       " 'Epidemiologists',\n",
       " 'Etchers and Engravers',\n",
       " 'Executive Secretaries and Executive Administrative Assistants',\n",
       " 'Exercise Physiologists',\n",
       " 'Explosives Workers, Ordnance Handling Experts, and Blasters',\n",
       " 'Extruding and Drawing Machine Setters, Operators, and Tenders, Metal and Plastic',\n",
       " 'Extruding and Forming Machine Setters, Operators, and Tenders, Synthetic and Glass Fibers',\n",
       " 'Extruding, Forming, Pressing, and Compacting Machine Setters, Operators, and Tenders',\n",
       " 'Fabric and Apparel Patternmakers',\n",
       " 'Fallers',\n",
       " 'Farm Equipment Mechanics and Service Technicians',\n",
       " 'Farm Labor Contractors',\n",
       " 'Farmworkers, Farm, Ranch, and Aquacultural Animals',\n",
       " 'Fashion Designers',\n",
       " 'Fence Erectors',\n",
       " 'Fiberglass Laminators and Fabricators',\n",
       " 'File Clerks',\n",
       " 'Film and Video Editors',\n",
       " 'Financial Examiners',\n",
       " 'Fine Artists, Including Painters, Sculptors, and Illustrators',\n",
       " 'First-Line Supervisors of Construction Trades and Extraction Workers',\n",
       " 'First-Line Supervisors of Correctional Officers',\n",
       " 'First-Line Supervisors of Food Preparation and Serving Workers',\n",
       " 'First-Line Supervisors of Helpers, Laborers, and Material Movers, Hand',\n",
       " 'First-Line Supervisors of Housekeeping and Janitorial Workers',\n",
       " 'First-Line Supervisors of Landscaping, Lawn Service, and Groundskeeping Workers',\n",
       " 'First-Line Supervisors of Mechanics, Installers, and Repairers',\n",
       " 'First-Line Supervisors of Non-Retail Sales Workers',\n",
       " 'First-Line Supervisors of Office and Administrative Support Workers',\n",
       " 'First-Line Supervisors of Personal Service Workers',\n",
       " 'First-Line Supervisors of Police and Detectives',\n",
       " 'First-Line Supervisors of Production and Operating Workers',\n",
       " 'First-Line Supervisors of Retail Sales Workers',\n",
       " 'Fish and Game Wardens',\n",
       " 'Flight Attendants',\n",
       " 'Floor Layers, Except Carpet, Wood, and Hard Tiles',\n",
       " 'Floor Sanders and Finishers',\n",
       " 'Floral Designers',\n",
       " 'Food Batchmakers',\n",
       " 'Food Cooking Machine Operators and Tenders',\n",
       " 'Food Preparation Workers',\n",
       " 'Food Science Technicians',\n",
       " 'Food Scientists and Technologists',\n",
       " 'Food Servers, Nonrestaurant',\n",
       " 'Food Service Managers',\n",
       " 'Food and Tobacco Roasting, Baking, and Drying Machine Operators and Tenders',\n",
       " 'Foreign Language and Literature Teachers, Postsecondary',\n",
       " 'Forensic Science Technicians',\n",
       " 'Forest Fire Inspectors and Prevention Specialists',\n",
       " 'Forest and Conservation Technicians',\n",
       " 'Forest and Conservation Workers',\n",
       " 'Foresters',\n",
       " 'Forestry and Conservation Science Teachers, Postsecondary',\n",
       " 'Forging Machine Setters, Operators, and Tenders, Metal and Plastic',\n",
       " 'Foundry Mold and Coremakers',\n",
       " 'Fundraisers',\n",
       " 'Funeral Attendants',\n",
       " 'Furnace, Kiln, Oven, Drier, and Kettle Operators and Tenders',\n",
       " 'Furniture Finishers',\n",
       " 'Gas Compressor and Gas Pumping Station Operators',\n",
       " 'Gas Plant Operators',\n",
       " 'General and Operations Managers',\n",
       " 'Genetic Counselors',\n",
       " 'Geographers',\n",
       " 'Geography Teachers, Postsecondary',\n",
       " 'Geoscientists, Except Hydrologists and Geographers',\n",
       " 'Glaziers',\n",
       " 'Graders and Sorters, Agricultural Products',\n",
       " 'Graphic Designers',\n",
       " 'Grinding and Polishing Workers, Hand',\n",
       " 'Grinding, Lapping, Polishing, and Buffing Machine Tool Setters, Operators, and Tenders, Metal and Plastic',\n",
       " 'Hairdressers, Hairstylists, and Cosmetologists',\n",
       " 'Hazardous Materials Removal Workers',\n",
       " 'Health Specialties Teachers, Postsecondary',\n",
       " 'Healthcare Social Workers',\n",
       " 'Hearing Aid Specialists',\n",
       " 'Heat Treating Equipment Setters, Operators, and Tenders, Metal and Plastic',\n",
       " 'Heavy and Tractor-Trailer Truck Drivers',\n",
       " 'Helpers--Brickmasons, Blockmasons, Stonemasons, and Tile and Marble Setters',\n",
       " 'Helpers--Carpenters',\n",
       " 'Helpers--Electricians',\n",
       " 'Helpers--Extraction Workers',\n",
       " 'Helpers--Installation, Maintenance, and Repair Workers',\n",
       " 'Helpers--Painters, Paperhangers, Plasterers, and Stucco Masons',\n",
       " 'Helpers--Pipelayers, Plumbers, Pipefitters, and Steamfitters',\n",
       " 'Helpers--Production Workers',\n",
       " 'Helpers--Roofers',\n",
       " 'Highway Maintenance Workers',\n",
       " 'Historians',\n",
       " 'History Teachers, Postsecondary',\n",
       " 'Hoist and Winch Operators',\n",
       " 'Home Appliance Repairers',\n",
       " 'Home Health Aides',\n",
       " 'Hosts and Hostesses, Restaurant, Lounge, and Coffee Shop',\n",
       " 'Hotel, Motel, and Resort Desk Clerks',\n",
       " 'Human Resources Assistants, Except Payroll and Timekeeping',\n",
       " 'Human Resources Managers',\n",
       " 'Human Resources Specialists',\n",
       " 'Hydrologists',\n",
       " 'Industrial Engineers',\n",
       " 'Industrial Machinery Mechanics',\n",
       " 'Industrial Production Managers',\n",
       " 'Industrial Truck and Tractor Operators',\n",
       " 'Industrial-Organizational Psychologists',\n",
       " 'Information Security Analysts',\n",
       " 'Inspectors, Testers, Sorters, Samplers, and Weighers',\n",
       " 'Instructional Coordinators',\n",
       " 'Insulation Workers, Floor, Ceiling, and Wall',\n",
       " 'Insulation Workers, Mechanical',\n",
       " 'Insurance Appraisers, Auto Damage',\n",
       " 'Insurance Sales Agents',\n",
       " 'Insurance Underwriters',\n",
       " 'Interior Designers',\n",
       " 'Interpreters and Translators',\n",
       " 'Interviewers, Except Eligibility and Loan',\n",
       " 'Janitors and Cleaners, Except Maids and Housekeeping Cleaners',\n",
       " 'Judges, Magistrate Judges, and Magistrates',\n",
       " 'Judicial Law Clerks',\n",
       " 'Kindergarten Teachers, Except Special Education',\n",
       " 'Labor Relations Specialists',\n",
       " 'Laborers and Freight, Stock, and Material Movers, Hand',\n",
       " 'Landscape Architects',\n",
       " 'Landscaping and Groundskeeping Workers',\n",
       " 'Lathe and Turning Machine Tool Setters, Operators, and Tenders, Metal and Plastic',\n",
       " 'Laundry and Dry-Cleaning Workers',\n",
       " 'Law Teachers, Postsecondary',\n",
       " 'Lawyers',\n",
       " 'Layout Workers, Metal and Plastic',\n",
       " 'Library Assistants, Clerical',\n",
       " 'Library Science Teachers, Postsecondary',\n",
       " 'Library Technicians',\n",
       " 'Licensed Practical and Licensed Vocational Nurses',\n",
       " 'Lifeguards, Ski Patrol, and Other Recreational Protective Service Workers',\n",
       " 'Loan Interviewers and Clerks',\n",
       " 'Loan Officers',\n",
       " 'Locker Room, Coatroom, and Dressing Room Attendants',\n",
       " 'Locksmiths and Safe Repairers',\n",
       " 'Locomotive Engineers',\n",
       " 'Lodging Managers',\n",
       " 'Log Graders and Scalers',\n",
       " 'Logging Equipment Operators',\n",
       " 'Logisticians',\n",
       " 'Machine Feeders and Offbearers',\n",
       " 'Machinists',\n",
       " 'Magnetic Resonance Imaging Technologists',\n",
       " 'Maids and Housekeeping Cleaners',\n",
       " 'Mail Clerks and Mail Machine Operators, Except Postal Service',\n",
       " 'Maintenance Workers, Machinery',\n",
       " 'Maintenance and Repair Workers, General',\n",
       " 'Makeup Artists, Theatrical and Performance',\n",
       " 'Management Analysts',\n",
       " 'Manicurists and Pedicurists',\n",
       " 'Manufactured Building and Mobile Home Installers',\n",
       " 'Market Research Analysts and Marketing Specialists',\n",
       " 'Marketing Managers',\n",
       " 'Marriage and Family Therapists',\n",
       " 'Massage Therapists',\n",
       " 'Materials Engineers',\n",
       " 'Materials Scientists',\n",
       " 'Mathematical Science Teachers, Postsecondary',\n",
       " 'Mathematicians',\n",
       " 'Meat, Poultry, and Fish Cutters and Trimmers',\n",
       " 'Mechanical Door Repairers',\n",
       " 'Mechanical Drafters',\n",
       " 'Mechanical Engineers',\n",
       " 'Medical Appliance Technicians',\n",
       " 'Medical Assistants',\n",
       " 'Medical Equipment Preparers',\n",
       " 'Medical Equipment Repairers',\n",
       " 'Medical Scientists, Except Epidemiologists',\n",
       " 'Medical Transcriptionists',\n",
       " 'Medical and Clinical Laboratory Technicians',\n",
       " 'Medical and Clinical Laboratory Technologists',\n",
       " 'Medical and Health Services Managers',\n",
       " 'Meeting, Convention, and Event Planners',\n",
       " 'Mental Health Counselors',\n",
       " 'Mental Health and Substance Abuse Social Workers',\n",
       " 'Merchandise Displayers and Window Trimmers',\n",
       " 'Metal-Refining Furnace Operators and Tenders',\n",
       " 'Meter Readers, Utilities',\n",
       " 'Microbiologists',\n",
       " 'Middle School Teachers, Except Special and Career/Technical Education',\n",
       " 'Milling and Planing Machine Setters, Operators, and Tenders, Metal and Plastic',\n",
       " 'Millwrights',\n",
       " 'Mining and Geological Engineers, Including Mining Safety Engineers',\n",
       " 'Mixing and Blending Machine Setters, Operators, and Tenders',\n",
       " 'Mobile Heavy Equipment Mechanics, Except Engines',\n",
       " 'Model Makers, Metal and Plastic',\n",
       " 'Model Makers, Wood',\n",
       " 'Models',\n",
       " 'Molding, Coremaking, and Casting Machine Setters, Operators, and Tenders, Metal and Plastic',\n",
       " 'Motion Picture Projectionists',\n",
       " 'Motorboat Mechanics and Service Technicians',\n",
       " 'Motorboat Operators',\n",
       " 'Motorcycle Mechanics',\n",
       " 'Multiple Machine Tool Setters, Operators, and Tenders, Metal and Plastic',\n",
       " 'Museum Technicians and Conservators',\n",
       " 'Musical Instrument Repairers and Tuners',\n",
       " 'Natural Sciences Managers',\n",
       " 'Network and Computer Systems Administrators',\n",
       " 'Neurologists',\n",
       " 'New Accounts Clerks',\n",
       " 'Nuclear Engineers',\n",
       " 'Nuclear Medicine Technologists',\n",
       " 'Nuclear Power Reactor Operators',\n",
       " 'Nurse Anesthetists',\n",
       " 'Nurse Midwives',\n",
       " 'Nurse Practitioners',\n",
       " 'Nursing Assistants',\n",
       " 'Nursing Instructors and Teachers, Postsecondary',\n",
       " 'Obstetricians and Gynecologists',\n",
       " 'Occupational Health and Safety Specialists',\n",
       " 'Occupational Health and Safety Technicians',\n",
       " 'Occupational Therapists',\n",
       " 'Occupational Therapy Aides',\n",
       " 'Occupational Therapy Assistants',\n",
       " 'Office Clerks, General',\n",
       " 'Office Machine Operators, Except Computer',\n",
       " 'Operating Engineers and Other Construction Equipment Operators',\n",
       " 'Operations Research Analysts',\n",
       " 'Ophthalmic Laboratory Technicians',\n",
       " 'Ophthalmic Medical Technicians',\n",
       " 'Opticians, Dispensing',\n",
       " 'Optometrists',\n",
       " 'Oral and Maxillofacial Surgeons',\n",
       " 'Order Clerks',\n",
       " 'Orderlies',\n",
       " 'Orthodontists',\n",
       " 'Orthotists and Prosthetists',\n",
       " 'Outdoor Power Equipment and Other Small Engine Mechanics',\n",
       " 'Packaging and Filling Machine Operators and Tenders',\n",
       " 'Packers and Packagers, Hand',\n",
       " 'Painters, Construction and Maintenance',\n",
       " 'Painting, Coating, and Decorating Workers',\n",
       " 'Paper Goods Machine Setters, Operators, and Tenders',\n",
       " 'Paperhangers',\n",
       " 'Paralegals and Legal Assistants',\n",
       " 'Parking Enforcement Workers',\n",
       " 'Parts Salespersons',\n",
       " 'Patternmakers, Metal and Plastic',\n",
       " 'Patternmakers, Wood',\n",
       " 'Paving, Surfacing, and Tamping Equipment Operators',\n",
       " 'Payroll and Timekeeping Clerks',\n",
       " 'Pediatricians, General',\n",
       " 'Personal Care Aides',\n",
       " 'Personal Financial Advisors',\n",
       " 'Pest Control Workers',\n",
       " 'Pesticide Handlers, Sprayers, and Applicators, Vegetation',\n",
       " 'Petroleum Engineers',\n",
       " 'Petroleum Pump System Operators, Refinery Operators, and Gaugers',\n",
       " 'Pharmacists',\n",
       " 'Pharmacy Aides',\n",
       " 'Pharmacy Technicians',\n",
       " 'Philosophy and Religion Teachers, Postsecondary',\n",
       " 'Phlebotomists',\n",
       " 'Photographers',\n",
       " 'Photographic Process Workers and Processing Machine Operators',\n",
       " 'Physical Therapist Aides',\n",
       " 'Physical Therapist Assistants',\n",
       " 'Physical Therapists',\n",
       " 'Physician Assistants',\n",
       " 'Physicists',\n",
       " 'Physics Teachers, Postsecondary',\n",
       " 'Pipelayers',\n",
       " 'Plasterers and Stucco Masons',\n",
       " 'Podiatrists',\n",
       " 'Political Science Teachers, Postsecondary',\n",
       " 'Political Scientists',\n",
       " 'Postal Service Clerks',\n",
       " 'Postal Service Mail Carriers',\n",
       " 'Postal Service Mail Sorters, Processors, and Processing Machine Operators',\n",
       " 'Postmasters and Mail Superintendents',\n",
       " 'Pourers and Casters, Metal',\n",
       " 'Power Distributors and Dispatchers',\n",
       " 'Power Plant Operators',\n",
       " 'Prepress Technicians and Workers',\n",
       " 'Preschool Teachers, Except Special Education',\n",
       " 'Pressers, Textile, Garment, and Related Materials',\n",
       " 'Print Binding and Finishing Workers',\n",
       " 'Printing Press Operators',\n",
       " 'Private Detectives and Investigators',\n",
       " 'Probation Officers and Correctional Treatment Specialists',\n",
       " 'Procurement Clerks',\n",
       " 'Production, Planning, and Expediting Clerks',\n",
       " 'Proofreaders and Copy Markers',\n",
       " 'Property, Real Estate, and Community Association Managers',\n",
       " 'Prosthodontists',\n",
       " 'Psychiatric Aides',\n",
       " 'Psychiatric Technicians',\n",
       " 'Psychiatrists',\n",
       " 'Psychology Teachers, Postsecondary',\n",
       " 'Public Relations Specialists',\n",
       " 'Pump Operators, Except Wellhead Pumpers',\n",
       " 'Purchasing Agents, Except Wholesale, Retail, and Farm Products',\n",
       " 'Purchasing Managers',\n",
       " 'Radiation Therapists',\n",
       " 'Radio, Cellular, and Tower Equipment Installers and Repairers',\n",
       " 'Radiologists',\n",
       " 'Rail Car Repairers',\n",
       " 'Rail Yard Engineers, Dinkey Operators, and Hostlers',\n",
       " 'Rail-Track Laying and Maintenance Equipment Operators',\n",
       " 'Railroad Conductors and Yardmasters',\n",
       " 'Real Estate Brokers',\n",
       " 'Real Estate Sales Agents',\n",
       " 'Receptionists and Information Clerks',\n",
       " 'Recreation Workers',\n",
       " 'Recreation and Fitness Studies Teachers, Postsecondary',\n",
       " 'Recreational Therapists',\n",
       " 'Recreational Vehicle Service Technicians',\n",
       " 'Refractory Materials Repairers, Except Brickmasons',\n",
       " 'Refuse and Recyclable Material Collectors',\n",
       " 'Registered Nurses',\n",
       " 'Rehabilitation Counselors',\n",
       " 'Reinforcing Iron and Rebar Workers',\n",
       " 'Reservation and Transportation Ticket Agents and Travel Clerks',\n",
       " 'Residential Advisors',\n",
       " 'Respiratory Therapists',\n",
       " 'Retail Salespersons',\n",
       " 'Riggers',\n",
       " 'Rock Splitters, Quarry',\n",
       " 'Rolling Machine Setters, Operators, and Tenders, Metal and Plastic',\n",
       " 'Roof Bolters, Mining',\n",
       " 'Roofers',\n",
       " 'Rotary Drill Operators, Oil and Gas',\n",
       " 'Roustabouts, Oil and Gas',\n",
       " 'Sailors and Marine Oilers',\n",
       " 'Sales Engineers',\n",
       " 'Sales Managers',\n",
       " 'Sales Representatives, Wholesale and Manufacturing, Except Technical and Scientific Products',\n",
       " 'Sales Representatives, Wholesale and Manufacturing, Technical and Scientific Products',\n",
       " 'Sawing Machine Setters, Operators, and Tenders, Wood',\n",
       " 'School Psychologists',\n",
       " 'Secondary School Teachers, Except Special and Career/Technical Education',\n",
       " 'Secretaries and Administrative Assistants, Except Legal, Medical, and Executive',\n",
       " 'Security Guards',\n",
       " 'Security and Fire Alarm Systems Installers',\n",
       " 'Segmental Pavers',\n",
       " 'Separating, Filtering, Clarifying, Precipitating, and Still Machine Setters, Operators, and Tenders',\n",
       " 'Septic Tank Servicers and Sewer Pipe Cleaners',\n",
       " 'Set and Exhibit Designers',\n",
       " 'Sewers, Hand',\n",
       " 'Sewing Machine Operators',\n",
       " 'Shampooers',\n",
       " 'Sheet Metal Workers',\n",
       " 'Ship Engineers',\n",
       " 'Shoe Machine Operators and Tenders',\n",
       " 'Shoe and Leather Workers and Repairers',\n",
       " 'Signal and Track Switch Repairers',\n",
       " 'Skincare Specialists',\n",
       " 'Slaughterers and Meat Packers',\n",
       " 'Social Science Research Assistants',\n",
       " 'Social Work Teachers, Postsecondary',\n",
       " 'Social and Community Service Managers',\n",
       " 'Social and Human Service Assistants',\n",
       " 'Sociologists',\n",
       " 'Sociology Teachers, Postsecondary',\n",
       " 'Soil and Plant Scientists',\n",
       " 'Solar Photovoltaic Installers',\n",
       " 'Sound Engineering Technicians',\n",
       " 'Special Education Teachers, Middle School',\n",
       " 'Special Education Teachers, Preschool',\n",
       " 'Special Education Teachers, Secondary School',\n",
       " 'Speech-Language Pathologists',\n",
       " 'Stationary Engineers and Boiler Operators',\n",
       " 'Statistical Assistants',\n",
       " 'Statisticians',\n",
       " 'Stonemasons',\n",
       " 'Structural Iron and Steel Workers',\n",
       " 'Structural Metal Fabricators and Fitters',\n",
       " 'Substance Abuse and Behavioral Disorder Counselors',\n",
       " 'Subway and Streetcar Operators',\n",
       " 'Surgical Assistants',\n",
       " 'Surgical Technologists',\n",
       " 'Survey Researchers',\n",
       " 'Surveyors',\n",
       " 'Switchboard Operators, Including Answering Service',\n",
       " 'Tailors, Dressmakers, and Custom Sewers',\n",
       " 'Tank Car, Truck, and Ship Loaders',\n",
       " 'Tapers',\n",
       " 'Tax Examiners and Collectors, and Revenue Agents',\n",
       " 'Tax Preparers',\n",
       " 'Team Assemblers',\n",
       " 'Technical Writers',\n",
       " 'Telecommunications Equipment Installers and Repairers, Except Line Installers',\n",
       " 'Telecommunications Line Installers and Repairers',\n",
       " 'Telemarketers',\n",
       " 'Telephone Operators',\n",
       " 'Tellers',\n",
       " 'Terrazzo Workers and Finishers',\n",
       " 'Textile Bleaching and Dyeing Machine Operators and Tenders',\n",
       " 'Textile Cutting Machine Setters, Operators, and Tenders',\n",
       " 'Textile Knitting and Weaving Machine Setters, Operators, and Tenders',\n",
       " 'Textile Winding, Twisting, and Drawing Out Machine Setters, Operators, and Tenders',\n",
       " 'Timing Device Assemblers and Adjusters',\n",
       " 'Tire Builders',\n",
       " 'Tire Repairers and Changers',\n",
       " 'Title Examiners, Abstractors, and Searchers',\n",
       " 'Tool Grinders, Filers, and Sharpeners',\n",
       " 'Tool and Die Makers',\n",
       " 'Tour Guides and Escorts',\n",
       " 'Traffic Technicians',\n",
       " 'Training and Development Managers',\n",
       " 'Training and Development Specialists',\n",
       " 'Transit and Railroad Police',\n",
       " 'Transportation Security Screeners',\n",
       " 'Travel Agents',\n",
       " 'Travel Guides',\n",
       " 'Tree Trimmers and Pruners',\n",
       " 'Tutors',\n",
       " 'Umpires, Referees, and Other Sports Officials',\n",
       " 'Upholsterers',\n",
       " 'Urban and Regional Planners',\n",
       " 'Ushers, Lobby Attendants, and Ticket Takers',\n",
       " 'Veterinarians',\n",
       " 'Veterinary Assistants and Laboratory Animal Caretakers',\n",
       " 'Veterinary Technologists and Technicians',\n",
       " 'Waiters and Waitresses',\n",
       " 'Water and Wastewater Treatment Plant and System Operators',\n",
       " 'Web Developers',\n",
       " 'Weighers, Measurers, Checkers, and Samplers, Recordkeeping',\n",
       " 'Welding, Soldering, and Brazing Machine Setters, Operators, and Tenders',\n",
       " 'Wellhead Pumpers',\n",
       " 'Wholesale and Retail Buyers, Except Farm Products',\n",
       " 'Wind Turbine Service Technicians',\n",
       " 'Woodworking Machine Setters, Operators, and Tenders, Except Sawing',\n",
       " 'Word Processors and Typists',\n",
       " 'Zoologists and Wildlife Biologists'}"
      ]
     },
     "execution_count": 45,
     "metadata": {},
     "output_type": "execute_result"
    }
   ],
   "source": [
    "#find all occupations that are in both cps and onet\n",
    "cps_occ = set(df_cps['ONET18_Title_LY'].unique())\n",
    "onet_occ = set(df_skills.index.unique())\n",
    "\n",
    "relevant_occ = cps_occ & onet_occ\n",
    "relevant_occ"
   ]
  },
  {
   "cell_type": "code",
   "execution_count": 92,
   "metadata": {},
   "outputs": [],
   "source": [
    "skills_dist\n",
    "df_concat\n",
    "df_concat_filt = pd.concat([skills_dist_filt.multiply(3.0),knowledge_dist_filt.multiply(2.0),in_dist_filt,gwas_dist_filt]).groupby(level =0).mean()\n",
    "df_new = pd.concat([skills_dist_filt.multiply(1.3),knowledge_dist_filt.multiply(1.2),in_dist_filt,gwas_dist_filt]).groupby(level =0).mean()"
   ]
  },
  {
   "cell_type": "code",
   "execution_count": 47,
   "metadata": {},
   "outputs": [
    {
     "name": "stdout",
     "output_type": "stream",
     "text": [
      "-0.0032435164145185463\n",
      "434\n",
      "Coaches and Scouts 0.3273469387755102\n",
      "Electrical Power-Line Installers and Repairers -0.33387755102040817\n"
     ]
    }
   ],
   "source": [
    "avg_occ = 0\n",
    "count = 0\n",
    "occ_max = ''\n",
    "max_r = 0\n",
    "occ_min = ''\n",
    "min_r = 1\n",
    "\n",
    "for occ in relevant_occ:\n",
    "    cps_len = len(df_cps[df_cps['ONET18_Title_LY'] == occ].sort_values(by = 'pct_tot', ascending = False)['ONET18_Title'])\n",
    "    if cps_len > 50:\n",
    "        corr, p = kendall_tau_rank(df_cps,df_new,0,50,occ)\n",
    "        count += 1 \n",
    "        avg_occ += corr\n",
    "        if corr >= max_r: \n",
    "            occ_max = occ\n",
    "            max_r = corr\n",
    "        if corr <= min_r: \n",
    "            occ_min = occ\n",
    "            min_r = corr\n",
    "print(avg_occ/count)\n",
    "print(count)\n",
    "print(occ_max, max_r)\n",
    "print(occ_min, min_r)"
   ]
  },
  {
   "cell_type": "code",
   "execution_count": 48,
   "metadata": {},
   "outputs": [],
   "source": [
    "# df_cps[df_cps['ONET18_Title_LY'] == 'Etchers and Engravers'].sort_values(by = 'pct_tot', ascending = False)['ONET18_Title']\n",
    "# df_cps"
   ]
  },
  {
   "cell_type": "code",
   "execution_count": 49,
   "metadata": {},
   "outputs": [],
   "source": [
    "skills_dist\n",
    "df_concat\n",
    "df_concat_filt = pd.concat([skills_dist_filt.multiply(3.0),knowledge_dist_filt.multiply(2.0),in_dist_filt,gwas_dist_filt]).groupby(level =0).mean()\n",
    "df_new = pd.concat([skills_dist_filt.multiply(1.3),knowledge_dist_filt.multiply(1.2),in_dist_filt,gwas_dist_filt]).groupby(level =0).mean()\n",
    "df_test = pd.concat([skills_dist_filt.multiply(1.3),knowledge_dist_filt.multiply(1.2),in_dist_filt,gwas_dist_filt]).groupby(level =0).mean()\n"
   ]
  },
  {
   "cell_type": "code",
   "execution_count": 50,
   "metadata": {},
   "outputs": [],
   "source": [
    "# avg_occ = 0\n",
    "# count = 0\n",
    "# occ_max = ''\n",
    "# max_r = 0\n",
    "# occ_min = ''\n",
    "# min_r = 1\n",
    "\n",
    "# cov_max = ''\n",
    "# max_c = 0\n",
    "# cov_min = ''\n",
    "# min_c = 1\n",
    "\n",
    "# # occ_dictionary = {}\n",
    "# occ_dictionary_skills = {}\n",
    "# for occ in relevant_occ:\n",
    "#     cps_len = len(df_cps[df_cps['ONET18_Title_LY'] == occ].sort_values(by = 'pct_tot', ascending = False)['ONET18_Title'])\n",
    "#     if cps_len > 50:\n",
    "#         n = percentage(occ,skills_dist,df_cps,0,50)\n",
    "#         d = percentage_default(occ,df_cps,0,50)\n",
    "#         perc = n/d\n",
    "#         count += 1 \n",
    "#         avg_occ += perc\n",
    "#         occ_dictionary_skills[occ] = perc\n",
    "#         if n >= max_c:\n",
    "#             cov_max =occ\n",
    "#             max_c = n \n",
    "#         if n <= max_c:\n",
    "#             cov_min =occ\n",
    "#             min_c = n  \n",
    "#         if perc >= max_r: \n",
    "#             occ_max = occ\n",
    "#             max_r = perc\n",
    "#         if perc <= min_r: \n",
    "#             occ_min = occ\n",
    "#             min_r = perc\n",
    "# print(100*avg_occ/count)\n",
    "# print(count)\n",
    "# print(occ_max, 100*max_r)\n",
    "# print(occ_min, min_r)\n",
    "# print(cov_max, max_c)\n",
    "# print(cov_min, min_c)"
   ]
  },
  {
   "cell_type": "code",
   "execution_count": 98,
   "metadata": {},
   "outputs": [],
   "source": [
    "def percentage_coverage(df_onet,df_cps):\n",
    "    avg_occ = 0\n",
    "    count = 0\n",
    "    occ_max = ''\n",
    "    max_r = 0\n",
    "    occ_min = ''\n",
    "    min_r = 1\n",
    "\n",
    "    cov_max = ''\n",
    "    max_c = 0\n",
    "    cov_min = ''\n",
    "    min_c = 1\n",
    "\n",
    "    occ_dictionary = {}\n",
    "    for occ in relevant_occ:\n",
    "        cps_len = len(df_cps[df_cps['ONET18_Title_LY'] == occ]['ONET18_Title'])\n",
    "        if cps_len > 50:\n",
    "            n = percentage(occ,df_onet,df_cps,0,50)\n",
    "            d = percentage_default(occ,df_cps,0,50)\n",
    "            perc = n/d\n",
    "            count += 1 \n",
    "            avg_occ += perc\n",
    "            occ_dictionary[occ] = perc\n",
    "            if n >= max_c:\n",
    "                cov_max =occ\n",
    "                max_c = n \n",
    "            if n <= max_c:\n",
    "                cov_min =occ\n",
    "                min_c = n  \n",
    "            if perc >= max_r: \n",
    "                occ_max = occ\n",
    "                max_r = perc\n",
    "            if perc <= min_r: \n",
    "                occ_min = occ\n",
    "                min_r = perc\n",
    "    print(100*avg_occ/count)\n",
    "    print(count)\n",
    "    print(occ_max, 100*max_r)\n",
    "    print(occ_min, min_r)\n",
    "    print(cov_max, max_c)\n",
    "    print(cov_min, min_c)\n",
    "    \n",
    "    return occ_dictionary"
   ]
  },
  {
   "cell_type": "code",
   "execution_count": 99,
   "metadata": {},
   "outputs": [],
   "source": [
    "# kendalltau([1,2,3,4,5], [5,4,3,2,1])"
   ]
  },
  {
   "cell_type": "code",
   "execution_count": 100,
   "metadata": {},
   "outputs": [],
   "source": [
    "# kendalltau([1,2,3,4,5], [6,8,8,9,10])"
   ]
  },
  {
   "cell_type": "code",
   "execution_count": 101,
   "metadata": {},
   "outputs": [
    {
     "data": {
      "text/html": [
       "<div>\n",
       "<style scoped>\n",
       "    .dataframe tbody tr th:only-of-type {\n",
       "        vertical-align: middle;\n",
       "    }\n",
       "\n",
       "    .dataframe tbody tr th {\n",
       "        vertical-align: top;\n",
       "    }\n",
       "\n",
       "    .dataframe thead th {\n",
       "        text-align: right;\n",
       "    }\n",
       "</style>\n",
       "<table border=\"1\" class=\"dataframe\">\n",
       "  <thead>\n",
       "    <tr style=\"text-align: right;\">\n",
       "      <th></th>\n",
       "      <th>Accountants</th>\n",
       "      <th>Actors</th>\n",
       "      <th>Actuaries</th>\n",
       "      <th>Acupuncturists</th>\n",
       "      <th>Acute Care Nurses</th>\n",
       "      <th>Adapted Physical Education Specialists</th>\n",
       "      <th>Adhesive Bonding Machine Operators and Tenders</th>\n",
       "      <th>Administrative Law Judges, Adjudicators, and Hearing Officers</th>\n",
       "      <th>Administrative Services Managers</th>\n",
       "      <th>Adult Basic and Secondary Education and Literacy Teachers and Instructors</th>\n",
       "      <th>...</th>\n",
       "      <th>Welding, Soldering, and Brazing Machine Setters, Operators, and Tenders</th>\n",
       "      <th>Wellhead Pumpers</th>\n",
       "      <th>Wholesale and Retail Buyers, Except Farm Products</th>\n",
       "      <th>Wind Energy Engineers</th>\n",
       "      <th>Wind Energy Operations Managers</th>\n",
       "      <th>Wind Energy Project Managers</th>\n",
       "      <th>Wind Turbine Service Technicians</th>\n",
       "      <th>Woodworking Machine Setters, Operators, and Tenders, Except Sawing</th>\n",
       "      <th>Word Processors and Typists</th>\n",
       "      <th>Zoologists and Wildlife Biologists</th>\n",
       "    </tr>\n",
       "  </thead>\n",
       "  <tbody>\n",
       "    <tr>\n",
       "      <th>Accountants</th>\n",
       "      <td>NaN</td>\n",
       "      <td>1.779435</td>\n",
       "      <td>-0.638864</td>\n",
       "      <td>0.308107</td>\n",
       "      <td>1.113334</td>\n",
       "      <td>1.430646</td>\n",
       "      <td>-0.505321</td>\n",
       "      <td>-0.275525</td>\n",
       "      <td>-0.008077</td>\n",
       "      <td>0.060564</td>\n",
       "      <td>...</td>\n",
       "      <td>0.490292</td>\n",
       "      <td>-0.668455</td>\n",
       "      <td>-0.433882</td>\n",
       "      <td>-0.137860</td>\n",
       "      <td>-0.137119</td>\n",
       "      <td>-0.411484</td>\n",
       "      <td>-0.642958</td>\n",
       "      <td>-0.287495</td>\n",
       "      <td>-0.748091</td>\n",
       "      <td>-0.655495</td>\n",
       "    </tr>\n",
       "    <tr>\n",
       "      <th>Actors</th>\n",
       "      <td>1.779435</td>\n",
       "      <td>NaN</td>\n",
       "      <td>2.383464</td>\n",
       "      <td>0.517842</td>\n",
       "      <td>-0.283624</td>\n",
       "      <td>-0.471742</td>\n",
       "      <td>1.608096</td>\n",
       "      <td>0.614121</td>\n",
       "      <td>0.035632</td>\n",
       "      <td>0.296121</td>\n",
       "      <td>...</td>\n",
       "      <td>2.491640</td>\n",
       "      <td>0.804949</td>\n",
       "      <td>0.136152</td>\n",
       "      <td>0.701883</td>\n",
       "      <td>0.785906</td>\n",
       "      <td>0.598646</td>\n",
       "      <td>1.758009</td>\n",
       "      <td>2.682331</td>\n",
       "      <td>1.294225</td>\n",
       "      <td>1.450510</td>\n",
       "    </tr>\n",
       "    <tr>\n",
       "      <th>Actuaries</th>\n",
       "      <td>-0.638864</td>\n",
       "      <td>2.383464</td>\n",
       "      <td>NaN</td>\n",
       "      <td>1.278160</td>\n",
       "      <td>1.823133</td>\n",
       "      <td>2.164064</td>\n",
       "      <td>0.521553</td>\n",
       "      <td>0.290439</td>\n",
       "      <td>0.682281</td>\n",
       "      <td>1.156354</td>\n",
       "      <td>...</td>\n",
       "      <td>1.158650</td>\n",
       "      <td>0.089760</td>\n",
       "      <td>0.339622</td>\n",
       "      <td>-0.359425</td>\n",
       "      <td>-0.184550</td>\n",
       "      <td>-0.227828</td>\n",
       "      <td>0.034913</td>\n",
       "      <td>0.453733</td>\n",
       "      <td>0.844671</td>\n",
       "      <td>-0.331791</td>\n",
       "    </tr>\n",
       "    <tr>\n",
       "      <th>Acupuncturists</th>\n",
       "      <td>0.308107</td>\n",
       "      <td>0.517842</td>\n",
       "      <td>1.278160</td>\n",
       "      <td>NaN</td>\n",
       "      <td>-0.571228</td>\n",
       "      <td>-0.790917</td>\n",
       "      <td>0.509116</td>\n",
       "      <td>-1.083732</td>\n",
       "      <td>-1.438398</td>\n",
       "      <td>-1.623725</td>\n",
       "      <td>...</td>\n",
       "      <td>1.174085</td>\n",
       "      <td>-0.883678</td>\n",
       "      <td>-0.761670</td>\n",
       "      <td>-0.249639</td>\n",
       "      <td>-0.365135</td>\n",
       "      <td>-0.286126</td>\n",
       "      <td>0.171170</td>\n",
       "      <td>1.176914</td>\n",
       "      <td>-0.011446</td>\n",
       "      <td>-0.098640</td>\n",
       "    </tr>\n",
       "    <tr>\n",
       "      <th>Acute Care Nurses</th>\n",
       "      <td>1.113334</td>\n",
       "      <td>-0.283624</td>\n",
       "      <td>1.823133</td>\n",
       "      <td>-0.571228</td>\n",
       "      <td>NaN</td>\n",
       "      <td>-0.945878</td>\n",
       "      <td>1.613217</td>\n",
       "      <td>-0.613896</td>\n",
       "      <td>-0.959947</td>\n",
       "      <td>-0.495866</td>\n",
       "      <td>...</td>\n",
       "      <td>2.521455</td>\n",
       "      <td>0.271508</td>\n",
       "      <td>-0.175015</td>\n",
       "      <td>0.147256</td>\n",
       "      <td>0.003463</td>\n",
       "      <td>0.394978</td>\n",
       "      <td>1.374997</td>\n",
       "      <td>2.489148</td>\n",
       "      <td>0.938761</td>\n",
       "      <td>1.047551</td>\n",
       "    </tr>\n",
       "    <tr>\n",
       "      <th>...</th>\n",
       "      <td>...</td>\n",
       "      <td>...</td>\n",
       "      <td>...</td>\n",
       "      <td>...</td>\n",
       "      <td>...</td>\n",
       "      <td>...</td>\n",
       "      <td>...</td>\n",
       "      <td>...</td>\n",
       "      <td>...</td>\n",
       "      <td>...</td>\n",
       "      <td>...</td>\n",
       "      <td>...</td>\n",
       "      <td>...</td>\n",
       "      <td>...</td>\n",
       "      <td>...</td>\n",
       "      <td>...</td>\n",
       "      <td>...</td>\n",
       "      <td>...</td>\n",
       "      <td>...</td>\n",
       "      <td>...</td>\n",
       "      <td>...</td>\n",
       "    </tr>\n",
       "    <tr>\n",
       "      <th>Wind Energy Project Managers</th>\n",
       "      <td>-0.411484</td>\n",
       "      <td>0.598646</td>\n",
       "      <td>-0.227828</td>\n",
       "      <td>-0.286126</td>\n",
       "      <td>0.394978</td>\n",
       "      <td>0.480628</td>\n",
       "      <td>-0.565856</td>\n",
       "      <td>-0.726332</td>\n",
       "      <td>-0.757290</td>\n",
       "      <td>-0.543327</td>\n",
       "      <td>...</td>\n",
       "      <td>0.182724</td>\n",
       "      <td>-1.036668</td>\n",
       "      <td>-1.501329</td>\n",
       "      <td>-1.036583</td>\n",
       "      <td>-1.323299</td>\n",
       "      <td>NaN</td>\n",
       "      <td>-0.907030</td>\n",
       "      <td>0.178040</td>\n",
       "      <td>0.005593</td>\n",
       "      <td>-1.341315</td>\n",
       "    </tr>\n",
       "    <tr>\n",
       "      <th>Wind Turbine Service Technicians</th>\n",
       "      <td>-0.642958</td>\n",
       "      <td>1.758009</td>\n",
       "      <td>0.034913</td>\n",
       "      <td>0.171170</td>\n",
       "      <td>1.374997</td>\n",
       "      <td>1.404526</td>\n",
       "      <td>-1.064684</td>\n",
       "      <td>0.111215</td>\n",
       "      <td>0.168599</td>\n",
       "      <td>-0.143378</td>\n",
       "      <td>...</td>\n",
       "      <td>-0.758592</td>\n",
       "      <td>-0.775781</td>\n",
       "      <td>-0.804653</td>\n",
       "      <td>0.045069</td>\n",
       "      <td>-0.266096</td>\n",
       "      <td>-0.907030</td>\n",
       "      <td>NaN</td>\n",
       "      <td>-1.020032</td>\n",
       "      <td>-0.154588</td>\n",
       "      <td>-1.373047</td>\n",
       "    </tr>\n",
       "    <tr>\n",
       "      <th>Woodworking Machine Setters, Operators, and Tenders, Except Sawing</th>\n",
       "      <td>-0.287495</td>\n",
       "      <td>2.682331</td>\n",
       "      <td>0.453733</td>\n",
       "      <td>1.176914</td>\n",
       "      <td>2.489148</td>\n",
       "      <td>2.382704</td>\n",
       "      <td>-0.964474</td>\n",
       "      <td>1.110642</td>\n",
       "      <td>1.143976</td>\n",
       "      <td>0.768989</td>\n",
       "      <td>...</td>\n",
       "      <td>-1.000291</td>\n",
       "      <td>-0.093459</td>\n",
       "      <td>0.280718</td>\n",
       "      <td>0.912298</td>\n",
       "      <td>0.700602</td>\n",
       "      <td>0.178040</td>\n",
       "      <td>-1.020032</td>\n",
       "      <td>NaN</td>\n",
       "      <td>-0.026281</td>\n",
       "      <td>-0.447689</td>\n",
       "    </tr>\n",
       "    <tr>\n",
       "      <th>Word Processors and Typists</th>\n",
       "      <td>-0.748091</td>\n",
       "      <td>1.294225</td>\n",
       "      <td>0.844671</td>\n",
       "      <td>-0.011446</td>\n",
       "      <td>0.938761</td>\n",
       "      <td>0.899257</td>\n",
       "      <td>-0.381774</td>\n",
       "      <td>0.143279</td>\n",
       "      <td>-0.120803</td>\n",
       "      <td>-0.366730</td>\n",
       "      <td>...</td>\n",
       "      <td>0.405904</td>\n",
       "      <td>-0.580522</td>\n",
       "      <td>-0.545641</td>\n",
       "      <td>0.346573</td>\n",
       "      <td>0.486721</td>\n",
       "      <td>0.005593</td>\n",
       "      <td>-0.154588</td>\n",
       "      <td>-0.026281</td>\n",
       "      <td>NaN</td>\n",
       "      <td>-0.215269</td>\n",
       "    </tr>\n",
       "    <tr>\n",
       "      <th>Zoologists and Wildlife Biologists</th>\n",
       "      <td>-0.655495</td>\n",
       "      <td>1.450510</td>\n",
       "      <td>-0.331791</td>\n",
       "      <td>-0.098640</td>\n",
       "      <td>1.047551</td>\n",
       "      <td>1.018478</td>\n",
       "      <td>-0.818341</td>\n",
       "      <td>-0.324888</td>\n",
       "      <td>-0.275032</td>\n",
       "      <td>-0.376809</td>\n",
       "      <td>...</td>\n",
       "      <td>-0.432270</td>\n",
       "      <td>-1.203469</td>\n",
       "      <td>-1.075715</td>\n",
       "      <td>-0.528200</td>\n",
       "      <td>-0.703156</td>\n",
       "      <td>-1.341315</td>\n",
       "      <td>-1.373047</td>\n",
       "      <td>-0.447689</td>\n",
       "      <td>-0.215269</td>\n",
       "      <td>NaN</td>\n",
       "    </tr>\n",
       "  </tbody>\n",
       "</table>\n",
       "<p>967 rows × 967 columns</p>\n",
       "</div>"
      ],
      "text/plain": [
       "                                                    Accountants    Actors  \\\n",
       "Accountants                                                 NaN  1.779435   \n",
       "Actors                                                 1.779435       NaN   \n",
       "Actuaries                                             -0.638864  2.383464   \n",
       "Acupuncturists                                         0.308107  0.517842   \n",
       "Acute Care Nurses                                      1.113334 -0.283624   \n",
       "...                                                         ...       ...   \n",
       "Wind Energy Project Managers                          -0.411484  0.598646   \n",
       "Wind Turbine Service Technicians                      -0.642958  1.758009   \n",
       "Woodworking Machine Setters, Operators, and Ten...    -0.287495  2.682331   \n",
       "Word Processors and Typists                           -0.748091  1.294225   \n",
       "Zoologists and Wildlife Biologists                    -0.655495  1.450510   \n",
       "\n",
       "                                                    Actuaries  Acupuncturists  \\\n",
       "Accountants                                         -0.638864        0.308107   \n",
       "Actors                                               2.383464        0.517842   \n",
       "Actuaries                                                 NaN        1.278160   \n",
       "Acupuncturists                                       1.278160             NaN   \n",
       "Acute Care Nurses                                    1.823133       -0.571228   \n",
       "...                                                       ...             ...   \n",
       "Wind Energy Project Managers                        -0.227828       -0.286126   \n",
       "Wind Turbine Service Technicians                     0.034913        0.171170   \n",
       "Woodworking Machine Setters, Operators, and Ten...   0.453733        1.176914   \n",
       "Word Processors and Typists                          0.844671       -0.011446   \n",
       "Zoologists and Wildlife Biologists                  -0.331791       -0.098640   \n",
       "\n",
       "                                                    Acute Care Nurses  \\\n",
       "Accountants                                                  1.113334   \n",
       "Actors                                                      -0.283624   \n",
       "Actuaries                                                    1.823133   \n",
       "Acupuncturists                                              -0.571228   \n",
       "Acute Care Nurses                                                 NaN   \n",
       "...                                                               ...   \n",
       "Wind Energy Project Managers                                 0.394978   \n",
       "Wind Turbine Service Technicians                             1.374997   \n",
       "Woodworking Machine Setters, Operators, and Ten...           2.489148   \n",
       "Word Processors and Typists                                  0.938761   \n",
       "Zoologists and Wildlife Biologists                           1.047551   \n",
       "\n",
       "                                                    Adapted Physical Education Specialists  \\\n",
       "Accountants                                                                       1.430646   \n",
       "Actors                                                                           -0.471742   \n",
       "Actuaries                                                                         2.164064   \n",
       "Acupuncturists                                                                   -0.790917   \n",
       "Acute Care Nurses                                                                -0.945878   \n",
       "...                                                                                    ...   \n",
       "Wind Energy Project Managers                                                      0.480628   \n",
       "Wind Turbine Service Technicians                                                  1.404526   \n",
       "Woodworking Machine Setters, Operators, and Ten...                                2.382704   \n",
       "Word Processors and Typists                                                       0.899257   \n",
       "Zoologists and Wildlife Biologists                                                1.018478   \n",
       "\n",
       "                                                    Adhesive Bonding Machine Operators and Tenders  \\\n",
       "Accountants                                                                              -0.505321   \n",
       "Actors                                                                                    1.608096   \n",
       "Actuaries                                                                                 0.521553   \n",
       "Acupuncturists                                                                            0.509116   \n",
       "Acute Care Nurses                                                                         1.613217   \n",
       "...                                                                                            ...   \n",
       "Wind Energy Project Managers                                                             -0.565856   \n",
       "Wind Turbine Service Technicians                                                         -1.064684   \n",
       "Woodworking Machine Setters, Operators, and Ten...                                       -0.964474   \n",
       "Word Processors and Typists                                                              -0.381774   \n",
       "Zoologists and Wildlife Biologists                                                       -0.818341   \n",
       "\n",
       "                                                    Administrative Law Judges, Adjudicators, and Hearing Officers  \\\n",
       "Accountants                                                                                 -0.275525               \n",
       "Actors                                                                                       0.614121               \n",
       "Actuaries                                                                                    0.290439               \n",
       "Acupuncturists                                                                              -1.083732               \n",
       "Acute Care Nurses                                                                           -0.613896               \n",
       "...                                                                                               ...               \n",
       "Wind Energy Project Managers                                                                -0.726332               \n",
       "Wind Turbine Service Technicians                                                             0.111215               \n",
       "Woodworking Machine Setters, Operators, and Ten...                                           1.110642               \n",
       "Word Processors and Typists                                                                  0.143279               \n",
       "Zoologists and Wildlife Biologists                                                          -0.324888               \n",
       "\n",
       "                                                    Administrative Services Managers  \\\n",
       "Accountants                                                                -0.008077   \n",
       "Actors                                                                      0.035632   \n",
       "Actuaries                                                                   0.682281   \n",
       "Acupuncturists                                                             -1.438398   \n",
       "Acute Care Nurses                                                          -0.959947   \n",
       "...                                                                              ...   \n",
       "Wind Energy Project Managers                                               -0.757290   \n",
       "Wind Turbine Service Technicians                                            0.168599   \n",
       "Woodworking Machine Setters, Operators, and Ten...                          1.143976   \n",
       "Word Processors and Typists                                                -0.120803   \n",
       "Zoologists and Wildlife Biologists                                         -0.275032   \n",
       "\n",
       "                                                    Adult Basic and Secondary Education and Literacy Teachers and Instructors  \\\n",
       "Accountants                                                                                  0.060564                           \n",
       "Actors                                                                                       0.296121                           \n",
       "Actuaries                                                                                    1.156354                           \n",
       "Acupuncturists                                                                              -1.623725                           \n",
       "Acute Care Nurses                                                                           -0.495866                           \n",
       "...                                                                                               ...                           \n",
       "Wind Energy Project Managers                                                                -0.543327                           \n",
       "Wind Turbine Service Technicians                                                            -0.143378                           \n",
       "Woodworking Machine Setters, Operators, and Ten...                                           0.768989                           \n",
       "Word Processors and Typists                                                                 -0.366730                           \n",
       "Zoologists and Wildlife Biologists                                                          -0.376809                           \n",
       "\n",
       "                                                    ...  \\\n",
       "Accountants                                         ...   \n",
       "Actors                                              ...   \n",
       "Actuaries                                           ...   \n",
       "Acupuncturists                                      ...   \n",
       "Acute Care Nurses                                   ...   \n",
       "...                                                 ...   \n",
       "Wind Energy Project Managers                        ...   \n",
       "Wind Turbine Service Technicians                    ...   \n",
       "Woodworking Machine Setters, Operators, and Ten...  ...   \n",
       "Word Processors and Typists                         ...   \n",
       "Zoologists and Wildlife Biologists                  ...   \n",
       "\n",
       "                                                    Welding, Soldering, and Brazing Machine Setters, Operators, and Tenders  \\\n",
       "Accountants                                                                                  0.490292                         \n",
       "Actors                                                                                       2.491640                         \n",
       "Actuaries                                                                                    1.158650                         \n",
       "Acupuncturists                                                                               1.174085                         \n",
       "Acute Care Nurses                                                                            2.521455                         \n",
       "...                                                                                               ...                         \n",
       "Wind Energy Project Managers                                                                 0.182724                         \n",
       "Wind Turbine Service Technicians                                                            -0.758592                         \n",
       "Woodworking Machine Setters, Operators, and Ten...                                          -1.000291                         \n",
       "Word Processors and Typists                                                                  0.405904                         \n",
       "Zoologists and Wildlife Biologists                                                          -0.432270                         \n",
       "\n",
       "                                                    Wellhead Pumpers  \\\n",
       "Accountants                                                -0.668455   \n",
       "Actors                                                      0.804949   \n",
       "Actuaries                                                   0.089760   \n",
       "Acupuncturists                                             -0.883678   \n",
       "Acute Care Nurses                                           0.271508   \n",
       "...                                                              ...   \n",
       "Wind Energy Project Managers                               -1.036668   \n",
       "Wind Turbine Service Technicians                           -0.775781   \n",
       "Woodworking Machine Setters, Operators, and Ten...         -0.093459   \n",
       "Word Processors and Typists                                -0.580522   \n",
       "Zoologists and Wildlife Biologists                         -1.203469   \n",
       "\n",
       "                                                    Wholesale and Retail Buyers, Except Farm Products  \\\n",
       "Accountants                                                                                 -0.433882   \n",
       "Actors                                                                                       0.136152   \n",
       "Actuaries                                                                                    0.339622   \n",
       "Acupuncturists                                                                              -0.761670   \n",
       "Acute Care Nurses                                                                           -0.175015   \n",
       "...                                                                                               ...   \n",
       "Wind Energy Project Managers                                                                -1.501329   \n",
       "Wind Turbine Service Technicians                                                            -0.804653   \n",
       "Woodworking Machine Setters, Operators, and Ten...                                           0.280718   \n",
       "Word Processors and Typists                                                                 -0.545641   \n",
       "Zoologists and Wildlife Biologists                                                          -1.075715   \n",
       "\n",
       "                                                    Wind Energy Engineers  \\\n",
       "Accountants                                                     -0.137860   \n",
       "Actors                                                           0.701883   \n",
       "Actuaries                                                       -0.359425   \n",
       "Acupuncturists                                                  -0.249639   \n",
       "Acute Care Nurses                                                0.147256   \n",
       "...                                                                   ...   \n",
       "Wind Energy Project Managers                                    -1.036583   \n",
       "Wind Turbine Service Technicians                                 0.045069   \n",
       "Woodworking Machine Setters, Operators, and Ten...               0.912298   \n",
       "Word Processors and Typists                                      0.346573   \n",
       "Zoologists and Wildlife Biologists                              -0.528200   \n",
       "\n",
       "                                                    Wind Energy Operations Managers  \\\n",
       "Accountants                                                               -0.137119   \n",
       "Actors                                                                     0.785906   \n",
       "Actuaries                                                                 -0.184550   \n",
       "Acupuncturists                                                            -0.365135   \n",
       "Acute Care Nurses                                                          0.003463   \n",
       "...                                                                             ...   \n",
       "Wind Energy Project Managers                                              -1.323299   \n",
       "Wind Turbine Service Technicians                                          -0.266096   \n",
       "Woodworking Machine Setters, Operators, and Ten...                         0.700602   \n",
       "Word Processors and Typists                                                0.486721   \n",
       "Zoologists and Wildlife Biologists                                        -0.703156   \n",
       "\n",
       "                                                    Wind Energy Project Managers  \\\n",
       "Accountants                                                            -0.411484   \n",
       "Actors                                                                  0.598646   \n",
       "Actuaries                                                              -0.227828   \n",
       "Acupuncturists                                                         -0.286126   \n",
       "Acute Care Nurses                                                       0.394978   \n",
       "...                                                                          ...   \n",
       "Wind Energy Project Managers                                                 NaN   \n",
       "Wind Turbine Service Technicians                                       -0.907030   \n",
       "Woodworking Machine Setters, Operators, and Ten...                      0.178040   \n",
       "Word Processors and Typists                                             0.005593   \n",
       "Zoologists and Wildlife Biologists                                     -1.341315   \n",
       "\n",
       "                                                    Wind Turbine Service Technicians  \\\n",
       "Accountants                                                                -0.642958   \n",
       "Actors                                                                      1.758009   \n",
       "Actuaries                                                                   0.034913   \n",
       "Acupuncturists                                                              0.171170   \n",
       "Acute Care Nurses                                                           1.374997   \n",
       "...                                                                              ...   \n",
       "Wind Energy Project Managers                                               -0.907030   \n",
       "Wind Turbine Service Technicians                                                 NaN   \n",
       "Woodworking Machine Setters, Operators, and Ten...                         -1.020032   \n",
       "Word Processors and Typists                                                -0.154588   \n",
       "Zoologists and Wildlife Biologists                                         -1.373047   \n",
       "\n",
       "                                                    Woodworking Machine Setters, Operators, and Tenders, Except Sawing  \\\n",
       "Accountants                                                                                 -0.287495                    \n",
       "Actors                                                                                       2.682331                    \n",
       "Actuaries                                                                                    0.453733                    \n",
       "Acupuncturists                                                                               1.176914                    \n",
       "Acute Care Nurses                                                                            2.489148                    \n",
       "...                                                                                               ...                    \n",
       "Wind Energy Project Managers                                                                 0.178040                    \n",
       "Wind Turbine Service Technicians                                                            -1.020032                    \n",
       "Woodworking Machine Setters, Operators, and Ten...                                                NaN                    \n",
       "Word Processors and Typists                                                                 -0.026281                    \n",
       "Zoologists and Wildlife Biologists                                                          -0.447689                    \n",
       "\n",
       "                                                    Word Processors and Typists  \\\n",
       "Accountants                                                           -0.748091   \n",
       "Actors                                                                 1.294225   \n",
       "Actuaries                                                              0.844671   \n",
       "Acupuncturists                                                        -0.011446   \n",
       "Acute Care Nurses                                                      0.938761   \n",
       "...                                                                         ...   \n",
       "Wind Energy Project Managers                                           0.005593   \n",
       "Wind Turbine Service Technicians                                      -0.154588   \n",
       "Woodworking Machine Setters, Operators, and Ten...                    -0.026281   \n",
       "Word Processors and Typists                                                 NaN   \n",
       "Zoologists and Wildlife Biologists                                    -0.215269   \n",
       "\n",
       "                                                    Zoologists and Wildlife Biologists  \n",
       "Accountants                                                                  -0.655495  \n",
       "Actors                                                                        1.450510  \n",
       "Actuaries                                                                    -0.331791  \n",
       "Acupuncturists                                                               -0.098640  \n",
       "Acute Care Nurses                                                             1.047551  \n",
       "...                                                                                ...  \n",
       "Wind Energy Project Managers                                                 -1.341315  \n",
       "Wind Turbine Service Technicians                                             -1.373047  \n",
       "Woodworking Machine Setters, Operators, and Ten...                           -0.447689  \n",
       "Word Processors and Typists                                                  -0.215269  \n",
       "Zoologists and Wildlife Biologists                                                 NaN  \n",
       "\n",
       "[967 rows x 967 columns]"
      ]
     },
     "execution_count": 101,
     "metadata": {},
     "output_type": "execute_result"
    }
   ],
   "source": [
    "wc_dist \n",
    "knowledge_dist\n",
    "skills_dist \n",
    "gwas_dist \n",
    "jz_dist \n",
    "wv_dist \n",
    "in_dist \n",
    "ab_dist \n",
    "ws_dist"
   ]
  },
  {
   "cell_type": "code",
   "execution_count": 102,
   "metadata": {
    "scrolled": false
   },
   "outputs": [
    {
     "name": "stdout",
     "output_type": "stream",
     "text": [
      "ONET default\n",
      "26.176382696742465\n",
      "434\n",
      "Occupational Therapists 84.63236189185216\n",
      "Museum Technicians and Conservators 0.0\n",
      "Occupational Therapists 84.54229292527187\n",
      "First-Line Supervisors of Office and Administrative Support Workers 14.824920258444212\n",
      "Algo 1\n",
      "30.137526592562217\n",
      "434\n",
      "Occupational Therapists 84.02195401297996\n",
      "Museum Technicians and Conservators 0.0\n",
      "Occupational Therapists 83.93253466559514\n",
      "First-Line Supervisors of Office and Administrative Support Workers 14.579072129664949\n",
      "algo 2\n",
      "30.468992080252374\n",
      "434\n",
      "Occupational Therapists 84.63680094061421\n",
      "Museum Technicians and Conservators 0.0\n",
      "Occupational Therapists 84.54672724983001\n",
      "First-Line Supervisors of Office and Administrative Support Workers 14.063264318782158\n",
      "skills\n",
      "22.018790913158476\n",
      "434\n",
      "First-Line Supervisors of Non-Retail Sales Workers 78.34674622646243\n",
      "Construction and Building Inspectors 0.0\n",
      "Title Examiners, Abstractors, and Searchers 71.41240257266489\n",
      "First-Line Supervisors of Office and Administrative Support Workers 8.891108975150168\n",
      "work context\n",
      "23.845947661623846\n",
      "434\n",
      "Occupational Therapists 80.74047037766475\n",
      "Museum Technicians and Conservators 0.0\n",
      "Occupational Therapists 80.65454330951303\n",
      "First-Line Supervisors of Office and Administrative Support Workers 10.130104155647649\n",
      "knowledge\n",
      "28.025633759723814\n",
      "434\n",
      "Occupational Therapists 83.96390194676319\n",
      "Materials Scientists 0.002744464047177644\n",
      "Occupational Therapists 83.87454438058705\n",
      "First-Line Supervisors of Office and Administrative Support Workers 18.650347229203962\n",
      "genral work activities\n",
      "22.583059679077536\n",
      "434\n",
      "Occupational Therapists 82.32421019479203\n",
      "Museum Technicians and Conservators 0.0\n",
      "Occupational Therapists 82.23659765071275\n",
      "First-Line Supervisors of Office and Administrative Support Workers 8.576578888897808\n",
      "work value\n",
      "14.567906394683325\n",
      "434\n",
      "Occupational Therapists 83.73795579085653\n",
      "Museum Technicians and Conservators 0.0\n",
      "Occupational Therapists 83.64883868514151\n",
      "First-Line Supervisors of Office and Administrative Support Workers 3.2700539141161955\n",
      "interest\n",
      "21.38717254450705\n",
      "434\n",
      "Occupational Therapists 78.47689809054984\n",
      "Museum Technicians and Conservators 0.0\n",
      "Occupational Therapists 78.39338000180177\n",
      "First-Line Supervisors of Office and Administrative Support Workers 25.604894350336515\n",
      "abilities\n",
      "21.850976469141983\n",
      "434\n",
      "Occupational Therapists 80.01839741512109\n",
      "Museum Technicians and Conservators 0.0\n",
      "Occupational Therapists 79.9332388043783\n",
      "First-Line Supervisors of Office and Administrative Support Workers 8.405844231277518\n",
      "work setting\n",
      "15.329183925090913\n",
      "434\n",
      "Title Examiners, Abstractors, and Searchers 68.24014209372007\n",
      "Historians 0.0\n",
      "Title Examiners, Abstractors, and Searchers 67.99255631465411\n",
      "First-Line Supervisors of Office and Administrative Support Workers 4.153152155260073\n"
     ]
    }
   ],
   "source": [
    "print(\"ONET default\")\n",
    "occ_default = percentage_coverage(df_concat,df_cps)\n",
    "print(\"Algo 1\")\n",
    "occ_alg1 = percentage_coverage(df_concat_filt,df_cps)\n",
    "print(\"algo 2\")\n",
    "occ_alg2 = percentage_coverage(df_new,df_cps)\n",
    "\n",
    "print(\"skills\")\n",
    "occ_skills = percentage_coverage(skills_dist,df_cps)\n",
    "print(\"work context\")\n",
    "occ_wc = percentage_coverage(wc_dist,df_cps)\n",
    "print(\"knowledge\")\n",
    "occ_knowledge = percentage_coverage(knowledge_dist,df_cps)\n",
    "print(\"genral work activities\")\n",
    "occ_gwa = percentage_coverage(gwas_dist,df_cps)\n",
    "print(\"work value\")\n",
    "occ_wv = percentage_coverage(wv_dist,df_cps)\n",
    "print(\"interest\")\n",
    "occ_in = percentage_coverage(in_dist,df_cps)\n",
    "print(\"abilities\")\n",
    "occ_ab = percentage_coverage(ab_dist,df_cps)\n",
    "print(\"work setting\")\n",
    "occ_ws = percentage_coverage(ws_dist,df_cps)"
   ]
  },
  {
   "cell_type": "code",
   "execution_count": null,
   "metadata": {},
   "outputs": [],
   "source": []
  },
  {
   "cell_type": "code",
   "execution_count": null,
   "metadata": {},
   "outputs": [],
   "source": [
    "# df_score = pd.DataFrame.from_dict(occ_dictionary)\n",
    "# list(occ_dictionary.keys())\n",
    "\n",
    "# df_score = pd.DataFrame.from_dict(occ_dictionary, orient = 'index',  columns= ['score'])\n",
    "# df_score = df_score.sort_values(by = 'score', ascending = False)"
   ]
  },
  {
   "cell_type": "code",
   "execution_count": null,
   "metadata": {},
   "outputs": [],
   "source": [
    "# Use textposition='auto' for direct text\n",
    "# fig = go.Figure(data=[go.Bar(\n",
    "#             x=df_score.index[:30], y=df_score['score'][:30],\n",
    "#             textposition='auto',\n",
    "#         )])\n",
    "# fig.update_layout(barmode='stack', xaxis={'categoryorder':'total descending'})\n",
    "\n",
    "# fig.show()"
   ]
  },
  {
   "cell_type": "code",
   "execution_count": 87,
   "metadata": {},
   "outputs": [],
   "source": [
    "def distribution(df):\n",
    "    df_output = pd.DataFrame.from_dict(df, orient = 'index',  columns= ['score'])\n",
    "    df_output = df_output.sort_values(by = 'score', ascending = False)\n",
    "    fig = go.Figure(data=[go.Bar(\n",
    "                x=df_output.index[:30], y=df_output['score'][:10],\n",
    "                textposition='auto',\n",
    "            )])\n",
    "    fig.update_layout(barmode='stack', xaxis={'categoryorder':'total descending'})\n",
    "\n",
    "    fig.show()"
   ]
  },
  {
   "cell_type": "code",
   "execution_count": 88,
   "metadata": {},
   "outputs": [
    {
     "data": {
      "application/vnd.plotly.v1+json": {
       "config": {
        "plotlyServerURL": "https://plot.ly"
       },
       "data": [
        {
         "textposition": "auto",
         "type": "bar",
         "x": [
          "First-Line Supervisors of Non-Retail Sales Workers",
          "Title Examiners, Abstractors, and Searchers",
          "Nurse Midwives",
          "Nurse Practitioners",
          "Physical Therapists",
          "Receptionists and Information Clerks",
          "Chief Executives",
          "First-Line Supervisors of Landscaping, Lawn Service, and Groundskeeping Workers",
          "Floor Sanders and Finishers",
          "Special Education Teachers, Preschool",
          "Payroll and Timekeeping Clerks",
          "First-Line Supervisors of Housekeeping and Janitorial Workers",
          "Bill and Account Collectors",
          "Mathematicians",
          "Drywall and Ceiling Tile Installers",
          "Statisticians",
          "Correspondence Clerks",
          "First-Line Supervisors of Retail Sales Workers",
          "Order Clerks",
          "Special Education Teachers, Secondary School",
          "Biological Technicians",
          "Mobile Heavy Equipment Mechanics, Except Engines",
          "Preschool Teachers, Except Special Education",
          "Rail Car Repairers",
          "Phlebotomists",
          "Farm Equipment Mechanics and Service Technicians",
          "Dining Room and Cafeteria Attendants and Bartender Helpers",
          "Bookkeeping, Accounting, and Auditing Clerks",
          "Hosts and Hostesses, Restaurant, Lounge, and Coffee Shop",
          "Middle School Teachers, Except Special and Career/Technical Education"
         ],
         "y": [
          0.7834674622646243,
          0.7167244126343131,
          0.7117796053908698,
          0.6951795430092502,
          0.6739900490329165,
          0.6432135097236189,
          0.6419598541611122,
          0.6370007047423055,
          0.6176447397486975,
          0.6058631826157758
         ]
        }
       ],
       "layout": {
        "barmode": "stack",
        "template": {
         "data": {
          "bar": [
           {
            "error_x": {
             "color": "#2a3f5f"
            },
            "error_y": {
             "color": "#2a3f5f"
            },
            "marker": {
             "line": {
              "color": "#E5ECF6",
              "width": 0.5
             }
            },
            "type": "bar"
           }
          ],
          "barpolar": [
           {
            "marker": {
             "line": {
              "color": "#E5ECF6",
              "width": 0.5
             }
            },
            "type": "barpolar"
           }
          ],
          "carpet": [
           {
            "aaxis": {
             "endlinecolor": "#2a3f5f",
             "gridcolor": "white",
             "linecolor": "white",
             "minorgridcolor": "white",
             "startlinecolor": "#2a3f5f"
            },
            "baxis": {
             "endlinecolor": "#2a3f5f",
             "gridcolor": "white",
             "linecolor": "white",
             "minorgridcolor": "white",
             "startlinecolor": "#2a3f5f"
            },
            "type": "carpet"
           }
          ],
          "choropleth": [
           {
            "colorbar": {
             "outlinewidth": 0,
             "ticks": ""
            },
            "type": "choropleth"
           }
          ],
          "contour": [
           {
            "colorbar": {
             "outlinewidth": 0,
             "ticks": ""
            },
            "colorscale": [
             [
              0,
              "#0d0887"
             ],
             [
              0.1111111111111111,
              "#46039f"
             ],
             [
              0.2222222222222222,
              "#7201a8"
             ],
             [
              0.3333333333333333,
              "#9c179e"
             ],
             [
              0.4444444444444444,
              "#bd3786"
             ],
             [
              0.5555555555555556,
              "#d8576b"
             ],
             [
              0.6666666666666666,
              "#ed7953"
             ],
             [
              0.7777777777777778,
              "#fb9f3a"
             ],
             [
              0.8888888888888888,
              "#fdca26"
             ],
             [
              1,
              "#f0f921"
             ]
            ],
            "type": "contour"
           }
          ],
          "contourcarpet": [
           {
            "colorbar": {
             "outlinewidth": 0,
             "ticks": ""
            },
            "type": "contourcarpet"
           }
          ],
          "heatmap": [
           {
            "colorbar": {
             "outlinewidth": 0,
             "ticks": ""
            },
            "colorscale": [
             [
              0,
              "#0d0887"
             ],
             [
              0.1111111111111111,
              "#46039f"
             ],
             [
              0.2222222222222222,
              "#7201a8"
             ],
             [
              0.3333333333333333,
              "#9c179e"
             ],
             [
              0.4444444444444444,
              "#bd3786"
             ],
             [
              0.5555555555555556,
              "#d8576b"
             ],
             [
              0.6666666666666666,
              "#ed7953"
             ],
             [
              0.7777777777777778,
              "#fb9f3a"
             ],
             [
              0.8888888888888888,
              "#fdca26"
             ],
             [
              1,
              "#f0f921"
             ]
            ],
            "type": "heatmap"
           }
          ],
          "heatmapgl": [
           {
            "colorbar": {
             "outlinewidth": 0,
             "ticks": ""
            },
            "colorscale": [
             [
              0,
              "#0d0887"
             ],
             [
              0.1111111111111111,
              "#46039f"
             ],
             [
              0.2222222222222222,
              "#7201a8"
             ],
             [
              0.3333333333333333,
              "#9c179e"
             ],
             [
              0.4444444444444444,
              "#bd3786"
             ],
             [
              0.5555555555555556,
              "#d8576b"
             ],
             [
              0.6666666666666666,
              "#ed7953"
             ],
             [
              0.7777777777777778,
              "#fb9f3a"
             ],
             [
              0.8888888888888888,
              "#fdca26"
             ],
             [
              1,
              "#f0f921"
             ]
            ],
            "type": "heatmapgl"
           }
          ],
          "histogram": [
           {
            "marker": {
             "colorbar": {
              "outlinewidth": 0,
              "ticks": ""
             }
            },
            "type": "histogram"
           }
          ],
          "histogram2d": [
           {
            "colorbar": {
             "outlinewidth": 0,
             "ticks": ""
            },
            "colorscale": [
             [
              0,
              "#0d0887"
             ],
             [
              0.1111111111111111,
              "#46039f"
             ],
             [
              0.2222222222222222,
              "#7201a8"
             ],
             [
              0.3333333333333333,
              "#9c179e"
             ],
             [
              0.4444444444444444,
              "#bd3786"
             ],
             [
              0.5555555555555556,
              "#d8576b"
             ],
             [
              0.6666666666666666,
              "#ed7953"
             ],
             [
              0.7777777777777778,
              "#fb9f3a"
             ],
             [
              0.8888888888888888,
              "#fdca26"
             ],
             [
              1,
              "#f0f921"
             ]
            ],
            "type": "histogram2d"
           }
          ],
          "histogram2dcontour": [
           {
            "colorbar": {
             "outlinewidth": 0,
             "ticks": ""
            },
            "colorscale": [
             [
              0,
              "#0d0887"
             ],
             [
              0.1111111111111111,
              "#46039f"
             ],
             [
              0.2222222222222222,
              "#7201a8"
             ],
             [
              0.3333333333333333,
              "#9c179e"
             ],
             [
              0.4444444444444444,
              "#bd3786"
             ],
             [
              0.5555555555555556,
              "#d8576b"
             ],
             [
              0.6666666666666666,
              "#ed7953"
             ],
             [
              0.7777777777777778,
              "#fb9f3a"
             ],
             [
              0.8888888888888888,
              "#fdca26"
             ],
             [
              1,
              "#f0f921"
             ]
            ],
            "type": "histogram2dcontour"
           }
          ],
          "mesh3d": [
           {
            "colorbar": {
             "outlinewidth": 0,
             "ticks": ""
            },
            "type": "mesh3d"
           }
          ],
          "parcoords": [
           {
            "line": {
             "colorbar": {
              "outlinewidth": 0,
              "ticks": ""
             }
            },
            "type": "parcoords"
           }
          ],
          "pie": [
           {
            "automargin": true,
            "type": "pie"
           }
          ],
          "scatter": [
           {
            "marker": {
             "colorbar": {
              "outlinewidth": 0,
              "ticks": ""
             }
            },
            "type": "scatter"
           }
          ],
          "scatter3d": [
           {
            "line": {
             "colorbar": {
              "outlinewidth": 0,
              "ticks": ""
             }
            },
            "marker": {
             "colorbar": {
              "outlinewidth": 0,
              "ticks": ""
             }
            },
            "type": "scatter3d"
           }
          ],
          "scattercarpet": [
           {
            "marker": {
             "colorbar": {
              "outlinewidth": 0,
              "ticks": ""
             }
            },
            "type": "scattercarpet"
           }
          ],
          "scattergeo": [
           {
            "marker": {
             "colorbar": {
              "outlinewidth": 0,
              "ticks": ""
             }
            },
            "type": "scattergeo"
           }
          ],
          "scattergl": [
           {
            "marker": {
             "colorbar": {
              "outlinewidth": 0,
              "ticks": ""
             }
            },
            "type": "scattergl"
           }
          ],
          "scattermapbox": [
           {
            "marker": {
             "colorbar": {
              "outlinewidth": 0,
              "ticks": ""
             }
            },
            "type": "scattermapbox"
           }
          ],
          "scatterpolar": [
           {
            "marker": {
             "colorbar": {
              "outlinewidth": 0,
              "ticks": ""
             }
            },
            "type": "scatterpolar"
           }
          ],
          "scatterpolargl": [
           {
            "marker": {
             "colorbar": {
              "outlinewidth": 0,
              "ticks": ""
             }
            },
            "type": "scatterpolargl"
           }
          ],
          "scatterternary": [
           {
            "marker": {
             "colorbar": {
              "outlinewidth": 0,
              "ticks": ""
             }
            },
            "type": "scatterternary"
           }
          ],
          "surface": [
           {
            "colorbar": {
             "outlinewidth": 0,
             "ticks": ""
            },
            "colorscale": [
             [
              0,
              "#0d0887"
             ],
             [
              0.1111111111111111,
              "#46039f"
             ],
             [
              0.2222222222222222,
              "#7201a8"
             ],
             [
              0.3333333333333333,
              "#9c179e"
             ],
             [
              0.4444444444444444,
              "#bd3786"
             ],
             [
              0.5555555555555556,
              "#d8576b"
             ],
             [
              0.6666666666666666,
              "#ed7953"
             ],
             [
              0.7777777777777778,
              "#fb9f3a"
             ],
             [
              0.8888888888888888,
              "#fdca26"
             ],
             [
              1,
              "#f0f921"
             ]
            ],
            "type": "surface"
           }
          ],
          "table": [
           {
            "cells": {
             "fill": {
              "color": "#EBF0F8"
             },
             "line": {
              "color": "white"
             }
            },
            "header": {
             "fill": {
              "color": "#C8D4E3"
             },
             "line": {
              "color": "white"
             }
            },
            "type": "table"
           }
          ]
         },
         "layout": {
          "annotationdefaults": {
           "arrowcolor": "#2a3f5f",
           "arrowhead": 0,
           "arrowwidth": 1
          },
          "coloraxis": {
           "colorbar": {
            "outlinewidth": 0,
            "ticks": ""
           }
          },
          "colorscale": {
           "diverging": [
            [
             0,
             "#8e0152"
            ],
            [
             0.1,
             "#c51b7d"
            ],
            [
             0.2,
             "#de77ae"
            ],
            [
             0.3,
             "#f1b6da"
            ],
            [
             0.4,
             "#fde0ef"
            ],
            [
             0.5,
             "#f7f7f7"
            ],
            [
             0.6,
             "#e6f5d0"
            ],
            [
             0.7,
             "#b8e186"
            ],
            [
             0.8,
             "#7fbc41"
            ],
            [
             0.9,
             "#4d9221"
            ],
            [
             1,
             "#276419"
            ]
           ],
           "sequential": [
            [
             0,
             "#0d0887"
            ],
            [
             0.1111111111111111,
             "#46039f"
            ],
            [
             0.2222222222222222,
             "#7201a8"
            ],
            [
             0.3333333333333333,
             "#9c179e"
            ],
            [
             0.4444444444444444,
             "#bd3786"
            ],
            [
             0.5555555555555556,
             "#d8576b"
            ],
            [
             0.6666666666666666,
             "#ed7953"
            ],
            [
             0.7777777777777778,
             "#fb9f3a"
            ],
            [
             0.8888888888888888,
             "#fdca26"
            ],
            [
             1,
             "#f0f921"
            ]
           ],
           "sequentialminus": [
            [
             0,
             "#0d0887"
            ],
            [
             0.1111111111111111,
             "#46039f"
            ],
            [
             0.2222222222222222,
             "#7201a8"
            ],
            [
             0.3333333333333333,
             "#9c179e"
            ],
            [
             0.4444444444444444,
             "#bd3786"
            ],
            [
             0.5555555555555556,
             "#d8576b"
            ],
            [
             0.6666666666666666,
             "#ed7953"
            ],
            [
             0.7777777777777778,
             "#fb9f3a"
            ],
            [
             0.8888888888888888,
             "#fdca26"
            ],
            [
             1,
             "#f0f921"
            ]
           ]
          },
          "colorway": [
           "#636efa",
           "#EF553B",
           "#00cc96",
           "#ab63fa",
           "#FFA15A",
           "#19d3f3",
           "#FF6692",
           "#B6E880",
           "#FF97FF",
           "#FECB52"
          ],
          "font": {
           "color": "#2a3f5f"
          },
          "geo": {
           "bgcolor": "white",
           "lakecolor": "white",
           "landcolor": "#E5ECF6",
           "showlakes": true,
           "showland": true,
           "subunitcolor": "white"
          },
          "hoverlabel": {
           "align": "left"
          },
          "hovermode": "closest",
          "mapbox": {
           "style": "light"
          },
          "paper_bgcolor": "white",
          "plot_bgcolor": "#E5ECF6",
          "polar": {
           "angularaxis": {
            "gridcolor": "white",
            "linecolor": "white",
            "ticks": ""
           },
           "bgcolor": "#E5ECF6",
           "radialaxis": {
            "gridcolor": "white",
            "linecolor": "white",
            "ticks": ""
           }
          },
          "scene": {
           "xaxis": {
            "backgroundcolor": "#E5ECF6",
            "gridcolor": "white",
            "gridwidth": 2,
            "linecolor": "white",
            "showbackground": true,
            "ticks": "",
            "zerolinecolor": "white"
           },
           "yaxis": {
            "backgroundcolor": "#E5ECF6",
            "gridcolor": "white",
            "gridwidth": 2,
            "linecolor": "white",
            "showbackground": true,
            "ticks": "",
            "zerolinecolor": "white"
           },
           "zaxis": {
            "backgroundcolor": "#E5ECF6",
            "gridcolor": "white",
            "gridwidth": 2,
            "linecolor": "white",
            "showbackground": true,
            "ticks": "",
            "zerolinecolor": "white"
           }
          },
          "shapedefaults": {
           "line": {
            "color": "#2a3f5f"
           }
          },
          "ternary": {
           "aaxis": {
            "gridcolor": "white",
            "linecolor": "white",
            "ticks": ""
           },
           "baxis": {
            "gridcolor": "white",
            "linecolor": "white",
            "ticks": ""
           },
           "bgcolor": "#E5ECF6",
           "caxis": {
            "gridcolor": "white",
            "linecolor": "white",
            "ticks": ""
           }
          },
          "title": {
           "x": 0.05
          },
          "xaxis": {
           "automargin": true,
           "gridcolor": "white",
           "linecolor": "white",
           "ticks": "",
           "title": {
            "standoff": 15
           },
           "zerolinecolor": "white",
           "zerolinewidth": 2
          },
          "yaxis": {
           "automargin": true,
           "gridcolor": "white",
           "linecolor": "white",
           "ticks": "",
           "title": {
            "standoff": 15
           },
           "zerolinecolor": "white",
           "zerolinewidth": 2
          }
         }
        },
        "xaxis": {
         "categoryorder": "total descending"
        }
       }
      },
      "text/html": [
       "<div>\n",
       "        \n",
       "        \n",
       "            <div id=\"1cdea3fd-32f4-4d97-b11c-b6ac19dd2a17\" class=\"plotly-graph-div\" style=\"height:525px; width:100%;\"></div>\n",
       "            <script type=\"text/javascript\">\n",
       "                require([\"plotly\"], function(Plotly) {\n",
       "                    window.PLOTLYENV=window.PLOTLYENV || {};\n",
       "                    \n",
       "                if (document.getElementById(\"1cdea3fd-32f4-4d97-b11c-b6ac19dd2a17\")) {\n",
       "                    Plotly.newPlot(\n",
       "                        '1cdea3fd-32f4-4d97-b11c-b6ac19dd2a17',\n",
       "                        [{\"textposition\": \"auto\", \"type\": \"bar\", \"x\": [\"First-Line Supervisors of Non-Retail Sales Workers\", \"Title Examiners, Abstractors, and Searchers\", \"Nurse Midwives\", \"Nurse Practitioners\", \"Physical Therapists\", \"Receptionists and Information Clerks\", \"Chief Executives\", \"First-Line Supervisors of Landscaping, Lawn Service, and Groundskeeping Workers\", \"Floor Sanders and Finishers\", \"Special Education Teachers, Preschool\", \"Payroll and Timekeeping Clerks\", \"First-Line Supervisors of Housekeeping and Janitorial Workers\", \"Bill and Account Collectors\", \"Mathematicians\", \"Drywall and Ceiling Tile Installers\", \"Statisticians\", \"Correspondence Clerks\", \"First-Line Supervisors of Retail Sales Workers\", \"Order Clerks\", \"Special Education Teachers, Secondary School\", \"Biological Technicians\", \"Mobile Heavy Equipment Mechanics, Except Engines\", \"Preschool Teachers, Except Special Education\", \"Rail Car Repairers\", \"Phlebotomists\", \"Farm Equipment Mechanics and Service Technicians\", \"Dining Room and Cafeteria Attendants and Bartender Helpers\", \"Bookkeeping, Accounting, and Auditing Clerks\", \"Hosts and Hostesses, Restaurant, Lounge, and Coffee Shop\", \"Middle School Teachers, Except Special and Career/Technical Education\"], \"y\": [0.7834674622646243, 0.7167244126343131, 0.7117796053908698, 0.6951795430092502, 0.6739900490329165, 0.6432135097236189, 0.6419598541611122, 0.6370007047423055, 0.6176447397486975, 0.6058631826157758]}],\n",
       "                        {\"barmode\": \"stack\", \"template\": {\"data\": {\"bar\": [{\"error_x\": {\"color\": \"#2a3f5f\"}, \"error_y\": {\"color\": \"#2a3f5f\"}, \"marker\": {\"line\": {\"color\": \"#E5ECF6\", \"width\": 0.5}}, \"type\": \"bar\"}], \"barpolar\": [{\"marker\": {\"line\": {\"color\": \"#E5ECF6\", \"width\": 0.5}}, \"type\": \"barpolar\"}], \"carpet\": [{\"aaxis\": {\"endlinecolor\": \"#2a3f5f\", \"gridcolor\": \"white\", \"linecolor\": \"white\", \"minorgridcolor\": \"white\", \"startlinecolor\": \"#2a3f5f\"}, \"baxis\": {\"endlinecolor\": \"#2a3f5f\", \"gridcolor\": \"white\", \"linecolor\": \"white\", \"minorgridcolor\": \"white\", \"startlinecolor\": \"#2a3f5f\"}, \"type\": \"carpet\"}], \"choropleth\": [{\"colorbar\": {\"outlinewidth\": 0, \"ticks\": \"\"}, \"type\": \"choropleth\"}], \"contour\": [{\"colorbar\": {\"outlinewidth\": 0, \"ticks\": \"\"}, \"colorscale\": [[0.0, \"#0d0887\"], [0.1111111111111111, \"#46039f\"], [0.2222222222222222, \"#7201a8\"], [0.3333333333333333, \"#9c179e\"], [0.4444444444444444, \"#bd3786\"], [0.5555555555555556, \"#d8576b\"], [0.6666666666666666, \"#ed7953\"], [0.7777777777777778, \"#fb9f3a\"], [0.8888888888888888, \"#fdca26\"], [1.0, \"#f0f921\"]], \"type\": \"contour\"}], \"contourcarpet\": [{\"colorbar\": {\"outlinewidth\": 0, \"ticks\": \"\"}, \"type\": \"contourcarpet\"}], \"heatmap\": [{\"colorbar\": {\"outlinewidth\": 0, \"ticks\": \"\"}, \"colorscale\": [[0.0, \"#0d0887\"], [0.1111111111111111, \"#46039f\"], [0.2222222222222222, \"#7201a8\"], [0.3333333333333333, \"#9c179e\"], [0.4444444444444444, \"#bd3786\"], [0.5555555555555556, \"#d8576b\"], [0.6666666666666666, \"#ed7953\"], [0.7777777777777778, \"#fb9f3a\"], [0.8888888888888888, \"#fdca26\"], [1.0, \"#f0f921\"]], \"type\": \"heatmap\"}], \"heatmapgl\": [{\"colorbar\": {\"outlinewidth\": 0, \"ticks\": \"\"}, \"colorscale\": [[0.0, \"#0d0887\"], [0.1111111111111111, \"#46039f\"], [0.2222222222222222, \"#7201a8\"], [0.3333333333333333, \"#9c179e\"], [0.4444444444444444, \"#bd3786\"], [0.5555555555555556, \"#d8576b\"], [0.6666666666666666, \"#ed7953\"], [0.7777777777777778, \"#fb9f3a\"], [0.8888888888888888, \"#fdca26\"], [1.0, \"#f0f921\"]], \"type\": \"heatmapgl\"}], \"histogram\": [{\"marker\": {\"colorbar\": {\"outlinewidth\": 0, \"ticks\": \"\"}}, \"type\": \"histogram\"}], \"histogram2d\": [{\"colorbar\": {\"outlinewidth\": 0, \"ticks\": \"\"}, \"colorscale\": [[0.0, \"#0d0887\"], [0.1111111111111111, \"#46039f\"], [0.2222222222222222, \"#7201a8\"], [0.3333333333333333, \"#9c179e\"], [0.4444444444444444, \"#bd3786\"], [0.5555555555555556, \"#d8576b\"], [0.6666666666666666, \"#ed7953\"], [0.7777777777777778, \"#fb9f3a\"], [0.8888888888888888, \"#fdca26\"], [1.0, \"#f0f921\"]], \"type\": \"histogram2d\"}], \"histogram2dcontour\": [{\"colorbar\": {\"outlinewidth\": 0, \"ticks\": \"\"}, \"colorscale\": [[0.0, \"#0d0887\"], [0.1111111111111111, \"#46039f\"], [0.2222222222222222, \"#7201a8\"], [0.3333333333333333, \"#9c179e\"], [0.4444444444444444, \"#bd3786\"], [0.5555555555555556, \"#d8576b\"], [0.6666666666666666, \"#ed7953\"], [0.7777777777777778, \"#fb9f3a\"], [0.8888888888888888, \"#fdca26\"], [1.0, \"#f0f921\"]], \"type\": \"histogram2dcontour\"}], \"mesh3d\": [{\"colorbar\": {\"outlinewidth\": 0, \"ticks\": \"\"}, \"type\": \"mesh3d\"}], \"parcoords\": [{\"line\": {\"colorbar\": {\"outlinewidth\": 0, \"ticks\": \"\"}}, \"type\": \"parcoords\"}], \"pie\": [{\"automargin\": true, \"type\": \"pie\"}], \"scatter\": [{\"marker\": {\"colorbar\": {\"outlinewidth\": 0, \"ticks\": \"\"}}, \"type\": \"scatter\"}], \"scatter3d\": [{\"line\": {\"colorbar\": {\"outlinewidth\": 0, \"ticks\": \"\"}}, \"marker\": {\"colorbar\": {\"outlinewidth\": 0, \"ticks\": \"\"}}, \"type\": \"scatter3d\"}], \"scattercarpet\": [{\"marker\": {\"colorbar\": {\"outlinewidth\": 0, \"ticks\": \"\"}}, \"type\": \"scattercarpet\"}], \"scattergeo\": [{\"marker\": {\"colorbar\": {\"outlinewidth\": 0, \"ticks\": \"\"}}, \"type\": \"scattergeo\"}], \"scattergl\": [{\"marker\": {\"colorbar\": {\"outlinewidth\": 0, \"ticks\": \"\"}}, \"type\": \"scattergl\"}], \"scattermapbox\": [{\"marker\": {\"colorbar\": {\"outlinewidth\": 0, \"ticks\": \"\"}}, \"type\": \"scattermapbox\"}], \"scatterpolar\": [{\"marker\": {\"colorbar\": {\"outlinewidth\": 0, \"ticks\": \"\"}}, \"type\": \"scatterpolar\"}], \"scatterpolargl\": [{\"marker\": {\"colorbar\": {\"outlinewidth\": 0, \"ticks\": \"\"}}, \"type\": \"scatterpolargl\"}], \"scatterternary\": [{\"marker\": {\"colorbar\": {\"outlinewidth\": 0, \"ticks\": \"\"}}, \"type\": \"scatterternary\"}], \"surface\": [{\"colorbar\": {\"outlinewidth\": 0, \"ticks\": \"\"}, \"colorscale\": [[0.0, \"#0d0887\"], [0.1111111111111111, \"#46039f\"], [0.2222222222222222, \"#7201a8\"], [0.3333333333333333, \"#9c179e\"], [0.4444444444444444, \"#bd3786\"], [0.5555555555555556, \"#d8576b\"], [0.6666666666666666, \"#ed7953\"], [0.7777777777777778, \"#fb9f3a\"], [0.8888888888888888, \"#fdca26\"], [1.0, \"#f0f921\"]], \"type\": \"surface\"}], \"table\": [{\"cells\": {\"fill\": {\"color\": \"#EBF0F8\"}, \"line\": {\"color\": \"white\"}}, \"header\": {\"fill\": {\"color\": \"#C8D4E3\"}, \"line\": {\"color\": \"white\"}}, \"type\": \"table\"}]}, \"layout\": {\"annotationdefaults\": {\"arrowcolor\": \"#2a3f5f\", \"arrowhead\": 0, \"arrowwidth\": 1}, \"coloraxis\": {\"colorbar\": {\"outlinewidth\": 0, \"ticks\": \"\"}}, \"colorscale\": {\"diverging\": [[0, \"#8e0152\"], [0.1, \"#c51b7d\"], [0.2, \"#de77ae\"], [0.3, \"#f1b6da\"], [0.4, \"#fde0ef\"], [0.5, \"#f7f7f7\"], [0.6, \"#e6f5d0\"], [0.7, \"#b8e186\"], [0.8, \"#7fbc41\"], [0.9, \"#4d9221\"], [1, \"#276419\"]], \"sequential\": [[0.0, \"#0d0887\"], [0.1111111111111111, \"#46039f\"], [0.2222222222222222, \"#7201a8\"], [0.3333333333333333, \"#9c179e\"], [0.4444444444444444, \"#bd3786\"], [0.5555555555555556, \"#d8576b\"], [0.6666666666666666, \"#ed7953\"], [0.7777777777777778, \"#fb9f3a\"], [0.8888888888888888, \"#fdca26\"], [1.0, \"#f0f921\"]], \"sequentialminus\": [[0.0, \"#0d0887\"], [0.1111111111111111, \"#46039f\"], [0.2222222222222222, \"#7201a8\"], [0.3333333333333333, \"#9c179e\"], [0.4444444444444444, \"#bd3786\"], [0.5555555555555556, \"#d8576b\"], [0.6666666666666666, \"#ed7953\"], [0.7777777777777778, \"#fb9f3a\"], [0.8888888888888888, \"#fdca26\"], [1.0, \"#f0f921\"]]}, \"colorway\": [\"#636efa\", \"#EF553B\", \"#00cc96\", \"#ab63fa\", \"#FFA15A\", \"#19d3f3\", \"#FF6692\", \"#B6E880\", \"#FF97FF\", \"#FECB52\"], \"font\": {\"color\": \"#2a3f5f\"}, \"geo\": {\"bgcolor\": \"white\", \"lakecolor\": \"white\", \"landcolor\": \"#E5ECF6\", \"showlakes\": true, \"showland\": true, \"subunitcolor\": \"white\"}, \"hoverlabel\": {\"align\": \"left\"}, \"hovermode\": \"closest\", \"mapbox\": {\"style\": \"light\"}, \"paper_bgcolor\": \"white\", \"plot_bgcolor\": \"#E5ECF6\", \"polar\": {\"angularaxis\": {\"gridcolor\": \"white\", \"linecolor\": \"white\", \"ticks\": \"\"}, \"bgcolor\": \"#E5ECF6\", \"radialaxis\": {\"gridcolor\": \"white\", \"linecolor\": \"white\", \"ticks\": \"\"}}, \"scene\": {\"xaxis\": {\"backgroundcolor\": \"#E5ECF6\", \"gridcolor\": \"white\", \"gridwidth\": 2, \"linecolor\": \"white\", \"showbackground\": true, \"ticks\": \"\", \"zerolinecolor\": \"white\"}, \"yaxis\": {\"backgroundcolor\": \"#E5ECF6\", \"gridcolor\": \"white\", \"gridwidth\": 2, \"linecolor\": \"white\", \"showbackground\": true, \"ticks\": \"\", \"zerolinecolor\": \"white\"}, \"zaxis\": {\"backgroundcolor\": \"#E5ECF6\", \"gridcolor\": \"white\", \"gridwidth\": 2, \"linecolor\": \"white\", \"showbackground\": true, \"ticks\": \"\", \"zerolinecolor\": \"white\"}}, \"shapedefaults\": {\"line\": {\"color\": \"#2a3f5f\"}}, \"ternary\": {\"aaxis\": {\"gridcolor\": \"white\", \"linecolor\": \"white\", \"ticks\": \"\"}, \"baxis\": {\"gridcolor\": \"white\", \"linecolor\": \"white\", \"ticks\": \"\"}, \"bgcolor\": \"#E5ECF6\", \"caxis\": {\"gridcolor\": \"white\", \"linecolor\": \"white\", \"ticks\": \"\"}}, \"title\": {\"x\": 0.05}, \"xaxis\": {\"automargin\": true, \"gridcolor\": \"white\", \"linecolor\": \"white\", \"ticks\": \"\", \"title\": {\"standoff\": 15}, \"zerolinecolor\": \"white\", \"zerolinewidth\": 2}, \"yaxis\": {\"automargin\": true, \"gridcolor\": \"white\", \"linecolor\": \"white\", \"ticks\": \"\", \"title\": {\"standoff\": 15}, \"zerolinecolor\": \"white\", \"zerolinewidth\": 2}}}, \"xaxis\": {\"categoryorder\": \"total descending\"}},\n",
       "                        {\"responsive\": true}\n",
       "                    ).then(function(){\n",
       "                            \n",
       "var gd = document.getElementById('1cdea3fd-32f4-4d97-b11c-b6ac19dd2a17');\n",
       "var x = new MutationObserver(function (mutations, observer) {{\n",
       "        var display = window.getComputedStyle(gd).display;\n",
       "        if (!display || display === 'none') {{\n",
       "            console.log([gd, 'removed!']);\n",
       "            Plotly.purge(gd);\n",
       "            observer.disconnect();\n",
       "        }}\n",
       "}});\n",
       "\n",
       "// Listen for the removal of the full notebook cells\n",
       "var notebookContainer = gd.closest('#notebook-container');\n",
       "if (notebookContainer) {{\n",
       "    x.observe(notebookContainer, {childList: true});\n",
       "}}\n",
       "\n",
       "// Listen for the clearing of the current output cell\n",
       "var outputEl = gd.closest('.output');\n",
       "if (outputEl) {{\n",
       "    x.observe(outputEl, {childList: true});\n",
       "}}\n",
       "\n",
       "                        })\n",
       "                };\n",
       "                });\n",
       "            </script>\n",
       "        </div>"
      ]
     },
     "metadata": {},
     "output_type": "display_data"
    }
   ],
   "source": [
    "distribution(occ_skills)"
   ]
  },
  {
   "cell_type": "code",
   "execution_count": 89,
   "metadata": {},
   "outputs": [
    {
     "data": {
      "application/vnd.plotly.v1+json": {
       "config": {
        "plotlyServerURL": "https://plot.ly"
       },
       "data": [
        {
         "textposition": "auto",
         "type": "bar",
         "x": [
          "Occupational Therapists",
          "Nurse Practitioners",
          "Nurse Midwives",
          "Audiologists",
          "Statisticians",
          "Title Examiners, Abstractors, and Searchers",
          "Chief Executives",
          "Physical Therapists",
          "Obstetricians and Gynecologists",
          "Dining Room and Cafeteria Attendants and Bartender Helpers",
          "Registered Nurses",
          "First-Line Supervisors of Landscaping, Lawn Service, and Groundskeeping Workers",
          "Mathematicians",
          "First-Line Supervisors of Housekeeping and Janitorial Workers",
          "Neurologists",
          "Healthcare Social Workers",
          "Bartenders",
          "Aerospace Engineers",
          "File Clerks",
          "Bill and Account Collectors",
          "Human Resources Assistants, Except Payroll and Timekeeping",
          "Loan Officers",
          "Mental Health Counselors",
          "Kindergarten Teachers, Except Special Education",
          "Insurance Sales Agents",
          "Receptionists and Information Clerks",
          "Agricultural Engineers",
          "Exercise Physiologists",
          "Special Education Teachers, Secondary School",
          "Pediatricians, General"
         ],
         "y": [
          0.8463236189185216,
          0.7722216680195101,
          0.7626721904012758,
          0.7518346850719959,
          0.7309691490358313,
          0.7141182657336381,
          0.709497243596478,
          0.6809888512290674,
          0.6673495433486368,
          0.6572627277886998
         ]
        }
       ],
       "layout": {
        "barmode": "stack",
        "template": {
         "data": {
          "bar": [
           {
            "error_x": {
             "color": "#2a3f5f"
            },
            "error_y": {
             "color": "#2a3f5f"
            },
            "marker": {
             "line": {
              "color": "#E5ECF6",
              "width": 0.5
             }
            },
            "type": "bar"
           }
          ],
          "barpolar": [
           {
            "marker": {
             "line": {
              "color": "#E5ECF6",
              "width": 0.5
             }
            },
            "type": "barpolar"
           }
          ],
          "carpet": [
           {
            "aaxis": {
             "endlinecolor": "#2a3f5f",
             "gridcolor": "white",
             "linecolor": "white",
             "minorgridcolor": "white",
             "startlinecolor": "#2a3f5f"
            },
            "baxis": {
             "endlinecolor": "#2a3f5f",
             "gridcolor": "white",
             "linecolor": "white",
             "minorgridcolor": "white",
             "startlinecolor": "#2a3f5f"
            },
            "type": "carpet"
           }
          ],
          "choropleth": [
           {
            "colorbar": {
             "outlinewidth": 0,
             "ticks": ""
            },
            "type": "choropleth"
           }
          ],
          "contour": [
           {
            "colorbar": {
             "outlinewidth": 0,
             "ticks": ""
            },
            "colorscale": [
             [
              0,
              "#0d0887"
             ],
             [
              0.1111111111111111,
              "#46039f"
             ],
             [
              0.2222222222222222,
              "#7201a8"
             ],
             [
              0.3333333333333333,
              "#9c179e"
             ],
             [
              0.4444444444444444,
              "#bd3786"
             ],
             [
              0.5555555555555556,
              "#d8576b"
             ],
             [
              0.6666666666666666,
              "#ed7953"
             ],
             [
              0.7777777777777778,
              "#fb9f3a"
             ],
             [
              0.8888888888888888,
              "#fdca26"
             ],
             [
              1,
              "#f0f921"
             ]
            ],
            "type": "contour"
           }
          ],
          "contourcarpet": [
           {
            "colorbar": {
             "outlinewidth": 0,
             "ticks": ""
            },
            "type": "contourcarpet"
           }
          ],
          "heatmap": [
           {
            "colorbar": {
             "outlinewidth": 0,
             "ticks": ""
            },
            "colorscale": [
             [
              0,
              "#0d0887"
             ],
             [
              0.1111111111111111,
              "#46039f"
             ],
             [
              0.2222222222222222,
              "#7201a8"
             ],
             [
              0.3333333333333333,
              "#9c179e"
             ],
             [
              0.4444444444444444,
              "#bd3786"
             ],
             [
              0.5555555555555556,
              "#d8576b"
             ],
             [
              0.6666666666666666,
              "#ed7953"
             ],
             [
              0.7777777777777778,
              "#fb9f3a"
             ],
             [
              0.8888888888888888,
              "#fdca26"
             ],
             [
              1,
              "#f0f921"
             ]
            ],
            "type": "heatmap"
           }
          ],
          "heatmapgl": [
           {
            "colorbar": {
             "outlinewidth": 0,
             "ticks": ""
            },
            "colorscale": [
             [
              0,
              "#0d0887"
             ],
             [
              0.1111111111111111,
              "#46039f"
             ],
             [
              0.2222222222222222,
              "#7201a8"
             ],
             [
              0.3333333333333333,
              "#9c179e"
             ],
             [
              0.4444444444444444,
              "#bd3786"
             ],
             [
              0.5555555555555556,
              "#d8576b"
             ],
             [
              0.6666666666666666,
              "#ed7953"
             ],
             [
              0.7777777777777778,
              "#fb9f3a"
             ],
             [
              0.8888888888888888,
              "#fdca26"
             ],
             [
              1,
              "#f0f921"
             ]
            ],
            "type": "heatmapgl"
           }
          ],
          "histogram": [
           {
            "marker": {
             "colorbar": {
              "outlinewidth": 0,
              "ticks": ""
             }
            },
            "type": "histogram"
           }
          ],
          "histogram2d": [
           {
            "colorbar": {
             "outlinewidth": 0,
             "ticks": ""
            },
            "colorscale": [
             [
              0,
              "#0d0887"
             ],
             [
              0.1111111111111111,
              "#46039f"
             ],
             [
              0.2222222222222222,
              "#7201a8"
             ],
             [
              0.3333333333333333,
              "#9c179e"
             ],
             [
              0.4444444444444444,
              "#bd3786"
             ],
             [
              0.5555555555555556,
              "#d8576b"
             ],
             [
              0.6666666666666666,
              "#ed7953"
             ],
             [
              0.7777777777777778,
              "#fb9f3a"
             ],
             [
              0.8888888888888888,
              "#fdca26"
             ],
             [
              1,
              "#f0f921"
             ]
            ],
            "type": "histogram2d"
           }
          ],
          "histogram2dcontour": [
           {
            "colorbar": {
             "outlinewidth": 0,
             "ticks": ""
            },
            "colorscale": [
             [
              0,
              "#0d0887"
             ],
             [
              0.1111111111111111,
              "#46039f"
             ],
             [
              0.2222222222222222,
              "#7201a8"
             ],
             [
              0.3333333333333333,
              "#9c179e"
             ],
             [
              0.4444444444444444,
              "#bd3786"
             ],
             [
              0.5555555555555556,
              "#d8576b"
             ],
             [
              0.6666666666666666,
              "#ed7953"
             ],
             [
              0.7777777777777778,
              "#fb9f3a"
             ],
             [
              0.8888888888888888,
              "#fdca26"
             ],
             [
              1,
              "#f0f921"
             ]
            ],
            "type": "histogram2dcontour"
           }
          ],
          "mesh3d": [
           {
            "colorbar": {
             "outlinewidth": 0,
             "ticks": ""
            },
            "type": "mesh3d"
           }
          ],
          "parcoords": [
           {
            "line": {
             "colorbar": {
              "outlinewidth": 0,
              "ticks": ""
             }
            },
            "type": "parcoords"
           }
          ],
          "pie": [
           {
            "automargin": true,
            "type": "pie"
           }
          ],
          "scatter": [
           {
            "marker": {
             "colorbar": {
              "outlinewidth": 0,
              "ticks": ""
             }
            },
            "type": "scatter"
           }
          ],
          "scatter3d": [
           {
            "line": {
             "colorbar": {
              "outlinewidth": 0,
              "ticks": ""
             }
            },
            "marker": {
             "colorbar": {
              "outlinewidth": 0,
              "ticks": ""
             }
            },
            "type": "scatter3d"
           }
          ],
          "scattercarpet": [
           {
            "marker": {
             "colorbar": {
              "outlinewidth": 0,
              "ticks": ""
             }
            },
            "type": "scattercarpet"
           }
          ],
          "scattergeo": [
           {
            "marker": {
             "colorbar": {
              "outlinewidth": 0,
              "ticks": ""
             }
            },
            "type": "scattergeo"
           }
          ],
          "scattergl": [
           {
            "marker": {
             "colorbar": {
              "outlinewidth": 0,
              "ticks": ""
             }
            },
            "type": "scattergl"
           }
          ],
          "scattermapbox": [
           {
            "marker": {
             "colorbar": {
              "outlinewidth": 0,
              "ticks": ""
             }
            },
            "type": "scattermapbox"
           }
          ],
          "scatterpolar": [
           {
            "marker": {
             "colorbar": {
              "outlinewidth": 0,
              "ticks": ""
             }
            },
            "type": "scatterpolar"
           }
          ],
          "scatterpolargl": [
           {
            "marker": {
             "colorbar": {
              "outlinewidth": 0,
              "ticks": ""
             }
            },
            "type": "scatterpolargl"
           }
          ],
          "scatterternary": [
           {
            "marker": {
             "colorbar": {
              "outlinewidth": 0,
              "ticks": ""
             }
            },
            "type": "scatterternary"
           }
          ],
          "surface": [
           {
            "colorbar": {
             "outlinewidth": 0,
             "ticks": ""
            },
            "colorscale": [
             [
              0,
              "#0d0887"
             ],
             [
              0.1111111111111111,
              "#46039f"
             ],
             [
              0.2222222222222222,
              "#7201a8"
             ],
             [
              0.3333333333333333,
              "#9c179e"
             ],
             [
              0.4444444444444444,
              "#bd3786"
             ],
             [
              0.5555555555555556,
              "#d8576b"
             ],
             [
              0.6666666666666666,
              "#ed7953"
             ],
             [
              0.7777777777777778,
              "#fb9f3a"
             ],
             [
              0.8888888888888888,
              "#fdca26"
             ],
             [
              1,
              "#f0f921"
             ]
            ],
            "type": "surface"
           }
          ],
          "table": [
           {
            "cells": {
             "fill": {
              "color": "#EBF0F8"
             },
             "line": {
              "color": "white"
             }
            },
            "header": {
             "fill": {
              "color": "#C8D4E3"
             },
             "line": {
              "color": "white"
             }
            },
            "type": "table"
           }
          ]
         },
         "layout": {
          "annotationdefaults": {
           "arrowcolor": "#2a3f5f",
           "arrowhead": 0,
           "arrowwidth": 1
          },
          "coloraxis": {
           "colorbar": {
            "outlinewidth": 0,
            "ticks": ""
           }
          },
          "colorscale": {
           "diverging": [
            [
             0,
             "#8e0152"
            ],
            [
             0.1,
             "#c51b7d"
            ],
            [
             0.2,
             "#de77ae"
            ],
            [
             0.3,
             "#f1b6da"
            ],
            [
             0.4,
             "#fde0ef"
            ],
            [
             0.5,
             "#f7f7f7"
            ],
            [
             0.6,
             "#e6f5d0"
            ],
            [
             0.7,
             "#b8e186"
            ],
            [
             0.8,
             "#7fbc41"
            ],
            [
             0.9,
             "#4d9221"
            ],
            [
             1,
             "#276419"
            ]
           ],
           "sequential": [
            [
             0,
             "#0d0887"
            ],
            [
             0.1111111111111111,
             "#46039f"
            ],
            [
             0.2222222222222222,
             "#7201a8"
            ],
            [
             0.3333333333333333,
             "#9c179e"
            ],
            [
             0.4444444444444444,
             "#bd3786"
            ],
            [
             0.5555555555555556,
             "#d8576b"
            ],
            [
             0.6666666666666666,
             "#ed7953"
            ],
            [
             0.7777777777777778,
             "#fb9f3a"
            ],
            [
             0.8888888888888888,
             "#fdca26"
            ],
            [
             1,
             "#f0f921"
            ]
           ],
           "sequentialminus": [
            [
             0,
             "#0d0887"
            ],
            [
             0.1111111111111111,
             "#46039f"
            ],
            [
             0.2222222222222222,
             "#7201a8"
            ],
            [
             0.3333333333333333,
             "#9c179e"
            ],
            [
             0.4444444444444444,
             "#bd3786"
            ],
            [
             0.5555555555555556,
             "#d8576b"
            ],
            [
             0.6666666666666666,
             "#ed7953"
            ],
            [
             0.7777777777777778,
             "#fb9f3a"
            ],
            [
             0.8888888888888888,
             "#fdca26"
            ],
            [
             1,
             "#f0f921"
            ]
           ]
          },
          "colorway": [
           "#636efa",
           "#EF553B",
           "#00cc96",
           "#ab63fa",
           "#FFA15A",
           "#19d3f3",
           "#FF6692",
           "#B6E880",
           "#FF97FF",
           "#FECB52"
          ],
          "font": {
           "color": "#2a3f5f"
          },
          "geo": {
           "bgcolor": "white",
           "lakecolor": "white",
           "landcolor": "#E5ECF6",
           "showlakes": true,
           "showland": true,
           "subunitcolor": "white"
          },
          "hoverlabel": {
           "align": "left"
          },
          "hovermode": "closest",
          "mapbox": {
           "style": "light"
          },
          "paper_bgcolor": "white",
          "plot_bgcolor": "#E5ECF6",
          "polar": {
           "angularaxis": {
            "gridcolor": "white",
            "linecolor": "white",
            "ticks": ""
           },
           "bgcolor": "#E5ECF6",
           "radialaxis": {
            "gridcolor": "white",
            "linecolor": "white",
            "ticks": ""
           }
          },
          "scene": {
           "xaxis": {
            "backgroundcolor": "#E5ECF6",
            "gridcolor": "white",
            "gridwidth": 2,
            "linecolor": "white",
            "showbackground": true,
            "ticks": "",
            "zerolinecolor": "white"
           },
           "yaxis": {
            "backgroundcolor": "#E5ECF6",
            "gridcolor": "white",
            "gridwidth": 2,
            "linecolor": "white",
            "showbackground": true,
            "ticks": "",
            "zerolinecolor": "white"
           },
           "zaxis": {
            "backgroundcolor": "#E5ECF6",
            "gridcolor": "white",
            "gridwidth": 2,
            "linecolor": "white",
            "showbackground": true,
            "ticks": "",
            "zerolinecolor": "white"
           }
          },
          "shapedefaults": {
           "line": {
            "color": "#2a3f5f"
           }
          },
          "ternary": {
           "aaxis": {
            "gridcolor": "white",
            "linecolor": "white",
            "ticks": ""
           },
           "baxis": {
            "gridcolor": "white",
            "linecolor": "white",
            "ticks": ""
           },
           "bgcolor": "#E5ECF6",
           "caxis": {
            "gridcolor": "white",
            "linecolor": "white",
            "ticks": ""
           }
          },
          "title": {
           "x": 0.05
          },
          "xaxis": {
           "automargin": true,
           "gridcolor": "white",
           "linecolor": "white",
           "ticks": "",
           "title": {
            "standoff": 15
           },
           "zerolinecolor": "white",
           "zerolinewidth": 2
          },
          "yaxis": {
           "automargin": true,
           "gridcolor": "white",
           "linecolor": "white",
           "ticks": "",
           "title": {
            "standoff": 15
           },
           "zerolinecolor": "white",
           "zerolinewidth": 2
          }
         }
        },
        "xaxis": {
         "categoryorder": "total descending"
        }
       }
      },
      "text/html": [
       "<div>\n",
       "        \n",
       "        \n",
       "            <div id=\"c8cf63f0-8c10-4715-af5e-5ad1e4f3b7f5\" class=\"plotly-graph-div\" style=\"height:525px; width:100%;\"></div>\n",
       "            <script type=\"text/javascript\">\n",
       "                require([\"plotly\"], function(Plotly) {\n",
       "                    window.PLOTLYENV=window.PLOTLYENV || {};\n",
       "                    \n",
       "                if (document.getElementById(\"c8cf63f0-8c10-4715-af5e-5ad1e4f3b7f5\")) {\n",
       "                    Plotly.newPlot(\n",
       "                        'c8cf63f0-8c10-4715-af5e-5ad1e4f3b7f5',\n",
       "                        [{\"textposition\": \"auto\", \"type\": \"bar\", \"x\": [\"Occupational Therapists\", \"Nurse Practitioners\", \"Nurse Midwives\", \"Audiologists\", \"Statisticians\", \"Title Examiners, Abstractors, and Searchers\", \"Chief Executives\", \"Physical Therapists\", \"Obstetricians and Gynecologists\", \"Dining Room and Cafeteria Attendants and Bartender Helpers\", \"Registered Nurses\", \"First-Line Supervisors of Landscaping, Lawn Service, and Groundskeeping Workers\", \"Mathematicians\", \"First-Line Supervisors of Housekeeping and Janitorial Workers\", \"Neurologists\", \"Healthcare Social Workers\", \"Bartenders\", \"Aerospace Engineers\", \"File Clerks\", \"Bill and Account Collectors\", \"Human Resources Assistants, Except Payroll and Timekeeping\", \"Loan Officers\", \"Mental Health Counselors\", \"Kindergarten Teachers, Except Special Education\", \"Insurance Sales Agents\", \"Receptionists and Information Clerks\", \"Agricultural Engineers\", \"Exercise Physiologists\", \"Special Education Teachers, Secondary School\", \"Pediatricians, General\"], \"y\": [0.8463236189185216, 0.7722216680195101, 0.7626721904012758, 0.7518346850719959, 0.7309691490358313, 0.7141182657336381, 0.709497243596478, 0.6809888512290674, 0.6673495433486368, 0.6572627277886998]}],\n",
       "                        {\"barmode\": \"stack\", \"template\": {\"data\": {\"bar\": [{\"error_x\": {\"color\": \"#2a3f5f\"}, \"error_y\": {\"color\": \"#2a3f5f\"}, \"marker\": {\"line\": {\"color\": \"#E5ECF6\", \"width\": 0.5}}, \"type\": \"bar\"}], \"barpolar\": [{\"marker\": {\"line\": {\"color\": \"#E5ECF6\", \"width\": 0.5}}, \"type\": \"barpolar\"}], \"carpet\": [{\"aaxis\": {\"endlinecolor\": \"#2a3f5f\", \"gridcolor\": \"white\", \"linecolor\": \"white\", \"minorgridcolor\": \"white\", \"startlinecolor\": \"#2a3f5f\"}, \"baxis\": {\"endlinecolor\": \"#2a3f5f\", \"gridcolor\": \"white\", \"linecolor\": \"white\", \"minorgridcolor\": \"white\", \"startlinecolor\": \"#2a3f5f\"}, \"type\": \"carpet\"}], \"choropleth\": [{\"colorbar\": {\"outlinewidth\": 0, \"ticks\": \"\"}, \"type\": \"choropleth\"}], \"contour\": [{\"colorbar\": {\"outlinewidth\": 0, \"ticks\": \"\"}, \"colorscale\": [[0.0, \"#0d0887\"], [0.1111111111111111, \"#46039f\"], [0.2222222222222222, \"#7201a8\"], [0.3333333333333333, \"#9c179e\"], [0.4444444444444444, \"#bd3786\"], [0.5555555555555556, \"#d8576b\"], [0.6666666666666666, \"#ed7953\"], [0.7777777777777778, \"#fb9f3a\"], [0.8888888888888888, \"#fdca26\"], [1.0, \"#f0f921\"]], \"type\": \"contour\"}], \"contourcarpet\": [{\"colorbar\": {\"outlinewidth\": 0, \"ticks\": \"\"}, \"type\": \"contourcarpet\"}], \"heatmap\": [{\"colorbar\": {\"outlinewidth\": 0, \"ticks\": \"\"}, \"colorscale\": [[0.0, \"#0d0887\"], [0.1111111111111111, \"#46039f\"], [0.2222222222222222, \"#7201a8\"], [0.3333333333333333, \"#9c179e\"], [0.4444444444444444, \"#bd3786\"], [0.5555555555555556, \"#d8576b\"], [0.6666666666666666, \"#ed7953\"], [0.7777777777777778, \"#fb9f3a\"], [0.8888888888888888, \"#fdca26\"], [1.0, \"#f0f921\"]], \"type\": \"heatmap\"}], \"heatmapgl\": [{\"colorbar\": {\"outlinewidth\": 0, \"ticks\": \"\"}, \"colorscale\": [[0.0, \"#0d0887\"], [0.1111111111111111, \"#46039f\"], [0.2222222222222222, \"#7201a8\"], [0.3333333333333333, \"#9c179e\"], [0.4444444444444444, \"#bd3786\"], [0.5555555555555556, \"#d8576b\"], [0.6666666666666666, \"#ed7953\"], [0.7777777777777778, \"#fb9f3a\"], [0.8888888888888888, \"#fdca26\"], [1.0, \"#f0f921\"]], \"type\": \"heatmapgl\"}], \"histogram\": [{\"marker\": {\"colorbar\": {\"outlinewidth\": 0, \"ticks\": \"\"}}, \"type\": \"histogram\"}], \"histogram2d\": [{\"colorbar\": {\"outlinewidth\": 0, \"ticks\": \"\"}, \"colorscale\": [[0.0, \"#0d0887\"], [0.1111111111111111, \"#46039f\"], [0.2222222222222222, \"#7201a8\"], [0.3333333333333333, \"#9c179e\"], [0.4444444444444444, \"#bd3786\"], [0.5555555555555556, \"#d8576b\"], [0.6666666666666666, \"#ed7953\"], [0.7777777777777778, \"#fb9f3a\"], [0.8888888888888888, \"#fdca26\"], [1.0, \"#f0f921\"]], \"type\": \"histogram2d\"}], \"histogram2dcontour\": [{\"colorbar\": {\"outlinewidth\": 0, \"ticks\": \"\"}, \"colorscale\": [[0.0, \"#0d0887\"], [0.1111111111111111, \"#46039f\"], [0.2222222222222222, \"#7201a8\"], [0.3333333333333333, \"#9c179e\"], [0.4444444444444444, \"#bd3786\"], [0.5555555555555556, \"#d8576b\"], [0.6666666666666666, \"#ed7953\"], [0.7777777777777778, \"#fb9f3a\"], [0.8888888888888888, \"#fdca26\"], [1.0, \"#f0f921\"]], \"type\": \"histogram2dcontour\"}], \"mesh3d\": [{\"colorbar\": {\"outlinewidth\": 0, \"ticks\": \"\"}, \"type\": \"mesh3d\"}], \"parcoords\": [{\"line\": {\"colorbar\": {\"outlinewidth\": 0, \"ticks\": \"\"}}, \"type\": \"parcoords\"}], \"pie\": [{\"automargin\": true, \"type\": \"pie\"}], \"scatter\": [{\"marker\": {\"colorbar\": {\"outlinewidth\": 0, \"ticks\": \"\"}}, \"type\": \"scatter\"}], \"scatter3d\": [{\"line\": {\"colorbar\": {\"outlinewidth\": 0, \"ticks\": \"\"}}, \"marker\": {\"colorbar\": {\"outlinewidth\": 0, \"ticks\": \"\"}}, \"type\": \"scatter3d\"}], \"scattercarpet\": [{\"marker\": {\"colorbar\": {\"outlinewidth\": 0, \"ticks\": \"\"}}, \"type\": \"scattercarpet\"}], \"scattergeo\": [{\"marker\": {\"colorbar\": {\"outlinewidth\": 0, \"ticks\": \"\"}}, \"type\": \"scattergeo\"}], \"scattergl\": [{\"marker\": {\"colorbar\": {\"outlinewidth\": 0, \"ticks\": \"\"}}, \"type\": \"scattergl\"}], \"scattermapbox\": [{\"marker\": {\"colorbar\": {\"outlinewidth\": 0, \"ticks\": \"\"}}, \"type\": \"scattermapbox\"}], \"scatterpolar\": [{\"marker\": {\"colorbar\": {\"outlinewidth\": 0, \"ticks\": \"\"}}, \"type\": \"scatterpolar\"}], \"scatterpolargl\": [{\"marker\": {\"colorbar\": {\"outlinewidth\": 0, \"ticks\": \"\"}}, \"type\": \"scatterpolargl\"}], \"scatterternary\": [{\"marker\": {\"colorbar\": {\"outlinewidth\": 0, \"ticks\": \"\"}}, \"type\": \"scatterternary\"}], \"surface\": [{\"colorbar\": {\"outlinewidth\": 0, \"ticks\": \"\"}, \"colorscale\": [[0.0, \"#0d0887\"], [0.1111111111111111, \"#46039f\"], [0.2222222222222222, \"#7201a8\"], [0.3333333333333333, \"#9c179e\"], [0.4444444444444444, \"#bd3786\"], [0.5555555555555556, \"#d8576b\"], [0.6666666666666666, \"#ed7953\"], [0.7777777777777778, \"#fb9f3a\"], [0.8888888888888888, \"#fdca26\"], [1.0, \"#f0f921\"]], \"type\": \"surface\"}], \"table\": [{\"cells\": {\"fill\": {\"color\": \"#EBF0F8\"}, \"line\": {\"color\": \"white\"}}, \"header\": {\"fill\": {\"color\": \"#C8D4E3\"}, \"line\": {\"color\": \"white\"}}, \"type\": \"table\"}]}, \"layout\": {\"annotationdefaults\": {\"arrowcolor\": \"#2a3f5f\", \"arrowhead\": 0, \"arrowwidth\": 1}, \"coloraxis\": {\"colorbar\": {\"outlinewidth\": 0, \"ticks\": \"\"}}, \"colorscale\": {\"diverging\": [[0, \"#8e0152\"], [0.1, \"#c51b7d\"], [0.2, \"#de77ae\"], [0.3, \"#f1b6da\"], [0.4, \"#fde0ef\"], [0.5, \"#f7f7f7\"], [0.6, \"#e6f5d0\"], [0.7, \"#b8e186\"], [0.8, \"#7fbc41\"], [0.9, \"#4d9221\"], [1, \"#276419\"]], \"sequential\": [[0.0, \"#0d0887\"], [0.1111111111111111, \"#46039f\"], [0.2222222222222222, \"#7201a8\"], [0.3333333333333333, \"#9c179e\"], [0.4444444444444444, \"#bd3786\"], [0.5555555555555556, \"#d8576b\"], [0.6666666666666666, \"#ed7953\"], [0.7777777777777778, \"#fb9f3a\"], [0.8888888888888888, \"#fdca26\"], [1.0, \"#f0f921\"]], \"sequentialminus\": [[0.0, \"#0d0887\"], [0.1111111111111111, \"#46039f\"], [0.2222222222222222, \"#7201a8\"], [0.3333333333333333, \"#9c179e\"], [0.4444444444444444, \"#bd3786\"], [0.5555555555555556, \"#d8576b\"], [0.6666666666666666, \"#ed7953\"], [0.7777777777777778, \"#fb9f3a\"], [0.8888888888888888, \"#fdca26\"], [1.0, \"#f0f921\"]]}, \"colorway\": [\"#636efa\", \"#EF553B\", \"#00cc96\", \"#ab63fa\", \"#FFA15A\", \"#19d3f3\", \"#FF6692\", \"#B6E880\", \"#FF97FF\", \"#FECB52\"], \"font\": {\"color\": \"#2a3f5f\"}, \"geo\": {\"bgcolor\": \"white\", \"lakecolor\": \"white\", \"landcolor\": \"#E5ECF6\", \"showlakes\": true, \"showland\": true, \"subunitcolor\": \"white\"}, \"hoverlabel\": {\"align\": \"left\"}, \"hovermode\": \"closest\", \"mapbox\": {\"style\": \"light\"}, \"paper_bgcolor\": \"white\", \"plot_bgcolor\": \"#E5ECF6\", \"polar\": {\"angularaxis\": {\"gridcolor\": \"white\", \"linecolor\": \"white\", \"ticks\": \"\"}, \"bgcolor\": \"#E5ECF6\", \"radialaxis\": {\"gridcolor\": \"white\", \"linecolor\": \"white\", \"ticks\": \"\"}}, \"scene\": {\"xaxis\": {\"backgroundcolor\": \"#E5ECF6\", \"gridcolor\": \"white\", \"gridwidth\": 2, \"linecolor\": \"white\", \"showbackground\": true, \"ticks\": \"\", \"zerolinecolor\": \"white\"}, \"yaxis\": {\"backgroundcolor\": \"#E5ECF6\", \"gridcolor\": \"white\", \"gridwidth\": 2, \"linecolor\": \"white\", \"showbackground\": true, \"ticks\": \"\", \"zerolinecolor\": \"white\"}, \"zaxis\": {\"backgroundcolor\": \"#E5ECF6\", \"gridcolor\": \"white\", \"gridwidth\": 2, \"linecolor\": \"white\", \"showbackground\": true, \"ticks\": \"\", \"zerolinecolor\": \"white\"}}, \"shapedefaults\": {\"line\": {\"color\": \"#2a3f5f\"}}, \"ternary\": {\"aaxis\": {\"gridcolor\": \"white\", \"linecolor\": \"white\", \"ticks\": \"\"}, \"baxis\": {\"gridcolor\": \"white\", \"linecolor\": \"white\", \"ticks\": \"\"}, \"bgcolor\": \"#E5ECF6\", \"caxis\": {\"gridcolor\": \"white\", \"linecolor\": \"white\", \"ticks\": \"\"}}, \"title\": {\"x\": 0.05}, \"xaxis\": {\"automargin\": true, \"gridcolor\": \"white\", \"linecolor\": \"white\", \"ticks\": \"\", \"title\": {\"standoff\": 15}, \"zerolinecolor\": \"white\", \"zerolinewidth\": 2}, \"yaxis\": {\"automargin\": true, \"gridcolor\": \"white\", \"linecolor\": \"white\", \"ticks\": \"\", \"title\": {\"standoff\": 15}, \"zerolinecolor\": \"white\", \"zerolinewidth\": 2}}}, \"xaxis\": {\"categoryorder\": \"total descending\"}},\n",
       "                        {\"responsive\": true}\n",
       "                    ).then(function(){\n",
       "                            \n",
       "var gd = document.getElementById('c8cf63f0-8c10-4715-af5e-5ad1e4f3b7f5');\n",
       "var x = new MutationObserver(function (mutations, observer) {{\n",
       "        var display = window.getComputedStyle(gd).display;\n",
       "        if (!display || display === 'none') {{\n",
       "            console.log([gd, 'removed!']);\n",
       "            Plotly.purge(gd);\n",
       "            observer.disconnect();\n",
       "        }}\n",
       "}});\n",
       "\n",
       "// Listen for the removal of the full notebook cells\n",
       "var notebookContainer = gd.closest('#notebook-container');\n",
       "if (notebookContainer) {{\n",
       "    x.observe(notebookContainer, {childList: true});\n",
       "}}\n",
       "\n",
       "// Listen for the clearing of the current output cell\n",
       "var outputEl = gd.closest('.output');\n",
       "if (outputEl) {{\n",
       "    x.observe(outputEl, {childList: true});\n",
       "}}\n",
       "\n",
       "                        })\n",
       "                };\n",
       "                });\n",
       "            </script>\n",
       "        </div>"
      ]
     },
     "metadata": {},
     "output_type": "display_data"
    }
   ],
   "source": [
    "distribution(occ_default)"
   ]
  },
  {
   "cell_type": "code",
   "execution_count": 90,
   "metadata": {},
   "outputs": [
    {
     "data": {
      "application/vnd.plotly.v1+json": {
       "config": {
        "plotlyServerURL": "https://plot.ly"
       },
       "data": [
        {
         "textposition": "auto",
         "type": "bar",
         "x": [
          "Occupational Therapists",
          "Postal Service Mail Carriers",
          "First-Line Supervisors of Non-Retail Sales Workers",
          "Physical Therapists",
          "Nurse Practitioners",
          "Registered Nurses",
          "Chief Executives",
          "Obstetricians and Gynecologists",
          "Title Examiners, Abstractors, and Searchers",
          "Radiologists",
          "Anesthesiologists",
          "Nurse Midwives",
          "Statisticians",
          "Aerospace Engineers",
          "Pediatricians, General",
          "Dermatologists",
          "Special Education Teachers, Middle School",
          "Floor Sanders and Finishers",
          "Drywall and Ceiling Tile Installers",
          "First-Line Supervisors of Retail Sales Workers",
          "Receptionists and Information Clerks",
          "First-Line Supervisors of Housekeeping and Janitorial Workers",
          "Hosts and Hostesses, Restaurant, Lounge, and Coffee Shop",
          "First-Line Supervisors of Landscaping, Lawn Service, and Groundskeeping Workers",
          "Nursing Assistants",
          "Payroll and Timekeeping Clerks",
          "Dining Room and Cafeteria Attendants and Bartender Helpers",
          "Neurologists",
          "Food Preparation Workers",
          "Mathematicians"
         ],
         "y": [
          0.8402195401297996,
          0.7912997640737633,
          0.7884769774544764,
          0.7613036809557486,
          0.757810533308938,
          0.7396443930773382,
          0.7312016680444511,
          0.71628391970068,
          0.707367603269877,
          0.7051359565171219
         ]
        }
       ],
       "layout": {
        "barmode": "stack",
        "template": {
         "data": {
          "bar": [
           {
            "error_x": {
             "color": "#2a3f5f"
            },
            "error_y": {
             "color": "#2a3f5f"
            },
            "marker": {
             "line": {
              "color": "#E5ECF6",
              "width": 0.5
             }
            },
            "type": "bar"
           }
          ],
          "barpolar": [
           {
            "marker": {
             "line": {
              "color": "#E5ECF6",
              "width": 0.5
             }
            },
            "type": "barpolar"
           }
          ],
          "carpet": [
           {
            "aaxis": {
             "endlinecolor": "#2a3f5f",
             "gridcolor": "white",
             "linecolor": "white",
             "minorgridcolor": "white",
             "startlinecolor": "#2a3f5f"
            },
            "baxis": {
             "endlinecolor": "#2a3f5f",
             "gridcolor": "white",
             "linecolor": "white",
             "minorgridcolor": "white",
             "startlinecolor": "#2a3f5f"
            },
            "type": "carpet"
           }
          ],
          "choropleth": [
           {
            "colorbar": {
             "outlinewidth": 0,
             "ticks": ""
            },
            "type": "choropleth"
           }
          ],
          "contour": [
           {
            "colorbar": {
             "outlinewidth": 0,
             "ticks": ""
            },
            "colorscale": [
             [
              0,
              "#0d0887"
             ],
             [
              0.1111111111111111,
              "#46039f"
             ],
             [
              0.2222222222222222,
              "#7201a8"
             ],
             [
              0.3333333333333333,
              "#9c179e"
             ],
             [
              0.4444444444444444,
              "#bd3786"
             ],
             [
              0.5555555555555556,
              "#d8576b"
             ],
             [
              0.6666666666666666,
              "#ed7953"
             ],
             [
              0.7777777777777778,
              "#fb9f3a"
             ],
             [
              0.8888888888888888,
              "#fdca26"
             ],
             [
              1,
              "#f0f921"
             ]
            ],
            "type": "contour"
           }
          ],
          "contourcarpet": [
           {
            "colorbar": {
             "outlinewidth": 0,
             "ticks": ""
            },
            "type": "contourcarpet"
           }
          ],
          "heatmap": [
           {
            "colorbar": {
             "outlinewidth": 0,
             "ticks": ""
            },
            "colorscale": [
             [
              0,
              "#0d0887"
             ],
             [
              0.1111111111111111,
              "#46039f"
             ],
             [
              0.2222222222222222,
              "#7201a8"
             ],
             [
              0.3333333333333333,
              "#9c179e"
             ],
             [
              0.4444444444444444,
              "#bd3786"
             ],
             [
              0.5555555555555556,
              "#d8576b"
             ],
             [
              0.6666666666666666,
              "#ed7953"
             ],
             [
              0.7777777777777778,
              "#fb9f3a"
             ],
             [
              0.8888888888888888,
              "#fdca26"
             ],
             [
              1,
              "#f0f921"
             ]
            ],
            "type": "heatmap"
           }
          ],
          "heatmapgl": [
           {
            "colorbar": {
             "outlinewidth": 0,
             "ticks": ""
            },
            "colorscale": [
             [
              0,
              "#0d0887"
             ],
             [
              0.1111111111111111,
              "#46039f"
             ],
             [
              0.2222222222222222,
              "#7201a8"
             ],
             [
              0.3333333333333333,
              "#9c179e"
             ],
             [
              0.4444444444444444,
              "#bd3786"
             ],
             [
              0.5555555555555556,
              "#d8576b"
             ],
             [
              0.6666666666666666,
              "#ed7953"
             ],
             [
              0.7777777777777778,
              "#fb9f3a"
             ],
             [
              0.8888888888888888,
              "#fdca26"
             ],
             [
              1,
              "#f0f921"
             ]
            ],
            "type": "heatmapgl"
           }
          ],
          "histogram": [
           {
            "marker": {
             "colorbar": {
              "outlinewidth": 0,
              "ticks": ""
             }
            },
            "type": "histogram"
           }
          ],
          "histogram2d": [
           {
            "colorbar": {
             "outlinewidth": 0,
             "ticks": ""
            },
            "colorscale": [
             [
              0,
              "#0d0887"
             ],
             [
              0.1111111111111111,
              "#46039f"
             ],
             [
              0.2222222222222222,
              "#7201a8"
             ],
             [
              0.3333333333333333,
              "#9c179e"
             ],
             [
              0.4444444444444444,
              "#bd3786"
             ],
             [
              0.5555555555555556,
              "#d8576b"
             ],
             [
              0.6666666666666666,
              "#ed7953"
             ],
             [
              0.7777777777777778,
              "#fb9f3a"
             ],
             [
              0.8888888888888888,
              "#fdca26"
             ],
             [
              1,
              "#f0f921"
             ]
            ],
            "type": "histogram2d"
           }
          ],
          "histogram2dcontour": [
           {
            "colorbar": {
             "outlinewidth": 0,
             "ticks": ""
            },
            "colorscale": [
             [
              0,
              "#0d0887"
             ],
             [
              0.1111111111111111,
              "#46039f"
             ],
             [
              0.2222222222222222,
              "#7201a8"
             ],
             [
              0.3333333333333333,
              "#9c179e"
             ],
             [
              0.4444444444444444,
              "#bd3786"
             ],
             [
              0.5555555555555556,
              "#d8576b"
             ],
             [
              0.6666666666666666,
              "#ed7953"
             ],
             [
              0.7777777777777778,
              "#fb9f3a"
             ],
             [
              0.8888888888888888,
              "#fdca26"
             ],
             [
              1,
              "#f0f921"
             ]
            ],
            "type": "histogram2dcontour"
           }
          ],
          "mesh3d": [
           {
            "colorbar": {
             "outlinewidth": 0,
             "ticks": ""
            },
            "type": "mesh3d"
           }
          ],
          "parcoords": [
           {
            "line": {
             "colorbar": {
              "outlinewidth": 0,
              "ticks": ""
             }
            },
            "type": "parcoords"
           }
          ],
          "pie": [
           {
            "automargin": true,
            "type": "pie"
           }
          ],
          "scatter": [
           {
            "marker": {
             "colorbar": {
              "outlinewidth": 0,
              "ticks": ""
             }
            },
            "type": "scatter"
           }
          ],
          "scatter3d": [
           {
            "line": {
             "colorbar": {
              "outlinewidth": 0,
              "ticks": ""
             }
            },
            "marker": {
             "colorbar": {
              "outlinewidth": 0,
              "ticks": ""
             }
            },
            "type": "scatter3d"
           }
          ],
          "scattercarpet": [
           {
            "marker": {
             "colorbar": {
              "outlinewidth": 0,
              "ticks": ""
             }
            },
            "type": "scattercarpet"
           }
          ],
          "scattergeo": [
           {
            "marker": {
             "colorbar": {
              "outlinewidth": 0,
              "ticks": ""
             }
            },
            "type": "scattergeo"
           }
          ],
          "scattergl": [
           {
            "marker": {
             "colorbar": {
              "outlinewidth": 0,
              "ticks": ""
             }
            },
            "type": "scattergl"
           }
          ],
          "scattermapbox": [
           {
            "marker": {
             "colorbar": {
              "outlinewidth": 0,
              "ticks": ""
             }
            },
            "type": "scattermapbox"
           }
          ],
          "scatterpolar": [
           {
            "marker": {
             "colorbar": {
              "outlinewidth": 0,
              "ticks": ""
             }
            },
            "type": "scatterpolar"
           }
          ],
          "scatterpolargl": [
           {
            "marker": {
             "colorbar": {
              "outlinewidth": 0,
              "ticks": ""
             }
            },
            "type": "scatterpolargl"
           }
          ],
          "scatterternary": [
           {
            "marker": {
             "colorbar": {
              "outlinewidth": 0,
              "ticks": ""
             }
            },
            "type": "scatterternary"
           }
          ],
          "surface": [
           {
            "colorbar": {
             "outlinewidth": 0,
             "ticks": ""
            },
            "colorscale": [
             [
              0,
              "#0d0887"
             ],
             [
              0.1111111111111111,
              "#46039f"
             ],
             [
              0.2222222222222222,
              "#7201a8"
             ],
             [
              0.3333333333333333,
              "#9c179e"
             ],
             [
              0.4444444444444444,
              "#bd3786"
             ],
             [
              0.5555555555555556,
              "#d8576b"
             ],
             [
              0.6666666666666666,
              "#ed7953"
             ],
             [
              0.7777777777777778,
              "#fb9f3a"
             ],
             [
              0.8888888888888888,
              "#fdca26"
             ],
             [
              1,
              "#f0f921"
             ]
            ],
            "type": "surface"
           }
          ],
          "table": [
           {
            "cells": {
             "fill": {
              "color": "#EBF0F8"
             },
             "line": {
              "color": "white"
             }
            },
            "header": {
             "fill": {
              "color": "#C8D4E3"
             },
             "line": {
              "color": "white"
             }
            },
            "type": "table"
           }
          ]
         },
         "layout": {
          "annotationdefaults": {
           "arrowcolor": "#2a3f5f",
           "arrowhead": 0,
           "arrowwidth": 1
          },
          "coloraxis": {
           "colorbar": {
            "outlinewidth": 0,
            "ticks": ""
           }
          },
          "colorscale": {
           "diverging": [
            [
             0,
             "#8e0152"
            ],
            [
             0.1,
             "#c51b7d"
            ],
            [
             0.2,
             "#de77ae"
            ],
            [
             0.3,
             "#f1b6da"
            ],
            [
             0.4,
             "#fde0ef"
            ],
            [
             0.5,
             "#f7f7f7"
            ],
            [
             0.6,
             "#e6f5d0"
            ],
            [
             0.7,
             "#b8e186"
            ],
            [
             0.8,
             "#7fbc41"
            ],
            [
             0.9,
             "#4d9221"
            ],
            [
             1,
             "#276419"
            ]
           ],
           "sequential": [
            [
             0,
             "#0d0887"
            ],
            [
             0.1111111111111111,
             "#46039f"
            ],
            [
             0.2222222222222222,
             "#7201a8"
            ],
            [
             0.3333333333333333,
             "#9c179e"
            ],
            [
             0.4444444444444444,
             "#bd3786"
            ],
            [
             0.5555555555555556,
             "#d8576b"
            ],
            [
             0.6666666666666666,
             "#ed7953"
            ],
            [
             0.7777777777777778,
             "#fb9f3a"
            ],
            [
             0.8888888888888888,
             "#fdca26"
            ],
            [
             1,
             "#f0f921"
            ]
           ],
           "sequentialminus": [
            [
             0,
             "#0d0887"
            ],
            [
             0.1111111111111111,
             "#46039f"
            ],
            [
             0.2222222222222222,
             "#7201a8"
            ],
            [
             0.3333333333333333,
             "#9c179e"
            ],
            [
             0.4444444444444444,
             "#bd3786"
            ],
            [
             0.5555555555555556,
             "#d8576b"
            ],
            [
             0.6666666666666666,
             "#ed7953"
            ],
            [
             0.7777777777777778,
             "#fb9f3a"
            ],
            [
             0.8888888888888888,
             "#fdca26"
            ],
            [
             1,
             "#f0f921"
            ]
           ]
          },
          "colorway": [
           "#636efa",
           "#EF553B",
           "#00cc96",
           "#ab63fa",
           "#FFA15A",
           "#19d3f3",
           "#FF6692",
           "#B6E880",
           "#FF97FF",
           "#FECB52"
          ],
          "font": {
           "color": "#2a3f5f"
          },
          "geo": {
           "bgcolor": "white",
           "lakecolor": "white",
           "landcolor": "#E5ECF6",
           "showlakes": true,
           "showland": true,
           "subunitcolor": "white"
          },
          "hoverlabel": {
           "align": "left"
          },
          "hovermode": "closest",
          "mapbox": {
           "style": "light"
          },
          "paper_bgcolor": "white",
          "plot_bgcolor": "#E5ECF6",
          "polar": {
           "angularaxis": {
            "gridcolor": "white",
            "linecolor": "white",
            "ticks": ""
           },
           "bgcolor": "#E5ECF6",
           "radialaxis": {
            "gridcolor": "white",
            "linecolor": "white",
            "ticks": ""
           }
          },
          "scene": {
           "xaxis": {
            "backgroundcolor": "#E5ECF6",
            "gridcolor": "white",
            "gridwidth": 2,
            "linecolor": "white",
            "showbackground": true,
            "ticks": "",
            "zerolinecolor": "white"
           },
           "yaxis": {
            "backgroundcolor": "#E5ECF6",
            "gridcolor": "white",
            "gridwidth": 2,
            "linecolor": "white",
            "showbackground": true,
            "ticks": "",
            "zerolinecolor": "white"
           },
           "zaxis": {
            "backgroundcolor": "#E5ECF6",
            "gridcolor": "white",
            "gridwidth": 2,
            "linecolor": "white",
            "showbackground": true,
            "ticks": "",
            "zerolinecolor": "white"
           }
          },
          "shapedefaults": {
           "line": {
            "color": "#2a3f5f"
           }
          },
          "ternary": {
           "aaxis": {
            "gridcolor": "white",
            "linecolor": "white",
            "ticks": ""
           },
           "baxis": {
            "gridcolor": "white",
            "linecolor": "white",
            "ticks": ""
           },
           "bgcolor": "#E5ECF6",
           "caxis": {
            "gridcolor": "white",
            "linecolor": "white",
            "ticks": ""
           }
          },
          "title": {
           "x": 0.05
          },
          "xaxis": {
           "automargin": true,
           "gridcolor": "white",
           "linecolor": "white",
           "ticks": "",
           "title": {
            "standoff": 15
           },
           "zerolinecolor": "white",
           "zerolinewidth": 2
          },
          "yaxis": {
           "automargin": true,
           "gridcolor": "white",
           "linecolor": "white",
           "ticks": "",
           "title": {
            "standoff": 15
           },
           "zerolinecolor": "white",
           "zerolinewidth": 2
          }
         }
        },
        "xaxis": {
         "categoryorder": "total descending"
        }
       }
      },
      "text/html": [
       "<div>\n",
       "        \n",
       "        \n",
       "            <div id=\"97cf2b8a-4240-48d3-bc9a-27ea013f450f\" class=\"plotly-graph-div\" style=\"height:525px; width:100%;\"></div>\n",
       "            <script type=\"text/javascript\">\n",
       "                require([\"plotly\"], function(Plotly) {\n",
       "                    window.PLOTLYENV=window.PLOTLYENV || {};\n",
       "                    \n",
       "                if (document.getElementById(\"97cf2b8a-4240-48d3-bc9a-27ea013f450f\")) {\n",
       "                    Plotly.newPlot(\n",
       "                        '97cf2b8a-4240-48d3-bc9a-27ea013f450f',\n",
       "                        [{\"textposition\": \"auto\", \"type\": \"bar\", \"x\": [\"Occupational Therapists\", \"Postal Service Mail Carriers\", \"First-Line Supervisors of Non-Retail Sales Workers\", \"Physical Therapists\", \"Nurse Practitioners\", \"Registered Nurses\", \"Chief Executives\", \"Obstetricians and Gynecologists\", \"Title Examiners, Abstractors, and Searchers\", \"Radiologists\", \"Anesthesiologists\", \"Nurse Midwives\", \"Statisticians\", \"Aerospace Engineers\", \"Pediatricians, General\", \"Dermatologists\", \"Special Education Teachers, Middle School\", \"Floor Sanders and Finishers\", \"Drywall and Ceiling Tile Installers\", \"First-Line Supervisors of Retail Sales Workers\", \"Receptionists and Information Clerks\", \"First-Line Supervisors of Housekeeping and Janitorial Workers\", \"Hosts and Hostesses, Restaurant, Lounge, and Coffee Shop\", \"First-Line Supervisors of Landscaping, Lawn Service, and Groundskeeping Workers\", \"Nursing Assistants\", \"Payroll and Timekeeping Clerks\", \"Dining Room and Cafeteria Attendants and Bartender Helpers\", \"Neurologists\", \"Food Preparation Workers\", \"Mathematicians\"], \"y\": [0.8402195401297996, 0.7912997640737633, 0.7884769774544764, 0.7613036809557486, 0.757810533308938, 0.7396443930773382, 0.7312016680444511, 0.71628391970068, 0.707367603269877, 0.7051359565171219]}],\n",
       "                        {\"barmode\": \"stack\", \"template\": {\"data\": {\"bar\": [{\"error_x\": {\"color\": \"#2a3f5f\"}, \"error_y\": {\"color\": \"#2a3f5f\"}, \"marker\": {\"line\": {\"color\": \"#E5ECF6\", \"width\": 0.5}}, \"type\": \"bar\"}], \"barpolar\": [{\"marker\": {\"line\": {\"color\": \"#E5ECF6\", \"width\": 0.5}}, \"type\": \"barpolar\"}], \"carpet\": [{\"aaxis\": {\"endlinecolor\": \"#2a3f5f\", \"gridcolor\": \"white\", \"linecolor\": \"white\", \"minorgridcolor\": \"white\", \"startlinecolor\": \"#2a3f5f\"}, \"baxis\": {\"endlinecolor\": \"#2a3f5f\", \"gridcolor\": \"white\", \"linecolor\": \"white\", \"minorgridcolor\": \"white\", \"startlinecolor\": \"#2a3f5f\"}, \"type\": \"carpet\"}], \"choropleth\": [{\"colorbar\": {\"outlinewidth\": 0, \"ticks\": \"\"}, \"type\": \"choropleth\"}], \"contour\": [{\"colorbar\": {\"outlinewidth\": 0, \"ticks\": \"\"}, \"colorscale\": [[0.0, \"#0d0887\"], [0.1111111111111111, \"#46039f\"], [0.2222222222222222, \"#7201a8\"], [0.3333333333333333, \"#9c179e\"], [0.4444444444444444, \"#bd3786\"], [0.5555555555555556, \"#d8576b\"], [0.6666666666666666, \"#ed7953\"], [0.7777777777777778, \"#fb9f3a\"], [0.8888888888888888, \"#fdca26\"], [1.0, \"#f0f921\"]], \"type\": \"contour\"}], \"contourcarpet\": [{\"colorbar\": {\"outlinewidth\": 0, \"ticks\": \"\"}, \"type\": \"contourcarpet\"}], \"heatmap\": [{\"colorbar\": {\"outlinewidth\": 0, \"ticks\": \"\"}, \"colorscale\": [[0.0, \"#0d0887\"], [0.1111111111111111, \"#46039f\"], [0.2222222222222222, \"#7201a8\"], [0.3333333333333333, \"#9c179e\"], [0.4444444444444444, \"#bd3786\"], [0.5555555555555556, \"#d8576b\"], [0.6666666666666666, \"#ed7953\"], [0.7777777777777778, \"#fb9f3a\"], [0.8888888888888888, \"#fdca26\"], [1.0, \"#f0f921\"]], \"type\": \"heatmap\"}], \"heatmapgl\": [{\"colorbar\": {\"outlinewidth\": 0, \"ticks\": \"\"}, \"colorscale\": [[0.0, \"#0d0887\"], [0.1111111111111111, \"#46039f\"], [0.2222222222222222, \"#7201a8\"], [0.3333333333333333, \"#9c179e\"], [0.4444444444444444, \"#bd3786\"], [0.5555555555555556, \"#d8576b\"], [0.6666666666666666, \"#ed7953\"], [0.7777777777777778, \"#fb9f3a\"], [0.8888888888888888, \"#fdca26\"], [1.0, \"#f0f921\"]], \"type\": \"heatmapgl\"}], \"histogram\": [{\"marker\": {\"colorbar\": {\"outlinewidth\": 0, \"ticks\": \"\"}}, \"type\": \"histogram\"}], \"histogram2d\": [{\"colorbar\": {\"outlinewidth\": 0, \"ticks\": \"\"}, \"colorscale\": [[0.0, \"#0d0887\"], [0.1111111111111111, \"#46039f\"], [0.2222222222222222, \"#7201a8\"], [0.3333333333333333, \"#9c179e\"], [0.4444444444444444, \"#bd3786\"], [0.5555555555555556, \"#d8576b\"], [0.6666666666666666, \"#ed7953\"], [0.7777777777777778, \"#fb9f3a\"], [0.8888888888888888, \"#fdca26\"], [1.0, \"#f0f921\"]], \"type\": \"histogram2d\"}], \"histogram2dcontour\": [{\"colorbar\": {\"outlinewidth\": 0, \"ticks\": \"\"}, \"colorscale\": [[0.0, \"#0d0887\"], [0.1111111111111111, \"#46039f\"], [0.2222222222222222, \"#7201a8\"], [0.3333333333333333, \"#9c179e\"], [0.4444444444444444, \"#bd3786\"], [0.5555555555555556, \"#d8576b\"], [0.6666666666666666, \"#ed7953\"], [0.7777777777777778, \"#fb9f3a\"], [0.8888888888888888, \"#fdca26\"], [1.0, \"#f0f921\"]], \"type\": \"histogram2dcontour\"}], \"mesh3d\": [{\"colorbar\": {\"outlinewidth\": 0, \"ticks\": \"\"}, \"type\": \"mesh3d\"}], \"parcoords\": [{\"line\": {\"colorbar\": {\"outlinewidth\": 0, \"ticks\": \"\"}}, \"type\": \"parcoords\"}], \"pie\": [{\"automargin\": true, \"type\": \"pie\"}], \"scatter\": [{\"marker\": {\"colorbar\": {\"outlinewidth\": 0, \"ticks\": \"\"}}, \"type\": \"scatter\"}], \"scatter3d\": [{\"line\": {\"colorbar\": {\"outlinewidth\": 0, \"ticks\": \"\"}}, \"marker\": {\"colorbar\": {\"outlinewidth\": 0, \"ticks\": \"\"}}, \"type\": \"scatter3d\"}], \"scattercarpet\": [{\"marker\": {\"colorbar\": {\"outlinewidth\": 0, \"ticks\": \"\"}}, \"type\": \"scattercarpet\"}], \"scattergeo\": [{\"marker\": {\"colorbar\": {\"outlinewidth\": 0, \"ticks\": \"\"}}, \"type\": \"scattergeo\"}], \"scattergl\": [{\"marker\": {\"colorbar\": {\"outlinewidth\": 0, \"ticks\": \"\"}}, \"type\": \"scattergl\"}], \"scattermapbox\": [{\"marker\": {\"colorbar\": {\"outlinewidth\": 0, \"ticks\": \"\"}}, \"type\": \"scattermapbox\"}], \"scatterpolar\": [{\"marker\": {\"colorbar\": {\"outlinewidth\": 0, \"ticks\": \"\"}}, \"type\": \"scatterpolar\"}], \"scatterpolargl\": [{\"marker\": {\"colorbar\": {\"outlinewidth\": 0, \"ticks\": \"\"}}, \"type\": \"scatterpolargl\"}], \"scatterternary\": [{\"marker\": {\"colorbar\": {\"outlinewidth\": 0, \"ticks\": \"\"}}, \"type\": \"scatterternary\"}], \"surface\": [{\"colorbar\": {\"outlinewidth\": 0, \"ticks\": \"\"}, \"colorscale\": [[0.0, \"#0d0887\"], [0.1111111111111111, \"#46039f\"], [0.2222222222222222, \"#7201a8\"], [0.3333333333333333, \"#9c179e\"], [0.4444444444444444, \"#bd3786\"], [0.5555555555555556, \"#d8576b\"], [0.6666666666666666, \"#ed7953\"], [0.7777777777777778, \"#fb9f3a\"], [0.8888888888888888, \"#fdca26\"], [1.0, \"#f0f921\"]], \"type\": \"surface\"}], \"table\": [{\"cells\": {\"fill\": {\"color\": \"#EBF0F8\"}, \"line\": {\"color\": \"white\"}}, \"header\": {\"fill\": {\"color\": \"#C8D4E3\"}, \"line\": {\"color\": \"white\"}}, \"type\": \"table\"}]}, \"layout\": {\"annotationdefaults\": {\"arrowcolor\": \"#2a3f5f\", \"arrowhead\": 0, \"arrowwidth\": 1}, \"coloraxis\": {\"colorbar\": {\"outlinewidth\": 0, \"ticks\": \"\"}}, \"colorscale\": {\"diverging\": [[0, \"#8e0152\"], [0.1, \"#c51b7d\"], [0.2, \"#de77ae\"], [0.3, \"#f1b6da\"], [0.4, \"#fde0ef\"], [0.5, \"#f7f7f7\"], [0.6, \"#e6f5d0\"], [0.7, \"#b8e186\"], [0.8, \"#7fbc41\"], [0.9, \"#4d9221\"], [1, \"#276419\"]], \"sequential\": [[0.0, \"#0d0887\"], [0.1111111111111111, \"#46039f\"], [0.2222222222222222, \"#7201a8\"], [0.3333333333333333, \"#9c179e\"], [0.4444444444444444, \"#bd3786\"], [0.5555555555555556, \"#d8576b\"], [0.6666666666666666, \"#ed7953\"], [0.7777777777777778, \"#fb9f3a\"], [0.8888888888888888, \"#fdca26\"], [1.0, \"#f0f921\"]], \"sequentialminus\": [[0.0, \"#0d0887\"], [0.1111111111111111, \"#46039f\"], [0.2222222222222222, \"#7201a8\"], [0.3333333333333333, \"#9c179e\"], [0.4444444444444444, \"#bd3786\"], [0.5555555555555556, \"#d8576b\"], [0.6666666666666666, \"#ed7953\"], [0.7777777777777778, \"#fb9f3a\"], [0.8888888888888888, \"#fdca26\"], [1.0, \"#f0f921\"]]}, \"colorway\": [\"#636efa\", \"#EF553B\", \"#00cc96\", \"#ab63fa\", \"#FFA15A\", \"#19d3f3\", \"#FF6692\", \"#B6E880\", \"#FF97FF\", \"#FECB52\"], \"font\": {\"color\": \"#2a3f5f\"}, \"geo\": {\"bgcolor\": \"white\", \"lakecolor\": \"white\", \"landcolor\": \"#E5ECF6\", \"showlakes\": true, \"showland\": true, \"subunitcolor\": \"white\"}, \"hoverlabel\": {\"align\": \"left\"}, \"hovermode\": \"closest\", \"mapbox\": {\"style\": \"light\"}, \"paper_bgcolor\": \"white\", \"plot_bgcolor\": \"#E5ECF6\", \"polar\": {\"angularaxis\": {\"gridcolor\": \"white\", \"linecolor\": \"white\", \"ticks\": \"\"}, \"bgcolor\": \"#E5ECF6\", \"radialaxis\": {\"gridcolor\": \"white\", \"linecolor\": \"white\", \"ticks\": \"\"}}, \"scene\": {\"xaxis\": {\"backgroundcolor\": \"#E5ECF6\", \"gridcolor\": \"white\", \"gridwidth\": 2, \"linecolor\": \"white\", \"showbackground\": true, \"ticks\": \"\", \"zerolinecolor\": \"white\"}, \"yaxis\": {\"backgroundcolor\": \"#E5ECF6\", \"gridcolor\": \"white\", \"gridwidth\": 2, \"linecolor\": \"white\", \"showbackground\": true, \"ticks\": \"\", \"zerolinecolor\": \"white\"}, \"zaxis\": {\"backgroundcolor\": \"#E5ECF6\", \"gridcolor\": \"white\", \"gridwidth\": 2, \"linecolor\": \"white\", \"showbackground\": true, \"ticks\": \"\", \"zerolinecolor\": \"white\"}}, \"shapedefaults\": {\"line\": {\"color\": \"#2a3f5f\"}}, \"ternary\": {\"aaxis\": {\"gridcolor\": \"white\", \"linecolor\": \"white\", \"ticks\": \"\"}, \"baxis\": {\"gridcolor\": \"white\", \"linecolor\": \"white\", \"ticks\": \"\"}, \"bgcolor\": \"#E5ECF6\", \"caxis\": {\"gridcolor\": \"white\", \"linecolor\": \"white\", \"ticks\": \"\"}}, \"title\": {\"x\": 0.05}, \"xaxis\": {\"automargin\": true, \"gridcolor\": \"white\", \"linecolor\": \"white\", \"ticks\": \"\", \"title\": {\"standoff\": 15}, \"zerolinecolor\": \"white\", \"zerolinewidth\": 2}, \"yaxis\": {\"automargin\": true, \"gridcolor\": \"white\", \"linecolor\": \"white\", \"ticks\": \"\", \"title\": {\"standoff\": 15}, \"zerolinecolor\": \"white\", \"zerolinewidth\": 2}}}, \"xaxis\": {\"categoryorder\": \"total descending\"}},\n",
       "                        {\"responsive\": true}\n",
       "                    ).then(function(){\n",
       "                            \n",
       "var gd = document.getElementById('97cf2b8a-4240-48d3-bc9a-27ea013f450f');\n",
       "var x = new MutationObserver(function (mutations, observer) {{\n",
       "        var display = window.getComputedStyle(gd).display;\n",
       "        if (!display || display === 'none') {{\n",
       "            console.log([gd, 'removed!']);\n",
       "            Plotly.purge(gd);\n",
       "            observer.disconnect();\n",
       "        }}\n",
       "}});\n",
       "\n",
       "// Listen for the removal of the full notebook cells\n",
       "var notebookContainer = gd.closest('#notebook-container');\n",
       "if (notebookContainer) {{\n",
       "    x.observe(notebookContainer, {childList: true});\n",
       "}}\n",
       "\n",
       "// Listen for the clearing of the current output cell\n",
       "var outputEl = gd.closest('.output');\n",
       "if (outputEl) {{\n",
       "    x.observe(outputEl, {childList: true});\n",
       "}}\n",
       "\n",
       "                        })\n",
       "                };\n",
       "                });\n",
       "            </script>\n",
       "        </div>"
      ]
     },
     "metadata": {},
     "output_type": "display_data"
    }
   ],
   "source": [
    "distribution(occ_alg1)"
   ]
  },
  {
   "cell_type": "code",
   "execution_count": 91,
   "metadata": {},
   "outputs": [
    {
     "data": {
      "application/vnd.plotly.v1+json": {
       "config": {
        "plotlyServerURL": "https://plot.ly"
       },
       "data": [
        {
         "textposition": "auto",
         "type": "bar",
         "x": [
          "Occupational Therapists",
          "First-Line Supervisors of Non-Retail Sales Workers",
          "Postal Service Mail Carriers",
          "Physical Therapists",
          "Nurse Practitioners",
          "Mathematicians",
          "Nurse Midwives",
          "Registered Nurses",
          "Chief Executives",
          "Obstetricians and Gynecologists",
          "Title Examiners, Abstractors, and Searchers",
          "Radiologists",
          "Audiologists",
          "Anesthesiologists",
          "Statisticians",
          "Pediatricians, General",
          "Drywall and Ceiling Tile Installers",
          "Dermatologists",
          "Neurologists",
          "Dining Room and Cafeteria Attendants and Bartender Helpers",
          "Special Education Teachers, Middle School",
          "Surgical Technologists",
          "First-Line Supervisors of Retail Sales Workers",
          "Receptionists and Information Clerks",
          "First-Line Supervisors of Landscaping, Lawn Service, and Groundskeeping Workers",
          "Payroll and Timekeeping Clerks",
          "Nursing Assistants",
          "Ophthalmic Medical Technicians",
          "Special Education Teachers, Preschool",
          "Hosts and Hostesses, Restaurant, Lounge, and Coffee Shop"
         ],
         "y": [
          0.8463680094061421,
          0.7884769774544764,
          0.7728705392155439,
          0.7613036809557487,
          0.7542062888567377,
          0.7514721751020317,
          0.7476904461091176,
          0.7383233562263706,
          0.731201668044451,
          0.7160692485576444
         ]
        }
       ],
       "layout": {
        "barmode": "stack",
        "template": {
         "data": {
          "bar": [
           {
            "error_x": {
             "color": "#2a3f5f"
            },
            "error_y": {
             "color": "#2a3f5f"
            },
            "marker": {
             "line": {
              "color": "#E5ECF6",
              "width": 0.5
             }
            },
            "type": "bar"
           }
          ],
          "barpolar": [
           {
            "marker": {
             "line": {
              "color": "#E5ECF6",
              "width": 0.5
             }
            },
            "type": "barpolar"
           }
          ],
          "carpet": [
           {
            "aaxis": {
             "endlinecolor": "#2a3f5f",
             "gridcolor": "white",
             "linecolor": "white",
             "minorgridcolor": "white",
             "startlinecolor": "#2a3f5f"
            },
            "baxis": {
             "endlinecolor": "#2a3f5f",
             "gridcolor": "white",
             "linecolor": "white",
             "minorgridcolor": "white",
             "startlinecolor": "#2a3f5f"
            },
            "type": "carpet"
           }
          ],
          "choropleth": [
           {
            "colorbar": {
             "outlinewidth": 0,
             "ticks": ""
            },
            "type": "choropleth"
           }
          ],
          "contour": [
           {
            "colorbar": {
             "outlinewidth": 0,
             "ticks": ""
            },
            "colorscale": [
             [
              0,
              "#0d0887"
             ],
             [
              0.1111111111111111,
              "#46039f"
             ],
             [
              0.2222222222222222,
              "#7201a8"
             ],
             [
              0.3333333333333333,
              "#9c179e"
             ],
             [
              0.4444444444444444,
              "#bd3786"
             ],
             [
              0.5555555555555556,
              "#d8576b"
             ],
             [
              0.6666666666666666,
              "#ed7953"
             ],
             [
              0.7777777777777778,
              "#fb9f3a"
             ],
             [
              0.8888888888888888,
              "#fdca26"
             ],
             [
              1,
              "#f0f921"
             ]
            ],
            "type": "contour"
           }
          ],
          "contourcarpet": [
           {
            "colorbar": {
             "outlinewidth": 0,
             "ticks": ""
            },
            "type": "contourcarpet"
           }
          ],
          "heatmap": [
           {
            "colorbar": {
             "outlinewidth": 0,
             "ticks": ""
            },
            "colorscale": [
             [
              0,
              "#0d0887"
             ],
             [
              0.1111111111111111,
              "#46039f"
             ],
             [
              0.2222222222222222,
              "#7201a8"
             ],
             [
              0.3333333333333333,
              "#9c179e"
             ],
             [
              0.4444444444444444,
              "#bd3786"
             ],
             [
              0.5555555555555556,
              "#d8576b"
             ],
             [
              0.6666666666666666,
              "#ed7953"
             ],
             [
              0.7777777777777778,
              "#fb9f3a"
             ],
             [
              0.8888888888888888,
              "#fdca26"
             ],
             [
              1,
              "#f0f921"
             ]
            ],
            "type": "heatmap"
           }
          ],
          "heatmapgl": [
           {
            "colorbar": {
             "outlinewidth": 0,
             "ticks": ""
            },
            "colorscale": [
             [
              0,
              "#0d0887"
             ],
             [
              0.1111111111111111,
              "#46039f"
             ],
             [
              0.2222222222222222,
              "#7201a8"
             ],
             [
              0.3333333333333333,
              "#9c179e"
             ],
             [
              0.4444444444444444,
              "#bd3786"
             ],
             [
              0.5555555555555556,
              "#d8576b"
             ],
             [
              0.6666666666666666,
              "#ed7953"
             ],
             [
              0.7777777777777778,
              "#fb9f3a"
             ],
             [
              0.8888888888888888,
              "#fdca26"
             ],
             [
              1,
              "#f0f921"
             ]
            ],
            "type": "heatmapgl"
           }
          ],
          "histogram": [
           {
            "marker": {
             "colorbar": {
              "outlinewidth": 0,
              "ticks": ""
             }
            },
            "type": "histogram"
           }
          ],
          "histogram2d": [
           {
            "colorbar": {
             "outlinewidth": 0,
             "ticks": ""
            },
            "colorscale": [
             [
              0,
              "#0d0887"
             ],
             [
              0.1111111111111111,
              "#46039f"
             ],
             [
              0.2222222222222222,
              "#7201a8"
             ],
             [
              0.3333333333333333,
              "#9c179e"
             ],
             [
              0.4444444444444444,
              "#bd3786"
             ],
             [
              0.5555555555555556,
              "#d8576b"
             ],
             [
              0.6666666666666666,
              "#ed7953"
             ],
             [
              0.7777777777777778,
              "#fb9f3a"
             ],
             [
              0.8888888888888888,
              "#fdca26"
             ],
             [
              1,
              "#f0f921"
             ]
            ],
            "type": "histogram2d"
           }
          ],
          "histogram2dcontour": [
           {
            "colorbar": {
             "outlinewidth": 0,
             "ticks": ""
            },
            "colorscale": [
             [
              0,
              "#0d0887"
             ],
             [
              0.1111111111111111,
              "#46039f"
             ],
             [
              0.2222222222222222,
              "#7201a8"
             ],
             [
              0.3333333333333333,
              "#9c179e"
             ],
             [
              0.4444444444444444,
              "#bd3786"
             ],
             [
              0.5555555555555556,
              "#d8576b"
             ],
             [
              0.6666666666666666,
              "#ed7953"
             ],
             [
              0.7777777777777778,
              "#fb9f3a"
             ],
             [
              0.8888888888888888,
              "#fdca26"
             ],
             [
              1,
              "#f0f921"
             ]
            ],
            "type": "histogram2dcontour"
           }
          ],
          "mesh3d": [
           {
            "colorbar": {
             "outlinewidth": 0,
             "ticks": ""
            },
            "type": "mesh3d"
           }
          ],
          "parcoords": [
           {
            "line": {
             "colorbar": {
              "outlinewidth": 0,
              "ticks": ""
             }
            },
            "type": "parcoords"
           }
          ],
          "pie": [
           {
            "automargin": true,
            "type": "pie"
           }
          ],
          "scatter": [
           {
            "marker": {
             "colorbar": {
              "outlinewidth": 0,
              "ticks": ""
             }
            },
            "type": "scatter"
           }
          ],
          "scatter3d": [
           {
            "line": {
             "colorbar": {
              "outlinewidth": 0,
              "ticks": ""
             }
            },
            "marker": {
             "colorbar": {
              "outlinewidth": 0,
              "ticks": ""
             }
            },
            "type": "scatter3d"
           }
          ],
          "scattercarpet": [
           {
            "marker": {
             "colorbar": {
              "outlinewidth": 0,
              "ticks": ""
             }
            },
            "type": "scattercarpet"
           }
          ],
          "scattergeo": [
           {
            "marker": {
             "colorbar": {
              "outlinewidth": 0,
              "ticks": ""
             }
            },
            "type": "scattergeo"
           }
          ],
          "scattergl": [
           {
            "marker": {
             "colorbar": {
              "outlinewidth": 0,
              "ticks": ""
             }
            },
            "type": "scattergl"
           }
          ],
          "scattermapbox": [
           {
            "marker": {
             "colorbar": {
              "outlinewidth": 0,
              "ticks": ""
             }
            },
            "type": "scattermapbox"
           }
          ],
          "scatterpolar": [
           {
            "marker": {
             "colorbar": {
              "outlinewidth": 0,
              "ticks": ""
             }
            },
            "type": "scatterpolar"
           }
          ],
          "scatterpolargl": [
           {
            "marker": {
             "colorbar": {
              "outlinewidth": 0,
              "ticks": ""
             }
            },
            "type": "scatterpolargl"
           }
          ],
          "scatterternary": [
           {
            "marker": {
             "colorbar": {
              "outlinewidth": 0,
              "ticks": ""
             }
            },
            "type": "scatterternary"
           }
          ],
          "surface": [
           {
            "colorbar": {
             "outlinewidth": 0,
             "ticks": ""
            },
            "colorscale": [
             [
              0,
              "#0d0887"
             ],
             [
              0.1111111111111111,
              "#46039f"
             ],
             [
              0.2222222222222222,
              "#7201a8"
             ],
             [
              0.3333333333333333,
              "#9c179e"
             ],
             [
              0.4444444444444444,
              "#bd3786"
             ],
             [
              0.5555555555555556,
              "#d8576b"
             ],
             [
              0.6666666666666666,
              "#ed7953"
             ],
             [
              0.7777777777777778,
              "#fb9f3a"
             ],
             [
              0.8888888888888888,
              "#fdca26"
             ],
             [
              1,
              "#f0f921"
             ]
            ],
            "type": "surface"
           }
          ],
          "table": [
           {
            "cells": {
             "fill": {
              "color": "#EBF0F8"
             },
             "line": {
              "color": "white"
             }
            },
            "header": {
             "fill": {
              "color": "#C8D4E3"
             },
             "line": {
              "color": "white"
             }
            },
            "type": "table"
           }
          ]
         },
         "layout": {
          "annotationdefaults": {
           "arrowcolor": "#2a3f5f",
           "arrowhead": 0,
           "arrowwidth": 1
          },
          "coloraxis": {
           "colorbar": {
            "outlinewidth": 0,
            "ticks": ""
           }
          },
          "colorscale": {
           "diverging": [
            [
             0,
             "#8e0152"
            ],
            [
             0.1,
             "#c51b7d"
            ],
            [
             0.2,
             "#de77ae"
            ],
            [
             0.3,
             "#f1b6da"
            ],
            [
             0.4,
             "#fde0ef"
            ],
            [
             0.5,
             "#f7f7f7"
            ],
            [
             0.6,
             "#e6f5d0"
            ],
            [
             0.7,
             "#b8e186"
            ],
            [
             0.8,
             "#7fbc41"
            ],
            [
             0.9,
             "#4d9221"
            ],
            [
             1,
             "#276419"
            ]
           ],
           "sequential": [
            [
             0,
             "#0d0887"
            ],
            [
             0.1111111111111111,
             "#46039f"
            ],
            [
             0.2222222222222222,
             "#7201a8"
            ],
            [
             0.3333333333333333,
             "#9c179e"
            ],
            [
             0.4444444444444444,
             "#bd3786"
            ],
            [
             0.5555555555555556,
             "#d8576b"
            ],
            [
             0.6666666666666666,
             "#ed7953"
            ],
            [
             0.7777777777777778,
             "#fb9f3a"
            ],
            [
             0.8888888888888888,
             "#fdca26"
            ],
            [
             1,
             "#f0f921"
            ]
           ],
           "sequentialminus": [
            [
             0,
             "#0d0887"
            ],
            [
             0.1111111111111111,
             "#46039f"
            ],
            [
             0.2222222222222222,
             "#7201a8"
            ],
            [
             0.3333333333333333,
             "#9c179e"
            ],
            [
             0.4444444444444444,
             "#bd3786"
            ],
            [
             0.5555555555555556,
             "#d8576b"
            ],
            [
             0.6666666666666666,
             "#ed7953"
            ],
            [
             0.7777777777777778,
             "#fb9f3a"
            ],
            [
             0.8888888888888888,
             "#fdca26"
            ],
            [
             1,
             "#f0f921"
            ]
           ]
          },
          "colorway": [
           "#636efa",
           "#EF553B",
           "#00cc96",
           "#ab63fa",
           "#FFA15A",
           "#19d3f3",
           "#FF6692",
           "#B6E880",
           "#FF97FF",
           "#FECB52"
          ],
          "font": {
           "color": "#2a3f5f"
          },
          "geo": {
           "bgcolor": "white",
           "lakecolor": "white",
           "landcolor": "#E5ECF6",
           "showlakes": true,
           "showland": true,
           "subunitcolor": "white"
          },
          "hoverlabel": {
           "align": "left"
          },
          "hovermode": "closest",
          "mapbox": {
           "style": "light"
          },
          "paper_bgcolor": "white",
          "plot_bgcolor": "#E5ECF6",
          "polar": {
           "angularaxis": {
            "gridcolor": "white",
            "linecolor": "white",
            "ticks": ""
           },
           "bgcolor": "#E5ECF6",
           "radialaxis": {
            "gridcolor": "white",
            "linecolor": "white",
            "ticks": ""
           }
          },
          "scene": {
           "xaxis": {
            "backgroundcolor": "#E5ECF6",
            "gridcolor": "white",
            "gridwidth": 2,
            "linecolor": "white",
            "showbackground": true,
            "ticks": "",
            "zerolinecolor": "white"
           },
           "yaxis": {
            "backgroundcolor": "#E5ECF6",
            "gridcolor": "white",
            "gridwidth": 2,
            "linecolor": "white",
            "showbackground": true,
            "ticks": "",
            "zerolinecolor": "white"
           },
           "zaxis": {
            "backgroundcolor": "#E5ECF6",
            "gridcolor": "white",
            "gridwidth": 2,
            "linecolor": "white",
            "showbackground": true,
            "ticks": "",
            "zerolinecolor": "white"
           }
          },
          "shapedefaults": {
           "line": {
            "color": "#2a3f5f"
           }
          },
          "ternary": {
           "aaxis": {
            "gridcolor": "white",
            "linecolor": "white",
            "ticks": ""
           },
           "baxis": {
            "gridcolor": "white",
            "linecolor": "white",
            "ticks": ""
           },
           "bgcolor": "#E5ECF6",
           "caxis": {
            "gridcolor": "white",
            "linecolor": "white",
            "ticks": ""
           }
          },
          "title": {
           "x": 0.05
          },
          "xaxis": {
           "automargin": true,
           "gridcolor": "white",
           "linecolor": "white",
           "ticks": "",
           "title": {
            "standoff": 15
           },
           "zerolinecolor": "white",
           "zerolinewidth": 2
          },
          "yaxis": {
           "automargin": true,
           "gridcolor": "white",
           "linecolor": "white",
           "ticks": "",
           "title": {
            "standoff": 15
           },
           "zerolinecolor": "white",
           "zerolinewidth": 2
          }
         }
        },
        "xaxis": {
         "categoryorder": "total descending"
        }
       }
      },
      "text/html": [
       "<div>\n",
       "        \n",
       "        \n",
       "            <div id=\"9554db3d-8186-44a6-ae5b-50ad7663590b\" class=\"plotly-graph-div\" style=\"height:525px; width:100%;\"></div>\n",
       "            <script type=\"text/javascript\">\n",
       "                require([\"plotly\"], function(Plotly) {\n",
       "                    window.PLOTLYENV=window.PLOTLYENV || {};\n",
       "                    \n",
       "                if (document.getElementById(\"9554db3d-8186-44a6-ae5b-50ad7663590b\")) {\n",
       "                    Plotly.newPlot(\n",
       "                        '9554db3d-8186-44a6-ae5b-50ad7663590b',\n",
       "                        [{\"textposition\": \"auto\", \"type\": \"bar\", \"x\": [\"Occupational Therapists\", \"First-Line Supervisors of Non-Retail Sales Workers\", \"Postal Service Mail Carriers\", \"Physical Therapists\", \"Nurse Practitioners\", \"Mathematicians\", \"Nurse Midwives\", \"Registered Nurses\", \"Chief Executives\", \"Obstetricians and Gynecologists\", \"Title Examiners, Abstractors, and Searchers\", \"Radiologists\", \"Audiologists\", \"Anesthesiologists\", \"Statisticians\", \"Pediatricians, General\", \"Drywall and Ceiling Tile Installers\", \"Dermatologists\", \"Neurologists\", \"Dining Room and Cafeteria Attendants and Bartender Helpers\", \"Special Education Teachers, Middle School\", \"Surgical Technologists\", \"First-Line Supervisors of Retail Sales Workers\", \"Receptionists and Information Clerks\", \"First-Line Supervisors of Landscaping, Lawn Service, and Groundskeeping Workers\", \"Payroll and Timekeeping Clerks\", \"Nursing Assistants\", \"Ophthalmic Medical Technicians\", \"Special Education Teachers, Preschool\", \"Hosts and Hostesses, Restaurant, Lounge, and Coffee Shop\"], \"y\": [0.8463680094061421, 0.7884769774544764, 0.7728705392155439, 0.7613036809557487, 0.7542062888567377, 0.7514721751020317, 0.7476904461091176, 0.7383233562263706, 0.731201668044451, 0.7160692485576444]}],\n",
       "                        {\"barmode\": \"stack\", \"template\": {\"data\": {\"bar\": [{\"error_x\": {\"color\": \"#2a3f5f\"}, \"error_y\": {\"color\": \"#2a3f5f\"}, \"marker\": {\"line\": {\"color\": \"#E5ECF6\", \"width\": 0.5}}, \"type\": \"bar\"}], \"barpolar\": [{\"marker\": {\"line\": {\"color\": \"#E5ECF6\", \"width\": 0.5}}, \"type\": \"barpolar\"}], \"carpet\": [{\"aaxis\": {\"endlinecolor\": \"#2a3f5f\", \"gridcolor\": \"white\", \"linecolor\": \"white\", \"minorgridcolor\": \"white\", \"startlinecolor\": \"#2a3f5f\"}, \"baxis\": {\"endlinecolor\": \"#2a3f5f\", \"gridcolor\": \"white\", \"linecolor\": \"white\", \"minorgridcolor\": \"white\", \"startlinecolor\": \"#2a3f5f\"}, \"type\": \"carpet\"}], \"choropleth\": [{\"colorbar\": {\"outlinewidth\": 0, \"ticks\": \"\"}, \"type\": \"choropleth\"}], \"contour\": [{\"colorbar\": {\"outlinewidth\": 0, \"ticks\": \"\"}, \"colorscale\": [[0.0, \"#0d0887\"], [0.1111111111111111, \"#46039f\"], [0.2222222222222222, \"#7201a8\"], [0.3333333333333333, \"#9c179e\"], [0.4444444444444444, \"#bd3786\"], [0.5555555555555556, \"#d8576b\"], [0.6666666666666666, \"#ed7953\"], [0.7777777777777778, \"#fb9f3a\"], [0.8888888888888888, \"#fdca26\"], [1.0, \"#f0f921\"]], \"type\": \"contour\"}], \"contourcarpet\": [{\"colorbar\": {\"outlinewidth\": 0, \"ticks\": \"\"}, \"type\": \"contourcarpet\"}], \"heatmap\": [{\"colorbar\": {\"outlinewidth\": 0, \"ticks\": \"\"}, \"colorscale\": [[0.0, \"#0d0887\"], [0.1111111111111111, \"#46039f\"], [0.2222222222222222, \"#7201a8\"], [0.3333333333333333, \"#9c179e\"], [0.4444444444444444, \"#bd3786\"], [0.5555555555555556, \"#d8576b\"], [0.6666666666666666, \"#ed7953\"], [0.7777777777777778, \"#fb9f3a\"], [0.8888888888888888, \"#fdca26\"], [1.0, \"#f0f921\"]], \"type\": \"heatmap\"}], \"heatmapgl\": [{\"colorbar\": {\"outlinewidth\": 0, \"ticks\": \"\"}, \"colorscale\": [[0.0, \"#0d0887\"], [0.1111111111111111, \"#46039f\"], [0.2222222222222222, \"#7201a8\"], [0.3333333333333333, \"#9c179e\"], [0.4444444444444444, \"#bd3786\"], [0.5555555555555556, \"#d8576b\"], [0.6666666666666666, \"#ed7953\"], [0.7777777777777778, \"#fb9f3a\"], [0.8888888888888888, \"#fdca26\"], [1.0, \"#f0f921\"]], \"type\": \"heatmapgl\"}], \"histogram\": [{\"marker\": {\"colorbar\": {\"outlinewidth\": 0, \"ticks\": \"\"}}, \"type\": \"histogram\"}], \"histogram2d\": [{\"colorbar\": {\"outlinewidth\": 0, \"ticks\": \"\"}, \"colorscale\": [[0.0, \"#0d0887\"], [0.1111111111111111, \"#46039f\"], [0.2222222222222222, \"#7201a8\"], [0.3333333333333333, \"#9c179e\"], [0.4444444444444444, \"#bd3786\"], [0.5555555555555556, \"#d8576b\"], [0.6666666666666666, \"#ed7953\"], [0.7777777777777778, \"#fb9f3a\"], [0.8888888888888888, \"#fdca26\"], [1.0, \"#f0f921\"]], \"type\": \"histogram2d\"}], \"histogram2dcontour\": [{\"colorbar\": {\"outlinewidth\": 0, \"ticks\": \"\"}, \"colorscale\": [[0.0, \"#0d0887\"], [0.1111111111111111, \"#46039f\"], [0.2222222222222222, \"#7201a8\"], [0.3333333333333333, \"#9c179e\"], [0.4444444444444444, \"#bd3786\"], [0.5555555555555556, \"#d8576b\"], [0.6666666666666666, \"#ed7953\"], [0.7777777777777778, \"#fb9f3a\"], [0.8888888888888888, \"#fdca26\"], [1.0, \"#f0f921\"]], \"type\": \"histogram2dcontour\"}], \"mesh3d\": [{\"colorbar\": {\"outlinewidth\": 0, \"ticks\": \"\"}, \"type\": \"mesh3d\"}], \"parcoords\": [{\"line\": {\"colorbar\": {\"outlinewidth\": 0, \"ticks\": \"\"}}, \"type\": \"parcoords\"}], \"pie\": [{\"automargin\": true, \"type\": \"pie\"}], \"scatter\": [{\"marker\": {\"colorbar\": {\"outlinewidth\": 0, \"ticks\": \"\"}}, \"type\": \"scatter\"}], \"scatter3d\": [{\"line\": {\"colorbar\": {\"outlinewidth\": 0, \"ticks\": \"\"}}, \"marker\": {\"colorbar\": {\"outlinewidth\": 0, \"ticks\": \"\"}}, \"type\": \"scatter3d\"}], \"scattercarpet\": [{\"marker\": {\"colorbar\": {\"outlinewidth\": 0, \"ticks\": \"\"}}, \"type\": \"scattercarpet\"}], \"scattergeo\": [{\"marker\": {\"colorbar\": {\"outlinewidth\": 0, \"ticks\": \"\"}}, \"type\": \"scattergeo\"}], \"scattergl\": [{\"marker\": {\"colorbar\": {\"outlinewidth\": 0, \"ticks\": \"\"}}, \"type\": \"scattergl\"}], \"scattermapbox\": [{\"marker\": {\"colorbar\": {\"outlinewidth\": 0, \"ticks\": \"\"}}, \"type\": \"scattermapbox\"}], \"scatterpolar\": [{\"marker\": {\"colorbar\": {\"outlinewidth\": 0, \"ticks\": \"\"}}, \"type\": \"scatterpolar\"}], \"scatterpolargl\": [{\"marker\": {\"colorbar\": {\"outlinewidth\": 0, \"ticks\": \"\"}}, \"type\": \"scatterpolargl\"}], \"scatterternary\": [{\"marker\": {\"colorbar\": {\"outlinewidth\": 0, \"ticks\": \"\"}}, \"type\": \"scatterternary\"}], \"surface\": [{\"colorbar\": {\"outlinewidth\": 0, \"ticks\": \"\"}, \"colorscale\": [[0.0, \"#0d0887\"], [0.1111111111111111, \"#46039f\"], [0.2222222222222222, \"#7201a8\"], [0.3333333333333333, \"#9c179e\"], [0.4444444444444444, \"#bd3786\"], [0.5555555555555556, \"#d8576b\"], [0.6666666666666666, \"#ed7953\"], [0.7777777777777778, \"#fb9f3a\"], [0.8888888888888888, \"#fdca26\"], [1.0, \"#f0f921\"]], \"type\": \"surface\"}], \"table\": [{\"cells\": {\"fill\": {\"color\": \"#EBF0F8\"}, \"line\": {\"color\": \"white\"}}, \"header\": {\"fill\": {\"color\": \"#C8D4E3\"}, \"line\": {\"color\": \"white\"}}, \"type\": \"table\"}]}, \"layout\": {\"annotationdefaults\": {\"arrowcolor\": \"#2a3f5f\", \"arrowhead\": 0, \"arrowwidth\": 1}, \"coloraxis\": {\"colorbar\": {\"outlinewidth\": 0, \"ticks\": \"\"}}, \"colorscale\": {\"diverging\": [[0, \"#8e0152\"], [0.1, \"#c51b7d\"], [0.2, \"#de77ae\"], [0.3, \"#f1b6da\"], [0.4, \"#fde0ef\"], [0.5, \"#f7f7f7\"], [0.6, \"#e6f5d0\"], [0.7, \"#b8e186\"], [0.8, \"#7fbc41\"], [0.9, \"#4d9221\"], [1, \"#276419\"]], \"sequential\": [[0.0, \"#0d0887\"], [0.1111111111111111, \"#46039f\"], [0.2222222222222222, \"#7201a8\"], [0.3333333333333333, \"#9c179e\"], [0.4444444444444444, \"#bd3786\"], [0.5555555555555556, \"#d8576b\"], [0.6666666666666666, \"#ed7953\"], [0.7777777777777778, \"#fb9f3a\"], [0.8888888888888888, \"#fdca26\"], [1.0, \"#f0f921\"]], \"sequentialminus\": [[0.0, \"#0d0887\"], [0.1111111111111111, \"#46039f\"], [0.2222222222222222, \"#7201a8\"], [0.3333333333333333, \"#9c179e\"], [0.4444444444444444, \"#bd3786\"], [0.5555555555555556, \"#d8576b\"], [0.6666666666666666, \"#ed7953\"], [0.7777777777777778, \"#fb9f3a\"], [0.8888888888888888, \"#fdca26\"], [1.0, \"#f0f921\"]]}, \"colorway\": [\"#636efa\", \"#EF553B\", \"#00cc96\", \"#ab63fa\", \"#FFA15A\", \"#19d3f3\", \"#FF6692\", \"#B6E880\", \"#FF97FF\", \"#FECB52\"], \"font\": {\"color\": \"#2a3f5f\"}, \"geo\": {\"bgcolor\": \"white\", \"lakecolor\": \"white\", \"landcolor\": \"#E5ECF6\", \"showlakes\": true, \"showland\": true, \"subunitcolor\": \"white\"}, \"hoverlabel\": {\"align\": \"left\"}, \"hovermode\": \"closest\", \"mapbox\": {\"style\": \"light\"}, \"paper_bgcolor\": \"white\", \"plot_bgcolor\": \"#E5ECF6\", \"polar\": {\"angularaxis\": {\"gridcolor\": \"white\", \"linecolor\": \"white\", \"ticks\": \"\"}, \"bgcolor\": \"#E5ECF6\", \"radialaxis\": {\"gridcolor\": \"white\", \"linecolor\": \"white\", \"ticks\": \"\"}}, \"scene\": {\"xaxis\": {\"backgroundcolor\": \"#E5ECF6\", \"gridcolor\": \"white\", \"gridwidth\": 2, \"linecolor\": \"white\", \"showbackground\": true, \"ticks\": \"\", \"zerolinecolor\": \"white\"}, \"yaxis\": {\"backgroundcolor\": \"#E5ECF6\", \"gridcolor\": \"white\", \"gridwidth\": 2, \"linecolor\": \"white\", \"showbackground\": true, \"ticks\": \"\", \"zerolinecolor\": \"white\"}, \"zaxis\": {\"backgroundcolor\": \"#E5ECF6\", \"gridcolor\": \"white\", \"gridwidth\": 2, \"linecolor\": \"white\", \"showbackground\": true, \"ticks\": \"\", \"zerolinecolor\": \"white\"}}, \"shapedefaults\": {\"line\": {\"color\": \"#2a3f5f\"}}, \"ternary\": {\"aaxis\": {\"gridcolor\": \"white\", \"linecolor\": \"white\", \"ticks\": \"\"}, \"baxis\": {\"gridcolor\": \"white\", \"linecolor\": \"white\", \"ticks\": \"\"}, \"bgcolor\": \"#E5ECF6\", \"caxis\": {\"gridcolor\": \"white\", \"linecolor\": \"white\", \"ticks\": \"\"}}, \"title\": {\"x\": 0.05}, \"xaxis\": {\"automargin\": true, \"gridcolor\": \"white\", \"linecolor\": \"white\", \"ticks\": \"\", \"title\": {\"standoff\": 15}, \"zerolinecolor\": \"white\", \"zerolinewidth\": 2}, \"yaxis\": {\"automargin\": true, \"gridcolor\": \"white\", \"linecolor\": \"white\", \"ticks\": \"\", \"title\": {\"standoff\": 15}, \"zerolinecolor\": \"white\", \"zerolinewidth\": 2}}}, \"xaxis\": {\"categoryorder\": \"total descending\"}},\n",
       "                        {\"responsive\": true}\n",
       "                    ).then(function(){\n",
       "                            \n",
       "var gd = document.getElementById('9554db3d-8186-44a6-ae5b-50ad7663590b');\n",
       "var x = new MutationObserver(function (mutations, observer) {{\n",
       "        var display = window.getComputedStyle(gd).display;\n",
       "        if (!display || display === 'none') {{\n",
       "            console.log([gd, 'removed!']);\n",
       "            Plotly.purge(gd);\n",
       "            observer.disconnect();\n",
       "        }}\n",
       "}});\n",
       "\n",
       "// Listen for the removal of the full notebook cells\n",
       "var notebookContainer = gd.closest('#notebook-container');\n",
       "if (notebookContainer) {{\n",
       "    x.observe(notebookContainer, {childList: true});\n",
       "}}\n",
       "\n",
       "// Listen for the clearing of the current output cell\n",
       "var outputEl = gd.closest('.output');\n",
       "if (outputEl) {{\n",
       "    x.observe(outputEl, {childList: true});\n",
       "}}\n",
       "\n",
       "                        })\n",
       "                };\n",
       "                });\n",
       "            </script>\n",
       "        </div>"
      ]
     },
     "metadata": {},
     "output_type": "display_data"
    }
   ],
   "source": [
    "distribution(occ_alg2)"
   ]
  },
  {
   "cell_type": "code",
   "execution_count": 81,
   "metadata": {},
   "outputs": [],
   "source": []
  },
  {
   "cell_type": "code",
   "execution_count": 94,
   "metadata": {},
   "outputs": [
    {
     "data": {
      "application/vnd.plotly.v1+json": {
       "config": {
        "plotlyServerURL": "https://plot.ly"
       },
       "data": [
        {
         "textposition": "auto",
         "type": "bar",
         "x": [
          "Occupational Therapists",
          "First-Line Supervisors of Non-Retail Sales Workers",
          "Audiologists",
          "Postal Service Mail Carriers",
          "Medical Assistants",
          "Statisticians",
          "General and Operations Managers",
          "Physical Therapists",
          "Special Education Teachers, Preschool",
          "First-Line Supervisors of Landscaping, Lawn Service, and Groundskeeping Workers",
          "First-Line Supervisors of Retail Sales Workers",
          "Special Education Teachers, Middle School",
          "Nursing Assistants",
          "Registered Nurses",
          "Mathematicians",
          "Psychiatric Aides",
          "Aerospace Engineers",
          "Electronics Engineers, Except Computer",
          "Agricultural Engineers",
          "First-Line Supervisors of Housekeeping and Janitorial Workers",
          "Preschool Teachers, Except Special Education",
          "Kindergarten Teachers, Except Special Education",
          "Loan Officers",
          "Historians",
          "Special Education Teachers, Secondary School",
          "Probation Officers and Correctional Treatment Specialists",
          "Elementary School Teachers, Except Special Education",
          "Political Scientists",
          "Postmasters and Mail Superintendents",
          "Secondary School Teachers, Except Special and Career/Technical Education"
         ],
         "y": [
          0.7847689809054984,
          0.7808291765321062,
          0.7681047684717363,
          0.7579109757666532,
          0.7004638747006047,
          0.6938966056219658,
          0.692031199586451,
          0.6604809228028046,
          0.6586534462179016,
          0.6494921027919859
         ]
        }
       ],
       "layout": {
        "barmode": "stack",
        "template": {
         "data": {
          "bar": [
           {
            "error_x": {
             "color": "#2a3f5f"
            },
            "error_y": {
             "color": "#2a3f5f"
            },
            "marker": {
             "line": {
              "color": "#E5ECF6",
              "width": 0.5
             }
            },
            "type": "bar"
           }
          ],
          "barpolar": [
           {
            "marker": {
             "line": {
              "color": "#E5ECF6",
              "width": 0.5
             }
            },
            "type": "barpolar"
           }
          ],
          "carpet": [
           {
            "aaxis": {
             "endlinecolor": "#2a3f5f",
             "gridcolor": "white",
             "linecolor": "white",
             "minorgridcolor": "white",
             "startlinecolor": "#2a3f5f"
            },
            "baxis": {
             "endlinecolor": "#2a3f5f",
             "gridcolor": "white",
             "linecolor": "white",
             "minorgridcolor": "white",
             "startlinecolor": "#2a3f5f"
            },
            "type": "carpet"
           }
          ],
          "choropleth": [
           {
            "colorbar": {
             "outlinewidth": 0,
             "ticks": ""
            },
            "type": "choropleth"
           }
          ],
          "contour": [
           {
            "colorbar": {
             "outlinewidth": 0,
             "ticks": ""
            },
            "colorscale": [
             [
              0,
              "#0d0887"
             ],
             [
              0.1111111111111111,
              "#46039f"
             ],
             [
              0.2222222222222222,
              "#7201a8"
             ],
             [
              0.3333333333333333,
              "#9c179e"
             ],
             [
              0.4444444444444444,
              "#bd3786"
             ],
             [
              0.5555555555555556,
              "#d8576b"
             ],
             [
              0.6666666666666666,
              "#ed7953"
             ],
             [
              0.7777777777777778,
              "#fb9f3a"
             ],
             [
              0.8888888888888888,
              "#fdca26"
             ],
             [
              1,
              "#f0f921"
             ]
            ],
            "type": "contour"
           }
          ],
          "contourcarpet": [
           {
            "colorbar": {
             "outlinewidth": 0,
             "ticks": ""
            },
            "type": "contourcarpet"
           }
          ],
          "heatmap": [
           {
            "colorbar": {
             "outlinewidth": 0,
             "ticks": ""
            },
            "colorscale": [
             [
              0,
              "#0d0887"
             ],
             [
              0.1111111111111111,
              "#46039f"
             ],
             [
              0.2222222222222222,
              "#7201a8"
             ],
             [
              0.3333333333333333,
              "#9c179e"
             ],
             [
              0.4444444444444444,
              "#bd3786"
             ],
             [
              0.5555555555555556,
              "#d8576b"
             ],
             [
              0.6666666666666666,
              "#ed7953"
             ],
             [
              0.7777777777777778,
              "#fb9f3a"
             ],
             [
              0.8888888888888888,
              "#fdca26"
             ],
             [
              1,
              "#f0f921"
             ]
            ],
            "type": "heatmap"
           }
          ],
          "heatmapgl": [
           {
            "colorbar": {
             "outlinewidth": 0,
             "ticks": ""
            },
            "colorscale": [
             [
              0,
              "#0d0887"
             ],
             [
              0.1111111111111111,
              "#46039f"
             ],
             [
              0.2222222222222222,
              "#7201a8"
             ],
             [
              0.3333333333333333,
              "#9c179e"
             ],
             [
              0.4444444444444444,
              "#bd3786"
             ],
             [
              0.5555555555555556,
              "#d8576b"
             ],
             [
              0.6666666666666666,
              "#ed7953"
             ],
             [
              0.7777777777777778,
              "#fb9f3a"
             ],
             [
              0.8888888888888888,
              "#fdca26"
             ],
             [
              1,
              "#f0f921"
             ]
            ],
            "type": "heatmapgl"
           }
          ],
          "histogram": [
           {
            "marker": {
             "colorbar": {
              "outlinewidth": 0,
              "ticks": ""
             }
            },
            "type": "histogram"
           }
          ],
          "histogram2d": [
           {
            "colorbar": {
             "outlinewidth": 0,
             "ticks": ""
            },
            "colorscale": [
             [
              0,
              "#0d0887"
             ],
             [
              0.1111111111111111,
              "#46039f"
             ],
             [
              0.2222222222222222,
              "#7201a8"
             ],
             [
              0.3333333333333333,
              "#9c179e"
             ],
             [
              0.4444444444444444,
              "#bd3786"
             ],
             [
              0.5555555555555556,
              "#d8576b"
             ],
             [
              0.6666666666666666,
              "#ed7953"
             ],
             [
              0.7777777777777778,
              "#fb9f3a"
             ],
             [
              0.8888888888888888,
              "#fdca26"
             ],
             [
              1,
              "#f0f921"
             ]
            ],
            "type": "histogram2d"
           }
          ],
          "histogram2dcontour": [
           {
            "colorbar": {
             "outlinewidth": 0,
             "ticks": ""
            },
            "colorscale": [
             [
              0,
              "#0d0887"
             ],
             [
              0.1111111111111111,
              "#46039f"
             ],
             [
              0.2222222222222222,
              "#7201a8"
             ],
             [
              0.3333333333333333,
              "#9c179e"
             ],
             [
              0.4444444444444444,
              "#bd3786"
             ],
             [
              0.5555555555555556,
              "#d8576b"
             ],
             [
              0.6666666666666666,
              "#ed7953"
             ],
             [
              0.7777777777777778,
              "#fb9f3a"
             ],
             [
              0.8888888888888888,
              "#fdca26"
             ],
             [
              1,
              "#f0f921"
             ]
            ],
            "type": "histogram2dcontour"
           }
          ],
          "mesh3d": [
           {
            "colorbar": {
             "outlinewidth": 0,
             "ticks": ""
            },
            "type": "mesh3d"
           }
          ],
          "parcoords": [
           {
            "line": {
             "colorbar": {
              "outlinewidth": 0,
              "ticks": ""
             }
            },
            "type": "parcoords"
           }
          ],
          "pie": [
           {
            "automargin": true,
            "type": "pie"
           }
          ],
          "scatter": [
           {
            "marker": {
             "colorbar": {
              "outlinewidth": 0,
              "ticks": ""
             }
            },
            "type": "scatter"
           }
          ],
          "scatter3d": [
           {
            "line": {
             "colorbar": {
              "outlinewidth": 0,
              "ticks": ""
             }
            },
            "marker": {
             "colorbar": {
              "outlinewidth": 0,
              "ticks": ""
             }
            },
            "type": "scatter3d"
           }
          ],
          "scattercarpet": [
           {
            "marker": {
             "colorbar": {
              "outlinewidth": 0,
              "ticks": ""
             }
            },
            "type": "scattercarpet"
           }
          ],
          "scattergeo": [
           {
            "marker": {
             "colorbar": {
              "outlinewidth": 0,
              "ticks": ""
             }
            },
            "type": "scattergeo"
           }
          ],
          "scattergl": [
           {
            "marker": {
             "colorbar": {
              "outlinewidth": 0,
              "ticks": ""
             }
            },
            "type": "scattergl"
           }
          ],
          "scattermapbox": [
           {
            "marker": {
             "colorbar": {
              "outlinewidth": 0,
              "ticks": ""
             }
            },
            "type": "scattermapbox"
           }
          ],
          "scatterpolar": [
           {
            "marker": {
             "colorbar": {
              "outlinewidth": 0,
              "ticks": ""
             }
            },
            "type": "scatterpolar"
           }
          ],
          "scatterpolargl": [
           {
            "marker": {
             "colorbar": {
              "outlinewidth": 0,
              "ticks": ""
             }
            },
            "type": "scatterpolargl"
           }
          ],
          "scatterternary": [
           {
            "marker": {
             "colorbar": {
              "outlinewidth": 0,
              "ticks": ""
             }
            },
            "type": "scatterternary"
           }
          ],
          "surface": [
           {
            "colorbar": {
             "outlinewidth": 0,
             "ticks": ""
            },
            "colorscale": [
             [
              0,
              "#0d0887"
             ],
             [
              0.1111111111111111,
              "#46039f"
             ],
             [
              0.2222222222222222,
              "#7201a8"
             ],
             [
              0.3333333333333333,
              "#9c179e"
             ],
             [
              0.4444444444444444,
              "#bd3786"
             ],
             [
              0.5555555555555556,
              "#d8576b"
             ],
             [
              0.6666666666666666,
              "#ed7953"
             ],
             [
              0.7777777777777778,
              "#fb9f3a"
             ],
             [
              0.8888888888888888,
              "#fdca26"
             ],
             [
              1,
              "#f0f921"
             ]
            ],
            "type": "surface"
           }
          ],
          "table": [
           {
            "cells": {
             "fill": {
              "color": "#EBF0F8"
             },
             "line": {
              "color": "white"
             }
            },
            "header": {
             "fill": {
              "color": "#C8D4E3"
             },
             "line": {
              "color": "white"
             }
            },
            "type": "table"
           }
          ]
         },
         "layout": {
          "annotationdefaults": {
           "arrowcolor": "#2a3f5f",
           "arrowhead": 0,
           "arrowwidth": 1
          },
          "coloraxis": {
           "colorbar": {
            "outlinewidth": 0,
            "ticks": ""
           }
          },
          "colorscale": {
           "diverging": [
            [
             0,
             "#8e0152"
            ],
            [
             0.1,
             "#c51b7d"
            ],
            [
             0.2,
             "#de77ae"
            ],
            [
             0.3,
             "#f1b6da"
            ],
            [
             0.4,
             "#fde0ef"
            ],
            [
             0.5,
             "#f7f7f7"
            ],
            [
             0.6,
             "#e6f5d0"
            ],
            [
             0.7,
             "#b8e186"
            ],
            [
             0.8,
             "#7fbc41"
            ],
            [
             0.9,
             "#4d9221"
            ],
            [
             1,
             "#276419"
            ]
           ],
           "sequential": [
            [
             0,
             "#0d0887"
            ],
            [
             0.1111111111111111,
             "#46039f"
            ],
            [
             0.2222222222222222,
             "#7201a8"
            ],
            [
             0.3333333333333333,
             "#9c179e"
            ],
            [
             0.4444444444444444,
             "#bd3786"
            ],
            [
             0.5555555555555556,
             "#d8576b"
            ],
            [
             0.6666666666666666,
             "#ed7953"
            ],
            [
             0.7777777777777778,
             "#fb9f3a"
            ],
            [
             0.8888888888888888,
             "#fdca26"
            ],
            [
             1,
             "#f0f921"
            ]
           ],
           "sequentialminus": [
            [
             0,
             "#0d0887"
            ],
            [
             0.1111111111111111,
             "#46039f"
            ],
            [
             0.2222222222222222,
             "#7201a8"
            ],
            [
             0.3333333333333333,
             "#9c179e"
            ],
            [
             0.4444444444444444,
             "#bd3786"
            ],
            [
             0.5555555555555556,
             "#d8576b"
            ],
            [
             0.6666666666666666,
             "#ed7953"
            ],
            [
             0.7777777777777778,
             "#fb9f3a"
            ],
            [
             0.8888888888888888,
             "#fdca26"
            ],
            [
             1,
             "#f0f921"
            ]
           ]
          },
          "colorway": [
           "#636efa",
           "#EF553B",
           "#00cc96",
           "#ab63fa",
           "#FFA15A",
           "#19d3f3",
           "#FF6692",
           "#B6E880",
           "#FF97FF",
           "#FECB52"
          ],
          "font": {
           "color": "#2a3f5f"
          },
          "geo": {
           "bgcolor": "white",
           "lakecolor": "white",
           "landcolor": "#E5ECF6",
           "showlakes": true,
           "showland": true,
           "subunitcolor": "white"
          },
          "hoverlabel": {
           "align": "left"
          },
          "hovermode": "closest",
          "mapbox": {
           "style": "light"
          },
          "paper_bgcolor": "white",
          "plot_bgcolor": "#E5ECF6",
          "polar": {
           "angularaxis": {
            "gridcolor": "white",
            "linecolor": "white",
            "ticks": ""
           },
           "bgcolor": "#E5ECF6",
           "radialaxis": {
            "gridcolor": "white",
            "linecolor": "white",
            "ticks": ""
           }
          },
          "scene": {
           "xaxis": {
            "backgroundcolor": "#E5ECF6",
            "gridcolor": "white",
            "gridwidth": 2,
            "linecolor": "white",
            "showbackground": true,
            "ticks": "",
            "zerolinecolor": "white"
           },
           "yaxis": {
            "backgroundcolor": "#E5ECF6",
            "gridcolor": "white",
            "gridwidth": 2,
            "linecolor": "white",
            "showbackground": true,
            "ticks": "",
            "zerolinecolor": "white"
           },
           "zaxis": {
            "backgroundcolor": "#E5ECF6",
            "gridcolor": "white",
            "gridwidth": 2,
            "linecolor": "white",
            "showbackground": true,
            "ticks": "",
            "zerolinecolor": "white"
           }
          },
          "shapedefaults": {
           "line": {
            "color": "#2a3f5f"
           }
          },
          "ternary": {
           "aaxis": {
            "gridcolor": "white",
            "linecolor": "white",
            "ticks": ""
           },
           "baxis": {
            "gridcolor": "white",
            "linecolor": "white",
            "ticks": ""
           },
           "bgcolor": "#E5ECF6",
           "caxis": {
            "gridcolor": "white",
            "linecolor": "white",
            "ticks": ""
           }
          },
          "title": {
           "x": 0.05
          },
          "xaxis": {
           "automargin": true,
           "gridcolor": "white",
           "linecolor": "white",
           "ticks": "",
           "title": {
            "standoff": 15
           },
           "zerolinecolor": "white",
           "zerolinewidth": 2
          },
          "yaxis": {
           "automargin": true,
           "gridcolor": "white",
           "linecolor": "white",
           "ticks": "",
           "title": {
            "standoff": 15
           },
           "zerolinecolor": "white",
           "zerolinewidth": 2
          }
         }
        },
        "xaxis": {
         "categoryorder": "total descending"
        }
       }
      },
      "text/html": [
       "<div>\n",
       "        \n",
       "        \n",
       "            <div id=\"6a29bbc5-2de1-4f85-9a00-462133599973\" class=\"plotly-graph-div\" style=\"height:525px; width:100%;\"></div>\n",
       "            <script type=\"text/javascript\">\n",
       "                require([\"plotly\"], function(Plotly) {\n",
       "                    window.PLOTLYENV=window.PLOTLYENV || {};\n",
       "                    \n",
       "                if (document.getElementById(\"6a29bbc5-2de1-4f85-9a00-462133599973\")) {\n",
       "                    Plotly.newPlot(\n",
       "                        '6a29bbc5-2de1-4f85-9a00-462133599973',\n",
       "                        [{\"textposition\": \"auto\", \"type\": \"bar\", \"x\": [\"Occupational Therapists\", \"First-Line Supervisors of Non-Retail Sales Workers\", \"Audiologists\", \"Postal Service Mail Carriers\", \"Medical Assistants\", \"Statisticians\", \"General and Operations Managers\", \"Physical Therapists\", \"Special Education Teachers, Preschool\", \"First-Line Supervisors of Landscaping, Lawn Service, and Groundskeeping Workers\", \"First-Line Supervisors of Retail Sales Workers\", \"Special Education Teachers, Middle School\", \"Nursing Assistants\", \"Registered Nurses\", \"Mathematicians\", \"Psychiatric Aides\", \"Aerospace Engineers\", \"Electronics Engineers, Except Computer\", \"Agricultural Engineers\", \"First-Line Supervisors of Housekeeping and Janitorial Workers\", \"Preschool Teachers, Except Special Education\", \"Kindergarten Teachers, Except Special Education\", \"Loan Officers\", \"Historians\", \"Special Education Teachers, Secondary School\", \"Probation Officers and Correctional Treatment Specialists\", \"Elementary School Teachers, Except Special Education\", \"Political Scientists\", \"Postmasters and Mail Superintendents\", \"Secondary School Teachers, Except Special and Career/Technical Education\"], \"y\": [0.7847689809054984, 0.7808291765321062, 0.7681047684717363, 0.7579109757666532, 0.7004638747006047, 0.6938966056219658, 0.692031199586451, 0.6604809228028046, 0.6586534462179016, 0.6494921027919859]}],\n",
       "                        {\"barmode\": \"stack\", \"template\": {\"data\": {\"bar\": [{\"error_x\": {\"color\": \"#2a3f5f\"}, \"error_y\": {\"color\": \"#2a3f5f\"}, \"marker\": {\"line\": {\"color\": \"#E5ECF6\", \"width\": 0.5}}, \"type\": \"bar\"}], \"barpolar\": [{\"marker\": {\"line\": {\"color\": \"#E5ECF6\", \"width\": 0.5}}, \"type\": \"barpolar\"}], \"carpet\": [{\"aaxis\": {\"endlinecolor\": \"#2a3f5f\", \"gridcolor\": \"white\", \"linecolor\": \"white\", \"minorgridcolor\": \"white\", \"startlinecolor\": \"#2a3f5f\"}, \"baxis\": {\"endlinecolor\": \"#2a3f5f\", \"gridcolor\": \"white\", \"linecolor\": \"white\", \"minorgridcolor\": \"white\", \"startlinecolor\": \"#2a3f5f\"}, \"type\": \"carpet\"}], \"choropleth\": [{\"colorbar\": {\"outlinewidth\": 0, \"ticks\": \"\"}, \"type\": \"choropleth\"}], \"contour\": [{\"colorbar\": {\"outlinewidth\": 0, \"ticks\": \"\"}, \"colorscale\": [[0.0, \"#0d0887\"], [0.1111111111111111, \"#46039f\"], [0.2222222222222222, \"#7201a8\"], [0.3333333333333333, \"#9c179e\"], [0.4444444444444444, \"#bd3786\"], [0.5555555555555556, \"#d8576b\"], [0.6666666666666666, \"#ed7953\"], [0.7777777777777778, \"#fb9f3a\"], [0.8888888888888888, \"#fdca26\"], [1.0, \"#f0f921\"]], \"type\": \"contour\"}], \"contourcarpet\": [{\"colorbar\": {\"outlinewidth\": 0, \"ticks\": \"\"}, \"type\": \"contourcarpet\"}], \"heatmap\": [{\"colorbar\": {\"outlinewidth\": 0, \"ticks\": \"\"}, \"colorscale\": [[0.0, \"#0d0887\"], [0.1111111111111111, \"#46039f\"], [0.2222222222222222, \"#7201a8\"], [0.3333333333333333, \"#9c179e\"], [0.4444444444444444, \"#bd3786\"], [0.5555555555555556, \"#d8576b\"], [0.6666666666666666, \"#ed7953\"], [0.7777777777777778, \"#fb9f3a\"], [0.8888888888888888, \"#fdca26\"], [1.0, \"#f0f921\"]], \"type\": \"heatmap\"}], \"heatmapgl\": [{\"colorbar\": {\"outlinewidth\": 0, \"ticks\": \"\"}, \"colorscale\": [[0.0, \"#0d0887\"], [0.1111111111111111, \"#46039f\"], [0.2222222222222222, \"#7201a8\"], [0.3333333333333333, \"#9c179e\"], [0.4444444444444444, \"#bd3786\"], [0.5555555555555556, \"#d8576b\"], [0.6666666666666666, \"#ed7953\"], [0.7777777777777778, \"#fb9f3a\"], [0.8888888888888888, \"#fdca26\"], [1.0, \"#f0f921\"]], \"type\": \"heatmapgl\"}], \"histogram\": [{\"marker\": {\"colorbar\": {\"outlinewidth\": 0, \"ticks\": \"\"}}, \"type\": \"histogram\"}], \"histogram2d\": [{\"colorbar\": {\"outlinewidth\": 0, \"ticks\": \"\"}, \"colorscale\": [[0.0, \"#0d0887\"], [0.1111111111111111, \"#46039f\"], [0.2222222222222222, \"#7201a8\"], [0.3333333333333333, \"#9c179e\"], [0.4444444444444444, \"#bd3786\"], [0.5555555555555556, \"#d8576b\"], [0.6666666666666666, \"#ed7953\"], [0.7777777777777778, \"#fb9f3a\"], [0.8888888888888888, \"#fdca26\"], [1.0, \"#f0f921\"]], \"type\": \"histogram2d\"}], \"histogram2dcontour\": [{\"colorbar\": {\"outlinewidth\": 0, \"ticks\": \"\"}, \"colorscale\": [[0.0, \"#0d0887\"], [0.1111111111111111, \"#46039f\"], [0.2222222222222222, \"#7201a8\"], [0.3333333333333333, \"#9c179e\"], [0.4444444444444444, \"#bd3786\"], [0.5555555555555556, \"#d8576b\"], [0.6666666666666666, \"#ed7953\"], [0.7777777777777778, \"#fb9f3a\"], [0.8888888888888888, \"#fdca26\"], [1.0, \"#f0f921\"]], \"type\": \"histogram2dcontour\"}], \"mesh3d\": [{\"colorbar\": {\"outlinewidth\": 0, \"ticks\": \"\"}, \"type\": \"mesh3d\"}], \"parcoords\": [{\"line\": {\"colorbar\": {\"outlinewidth\": 0, \"ticks\": \"\"}}, \"type\": \"parcoords\"}], \"pie\": [{\"automargin\": true, \"type\": \"pie\"}], \"scatter\": [{\"marker\": {\"colorbar\": {\"outlinewidth\": 0, \"ticks\": \"\"}}, \"type\": \"scatter\"}], \"scatter3d\": [{\"line\": {\"colorbar\": {\"outlinewidth\": 0, \"ticks\": \"\"}}, \"marker\": {\"colorbar\": {\"outlinewidth\": 0, \"ticks\": \"\"}}, \"type\": \"scatter3d\"}], \"scattercarpet\": [{\"marker\": {\"colorbar\": {\"outlinewidth\": 0, \"ticks\": \"\"}}, \"type\": \"scattercarpet\"}], \"scattergeo\": [{\"marker\": {\"colorbar\": {\"outlinewidth\": 0, \"ticks\": \"\"}}, \"type\": \"scattergeo\"}], \"scattergl\": [{\"marker\": {\"colorbar\": {\"outlinewidth\": 0, \"ticks\": \"\"}}, \"type\": \"scattergl\"}], \"scattermapbox\": [{\"marker\": {\"colorbar\": {\"outlinewidth\": 0, \"ticks\": \"\"}}, \"type\": \"scattermapbox\"}], \"scatterpolar\": [{\"marker\": {\"colorbar\": {\"outlinewidth\": 0, \"ticks\": \"\"}}, \"type\": \"scatterpolar\"}], \"scatterpolargl\": [{\"marker\": {\"colorbar\": {\"outlinewidth\": 0, \"ticks\": \"\"}}, \"type\": \"scatterpolargl\"}], \"scatterternary\": [{\"marker\": {\"colorbar\": {\"outlinewidth\": 0, \"ticks\": \"\"}}, \"type\": \"scatterternary\"}], \"surface\": [{\"colorbar\": {\"outlinewidth\": 0, \"ticks\": \"\"}, \"colorscale\": [[0.0, \"#0d0887\"], [0.1111111111111111, \"#46039f\"], [0.2222222222222222, \"#7201a8\"], [0.3333333333333333, \"#9c179e\"], [0.4444444444444444, \"#bd3786\"], [0.5555555555555556, \"#d8576b\"], [0.6666666666666666, \"#ed7953\"], [0.7777777777777778, \"#fb9f3a\"], [0.8888888888888888, \"#fdca26\"], [1.0, \"#f0f921\"]], \"type\": \"surface\"}], \"table\": [{\"cells\": {\"fill\": {\"color\": \"#EBF0F8\"}, \"line\": {\"color\": \"white\"}}, \"header\": {\"fill\": {\"color\": \"#C8D4E3\"}, \"line\": {\"color\": \"white\"}}, \"type\": \"table\"}]}, \"layout\": {\"annotationdefaults\": {\"arrowcolor\": \"#2a3f5f\", \"arrowhead\": 0, \"arrowwidth\": 1}, \"coloraxis\": {\"colorbar\": {\"outlinewidth\": 0, \"ticks\": \"\"}}, \"colorscale\": {\"diverging\": [[0, \"#8e0152\"], [0.1, \"#c51b7d\"], [0.2, \"#de77ae\"], [0.3, \"#f1b6da\"], [0.4, \"#fde0ef\"], [0.5, \"#f7f7f7\"], [0.6, \"#e6f5d0\"], [0.7, \"#b8e186\"], [0.8, \"#7fbc41\"], [0.9, \"#4d9221\"], [1, \"#276419\"]], \"sequential\": [[0.0, \"#0d0887\"], [0.1111111111111111, \"#46039f\"], [0.2222222222222222, \"#7201a8\"], [0.3333333333333333, \"#9c179e\"], [0.4444444444444444, \"#bd3786\"], [0.5555555555555556, \"#d8576b\"], [0.6666666666666666, \"#ed7953\"], [0.7777777777777778, \"#fb9f3a\"], [0.8888888888888888, \"#fdca26\"], [1.0, \"#f0f921\"]], \"sequentialminus\": [[0.0, \"#0d0887\"], [0.1111111111111111, \"#46039f\"], [0.2222222222222222, \"#7201a8\"], [0.3333333333333333, \"#9c179e\"], [0.4444444444444444, \"#bd3786\"], [0.5555555555555556, \"#d8576b\"], [0.6666666666666666, \"#ed7953\"], [0.7777777777777778, \"#fb9f3a\"], [0.8888888888888888, \"#fdca26\"], [1.0, \"#f0f921\"]]}, \"colorway\": [\"#636efa\", \"#EF553B\", \"#00cc96\", \"#ab63fa\", \"#FFA15A\", \"#19d3f3\", \"#FF6692\", \"#B6E880\", \"#FF97FF\", \"#FECB52\"], \"font\": {\"color\": \"#2a3f5f\"}, \"geo\": {\"bgcolor\": \"white\", \"lakecolor\": \"white\", \"landcolor\": \"#E5ECF6\", \"showlakes\": true, \"showland\": true, \"subunitcolor\": \"white\"}, \"hoverlabel\": {\"align\": \"left\"}, \"hovermode\": \"closest\", \"mapbox\": {\"style\": \"light\"}, \"paper_bgcolor\": \"white\", \"plot_bgcolor\": \"#E5ECF6\", \"polar\": {\"angularaxis\": {\"gridcolor\": \"white\", \"linecolor\": \"white\", \"ticks\": \"\"}, \"bgcolor\": \"#E5ECF6\", \"radialaxis\": {\"gridcolor\": \"white\", \"linecolor\": \"white\", \"ticks\": \"\"}}, \"scene\": {\"xaxis\": {\"backgroundcolor\": \"#E5ECF6\", \"gridcolor\": \"white\", \"gridwidth\": 2, \"linecolor\": \"white\", \"showbackground\": true, \"ticks\": \"\", \"zerolinecolor\": \"white\"}, \"yaxis\": {\"backgroundcolor\": \"#E5ECF6\", \"gridcolor\": \"white\", \"gridwidth\": 2, \"linecolor\": \"white\", \"showbackground\": true, \"ticks\": \"\", \"zerolinecolor\": \"white\"}, \"zaxis\": {\"backgroundcolor\": \"#E5ECF6\", \"gridcolor\": \"white\", \"gridwidth\": 2, \"linecolor\": \"white\", \"showbackground\": true, \"ticks\": \"\", \"zerolinecolor\": \"white\"}}, \"shapedefaults\": {\"line\": {\"color\": \"#2a3f5f\"}}, \"ternary\": {\"aaxis\": {\"gridcolor\": \"white\", \"linecolor\": \"white\", \"ticks\": \"\"}, \"baxis\": {\"gridcolor\": \"white\", \"linecolor\": \"white\", \"ticks\": \"\"}, \"bgcolor\": \"#E5ECF6\", \"caxis\": {\"gridcolor\": \"white\", \"linecolor\": \"white\", \"ticks\": \"\"}}, \"title\": {\"x\": 0.05}, \"xaxis\": {\"automargin\": true, \"gridcolor\": \"white\", \"linecolor\": \"white\", \"ticks\": \"\", \"title\": {\"standoff\": 15}, \"zerolinecolor\": \"white\", \"zerolinewidth\": 2}, \"yaxis\": {\"automargin\": true, \"gridcolor\": \"white\", \"linecolor\": \"white\", \"ticks\": \"\", \"title\": {\"standoff\": 15}, \"zerolinecolor\": \"white\", \"zerolinewidth\": 2}}}, \"xaxis\": {\"categoryorder\": \"total descending\"}},\n",
       "                        {\"responsive\": true}\n",
       "                    ).then(function(){\n",
       "                            \n",
       "var gd = document.getElementById('6a29bbc5-2de1-4f85-9a00-462133599973');\n",
       "var x = new MutationObserver(function (mutations, observer) {{\n",
       "        var display = window.getComputedStyle(gd).display;\n",
       "        if (!display || display === 'none') {{\n",
       "            console.log([gd, 'removed!']);\n",
       "            Plotly.purge(gd);\n",
       "            observer.disconnect();\n",
       "        }}\n",
       "}});\n",
       "\n",
       "// Listen for the removal of the full notebook cells\n",
       "var notebookContainer = gd.closest('#notebook-container');\n",
       "if (notebookContainer) {{\n",
       "    x.observe(notebookContainer, {childList: true});\n",
       "}}\n",
       "\n",
       "// Listen for the clearing of the current output cell\n",
       "var outputEl = gd.closest('.output');\n",
       "if (outputEl) {{\n",
       "    x.observe(outputEl, {childList: true});\n",
       "}}\n",
       "\n",
       "                        })\n",
       "                };\n",
       "                });\n",
       "            </script>\n",
       "        </div>"
      ]
     },
     "metadata": {},
     "output_type": "display_data"
    }
   ],
   "source": [
    "distribution(occ_interest)"
   ]
  },
  {
   "cell_type": "code",
   "execution_count": null,
   "metadata": {},
   "outputs": [],
   "source": []
  },
  {
   "cell_type": "code",
   "execution_count": null,
   "metadata": {},
   "outputs": [],
   "source": []
  }
 ],
 "metadata": {
  "kernelspec": {
   "display_name": "Python 3",
   "language": "python",
   "name": "python3"
  },
  "language_info": {
   "codemirror_mode": {
    "name": "ipython",
    "version": 3
   },
   "file_extension": ".py",
   "mimetype": "text/x-python",
   "name": "python",
   "nbconvert_exporter": "python",
   "pygments_lexer": "ipython3",
   "version": "3.7.6"
  }
 },
 "nbformat": 4,
 "nbformat_minor": 4
}
