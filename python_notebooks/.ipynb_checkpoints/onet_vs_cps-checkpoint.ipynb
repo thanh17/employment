{
 "cells": [
  {
   "cell_type": "code",
   "execution_count": null,
   "metadata": {},
   "outputs": [],
   "source": [
    "import pandas as pd\n",
    "import random as rnd \n",
    "import mysql.connector\n",
    "from mysql.connector import Error\n",
    "import plotly\n",
    "import json\n",
    "import csv\n",
    "import seaborn as sns\n",
    "import matplotlib.pyplot as plt\n",
    "import numpy as np\n",
    "import pymysql\n",
    "import plotly.express as px\n",
    "import plotly.graph_objects as go\n",
    "from sqlalchemy import create_engine\n",
    "import networkx as nx\n",
    "from networkx_viewer import Viewer\n",
    "from functools import reduce\n",
    "from scipy.spatial.distance import pdist, squareform\n",
    "import jgraph\n",
    "from cyjupyter import Cytoscape\n",
    "from scipy.stats import kendalltau\n",
    "from scipy.stats import weightedtau"
   ]
  },
  {
   "cell_type": "markdown",
   "metadata": {},
   "source": [
    "# Getting data from SQL database"
   ]
  },
  {
   "cell_type": "code",
   "execution_count": null,
   "metadata": {},
   "outputs": [],
   "source": [
    "connection = mysql.connector.connect(host='127.0.0.1',\n",
    "                                         database='employment',\n",
    "                                         user='root',\n",
    "                                         password='thanhn123')"
   ]
  },
  {
   "cell_type": "code",
   "execution_count": null,
   "metadata": {},
   "outputs": [],
   "source": [
    "def get_data(connection, descriptor_domain,filt = False,val = None):\n",
    "    '''\n",
    "    Return df in the SOCs-decriptor format of a specific domain \n",
    "    descriptor_domeain:\n",
    "        work context\n",
    "        knowledge\n",
    "        skills\n",
    "        gwas\n",
    "        job_zones, filter\n",
    "        Abilities, filter\n",
    "    \n",
    "    '''\n",
    "    df= pd.DataFrame(data=None)\n",
    "    if descriptor_domain == 'work_context':\n",
    "        df= pd.read_sql('''\n",
    "            SELECT title, element_name, data_value FROM employment.work_context\n",
    "            LEFT JOIN employment.content_model_reference USING (element_id) \n",
    "            LEFT JOIN employment.occupation_data USING (onetsoc_code)\n",
    "            WHERE scale_id LIKE 'CX';''', con = connection)\n",
    "        df = df.reset_index().pivot(index = 'title', columns = 'element_name', values = 'data_value')\n",
    "    elif descriptor_domain == 'job_zones':\n",
    "        if filt:\n",
    "            df= pd.read_sql('''\n",
    "                SELECT title,job_zone FROM employment.job_zones\n",
    "                LEFT JOIN employment.occupation_data USING (onetsoc_code); ''', con = connection)\n",
    "            df = df[df['job_zone'].isin(val)]\n",
    "        else:\n",
    "            df= pd.read_sql('''\n",
    "                SELECT title,job_zone FROM employment.job_zones\n",
    "                LEFT JOIN employment.occupation_data USING (onetsoc_code);''', con = connection)\n",
    "    elif descriptor_domain == 'abilities':\n",
    "        if filt:\n",
    "#             df= pd.read_sql('''\n",
    "#             SELECT title, element_name, element_id,data_value FROM employment.''' + descriptor_domain + '''\n",
    "#             LEFT JOIN employment.content_model_reference USING (element_id) \n",
    "#             LEFT JOIN employment.occupation_data USING (onetsoc_code); ''', con = connection)\n",
    "#             df = df[df['element_id'].contains(val)]\n",
    "            df= pd.read_sql('''\n",
    "            SELECT title, element_name, data_value FROM employment.''' + descriptor_domain + '''\n",
    "            LEFT JOIN employment.content_model_reference USING (element_id) \n",
    "            LEFT JOIN employment.occupation_data USING (onetsoc_code)\n",
    "            WHERE element_id LIKE\\''''+ val +'''%\\'; ''', con = connection)\n",
    "            \n",
    "        else:\n",
    "            df= pd.read_sql('''\n",
    "            SELECT title, element_name,element_id, data_value FROM employment.''' + descriptor_domain + '''\n",
    "            LEFT JOIN employment.content_model_reference USING (element_id) \n",
    "            LEFT JOIN employment.occupation_data USING (onetsoc_code);''', con = connection)\n",
    "        df = df.groupby(by=['title','element_name'])['data_value'].mean()\n",
    "        df = df.reset_index().pivot(index = 'title', columns = 'element_name', values = 'data_value')\n",
    "    elif descriptor_domain == 'work_values':\n",
    "        df= pd.read_sql('''\n",
    "            SELECT title, element_name, data_value FROM employment.work_values\n",
    "            LEFT JOIN employment.content_model_reference USING (element_id) \n",
    "            LEFT JOIN employment.occupation_data USING (onetsoc_code)\n",
    "            WHERE scale_id LIKE 'EX';''', con = connection)\n",
    "        df = df.reset_index().pivot(index = 'title', columns = 'element_name', values = 'data_value')\n",
    "    elif descriptor_domain == 'interests':\n",
    "        df= pd.read_sql('''\n",
    "            SELECT title, element_name, data_value FROM employment.interests\n",
    "            LEFT JOIN employment.content_model_reference USING (element_id) \n",
    "            LEFT JOIN employment.occupation_data USING (onetsoc_code)\n",
    "            WHERE scale_id LIKE 'OI';''', con = connection)\n",
    "        df = df.reset_index().pivot(index = 'title', columns = 'element_name', values = 'data_value')\n",
    "    elif descriptor_domain == 'work_styles':\n",
    "        df= pd.read_sql('''\n",
    "            SELECT title, element_name, data_value FROM employment.work_styles\n",
    "            LEFT JOIN employment.content_model_reference USING (element_id) \n",
    "            LEFT JOIN employment.occupation_data USING (onetsoc_code)\n",
    "            WHERE scale_id LIKE 'IM';''', con = connection)\n",
    "        df = df.reset_index().pivot(index = 'title', columns = 'element_name', values = 'data_value')\n",
    "    elif descriptor_domain == 'name':\n",
    "        df= pd.read_sql('''\n",
    "            SELECT * FROM employment.occupation_data;''', con = connection)\n",
    "    else:\n",
    "        df= pd.read_sql('''\n",
    "            SELECT title, element_name, data_value FROM employment.''' + descriptor_domain + '''\n",
    "            LEFT JOIN employment.content_model_reference USING (element_id) \n",
    "            LEFT JOIN employment.occupation_data USING (onetsoc_code);''', con = connection)\n",
    "        df = df.groupby(by=['title','element_name'])['data_value'].mean()\n",
    "        df = df.reset_index().pivot(index = 'title', columns = 'element_name', values = 'data_value')\n",
    "    return df"
   ]
  },
  {
   "cell_type": "markdown",
   "metadata": {},
   "source": [
    "# Finding distance measures from ONET "
   ]
  },
  {
   "cell_type": "code",
   "execution_count": null,
   "metadata": {},
   "outputs": [],
   "source": [
    "def distance_table(df, jz=False):\n",
    "    \n",
    "#     squareform(pdist(df.iloc[:, 1:])), columns=df.title.unique(), index=df.title.unique()\n",
    "    dist = []\n",
    "    name_dict = {}\n",
    "    if jz:\n",
    "        name_dict = df['title'].sort_values().reset_index()['title'].to_dict()\n",
    "        dist = pdist(df[df.columns[1:]],'euclidean')\n",
    "    else:\n",
    "        for i in range(len(df.index)):\n",
    "            name_dict[i] = df.index[i]\n",
    "        dist = pdist(df,'euclidean') #Euclidean distance for 1XN\n",
    "    df_dist = pd.DataFrame(squareform(dist)) #Euclidean distance for NxN\n",
    "#     return df_dist\n",
    "    columns = list(df_dist.index) \n",
    "    for i in range(len(df.index)): #convert 0 values to NaN\n",
    "        df_dist.loc[i,i] = np.NaN\n",
    "    mean = df_dist.mean().mean()\n",
    "    std = df_dist.stack().std() \n",
    "\n",
    "    for col in columns: #Z-score calculated \n",
    "        df_dist[col] = (df_dist[col] - mean)/std\n",
    "#     return df_dist\n",
    "    return df_dist.rename(columns = name_dict, index = name_dict)"
   ]
  },
  {
   "cell_type": "code",
   "execution_count": null,
   "metadata": {},
   "outputs": [],
   "source": [
    "# Get CPS data"
   ]
  },
  {
   "cell_type": "code",
   "execution_count": null,
   "metadata": {},
   "outputs": [],
   "source": [
    "df_cps = pd.read_csv('../CPS Job Changes/JobChanges_2011to19.csv')"
   ]
  },
  {
   "cell_type": "code",
   "execution_count": null,
   "metadata": {
    "scrolled": false
   },
   "outputs": [],
   "source": [
    "df_cps.sort_values(by = 'pct_tot', ascending = False)"
   ]
  },
  {
   "cell_type": "markdown",
   "metadata": {},
   "source": [
    "## Skills "
   ]
  },
  {
   "cell_type": "code",
   "execution_count": null,
   "metadata": {},
   "outputs": [],
   "source": [
    "df_skills = get_data(connection,'skills')\n",
    "df_skills\n",
    "\n",
    "skills_dist = distance_table(df_skills)\n",
    "skills_dist"
   ]
  },
  {
   "cell_type": "code",
   "execution_count": null,
   "metadata": {},
   "outputs": [],
   "source": [
    "skills_dist.loc['Retail Salespersons'].sort_values()[0:10]"
   ]
  },
  {
   "cell_type": "code",
   "execution_count": null,
   "metadata": {},
   "outputs": [],
   "source": []
  },
  {
   "cell_type": "markdown",
   "metadata": {},
   "source": [
    "### Percentages"
   ]
  },
  {
   "cell_type": "code",
   "execution_count": null,
   "metadata": {
    "scrolled": false
   },
   "outputs": [],
   "source": [
    "cps_retail_pct = df_cps[df_cps['ONET18_Title_LY'] == 'Registered Nurses'].sort_values(by = 'pct_tot', ascending = False)\n",
    "# cps_retail_pct[cps_retail_pct['ONET18_Title'] == 'Cashiers']['pct_tot']\n",
    "# cps_retail_pct[0:10]['pct_tot'].sum()\n",
    "cps_retail_pct"
   ]
  },
  {
   "cell_type": "code",
   "execution_count": null,
   "metadata": {},
   "outputs": [],
   "source": [
    "def percentage_default(occ,df_cps,a,b):\n",
    "    df_occ = df_cps[df_cps['ONET18_Title_LY'] == occ].sort_values(by = 'pct_socly', ascending = False)\n",
    "    return df_occ[a:b]['pct_socly'].sum()"
   ]
  },
  {
   "cell_type": "code",
   "execution_count": null,
   "metadata": {},
   "outputs": [],
   "source": [
    "retail_default = percentage_default('Retail Salespersons',df_cps,0,10)"
   ]
  },
  {
   "cell_type": "code",
   "execution_count": null,
   "metadata": {},
   "outputs": [],
   "source": [
    "nurse_default = percentage_default('Registered Nurses',df_cps,0,10)"
   ]
  },
  {
   "cell_type": "code",
   "execution_count": null,
   "metadata": {},
   "outputs": [],
   "source": [
    "janitors_default = percentage_default('Janitors and Cleaners, Except Maids and Housekeeping Cleaners',df_cps,0,10)"
   ]
  },
  {
   "cell_type": "code",
   "execution_count": null,
   "metadata": {},
   "outputs": [],
   "source": [
    "sales_default = percentage_default('Sales Managers',df_cps,0,10)"
   ]
  },
  {
   "cell_type": "code",
   "execution_count": null,
   "metadata": {},
   "outputs": [],
   "source": [
    "def percentage(occ,df_onet,df_cps,a,b):\n",
    "    '''\n",
    "    Get total percentage that ONET transition takes ups\n",
    "    @param occ occupation of interests\n",
    "    @param df_onet dataFrame for ONET\n",
    "    @param df_cps dataFrame for CPS data\n",
    "    @param a index of first position for onet\n",
    "    @param index of last position\n",
    "    \n",
    "    return the percentage composition for the ath to bth place of ONET\n",
    "    '''\n",
    "    \n",
    "    total = 0\n",
    "    onet_list = df_onet.loc[occ].sort_values()[a:b].index.to_list()\n",
    "    cps_occ = df_cps[df_cps['ONET18_Title_LY'] == occ]\n",
    "    for occ in onet_list:\n",
    "#         print(occ)\n",
    "#         print(cps_occ[cps_occ['ONET18_Title'] == occ]['pct_tot'].values[0])\n",
    "        val = cps_occ[cps_occ['ONET18_Title'] == occ]['pct_socly'].values\n",
    "        if len(val) == 0:\n",
    "            continue\n",
    "        else:\n",
    "            total += val[0]\n",
    "    \n",
    "    return total\n"
   ]
  },
  {
   "cell_type": "code",
   "execution_count": null,
   "metadata": {
    "scrolled": true
   },
   "outputs": [],
   "source": [
    "retail_skills = percentage('Retail Salespersons',skills_dist,df_cps,0,10)\n",
    "print(retail_default)\n",
    "print(retail_skills)\n",
    "print(retail_skills/retail_default*100)"
   ]
  },
  {
   "cell_type": "code",
   "execution_count": null,
   "metadata": {
    "scrolled": true
   },
   "outputs": [],
   "source": [
    "nurse_skills = percentage('Registered Nurses',skills_dist,df_cps,0,10)\n",
    "print(nurse_default)\n",
    "print(nurse_skills)\n",
    "print(nurse_skills/nurse_default*100)"
   ]
  },
  {
   "cell_type": "code",
   "execution_count": null,
   "metadata": {
    "scrolled": true
   },
   "outputs": [],
   "source": [
    "janitors_skills = percentage('Janitors and Cleaners, Except Maids and Housekeeping Cleaners',skills_dist,df_cps,0,10)\n",
    "print(janitors_default)\n",
    "print(janitors_skills)\n",
    "print(janitors_skills/janitors_default*100)"
   ]
  },
  {
   "cell_type": "code",
   "execution_count": null,
   "metadata": {},
   "outputs": [],
   "source": [
    "sales_skills = percentage('Sales Managers',skills_dist,df_cps,0,10)\n",
    "print(janitors_default)\n",
    "print(sales_skills)\n",
    "print(sales_skills/sales_default*100)"
   ]
  },
  {
   "cell_type": "markdown",
   "metadata": {},
   "source": [
    "## ONET Regular"
   ]
  },
  {
   "cell_type": "code",
   "execution_count": null,
   "metadata": {},
   "outputs": [],
   "source": [
    "df_ab = get_data(connection,'abilities')\n",
    "df_in = get_data(connection,'interests')\n",
    "df_ws = get_data(connection,'work_styles')\n",
    "df_wv = get_data(connection, 'work_values')\n",
    "df_wc = get_data(connection,'work_context')\n",
    "df_knowledge = get_data(connection,'knowledge')\n",
    "df_gwas = get_data(connection,'work_activities')\n",
    "df_jz = get_data(connection,'job_zones')\n",
    "df_jz = df_jz[df_jz['title'] != 'Legislators']\n"
   ]
  },
  {
   "cell_type": "code",
   "execution_count": null,
   "metadata": {},
   "outputs": [],
   "source": [
    "wc_dist = distance_table(df_wc)\n",
    "knowledge_dist = distance_table(df_knowledge)\n",
    "skills_dist = distance_table(df_skills)\n",
    "gwas_dist = distance_table(df_gwas)\n",
    "jz_dist = distance_table(df_jz,True)\n",
    "wv_dist = distance_table(df_wv)\n",
    "in_dist = distance_table(df_in)\n",
    "ab_dist = distance_table(df_ab)\n",
    "ws_dist = distance_table(df_ws)\n",
    "df_concat = pd.concat([wc_dist,knowledge_dist,skills_dist,gwas_dist,jz_dist.multiply(1.3)]).groupby(level =0).mean()\n",
    "# df_concat"
   ]
  },
  {
   "cell_type": "code",
   "execution_count": null,
   "metadata": {},
   "outputs": [],
   "source": [
    "retail_onet = percentage('Retail Salespersons',df_concat,df_cps,0,10)\n",
    "print(retail_default)\n",
    "print(retail_onet)\n",
    "print(retail_onet/retail_default*100)"
   ]
  },
  {
   "cell_type": "code",
   "execution_count": null,
   "metadata": {},
   "outputs": [],
   "source": [
    "nurse_onet = percentage('Registered Nurses',df_concat,df_cps,0,10)\n",
    "print(nurse_default)\n",
    "print(nurse_onet)\n",
    "print(nurse_onet/nurse_default*100)"
   ]
  },
  {
   "cell_type": "code",
   "execution_count": null,
   "metadata": {
    "scrolled": true
   },
   "outputs": [],
   "source": [
    "janitors_onet = percentage('Janitors and Cleaners, Except Maids and Housekeeping Cleaners',df_concat,df_cps,0,10)\n",
    "print(janitors_default)\n",
    "print(janitors_onet)\n",
    "print(janitors_onet/janitors_default*100)"
   ]
  },
  {
   "cell_type": "code",
   "execution_count": null,
   "metadata": {},
   "outputs": [],
   "source": [
    "sales_onet = percentage('Sales Managers',df_concat,df_cps,0,10)\n",
    "print(sales_default)\n",
    "print(sales_onet)\n",
    "print(sales_onet/sales_default*100)"
   ]
  },
  {
   "cell_type": "code",
   "execution_count": null,
   "metadata": {},
   "outputs": [],
   "source": [
    "## ONET Custom"
   ]
  },
  {
   "cell_type": "code",
   "execution_count": null,
   "metadata": {},
   "outputs": [],
   "source": [
    "def filt(df,d):\n",
    "    '''\n",
    "    @params: df: Dataframe to filter, d: set of all relevant names\n",
    "    @returns: filtered Dataframe\n",
    "    '''\n",
    "    return df.loc[df.index.isin(d)]"
   ]
  },
  {
   "cell_type": "code",
   "execution_count": null,
   "metadata": {},
   "outputs": [],
   "source": []
  },
  {
   "cell_type": "code",
   "execution_count": null,
   "metadata": {},
   "outputs": [],
   "source": [
    "# df_rel = pd.concat([knowledge_dist.multiply(2),skills_dist.multiply(3),gwas_dist]).groupby(level =0).mean()\n",
    "# df_jz_filt = get_data(connection,'job_zones',True,[2])\n",
    "df_jz_filt = get_data(connection,'job_zones')\n",
    "# df_ab_filt = get_data(connection,'abilities',True,'1.A.1.')\n",
    "df_ab_filt = get_data(connection,'abilities')\n",
    "# jz_dist_filt = distance_table(df_jz_filt,True)\n",
    "jz_set = set(df_jz_filt['title'].unique()) #to filter out same job_zones jobs"
   ]
  },
  {
   "cell_type": "code",
   "execution_count": null,
   "metadata": {},
   "outputs": [],
   "source": [
    "abilities_filtered = filt(df_ab_filt,jz_set)\n",
    "skills_filtered = filt(df_skills,jz_set)\n",
    "knowledge_filtered = filt(df_knowledge,jz_set)\n",
    "in_filtered = filt(df_in,jz_set)\n",
    "gwas_filtered = filt(df_gwas,jz_set)"
   ]
  },
  {
   "cell_type": "code",
   "execution_count": null,
   "metadata": {},
   "outputs": [],
   "source": [
    "ab_dist_filt = distance_table(abilities_filtered) #NaN?\n",
    "skills_dist_filt = distance_table(skills_filtered)\n",
    "knowledge_dist_filt = distance_table(knowledge_filtered)\n",
    "in_dist_filt = distance_table(in_filtered)\n",
    "gwas_dist_filt = distance_table(gwas_filtered)\n",
    "df_concat_filt = pd.concat([ab_dist_filt.multiply(4.0),skills_dist_filt.multiply(3.0),knowledge_dist_filt.multiply(2.0),in_dist_filt,gwas_dist_filt]).groupby(level =0).mean()"
   ]
  },
  {
   "cell_type": "code",
   "execution_count": null,
   "metadata": {
    "scrolled": true
   },
   "outputs": [],
   "source": [
    "retail_alg1 = percentage('Retail Salespersons',df_concat_filt,df_cps,0,10)\n",
    "print(retail_default)\n",
    "print(retail_alg1)\n",
    "print(retail_alg1/retail_default*100)"
   ]
  },
  {
   "cell_type": "code",
   "execution_count": null,
   "metadata": {
    "scrolled": true
   },
   "outputs": [],
   "source": [
    "nurse_alg1 = percentage('Registered Nurses',df_concat_filt,df_cps,0,10)\n",
    "print(nurse_default)\n",
    "print(nurse_alg1)\n",
    "print(nurse_alg1/nurse_default*100)"
   ]
  },
  {
   "cell_type": "code",
   "execution_count": null,
   "metadata": {
    "scrolled": true
   },
   "outputs": [],
   "source": [
    "janitor_alg1 = percentage('Janitors and Cleaners, Except Maids and Housekeeping Cleaners',df_concat_filt,df_cps,0,10)\n",
    "print(janitors_default)\n",
    "print(janitor_alg1)\n",
    "print(janitor_alg1/janitors_default*100)"
   ]
  },
  {
   "cell_type": "code",
   "execution_count": null,
   "metadata": {},
   "outputs": [],
   "source": [
    "sales_alg1 = percentage('Sales Managers',df_concat_filt,df_cps,0,10)\n",
    "print(sales_default)\n",
    "print(sales_alg1)\n",
    "print(sales_alg1/sales_default*100)"
   ]
  },
  {
   "cell_type": "markdown",
   "metadata": {},
   "source": [
    "## Comparison using Kendall Tau"
   ]
  },
  {
   "cell_type": "code",
   "execution_count": null,
   "metadata": {},
   "outputs": [],
   "source": [
    "# kendalltau([1,2,3,4,5], [1,2,3,4,5])\n",
    "kendalltau([1,2,3,4,5], [2,1,3,4,5])"
   ]
  },
  {
   "cell_type": "code",
   "execution_count": null,
   "metadata": {},
   "outputs": [],
   "source": [
    "kendalltau([1,2,3,4,5], [1,2,3,5,4])"
   ]
  },
  {
   "cell_type": "code",
   "execution_count": null,
   "metadata": {},
   "outputs": [],
   "source": [
    "weightedtau([1,2,3,4,5], [2,1,3,4,5])"
   ]
  },
  {
   "cell_type": "code",
   "execution_count": null,
   "metadata": {},
   "outputs": [],
   "source": [
    "weightedtau([1,2,3,4,5], [1,2,3,5,4])"
   ]
  },
  {
   "cell_type": "code",
   "execution_count": null,
   "metadata": {},
   "outputs": [],
   "source": [
    "list_cps = df_cps[df_cps['ONET18_Title_LY'] == 'Retail Salespersons'].sort_values(by = 'pct_tot', ascending = False)['ONET18_Title']\n",
    "list_cps= list_cps.to_list()[0:50]\n",
    "list_onet = skills_dist.loc['Retail Salespersons'].sort_values().index.to_list()[0:50]\n",
    "# cps_array = np.array(list_cps).astype(float)\n"
   ]
  },
  {
   "cell_type": "code",
   "execution_count": null,
   "metadata": {},
   "outputs": [],
   "source": []
  },
  {
   "cell_type": "code",
   "execution_count": null,
   "metadata": {
    "scrolled": true
   },
   "outputs": [],
   "source": [
    "# weightedtau(list_cps, list_onet)"
   ]
  },
  {
   "cell_type": "code",
   "execution_count": null,
   "metadata": {},
   "outputs": [],
   "source": [
    "def kendall_tau_rank(df_cps,df_onet,a,b,occ):\n",
    "    list_cps = df_cps[df_cps['ONET18_Title_LY'] == occ].sort_values(by = 'pct_tot', ascending = False)['ONET18_Title']\n",
    "    list_cps= list_cps.to_list()[a:b]\n",
    "    list_onet = df_onet.loc[occ].sort_values().index.to_list()[a:b]\n",
    "    \n",
    "    return kendalltau(list_cps, list_onet)"
   ]
  },
  {
   "cell_type": "code",
   "execution_count": null,
   "metadata": {},
   "outputs": [],
   "source": [
    "kendall_tau_rank(df_cps,skills_dist,0,50,'Sales Managers')"
   ]
  },
  {
   "cell_type": "code",
   "execution_count": null,
   "metadata": {},
   "outputs": [],
   "source": [
    "kendall_tau_rank(df_cps,skills_dist,0,50,'Retail Salespersons')"
   ]
  },
  {
   "cell_type": "code",
   "execution_count": null,
   "metadata": {
    "scrolled": true
   },
   "outputs": [],
   "source": [
    "#find all occupations that are in both cps and onet\n",
    "cps_occ = set(df_cps['ONET18_Title_LY'].unique())\n",
    "onet_occ = set(df_skills.index.unique())\n",
    "\n",
    "relevant_occ = cps_occ & onet_occ\n",
    "relevant_occ"
   ]
  },
  {
   "cell_type": "code",
   "execution_count": null,
   "metadata": {},
   "outputs": [],
   "source": [
    "skills_dist\n",
    "df_concat\n",
    "df_concat_filt = pd.concat([skills_dist_filt.multiply(3.0),knowledge_dist_filt.multiply(2.0),in_dist_filt,gwas_dist_filt]).groupby(level =0).mean()\n",
    "df_new = pd.concat([skills_dist_filt.multiply(1.3),knowledge_dist_filt.multiply(1.2),in_dist_filt,gwas_dist_filt]).groupby(level =0).mean()"
   ]
  },
  {
   "cell_type": "code",
   "execution_count": null,
   "metadata": {},
   "outputs": [],
   "source": [
    "avg_occ = 0\n",
    "count = 0\n",
    "occ_max = ''\n",
    "max_r = 0\n",
    "occ_min = ''\n",
    "min_r = 1\n",
    "\n",
    "for occ in relevant_occ:\n",
    "    cps_len = len(df_cps[df_cps['ONET18_Title_LY'] == occ].sort_values(by = 'pct_tot', ascending = False)['ONET18_Title'])\n",
    "    if cps_len > 50:\n",
    "        corr, p = kendall_tau_rank(df_cps,df_new,0,50,occ)\n",
    "        count += 1 \n",
    "        avg_occ += corr\n",
    "        if corr >= max_r: \n",
    "            occ_max = occ\n",
    "            max_r = corr\n",
    "        if corr <= min_r: \n",
    "            occ_min = occ\n",
    "            min_r = corr\n",
    "print(avg_occ/count)\n",
    "print(count)\n",
    "print(occ_max, max_r)\n",
    "print(occ_min, min_r)"
   ]
  },
  {
   "cell_type": "code",
   "execution_count": null,
   "metadata": {},
   "outputs": [],
   "source": [
    "# df_cps[df_cps['ONET18_Title_LY'] == 'Etchers and Engravers'].sort_values(by = 'pct_tot', ascending = False)['ONET18_Title']\n",
    "# df_cps"
   ]
  },
  {
   "cell_type": "code",
   "execution_count": null,
   "metadata": {},
   "outputs": [],
   "source": [
    "skills_dist\n",
    "df_concat\n",
    "df_concat_filt = pd.concat([skills_dist_filt.multiply(3.0),knowledge_dist_filt.multiply(2.0),in_dist_filt,gwas_dist_filt]).groupby(level =0).mean()\n",
    "df_new = pd.concat([skills_dist_filt.multiply(1.3),knowledge_dist_filt.multiply(1.2),in_dist_filt,gwas_dist_filt]).groupby(level =0).mean()\n",
    "df_test = pd.concat([skills_dist_filt.multiply(1.3),knowledge_dist_filt.multiply(1.2),in_dist_filt,gwas_dist_filt]).groupby(level =0).mean()\n"
   ]
  },
  {
   "cell_type": "code",
   "execution_count": null,
   "metadata": {},
   "outputs": [],
   "source": [
    "# avg_occ = 0\n",
    "# count = 0\n",
    "# occ_max = ''\n",
    "# max_r = 0\n",
    "# occ_min = ''\n",
    "# min_r = 1\n",
    "\n",
    "# cov_max = ''\n",
    "# max_c = 0\n",
    "# cov_min = ''\n",
    "# min_c = 1\n",
    "\n",
    "# # occ_dictionary = {}\n",
    "# occ_dictionary_skills = {}\n",
    "# for occ in relevant_occ:\n",
    "#     cps_len = len(df_cps[df_cps['ONET18_Title_LY'] == occ].sort_values(by = 'pct_tot', ascending = False)['ONET18_Title'])\n",
    "#     if cps_len > 50:\n",
    "#         n = percentage(occ,skills_dist,df_cps,0,50)\n",
    "#         d = percentage_default(occ,df_cps,0,50)\n",
    "#         perc = n/d\n",
    "#         count += 1 \n",
    "#         avg_occ += perc\n",
    "#         occ_dictionary_skills[occ] = perc\n",
    "#         if n >= max_c:\n",
    "#             cov_max =occ\n",
    "#             max_c = n \n",
    "#         if n <= max_c:\n",
    "#             cov_min =occ\n",
    "#             min_c = n  \n",
    "#         if perc >= max_r: \n",
    "#             occ_max = occ\n",
    "#             max_r = perc\n",
    "#         if perc <= min_r: \n",
    "#             occ_min = occ\n",
    "#             min_r = perc\n",
    "# print(100*avg_occ/count)\n",
    "# print(count)\n",
    "# print(occ_max, 100*max_r)\n",
    "# print(occ_min, min_r)\n",
    "# print(cov_max, max_c)\n",
    "# print(cov_min, min_c)"
   ]
  },
  {
   "cell_type": "code",
   "execution_count": null,
   "metadata": {},
   "outputs": [],
   "source": [
    "def percentage_coverage(df_onet,df_cps):\n",
    "    avg_occ = 0\n",
    "    count = 0\n",
    "    occ_max = ''\n",
    "    max_r = 0\n",
    "    occ_min = ''\n",
    "    min_r = 1\n",
    "\n",
    "    cov_max = ''\n",
    "    max_c = 0\n",
    "    cov_min = ''\n",
    "    min_c = 1\n",
    "    \n",
    "    cps_occ = set(df_cps['ONET18_Title_LY'].unique())\n",
    "    onet_occ = set(df_onet.index.unique())\n",
    "\n",
    "    relevant_occ = cps_occ & onet_occ\n",
    "    occ_dictionary = {}\n",
    "    for occ in relevant_occ:\n",
    "        cps_len = len(df_cps[df_cps['ONET18_Title_LY'] == occ]['ONET18_Title'])\n",
    "        if cps_len > 10:\n",
    "            n = percentage(occ,df_onet,df_cps,0,10)\n",
    "            d = percentage_default(occ,df_cps,0,10)\n",
    "            perc = n/d\n",
    "            count += 1 \n",
    "            avg_occ += perc\n",
    "            occ_dictionary[occ] = perc\n",
    "            if n >= max_c:\n",
    "                cov_max =occ\n",
    "                max_c = n \n",
    "            if n <= max_c:\n",
    "                cov_min =occ\n",
    "                min_c = n  \n",
    "            if perc >= max_r: \n",
    "                occ_max = occ\n",
    "                max_r = perc\n",
    "            if perc <= min_r: \n",
    "                occ_min = occ\n",
    "                min_r = perc\n",
    "    print(100*avg_occ/count)\n",
    "    print(count)\n",
    "    print(occ_max, 100*max_r)\n",
    "    print(occ_min, min_r)\n",
    "    print(cov_max, max_c)\n",
    "    print(cov_min, min_c)\n",
    "    \n",
    "    return occ_dictionary"
   ]
  },
  {
   "cell_type": "code",
   "execution_count": null,
   "metadata": {},
   "outputs": [],
   "source": [
    "# kendalltau([1,2,3,4,5], [5,4,3,2,1])"
   ]
  },
  {
   "cell_type": "code",
   "execution_count": null,
   "metadata": {},
   "outputs": [],
   "source": [
    "# kendalltau([1,2,3,4,5], [6,8,8,9,10])"
   ]
  },
  {
   "cell_type": "code",
   "execution_count": null,
   "metadata": {},
   "outputs": [],
   "source": [
    "wc_dist \n",
    "knowledge_dist\n",
    "skills_dist \n",
    "gwas_dist \n",
    "jz_dist \n",
    "wv_dist \n",
    "in_dist \n",
    "ab_dist \n",
    "ws_dist"
   ]
  },
  {
   "cell_type": "code",
   "execution_count": null,
   "metadata": {
    "scrolled": false
   },
   "outputs": [],
   "source": [
    "# print(\"ONET default\")\n",
    "# occ_default = percentage_coverage(df_concat,df_cps)\n",
    "# print(\"Algo 1\")\n",
    "# occ_alg1 = percentage_coverage(df_concat_filt,df_cps)\n",
    "# print(\"algo 2\")\n",
    "# occ_alg2 = percentage_coverage(df_new,df_cps)\n",
    "\n",
    "# print(\"skills\")\n",
    "# occ_skills = percentage_coverage(skills_dist,df_cps)\n",
    "# print(\"work context\")\n",
    "# occ_wc = percentage_coverage(wc_dist,df_cps)\n",
    "# print(\"knowledge\")\n",
    "# occ_knowledge = percentage_coverage(knowledge_dist,df_cps)\n",
    "# print(\"genral work activities\")\n",
    "# occ_gwa = percentage_coverage(gwas_dist,df_cps)\n",
    "# print(\"work value\")\n",
    "# occ_wv = percentage_coverage(wv_dist,df_cps)\n",
    "# print(\"interest\")\n",
    "# occ_in = percentage_coverage(in_dist,df_cps)\n",
    "# print(\"abilities\")\n",
    "# occ_ab = percentage_coverage(ab_dist,df_cps)\n",
    "# print(\"work setting\")\n",
    "# occ_ws = percentage_coverage(ws_dist,df_cps)"
   ]
  },
  {
   "cell_type": "code",
   "execution_count": null,
   "metadata": {},
   "outputs": [],
   "source": []
  },
  {
   "cell_type": "markdown",
   "metadata": {},
   "source": [
    "## Top 10"
   ]
  },
  {
   "cell_type": "code",
   "execution_count": null,
   "metadata": {},
   "outputs": [],
   "source": [
    "# ONET default\n",
    "# 12.30327998606195\n",
    "# 610\n",
    "# Occupational Therapists 83.19753814184264\n",
    "# Audiologists 0.0\n",
    "# Occupational Therapists 77.4223233536707\n",
    "# Psychiatrists 9.39391078293398\n",
    "# Algo 1\n",
    "# 14.957654963925167\n",
    "# 610\n",
    "# First-Line Supervisors of Non-Retail Sales Workers 93.65570632675418\n",
    "# Biological Science Teachers, Postsecondary 0.0\n",
    "# Occupational Therapists 79.21193429924357\n",
    "# Psychiatrists 9.39391078293398\n",
    "# algo 2\n",
    "# 15.150203611587056\n",
    "# 610\n",
    "# First-Line Supervisors of Non-Retail Sales Workers 93.58518644453213\n",
    "# Biological Science Teachers, Postsecondary 0.0\n",
    "# Occupational Therapists 76.9736307458273\n",
    "# Psychiatrists 9.39391078293398\n",
    "# skills\n",
    "# 10.761938070708014\n",
    "# 610\n",
    "# First-Line Supervisors of Non-Retail Sales Workers 93.45955638335593\n",
    "# Psychiatrists 0.0\n",
    "# Title Examiners, Abstractors, and Searchers 68.44221971384758\n",
    "# Psychiatrists 0\n",
    "# work context\n",
    "# 10.657859811575516\n",
    "# 610\n",
    "# Occupational Therapists 80.77457658839083\n",
    "# Psychiatrists 0.0\n",
    "# Occupational Therapists 75.16755335620954\n",
    "# Psychiatrists 0\n",
    "# knowledge\n",
    "# 12.671715501339706\n",
    "# 610\n",
    "# First-Line Supervisors of Non-Retail Sales Workers 93.59691732177119\n",
    "# Audiologists 0.0\n",
    "# Occupational Therapists 71.56777726748102\n",
    "# Psychiatrists 9.39391078293398\n",
    "# genral work activities\n",
    "# 11.832327429486321\n",
    "# 610\n",
    "# Optometrists 87.4116643432956\n",
    "# Audiologists 0.0\n",
    "# Title Examiners, Abstractors, and Searchers 69.44929984347104\n",
    "# Psychiatrists 9.39391078293398\n",
    "# work value\n",
    "# 6.0683701226956055\n",
    "# 610\n",
    "# Radiation Therapists 70.63941879537158\n",
    "# Nurse Anesthetists 0.0\n",
    "# Radiation Therapists 61.58833798592869\n",
    "# Psychiatrists 19.53329345958491\n",
    "# interest\n",
    "# 8.414766411210467\n",
    "# 610\n",
    "# First-Line Supervisors of Non-Retail Sales Workers 93.82561635343902\n",
    "# Curators 0.0\n",
    "# First-Line Supervisors of Non-Retail Sales Workers 62.215262666975434\n",
    "# Psychiatrists 0.3604869380908128\n",
    "# abilities\n",
    "# 10.457553558969988\n",
    "# 610\n",
    "# Title Examiners, Abstractors, and Searchers 82.30568161448473\n",
    "# Audiologists 0.0\n",
    "# Title Examiners, Abstractors, and Searchers 67.99255631465411\n",
    "# Psychiatrists 0.317934589004297\n",
    "# work setting\n",
    "# 6.070237629881494\n",
    "# 610\n",
    "# Title Examiners, Abstractors, and Searchers 82.30568161448473\n",
    "# Audiologists 0.0\n",
    "# Title Examiners, Abstractors, and Searchers 67.99255631465411\n",
    "# Psychiatrists 2.0379341981291943"
   ]
  },
  {
   "cell_type": "markdown",
   "metadata": {},
   "source": [
    "## Top 20"
   ]
  },
  {
   "cell_type": "code",
   "execution_count": null,
   "metadata": {},
   "outputs": [],
   "source": [
    "# ONET default\n",
    "# 17.00152350132241\n",
    "# 569\n",
    "# First-Line Supervisors of Non-Retail Sales Workers 87.19720582811054\n",
    "# Petroleum Engineers 0.0\n",
    "# Occupational Therapists 79.71861719209504\n",
    "# Psychiatrists 9.436463132020497\n",
    "# Algo 1\n",
    "# 20.157148088139543\n",
    "# 569\n",
    "# First-Line Supervisors of Non-Retail Sales Workers 89.3305850797751\n",
    "# Private Detectives and Investigators 0.0\n",
    "# Occupational Therapists 83.76743245968721\n",
    "# Psychiatrists 9.436463132020497\n",
    "# algo 2\n",
    "# 19.845296270656902\n",
    "# 569\n",
    "# First-Line Supervisors of Non-Retail Sales Workers 89.23131888818325\n",
    "# Private Detectives and Investigators 0.0\n",
    "# Occupational Therapists 83.71387649923727\n",
    "# Psychiatrists 9.754397721024795\n",
    "# skills\n",
    "# 14.50071320223328\n",
    "# 569\n",
    "# First-Line Supervisors of Non-Retail Sales Workers 87.99728791972292\n",
    "# Audiologists 0.0\n",
    "# Title Examiners, Abstractors, and Searchers 68.51075986436102\n",
    "# Psychiatrists 9.570318319104194\n",
    "# work context\n",
    "# 14.698606243888175\n",
    "# 569\n",
    "# Occupational Therapists 80.08669903163094\n",
    "# Petroleum Engineers 0.0\n",
    "# Occupational Therapists 79.26549025969348\n",
    "# Psychiatrists 9.244104885791575\n",
    "# knowledge\n",
    "# 18.27738898232911\n",
    "# 569\n",
    "# First-Line Supervisors of Non-Retail Sales Workers 87.20541559832638\n",
    "# Audiologists 0.0\n",
    "# Occupational Therapists 75.67014849552311\n",
    "# Psychiatrists 9.733121546481536\n",
    "# genral work activities\n",
    "# 15.745385724125168\n",
    "# 569\n",
    "# Occupational Therapists 80.08669903163094\n",
    "# Audiologists 0.0\n",
    "# Occupational Therapists 79.26549025969348\n",
    "# Psychiatrists 15.990771674096809\n",
    "# work value\n",
    "# 8.305812619552738\n",
    "# 569\n",
    "# Nurse Practitioners 65.48348694740163\n",
    "# Nurse Anesthetists 0.0\n",
    "# Radiation Therapists 61.58833798592869\n",
    "# Psychiatrists 24.637312362381486\n",
    "# interest\n",
    "# 11.946956823721644\n",
    "# 569\n",
    "# First-Line Supervisors of Non-Retail Sales Workers 87.70273233909465\n",
    "# Curators 0.0\n",
    "# Postal Service Clerks 84.043529949622\n",
    "# Psychiatrists 0.5094201598936182\n",
    "# abilities\n",
    "# 13.640188056376925\n",
    "# 569\n",
    "# Title Examiners, Abstractors, and Searchers 75.51224315682042\n",
    "# Audiologists 0.0\n",
    "# Title Examiners, Abstractors, and Searchers 68.44221971384758\n",
    "# Psychiatrists 2.6472439946287474\n",
    "# work setting\n",
    "# 8.710758743472496\n",
    "# 569\n",
    "# Title Examiners, Abstractors, and Searchers 75.01612990858587\n",
    "# Audiologists 0.0\n",
    "# Respiratory Therapists 70.77391178357794\n",
    "# Psychiatrists 11.431844981063175"
   ]
  },
  {
   "cell_type": "markdown",
   "metadata": {},
   "source": [
    "## Top 50"
   ]
  },
  {
   "cell_type": "code",
   "execution_count": null,
   "metadata": {},
   "outputs": [],
   "source": [
    "# ONET default\n",
    "# 26.620927695763267\n",
    "# 434\n",
    "# Occupational Therapists 84.63236189185216\n",
    "# Museum Technicians and Conservators 0.0\n",
    "# Occupational Therapists 84.54229292527187\n",
    "# Psychiatrists 19.202197876361616\n",
    "# Algo 1\n",
    "# 30.065967663680865\n",
    "# 434\n",
    "# Occupational Therapists 84.02195401297996\n",
    "# Museum Technicians and Conservators 0.0\n",
    "# Occupational Therapists 83.93253466559514\n",
    "# Psychiatrists 22.848961919671954\n",
    "# algo 2\n",
    "# 30.445321068270225\n",
    "# 434\n",
    "# Occupational Therapists 84.69041395806892\n",
    "# Museum Technicians and Conservators 0.0\n",
    "# Occupational Therapists 84.60028321027994\n",
    "# Psychiatrists 16.506389973814574\n",
    "# skills\n",
    "# 22.128976873277793\n",
    "# 434\n",
    "# First-Line Supervisors of Non-Retail Sales Workers 78.79857653826994\n",
    "# Audiologists 0.0\n",
    "# Title Examiners, Abstractors, and Searchers 71.41240257266489\n",
    "# Psychiatrists 9.804356239080036\n",
    "# work context\n",
    "# 23.713811141031805\n",
    "# 434\n",
    "# Occupational Therapists 80.74047037766475\n",
    "# Museum Technicians and Conservators 0.0\n",
    "# Occupational Therapists 80.65454330951303\n",
    "# Psychiatrists 14.433168301049843\n",
    "# knowledge\n",
    "# 27.98233953212392\n",
    "# 434\n",
    "# Occupational Therapists 83.96390194676319\n",
    "# Materials Scientists 0.002744464047177644\n",
    "# Occupational Therapists 83.87454438058705\n",
    "# Psychiatrists 28.11578404984587\n",
    "# genral work activities\n",
    "# 23.093421339453133\n",
    "# 434\n",
    "# Occupational Therapists 81.41336937151577\n",
    "# Museum Technicians and Conservators 0.0\n",
    "# Occupational Therapists 81.32672617875599\n",
    "# Psychiatrists 16.614730670584397\n",
    "# work value\n",
    "# 14.735038211529552\n",
    "# 434\n",
    "# Occupational Therapists 83.73795579085653\n",
    "# Mechanical Drafters 0.0\n",
    "# Occupational Therapists 83.64883868514151\n",
    "# Psychiatrists 35.93617801837723\n",
    "# interest\n",
    "# 21.332168245358215\n",
    "# 434\n",
    "# Occupational Therapists 78.47689809054984\n",
    "# Curators 0.0\n",
    "# Occupational Therapists 78.39338000180177\n",
    "# Psychiatrists 17.43556422986619\n",
    "# abilities\n",
    "# 22.075793929028823\n",
    "# 434\n",
    "# Occupational Therapists 80.92923823839733\n",
    "# Community Health Workers 0.0\n",
    "# Occupational Therapists 80.84311027633505\n",
    "# Psychiatrists 14.214946244347924\n",
    "# work setting\n",
    "# 14.117143131454771\n",
    "# 434\n",
    "# Title Examiners, Abstractors, and Searchers 68.24014209372007\n",
    "# Audiologists 0.0\n",
    "# Title Examiners, Abstractors, and Searchers 67.99255631465411\n",
    "# Psychiatrists 18.313271225235116\n"
   ]
  },
  {
   "cell_type": "code",
   "execution_count": null,
   "metadata": {},
   "outputs": [],
   "source": [
    "# df_score = pd.DataFrame.from_dict(occ_dictionary)\n",
    "# list(occ_dictionary.keys())\n",
    "\n",
    "# df_score = pd.DataFrame.from_dict(occ_dictionary, orient = 'index',  columns= ['score'])\n",
    "# df_score = df_score.sort_values(by = 'score', ascending = False)"
   ]
  },
  {
   "cell_type": "code",
   "execution_count": null,
   "metadata": {},
   "outputs": [],
   "source": [
    "# Use textposition='auto' for direct text\n",
    "# fig = go.Figure(data=[go.Bar(\n",
    "#             x=df_score.index[:30], y=df_score['score'][:30],\n",
    "#             textposition='auto',\n",
    "#         )])\n",
    "# fig.update_layout(barmode='stack', xaxis={'categoryorder':'total descending'})\n",
    "\n",
    "# fig.show()"
   ]
  },
  {
   "cell_type": "code",
   "execution_count": null,
   "metadata": {},
   "outputs": [],
   "source": [
    "def distribution(df):\n",
    "    df_output = pd.DataFrame.from_dict(df, orient = 'index',  columns= ['score'])\n",
    "    df_output = df_output.sort_values(by = 'score', ascending = False)\n",
    "    fig = go.Figure(data=[go.Bar(\n",
    "                x=df_output.index[:30], y=df_output['score'][:10],\n",
    "                textposition='auto',\n",
    "            )])\n",
    "    fig.update_layout(barmode='stack', xaxis={'categoryorder':'total descending'})\n",
    "\n",
    "    fig.show()"
   ]
  },
  {
   "cell_type": "code",
   "execution_count": null,
   "metadata": {},
   "outputs": [],
   "source": [
    "distribution(occ_skills)"
   ]
  },
  {
   "cell_type": "code",
   "execution_count": null,
   "metadata": {},
   "outputs": [],
   "source": [
    "distribution(occ_default)"
   ]
  },
  {
   "cell_type": "code",
   "execution_count": null,
   "metadata": {},
   "outputs": [],
   "source": [
    "distribution(occ_alg1)"
   ]
  },
  {
   "cell_type": "code",
   "execution_count": null,
   "metadata": {},
   "outputs": [],
   "source": [
    "distribution(occ_alg2)"
   ]
  },
  {
   "cell_type": "markdown",
   "metadata": {},
   "source": [
    "### Occupational Therapists"
   ]
  },
  {
   "cell_type": "code",
   "execution_count": null,
   "metadata": {},
   "outputs": [],
   "source": [
    "df_concat.loc['Occupational Therapists'].sort_values()[0:10]"
   ]
  },
  {
   "cell_type": "code",
   "execution_count": null,
   "metadata": {},
   "outputs": [],
   "source": [
    "df_cps[df_cps['ONET18_Title_LY'] == 'Occupational Therapists'].sort_values(by = 'pct_tot', ascending = False)[:10]"
   ]
  },
  {
   "cell_type": "markdown",
   "metadata": {},
   "source": [
    "## First-Line Supervisors of Non-Retail Sales Workers"
   ]
  },
  {
   "cell_type": "code",
   "execution_count": null,
   "metadata": {},
   "outputs": [],
   "source": [
    "df_concat.loc['First-Line Supervisors of Non-Retail Sales Workers'].sort_values()[0:20]"
   ]
  },
  {
   "cell_type": "code",
   "execution_count": null,
   "metadata": {},
   "outputs": [],
   "source": [
    "df_new.loc['First-Line Supervisors of Non-Retail Sales Workers'].sort_values()[0:10]"
   ]
  },
  {
   "cell_type": "code",
   "execution_count": null,
   "metadata": {},
   "outputs": [],
   "source": [
    "df_cps[df_cps['ONET18_Title_LY'] == 'First-Line Supervisors of Non-Retail Sales Workers'].sort_values(by = 'pct_socly', ascending = False)[:10][['ONET18_Title','employment_projection_NewJob','wage_change_BetweenJobs','pct_socly']]"
   ]
  },
  {
   "cell_type": "markdown",
   "metadata": {},
   "source": [
    "## Retail Salespersons"
   ]
  },
  {
   "cell_type": "code",
   "execution_count": null,
   "metadata": {},
   "outputs": [],
   "source": [
    "df_new.loc['Retail Salespersons'].sort_values()[0:10]"
   ]
  },
  {
   "cell_type": "code",
   "execution_count": null,
   "metadata": {
    "scrolled": true
   },
   "outputs": [],
   "source": [
    "df_cps[df_cps['ONET18_Title_LY'] == 'Retail Salespersons'].sort_values(by = 'pct_socly', ascending = False)[:10][['ONET18_Title','employment_projection_NewJob','wage_change_BetweenJobs','pct_socly']]"
   ]
  },
  {
   "cell_type": "markdown",
   "metadata": {},
   "source": [
    "## Tutors"
   ]
  },
  {
   "cell_type": "code",
   "execution_count": null,
   "metadata": {},
   "outputs": [],
   "source": [
    "df_new.loc['Tutors'].sort_values()[0:10]"
   ]
  },
  {
   "cell_type": "code",
   "execution_count": null,
   "metadata": {},
   "outputs": [],
   "source": [
    "df_cps[df_cps['ONET18_Title_LY'] == 'Tutors'].sort_values(by = 'pct_socly', ascending = False)[:10][['ONET18_Title','employment_projection_NewJob','wage_change_BetweenJobs','pct_socly']]"
   ]
  },
  {
   "cell_type": "markdown",
   "metadata": {},
   "source": [
    "## Private Detectives and Investigators "
   ]
  },
  {
   "cell_type": "code",
   "execution_count": null,
   "metadata": {},
   "outputs": [],
   "source": [
    "df_new.loc['Private Detectives and Investigators'].sort_values()[0:10]"
   ]
  },
  {
   "cell_type": "code",
   "execution_count": null,
   "metadata": {},
   "outputs": [],
   "source": [
    "df_cps[df_cps['ONET18_Title_LY'] == 'Private Detectives and Investigators'].sort_values(by = 'pct_socly', ascending = False)[:10][['ONET18_Title','employment_projection_NewJob','wage_change_BetweenJobs','pct_socly']]"
   ]
  },
  {
   "cell_type": "code",
   "execution_count": null,
   "metadata": {},
   "outputs": [],
   "source": []
  }
 ],
 "metadata": {
  "kernelspec": {
   "display_name": "Python 3",
   "language": "python",
   "name": "python3"
  },
  "language_info": {
   "codemirror_mode": {
    "name": "ipython",
    "version": 3
   },
   "file_extension": ".py",
   "mimetype": "text/x-python",
   "name": "python",
   "nbconvert_exporter": "python",
   "pygments_lexer": "ipython3",
   "version": "3.8.5"
  }
 },
 "nbformat": 4,
 "nbformat_minor": 4
}
